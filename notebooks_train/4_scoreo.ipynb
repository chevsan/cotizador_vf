{
 "cells": [
  {
   "cell_type": "code",
   "execution_count": 1,
   "id": "af15bacf",
   "metadata": {},
   "outputs": [],
   "source": [
    "# sería la que reemplace a \"Simulacion\" para hacer con mejores buenas practicas"
   ]
  },
  {
   "cell_type": "code",
   "execution_count": 2,
   "id": "bc38bf5f",
   "metadata": {},
   "outputs": [],
   "source": [
    "# la idea sería importar el pickle que tenga el pipeline completo (procesamiento y modelo)"
   ]
  },
  {
   "cell_type": "code",
   "execution_count": null,
   "id": "eb702d82",
   "metadata": {},
   "outputs": [],
   "source": []
  }
 ],
 "metadata": {
  "kernelspec": {
   "display_name": "Python [conda env:dhdsblend2021] *",
   "language": "python",
   "name": "conda-env-dhdsblend2021-py"
  },
  "language_info": {
   "codemirror_mode": {
    "name": "ipython",
    "version": 3
   },
   "file_extension": ".py",
   "mimetype": "text/x-python",
   "name": "python",
   "nbconvert_exporter": "python",
   "pygments_lexer": "ipython3",
   "version": "3.8.12"
  }
 },
 "nbformat": 4,
 "nbformat_minor": 5
}
