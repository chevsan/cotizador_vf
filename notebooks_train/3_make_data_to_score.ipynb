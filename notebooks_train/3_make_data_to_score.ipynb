{
 "cells": [
  {
   "cell_type": "code",
   "execution_count": 1,
   "id": "f2f0f393",
   "metadata": {},
   "outputs": [],
   "source": [
    "import pandas as pd\n",
    "import numpy as np\n",
    "from sklearn.preprocessing import FunctionTransformer\n",
    "from sklearn.compose import make_column_transformer, ColumnTransformer\n",
    "from sklearn.pipeline import make_pipeline\n",
    "from pathlib import Path\n",
    "import warnings\n",
    "warnings.filterwarnings('ignore')\n",
    "from pandas.io import gbq\n",
    "from datetime import datetime\n",
    "import warnings\n",
    "import openpyxl\n",
    "from catboost import CatBoostRegressor\n",
    "from sklearn.model_selection import train_test_split\n",
    "#!pip install sklearn-pandas\n",
    "from sklearn_pandas import DataFrameMapper"
   ]
  },
  {
   "cell_type": "markdown",
   "id": "a0cc9e74",
   "metadata": {},
   "source": [
    "## 0) Make data to score"
   ]
  },
  {
   "cell_type": "code",
   "execution_count": 1,
   "id": "7a8aca8e",
   "metadata": {},
   "outputs": [],
   "source": [
    "# En esta query lo ideal sería ahorrarnos lo más que se pueda de procesamiento\n",
    "# Ademas que la base sea lo más liviana posible también es clave para cuando el modelo en producción empiece a escalar"
   ]
  },
  {
   "cell_type": "code",
   "execution_count": 31,
   "id": "b086b249",
   "metadata": {},
   "outputs": [],
   "source": [
    "query= '''\n",
    "'''"
   ]
  },
  {
   "cell_type": "code",
   "execution_count": 34,
   "id": "b5b4808a",
   "metadata": {},
   "outputs": [],
   "source": [
    "# Importar tabla OOT de Big Query\n",
    "#df_to_score = gbq.read_gbq(query, project_id=\"data-team-k\")"
   ]
  },
  {
   "cell_type": "markdown",
   "id": "b32a9712",
   "metadata": {},
   "source": [
    "Como prueba de que la query este funcionando bien, comparar con el .shape que hicimos al terminar la limpieza de la nb anterior. La query que hagamos tiene que traernos la misma cantidad de registros!"
   ]
  },
  {
   "cell_type": "code",
   "execution_count": null,
   "id": "f70634ef",
   "metadata": {},
   "outputs": [],
   "source": []
  }
 ],
 "metadata": {
  "kernelspec": {
   "display_name": "Python [conda env:dhdsblend2021] *",
   "language": "python",
   "name": "conda-env-dhdsblend2021-py"
  },
  "language_info": {
   "codemirror_mode": {
    "name": "ipython",
    "version": 3
   },
   "file_extension": ".py",
   "mimetype": "text/x-python",
   "name": "python",
   "nbconvert_exporter": "python",
   "pygments_lexer": "ipython3",
   "version": "3.8.12"
  }
 },
 "nbformat": 4,
 "nbformat_minor": 5
}
