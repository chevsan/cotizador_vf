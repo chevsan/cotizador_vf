{
 "cells": [
  {
   "cell_type": "markdown",
   "id": "eee8703e",
   "metadata": {},
   "source": [
    "## Librerías, modulos y configuración de la notebook "
   ]
  },
  {
   "cell_type": "code",
   "execution_count": 1,
   "id": "368960f4",
   "metadata": {},
   "outputs": [],
   "source": [
    "#### Librerías y modulos ####\n",
    "import pandas as pd\n",
    "import numpy as np\n",
    "import seaborn as sns\n",
    "import os,json\n",
    "import matplotlib.pyplot as plt\n",
    "import sklearn\n",
    "from pandas.io import gbq\n",
    "from datetime import datetime\n",
    "import warnings\n",
    "from sklearn.model_selection import train_test_split\n",
    "from sklearn.model_selection import train_test_split\n",
    "from sklearn.model_selection import GridSearchCV\n",
    "from catboost import CatBoostRegressor"
   ]
  },
  {
   "cell_type": "code",
   "execution_count": 2,
   "id": "44742cd7",
   "metadata": {},
   "outputs": [],
   "source": [
    "#### Configuraciones de la notebook ####\n",
    "#pd.set_option('display.max_columns', 500)\n",
    "#pd.set_option('display.width', 1000)\n",
    "pd.set_option('display.float_format', lambda x: '%.2f' % x)\n",
    "warnings.filterwarnings(\"ignore\")"
   ]
  },
  {
   "cell_type": "code",
   "execution_count": 3,
   "id": "90e1bd68",
   "metadata": {},
   "outputs": [],
   "source": [
    "#### Parametros de la notebook ####\n",
    "path_save = '../datos/'"
   ]
  },
  {
   "cell_type": "markdown",
   "id": "8cfdfa45",
   "metadata": {},
   "source": [
    "## Load data"
   ]
  },
  {
   "cell_type": "code",
   "execution_count": 5,
   "id": "696b2d5a",
   "metadata": {},
   "outputs": [],
   "source": [
    "# Upload del pickle generado en la notebook \"make_data\"\n",
    "df = pd.read_pickle('{}df_meli_2022-02-14.pkl'.format(path_save))"
   ]
  },
  {
   "cell_type": "code",
   "execution_count": 6,
   "id": "c0ecb601",
   "metadata": {},
   "outputs": [
    {
     "data": {
      "text/plain": [
       "(3907159, 42)"
      ]
     },
     "execution_count": 6,
     "metadata": {},
     "output_type": "execute_result"
    }
   ],
   "source": [
    "df.shape"
   ]
  },
  {
   "cell_type": "markdown",
   "id": "8dac7b3c",
   "metadata": {},
   "source": [
    "## Preprocessing "
   ]
  },
  {
   "cell_type": "markdown",
   "id": "ccefe675",
   "metadata": {},
   "source": [
    "**Eliminar duplicados**"
   ]
  },
  {
   "cell_type": "code",
   "execution_count": 6,
   "id": "27437094",
   "metadata": {},
   "outputs": [],
   "source": [
    "# Tratamiento de la feautre \"runtime\"\n",
    "df['runtime'] = pd.to_datetime(df.runtime.apply(lambda x: str(x)[:19]))\n",
    "df = df.sort_values(['runtime'])\n",
    "# Ahora si, teniendo el df ordenado, eliminamos los duplicados, quedandonos con el registro más reciente (la última ocurrencia)\n",
    "df.drop_duplicates(subset=['car_id'], keep='last', inplace=True)"
   ]
  },
  {
   "cell_type": "code",
   "execution_count": 7,
   "id": "1af89c55",
   "metadata": {},
   "outputs": [
    {
     "data": {
      "text/plain": [
       "(166981, 42)"
      ]
     },
     "execution_count": 7,
     "metadata": {},
     "output_type": "execute_result"
    }
   ],
   "source": [
    "df.shape"
   ]
  },
  {
   "cell_type": "markdown",
   "id": "56be5b11",
   "metadata": {},
   "source": [
    "**Dropeamos los precios en dolares**"
   ]
  },
  {
   "cell_type": "markdown",
   "id": "5eb5a94f",
   "metadata": {},
   "source": [
    "Representan un 14% de la base !!! Caía mucho el test sin estos casos"
   ]
  },
  {
   "cell_type": "code",
   "execution_count": 8,
   "id": "57e60526",
   "metadata": {},
   "outputs": [],
   "source": [
    "# # observamos su volumen\n",
    "# mask = df.price_symbol == 'U$S'\n",
    "# display(df[mask].shape)\n",
    "# display(round(df[mask].shape[0]/len(df),2))\n",
    "# # dropeamos\n",
    "# df.drop(list(df[mask].index),axis=0,inplace=True)\n",
    "# display(df.shape)"
   ]
  },
  {
   "cell_type": "code",
   "execution_count": 9,
   "id": "c6eb1fdf",
   "metadata": {},
   "outputs": [],
   "source": [
    "# Construcción del precio final\n",
    "blue= 215\n",
    "oficial= 112.97\n",
    "col1 = 'price_symbol'\n",
    "col2 = 'car_kms'\n",
    "conditions = [df[col1]!='U$S', (df[col1]=='U$S') & (df[col2]==0), (df[col1]=='U$S') & (df[col2]!=0)]\n",
    "choices = [df.price_amount, df['price_amount']*oficial, df['price_amount']*blue]\n",
    "\n",
    "df['price_meli_ok'] = np.select(conditions, choices, default=np.nan)"
   ]
  },
  {
   "cell_type": "markdown",
   "id": "31c8c28b",
   "metadata": {},
   "source": [
    "**Dropeamos 0kms y concesionaria**"
   ]
  },
  {
   "cell_type": "code",
   "execution_count": 10,
   "id": "f7615b8a",
   "metadata": {},
   "outputs": [],
   "source": [
    "df['dealer'] = np.where(df['dealer']==True,1,0)\n",
    "mask_not_0km = df.car_kms > 90\n",
    "mask_not_conces = df.dealer == 0\n",
    "\n",
    "df = df[(mask_not_0km) & (mask_not_conces)]"
   ]
  },
  {
   "cell_type": "code",
   "execution_count": 11,
   "id": "1ffb36ad",
   "metadata": {},
   "outputs": [
    {
     "data": {
      "text/plain": [
       "(69241, 43)"
      ]
     },
     "execution_count": 11,
     "metadata": {},
     "output_type": "execute_result"
    }
   ],
   "source": [
    "df.shape"
   ]
  },
  {
   "cell_type": "markdown",
   "id": "5e5471ac",
   "metadata": {},
   "source": [
    "**Dropeamos match_score por debajo de 50%**"
   ]
  },
  {
   "cell_type": "code",
   "execution_count": 12,
   "id": "4090aa1a",
   "metadata": {},
   "outputs": [
    {
     "data": {
      "text/plain": [
       "score_marca_a    90.00\n",
       "score_modelo_a   50.00\n",
       "score_v1_c       50.00\n",
       "dtype: float64"
      ]
     },
     "execution_count": 12,
     "metadata": {},
     "output_type": "execute_result"
    }
   ],
   "source": [
    "lst = ['score_marca_a','score_modelo_a','score_v1_c']\n",
    "for col in lst:\n",
    "    df = df[df[col]>=50]\n",
    "    \n",
    "# chequeo\n",
    "df[lst].min()"
   ]
  },
  {
   "cell_type": "code",
   "execution_count": 13,
   "id": "69cb72d4",
   "metadata": {},
   "outputs": [
    {
     "data": {
      "text/plain": [
       "(64460, 43)"
      ]
     },
     "execution_count": 13,
     "metadata": {},
     "output_type": "execute_result"
    }
   ],
   "source": [
    "df.shape"
   ]
  },
  {
   "cell_type": "markdown",
   "id": "0d714e1c",
   "metadata": {},
   "source": [
    "**Dropeamos categorías que no nos sirven**"
   ]
  },
  {
   "cell_type": "code",
   "execution_count": 14,
   "id": "df2c1b37",
   "metadata": {},
   "outputs": [],
   "source": [
    "cats_loc1_ok = ['Capital Federal','Bs.As. G.B.A. Sur','Bs.As. G.B.A. Norte'\n",
    "           ,'Bs.As. G.B.A. Oeste','Buenos Aires Interior','Bs.As. Costa Atlántica']\n",
    "mask1 = df.car_location_1.apply(lambda x: x in cats_loc1_ok)\n",
    "cats_brand_ok =['Alfa Romeo','Audi','BMW','Chery','Chevrolet','Citroën','DS','Fiat','Ford','Geely','Haval','Honda',\n",
    " 'Hyundai','JAC','Jeep','Kia','Land Rover','Lifan','Mercedes-Benz','Mini','Mitsubishi','Nissan','Peugeot','Porsche','RAM',\n",
    " 'Renault','SEAT','Shineray','Smart','Subaru','Suzuki','Toyota','Volkswagen','Volvo'] # Exclusion x pedido Edgar: Dodge, Chrysler\n",
    "mask2 = df.brand.apply(lambda x: x in cats_brand_ok)\n",
    "sub_mask = df.brand == 'Jeep'\n",
    "lst_not_renegade = [i for i in df[sub_mask]['match_modelo_a'].unique() if i != 'Renegade']\n",
    "mask3 = df.match_modelo_a.apply(lambda x: x not in lst_not_renegade)\n",
    "df = df[(mask1 & mask2 & mask3)]"
   ]
  },
  {
   "cell_type": "code",
   "execution_count": 15,
   "id": "6b59a5fd",
   "metadata": {},
   "outputs": [
    {
     "data": {
      "text/plain": [
       "(45444, 43)"
      ]
     },
     "execution_count": 15,
     "metadata": {},
     "output_type": "execute_result"
    }
   ],
   "source": [
    "df.shape"
   ]
  },
  {
   "cell_type": "markdown",
   "id": "fa911db3",
   "metadata": {},
   "source": [
    "**Dropeamos registros que no sean de los ultimos 15 días**"
   ]
  },
  {
   "cell_type": "code",
   "execution_count": 16,
   "id": "d632264d",
   "metadata": {},
   "outputs": [
    {
     "data": {
      "text/plain": [
       "Timestamp('2022-02-13 23:01:26')"
      ]
     },
     "execution_count": 16,
     "metadata": {},
     "output_type": "execute_result"
    }
   ],
   "source": [
    "df.runtime.max()"
   ]
  },
  {
   "cell_type": "code",
   "execution_count": 17,
   "id": "c5ac3a13",
   "metadata": {},
   "outputs": [],
   "source": [
    "from datetime import date, datetime, timedelta\n",
    "# df.runtime.max() - timedelta(days=15) "
   ]
  },
  {
   "cell_type": "code",
   "execution_count": 18,
   "id": "53eca172",
   "metadata": {},
   "outputs": [],
   "source": [
    "max_date = df.runtime.max()\n",
    "mask_last15d = (df.runtime <= max_date) & ((df.runtime >= max_date - timedelta(days=15)))\n",
    "df = df[mask_last15d]"
   ]
  },
  {
   "cell_type": "code",
   "execution_count": 19,
   "id": "3cbf257c",
   "metadata": {},
   "outputs": [
    {
     "name": "stdout",
     "output_type": "stream",
     "text": [
      "2022-01-30 00:00:20\n",
      "2022-02-13 23:01:26\n"
     ]
    }
   ],
   "source": [
    "print(df.runtime.min())\n",
    "print(df.runtime.max())"
   ]
  },
  {
   "cell_type": "code",
   "execution_count": 20,
   "id": "b90da610",
   "metadata": {},
   "outputs": [
    {
     "data": {
      "text/plain": [
       "(29677, 43)"
      ]
     },
     "execution_count": 20,
     "metadata": {},
     "output_type": "execute_result"
    }
   ],
   "source": [
    "df.shape"
   ]
  },
  {
   "cell_type": "markdown",
   "id": "c6c266b7",
   "metadata": {},
   "source": [
    "**Salvamos el dataset con las excluciones**"
   ]
  },
  {
   "cell_type": "code",
   "execution_count": 21,
   "id": "0dd80d6e",
   "metadata": {},
   "outputs": [],
   "source": [
    "df.to_csv('{}dataset_final_2022-02-14.pkl'.format(path_save))"
   ]
  },
  {
   "cell_type": "markdown",
   "id": "ab264666",
   "metadata": {},
   "source": [
    "**Dropeamos outliers**"
   ]
  },
  {
   "cell_type": "code",
   "execution_count": 22,
   "id": "98661704",
   "metadata": {},
   "outputs": [
    {
     "name": "stdout",
     "output_type": "stream",
     "text": [
      "q_99_p threshold to drop outliers: 11394836.6\n",
      "q_005_p threshold to drop outliers: 540000.0\n",
      "q_99_km threshold to drop outliers: 310000.0\n",
      "q_005_km threshold to drop outliers: 1000.0\n"
     ]
    }
   ],
   "source": [
    "dic_outl_thres = {}\n",
    "dic_outl_thres['q_99_p'] = np.quantile(df['price_meli_ok'],.99)\n",
    "dic_outl_thres['q_005_p'] = np.quantile(df['price_meli_ok'],0.005)\n",
    "dic_outl_thres['q_99_km'] = np.quantile(df['car_kms'],.99)\n",
    "dic_outl_thres['q_005_km'] = np.quantile(df['car_kms'],0.005)\n",
    "\n",
    "for col in dic_outl_thres:\n",
    "    print('{} threshold to drop outliers: {}'.format(col, dic_outl_thres[col]))"
   ]
  },
  {
   "cell_type": "code",
   "execution_count": 23,
   "id": "d509209b",
   "metadata": {},
   "outputs": [],
   "source": [
    "# Guardamos el diccionario en formato json\n",
    "with open('{}thres_outl.txt'.format(path_save), 'w') as outfile:\n",
    "    json.dump(dic_outl_thres, outfile)"
   ]
  },
  {
   "cell_type": "code",
   "execution_count": 24,
   "id": "c0e80d05",
   "metadata": {},
   "outputs": [
    {
     "name": "stdout",
     "output_type": "stream",
     "text": [
      "(29094, 43)\n"
     ]
    }
   ],
   "source": [
    "# # Aplicamos tanto en train como en test\n",
    "df = df[(df.price_meli_ok <= dic_outl_thres['q_99_p']) & (df.car_kms <= dic_outl_thres['q_99_km'])]\n",
    "print(df.shape)"
   ]
  },
  {
   "cell_type": "code",
   "execution_count": 25,
   "id": "08f7c458",
   "metadata": {},
   "outputs": [
    {
     "data": {
      "text/plain": [
       "count      29094.00\n",
       "mean     2417189.27\n",
       "std      1741298.47\n",
       "min        50000.00\n",
       "0.1%      450000.00\n",
       "1%        600000.00\n",
       "10%       890000.00\n",
       "25%      1250000.00\n",
       "50%      1890000.00\n",
       "75%      3000000.00\n",
       "90%      4690000.00\n",
       "99%      9137500.00\n",
       "max     11394785.00\n",
       "Name: price_meli_ok, dtype: float64"
      ]
     },
     "execution_count": 25,
     "metadata": {},
     "output_type": "execute_result"
    }
   ],
   "source": [
    "# chequeamos distribucion del target\n",
    "df.price_meli_ok.describe(percentiles=[0.001,0.01,0.1,0.25,0.5,0.75,0.9,0.99])"
   ]
  },
  {
   "cell_type": "code",
   "execution_count": 28,
   "id": "a40512c1",
   "metadata": {},
   "outputs": [
    {
     "data": {
      "text/plain": [
       "<AxesSubplot:xlabel='price_meli_ok', ylabel='Density'>"
      ]
     },
     "execution_count": 28,
     "metadata": {},
     "output_type": "execute_result"
    },
    {
     "data": {
      "image/png": "[encoded data removed]",
      "text/plain": [
       "<Figure size 432x288 with 1 Axes>"
      ]
     },
     "metadata": {
      "needs_background": "light"
     },
     "output_type": "display_data"
    }
   ],
   "source": [
    "# chequeamos distribucion del target\n",
    "sns.distplot(df.price_meli_ok)"
   ]
  },
  {
   "cell_type": "markdown",
   "id": "5aab021a",
   "metadata": {},
   "source": [
    "**Dropeamos nulos**"
   ]
  },
  {
   "cell_type": "markdown",
   "id": "cf7e3353",
   "metadata": {},
   "source": [
    "No hay presencial de nulos para imputar o dropear"
   ]
  },
  {
   "cell_type": "markdown",
   "id": "4f85b1c9",
   "metadata": {},
   "source": [
    "## Split"
   ]
  },
  {
   "cell_type": "code",
   "execution_count": 32,
   "id": "a52e7b9d",
   "metadata": {},
   "outputs": [],
   "source": [
    "model_features = ['car_year','car_kms','match_marca_a','match_modelo_a','match_v1_c', 'Subseg_a', 'Seg_a']\n",
    "target = ['price_meli_ok']\n",
    "id_features = ['runtime','car_id']"
   ]
  },
  {
   "cell_type": "code",
   "execution_count": 33,
   "id": "7cbcc374",
   "metadata": {},
   "outputs": [
    {
     "data": {
      "text/plain": [
       "count      29094.00\n",
       "mean     2417189.27\n",
       "std      1741298.47\n",
       "min        50000.00\n",
       "25%      1250000.00\n",
       "50%      1890000.00\n",
       "75%      3000000.00\n",
       "max     11394785.00\n",
       "Name: price_meli_ok, dtype: float64"
      ]
     },
     "execution_count": 33,
     "metadata": {},
     "output_type": "execute_result"
    }
   ],
   "source": [
    "df.price_meli_ok.describe()"
   ]
  },
  {
   "cell_type": "code",
   "execution_count": 36,
   "id": "9ea9570f",
   "metadata": {},
   "outputs": [
    {
     "name": "stdout",
     "output_type": "stream",
     "text": [
      "(23275, 7) (5819, 7)\n"
     ]
    }
   ],
   "source": [
    "X = df[model_features]\n",
    "y = df.price_meli_ok\n",
    "\n",
    "# 200 bines para discretizar la variable continua\n",
    "bins = np.linspace(0, len(y), 200)\n",
    "# Save your Y values in a new ndarray,\n",
    "# broken down by the bins created above.\n",
    "y_binned = np.digitize(y, bins)\n",
    "\n",
    "X_train, X_test, y_train, y_test = train_test_split(X,y, test_size=0.20,  stratify=y_binned,random_state=42)\n",
    "print(X_train.shape, X_test.shape)"
   ]
  },
  {
   "cell_type": "code",
   "execution_count": 37,
   "id": "97921763",
   "metadata": {},
   "outputs": [
    {
     "data": {
      "text/html": [
       "<div>\n",
       "<style scoped>\n",
       "    .dataframe tbody tr th:only-of-type {\n",
       "        vertical-align: middle;\n",
       "    }\n",
       "\n",
       "    .dataframe tbody tr th {\n",
       "        vertical-align: top;\n",
       "    }\n",
       "\n",
       "    .dataframe thead th {\n",
       "        text-align: right;\n",
       "    }\n",
       "</style>\n",
       "<table border=\"1\" class=\"dataframe\">\n",
       "  <thead>\n",
       "    <tr style=\"text-align: right;\">\n",
       "      <th></th>\n",
       "      <th>price_train</th>\n",
       "      <th>price_test</th>\n",
       "    </tr>\n",
       "  </thead>\n",
       "  <tbody>\n",
       "    <tr>\n",
       "      <th>count</th>\n",
       "      <td>23275.00</td>\n",
       "      <td>5819.00</td>\n",
       "    </tr>\n",
       "    <tr>\n",
       "      <th>mean</th>\n",
       "      <td>2416093.85</td>\n",
       "      <td>2421570.79</td>\n",
       "    </tr>\n",
       "    <tr>\n",
       "      <th>std</th>\n",
       "      <td>1740873.62</td>\n",
       "      <td>1743139.62</td>\n",
       "    </tr>\n",
       "    <tr>\n",
       "      <th>min</th>\n",
       "      <td>50000.00</td>\n",
       "      <td>300000.00</td>\n",
       "    </tr>\n",
       "    <tr>\n",
       "      <th>0.1%</th>\n",
       "      <td>450000.00</td>\n",
       "      <td>450000.00</td>\n",
       "    </tr>\n",
       "    <tr>\n",
       "      <th>1%</th>\n",
       "      <td>600000.00</td>\n",
       "      <td>600000.00</td>\n",
       "    </tr>\n",
       "    <tr>\n",
       "      <th>10%</th>\n",
       "      <td>890000.00</td>\n",
       "      <td>880000.00</td>\n",
       "    </tr>\n",
       "    <tr>\n",
       "      <th>25%</th>\n",
       "      <td>1250000.00</td>\n",
       "      <td>1250000.00</td>\n",
       "    </tr>\n",
       "    <tr>\n",
       "      <th>50%</th>\n",
       "      <td>1880000.00</td>\n",
       "      <td>1890000.00</td>\n",
       "    </tr>\n",
       "    <tr>\n",
       "      <th>75%</th>\n",
       "      <td>3000000.00</td>\n",
       "      <td>2985000.00</td>\n",
       "    </tr>\n",
       "    <tr>\n",
       "      <th>90%</th>\n",
       "      <td>4650000.00</td>\n",
       "      <td>4730000.00</td>\n",
       "    </tr>\n",
       "    <tr>\n",
       "      <th>99%</th>\n",
       "      <td>9137500.00</td>\n",
       "      <td>9030000.00</td>\n",
       "    </tr>\n",
       "    <tr>\n",
       "      <th>max</th>\n",
       "      <td>11394785.00</td>\n",
       "      <td>11287500.00</td>\n",
       "    </tr>\n",
       "  </tbody>\n",
       "</table>\n",
       "</div>"
      ],
      "text/plain": [
       "       price_train  price_test\n",
       "count     23275.00     5819.00\n",
       "mean    2416093.85  2421570.79\n",
       "std     1740873.62  1743139.62\n",
       "min       50000.00   300000.00\n",
       "0.1%     450000.00   450000.00\n",
       "1%       600000.00   600000.00\n",
       "10%      890000.00   880000.00\n",
       "25%     1250000.00  1250000.00\n",
       "50%     1880000.00  1890000.00\n",
       "75%     3000000.00  2985000.00\n",
       "90%     4650000.00  4730000.00\n",
       "99%     9137500.00  9030000.00\n",
       "max    11394785.00 11287500.00"
      ]
     },
     "execution_count": 37,
     "metadata": {},
     "output_type": "execute_result"
    }
   ],
   "source": [
    "# chequeamos distribuciones del target en ambos dfs\n",
    "a = pd.concat([y_train.describe(percentiles=[0.001,0.01,0.1,0.25,0.5,0.75,0.9,0.99])\n",
    "              ,y_test.describe(percentiles=[0.001,0.01,0.1,0.25,0.5,0.75,0.9,0.99])],axis=1)\n",
    "a.columns = ['price_train','price_test']\n",
    "a"
   ]
  },
  {
   "cell_type": "code",
   "execution_count": 38,
   "id": "c75eb0b2",
   "metadata": {},
   "outputs": [
    {
     "data": {
      "text/plain": [
       "<AxesSubplot:xlabel='price_meli_ok', ylabel='Density'>"
      ]
     },
     "execution_count": 38,
     "metadata": {},
     "output_type": "execute_result"
    },
    {
     "data": {
      "image/png": "[encoded data removed]",
      "text/plain": [
       "<Figure size 432x288 with 1 Axes>"
      ]
     },
     "metadata": {
      "needs_background": "light"
     },
     "output_type": "display_data"
    }
   ],
   "source": [
    "sns.distplot(y_train)"
   ]
  },
  {
   "cell_type": "code",
   "execution_count": 39,
   "id": "dab04f7d",
   "metadata": {},
   "outputs": [
    {
     "data": {
      "text/plain": [
       "<AxesSubplot:xlabel='price_meli_ok', ylabel='Density'>"
      ]
     },
     "execution_count": 39,
     "metadata": {},
     "output_type": "execute_result"
    },
    {
     "data": {
      "image/png": "[encoded data removed]",
      "text/plain": [
       "<Figure size 432x288 with 1 Axes>"
      ]
     },
     "metadata": {
      "needs_background": "light"
     },
     "output_type": "display_data"
    }
   ],
   "source": [
    "sns.distplot(y_test)"
   ]
  },
  {
   "cell_type": "code",
   "execution_count": 40,
   "id": "435c9c11",
   "metadata": {},
   "outputs": [
    {
     "data": {
      "text/html": [
       "<div>\n",
       "<style scoped>\n",
       "    .dataframe tbody tr th:only-of-type {\n",
       "        vertical-align: middle;\n",
       "    }\n",
       "\n",
       "    .dataframe tbody tr th {\n",
       "        vertical-align: top;\n",
       "    }\n",
       "\n",
       "    .dataframe thead th {\n",
       "        text-align: right;\n",
       "    }\n",
       "</style>\n",
       "<table border=\"1\" class=\"dataframe\">\n",
       "  <thead>\n",
       "    <tr style=\"text-align: right;\">\n",
       "      <th></th>\n",
       "      <th>kms_train</th>\n",
       "      <th>kms_test</th>\n",
       "    </tr>\n",
       "  </thead>\n",
       "  <tbody>\n",
       "    <tr>\n",
       "      <th>count</th>\n",
       "      <td>23275.00</td>\n",
       "      <td>5819.00</td>\n",
       "    </tr>\n",
       "    <tr>\n",
       "      <th>mean</th>\n",
       "      <td>105263.13</td>\n",
       "      <td>105110.45</td>\n",
       "    </tr>\n",
       "    <tr>\n",
       "      <th>std</th>\n",
       "      <td>60624.46</td>\n",
       "      <td>60801.63</td>\n",
       "    </tr>\n",
       "    <tr>\n",
       "      <th>min</th>\n",
       "      <td>108.00</td>\n",
       "      <td>95.00</td>\n",
       "    </tr>\n",
       "    <tr>\n",
       "      <th>0.5%</th>\n",
       "      <td>1000.00</td>\n",
       "      <td>1000.00</td>\n",
       "    </tr>\n",
       "    <tr>\n",
       "      <th>1%</th>\n",
       "      <td>1153.70</td>\n",
       "      <td>1518.00</td>\n",
       "    </tr>\n",
       "    <tr>\n",
       "      <th>10%</th>\n",
       "      <td>29000.00</td>\n",
       "      <td>28000.00</td>\n",
       "    </tr>\n",
       "    <tr>\n",
       "      <th>25%</th>\n",
       "      <td>60000.00</td>\n",
       "      <td>60000.00</td>\n",
       "    </tr>\n",
       "    <tr>\n",
       "      <th>50%</th>\n",
       "      <td>100000.00</td>\n",
       "      <td>99954.00</td>\n",
       "    </tr>\n",
       "    <tr>\n",
       "      <th>75%</th>\n",
       "      <td>143000.00</td>\n",
       "      <td>143369.50</td>\n",
       "    </tr>\n",
       "    <tr>\n",
       "      <th>90%</th>\n",
       "      <td>188000.00</td>\n",
       "      <td>187000.00</td>\n",
       "    </tr>\n",
       "    <tr>\n",
       "      <th>99%</th>\n",
       "      <td>273000.00</td>\n",
       "      <td>273820.00</td>\n",
       "    </tr>\n",
       "    <tr>\n",
       "      <th>max</th>\n",
       "      <td>310000.00</td>\n",
       "      <td>310000.00</td>\n",
       "    </tr>\n",
       "  </tbody>\n",
       "</table>\n",
       "</div>"
      ],
      "text/plain": [
       "       kms_train  kms_test\n",
       "count   23275.00   5819.00\n",
       "mean   105263.13 105110.45\n",
       "std     60624.46  60801.63\n",
       "min       108.00     95.00\n",
       "0.5%     1000.00   1000.00\n",
       "1%       1153.70   1518.00\n",
       "10%     29000.00  28000.00\n",
       "25%     60000.00  60000.00\n",
       "50%    100000.00  99954.00\n",
       "75%    143000.00 143369.50\n",
       "90%    188000.00 187000.00\n",
       "99%    273000.00 273820.00\n",
       "max    310000.00 310000.00"
      ]
     },
     "execution_count": 40,
     "metadata": {},
     "output_type": "execute_result"
    }
   ],
   "source": [
    "# chequeamos distribuciones del target en ambos dfs\n",
    "a = pd.concat([X_train.car_kms.describe(percentiles=[0.005,0.01,0.1,0.25,0.5,0.75,0.9,0.99])\n",
    "              ,X_test.car_kms.describe(percentiles=[0.005, 0.01,0.1,0.25,0.5,0.75,0.9,0.99])],axis=1)\n",
    "a.columns = ['kms_train','kms_test']\n",
    "a"
   ]
  },
  {
   "cell_type": "markdown",
   "id": "8331aefc",
   "metadata": {},
   "source": [
    "## Modelo Baseline"
   ]
  },
  {
   "cell_type": "code",
   "execution_count": 49,
   "id": "8e763fc6",
   "metadata": {},
   "outputs": [
    {
     "name": "stdout",
     "output_type": "stream",
     "text": [
      "Train R2 : 0.919\n",
      "\n",
      "Test  R2 : 0.908\n"
     ]
    }
   ],
   "source": [
    "model=CatBoostRegressor(loss_function='RMSE',logging_level=\"Silent\")\n",
    "categorical_features_indices = np.where(X_train[model_features].dtypes != np.float)[0]\n",
    "model.fit(X_train, y_train, cat_features=categorical_features_indices)#, eval_set=(X_test, y_test))\n",
    "\n",
    "test_preds = model.predict(X_test)\n",
    "train_preds = model.predict(X_train)\n",
    "\n",
    "from catboost.utils import eval_metric\n",
    "\n",
    "print(\"Train R2 : %.3f\"%model.score(X_train, y_train))\n",
    "print(\"\\nTest  R2 : %.3f\"%model.score(X_test, y_test))"
   ]
  },
  {
   "cell_type": "markdown",
   "id": "0c8b90e0",
   "metadata": {},
   "source": [
    "## Optimización de Hiperparametros"
   ]
  },
  {
   "cell_type": "code",
   "execution_count": 52,
   "id": "4e1c520a",
   "metadata": {},
   "outputs": [
    {
     "name": "stdout",
     "output_type": "stream",
     "text": [
      "\n",
      "========================================================\n",
      " Results from Grid Search \n",
      "========================================================\n",
      "\n",
      " The best estimator across ALL searched params:\n",
      " <catboost.core.CatBoostRegressor object at 0x7f9ee1e04e80>\n",
      "\n",
      " The best score across ALL searched params:\n",
      " 0.903949360152815\n",
      "\n",
      " The best parameters across ALL searched params:\n",
      " {'depth': 10, 'iterations': 250, 'l2_leaf_reg': 0.5, 'learning_rate': 0.1}\n",
      "\n",
      " ========================================================\n"
     ]
    }
   ],
   "source": [
    "# A)\n",
    "parameters = {'depth'         : [6,8,10],\n",
    "              'learning_rate' : [0.01, 0.05, 0.1, 0.15],\n",
    "              'iterations'    : [100, 120, 150, 200, 250],\n",
    "              'l2_leaf_reg': [0.2, 0.5, 1, 3]\n",
    "             }\n",
    "\n",
    "\n",
    "#model.fit(X_train, y_train, cat_features=categorical_features_indices)#, eval_set=(X_test, y_test))\n",
    "\n",
    "model=CatBoostRegressor(loss_function='RMSE',logging_level=\"Silent\")\n",
    "grid = GridSearchCV(estimator=model, param_grid = parameters, cv = 5, n_jobs= -1, scoring='r2')\n",
    "categorical_features_indices = np.where(X_train[model_features].dtypes != np.float)[0]\n",
    "grid.fit(X_train, y_train, cat_features=categorical_features_indices)#, eval_set=(X_test, y_test))    \n",
    "\n",
    "# Results from Grid Search\n",
    "print(\"\\n========================================================\")\n",
    "print(\" Results from Grid Search \" )\n",
    "print(\"========================================================\")    \n",
    "\n",
    "print(\"\\n The best estimator across ALL searched params:\\n\",\n",
    "      grid.best_estimator_)\n",
    "\n",
    "print(\"\\n The best score across ALL searched params:\\n\",\n",
    "      grid.best_score_)\n",
    "\n",
    "print(\"\\n The best parameters across ALL searched params:\\n\",\n",
    "      grid.best_params_)\n",
    "\n",
    "print(\"\\n ========================================================\")"
   ]
  },
  {
   "cell_type": "code",
   "execution_count": 57,
   "id": "373c447e",
   "metadata": {},
   "outputs": [
    {
     "name": "stdout",
     "output_type": "stream",
     "text": [
      "\n",
      "========================================================\n",
      " Results from Grid Search \n",
      "========================================================\n",
      "\n",
      " The best estimator across ALL searched params:\n",
      " <catboost.core.CatBoostRegressor object at 0x7f9f156568e0>\n",
      "\n",
      " The best score across ALL searched params:\n",
      " 0.9045289461961161\n",
      "\n",
      " The best parameters across ALL searched params:\n",
      " {'depth': 10, 'iterations': 300, 'l2_leaf_reg': 0.5, 'learning_rate': 0.1}\n",
      "\n",
      " ========================================================\n"
     ]
    }
   ],
   "source": [
    "# B)\n",
    "parameters = {'depth'         : [6,8,10,12],\n",
    "              'learning_rate' : [0.01, 0.05, 0.1, 0.15],\n",
    "              'iterations'    : [100, 120, 150, 200, 250, 300],\n",
    "              'l2_leaf_reg': [0.2, 0.5, 1, 3]\n",
    "             }\n",
    "\n",
    "\n",
    "#model.fit(X_train, y_train, cat_features=categorical_features_indices)#, eval_set=(X_test, y_test))\n",
    "\n",
    "model=CatBoostRegressor(loss_function='RMSE',logging_level=\"Silent\")\n",
    "grid = GridSearchCV(estimator=model, param_grid = parameters, cv = 5, n_jobs= -1, scoring='r2')\n",
    "categorical_features_indices = np.where(X_train[model_features].dtypes != np.float)[0]\n",
    "grid.fit(X_train, y_train, cat_features=categorical_features_indices)#, eval_set=(X_test, y_test))    \n",
    "\n",
    "# Results from Grid Search\n",
    "print(\"\\n========================================================\")\n",
    "print(\" Results from Grid Search \" )\n",
    "print(\"========================================================\")    \n",
    "\n",
    "print(\"\\n The best estimator across ALL searched params:\\n\",\n",
    "      grid.best_estimator_)\n",
    "\n",
    "print(\"\\n The best score across ALL searched params:\\n\",\n",
    "      grid.best_score_)\n",
    "\n",
    "print(\"\\n The best parameters across ALL searched params:\\n\",\n",
    "      grid.best_params_)\n",
    "\n",
    "print(\"\\n ========================================================\")"
   ]
  },
  {
   "cell_type": "code",
   "execution_count": 59,
   "id": "3e2660c1",
   "metadata": {},
   "outputs": [
    {
     "name": "stdout",
     "output_type": "stream",
     "text": [
      "\n",
      "========================================================\n",
      " Results from Grid Search \n",
      "========================================================\n",
      "\n",
      " The best estimator across ALL searched params:\n",
      " <catboost.core.CatBoostRegressor object at 0x7f9ef851c640>\n",
      "\n",
      " The best score across ALL searched params:\n",
      " 0.9050251699254165\n",
      "\n",
      " The best parameters across ALL searched params:\n",
      " {'depth': 10, 'iterations': 400, 'l2_leaf_reg': 1, 'learning_rate': 0.1}\n",
      "\n",
      " ========================================================\n"
     ]
    }
   ],
   "source": [
    "# C)\n",
    "parameters = {'depth'         : [6,8,10,12],\n",
    "              'learning_rate' : [0.01, 0.05, 0.1],\n",
    "              'iterations'    : [100, 120, 150, 200, 250, 300, 350, 400],\n",
    "              'l2_leaf_reg': [0.2, 0.5, 1, 3]\n",
    "             }\n",
    "\n",
    "\n",
    "#model.fit(X_train, y_train, cat_features=categorical_features_indices)#, eval_set=(X_test, y_test))\n",
    "\n",
    "model=CatBoostRegressor(loss_function='RMSE',logging_level=\"Silent\")\n",
    "grid = GridSearchCV(estimator=model, param_grid = parameters, cv = 5, n_jobs= -1, scoring='r2')\n",
    "categorical_features_indices = np.where(X_train[model_features].dtypes != np.float)[0]\n",
    "grid.fit(X_train, y_train, cat_features=categorical_features_indices)#, eval_set=(X_test, y_test))    \n",
    "\n",
    "# Results from Grid Search\n",
    "print(\"\\n========================================================\")\n",
    "print(\" Results from Grid Search \" )\n",
    "print(\"========================================================\")    \n",
    "\n",
    "print(\"\\n The best estimator across ALL searched params:\\n\",\n",
    "      grid.best_estimator_)\n",
    "\n",
    "print(\"\\n The best score across ALL searched params:\\n\",\n",
    "      grid.best_score_)\n",
    "\n",
    "print(\"\\n The best parameters across ALL searched params:\\n\",\n",
    "      grid.best_params_)\n",
    "\n",
    "print(\"\\n ========================================================\")"
   ]
  },
  {
   "cell_type": "markdown",
   "id": "62a411e1",
   "metadata": {},
   "source": [
    "## Final models"
   ]
  },
  {
   "cell_type": "code",
   "execution_count": 54,
   "id": "c3ab8121",
   "metadata": {},
   "outputs": [
    {
     "name": "stdout",
     "output_type": "stream",
     "text": [
      "Train R2 : 0.928\n",
      "\n",
      "Test  R2 : 0.913\n"
     ]
    }
   ],
   "source": [
    "# A)\n",
    "model=CatBoostRegressor(iterations=250, depth=10, learning_rate=0.1, l2_leaf_reg= 0.5,loss_function='RMSE',logging_level=\"Silent\")\n",
    "categorical_features_indices = np.where(X_train[model_features].dtypes != np.float)[0]\n",
    "model.fit(X_train, y_train, cat_features=categorical_features_indices)#, eval_set=(X_test, y_test))\n",
    "\n",
    "test_preds = model.predict(X_test)\n",
    "train_preds = model.predict(X_train)\n",
    "\n",
    "from catboost.utils import eval_metric\n",
    "\n",
    "print(\"Train R2 : %.3f\"%model.score(X_train, y_train))\n",
    "print(\"\\nTest  R2 : %.3f\"%model.score(X_test, y_test))"
   ]
  },
  {
   "cell_type": "code",
   "execution_count": 58,
   "id": "26968a34",
   "metadata": {},
   "outputs": [
    {
     "name": "stdout",
     "output_type": "stream",
     "text": [
      "Train R2 : 0.930\n",
      "\n",
      "Test  R2 : 0.915\n"
     ]
    }
   ],
   "source": [
    "# B)\n",
    "model=CatBoostRegressor(iterations=300, depth=10, learning_rate=0.1, l2_leaf_reg= 0.5,loss_function='RMSE',logging_level=\"Silent\")\n",
    "categorical_features_indices = np.where(X_train[model_features].dtypes != np.float)[0]\n",
    "model.fit(X_train, y_train, cat_features=categorical_features_indices)#, eval_set=(X_test, y_test))\n",
    "\n",
    "test_preds = model.predict(X_test)\n",
    "train_preds = model.predict(X_train)\n",
    "\n",
    "from catboost.utils import eval_metric\n",
    "\n",
    "print(\"Train R2 : %.3f\"%model.score(X_train, y_train))\n",
    "print(\"\\nTest  R2 : %.3f\"%model.score(X_test, y_test))"
   ]
  },
  {
   "cell_type": "code",
   "execution_count": 60,
   "id": "705189e1",
   "metadata": {},
   "outputs": [
    {
     "name": "stdout",
     "output_type": "stream",
     "text": [
      "Train R2 : 0.934\n",
      "\n",
      "Test  R2 : 0.914\n"
     ]
    }
   ],
   "source": [
    "# C)\n",
    "model=CatBoostRegressor(iterations=400, depth=10, learning_rate=0.1, l2_leaf_reg= 1,loss_function='RMSE',logging_level=\"Silent\")\n",
    "categorical_features_indices = np.where(X_train[model_features].dtypes != np.float)[0]\n",
    "model.fit(X_train, y_train, cat_features=categorical_features_indices)#, eval_set=(X_test, y_test))\n",
    "\n",
    "test_preds = model.predict(X_test)\n",
    "train_preds = model.predict(X_train)\n",
    "\n",
    "from catboost.utils import eval_metric\n",
    "\n",
    "print(\"Train R2 : %.3f\"%model.score(X_train, y_train))\n",
    "print(\"\\nTest  R2 : %.3f\"%model.score(X_test, y_test))"
   ]
  },
  {
   "cell_type": "markdown",
   "id": "5381498a",
   "metadata": {},
   "source": [
    "## Best MODEL"
   ]
  },
  {
   "cell_type": "markdown",
   "id": "709e5ae4",
   "metadata": {},
   "source": [
    "*El mejor modelo es con el set de hiperparametros B) !* <br>\n",
    "* iterations=300\n",
    "* depth=10\n",
    "* learning_rate=0.1\n",
    "* l2_leaf_reg= 0.5\n",
    "* loss_function='RMSE'"
   ]
  },
  {
   "cell_type": "code",
   "execution_count": 62,
   "id": "68eb95d9",
   "metadata": {},
   "outputs": [
    {
     "name": "stdout",
     "output_type": "stream",
     "text": [
      "Train R2 : 0.930\n",
      "\n",
      "Test  R2 : 0.915\n"
     ]
    }
   ],
   "source": [
    "model=CatBoostRegressor(iterations=300, depth=10, learning_rate=0.1, l2_leaf_reg= 0.5,loss_function='RMSE',logging_level=\"Silent\")\n",
    "categorical_features_indices = np.where(X_train[model_features].dtypes != np.float)[0]\n",
    "model.fit(X_train, y_train, cat_features=categorical_features_indices)#, eval_set=(X_test, y_test))\n",
    "\n",
    "test_preds = model.predict(X_test)\n",
    "train_preds = model.predict(X_train)\n",
    "\n",
    "from catboost.utils import eval_metric\n",
    "\n",
    "print(\"Train R2 : %.3f\"%model.score(X_train, y_train))\n",
    "print(\"\\nTest  R2 : %.3f\"%model.score(X_test, y_test))"
   ]
  },
  {
   "cell_type": "code",
   "execution_count": 64,
   "id": "a698cf0e",
   "metadata": {},
   "outputs": [
    {
     "data": {
      "text/html": [
       "<div>\n",
       "<style scoped>\n",
       "    .dataframe tbody tr th:only-of-type {\n",
       "        vertical-align: middle;\n",
       "    }\n",
       "\n",
       "    .dataframe tbody tr th {\n",
       "        vertical-align: top;\n",
       "    }\n",
       "\n",
       "    .dataframe thead th {\n",
       "        text-align: right;\n",
       "    }\n",
       "</style>\n",
       "<table border=\"1\" class=\"dataframe\">\n",
       "  <thead>\n",
       "    <tr style=\"text-align: right;\">\n",
       "      <th></th>\n",
       "      <th>Feature Id</th>\n",
       "      <th>Importances</th>\n",
       "    </tr>\n",
       "  </thead>\n",
       "  <tbody>\n",
       "    <tr>\n",
       "      <th>0</th>\n",
       "      <td>car_year</td>\n",
       "      <td>22.50</td>\n",
       "    </tr>\n",
       "    <tr>\n",
       "      <th>1</th>\n",
       "      <td>Subseg_a</td>\n",
       "      <td>18.43</td>\n",
       "    </tr>\n",
       "    <tr>\n",
       "      <th>2</th>\n",
       "      <td>match_marca_a</td>\n",
       "      <td>17.62</td>\n",
       "    </tr>\n",
       "    <tr>\n",
       "      <th>3</th>\n",
       "      <td>match_modelo_a</td>\n",
       "      <td>13.42</td>\n",
       "    </tr>\n",
       "    <tr>\n",
       "      <th>4</th>\n",
       "      <td>car_kms</td>\n",
       "      <td>11.65</td>\n",
       "    </tr>\n",
       "    <tr>\n",
       "      <th>5</th>\n",
       "      <td>Seg_a</td>\n",
       "      <td>9.98</td>\n",
       "    </tr>\n",
       "    <tr>\n",
       "      <th>6</th>\n",
       "      <td>match_v1_c</td>\n",
       "      <td>6.39</td>\n",
       "    </tr>\n",
       "  </tbody>\n",
       "</table>\n",
       "</div>"
      ],
      "text/plain": [
       "       Feature Id  Importances\n",
       "0        car_year        22.50\n",
       "1        Subseg_a        18.43\n",
       "2   match_marca_a        17.62\n",
       "3  match_modelo_a        13.42\n",
       "4         car_kms        11.65\n",
       "5           Seg_a         9.98\n",
       "6      match_v1_c         6.39"
      ]
     },
     "execution_count": 64,
     "metadata": {},
     "output_type": "execute_result"
    }
   ],
   "source": [
    "model.get_feature_importance(prettified=True)"
   ]
  },
  {
   "cell_type": "code",
   "execution_count": 65,
   "id": "2308a753",
   "metadata": {},
   "outputs": [
    {
     "name": "stdout",
     "output_type": "stream",
     "text": [
      "/Users/santiago.lean/repos/kardur_cotizador/notebooks_train\n"
     ]
    }
   ],
   "source": [
    "!pwd"
   ]
  },
  {
   "cell_type": "code",
   "execution_count": 66,
   "id": "fbd971b4",
   "metadata": {},
   "outputs": [],
   "source": [
    "# Save del modelo fiteado\n",
    "\n",
    "path_model_save = '../model/'\n",
    "\n",
    "import pickle\n",
    "with open('{}model_catboost_v2.pickle'.format(path_model_save), 'wb') as f:\n",
    "    pickle.dump(model, f)"
   ]
  },
  {
   "cell_type": "markdown",
   "id": "2e12fed1",
   "metadata": {},
   "source": [
    "## Validacion OOT"
   ]
  },
  {
   "cell_type": "code",
   "execution_count": 55,
   "id": "a687e205",
   "metadata": {},
   "outputs": [],
   "source": [
    "# pending"
   ]
  },
  {
   "cell_type": "code",
   "execution_count": null,
   "id": "f0856e3c",
   "metadata": {},
   "outputs": [],
   "source": []
  },
  {
   "cell_type": "markdown",
   "id": "959e60b9",
   "metadata": {},
   "source": [
    "Mejoras:\n",
    "\n",
    "* Feature flag de los casos raros como 111111 o 9999999 para sumarla como predictora. Si bien ya removimos muchos mediante el capeo de outliers,\n",
    "    si estos casos son por ejemplo 111111 (es decir que no queda un valor extremo) tambien puede que sean absurdos pero no salten en la detecion de outliers\n",
    "    Para esto lo mejor va a ser hacer un Feature flag de precios absurdos (no alcanzados por el capeo de outliers) estos casos no los vamos a dropear pero si a flaguear.\n",
    "* Deteccion outliers más inteligente para kms --> tener en cuenta el año\n",
    "    * Feature flag de outliers kms: esto en lugar que sea para dropear los registros se me ocurrió hacerlo a modo de flag que luego quede como variable predictora\n",
    "* Sumar la feature de discontinuados (Favio)\n",
    "* Los que tengan precios en dolares excluirlos y mandarselos a pricing (hacer un pequeño análisis del volumen de casos). No se pudo!\n",
    "* Tuneo de Hiperparametros. LISTO!\n",
    "* Features de InfoAutos (Cande se esta encargando de eso pero todavía no las tenemos)\n",
    "* Mejor preprocesing a la feature version (ej: standarizar los valores para los casos de nula volatilidad en el precio)"
   ]
  }
 ],
 "metadata": {
  "kernelspec": {
   "display_name": "Python 3 (ipykernel)",
   "language": "python",
   "name": "python3"
  },
  "language_info": {
   "codemirror_mode": {
    "name": "ipython",
    "version": 3
   },
   "file_extension": ".py",
   "mimetype": "text/x-python",
   "name": "python",
   "nbconvert_exporter": "python",
   "pygments_lexer": "ipython3",
   "version": "3.8.12"
  }
 },
 "nbformat": 4,
 "nbformat_minor": 5
}
