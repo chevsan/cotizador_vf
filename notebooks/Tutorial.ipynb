{
 "cells": [
  {
   "cell_type": "markdown",
   "id": "0b93b01f-dd9c-41ec-b77a-ab40d335e700",
   "metadata": {},
   "source": [
    "### *Librerias y modulos*"
   ]
  },
  {
   "cell_type": "code",
   "execution_count": 1,
   "id": "ff60065f-d42b-4b02-908a-ca5252aa2d77",
   "metadata": {},
   "outputs": [],
   "source": [
    "from pathlib import Path\n",
    "import pandas as pd\n",
    "import sys\n",
    "import os\n",
    "sys.path.insert(0, os.path.abspath('../src'))\n",
    "from class_cotiz import Cotizador\n",
    "from funcs_cotizador_vf import *"
   ]
  },
  {
   "cell_type": "markdown",
   "id": "5e4793b2-76ac-43ac-9c62-9892f035fa35",
   "metadata": {},
   "source": [
    "### *Referencias a las carpetas*"
   ]
  },
  {
   "cell_type": "code",
   "execution_count": 2,
   "id": "78251428-ffe9-4c73-bb53-c0065ec940ac",
   "metadata": {},
   "outputs": [],
   "source": [
    "BASE = Path().absolute().parent\n",
    "RAW = Path(BASE/'raw')\n",
    "NOTEBOOKS = Path(BASE/'notebooks')\n",
    "DATA = Path(BASE/'datos')\n",
    "REPORTS_PGM = Path(BASE/'reports_pgm')\n",
    "MODELOS = Path(BASE/'modelos')\n",
    "REPORTS = Path(BASE/'reports')\n",
    "PERFORMANCE = Path(BASE/'performance')\n",
    "DOCS = Path(BASE/'docs')"
   ]
  },
  {
   "cell_type": "markdown",
   "id": "ec21634f-395b-493e-9c9c-142b469af16a",
   "metadata": {},
   "source": [
    "### *Load data*"
   ]
  },
  {
   "cell_type": "code",
   "execution_count": 3,
   "id": "60d1ecdb-04e7-407c-9982-3eed04d2c757",
   "metadata": {},
   "outputs": [
    {
     "data": {
      "text/plain": [
       "(3872110, 27)"
      ]
     },
     "execution_count": 3,
     "metadata": {},
     "output_type": "execute_result"
    }
   ],
   "source": [
    "filename = 'df_meli2.pkl'\n",
    "df = pd.read_pickle(DATA/filename)\n",
    "df.shape"
   ]
  },
  {
   "cell_type": "markdown",
   "id": "2678e246-3733-4371-821b-e42b1257b372",
   "metadata": {},
   "source": [
    "# Tutorial sobre como utilizar la clase"
   ]
  },
  {
   "cell_type": "markdown",
   "id": "7aec8d24-c484-4bad-9099-dd7809d45e6b",
   "metadata": {},
   "source": [
    "### 1) Instanciamos la clase"
   ]
  },
  {
   "cell_type": "markdown",
   "id": "57d552a6-113a-4929-9cff-ae964dfc4d95",
   "metadata": {},
   "source": [
    "Pasamos los parametros correspondientes"
   ]
  },
  {
   "cell_type": "code",
   "execution_count": 3,
   "id": "89a65dbc-9d3a-477e-bc90-45c80cd29ccf",
   "metadata": {},
   "outputs": [
    {
     "name": "stdout",
     "output_type": "stream",
     "text": [
      "Creando cotizador con el nombre kardur\n",
      "\n",
      "\n",
      "Ventana de 10 dias\n",
      "Modelo en dolares\n",
      "Grupos de presencialidad: [1, 2, 3]\n"
     ]
    }
   ],
   "source": [
    "cotiz = Cotizador(name='kardur', ventana=10, moneda='dolares', grupos=[1,2,3])"
   ]
  },
  {
   "cell_type": "code",
   "execution_count": 5,
   "id": "4ac4d129-835d-4e61-9d60-a3e54d6d5a08",
   "metadata": {},
   "outputs": [
    {
     "name": "stdout",
     "output_type": "stream",
     "text": [
      "Observacion de atributos de la clase luego de correr el metodo \"init()\" \n",
      " name:kardur \n",
      " ventana:10 \n",
      " moneda:dolares \n",
      " grupos:[1, 2, 3]\n"
     ]
    }
   ],
   "source": [
    "# sanity check\n",
    "print('Observacion de atributos de la clase luego de correr el metodo \"init()\" \\n'\n",
    "    ,f'name:{cotiz.name} \\n'\n",
    "    ,f'ventana:{cotiz.ventana} \\n'\n",
    "    ,f'moneda:{cotiz.moneda} \\n'\n",
    "    ,f'grupos:{cotiz.grupos}'\n",
    "     )"
   ]
  },
  {
   "cell_type": "markdown",
   "id": "a81bb39f-a2c5-475a-bad0-340fd880f89e",
   "metadata": {
    "jp-MarkdownHeadingCollapsed": true,
    "tags": []
   },
   "source": [
    "### 2) Metodo ***entrenamiento***"
   ]
  },
  {
   "cell_type": "markdown",
   "id": "6e8f43f8-5ef2-46e4-8d99-cd4c3530233c",
   "metadata": {},
   "source": [
    "**Descripcion**: Este metodo solo debemos correrlo en caso de querer entrenar/re-entrenar el modelo. Una vez que el modelo ya este entrenado tenemos los metodos load y predict que se van a encargar de levantar el pickle del modelo ya entrenado y  usarlo para predecir."
   ]
  },
  {
   "cell_type": "markdown",
   "id": "93071627-e903-44ee-9413-20611ecbc837",
   "metadata": {},
   "source": [
    "* Input: dataset de desarrollo\n",
    "* Output:\n",
    "    * Atributos\n",
    "        * self._vd_column: nombre del target en el dataset\n",
    "        * self._score_column: nombre que se le asigna a la columna de las predicciones\n",
    "        * self.random_state: semilla\n",
    "        * self._print_results: boleano para ver si se printean o no las metricas de performance\n",
    "        * self.catboost: pickle con el modelo entrenado\n",
    "        * self.df_eval_desarrollo: df que contiene las metricas de performance de train y de test\n",
    "        * self.columns: listado de las columnas que se usaron para el entrenamiento"
   ]
  },
  {
   "cell_type": "markdown",
   "id": "0b0f5ff1-7d44-48ce-a69b-eb9fa0750114",
   "metadata": {},
   "source": [
    "### Pruebas"
   ]
  },
  {
   "cell_type": "markdown",
   "id": "62ee3289-ec3d-46a8-964f-44de71b0dfca",
   "metadata": {
    "jp-MarkdownHeadingCollapsed": true,
    "tags": []
   },
   "source": [
    "#### *Grupo 1*"
   ]
  },
  {
   "cell_type": "code",
   "execution_count": 6,
   "id": "58059427-f0e2-4578-bc98-b33217f6effa",
   "metadata": {},
   "outputs": [
    {
     "name": "stdout",
     "output_type": "stream",
     "text": [
      "START --- 2022-06-21 10:06:21\n",
      "  vd_column = price_amount\n",
      "  keep = None\n",
      "  drop = None\n",
      "  score_column = cotizacion\n",
      "  random_state = 0\n",
      "  print_results = True\n",
      "\n",
      "\n",
      "Entrenando el modelo...\n",
      "\n",
      "\n",
      "El modelo fue entrenado con exito, a continuacion observaremos las metricas de performance:\n",
      "              mae      mape    medape           mse         rmse  r2_square\n",
      "train  859.741977  7.465740  5.557661  2.346693e+06  1531.891880   0.964075\n",
      "test   908.059958  7.974678  5.860836  2.306818e+06  1518.821257   0.957622\n"
     ]
    }
   ],
   "source": [
    "# ventana 10 y grupo 1\n",
    "cotiz.entrenamiento(df=df, vd_column='price_amount')"
   ]
  },
  {
   "cell_type": "code",
   "execution_count": 13,
   "id": "6b35c335-b294-4cc4-b4f1-521e0c3a2b77",
   "metadata": {},
   "outputs": [
    {
     "name": "stdout",
     "output_type": "stream",
     "text": [
      "START --- 2022-06-21 10:14:48\n",
      "  vd_column = price_amount\n",
      "  keep = None\n",
      "  drop = None\n",
      "  score_column = cotizacion\n",
      "  random_state = 0\n",
      "  print_results = True\n",
      "\n",
      "\n",
      "Entrenando el modelo...\n",
      "\n",
      "\n",
      "El modelo fue entrenado con exito, a continuacion observaremos las metricas de performance:\n",
      "              mae      mape    medape           mse         rmse  r2_square\n",
      "train  816.907083  7.339143  5.445390  1.400420e+06  1183.393214   0.977426\n",
      "test   828.298249  7.438401  5.645374  1.385450e+06  1177.051456   0.973148\n"
     ]
    }
   ],
   "source": [
    "# ventana 15 y grupo 1\n",
    "cotiz.entrenamiento(df=df, vd_column='price_amount')"
   ]
  },
  {
   "cell_type": "code",
   "execution_count": 17,
   "id": "fb25f93e-bcf6-42ee-9541-9baf1a60158d",
   "metadata": {},
   "outputs": [
    {
     "name": "stdout",
     "output_type": "stream",
     "text": [
      "START --- 2022-06-21 10:20:01\n",
      "  vd_column = price_amount\n",
      "  keep = None\n",
      "  drop = None\n",
      "  score_column = cotizacion\n",
      "  random_state = 0\n",
      "  print_results = True\n",
      "\n",
      "\n",
      "Entrenando el modelo...\n",
      "\n",
      "\n",
      "El modelo fue entrenado con exito, a continuacion observaremos las metricas de performance:\n",
      "              mae      mape    medape           mse         rmse  r2_square\n",
      "train  822.030662  7.436201  5.558131  1.425074e+06  1193.764582   0.976660\n",
      "test   832.628909  7.550129  5.535705  1.459107e+06  1207.935098   0.973096\n"
     ]
    }
   ],
   "source": [
    "# ventana 20 y grupo 1\n",
    "cotiz.entrenamiento(df=df, vd_column='price_amount')"
   ]
  },
  {
   "cell_type": "markdown",
   "id": "01044c55-f7b0-4b86-8b37-8dbc8c44b728",
   "metadata": {},
   "source": [
    "***Conclusion***: Usando solo grupo 1, la ventana optima es 15"
   ]
  },
  {
   "cell_type": "markdown",
   "id": "5caf404f-f547-4cd6-bcf5-f616aa2f18b9",
   "metadata": {
    "jp-MarkdownHeadingCollapsed": true,
    "tags": []
   },
   "source": [
    "#### *Grupo 1 y 2*"
   ]
  },
  {
   "cell_type": "code",
   "execution_count": 20,
   "id": "41ded062-1569-4461-bd61-1c30aff97b7a",
   "metadata": {},
   "outputs": [
    {
     "name": "stdout",
     "output_type": "stream",
     "text": [
      "START --- 2022-06-21 10:23:17\n",
      "  vd_column = price_amount\n",
      "  keep = None\n",
      "  drop = None\n",
      "  score_column = cotizacion\n",
      "  random_state = 0\n",
      "  print_results = True\n",
      "\n",
      "\n",
      "Entrenando el modelo...\n",
      "\n",
      "\n",
      "El modelo fue entrenado con exito, a continuacion observaremos las metricas de performance:\n",
      "               mae       mape    medape           mse         rmse  r2_square\n",
      "train  1093.275427   9.849231  6.446417  2.625630e+07  5124.090606   0.707582\n",
      "test   1266.197985  12.524204  6.430441  8.632080e+07  9290.898692  -0.582917\n"
     ]
    }
   ],
   "source": [
    "# ventana 10 y grupo 1 y 2\n",
    "cotiz.entrenamiento(df=df, vd_column='price_amount')"
   ]
  },
  {
   "cell_type": "code",
   "execution_count": 23,
   "id": "7c8960c5-3ea6-4a9c-8f8a-4102711ffe67",
   "metadata": {},
   "outputs": [
    {
     "name": "stdout",
     "output_type": "stream",
     "text": [
      "START --- 2022-06-21 10:29:20\n",
      "  vd_column = price_amount\n",
      "  keep = None\n",
      "  drop = None\n",
      "  score_column = cotizacion\n",
      "  random_state = 0\n",
      "  print_results = True\n",
      "\n",
      "\n",
      "Entrenando el modelo...\n",
      "\n",
      "\n",
      "El modelo fue entrenado con exito, a continuacion observaremos las metricas de performance:\n",
      "              mae      mape    medape           mse         rmse  r2_square\n",
      "train  973.415188  8.359680  6.171318  4.546584e+06  2132.271931   0.941737\n",
      "test   980.933893  8.689004  6.195729  3.024148e+06  1739.007686   0.945111\n"
     ]
    }
   ],
   "source": [
    "# ventana 15 y grupo 1 y 2\n",
    "cotiz.entrenamiento(df=df, vd_column='price_amount')"
   ]
  },
  {
   "cell_type": "code",
   "execution_count": 26,
   "id": "970c0ac1-7646-4962-829c-8352a2023a40",
   "metadata": {},
   "outputs": [
    {
     "name": "stdout",
     "output_type": "stream",
     "text": [
      "START --- 2022-06-21 10:31:30\n",
      "  vd_column = price_amount\n",
      "  keep = None\n",
      "  drop = None\n",
      "  score_column = cotizacion\n",
      "  random_state = 0\n",
      "  print_results = True\n",
      "\n",
      "\n",
      "Entrenando el modelo...\n",
      "\n",
      "\n",
      "El modelo fue entrenado con exito, a continuacion observaremos las metricas de performance:\n",
      "              mae      mape    medape           mse         rmse  r2_square\n",
      "train  910.960027  8.065429  5.979070  2.481503e+06  1575.278833   0.963671\n",
      "test   948.308477  8.566692  6.274893  2.415869e+06  1554.306729   0.956647\n"
     ]
    }
   ],
   "source": [
    "# ventana 20 y grupo 1 y 2 (best model so far)\n",
    "cotiz.entrenamiento(df=df, vd_column='price_amount')"
   ]
  },
  {
   "cell_type": "code",
   "execution_count": 29,
   "id": "99038c1f-f731-4eb2-a1bb-8fedf748fb64",
   "metadata": {},
   "outputs": [
    {
     "name": "stdout",
     "output_type": "stream",
     "text": [
      "START --- 2022-06-21 10:35:47\n",
      "  vd_column = price_amount\n",
      "  keep = None\n",
      "  drop = None\n",
      "  score_column = cotizacion\n",
      "  random_state = 0\n",
      "  print_results = True\n",
      "\n",
      "\n",
      "Entrenando el modelo...\n",
      "\n",
      "\n",
      "El modelo fue entrenado con exito, a continuacion observaremos las metricas de performance:\n",
      "              mae      mape    medape           mse        rmse  r2_square\n",
      "train  937.745904  8.195242  6.091062  6.783142e+06  2604.44662   0.906783\n",
      "test   932.694909  8.475446  6.305119  1.961590e+06  1400.56768   0.962970\n"
     ]
    }
   ],
   "source": [
    "# ventana 25 y grupo 1 y 2\n",
    "cotiz.entrenamiento(df=df, vd_column='price_amount')"
   ]
  },
  {
   "cell_type": "markdown",
   "id": "5c5f2f0f-d941-494d-90f9-cbfea824966d",
   "metadata": {},
   "source": [
    "***Conclusion:*** Usando grupo 1 y 2, el mejor modelo es con ventana de 20"
   ]
  },
  {
   "cell_type": "markdown",
   "id": "c0567ad0-e530-4682-b2b9-58dbb857978a",
   "metadata": {
    "jp-MarkdownHeadingCollapsed": true,
    "tags": []
   },
   "source": [
    "#### *Grupo 1, 2 y 3*"
   ]
  },
  {
   "cell_type": "code",
   "execution_count": 32,
   "id": "525e3294-53d1-449e-8c49-7197af6c92c8",
   "metadata": {},
   "outputs": [
    {
     "name": "stdout",
     "output_type": "stream",
     "text": [
      "START --- 2022-06-21 10:39:30\n",
      "  vd_column = price_amount\n",
      "  keep = None\n",
      "  drop = None\n",
      "  score_column = cotizacion\n",
      "  random_state = 0\n",
      "  print_results = True\n",
      "\n",
      "\n",
      "Entrenando el modelo...\n",
      "\n",
      "\n",
      "El modelo fue entrenado con exito, a continuacion observaremos las metricas de performance:\n",
      "              mae      mape    medape           mse         rmse  r2_square\n",
      "train  987.708509  8.550965  6.304649  3.180074e+06  1783.276283   0.957475\n",
      "test   979.435832  8.571019  6.483846  2.189945e+06  1479.846156   0.960314\n"
     ]
    }
   ],
   "source": [
    "# ventana 10 y grupo 1, 2 y 3\n",
    "cotiz.entrenamiento(df=df, vd_column='price_amount')"
   ]
  },
  {
   "cell_type": "code",
   "execution_count": 35,
   "id": "1f86fc9d-de8d-4a99-8989-7ec8bc362f84",
   "metadata": {},
   "outputs": [
    {
     "name": "stdout",
     "output_type": "stream",
     "text": [
      "START --- 2022-06-21 10:45:04\n",
      "  vd_column = price_amount\n",
      "  keep = None\n",
      "  drop = None\n",
      "  score_column = cotizacion\n",
      "  random_state = 0\n",
      "  print_results = True\n",
      "\n",
      "\n",
      "Entrenando el modelo...\n",
      "\n",
      "\n",
      "El modelo fue entrenado con exito, a continuacion observaremos las metricas de performance:\n",
      "               mae      mape    medape           mse         rmse  r2_square\n",
      "train  1131.458865  9.400122  6.861604  1.652730e+07  4065.378670   0.828329\n",
      "test   1105.495203  9.441466  6.919846  3.823640e+06  1955.412925   0.935597\n"
     ]
    }
   ],
   "source": [
    "# ventana 15 y grupo 1, 2 y 3\n",
    "cotiz.entrenamiento(df=df, vd_column='price_amount')"
   ]
  },
  {
   "cell_type": "code",
   "execution_count": 38,
   "id": "dc4f6afe-9441-481b-9ba8-8295cebb295a",
   "metadata": {},
   "outputs": [
    {
     "name": "stdout",
     "output_type": "stream",
     "text": [
      "START --- 2022-06-21 10:47:40\n",
      "  vd_column = price_amount\n",
      "  keep = None\n",
      "  drop = None\n",
      "  score_column = cotizacion\n",
      "  random_state = 0\n",
      "  print_results = True\n",
      "\n",
      "\n",
      "Entrenando el modelo...\n",
      "\n",
      "\n",
      "El modelo fue entrenado con exito, a continuacion observaremos las metricas de performance:\n",
      "               mae      mape    medape           mse         rmse  r2_square\n",
      "train  1008.324641  8.591718  6.390927  4.974644e+06  2230.391073   0.937273\n",
      "test    991.007543  8.751713  6.532837  2.274066e+06  1508.000507   0.961172\n"
     ]
    }
   ],
   "source": [
    "# ventana 20 y grupo 1, 2 y 3\n",
    "cotiz.entrenamiento(df=df, vd_column='price_amount')"
   ]
  },
  {
   "cell_type": "code",
   "execution_count": 41,
   "id": "d0c12580-faeb-4169-a6ae-87a36e2b72e2",
   "metadata": {},
   "outputs": [
    {
     "name": "stdout",
     "output_type": "stream",
     "text": [
      "START --- 2022-06-21 10:51:09\n",
      "  vd_column = price_amount\n",
      "  keep = None\n",
      "  drop = None\n",
      "  score_column = cotizacion\n",
      "  random_state = 0\n",
      "  print_results = True\n",
      "\n",
      "\n",
      "Entrenando el modelo...\n",
      "\n",
      "\n",
      "El modelo fue entrenado con exito, a continuacion observaremos las metricas de performance:\n",
      "               mae      mape    medape           mse         rmse  r2_square\n",
      "train  1067.766751  8.937320  6.600079  4.661648e+06  2159.084969   0.944610\n",
      "test   1061.999999  8.982716  6.602783  5.848429e+06  2418.352631   0.902386\n"
     ]
    }
   ],
   "source": [
    "# ventana 25 y grupo 1, 2 y 3\n",
    "cotiz.entrenamiento(df=df, vd_column='price_amount')"
   ]
  },
  {
   "cell_type": "markdown",
   "id": "86e0c840-9691-4388-a166-c4c563ebf25f",
   "metadata": {
    "jp-MarkdownHeadingCollapsed": true,
    "tags": []
   },
   "source": [
    "### Best model: Grupo 1, 2 y 3 con ventana 10"
   ]
  },
  {
   "cell_type": "code",
   "execution_count": 6,
   "id": "65105347-125d-47f5-a1e8-25316654b9c8",
   "metadata": {},
   "outputs": [
    {
     "name": "stdout",
     "output_type": "stream",
     "text": [
      "START --- 2022-06-21 10:54:38\n",
      "  vd_column = price_amount\n",
      "  keep = None\n",
      "  drop = None\n",
      "  score_column = cotizacion\n",
      "  random_state = 0\n",
      "  print_results = True\n",
      "\n",
      "\n",
      "Entrenando el modelo...\n",
      "\n",
      "\n",
      "El modelo fue entrenado con exito, a continuacion observaremos las metricas de performance:\n",
      "              mae      mape    medape           mse         rmse  r2_square\n",
      "train  987.708509  8.550965  6.304649  3.180074e+06  1783.276283   0.957475\n",
      "test   979.435832  8.571019  6.483846  2.189945e+06  1479.846156   0.960314\n"
     ]
    }
   ],
   "source": [
    "# ventana 10 y grupo 1, 2 y 3\n",
    "cotiz.entrenamiento(df=df, vd_column='price_amount')"
   ]
  },
  {
   "cell_type": "code",
   "execution_count": 7,
   "id": "f487bc73-2a94-4b83-b371-905ea41a3718",
   "metadata": {},
   "outputs": [
    {
     "name": "stdout",
     "output_type": "stream",
     "text": [
      "Observacion de atributos de la clase luego de correr el metodo \"entrenamiento()\" \n",
      " _vd_column:price_amount \n",
      " _score_column:cotizacion \n",
      " _random_state:0 \n",
      " _print_results:True \n",
      " catboost:<catboost.core.CatBoostRegressor object at 0x7faf808928e0> \n",
      " df_eval_desarrollo:              mae      mape    medape           mse         rmse  r2_square\n",
      "train  987.708509  8.550965  6.304649  3.180074e+06  1783.276283   0.957475\n",
      "test   979.435832  8.571019  6.483846  2.189945e+06  1479.846156   0.960314 \n",
      " Feature importances:       Feature Id  Importances\n",
      "0        car_year    24.058891\n",
      "1        Subseg_a    20.905756\n",
      "2   match_marca_a    15.818061\n",
      "3  match_modelo_a    12.928492\n",
      "4         car_kms    10.479531\n",
      "5           Seg_a     9.925924\n",
      "6      match_v1_a     5.883344 \n",
      " columns:['car_year', 'car_kms', 'match_marca_a', 'match_modelo_a', 'match_v1_a', 'Subseg_a', 'Seg_a', 'price_amount'] \n",
      "\n"
     ]
    }
   ],
   "source": [
    "# sanity check\n",
    "print('Observacion de atributos de la clase luego de correr el metodo \"entrenamiento()\" \\n'\n",
    "    ,f'_vd_column:{cotiz._vd_column} \\n'\n",
    "    ,f'_score_column:{cotiz._score_column} \\n'\n",
    "    ,f'_random_state:{cotiz._random_state} \\n'\n",
    "    ,f'_print_results:{cotiz._print_results} \\n'\n",
    "    ,f'catboost:{cotiz.catboost} \\n'\n",
    "    ,f'df_eval_desarrollo:{cotiz.df_eval_desarrollo} \\n'\n",
    "    ,f'Feature importances:{cotiz.feature_importance} \\n'\n",
    "    ,f'columns:{cotiz.columns} \\n' \n",
    ")"
   ]
  },
  {
   "cell_type": "markdown",
   "id": "dc669356-a300-4ba4-a5db-7824f9f23333",
   "metadata": {
    "jp-MarkdownHeadingCollapsed": true,
    "tags": []
   },
   "source": [
    "### 3) Metodo ***save***"
   ]
  },
  {
   "cell_type": "markdown",
   "id": "a7b0ea37-c1a8-48f7-95c5-4782f6ba7c1b",
   "metadata": {},
   "source": [
    "**Descripcion**: Este metodo servira para guardar el modelo entrenado con el fin de levantarlo posteriormente para hacer predicciones sobre data nueva. Es importante tener en cuenta que si bien el objetivo principal es guardar el modelo entrenado, lo que se va a guardar es la clase completa, es decir la clase con todos atributos que se generaron hasta el momento (uno de los cuales es el modelo)."
   ]
  },
  {
   "cell_type": "markdown",
   "id": "4b443131-3204-4512-8554-af7d6776fa68",
   "metadata": {},
   "source": [
    "* Input:\n",
    "    - Path donde queremos guardar el modelo\n",
    "* Output:\n",
    "    - Print con la info de donde se guardo el modelo y con que nombre"
   ]
  },
  {
   "cell_type": "code",
   "execution_count": 8,
   "id": "86b89c73-364a-443c-a958-ac4c6a271bb8",
   "metadata": {},
   "outputs": [
    {
     "name": "stdout",
     "output_type": "stream",
     "text": [
      "Nombre del archivo: Mod_kardur_20220621.pkl\n",
      "Guardado en: /Users/santiagolean/repos/cotizador_vf/modelos\n"
     ]
    }
   ],
   "source": [
    "cotiz.save(output_route=MODELOS)"
   ]
  },
  {
   "cell_type": "markdown",
   "id": "c3452c0a-2ac1-421e-a95b-cf62eff68e50",
   "metadata": {},
   "source": [
    "### 4) Metodo ***load***"
   ]
  },
  {
   "cell_type": "markdown",
   "id": "bbd4e963-8eca-4573-8d2e-cbbe05a12679",
   "metadata": {},
   "source": [
    "**Descripcion**: Este metodo servira para levantar el modelo ya entrenado para luego usar otro metodo de la clase llamado predict con el fin de hacer predicciones sobre data nueva (data que no sea la de desarrollo sino una validacion out of time o simplemente data nueva para scorear/cotizar).<br>"
   ]
  },
  {
   "cell_type": "code",
   "execution_count": 4,
   "id": "d1a6e158-c1bc-4c81-82f6-ab869ce08ddf",
   "metadata": {},
   "outputs": [
    {
     "name": "stdout",
     "output_type": "stream",
     "text": [
      "El archivo que cargará es: Mod_kardur_20220621.pkl .\n",
      "Si se quiere cargar otro archivo, puede hacerlo introduciendo el parámetro filename\n",
      "\n"
     ]
    }
   ],
   "source": [
    "cotiz = cotiz.load(input_route=MODELOS)"
   ]
  },
  {
   "cell_type": "markdown",
   "id": "dfde6fdc-681f-4bcb-9308-e68261c99591",
   "metadata": {},
   "source": [
    "### 5) Metodo ***predict***"
   ]
  },
  {
   "cell_type": "markdown",
   "id": "10d61715-bd5a-4770-955a-97cff54c1b2e",
   "metadata": {
    "jp-MarkdownHeadingCollapsed": true,
    "tags": []
   },
   "source": [
    "#### *1) Escenario de validacion out of time*"
   ]
  },
  {
   "cell_type": "code",
   "execution_count": 10,
   "id": "f75d350e-8dec-4316-bef8-c5474641ff76",
   "metadata": {},
   "outputs": [],
   "source": [
    "# load data oot\n",
    "df_oot = pd.read_csv('{}/df_score_oot_mayor_2204.csv'.format(DATA),index_col=[0])"
   ]
  },
  {
   "cell_type": "code",
   "execution_count": 11,
   "id": "5fe40c62-e0f2-4958-96b3-8c4097baed5e",
   "metadata": {},
   "outputs": [
    {
     "name": "stdout",
     "output_type": "stream",
     "text": [
      "(557511, 42)\n",
      "2022-04-22 2022-04-26\n"
     ]
    }
   ],
   "source": [
    "# chequeo\n",
    "print(df_oot.shape)\n",
    "print(df_oot.date.min(), df_oot.date.max())"
   ]
  },
  {
   "cell_type": "code",
   "execution_count": 13,
   "id": "21e7e0f5-4a0d-4bee-958f-9efd29197169",
   "metadata": {},
   "outputs": [
    {
     "name": "stdout",
     "output_type": "stream",
     "text": [
      "START --- 2022-06-21 10:57:39\n",
      "                             mae       mape    medape           mse  \\\n",
      "performance_metrics  1043.493297  10.203059  7.619845  2.441526e+06   \n",
      "\n",
      "                            rmse  r2_square  \n",
      "performance_metrics  1562.538189   0.953266  \n",
      "\n",
      "\n",
      "\n",
      "END --- 2022-06-21 10:57:54\n"
     ]
    }
   ],
   "source": [
    "cotiz.predict(df=df_oot, type='validacion')"
   ]
  },
  {
   "cell_type": "code",
   "execution_count": 14,
   "id": "88a88380-430f-4204-89d3-837d0aa6ffef",
   "metadata": {},
   "outputs": [
    {
     "data": {
      "text/html": [
       "<div>\n",
       "<style scoped>\n",
       "    .dataframe tbody tr th:only-of-type {\n",
       "        vertical-align: middle;\n",
       "    }\n",
       "\n",
       "    .dataframe tbody tr th {\n",
       "        vertical-align: top;\n",
       "    }\n",
       "\n",
       "    .dataframe thead th {\n",
       "        text-align: right;\n",
       "    }\n",
       "</style>\n",
       "<table border=\"1\" class=\"dataframe\">\n",
       "  <thead>\n",
       "    <tr style=\"text-align: right;\">\n",
       "      <th></th>\n",
       "      <th>mae</th>\n",
       "      <th>mape</th>\n",
       "      <th>medape</th>\n",
       "      <th>mse</th>\n",
       "      <th>rmse</th>\n",
       "      <th>r2_square</th>\n",
       "    </tr>\n",
       "  </thead>\n",
       "  <tbody>\n",
       "    <tr>\n",
       "      <th>performance_metrics</th>\n",
       "      <td>1043.493297</td>\n",
       "      <td>10.203059</td>\n",
       "      <td>7.619845</td>\n",
       "      <td>2.441526e+06</td>\n",
       "      <td>1562.538189</td>\n",
       "      <td>0.953266</td>\n",
       "    </tr>\n",
       "  </tbody>\n",
       "</table>\n",
       "</div>"
      ],
      "text/plain": [
       "                             mae       mape    medape           mse  \\\n",
       "performance_metrics  1043.493297  10.203059  7.619845  2.441526e+06   \n",
       "\n",
       "                            rmse  r2_square  \n",
       "performance_metrics  1562.538189   0.953266  "
      ]
     },
     "execution_count": 14,
     "metadata": {},
     "output_type": "execute_result"
    }
   ],
   "source": [
    "# Al correr el metodo predict con parametro type='validacion' se nos crea un nuevo atributo llamado self.df_eval_oot\n",
    "cotiz.df_eval_oot"
   ]
  },
  {
   "cell_type": "markdown",
   "id": "e8b56b0b-6e57-46e9-9ab7-dd0d86b4a13b",
   "metadata": {
    "jp-MarkdownHeadingCollapsed": true,
    "tags": []
   },
   "source": [
    "#### *2) Escenario de scoreo (produccion)*"
   ]
  },
  {
   "cell_type": "code",
   "execution_count": 5,
   "id": "5dfa7256-41c4-4db4-8b27-f696b83ba3f2",
   "metadata": {},
   "outputs": [],
   "source": [
    "# load data to score\n",
    "# usaremos la misma data que el escenario anterior solo por fines ilustrativos pero vamos a suponer que esta es data nueva y por lo\n",
    "## tanto no debera contener la variable target, es por eso que la eliminaremos.\n",
    "df_to_score = pd.read_csv('{}/df_score_oot_mayor_2204.csv'.format(DATA),index_col=[0])"
   ]
  },
  {
   "cell_type": "code",
   "execution_count": 6,
   "id": "bc802ed7-02a2-417d-b6bc-0c14a9665fe2",
   "metadata": {},
   "outputs": [],
   "source": [
    "#del df"
   ]
  },
  {
   "cell_type": "code",
   "execution_count": 7,
   "id": "f511a56a-3803-4b63-b2c1-0c0cfe10801d",
   "metadata": {},
   "outputs": [],
   "source": [
    "# Tratamiento para pasar el precio a dolar y desp poder hacer una evaluacion\n",
    "# Target: convertimos los precios en pesos a dolar y los que estan en dolares se mantienen como estan\n",
    "\n",
    "# Columna que nos indique dia de semana para ver cuando es finde\n",
    "df_to_score['date'] = pd.to_datetime(df_to_score['date'])\n",
    "df_to_score['dia_sem'] = df_to_score.date.dt.day_of_week\n",
    "dic = {0:'Monday', 1:'Tuesday', 2:'Wednesday', 3:'Thursday', 4:'Friday', 5:'Saturday', 6:'Sunday'}\n",
    "df_to_score['dia_sem'] = df_to_score.dia_sem.map(dic)\n",
    "df_to_score.dia_sem.unique()\n",
    "# Ahora crearemos una que le ponga la fecha del viernes anterior a todos los dias que sean findesemana\n",
    "df_to_score['date_ok'] = np.where(df_to_score['dia_sem'].apply(lambda x: x in ('Saturday','Sunday'))\n",
    "                         ,np.where(df_to_score['dia_sem']=='Saturday'\n",
    "                                   ,df_to_score['date'] - timedelta(1)\n",
    "                                   ,df_to_score['date'] - timedelta(2))\n",
    "                         ,df_to_score['date'])\n",
    "# Importar tabla de Big Query\n",
    "filter_date = '2022-01-01'\n",
    "query = '''\n",
    "            select *\n",
    "            from `data-team-k.pricing_data.dolar_values` \n",
    "            where date >= '{}'\n",
    "            and source = 'Blue'\n",
    "            order by date\n",
    "\n",
    "            '''.format(filter_date)\n",
    "df_dolar_values = gbq.read_gbq(query, project_id=\"data-team-k\")\n",
    "df_dolar_values.columns = [col.lower() for col in df_dolar_values]\n",
    "df_dolar_values['date'] = pd.to_datetime(df_dolar_values['date'])\n",
    "# Ahora si procedemos a hacer el join con el df_dolar_values\n",
    "df_to_score = df_to_score.merge(df_dolar_values, how='inner', left_on='date_ok', right_on='date')\n",
    "df_to_score.drop(['date_y','source','compra'],1,inplace=True)\n",
    "df_to_score.rename(columns={'venta':'blue_venta'},inplace=True)\n",
    "# Finalmente, creamos la columna de precio final en dolares\n",
    "## Los precios en dolares se mantienen como estan y los precios en pesos se pasan a dolar mediante el blue\n",
    "df_to_score['price_amount'] = np.where(df_to_score.price_symbol == '$', df_to_score.price_amount / df_to_score.blue_venta, df_to_score.price_amount) # pisamos price_amount con su version final la cual es el target"
   ]
  },
  {
   "cell_type": "code",
   "execution_count": 8,
   "id": "47909299-c0b2-4360-ac0a-a3658dbcfce6",
   "metadata": {},
   "outputs": [],
   "source": [
    "model_features = ['car_year','car_kms','match_marca_a','match_modelo_a','match_v1_a','Subseg_a', 'Seg_a']\n",
    "extras = ['dealer']\n",
    "target = ['price_amount']"
   ]
  },
  {
   "cell_type": "code",
   "execution_count": 9,
   "id": "291034b4-d723-4faf-92e7-f2a1e3e776a3",
   "metadata": {},
   "outputs": [
    {
     "data": {
      "text/plain": [
       "(249542, 45)"
      ]
     },
     "execution_count": 9,
     "metadata": {},
     "output_type": "execute_result"
    }
   ],
   "source": [
    "mask1 = df_to_score.dealer != True\n",
    "mask2 = df_to_score.car_kms > 90\n",
    "df_to_score = df_to_score[mask1 & mask2].copy()\n",
    "df_to_score.shape"
   ]
  },
  {
   "cell_type": "code",
   "execution_count": 10,
   "id": "9bd92b50-10c9-4f30-9f8a-51b3ba42f934",
   "metadata": {},
   "outputs": [
    {
     "data": {
      "text/plain": [
       "(659, 45)"
      ]
     },
     "execution_count": 10,
     "metadata": {},
     "output_type": "execute_result"
    }
   ],
   "source": [
    "mask1 = df_to_score.match_modelo_a == 'Amarok'\n",
    "mask2 = df_to_score.match_v1_a == '3.0 TDI V6 (224cv) 4x4 C/Doble Extreme AT (L17)'\n",
    "df_to_score = df_to_score[mask1 & mask2].copy()\n",
    "df_to_score.shape"
   ]
  },
  {
   "cell_type": "code",
   "execution_count": 11,
   "id": "56985171-c6bf-42bb-8c98-e084807b532b",
   "metadata": {},
   "outputs": [],
   "source": [
    "df_to_score.reset_index(drop=True,inplace=True)"
   ]
  },
  {
   "cell_type": "code",
   "execution_count": 12,
   "id": "56516272-c2d5-4b84-82fb-ebfce5e56141",
   "metadata": {},
   "outputs": [],
   "source": [
    "df_to_score = df_to_score[model_features + extras + target].head(10)"
   ]
  },
  {
   "cell_type": "code",
   "execution_count": 13,
   "id": "97cd68f8-12ce-4c2e-aa67-725edccd6f55",
   "metadata": {},
   "outputs": [],
   "source": [
    "y_true = df_to_score.price_amount"
   ]
  },
  {
   "cell_type": "code",
   "execution_count": 14,
   "id": "43388334-7980-4132-9990-e2e926323862",
   "metadata": {},
   "outputs": [],
   "source": [
    "df_to_score.drop(labels=['price_amount'],axis=1,inplace=True)"
   ]
  },
  {
   "cell_type": "code",
   "execution_count": 15,
   "id": "b99a94c7-786c-42dc-a352-8f3b7f4c9969",
   "metadata": {},
   "outputs": [
    {
     "data": {
      "text/plain": [
       "(10, 8)"
      ]
     },
     "execution_count": 15,
     "metadata": {},
     "output_type": "execute_result"
    }
   ],
   "source": [
    "df_to_score.shape"
   ]
  },
  {
   "cell_type": "code",
   "execution_count": 16,
   "id": "671c9bd2-10db-45ff-88aa-0fe0e4e6c1c3",
   "metadata": {},
   "outputs": [
    {
     "data": {
      "text/html": [
       "<div>\n",
       "<style scoped>\n",
       "    .dataframe tbody tr th:only-of-type {\n",
       "        vertical-align: middle;\n",
       "    }\n",
       "\n",
       "    .dataframe tbody tr th {\n",
       "        vertical-align: top;\n",
       "    }\n",
       "\n",
       "    .dataframe thead th {\n",
       "        text-align: right;\n",
       "    }\n",
       "</style>\n",
       "<table border=\"1\" class=\"dataframe\">\n",
       "  <thead>\n",
       "    <tr style=\"text-align: right;\">\n",
       "      <th></th>\n",
       "      <th>car_year</th>\n",
       "      <th>car_kms</th>\n",
       "      <th>match_marca_a</th>\n",
       "      <th>match_modelo_a</th>\n",
       "      <th>match_v1_a</th>\n",
       "      <th>Subseg_a</th>\n",
       "      <th>Seg_a</th>\n",
       "      <th>dealer</th>\n",
       "    </tr>\n",
       "  </thead>\n",
       "  <tbody>\n",
       "    <tr>\n",
       "      <th>0</th>\n",
       "      <td>2018</td>\n",
       "      <td>42000.0</td>\n",
       "      <td>VOLKSWAGEN</td>\n",
       "      <td>Amarok</td>\n",
       "      <td>3.0 TDI V6 (224cv) 4x4 C/Doble Extreme AT (L17)</td>\n",
       "      <td>Pickups Medianas-Grandes</td>\n",
       "      <td>Livianos</td>\n",
       "      <td>False</td>\n",
       "    </tr>\n",
       "    <tr>\n",
       "      <th>1</th>\n",
       "      <td>2018</td>\n",
       "      <td>138000.0</td>\n",
       "      <td>VOLKSWAGEN</td>\n",
       "      <td>Amarok</td>\n",
       "      <td>3.0 TDI V6 (224cv) 4x4 C/Doble Extreme AT (L17)</td>\n",
       "      <td>Pickups Medianas-Grandes</td>\n",
       "      <td>Livianos</td>\n",
       "      <td>False</td>\n",
       "    </tr>\n",
       "    <tr>\n",
       "      <th>2</th>\n",
       "      <td>2017</td>\n",
       "      <td>100000.0</td>\n",
       "      <td>VOLKSWAGEN</td>\n",
       "      <td>Amarok</td>\n",
       "      <td>3.0 TDI V6 (224cv) 4x4 C/Doble Extreme AT (L17)</td>\n",
       "      <td>Pickups Medianas-Grandes</td>\n",
       "      <td>Livianos</td>\n",
       "      <td>False</td>\n",
       "    </tr>\n",
       "    <tr>\n",
       "      <th>3</th>\n",
       "      <td>2018</td>\n",
       "      <td>110000.0</td>\n",
       "      <td>VOLKSWAGEN</td>\n",
       "      <td>Amarok</td>\n",
       "      <td>3.0 TDI V6 (224cv) 4x4 C/Doble Extreme AT (L17)</td>\n",
       "      <td>Pickups Medianas-Grandes</td>\n",
       "      <td>Livianos</td>\n",
       "      <td>False</td>\n",
       "    </tr>\n",
       "    <tr>\n",
       "      <th>4</th>\n",
       "      <td>2019</td>\n",
       "      <td>81500.0</td>\n",
       "      <td>VOLKSWAGEN</td>\n",
       "      <td>Amarok</td>\n",
       "      <td>3.0 TDI V6 (224cv) 4x4 C/Doble Extreme AT (L17)</td>\n",
       "      <td>Pickups Medianas-Grandes</td>\n",
       "      <td>Livianos</td>\n",
       "      <td>False</td>\n",
       "    </tr>\n",
       "  </tbody>\n",
       "</table>\n",
       "</div>"
      ],
      "text/plain": [
       "   car_year   car_kms match_marca_a match_modelo_a  \\\n",
       "0      2018   42000.0    VOLKSWAGEN         Amarok   \n",
       "1      2018  138000.0    VOLKSWAGEN         Amarok   \n",
       "2      2017  100000.0    VOLKSWAGEN         Amarok   \n",
       "3      2018  110000.0    VOLKSWAGEN         Amarok   \n",
       "4      2019   81500.0    VOLKSWAGEN         Amarok   \n",
       "\n",
       "                                        match_v1_a                  Subseg_a  \\\n",
       "0  3.0 TDI V6 (224cv) 4x4 C/Doble Extreme AT (L17)  Pickups Medianas-Grandes   \n",
       "1  3.0 TDI V6 (224cv) 4x4 C/Doble Extreme AT (L17)  Pickups Medianas-Grandes   \n",
       "2  3.0 TDI V6 (224cv) 4x4 C/Doble Extreme AT (L17)  Pickups Medianas-Grandes   \n",
       "3  3.0 TDI V6 (224cv) 4x4 C/Doble Extreme AT (L17)  Pickups Medianas-Grandes   \n",
       "4  3.0 TDI V6 (224cv) 4x4 C/Doble Extreme AT (L17)  Pickups Medianas-Grandes   \n",
       "\n",
       "      Seg_a  dealer  \n",
       "0  Livianos   False  \n",
       "1  Livianos   False  \n",
       "2  Livianos   False  \n",
       "3  Livianos   False  \n",
       "4  Livianos   False  "
      ]
     },
     "execution_count": 16,
     "metadata": {},
     "output_type": "execute_result"
    }
   ],
   "source": [
    "df_to_score.head()"
   ]
  },
  {
   "cell_type": "code",
   "execution_count": 17,
   "id": "1c074d1e-0f40-42f5-9d35-ea47e6b21503",
   "metadata": {},
   "outputs": [
    {
     "name": "stdout",
     "output_type": "stream",
     "text": [
      "START --- 2022-06-21 11:56:08\n",
      "\n",
      "\n",
      "\n",
      "END --- 2022-06-21 11:56:08\n"
     ]
    }
   ],
   "source": [
    "cotizaciones = cotiz.predict(df=df_to_score, type='scoreo')"
   ]
  },
  {
   "cell_type": "code",
   "execution_count": 18,
   "id": "6393cfb5-62e2-467d-8166-6476e29607e0",
   "metadata": {},
   "outputs": [
    {
     "data": {
      "text/html": [
       "<div>\n",
       "<style scoped>\n",
       "    .dataframe tbody tr th:only-of-type {\n",
       "        vertical-align: middle;\n",
       "    }\n",
       "\n",
       "    .dataframe tbody tr th {\n",
       "        vertical-align: top;\n",
       "    }\n",
       "\n",
       "    .dataframe thead th {\n",
       "        text-align: right;\n",
       "    }\n",
       "</style>\n",
       "<table border=\"1\" class=\"dataframe\">\n",
       "  <thead>\n",
       "    <tr style=\"text-align: right;\">\n",
       "      <th></th>\n",
       "      <th>car_year</th>\n",
       "      <th>car_kms</th>\n",
       "      <th>match_marca_a</th>\n",
       "      <th>match_modelo_a</th>\n",
       "      <th>match_v1_a</th>\n",
       "      <th>Subseg_a</th>\n",
       "      <th>Seg_a</th>\n",
       "      <th>cotizacion</th>\n",
       "    </tr>\n",
       "  </thead>\n",
       "  <tbody>\n",
       "    <tr>\n",
       "      <th>0</th>\n",
       "      <td>2018.0</td>\n",
       "      <td>42000.0</td>\n",
       "      <td>VOLKSWAGEN</td>\n",
       "      <td>Amarok</td>\n",
       "      <td>3.0 TDI V6 (224cv) 4x4 C/Doble Extreme AT (L17)</td>\n",
       "      <td>Pickups Medianas-Grandes</td>\n",
       "      <td>Livianos</td>\n",
       "      <td>44570.801317</td>\n",
       "    </tr>\n",
       "    <tr>\n",
       "      <th>1</th>\n",
       "      <td>2018.0</td>\n",
       "      <td>138000.0</td>\n",
       "      <td>VOLKSWAGEN</td>\n",
       "      <td>Amarok</td>\n",
       "      <td>3.0 TDI V6 (224cv) 4x4 C/Doble Extreme AT (L17)</td>\n",
       "      <td>Pickups Medianas-Grandes</td>\n",
       "      <td>Livianos</td>\n",
       "      <td>40027.820678</td>\n",
       "    </tr>\n",
       "    <tr>\n",
       "      <th>2</th>\n",
       "      <td>2017.0</td>\n",
       "      <td>100000.0</td>\n",
       "      <td>VOLKSWAGEN</td>\n",
       "      <td>Amarok</td>\n",
       "      <td>3.0 TDI V6 (224cv) 4x4 C/Doble Extreme AT (L17)</td>\n",
       "      <td>Pickups Medianas-Grandes</td>\n",
       "      <td>Livianos</td>\n",
       "      <td>39337.647797</td>\n",
       "    </tr>\n",
       "    <tr>\n",
       "      <th>3</th>\n",
       "      <td>2018.0</td>\n",
       "      <td>110000.0</td>\n",
       "      <td>VOLKSWAGEN</td>\n",
       "      <td>Amarok</td>\n",
       "      <td>3.0 TDI V6 (224cv) 4x4 C/Doble Extreme AT (L17)</td>\n",
       "      <td>Pickups Medianas-Grandes</td>\n",
       "      <td>Livianos</td>\n",
       "      <td>41044.645766</td>\n",
       "    </tr>\n",
       "    <tr>\n",
       "      <th>4</th>\n",
       "      <td>2019.0</td>\n",
       "      <td>81500.0</td>\n",
       "      <td>VOLKSWAGEN</td>\n",
       "      <td>Amarok</td>\n",
       "      <td>3.0 TDI V6 (224cv) 4x4 C/Doble Extreme AT (L17)</td>\n",
       "      <td>Pickups Medianas-Grandes</td>\n",
       "      <td>Livianos</td>\n",
       "      <td>45059.107974</td>\n",
       "    </tr>\n",
       "    <tr>\n",
       "      <th>5</th>\n",
       "      <td>2018.0</td>\n",
       "      <td>98000.0</td>\n",
       "      <td>VOLKSWAGEN</td>\n",
       "      <td>Amarok</td>\n",
       "      <td>3.0 TDI V6 (224cv) 4x4 C/Doble Extreme AT (L17)</td>\n",
       "      <td>Pickups Medianas-Grandes</td>\n",
       "      <td>Livianos</td>\n",
       "      <td>41527.831949</td>\n",
       "    </tr>\n",
       "    <tr>\n",
       "      <th>6</th>\n",
       "      <td>2019.0</td>\n",
       "      <td>17500.0</td>\n",
       "      <td>VOLKSWAGEN</td>\n",
       "      <td>Amarok</td>\n",
       "      <td>3.0 TDI V6 (224cv) 4x4 C/Doble Extreme AT (L17)</td>\n",
       "      <td>Pickups Medianas-Grandes</td>\n",
       "      <td>Livianos</td>\n",
       "      <td>49183.282110</td>\n",
       "    </tr>\n",
       "    <tr>\n",
       "      <th>7</th>\n",
       "      <td>2019.0</td>\n",
       "      <td>18900.0</td>\n",
       "      <td>VOLKSWAGEN</td>\n",
       "      <td>Amarok</td>\n",
       "      <td>3.0 TDI V6 (224cv) 4x4 C/Doble Extreme AT (L17)</td>\n",
       "      <td>Pickups Medianas-Grandes</td>\n",
       "      <td>Livianos</td>\n",
       "      <td>49222.126269</td>\n",
       "    </tr>\n",
       "    <tr>\n",
       "      <th>8</th>\n",
       "      <td>2018.0</td>\n",
       "      <td>70000.0</td>\n",
       "      <td>VOLKSWAGEN</td>\n",
       "      <td>Amarok</td>\n",
       "      <td>3.0 TDI V6 (224cv) 4x4 C/Doble Extreme AT (L17)</td>\n",
       "      <td>Pickups Medianas-Grandes</td>\n",
       "      <td>Livianos</td>\n",
       "      <td>43494.939716</td>\n",
       "    </tr>\n",
       "    <tr>\n",
       "      <th>9</th>\n",
       "      <td>2018.0</td>\n",
       "      <td>96000.0</td>\n",
       "      <td>VOLKSWAGEN</td>\n",
       "      <td>Amarok</td>\n",
       "      <td>3.0 TDI V6 (224cv) 4x4 C/Doble Extreme AT (L17)</td>\n",
       "      <td>Pickups Medianas-Grandes</td>\n",
       "      <td>Livianos</td>\n",
       "      <td>41525.261175</td>\n",
       "    </tr>\n",
       "  </tbody>\n",
       "</table>\n",
       "</div>"
      ],
      "text/plain": [
       "   car_year   car_kms match_marca_a match_modelo_a  \\\n",
       "0    2018.0   42000.0    VOLKSWAGEN         Amarok   \n",
       "1    2018.0  138000.0    VOLKSWAGEN         Amarok   \n",
       "2    2017.0  100000.0    VOLKSWAGEN         Amarok   \n",
       "3    2018.0  110000.0    VOLKSWAGEN         Amarok   \n",
       "4    2019.0   81500.0    VOLKSWAGEN         Amarok   \n",
       "5    2018.0   98000.0    VOLKSWAGEN         Amarok   \n",
       "6    2019.0   17500.0    VOLKSWAGEN         Amarok   \n",
       "7    2019.0   18900.0    VOLKSWAGEN         Amarok   \n",
       "8    2018.0   70000.0    VOLKSWAGEN         Amarok   \n",
       "9    2018.0   96000.0    VOLKSWAGEN         Amarok   \n",
       "\n",
       "                                        match_v1_a                  Subseg_a  \\\n",
       "0  3.0 TDI V6 (224cv) 4x4 C/Doble Extreme AT (L17)  Pickups Medianas-Grandes   \n",
       "1  3.0 TDI V6 (224cv) 4x4 C/Doble Extreme AT (L17)  Pickups Medianas-Grandes   \n",
       "2  3.0 TDI V6 (224cv) 4x4 C/Doble Extreme AT (L17)  Pickups Medianas-Grandes   \n",
       "3  3.0 TDI V6 (224cv) 4x4 C/Doble Extreme AT (L17)  Pickups Medianas-Grandes   \n",
       "4  3.0 TDI V6 (224cv) 4x4 C/Doble Extreme AT (L17)  Pickups Medianas-Grandes   \n",
       "5  3.0 TDI V6 (224cv) 4x4 C/Doble Extreme AT (L17)  Pickups Medianas-Grandes   \n",
       "6  3.0 TDI V6 (224cv) 4x4 C/Doble Extreme AT (L17)  Pickups Medianas-Grandes   \n",
       "7  3.0 TDI V6 (224cv) 4x4 C/Doble Extreme AT (L17)  Pickups Medianas-Grandes   \n",
       "8  3.0 TDI V6 (224cv) 4x4 C/Doble Extreme AT (L17)  Pickups Medianas-Grandes   \n",
       "9  3.0 TDI V6 (224cv) 4x4 C/Doble Extreme AT (L17)  Pickups Medianas-Grandes   \n",
       "\n",
       "      Seg_a    cotizacion  \n",
       "0  Livianos  44570.801317  \n",
       "1  Livianos  40027.820678  \n",
       "2  Livianos  39337.647797  \n",
       "3  Livianos  41044.645766  \n",
       "4  Livianos  45059.107974  \n",
       "5  Livianos  41527.831949  \n",
       "6  Livianos  49183.282110  \n",
       "7  Livianos  49222.126269  \n",
       "8  Livianos  43494.939716  \n",
       "9  Livianos  41525.261175  "
      ]
     },
     "execution_count": 18,
     "metadata": {},
     "output_type": "execute_result"
    }
   ],
   "source": [
    "cotizaciones"
   ]
  },
  {
   "cell_type": "code",
   "execution_count": 19,
   "id": "6c0c4050-a9bb-4f57-bd7a-ad97a416645a",
   "metadata": {},
   "outputs": [
    {
     "name": "stdout",
     "output_type": "stream",
     "text": [
      "MAE: 4065.4765061887397\n",
      "MAPE: 10.177289300466432\n",
      "MEDAPE: 9.842794445215162\n",
      "MSE: 22941744.179718293\n",
      "RMSE: 4789.754083428323\n",
      "R2 Square -3.7240814316050006\n",
      "__________________________________\n"
     ]
    }
   ],
   "source": [
    "# Evaluamos\n",
    "preds = cotizaciones.cotizacion\n",
    "print_evaluate(y_true, preds)"
   ]
  },
  {
   "cell_type": "code",
   "execution_count": 20,
   "id": "66d9d753-98c9-4b92-9963-53780532c49e",
   "metadata": {},
   "outputs": [],
   "source": [
    "cotizaciones['price_amount'] = y_true"
   ]
  },
  {
   "cell_type": "code",
   "execution_count": 21,
   "id": "03a520b9-ae10-47fe-a485-7457a9ee0ec7",
   "metadata": {},
   "outputs": [
    {
     "data": {
      "text/html": [
       "<div>\n",
       "<style scoped>\n",
       "    .dataframe tbody tr th:only-of-type {\n",
       "        vertical-align: middle;\n",
       "    }\n",
       "\n",
       "    .dataframe tbody tr th {\n",
       "        vertical-align: top;\n",
       "    }\n",
       "\n",
       "    .dataframe thead th {\n",
       "        text-align: right;\n",
       "    }\n",
       "</style>\n",
       "<table border=\"1\" class=\"dataframe\">\n",
       "  <thead>\n",
       "    <tr style=\"text-align: right;\">\n",
       "      <th></th>\n",
       "      <th>car_year</th>\n",
       "      <th>car_kms</th>\n",
       "      <th>match_marca_a</th>\n",
       "      <th>match_modelo_a</th>\n",
       "      <th>match_v1_a</th>\n",
       "      <th>Subseg_a</th>\n",
       "      <th>Seg_a</th>\n",
       "      <th>cotizacion</th>\n",
       "      <th>price_amount</th>\n",
       "    </tr>\n",
       "  </thead>\n",
       "  <tbody>\n",
       "    <tr>\n",
       "      <th>0</th>\n",
       "      <td>2018.0</td>\n",
       "      <td>42000.0</td>\n",
       "      <td>VOLKSWAGEN</td>\n",
       "      <td>Amarok</td>\n",
       "      <td>3.0 TDI V6 (224cv) 4x4 C/Doble Extreme AT (L17)</td>\n",
       "      <td>Pickups Medianas-Grandes</td>\n",
       "      <td>Livianos</td>\n",
       "      <td>44570.801317</td>\n",
       "      <td>38423.645320</td>\n",
       "    </tr>\n",
       "    <tr>\n",
       "      <th>1</th>\n",
       "      <td>2018.0</td>\n",
       "      <td>138000.0</td>\n",
       "      <td>VOLKSWAGEN</td>\n",
       "      <td>Amarok</td>\n",
       "      <td>3.0 TDI V6 (224cv) 4x4 C/Doble Extreme AT (L17)</td>\n",
       "      <td>Pickups Medianas-Grandes</td>\n",
       "      <td>Livianos</td>\n",
       "      <td>40027.820678</td>\n",
       "      <td>38500.000000</td>\n",
       "    </tr>\n",
       "    <tr>\n",
       "      <th>2</th>\n",
       "      <td>2017.0</td>\n",
       "      <td>100000.0</td>\n",
       "      <td>VOLKSWAGEN</td>\n",
       "      <td>Amarok</td>\n",
       "      <td>3.0 TDI V6 (224cv) 4x4 C/Doble Extreme AT (L17)</td>\n",
       "      <td>Pickups Medianas-Grandes</td>\n",
       "      <td>Livianos</td>\n",
       "      <td>39337.647797</td>\n",
       "      <td>38423.645320</td>\n",
       "    </tr>\n",
       "    <tr>\n",
       "      <th>3</th>\n",
       "      <td>2018.0</td>\n",
       "      <td>110000.0</td>\n",
       "      <td>VOLKSWAGEN</td>\n",
       "      <td>Amarok</td>\n",
       "      <td>3.0 TDI V6 (224cv) 4x4 C/Doble Extreme AT (L17)</td>\n",
       "      <td>Pickups Medianas-Grandes</td>\n",
       "      <td>Livianos</td>\n",
       "      <td>41044.645766</td>\n",
       "      <td>40394.088670</td>\n",
       "    </tr>\n",
       "    <tr>\n",
       "      <th>4</th>\n",
       "      <td>2019.0</td>\n",
       "      <td>81500.0</td>\n",
       "      <td>VOLKSWAGEN</td>\n",
       "      <td>Amarok</td>\n",
       "      <td>3.0 TDI V6 (224cv) 4x4 C/Doble Extreme AT (L17)</td>\n",
       "      <td>Pickups Medianas-Grandes</td>\n",
       "      <td>Livianos</td>\n",
       "      <td>45059.107974</td>\n",
       "      <td>42000.000000</td>\n",
       "    </tr>\n",
       "    <tr>\n",
       "      <th>5</th>\n",
       "      <td>2018.0</td>\n",
       "      <td>98000.0</td>\n",
       "      <td>VOLKSWAGEN</td>\n",
       "      <td>Amarok</td>\n",
       "      <td>3.0 TDI V6 (224cv) 4x4 C/Doble Extreme AT (L17)</td>\n",
       "      <td>Pickups Medianas-Grandes</td>\n",
       "      <td>Livianos</td>\n",
       "      <td>41527.831949</td>\n",
       "      <td>36945.812808</td>\n",
       "    </tr>\n",
       "    <tr>\n",
       "      <th>6</th>\n",
       "      <td>2019.0</td>\n",
       "      <td>17500.0</td>\n",
       "      <td>VOLKSWAGEN</td>\n",
       "      <td>Amarok</td>\n",
       "      <td>3.0 TDI V6 (224cv) 4x4 C/Doble Extreme AT (L17)</td>\n",
       "      <td>Pickups Medianas-Grandes</td>\n",
       "      <td>Livianos</td>\n",
       "      <td>49183.282110</td>\n",
       "      <td>41133.004926</td>\n",
       "    </tr>\n",
       "    <tr>\n",
       "      <th>7</th>\n",
       "      <td>2019.0</td>\n",
       "      <td>18900.0</td>\n",
       "      <td>VOLKSWAGEN</td>\n",
       "      <td>Amarok</td>\n",
       "      <td>3.0 TDI V6 (224cv) 4x4 C/Doble Extreme AT (L17)</td>\n",
       "      <td>Pickups Medianas-Grandes</td>\n",
       "      <td>Livianos</td>\n",
       "      <td>49222.126269</td>\n",
       "      <td>41871.921182</td>\n",
       "    </tr>\n",
       "    <tr>\n",
       "      <th>8</th>\n",
       "      <td>2018.0</td>\n",
       "      <td>70000.0</td>\n",
       "      <td>VOLKSWAGEN</td>\n",
       "      <td>Amarok</td>\n",
       "      <td>3.0 TDI V6 (224cv) 4x4 C/Doble Extreme AT (L17)</td>\n",
       "      <td>Pickups Medianas-Grandes</td>\n",
       "      <td>Livianos</td>\n",
       "      <td>43494.939716</td>\n",
       "      <td>37931.034483</td>\n",
       "    </tr>\n",
       "    <tr>\n",
       "      <th>9</th>\n",
       "      <td>2018.0</td>\n",
       "      <td>96000.0</td>\n",
       "      <td>VOLKSWAGEN</td>\n",
       "      <td>Amarok</td>\n",
       "      <td>3.0 TDI V6 (224cv) 4x4 C/Doble Extreme AT (L17)</td>\n",
       "      <td>Pickups Medianas-Grandes</td>\n",
       "      <td>Livianos</td>\n",
       "      <td>41525.261175</td>\n",
       "      <td>44334.975369</td>\n",
       "    </tr>\n",
       "  </tbody>\n",
       "</table>\n",
       "</div>"
      ],
      "text/plain": [
       "   car_year   car_kms match_marca_a match_modelo_a  \\\n",
       "0    2018.0   42000.0    VOLKSWAGEN         Amarok   \n",
       "1    2018.0  138000.0    VOLKSWAGEN         Amarok   \n",
       "2    2017.0  100000.0    VOLKSWAGEN         Amarok   \n",
       "3    2018.0  110000.0    VOLKSWAGEN         Amarok   \n",
       "4    2019.0   81500.0    VOLKSWAGEN         Amarok   \n",
       "5    2018.0   98000.0    VOLKSWAGEN         Amarok   \n",
       "6    2019.0   17500.0    VOLKSWAGEN         Amarok   \n",
       "7    2019.0   18900.0    VOLKSWAGEN         Amarok   \n",
       "8    2018.0   70000.0    VOLKSWAGEN         Amarok   \n",
       "9    2018.0   96000.0    VOLKSWAGEN         Amarok   \n",
       "\n",
       "                                        match_v1_a                  Subseg_a  \\\n",
       "0  3.0 TDI V6 (224cv) 4x4 C/Doble Extreme AT (L17)  Pickups Medianas-Grandes   \n",
       "1  3.0 TDI V6 (224cv) 4x4 C/Doble Extreme AT (L17)  Pickups Medianas-Grandes   \n",
       "2  3.0 TDI V6 (224cv) 4x4 C/Doble Extreme AT (L17)  Pickups Medianas-Grandes   \n",
       "3  3.0 TDI V6 (224cv) 4x4 C/Doble Extreme AT (L17)  Pickups Medianas-Grandes   \n",
       "4  3.0 TDI V6 (224cv) 4x4 C/Doble Extreme AT (L17)  Pickups Medianas-Grandes   \n",
       "5  3.0 TDI V6 (224cv) 4x4 C/Doble Extreme AT (L17)  Pickups Medianas-Grandes   \n",
       "6  3.0 TDI V6 (224cv) 4x4 C/Doble Extreme AT (L17)  Pickups Medianas-Grandes   \n",
       "7  3.0 TDI V6 (224cv) 4x4 C/Doble Extreme AT (L17)  Pickups Medianas-Grandes   \n",
       "8  3.0 TDI V6 (224cv) 4x4 C/Doble Extreme AT (L17)  Pickups Medianas-Grandes   \n",
       "9  3.0 TDI V6 (224cv) 4x4 C/Doble Extreme AT (L17)  Pickups Medianas-Grandes   \n",
       "\n",
       "      Seg_a    cotizacion  price_amount  \n",
       "0  Livianos  44570.801317  38423.645320  \n",
       "1  Livianos  40027.820678  38500.000000  \n",
       "2  Livianos  39337.647797  38423.645320  \n",
       "3  Livianos  41044.645766  40394.088670  \n",
       "4  Livianos  45059.107974  42000.000000  \n",
       "5  Livianos  41527.831949  36945.812808  \n",
       "6  Livianos  49183.282110  41133.004926  \n",
       "7  Livianos  49222.126269  41871.921182  \n",
       "8  Livianos  43494.939716  37931.034483  \n",
       "9  Livianos  41525.261175  44334.975369  "
      ]
     },
     "execution_count": 21,
     "metadata": {},
     "output_type": "execute_result"
    }
   ],
   "source": [
    "cotizaciones"
   ]
  },
  {
   "cell_type": "markdown",
   "id": "628ab0ca-a119-4b5d-9b55-011cc8d22cfb",
   "metadata": {
    "tags": []
   },
   "source": [
    "***Misma prueba pero con Onix en lguar de Hilux***"
   ]
  },
  {
   "cell_type": "code",
   "execution_count": 36,
   "id": "38fc028e-8695-43d7-b487-43723f784fbc",
   "metadata": {},
   "outputs": [],
   "source": [
    "# load data to score\n",
    "# usaremos la misma data que el escenario anterior solo por fines ilustrativos pero vamos a suponer que esta es data nueva y por lo\n",
    "## tanto no debera contener la variable target, es por eso que la eliminaremos.\n",
    "df_to_score = pd.read_csv('{}/df_score_oot_mayor_2204.csv'.format(DATA),index_col=[0])"
   ]
  },
  {
   "cell_type": "code",
   "execution_count": 37,
   "id": "0cc7d04f-193f-43e2-bb00-de46ba114523",
   "metadata": {},
   "outputs": [],
   "source": [
    "#del df"
   ]
  },
  {
   "cell_type": "code",
   "execution_count": 38,
   "id": "c81ac36a-475f-48c8-8011-68a8bfa034cb",
   "metadata": {},
   "outputs": [],
   "source": [
    "# Tratamiento para pasar el precio a dolar y desp poder hacer una evaluacion\n",
    "# Target: convertimos los precios en pesos a dolar y los que estan en dolares se mantienen como estan\n",
    "\n",
    "# Columna que nos indique dia de semana para ver cuando es finde\n",
    "df_to_score['date'] = pd.to_datetime(df_to_score['date'])\n",
    "df_to_score['dia_sem'] = df_to_score.date.dt.day_of_week\n",
    "dic = {0:'Monday', 1:'Tuesday', 2:'Wednesday', 3:'Thursday', 4:'Friday', 5:'Saturday', 6:'Sunday'}\n",
    "df_to_score['dia_sem'] = df_to_score.dia_sem.map(dic)\n",
    "df_to_score.dia_sem.unique()\n",
    "# Ahora crearemos una que le ponga la fecha del viernes anterior a todos los dias que sean findesemana\n",
    "df_to_score['date_ok'] = np.where(df_to_score['dia_sem'].apply(lambda x: x in ('Saturday','Sunday'))\n",
    "                         ,np.where(df_to_score['dia_sem']=='Saturday'\n",
    "                                   ,df_to_score['date'] - timedelta(1)\n",
    "                                   ,df_to_score['date'] - timedelta(2))\n",
    "                         ,df_to_score['date'])\n",
    "# Importar tabla de Big Query\n",
    "filter_date = '2022-01-01'\n",
    "query = '''\n",
    "            select *\n",
    "            from `data-team-k.pricing_data.dolar_values` \n",
    "            where date >= '{}'\n",
    "            and source = 'Blue'\n",
    "            order by date\n",
    "\n",
    "            '''.format(filter_date)\n",
    "df_dolar_values = gbq.read_gbq(query, project_id=\"data-team-k\")\n",
    "df_dolar_values.columns = [col.lower() for col in df_dolar_values]\n",
    "df_dolar_values['date'] = pd.to_datetime(df_dolar_values['date'])\n",
    "# Ahora si procedemos a hacer el join con el df_dolar_values\n",
    "df_to_score = df_to_score.merge(df_dolar_values, how='inner', left_on='date_ok', right_on='date')\n",
    "df_to_score.drop(['date_y','source','compra'],1,inplace=True)\n",
    "df_to_score.rename(columns={'venta':'blue_venta'},inplace=True)\n",
    "# Finalmente, creamos la columna de precio final en dolares\n",
    "## Los precios en dolares se mantienen como estan y los precios en pesos se pasan a dolar mediante el blue\n",
    "df_to_score['price_amount'] = np.where(df_to_score.price_symbol == '$', df_to_score.price_amount / df_to_score.blue_venta, df_to_score.price_amount) # pisamos price_amount con su version final la cual es el target"
   ]
  },
  {
   "cell_type": "code",
   "execution_count": 39,
   "id": "f0aca81d-8b41-4124-9f9e-20c78066cce4",
   "metadata": {},
   "outputs": [],
   "source": [
    "model_features = ['car_year','car_kms','match_marca_a','match_modelo_a','match_v1_a','Subseg_a', 'Seg_a']\n",
    "extras = ['dealer']\n",
    "target = ['price_amount']"
   ]
  },
  {
   "cell_type": "code",
   "execution_count": 40,
   "id": "551eeb90-e266-4662-bf45-98a1b9773ce2",
   "metadata": {},
   "outputs": [
    {
     "data": {
      "text/plain": [
       "(249542, 45)"
      ]
     },
     "execution_count": 40,
     "metadata": {},
     "output_type": "execute_result"
    }
   ],
   "source": [
    "mask1 = df_to_score.dealer != True\n",
    "mask2 = df_to_score.car_kms > 90\n",
    "df_to_score = df_to_score[mask1 & mask2].copy()\n",
    "df_to_score.shape"
   ]
  },
  {
   "cell_type": "code",
   "execution_count": 41,
   "id": "aee3135c-4a58-4a16-a38e-12233736b113",
   "metadata": {},
   "outputs": [
    {
     "data": {
      "text/plain": [
       "(680, 45)"
      ]
     },
     "execution_count": 41,
     "metadata": {},
     "output_type": "execute_result"
    }
   ],
   "source": [
    "mask1 = df_to_score.match_modelo_a == 'Onix'\n",
    "mask2 = df_to_score.match_v1_a == '1.4 8v LTZ MT (98cv)'\n",
    "df_to_score = df_to_score[mask1 & mask2].copy()\n",
    "df_to_score.shape"
   ]
  },
  {
   "cell_type": "code",
   "execution_count": 42,
   "id": "20820e15-2c1a-4768-99c9-2e7b1a9bf393",
   "metadata": {},
   "outputs": [],
   "source": [
    "df_to_score.reset_index(drop=True,inplace=True)"
   ]
  },
  {
   "cell_type": "code",
   "execution_count": 43,
   "id": "20fbe5ae-e0f6-4255-9083-50188f442a11",
   "metadata": {},
   "outputs": [],
   "source": [
    "df_to_score = df_to_score[model_features + extras + target].head(10)"
   ]
  },
  {
   "cell_type": "code",
   "execution_count": 44,
   "id": "2d758b12-9eb2-4c2b-8746-59eac256e7d5",
   "metadata": {},
   "outputs": [],
   "source": [
    "y_true = df_to_score.price_amount"
   ]
  },
  {
   "cell_type": "code",
   "execution_count": 45,
   "id": "e6089eea-fb87-405f-bc8e-82b5db02236f",
   "metadata": {},
   "outputs": [],
   "source": [
    "df_to_score.drop(labels=['price_amount'],axis=1,inplace=True)"
   ]
  },
  {
   "cell_type": "code",
   "execution_count": 46,
   "id": "944c361d-37ca-4a85-9857-d61217ea162e",
   "metadata": {},
   "outputs": [
    {
     "data": {
      "text/plain": [
       "(10, 8)"
      ]
     },
     "execution_count": 46,
     "metadata": {},
     "output_type": "execute_result"
    }
   ],
   "source": [
    "df_to_score.shape"
   ]
  },
  {
   "cell_type": "code",
   "execution_count": 47,
   "id": "d596b632-1fc1-47e2-9842-ab7c709bd3a4",
   "metadata": {},
   "outputs": [
    {
     "data": {
      "text/html": [
       "<div>\n",
       "<style scoped>\n",
       "    .dataframe tbody tr th:only-of-type {\n",
       "        vertical-align: middle;\n",
       "    }\n",
       "\n",
       "    .dataframe tbody tr th {\n",
       "        vertical-align: top;\n",
       "    }\n",
       "\n",
       "    .dataframe thead th {\n",
       "        text-align: right;\n",
       "    }\n",
       "</style>\n",
       "<table border=\"1\" class=\"dataframe\">\n",
       "  <thead>\n",
       "    <tr style=\"text-align: right;\">\n",
       "      <th></th>\n",
       "      <th>car_year</th>\n",
       "      <th>car_kms</th>\n",
       "      <th>match_marca_a</th>\n",
       "      <th>match_modelo_a</th>\n",
       "      <th>match_v1_a</th>\n",
       "      <th>Subseg_a</th>\n",
       "      <th>Seg_a</th>\n",
       "      <th>dealer</th>\n",
       "    </tr>\n",
       "  </thead>\n",
       "  <tbody>\n",
       "    <tr>\n",
       "      <th>0</th>\n",
       "      <td>2015</td>\n",
       "      <td>104000.0</td>\n",
       "      <td>CHEVROLET</td>\n",
       "      <td>Onix</td>\n",
       "      <td>1.4 8v LTZ MT (98cv)</td>\n",
       "      <td>Gama Pequenos Hatchback</td>\n",
       "      <td>Gama Pequenos</td>\n",
       "      <td>False</td>\n",
       "    </tr>\n",
       "    <tr>\n",
       "      <th>1</th>\n",
       "      <td>2017</td>\n",
       "      <td>95000.0</td>\n",
       "      <td>CHEVROLET</td>\n",
       "      <td>Onix</td>\n",
       "      <td>1.4 8v LTZ MT (98cv)</td>\n",
       "      <td>Gama Pequenos Hatchback</td>\n",
       "      <td>Gama Pequenos</td>\n",
       "      <td>False</td>\n",
       "    </tr>\n",
       "    <tr>\n",
       "      <th>2</th>\n",
       "      <td>2017</td>\n",
       "      <td>85000.0</td>\n",
       "      <td>CHEVROLET</td>\n",
       "      <td>Onix</td>\n",
       "      <td>1.4 8v LTZ MT (98cv)</td>\n",
       "      <td>Gama Pequenos Hatchback</td>\n",
       "      <td>Gama Pequenos</td>\n",
       "      <td>False</td>\n",
       "    </tr>\n",
       "    <tr>\n",
       "      <th>3</th>\n",
       "      <td>2018</td>\n",
       "      <td>24248.0</td>\n",
       "      <td>CHEVROLET</td>\n",
       "      <td>Onix</td>\n",
       "      <td>1.4 8v LTZ MT (98cv)</td>\n",
       "      <td>Gama Pequenos Hatchback</td>\n",
       "      <td>Gama Pequenos</td>\n",
       "      <td>False</td>\n",
       "    </tr>\n",
       "    <tr>\n",
       "      <th>4</th>\n",
       "      <td>2016</td>\n",
       "      <td>59000.0</td>\n",
       "      <td>CHEVROLET</td>\n",
       "      <td>Onix</td>\n",
       "      <td>1.4 8v LTZ MT (98cv)</td>\n",
       "      <td>Gama Pequenos Hatchback</td>\n",
       "      <td>Gama Pequenos</td>\n",
       "      <td>False</td>\n",
       "    </tr>\n",
       "    <tr>\n",
       "      <th>5</th>\n",
       "      <td>2018</td>\n",
       "      <td>26500.0</td>\n",
       "      <td>CHEVROLET</td>\n",
       "      <td>Onix</td>\n",
       "      <td>1.4 8v LTZ MT (98cv)</td>\n",
       "      <td>Gama Pequenos Hatchback</td>\n",
       "      <td>Gama Pequenos</td>\n",
       "      <td>False</td>\n",
       "    </tr>\n",
       "    <tr>\n",
       "      <th>6</th>\n",
       "      <td>2017</td>\n",
       "      <td>50000.0</td>\n",
       "      <td>CHEVROLET</td>\n",
       "      <td>Onix</td>\n",
       "      <td>1.4 8v LTZ MT (98cv)</td>\n",
       "      <td>Gama Pequenos Hatchback</td>\n",
       "      <td>Gama Pequenos</td>\n",
       "      <td>False</td>\n",
       "    </tr>\n",
       "    <tr>\n",
       "      <th>7</th>\n",
       "      <td>2018</td>\n",
       "      <td>48000.0</td>\n",
       "      <td>CHEVROLET</td>\n",
       "      <td>Onix</td>\n",
       "      <td>1.4 8v LTZ MT (98cv)</td>\n",
       "      <td>Gama Pequenos Hatchback</td>\n",
       "      <td>Gama Pequenos</td>\n",
       "      <td>False</td>\n",
       "    </tr>\n",
       "    <tr>\n",
       "      <th>8</th>\n",
       "      <td>2018</td>\n",
       "      <td>63000.0</td>\n",
       "      <td>CHEVROLET</td>\n",
       "      <td>Onix</td>\n",
       "      <td>1.4 8v LTZ MT (98cv)</td>\n",
       "      <td>Gama Pequenos Hatchback</td>\n",
       "      <td>Gama Pequenos</td>\n",
       "      <td>False</td>\n",
       "    </tr>\n",
       "    <tr>\n",
       "      <th>9</th>\n",
       "      <td>2016</td>\n",
       "      <td>69000.0</td>\n",
       "      <td>CHEVROLET</td>\n",
       "      <td>Onix</td>\n",
       "      <td>1.4 8v LTZ MT (98cv)</td>\n",
       "      <td>Gama Pequenos Hatchback</td>\n",
       "      <td>Gama Pequenos</td>\n",
       "      <td>False</td>\n",
       "    </tr>\n",
       "  </tbody>\n",
       "</table>\n",
       "</div>"
      ],
      "text/plain": [
       "   car_year   car_kms match_marca_a match_modelo_a            match_v1_a  \\\n",
       "0      2015  104000.0     CHEVROLET           Onix  1.4 8v LTZ MT (98cv)   \n",
       "1      2017   95000.0     CHEVROLET           Onix  1.4 8v LTZ MT (98cv)   \n",
       "2      2017   85000.0     CHEVROLET           Onix  1.4 8v LTZ MT (98cv)   \n",
       "3      2018   24248.0     CHEVROLET           Onix  1.4 8v LTZ MT (98cv)   \n",
       "4      2016   59000.0     CHEVROLET           Onix  1.4 8v LTZ MT (98cv)   \n",
       "5      2018   26500.0     CHEVROLET           Onix  1.4 8v LTZ MT (98cv)   \n",
       "6      2017   50000.0     CHEVROLET           Onix  1.4 8v LTZ MT (98cv)   \n",
       "7      2018   48000.0     CHEVROLET           Onix  1.4 8v LTZ MT (98cv)   \n",
       "8      2018   63000.0     CHEVROLET           Onix  1.4 8v LTZ MT (98cv)   \n",
       "9      2016   69000.0     CHEVROLET           Onix  1.4 8v LTZ MT (98cv)   \n",
       "\n",
       "                  Subseg_a          Seg_a  dealer  \n",
       "0  Gama Pequenos Hatchback  Gama Pequenos   False  \n",
       "1  Gama Pequenos Hatchback  Gama Pequenos   False  \n",
       "2  Gama Pequenos Hatchback  Gama Pequenos   False  \n",
       "3  Gama Pequenos Hatchback  Gama Pequenos   False  \n",
       "4  Gama Pequenos Hatchback  Gama Pequenos   False  \n",
       "5  Gama Pequenos Hatchback  Gama Pequenos   False  \n",
       "6  Gama Pequenos Hatchback  Gama Pequenos   False  \n",
       "7  Gama Pequenos Hatchback  Gama Pequenos   False  \n",
       "8  Gama Pequenos Hatchback  Gama Pequenos   False  \n",
       "9  Gama Pequenos Hatchback  Gama Pequenos   False  "
      ]
     },
     "execution_count": 47,
     "metadata": {},
     "output_type": "execute_result"
    }
   ],
   "source": [
    "df_to_score"
   ]
  },
  {
   "cell_type": "code",
   "execution_count": 48,
   "id": "e539b282-fdf1-43c1-a108-2d167f0f129b",
   "metadata": {},
   "outputs": [
    {
     "name": "stdout",
     "output_type": "stream",
     "text": [
      "START --- 2022-06-21 11:59:45\n",
      "\n",
      "\n",
      "\n",
      "END --- 2022-06-21 11:59:45\n"
     ]
    }
   ],
   "source": [
    "cotizaciones = cotiz.predict(df=df_to_score, type='scoreo')"
   ]
  },
  {
   "cell_type": "code",
   "execution_count": 49,
   "id": "7d678fc2-1709-41f1-8be5-e292101b8675",
   "metadata": {},
   "outputs": [
    {
     "data": {
      "text/html": [
       "<div>\n",
       "<style scoped>\n",
       "    .dataframe tbody tr th:only-of-type {\n",
       "        vertical-align: middle;\n",
       "    }\n",
       "\n",
       "    .dataframe tbody tr th {\n",
       "        vertical-align: top;\n",
       "    }\n",
       "\n",
       "    .dataframe thead th {\n",
       "        text-align: right;\n",
       "    }\n",
       "</style>\n",
       "<table border=\"1\" class=\"dataframe\">\n",
       "  <thead>\n",
       "    <tr style=\"text-align: right;\">\n",
       "      <th></th>\n",
       "      <th>car_year</th>\n",
       "      <th>car_kms</th>\n",
       "      <th>match_marca_a</th>\n",
       "      <th>match_modelo_a</th>\n",
       "      <th>match_v1_a</th>\n",
       "      <th>Subseg_a</th>\n",
       "      <th>Seg_a</th>\n",
       "      <th>cotizacion</th>\n",
       "    </tr>\n",
       "  </thead>\n",
       "  <tbody>\n",
       "    <tr>\n",
       "      <th>0</th>\n",
       "      <td>2015.0</td>\n",
       "      <td>104000.0</td>\n",
       "      <td>CHEVROLET</td>\n",
       "      <td>Onix</td>\n",
       "      <td>1.4 8v LTZ MT (98cv)</td>\n",
       "      <td>Gama Pequenos Hatchback</td>\n",
       "      <td>Gama Pequenos</td>\n",
       "      <td>9715.413971</td>\n",
       "    </tr>\n",
       "    <tr>\n",
       "      <th>1</th>\n",
       "      <td>2017.0</td>\n",
       "      <td>95000.0</td>\n",
       "      <td>CHEVROLET</td>\n",
       "      <td>Onix</td>\n",
       "      <td>1.4 8v LTZ MT (98cv)</td>\n",
       "      <td>Gama Pequenos Hatchback</td>\n",
       "      <td>Gama Pequenos</td>\n",
       "      <td>11168.655471</td>\n",
       "    </tr>\n",
       "    <tr>\n",
       "      <th>2</th>\n",
       "      <td>2017.0</td>\n",
       "      <td>85000.0</td>\n",
       "      <td>CHEVROLET</td>\n",
       "      <td>Onix</td>\n",
       "      <td>1.4 8v LTZ MT (98cv)</td>\n",
       "      <td>Gama Pequenos Hatchback</td>\n",
       "      <td>Gama Pequenos</td>\n",
       "      <td>11352.830120</td>\n",
       "    </tr>\n",
       "    <tr>\n",
       "      <th>3</th>\n",
       "      <td>2018.0</td>\n",
       "      <td>24248.0</td>\n",
       "      <td>CHEVROLET</td>\n",
       "      <td>Onix</td>\n",
       "      <td>1.4 8v LTZ MT (98cv)</td>\n",
       "      <td>Gama Pequenos Hatchback</td>\n",
       "      <td>Gama Pequenos</td>\n",
       "      <td>13046.469640</td>\n",
       "    </tr>\n",
       "    <tr>\n",
       "      <th>4</th>\n",
       "      <td>2016.0</td>\n",
       "      <td>59000.0</td>\n",
       "      <td>CHEVROLET</td>\n",
       "      <td>Onix</td>\n",
       "      <td>1.4 8v LTZ MT (98cv)</td>\n",
       "      <td>Gama Pequenos Hatchback</td>\n",
       "      <td>Gama Pequenos</td>\n",
       "      <td>11215.182275</td>\n",
       "    </tr>\n",
       "    <tr>\n",
       "      <th>5</th>\n",
       "      <td>2018.0</td>\n",
       "      <td>26500.0</td>\n",
       "      <td>CHEVROLET</td>\n",
       "      <td>Onix</td>\n",
       "      <td>1.4 8v LTZ MT (98cv)</td>\n",
       "      <td>Gama Pequenos Hatchback</td>\n",
       "      <td>Gama Pequenos</td>\n",
       "      <td>12993.190657</td>\n",
       "    </tr>\n",
       "    <tr>\n",
       "      <th>6</th>\n",
       "      <td>2017.0</td>\n",
       "      <td>50000.0</td>\n",
       "      <td>CHEVROLET</td>\n",
       "      <td>Onix</td>\n",
       "      <td>1.4 8v LTZ MT (98cv)</td>\n",
       "      <td>Gama Pequenos Hatchback</td>\n",
       "      <td>Gama Pequenos</td>\n",
       "      <td>11799.696822</td>\n",
       "    </tr>\n",
       "    <tr>\n",
       "      <th>7</th>\n",
       "      <td>2018.0</td>\n",
       "      <td>48000.0</td>\n",
       "      <td>CHEVROLET</td>\n",
       "      <td>Onix</td>\n",
       "      <td>1.4 8v LTZ MT (98cv)</td>\n",
       "      <td>Gama Pequenos Hatchback</td>\n",
       "      <td>Gama Pequenos</td>\n",
       "      <td>12628.288759</td>\n",
       "    </tr>\n",
       "    <tr>\n",
       "      <th>8</th>\n",
       "      <td>2018.0</td>\n",
       "      <td>63000.0</td>\n",
       "      <td>CHEVROLET</td>\n",
       "      <td>Onix</td>\n",
       "      <td>1.4 8v LTZ MT (98cv)</td>\n",
       "      <td>Gama Pequenos Hatchback</td>\n",
       "      <td>Gama Pequenos</td>\n",
       "      <td>12359.551508</td>\n",
       "    </tr>\n",
       "    <tr>\n",
       "      <th>9</th>\n",
       "      <td>2016.0</td>\n",
       "      <td>69000.0</td>\n",
       "      <td>CHEVROLET</td>\n",
       "      <td>Onix</td>\n",
       "      <td>1.4 8v LTZ MT (98cv)</td>\n",
       "      <td>Gama Pequenos Hatchback</td>\n",
       "      <td>Gama Pequenos</td>\n",
       "      <td>11045.874490</td>\n",
       "    </tr>\n",
       "  </tbody>\n",
       "</table>\n",
       "</div>"
      ],
      "text/plain": [
       "   car_year   car_kms match_marca_a match_modelo_a            match_v1_a  \\\n",
       "0    2015.0  104000.0     CHEVROLET           Onix  1.4 8v LTZ MT (98cv)   \n",
       "1    2017.0   95000.0     CHEVROLET           Onix  1.4 8v LTZ MT (98cv)   \n",
       "2    2017.0   85000.0     CHEVROLET           Onix  1.4 8v LTZ MT (98cv)   \n",
       "3    2018.0   24248.0     CHEVROLET           Onix  1.4 8v LTZ MT (98cv)   \n",
       "4    2016.0   59000.0     CHEVROLET           Onix  1.4 8v LTZ MT (98cv)   \n",
       "5    2018.0   26500.0     CHEVROLET           Onix  1.4 8v LTZ MT (98cv)   \n",
       "6    2017.0   50000.0     CHEVROLET           Onix  1.4 8v LTZ MT (98cv)   \n",
       "7    2018.0   48000.0     CHEVROLET           Onix  1.4 8v LTZ MT (98cv)   \n",
       "8    2018.0   63000.0     CHEVROLET           Onix  1.4 8v LTZ MT (98cv)   \n",
       "9    2016.0   69000.0     CHEVROLET           Onix  1.4 8v LTZ MT (98cv)   \n",
       "\n",
       "                  Subseg_a          Seg_a    cotizacion  \n",
       "0  Gama Pequenos Hatchback  Gama Pequenos   9715.413971  \n",
       "1  Gama Pequenos Hatchback  Gama Pequenos  11168.655471  \n",
       "2  Gama Pequenos Hatchback  Gama Pequenos  11352.830120  \n",
       "3  Gama Pequenos Hatchback  Gama Pequenos  13046.469640  \n",
       "4  Gama Pequenos Hatchback  Gama Pequenos  11215.182275  \n",
       "5  Gama Pequenos Hatchback  Gama Pequenos  12993.190657  \n",
       "6  Gama Pequenos Hatchback  Gama Pequenos  11799.696822  \n",
       "7  Gama Pequenos Hatchback  Gama Pequenos  12628.288759  \n",
       "8  Gama Pequenos Hatchback  Gama Pequenos  12359.551508  \n",
       "9  Gama Pequenos Hatchback  Gama Pequenos  11045.874490  "
      ]
     },
     "execution_count": 49,
     "metadata": {},
     "output_type": "execute_result"
    }
   ],
   "source": [
    "cotizaciones"
   ]
  },
  {
   "cell_type": "code",
   "execution_count": 50,
   "id": "d9a12425-65da-4b0a-96e4-69d554ce763c",
   "metadata": {},
   "outputs": [
    {
     "name": "stdout",
     "output_type": "stream",
     "text": [
      "MAE: 689.2827871865513\n",
      "MAPE: 6.638710387366735\n",
      "MEDAPE: 3.4607669511161983\n",
      "MSE: 864292.1668944086\n",
      "RMSE: 929.6731505719678\n",
      "R2 Square 0.5553481160355593\n",
      "__________________________________\n"
     ]
    }
   ],
   "source": [
    "# Evaluamos\n",
    "preds = cotizaciones.cotizacion\n",
    "print_evaluate(y_true, preds)"
   ]
  },
  {
   "cell_type": "code",
   "execution_count": 51,
   "id": "f309112a-e3e7-408a-a3a9-880e209520d4",
   "metadata": {},
   "outputs": [],
   "source": [
    "cotizaciones['price_amount'] = y_true"
   ]
  },
  {
   "cell_type": "code",
   "execution_count": 52,
   "id": "3b82d89e-2e8a-4928-a653-fc25323b8a82",
   "metadata": {},
   "outputs": [
    {
     "data": {
      "text/html": [
       "<div>\n",
       "<style scoped>\n",
       "    .dataframe tbody tr th:only-of-type {\n",
       "        vertical-align: middle;\n",
       "    }\n",
       "\n",
       "    .dataframe tbody tr th {\n",
       "        vertical-align: top;\n",
       "    }\n",
       "\n",
       "    .dataframe thead th {\n",
       "        text-align: right;\n",
       "    }\n",
       "</style>\n",
       "<table border=\"1\" class=\"dataframe\">\n",
       "  <thead>\n",
       "    <tr style=\"text-align: right;\">\n",
       "      <th></th>\n",
       "      <th>car_year</th>\n",
       "      <th>car_kms</th>\n",
       "      <th>match_marca_a</th>\n",
       "      <th>match_modelo_a</th>\n",
       "      <th>match_v1_a</th>\n",
       "      <th>Subseg_a</th>\n",
       "      <th>Seg_a</th>\n",
       "      <th>cotizacion</th>\n",
       "      <th>price_amount</th>\n",
       "    </tr>\n",
       "  </thead>\n",
       "  <tbody>\n",
       "    <tr>\n",
       "      <th>0</th>\n",
       "      <td>2015.0</td>\n",
       "      <td>104000.0</td>\n",
       "      <td>CHEVROLET</td>\n",
       "      <td>Onix</td>\n",
       "      <td>1.4 8v LTZ MT (98cv)</td>\n",
       "      <td>Gama Pequenos Hatchback</td>\n",
       "      <td>Gama Pequenos</td>\n",
       "      <td>9715.413971</td>\n",
       "      <td>8866.995074</td>\n",
       "    </tr>\n",
       "    <tr>\n",
       "      <th>1</th>\n",
       "      <td>2017.0</td>\n",
       "      <td>95000.0</td>\n",
       "      <td>CHEVROLET</td>\n",
       "      <td>Onix</td>\n",
       "      <td>1.4 8v LTZ MT (98cv)</td>\n",
       "      <td>Gama Pequenos Hatchback</td>\n",
       "      <td>Gama Pequenos</td>\n",
       "      <td>11168.655471</td>\n",
       "      <td>10837.438424</td>\n",
       "    </tr>\n",
       "    <tr>\n",
       "      <th>2</th>\n",
       "      <td>2017.0</td>\n",
       "      <td>85000.0</td>\n",
       "      <td>CHEVROLET</td>\n",
       "      <td>Onix</td>\n",
       "      <td>1.4 8v LTZ MT (98cv)</td>\n",
       "      <td>Gama Pequenos Hatchback</td>\n",
       "      <td>Gama Pequenos</td>\n",
       "      <td>11352.830120</td>\n",
       "      <td>11330.049261</td>\n",
       "    </tr>\n",
       "    <tr>\n",
       "      <th>3</th>\n",
       "      <td>2018.0</td>\n",
       "      <td>24248.0</td>\n",
       "      <td>CHEVROLET</td>\n",
       "      <td>Onix</td>\n",
       "      <td>1.4 8v LTZ MT (98cv)</td>\n",
       "      <td>Gama Pequenos Hatchback</td>\n",
       "      <td>Gama Pequenos</td>\n",
       "      <td>13046.469640</td>\n",
       "      <td>12807.881773</td>\n",
       "    </tr>\n",
       "    <tr>\n",
       "      <th>4</th>\n",
       "      <td>2016.0</td>\n",
       "      <td>59000.0</td>\n",
       "      <td>CHEVROLET</td>\n",
       "      <td>Onix</td>\n",
       "      <td>1.4 8v LTZ MT (98cv)</td>\n",
       "      <td>Gama Pequenos Hatchback</td>\n",
       "      <td>Gama Pequenos</td>\n",
       "      <td>11215.182275</td>\n",
       "      <td>10837.438424</td>\n",
       "    </tr>\n",
       "    <tr>\n",
       "      <th>5</th>\n",
       "      <td>2018.0</td>\n",
       "      <td>26500.0</td>\n",
       "      <td>CHEVROLET</td>\n",
       "      <td>Onix</td>\n",
       "      <td>1.4 8v LTZ MT (98cv)</td>\n",
       "      <td>Gama Pequenos Hatchback</td>\n",
       "      <td>Gama Pequenos</td>\n",
       "      <td>12993.190657</td>\n",
       "      <td>12561.576355</td>\n",
       "    </tr>\n",
       "    <tr>\n",
       "      <th>6</th>\n",
       "      <td>2017.0</td>\n",
       "      <td>50000.0</td>\n",
       "      <td>CHEVROLET</td>\n",
       "      <td>Onix</td>\n",
       "      <td>1.4 8v LTZ MT (98cv)</td>\n",
       "      <td>Gama Pequenos Hatchback</td>\n",
       "      <td>Gama Pequenos</td>\n",
       "      <td>11799.696822</td>\n",
       "      <td>12068.965517</td>\n",
       "    </tr>\n",
       "    <tr>\n",
       "      <th>7</th>\n",
       "      <td>2018.0</td>\n",
       "      <td>48000.0</td>\n",
       "      <td>CHEVROLET</td>\n",
       "      <td>Onix</td>\n",
       "      <td>1.4 8v LTZ MT (98cv)</td>\n",
       "      <td>Gama Pequenos Hatchback</td>\n",
       "      <td>Gama Pequenos</td>\n",
       "      <td>12628.288759</td>\n",
       "      <td>13300.492611</td>\n",
       "    </tr>\n",
       "    <tr>\n",
       "      <th>8</th>\n",
       "      <td>2018.0</td>\n",
       "      <td>63000.0</td>\n",
       "      <td>CHEVROLET</td>\n",
       "      <td>Onix</td>\n",
       "      <td>1.4 8v LTZ MT (98cv)</td>\n",
       "      <td>Gama Pequenos Hatchback</td>\n",
       "      <td>Gama Pequenos</td>\n",
       "      <td>12359.551508</td>\n",
       "      <td>10344.827586</td>\n",
       "    </tr>\n",
       "    <tr>\n",
       "      <th>9</th>\n",
       "      <td>2016.0</td>\n",
       "      <td>69000.0</td>\n",
       "      <td>CHEVROLET</td>\n",
       "      <td>Onix</td>\n",
       "      <td>1.4 8v LTZ MT (98cv)</td>\n",
       "      <td>Gama Pequenos Hatchback</td>\n",
       "      <td>Gama Pequenos</td>\n",
       "      <td>11045.874490</td>\n",
       "      <td>9359.605911</td>\n",
       "    </tr>\n",
       "  </tbody>\n",
       "</table>\n",
       "</div>"
      ],
      "text/plain": [
       "   car_year   car_kms match_marca_a match_modelo_a            match_v1_a  \\\n",
       "0    2015.0  104000.0     CHEVROLET           Onix  1.4 8v LTZ MT (98cv)   \n",
       "1    2017.0   95000.0     CHEVROLET           Onix  1.4 8v LTZ MT (98cv)   \n",
       "2    2017.0   85000.0     CHEVROLET           Onix  1.4 8v LTZ MT (98cv)   \n",
       "3    2018.0   24248.0     CHEVROLET           Onix  1.4 8v LTZ MT (98cv)   \n",
       "4    2016.0   59000.0     CHEVROLET           Onix  1.4 8v LTZ MT (98cv)   \n",
       "5    2018.0   26500.0     CHEVROLET           Onix  1.4 8v LTZ MT (98cv)   \n",
       "6    2017.0   50000.0     CHEVROLET           Onix  1.4 8v LTZ MT (98cv)   \n",
       "7    2018.0   48000.0     CHEVROLET           Onix  1.4 8v LTZ MT (98cv)   \n",
       "8    2018.0   63000.0     CHEVROLET           Onix  1.4 8v LTZ MT (98cv)   \n",
       "9    2016.0   69000.0     CHEVROLET           Onix  1.4 8v LTZ MT (98cv)   \n",
       "\n",
       "                  Subseg_a          Seg_a    cotizacion  price_amount  \n",
       "0  Gama Pequenos Hatchback  Gama Pequenos   9715.413971   8866.995074  \n",
       "1  Gama Pequenos Hatchback  Gama Pequenos  11168.655471  10837.438424  \n",
       "2  Gama Pequenos Hatchback  Gama Pequenos  11352.830120  11330.049261  \n",
       "3  Gama Pequenos Hatchback  Gama Pequenos  13046.469640  12807.881773  \n",
       "4  Gama Pequenos Hatchback  Gama Pequenos  11215.182275  10837.438424  \n",
       "5  Gama Pequenos Hatchback  Gama Pequenos  12993.190657  12561.576355  \n",
       "6  Gama Pequenos Hatchback  Gama Pequenos  11799.696822  12068.965517  \n",
       "7  Gama Pequenos Hatchback  Gama Pequenos  12628.288759  13300.492611  \n",
       "8  Gama Pequenos Hatchback  Gama Pequenos  12359.551508  10344.827586  \n",
       "9  Gama Pequenos Hatchback  Gama Pequenos  11045.874490   9359.605911  "
      ]
     },
     "execution_count": 52,
     "metadata": {},
     "output_type": "execute_result"
    }
   ],
   "source": [
    "cotizaciones"
   ]
  },
  {
   "cell_type": "markdown",
   "id": "86e7a6fe-eb50-49f1-9184-ec578e7a0409",
   "metadata": {},
   "source": [
    "### 6) Metodo ***export***"
   ]
  },
  {
   "cell_type": "code",
   "execution_count": 53,
   "id": "5b73eb54-23c2-4b2d-a6c1-450c85de1b24",
   "metadata": {},
   "outputs": [
    {
     "name": "stdout",
     "output_type": "stream",
     "text": [
      "START --- 2022-06-21 12:01:52\n",
      "Error en el listado de marc_mod_vers\n",
      "Error en la Performance_oot!\n",
      "Nombre del archivo: Mod_kardur_20220621.xlsx\n",
      "Guardado en: /Users/santiagolean/repos/cotizador_vf/reports\n",
      "\n",
      "END --- 2022-06-21 12:01:52\n"
     ]
    }
   ],
   "source": [
    "cotiz.export(output_route=REPORTS)"
   ]
  },
  {
   "cell_type": "code",
   "execution_count": null,
   "id": "35ef1540-ccea-4a60-b996-5edaf6938957",
   "metadata": {},
   "outputs": [],
   "source": []
  },
  {
   "cell_type": "code",
   "execution_count": null,
   "id": "42b0f1c3-3390-479a-ae02-0de1e6e1e18d",
   "metadata": {},
   "outputs": [],
   "source": []
  },
  {
   "cell_type": "code",
   "execution_count": null,
   "id": "a08cea3b-495d-4ffa-8ce4-1a731e1567c8",
   "metadata": {},
   "outputs": [],
   "source": []
  },
  {
   "cell_type": "code",
   "execution_count": null,
   "id": "532d428d-c39c-48b2-9ae0-2d2778492370",
   "metadata": {},
   "outputs": [],
   "source": []
  }
 ],
 "metadata": {
  "kernelspec": {
   "display_name": "Python 3 (ipykernel)",
   "language": "python",
   "name": "python3"
  },
  "language_info": {
   "codemirror_mode": {
    "name": "ipython",
    "version": 3
   },
   "file_extension": ".py",
   "mimetype": "text/x-python",
   "name": "python",
   "nbconvert_exporter": "python",
   "pygments_lexer": "ipython3",
   "version": "3.9.7"
  }
 },
 "nbformat": 4,
 "nbformat_minor": 5
}
