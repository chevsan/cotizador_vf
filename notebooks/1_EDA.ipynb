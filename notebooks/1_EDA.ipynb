{
 "cells": [
  {
   "cell_type": "markdown",
   "id": "8f678c1e",
   "metadata": {},
   "source": [
    "### INDICE\n",
    "* [**1) Librerías, configuraciones y upload del dataset**](#section_lib_config)\n",
    "* [**2) Primer aproach al dataset**](#section_1st_aproach)\n",
    "    * [Primeras observaciones de la data](#section_1st_obs)\n",
    "    * [Análisis features de scores de matcheo](#section_feat_scores)\n",
    "* [**3) Data Wrangling**](#section_data_wrangling)\n",
    "    * [Feature removal n1](#section_feat_remov1)\n",
    "    * [Precio MELI final](#section_precio_meli_final)\n",
    "* [**3) EDA / Data Cleaning**](#section_eda) \n",
    "    * [Capeo](#section_capeo)\n",
    "    * [Tratamiento de duplicados](#section_duplicados)"
   ]
  },
  {
   "cell_type": "markdown",
   "id": "dc77491a",
   "metadata": {},
   "source": [
    "# 1) Librerías, configuraciones y upload del dataset <a id='section_lib_config'></a>"
   ]
  },
  {
   "cell_type": "code",
   "execution_count": 1,
   "id": "3e33a556",
   "metadata": {},
   "outputs": [],
   "source": [
    "# Librerías y modulos\n",
    "import pandas as pd\n",
    "import numpy as np\n",
    "import seaborn as sns\n",
    "import matplotlib.pyplot as plt\n",
    "import sklearn\n",
    "from pandas.io import gbq\n",
    "from datetime import datetime\n",
    "import warnings"
   ]
  },
  {
   "cell_type": "code",
   "execution_count": 3,
   "id": "27bdb31c",
   "metadata": {},
   "outputs": [],
   "source": [
    "# Configuraciones de la notebook\n",
    "pd.set_option('display.max_columns', 500)\n",
    "#pd.set_option('display.width', 1000)\n",
    "pd.set_option('display.float_format', lambda x: '%.4f' % x)\n",
    "# warnings\n",
    "warnings.filterwarnings(\"ignore\")"
   ]
  },
  {
   "cell_type": "code",
   "execution_count": 4,
   "id": "129e33b1",
   "metadata": {},
   "outputs": [],
   "source": [
    "# Importar tabla de Big Query\n",
    "# df_meli = gbq.read_gbq(\"SELECT * FROM `data-team-k.pricing_data.meli_match`\", project_id=\"data-team-k\")"
   ]
  },
  {
   "cell_type": "code",
   "execution_count": 5,
   "id": "0e013006",
   "metadata": {},
   "outputs": [],
   "source": [
    "# Descargarlo como pickle\n",
    "# fecha = datetime.today().strftime('%Y-%m-%d')\n",
    "# df_meli.to_pickle(f'df_meli_{fecha}.pkl')"
   ]
  },
  {
   "cell_type": "code",
   "execution_count": 3,
   "id": "388c84d8",
   "metadata": {},
   "outputs": [],
   "source": [
    "# Upload del pickle\n",
    "df_meli = pd.read_pickle('df_meli_2021-12-20.pkl')"
   ]
  },
  {
   "cell_type": "code",
   "execution_count": 92,
   "id": "21d534e7",
   "metadata": {},
   "outputs": [
    {
     "data": {
      "text/plain": [
       "Timestamp('2021-12-19 00:00:00')"
      ]
     },
     "execution_count": 92,
     "metadata": {},
     "output_type": "execute_result"
    }
   ],
   "source": [
    "df_meli.date.max()"
   ]
  },
  {
   "cell_type": "markdown",
   "id": "602b3fcd",
   "metadata": {},
   "source": [
    "# 2) Primer aproach al dataset <a id='section_1st_aproach'></a>"
   ]
  },
  {
   "cell_type": "markdown",
   "id": "ec5b0a1b",
   "metadata": {},
   "source": [
    "**Primeras observaciones de la data** <a id='section_1st_obs'></a>"
   ]
  },
  {
   "cell_type": "code",
   "execution_count": 7,
   "id": "3aa5383d",
   "metadata": {},
   "outputs": [
    {
     "data": {
      "text/plain": [
       "(3104549, 42)"
      ]
     },
     "execution_count": 7,
     "metadata": {},
     "output_type": "execute_result"
    }
   ],
   "source": [
    "df_meli.shape"
   ]
  },
  {
   "cell_type": "code",
   "execution_count": 8,
   "id": "c1eed368",
   "metadata": {},
   "outputs": [
    {
     "data": {
      "text/plain": [
       "Index(['runtime', 'date', 'timestamp', 'date_hour', 'price_symbol',\n",
       "       'price_amount_txt', 'price_amount', 'car_year', 'car_kms_txt',\n",
       "       'car_kms', 'km', 'car_title', 'car_location', 'car_location_0',\n",
       "       'car_location_1', 'car_link', 'car_id', 'year', 'brand', 'model',\n",
       "       'version', 'dealer', 'match_marca_a', 'score_marca_a', 'match_modelo_a',\n",
       "       'score_modelo_a', 'match_v1_a', 'score_v1_a', 'total_score_a', 'Seg_a',\n",
       "       'Subseg_a', 'gama_a', 'match_marca_c', 'score_marca_c',\n",
       "       'match_modelo_c', 'score_modelo_c', 'match_v1_c', 'score_v1_c',\n",
       "       'total_score_c', 'Seg_c', 'Subseg_c', 'gama_c'],\n",
       "      dtype='object')"
      ]
     },
     "execution_count": 8,
     "metadata": {},
     "output_type": "execute_result"
    }
   ],
   "source": [
    "df_meli.columns"
   ]
  },
  {
   "cell_type": "code",
   "execution_count": 9,
   "id": "85677fce",
   "metadata": {},
   "outputs": [
    {
     "data": {
      "text/plain": [
       "car_link            2822280\n",
       "car_id               149284\n",
       "price_amount_txt      27269\n",
       "car_title             15147\n",
       "version               13175\n",
       "car_kms_txt            9361\n",
       "match_v1_a             3211\n",
       "match_v1_c             2735\n",
       "model                   625\n",
       "car_location            601\n",
       "car_location_0          525\n",
       "match_modelo_c          422\n",
       "match_modelo_a          409\n",
       "brand                    52\n",
       "match_marca_c            48\n",
       "match_marca_a            46\n",
       "Subseg_c                 29\n",
       "car_location_1           29\n",
       "Subseg_a                 26\n",
       "Seg_c                     9\n",
       "Seg_a                     8\n",
       "gama_c                    3\n",
       "gama_a                    3\n",
       "price_symbol              2\n",
       "dtype: int64"
      ]
     },
     "execution_count": 9,
     "metadata": {},
     "output_type": "execute_result"
    }
   ],
   "source": [
    "# Cardinalidad de las features categoricas\n",
    "cardinalidad = df_meli.select_dtypes(include='object').nunique().sort_values(ascending=False)\n",
    "cardinalidad"
   ]
  },
  {
   "cell_type": "code",
   "execution_count": 10,
   "id": "d4459ba9",
   "metadata": {},
   "outputs": [
    {
     "data": {
      "text/html": [
       "<div>\n",
       "<style scoped>\n",
       "    .dataframe tbody tr th:only-of-type {\n",
       "        vertical-align: middle;\n",
       "    }\n",
       "\n",
       "    .dataframe tbody tr th {\n",
       "        vertical-align: top;\n",
       "    }\n",
       "\n",
       "    .dataframe thead th {\n",
       "        text-align: right;\n",
       "    }\n",
       "</style>\n",
       "<table border=\"1\" class=\"dataframe\">\n",
       "  <thead>\n",
       "    <tr style=\"text-align: right;\">\n",
       "      <th></th>\n",
       "      <th>runtime</th>\n",
       "      <th>date</th>\n",
       "      <th>timestamp</th>\n",
       "      <th>date_hour</th>\n",
       "      <th>price_symbol</th>\n",
       "      <th>price_amount_txt</th>\n",
       "      <th>price_amount</th>\n",
       "      <th>car_year</th>\n",
       "      <th>car_kms_txt</th>\n",
       "      <th>car_kms</th>\n",
       "      <th>km</th>\n",
       "      <th>car_title</th>\n",
       "      <th>car_location</th>\n",
       "      <th>car_location_0</th>\n",
       "      <th>car_location_1</th>\n",
       "      <th>car_link</th>\n",
       "      <th>car_id</th>\n",
       "      <th>year</th>\n",
       "      <th>brand</th>\n",
       "      <th>model</th>\n",
       "      <th>version</th>\n",
       "      <th>dealer</th>\n",
       "      <th>match_marca_a</th>\n",
       "      <th>score_marca_a</th>\n",
       "      <th>match_modelo_a</th>\n",
       "      <th>score_modelo_a</th>\n",
       "      <th>match_v1_a</th>\n",
       "      <th>score_v1_a</th>\n",
       "      <th>total_score_a</th>\n",
       "      <th>Seg_a</th>\n",
       "      <th>Subseg_a</th>\n",
       "      <th>gama_a</th>\n",
       "      <th>match_marca_c</th>\n",
       "      <th>score_marca_c</th>\n",
       "      <th>match_modelo_c</th>\n",
       "      <th>score_modelo_c</th>\n",
       "      <th>match_v1_c</th>\n",
       "      <th>score_v1_c</th>\n",
       "      <th>total_score_c</th>\n",
       "      <th>Seg_c</th>\n",
       "      <th>Subseg_c</th>\n",
       "      <th>gama_c</th>\n",
       "    </tr>\n",
       "  </thead>\n",
       "  <tbody>\n",
       "    <tr>\n",
       "      <th>0</th>\n",
       "      <td>2021-12-02 08:01:23.575469+00:00</td>\n",
       "      <td>2021-12-02</td>\n",
       "      <td>2021-12-02 08:03:06.844280+00:00</td>\n",
       "      <td>NaT</td>\n",
       "      <td>U$S</td>\n",
       "      <td>105.000</td>\n",
       "      <td>105000.0000</td>\n",
       "      <td>2021</td>\n",
       "      <td>0 Km</td>\n",
       "      <td>0.0000</td>\n",
       "      <td>True</td>\n",
       "      <td>Jeep Grand Cherokee 3.6 Limited 286hp Techo + ...</td>\n",
       "      <td>Biedma - Chubut</td>\n",
       "      <td>Biedma</td>\n",
       "      <td>Chubut</td>\n",
       "      <td>https://auto.mercadolibre.com.ar/MLA-934901261...</td>\n",
       "      <td>934901261</td>\n",
       "      <td>2021</td>\n",
       "      <td>Jeep</td>\n",
       "      <td>Grand Cherokee</td>\n",
       "      <td>3.6 Limited 286hp Techo + Llantas 18</td>\n",
       "      <td>True</td>\n",
       "      <td>JEEP</td>\n",
       "      <td>100.0000</td>\n",
       "      <td>Grand Cherokee</td>\n",
       "      <td>100.0000</td>\n",
       "      <td>Limited 3.6 V6 AT (286hp) (L11)</td>\n",
       "      <td>77.0000</td>\n",
       "      <td>77.0000</td>\n",
       "      <td>SUV</td>\n",
       "      <td>SUV 4X4</td>\n",
       "      <td>Gama Media</td>\n",
       "      <td>JEEP</td>\n",
       "      <td>100.0000</td>\n",
       "      <td>CHEROKEE</td>\n",
       "      <td>90.0000</td>\n",
       "      <td>LIMITED</td>\n",
       "      <td>100.0000</td>\n",
       "      <td>90.0000</td>\n",
       "      <td>Premium</td>\n",
       "      <td>Premium</td>\n",
       "      <td>Gama Baja</td>\n",
       "    </tr>\n",
       "    <tr>\n",
       "      <th>1</th>\n",
       "      <td>2021-12-02 08:01:23.575469+00:00</td>\n",
       "      <td>2021-12-02</td>\n",
       "      <td>2021-12-02 08:03:06.844280+00:00</td>\n",
       "      <td>NaT</td>\n",
       "      <td>U$S</td>\n",
       "      <td>1.070.000</td>\n",
       "      <td>1070000.0000</td>\n",
       "      <td>2021</td>\n",
       "      <td>1.000 Km</td>\n",
       "      <td>1000.0000</td>\n",
       "      <td>True</td>\n",
       "      <td>Jeep Grand Cherokee 3.6 Limited 286hp Techo + ...</td>\n",
       "      <td>La Plata - Bs.As. G.B.A. Sur</td>\n",
       "      <td>La Plata</td>\n",
       "      <td>Bs.As. G.B.A. Sur</td>\n",
       "      <td>https://auto.mercadolibre.com.ar/MLA-931375791...</td>\n",
       "      <td>931375791</td>\n",
       "      <td>2021</td>\n",
       "      <td>Jeep</td>\n",
       "      <td>Grand Cherokee</td>\n",
       "      <td>3.6 Limited 286hp Techo + Llantas 18</td>\n",
       "      <td>True</td>\n",
       "      <td>JEEP</td>\n",
       "      <td>100.0000</td>\n",
       "      <td>Grand Cherokee</td>\n",
       "      <td>100.0000</td>\n",
       "      <td>Limited 3.6 V6 AT (286hp) (L11)</td>\n",
       "      <td>77.0000</td>\n",
       "      <td>77.0000</td>\n",
       "      <td>SUV</td>\n",
       "      <td>SUV 4X4</td>\n",
       "      <td>Gama Media</td>\n",
       "      <td>JEEP</td>\n",
       "      <td>100.0000</td>\n",
       "      <td>CHEROKEE</td>\n",
       "      <td>90.0000</td>\n",
       "      <td>LIMITED</td>\n",
       "      <td>100.0000</td>\n",
       "      <td>90.0000</td>\n",
       "      <td>Premium</td>\n",
       "      <td>Premium</td>\n",
       "      <td>Gama Baja</td>\n",
       "    </tr>\n",
       "    <tr>\n",
       "      <th>2</th>\n",
       "      <td>2021-12-02 22:00:53.559236+00:00</td>\n",
       "      <td>2021-12-02</td>\n",
       "      <td>2021-12-02 22:03:06.086523+00:00</td>\n",
       "      <td>NaT</td>\n",
       "      <td>$</td>\n",
       "      <td>950.000</td>\n",
       "      <td>950000.0000</td>\n",
       "      <td>2011</td>\n",
       "      <td>144.000 Km</td>\n",
       "      <td>144000.0000</td>\n",
       "      <td>True</td>\n",
       "      <td>Peugeot Partner Furgon 1.4</td>\n",
       "      <td>La Plata - Bs.As. G.B.A. Sur</td>\n",
       "      <td>La Plata</td>\n",
       "      <td>Bs.As. G.B.A. Sur</td>\n",
       "      <td>https://auto.mercadolibre.com.ar/MLA-110772427...</td>\n",
       "      <td>1107724279</td>\n",
       "      <td>2011</td>\n",
       "      <td>Peugeot</td>\n",
       "      <td>Partner Furgon</td>\n",
       "      <td>1.4</td>\n",
       "      <td>False</td>\n",
       "      <td>PEUGEOT</td>\n",
       "      <td>100.0000</td>\n",
       "      <td>Partner</td>\n",
       "      <td>90.0000</td>\n",
       "      <td>Compact 5Ptas. 1.4 N Quiksilver (75cv)</td>\n",
       "      <td>100.0000</td>\n",
       "      <td>90.0000</td>\n",
       "      <td>Livianos</td>\n",
       "      <td>Baja PU - Furgones</td>\n",
       "      <td>Gama Baja</td>\n",
       "      <td>PEUGEOT</td>\n",
       "      <td>100.0000</td>\n",
       "      <td>PARTNER</td>\n",
       "      <td>90.0000</td>\n",
       "      <td>FURGON 1.4 N PRESENCE</td>\n",
       "      <td>100.0000</td>\n",
       "      <td>90.0000</td>\n",
       "      <td>Livianos</td>\n",
       "      <td>Baja PU - Furgones</td>\n",
       "      <td>Gama Baja</td>\n",
       "    </tr>\n",
       "    <tr>\n",
       "      <th>3</th>\n",
       "      <td>2021-12-02 22:00:53.559236+00:00</td>\n",
       "      <td>2021-12-02</td>\n",
       "      <td>2021-12-02 22:03:06.086523+00:00</td>\n",
       "      <td>NaT</td>\n",
       "      <td>$</td>\n",
       "      <td>1.150.000</td>\n",
       "      <td>1150000.0000</td>\n",
       "      <td>2011</td>\n",
       "      <td>180.000 Km</td>\n",
       "      <td>180000.0000</td>\n",
       "      <td>True</td>\n",
       "      <td>Peugeot Partner Furgon Hdi</td>\n",
       "      <td>Concordia - Entre Ríos</td>\n",
       "      <td>Concordia</td>\n",
       "      <td>Entre Ríos</td>\n",
       "      <td>https://auto.mercadolibre.com.ar/MLA-111326319...</td>\n",
       "      <td>1113263190</td>\n",
       "      <td>2011</td>\n",
       "      <td>Peugeot</td>\n",
       "      <td>Partner Furgon</td>\n",
       "      <td>Hdi</td>\n",
       "      <td>False</td>\n",
       "      <td>PEUGEOT</td>\n",
       "      <td>100.0000</td>\n",
       "      <td>Partner</td>\n",
       "      <td>90.0000</td>\n",
       "      <td>Compact 5Ptas. 1.4 HDI Allure / XS (70cv)</td>\n",
       "      <td>100.0000</td>\n",
       "      <td>90.0000</td>\n",
       "      <td>Livianos</td>\n",
       "      <td>Baja PU - Furgones</td>\n",
       "      <td>Gama Baja</td>\n",
       "      <td>PEUGEOT</td>\n",
       "      <td>100.0000</td>\n",
       "      <td>PARTNER</td>\n",
       "      <td>90.0000</td>\n",
       "      <td>PATAGONICA HDI 02</td>\n",
       "      <td>100.0000</td>\n",
       "      <td>90.0000</td>\n",
       "      <td>Livianos</td>\n",
       "      <td>Baja PU - Furgones</td>\n",
       "      <td>Gama Baja</td>\n",
       "    </tr>\n",
       "    <tr>\n",
       "      <th>4</th>\n",
       "      <td>2021-12-02 16:00:33.186629+00:00</td>\n",
       "      <td>2021-12-02</td>\n",
       "      <td>2021-12-02 16:03:43.557841+00:00</td>\n",
       "      <td>NaT</td>\n",
       "      <td>$</td>\n",
       "      <td>1.150.000</td>\n",
       "      <td>1150000.0000</td>\n",
       "      <td>2014</td>\n",
       "      <td>194.000 Km</td>\n",
       "      <td>194000.0000</td>\n",
       "      <td>True</td>\n",
       "      <td>Peugeot Partner Furgon Furgon</td>\n",
       "      <td>Capital Federal - Capital Federal</td>\n",
       "      <td>Capital Federal</td>\n",
       "      <td>Capital Federal</td>\n",
       "      <td>https://auto.mercadolibre.com.ar/MLA-111221534...</td>\n",
       "      <td>1112215345</td>\n",
       "      <td>2014</td>\n",
       "      <td>Peugeot</td>\n",
       "      <td>Partner Furgon</td>\n",
       "      <td>Furgon</td>\n",
       "      <td>False</td>\n",
       "      <td>PEUGEOT</td>\n",
       "      <td>100.0000</td>\n",
       "      <td>Partner</td>\n",
       "      <td>90.0000</td>\n",
       "      <td>Furgón 1.4</td>\n",
       "      <td>67.0000</td>\n",
       "      <td>60.3000</td>\n",
       "      <td>Livianos</td>\n",
       "      <td>Baja PU - Furgones</td>\n",
       "      <td>Gama Baja</td>\n",
       "      <td>PEUGEOT</td>\n",
       "      <td>100.0000</td>\n",
       "      <td>PARTNER</td>\n",
       "      <td>90.0000</td>\n",
       "      <td>FURGON 1.4 N PRESENCE</td>\n",
       "      <td>100.0000</td>\n",
       "      <td>90.0000</td>\n",
       "      <td>Livianos</td>\n",
       "      <td>Baja PU - Furgones</td>\n",
       "      <td>Gama Baja</td>\n",
       "    </tr>\n",
       "  </tbody>\n",
       "</table>\n",
       "</div>"
      ],
      "text/plain": [
       "                           runtime       date  \\\n",
       "0 2021-12-02 08:01:23.575469+00:00 2021-12-02   \n",
       "1 2021-12-02 08:01:23.575469+00:00 2021-12-02   \n",
       "2 2021-12-02 22:00:53.559236+00:00 2021-12-02   \n",
       "3 2021-12-02 22:00:53.559236+00:00 2021-12-02   \n",
       "4 2021-12-02 16:00:33.186629+00:00 2021-12-02   \n",
       "\n",
       "                         timestamp date_hour price_symbol price_amount_txt  \\\n",
       "0 2021-12-02 08:03:06.844280+00:00       NaT          U$S          105.000   \n",
       "1 2021-12-02 08:03:06.844280+00:00       NaT          U$S        1.070.000   \n",
       "2 2021-12-02 22:03:06.086523+00:00       NaT            $          950.000   \n",
       "3 2021-12-02 22:03:06.086523+00:00       NaT            $        1.150.000   \n",
       "4 2021-12-02 16:03:43.557841+00:00       NaT            $        1.150.000   \n",
       "\n",
       "   price_amount  car_year car_kms_txt     car_kms    km  \\\n",
       "0   105000.0000      2021        0 Km      0.0000  True   \n",
       "1  1070000.0000      2021    1.000 Km   1000.0000  True   \n",
       "2   950000.0000      2011  144.000 Km 144000.0000  True   \n",
       "3  1150000.0000      2011  180.000 Km 180000.0000  True   \n",
       "4  1150000.0000      2014  194.000 Km 194000.0000  True   \n",
       "\n",
       "                                           car_title  \\\n",
       "0  Jeep Grand Cherokee 3.6 Limited 286hp Techo + ...   \n",
       "1  Jeep Grand Cherokee 3.6 Limited 286hp Techo + ...   \n",
       "2                         Peugeot Partner Furgon 1.4   \n",
       "3                         Peugeot Partner Furgon Hdi   \n",
       "4                      Peugeot Partner Furgon Furgon   \n",
       "\n",
       "                        car_location   car_location_0     car_location_1  \\\n",
       "0                    Biedma - Chubut           Biedma             Chubut   \n",
       "1       La Plata - Bs.As. G.B.A. Sur         La Plata  Bs.As. G.B.A. Sur   \n",
       "2       La Plata - Bs.As. G.B.A. Sur         La Plata  Bs.As. G.B.A. Sur   \n",
       "3             Concordia - Entre Ríos        Concordia         Entre Ríos   \n",
       "4  Capital Federal - Capital Federal  Capital Federal    Capital Federal   \n",
       "\n",
       "                                            car_link      car_id  year  \\\n",
       "0  https://auto.mercadolibre.com.ar/MLA-934901261...   934901261  2021   \n",
       "1  https://auto.mercadolibre.com.ar/MLA-931375791...   931375791  2021   \n",
       "2  https://auto.mercadolibre.com.ar/MLA-110772427...  1107724279  2011   \n",
       "3  https://auto.mercadolibre.com.ar/MLA-111326319...  1113263190  2011   \n",
       "4  https://auto.mercadolibre.com.ar/MLA-111221534...  1112215345  2014   \n",
       "\n",
       "     brand           model                               version  dealer  \\\n",
       "0     Jeep  Grand Cherokee  3.6 Limited 286hp Techo + Llantas 18    True   \n",
       "1     Jeep  Grand Cherokee  3.6 Limited 286hp Techo + Llantas 18    True   \n",
       "2  Peugeot  Partner Furgon                                   1.4   False   \n",
       "3  Peugeot  Partner Furgon                                   Hdi   False   \n",
       "4  Peugeot  Partner Furgon                                Furgon   False   \n",
       "\n",
       "  match_marca_a  score_marca_a  match_modelo_a  score_modelo_a  \\\n",
       "0          JEEP       100.0000  Grand Cherokee        100.0000   \n",
       "1          JEEP       100.0000  Grand Cherokee        100.0000   \n",
       "2       PEUGEOT       100.0000         Partner         90.0000   \n",
       "3       PEUGEOT       100.0000         Partner         90.0000   \n",
       "4       PEUGEOT       100.0000         Partner         90.0000   \n",
       "\n",
       "                                   match_v1_a  score_v1_a  total_score_a  \\\n",
       "0             Limited 3.6 V6 AT (286hp) (L11)     77.0000        77.0000   \n",
       "1             Limited 3.6 V6 AT (286hp) (L11)     77.0000        77.0000   \n",
       "2      Compact 5Ptas. 1.4 N Quiksilver (75cv)    100.0000        90.0000   \n",
       "3  Compact 5Ptas. 1.4 HDI Allure / XS (70cv)     100.0000        90.0000   \n",
       "4                                  Furgón 1.4     67.0000        60.3000   \n",
       "\n",
       "      Seg_a            Subseg_a      gama_a match_marca_c  score_marca_c  \\\n",
       "0       SUV             SUV 4X4  Gama Media          JEEP       100.0000   \n",
       "1       SUV             SUV 4X4  Gama Media          JEEP       100.0000   \n",
       "2  Livianos  Baja PU - Furgones   Gama Baja       PEUGEOT       100.0000   \n",
       "3  Livianos  Baja PU - Furgones   Gama Baja       PEUGEOT       100.0000   \n",
       "4  Livianos  Baja PU - Furgones   Gama Baja       PEUGEOT       100.0000   \n",
       "\n",
       "  match_modelo_c  score_modelo_c             match_v1_c  score_v1_c  \\\n",
       "0       CHEROKEE         90.0000                LIMITED    100.0000   \n",
       "1       CHEROKEE         90.0000                LIMITED    100.0000   \n",
       "2        PARTNER         90.0000  FURGON 1.4 N PRESENCE    100.0000   \n",
       "3        PARTNER         90.0000      PATAGONICA HDI 02    100.0000   \n",
       "4        PARTNER         90.0000  FURGON 1.4 N PRESENCE    100.0000   \n",
       "\n",
       "   total_score_c     Seg_c            Subseg_c     gama_c  \n",
       "0        90.0000   Premium             Premium  Gama Baja  \n",
       "1        90.0000   Premium             Premium  Gama Baja  \n",
       "2        90.0000  Livianos  Baja PU - Furgones  Gama Baja  \n",
       "3        90.0000  Livianos  Baja PU - Furgones  Gama Baja  \n",
       "4        90.0000  Livianos  Baja PU - Furgones  Gama Baja  "
      ]
     },
     "execution_count": 10,
     "metadata": {},
     "output_type": "execute_result"
    }
   ],
   "source": [
    "df_meli.iloc[:100,].head()"
   ]
  },
  {
   "cell_type": "markdown",
   "id": "cad8f52f",
   "metadata": {},
   "source": [
    "**Análisis: features de scores de matcheo** <a id='section_feat_scores'></a>"
   ]
  },
  {
   "cell_type": "code",
   "execution_count": 11,
   "id": "5a2bd43e",
   "metadata": {},
   "outputs": [
    {
     "data": {
      "text/plain": [
       "['score_marca_a',\n",
       " 'score_modelo_a',\n",
       " 'score_v1_a',\n",
       " 'total_score_a',\n",
       " 'score_marca_c',\n",
       " 'score_modelo_c',\n",
       " 'score_v1_c',\n",
       " 'total_score_c']"
      ]
     },
     "execution_count": 11,
     "metadata": {},
     "output_type": "execute_result"
    }
   ],
   "source": [
    "# Columnas de scores de matcheo\n",
    "cols_score_match = [col for col in df_meli if 'score' in col]\n",
    "cols_score_match"
   ]
  },
  {
   "cell_type": "code",
   "execution_count": 12,
   "id": "740d6232",
   "metadata": {},
   "outputs": [
    {
     "name": "stdout",
     "output_type": "stream",
     "text": [
      "score_marca_a:  99.5798473691654\n",
      "score_modelo_a:  97.8619525007482\n",
      "score_v1_a:  85.6903834327022\n",
      "total_score_a:  83.77860629859119\n",
      "score_marca_c:  99.57609844556748\n",
      "score_modelo_c:  96.35559975529068\n",
      "score_v1_c:  88.22269836805687\n",
      "total_score_c:  84.95316300578816\n"
     ]
    }
   ],
   "source": [
    "# Intentando entender que score funciona mejor\n",
    "for col in cols_score_match:\n",
    "    print(f'{col}: ',df_meli[col].mean())"
   ]
  },
  {
   "cell_type": "markdown",
   "id": "9bcb27c3",
   "metadata": {},
   "source": [
    "Observamos que el score de marca es muy bueno, luego le sigue el de modelo y ya despues en el de version hay muchos scores flojos (era de esperarse) <br>\n",
    "En version conviene usar el matcheo de CAMVAL ya que tiene mejor score y ademas quedan menos valores unico que en la version de ACARA"
   ]
  },
  {
   "cell_type": "markdown",
   "id": "707b42d3",
   "metadata": {},
   "source": [
    "*-- Fin: Análisis features de scoreos de matcheo --*"
   ]
  },
  {
   "cell_type": "markdown",
   "id": "d3931db6",
   "metadata": {},
   "source": [
    "# 3) Data Wrangling <a id='section_data_wrangling'></a>"
   ]
  },
  {
   "cell_type": "markdown",
   "id": "63a47d53",
   "metadata": {},
   "source": [
    "**Feature removal 1:** <a id='section_feat_remov1'></a>"
   ]
  },
  {
   "cell_type": "code",
   "execution_count": 13,
   "id": "2b7820a7",
   "metadata": {},
   "outputs": [
    {
     "data": {
      "text/plain": [
       "10"
      ]
     },
     "execution_count": 13,
     "metadata": {},
     "output_type": "execute_result"
    }
   ],
   "source": [
    "# Columnas que a primera vista no nos sirven\n",
    "cols_useless = ['date','timestamp','date_hour','price_amount_txt', 'car_kms_txt' , 'car_title'\n",
    "                , 'car_location','car_link','km', 'year']\n",
    "len(cols_useless)"
   ]
  },
  {
   "cell_type": "code",
   "execution_count": 14,
   "id": "ae55141b",
   "metadata": {},
   "outputs": [],
   "source": [
    "# Nos quedamos solo con las columnas relevantes (hacemos copia por las dudas de que desp querramos usar alguna de estas features)\n",
    "df_meli_ok = df_meli.drop(cols_useless,1).copy()"
   ]
  },
  {
   "cell_type": "markdown",
   "id": "41f63a1a",
   "metadata": {},
   "source": [
    "Apartir de aca tenemos que usar \"df_meli_ok\""
   ]
  },
  {
   "cell_type": "code",
   "execution_count": 15,
   "id": "55b5150b",
   "metadata": {},
   "outputs": [
    {
     "data": {
      "text/plain": [
       "(3104549, 32)"
      ]
     },
     "execution_count": 15,
     "metadata": {},
     "output_type": "execute_result"
    }
   ],
   "source": [
    "df_meli_ok.shape"
   ]
  },
  {
   "cell_type": "code",
   "execution_count": 16,
   "id": "caf6fd60",
   "metadata": {},
   "outputs": [
    {
     "name": "stdout",
     "output_type": "stream",
     "text": [
      "2021-11-21 21:07:51.229303+00:00 2021-12-19 23:01:17.060965+00:00\n"
     ]
    }
   ],
   "source": [
    "# Rango de las fechas de observaciones\n",
    "print(df_meli_ok.runtime.min(),df_meli_ok.runtime.max())"
   ]
  },
  {
   "cell_type": "code",
   "execution_count": 17,
   "id": "9b1f2a93",
   "metadata": {},
   "outputs": [],
   "source": [
    "# Tratamiento de la feautre \"runtime\"\n",
    "df_meli_ok['runtime'] = pd.to_datetime(df_meli_ok.runtime.apply(lambda x: str(x)[:19]))"
   ]
  },
  {
   "cell_type": "markdown",
   "id": "7925ac97",
   "metadata": {},
   "source": [
    "**Precio MELI final** <a id='section_precio_meli_final'></a>"
   ]
  },
  {
   "cell_type": "markdown",
   "id": "4042cc0c",
   "metadata": {},
   "source": [
    "*Reglas:* <br>\n",
    "0km --> oficial (108.40) <br>\n",
    "NO 0km --> blue (196.5)"
   ]
  },
  {
   "cell_type": "code",
   "execution_count": 18,
   "id": "9aea4326",
   "metadata": {},
   "outputs": [],
   "source": [
    "# Construcción del precio final\n",
    "blue= 196.5\n",
    "oficial= 108.4\n",
    "col1 = 'price_symbol'\n",
    "col2 = 'car_kms'\n",
    "conditions = [df_meli_ok[col1]!='U$S', (df_meli_ok[col1]=='U$S') & (df_meli_ok[col2]==0), (df_meli_ok[col1]=='U$S') & (df_meli_ok[col2]!=0)]\n",
    "choices = [df_meli_ok.price_amount, df_meli_ok['price_amount']*oficial, df_meli_ok['price_amount']*blue]\n",
    "\n",
    "df_meli_ok['price_meli_ok'] = np.select(conditions, choices, default=np.nan)"
   ]
  },
  {
   "cell_type": "code",
   "execution_count": 19,
   "id": "f58abb90",
   "metadata": {},
   "outputs": [
    {
     "data": {
      "text/html": [
       "<div>\n",
       "<style scoped>\n",
       "    .dataframe tbody tr th:only-of-type {\n",
       "        vertical-align: middle;\n",
       "    }\n",
       "\n",
       "    .dataframe tbody tr th {\n",
       "        vertical-align: top;\n",
       "    }\n",
       "\n",
       "    .dataframe thead th {\n",
       "        text-align: right;\n",
       "    }\n",
       "</style>\n",
       "<table border=\"1\" class=\"dataframe\">\n",
       "  <thead>\n",
       "    <tr style=\"text-align: right;\">\n",
       "      <th></th>\n",
       "      <th>price_symbol</th>\n",
       "      <th>car_kms</th>\n",
       "      <th>price_amount</th>\n",
       "      <th>price_meli_ok</th>\n",
       "    </tr>\n",
       "  </thead>\n",
       "  <tbody>\n",
       "    <tr>\n",
       "      <th>0</th>\n",
       "      <td>U$S</td>\n",
       "      <td>0.0000</td>\n",
       "      <td>105000.0000</td>\n",
       "      <td>11382000.0000</td>\n",
       "    </tr>\n",
       "    <tr>\n",
       "      <th>1</th>\n",
       "      <td>U$S</td>\n",
       "      <td>1000.0000</td>\n",
       "      <td>1070000.0000</td>\n",
       "      <td>210255000.0000</td>\n",
       "    </tr>\n",
       "    <tr>\n",
       "      <th>14</th>\n",
       "      <td>U$S</td>\n",
       "      <td>150000.0000</td>\n",
       "      <td>6000.0000</td>\n",
       "      <td>1179000.0000</td>\n",
       "    </tr>\n",
       "    <tr>\n",
       "      <th>122</th>\n",
       "      <td>U$S</td>\n",
       "      <td>9000.0000</td>\n",
       "      <td>47000.0000</td>\n",
       "      <td>9235500.0000</td>\n",
       "    </tr>\n",
       "    <tr>\n",
       "      <th>123</th>\n",
       "      <td>U$S</td>\n",
       "      <td>9000.0000</td>\n",
       "      <td>47000.0000</td>\n",
       "      <td>9235500.0000</td>\n",
       "    </tr>\n",
       "  </tbody>\n",
       "</table>\n",
       "</div>"
      ],
      "text/plain": [
       "    price_symbol     car_kms  price_amount  price_meli_ok\n",
       "0            U$S      0.0000   105000.0000  11382000.0000\n",
       "1            U$S   1000.0000  1070000.0000 210255000.0000\n",
       "14           U$S 150000.0000     6000.0000   1179000.0000\n",
       "122          U$S   9000.0000    47000.0000   9235500.0000\n",
       "123          U$S   9000.0000    47000.0000   9235500.0000"
      ]
     },
     "execution_count": 19,
     "metadata": {},
     "output_type": "execute_result"
    }
   ],
   "source": [
    "# chequeo --> OK\n",
    "df_meli_ok[df_meli_ok.price_symbol != '$'][['price_symbol','car_kms','price_amount','price_meli_ok']].head()"
   ]
  },
  {
   "cell_type": "code",
   "execution_count": 20,
   "id": "a0c92637",
   "metadata": {},
   "outputs": [],
   "source": [
    "# Luego de ya tener el precio final calculado, podemos eliminar del dataset las variables de precio originales\n",
    "df_meli_ok.drop(['price_symbol','price_amount'],1,inplace=True)"
   ]
  },
  {
   "cell_type": "code",
   "execution_count": 21,
   "id": "39eacecc",
   "metadata": {},
   "outputs": [
    {
     "data": {
      "text/plain": [
       "31"
      ]
     },
     "execution_count": 21,
     "metadata": {},
     "output_type": "execute_result"
    }
   ],
   "source": [
    "df_meli_ok.shape[1]"
   ]
  },
  {
   "cell_type": "code",
   "execution_count": 22,
   "id": "ec23daa9",
   "metadata": {},
   "outputs": [],
   "source": [
    "# Pasamos \"dealer\" de booleano a flag 1 y 0\n",
    "df_meli_ok['dealer'] = np.where(df_meli_ok['dealer']==True,1,0)"
   ]
  },
  {
   "cell_type": "markdown",
   "id": "61037f66",
   "metadata": {},
   "source": [
    "**ACARA O CAMVAL: entender que set de features es más confiable** <a id='section_precio_meli_final'></a>"
   ]
  },
  {
   "cell_type": "markdown",
   "id": "47a6c5c4",
   "metadata": {},
   "source": [
    "Para hacer esto, vamos a hacer una suma total de los scores. En teoría el que tiene mayor score, tiene mejor matcheo."
   ]
  },
  {
   "cell_type": "code",
   "execution_count": 23,
   "id": "aa8b66f9",
   "metadata": {},
   "outputs": [
    {
     "name": "stdout",
     "output_type": "stream",
     "text": [
      "score_marca_a:  309104908.0\n",
      "score_modelo_a:  303772406.0\n",
      "score_v1_a:  265990748.0\n",
      "total_score_a:  260056417.8040002\n",
      "score_marca_c:  309093271.0\n",
      "score_modelo_c:  299096550.0\n",
      "score_v1_c:  273851284.0\n",
      "total_score_c:  263702348.70779994\n"
     ]
    }
   ],
   "source": [
    "for col in cols_score_match:\n",
    "    print(f'{col}: ', df_meli_ok[col].sum())"
   ]
  },
  {
   "cell_type": "markdown",
   "id": "1e9f80f9",
   "metadata": {},
   "source": [
    "El rdo es muy parejo, no alcanza como para tomar una decision. <br>\n",
    "De cara un modelo, no va a quedar otra que probar el modelo con un set de variables (ACARA) y luego probarlo con el otro (CAMVAL). <br>\n",
    "De todas formas quedar atento a ideas que puedan surgir para profundizar este análisis"
   ]
  },
  {
   "cell_type": "code",
   "execution_count": 24,
   "id": "0b1e826b",
   "metadata": {},
   "outputs": [
    {
     "data": {
      "text/html": [
       "<div>\n",
       "<style scoped>\n",
       "    .dataframe tbody tr th:only-of-type {\n",
       "        vertical-align: middle;\n",
       "    }\n",
       "\n",
       "    .dataframe tbody tr th {\n",
       "        vertical-align: top;\n",
       "    }\n",
       "\n",
       "    .dataframe thead th {\n",
       "        text-align: right;\n",
       "    }\n",
       "</style>\n",
       "<table border=\"1\" class=\"dataframe\">\n",
       "  <thead>\n",
       "    <tr style=\"text-align: right;\">\n",
       "      <th></th>\n",
       "      <th>car_year</th>\n",
       "      <th>car_kms</th>\n",
       "      <th>dealer</th>\n",
       "      <th>score_marca_a</th>\n",
       "      <th>score_modelo_a</th>\n",
       "      <th>score_v1_a</th>\n",
       "      <th>total_score_a</th>\n",
       "      <th>score_marca_c</th>\n",
       "      <th>score_modelo_c</th>\n",
       "      <th>score_v1_c</th>\n",
       "      <th>total_score_c</th>\n",
       "      <th>price_meli_ok</th>\n",
       "    </tr>\n",
       "  </thead>\n",
       "  <tbody>\n",
       "    <tr>\n",
       "      <th>count</th>\n",
       "      <td>3104549.0000</td>\n",
       "      <td>3104549.0000</td>\n",
       "      <td>3104549.0000</td>\n",
       "      <td>3104091.0000</td>\n",
       "      <td>3104091.0000</td>\n",
       "      <td>3104091.0000</td>\n",
       "      <td>3104091.0000</td>\n",
       "      <td>3104091.0000</td>\n",
       "      <td>3104091.0000</td>\n",
       "      <td>3104091.0000</td>\n",
       "      <td>3104091.0000</td>\n",
       "      <td>3104549.0000</td>\n",
       "    </tr>\n",
       "    <tr>\n",
       "      <th>mean</th>\n",
       "      <td>2015.4664</td>\n",
       "      <td>82371.2482</td>\n",
       "      <td>0.6321</td>\n",
       "      <td>99.5798</td>\n",
       "      <td>97.8620</td>\n",
       "      <td>85.6904</td>\n",
       "      <td>83.7786</td>\n",
       "      <td>99.5761</td>\n",
       "      <td>96.3556</td>\n",
       "      <td>88.2227</td>\n",
       "      <td>84.9532</td>\n",
       "      <td>3052807.2639</td>\n",
       "    </tr>\n",
       "    <tr>\n",
       "      <th>std</th>\n",
       "      <td>4.3808</td>\n",
       "      <td>233598.4621</td>\n",
       "      <td>0.4822</td>\n",
       "      <td>2.1223</td>\n",
       "      <td>9.4402</td>\n",
       "      <td>16.7034</td>\n",
       "      <td>18.5939</td>\n",
       "      <td>2.0697</td>\n",
       "      <td>11.7684</td>\n",
       "      <td>18.6693</td>\n",
       "      <td>21.0620</td>\n",
       "      <td>3866550.6336</td>\n",
       "    </tr>\n",
       "    <tr>\n",
       "      <th>min</th>\n",
       "      <td>2006.0000</td>\n",
       "      <td>0.0000</td>\n",
       "      <td>0.0000</td>\n",
       "      <td>33.0000</td>\n",
       "      <td>0.0000</td>\n",
       "      <td>0.0000</td>\n",
       "      <td>0.0000</td>\n",
       "      <td>50.0000</td>\n",
       "      <td>0.0000</td>\n",
       "      <td>0.0000</td>\n",
       "      <td>0.0000</td>\n",
       "      <td>25245.0000</td>\n",
       "    </tr>\n",
       "    <tr>\n",
       "      <th>25%</th>\n",
       "      <td>2012.0000</td>\n",
       "      <td>1001.0000</td>\n",
       "      <td>0.0000</td>\n",
       "      <td>100.0000</td>\n",
       "      <td>100.0000</td>\n",
       "      <td>77.0000</td>\n",
       "      <td>74.0000</td>\n",
       "      <td>100.0000</td>\n",
       "      <td>100.0000</td>\n",
       "      <td>81.0000</td>\n",
       "      <td>78.0000</td>\n",
       "      <td>1400000.0000</td>\n",
       "    </tr>\n",
       "    <tr>\n",
       "      <th>50%</th>\n",
       "      <td>2016.0000</td>\n",
       "      <td>76000.0000</td>\n",
       "      <td>1.0000</td>\n",
       "      <td>100.0000</td>\n",
       "      <td>100.0000</td>\n",
       "      <td>90.0000</td>\n",
       "      <td>89.0000</td>\n",
       "      <td>100.0000</td>\n",
       "      <td>100.0000</td>\n",
       "      <td>100.0000</td>\n",
       "      <td>92.0000</td>\n",
       "      <td>2188700.0000</td>\n",
       "    </tr>\n",
       "    <tr>\n",
       "      <th>75%</th>\n",
       "      <td>2020.0000</td>\n",
       "      <td>123000.0000</td>\n",
       "      <td>1.0000</td>\n",
       "      <td>100.0000</td>\n",
       "      <td>100.0000</td>\n",
       "      <td>100.0000</td>\n",
       "      <td>100.0000</td>\n",
       "      <td>100.0000</td>\n",
       "      <td>100.0000</td>\n",
       "      <td>100.0000</td>\n",
       "      <td>100.0000</td>\n",
       "      <td>3700000.0000</td>\n",
       "    </tr>\n",
       "    <tr>\n",
       "      <th>99%</th>\n",
       "      <td>2021.0000</td>\n",
       "      <td>293000.0000</td>\n",
       "      <td>1.0000</td>\n",
       "      <td>100.0000</td>\n",
       "      <td>100.0000</td>\n",
       "      <td>100.0000</td>\n",
       "      <td>100.0000</td>\n",
       "      <td>100.0000</td>\n",
       "      <td>100.0000</td>\n",
       "      <td>100.0000</td>\n",
       "      <td>100.0000</td>\n",
       "      <td>13165500.0000</td>\n",
       "    </tr>\n",
       "    <tr>\n",
       "      <th>max</th>\n",
       "      <td>2021.0000</td>\n",
       "      <td>111111111.0000</td>\n",
       "      <td>1.0000</td>\n",
       "      <td>100.0000</td>\n",
       "      <td>100.0000</td>\n",
       "      <td>100.0000</td>\n",
       "      <td>100.0000</td>\n",
       "      <td>100.0000</td>\n",
       "      <td>100.0000</td>\n",
       "      <td>100.0000</td>\n",
       "      <td>100.0000</td>\n",
       "      <td>290820000.0000</td>\n",
       "    </tr>\n",
       "  </tbody>\n",
       "</table>\n",
       "</div>"
      ],
      "text/plain": [
       "          car_year        car_kms       dealer  score_marca_a  score_modelo_a  \\\n",
       "count 3104549.0000   3104549.0000 3104549.0000   3104091.0000    3104091.0000   \n",
       "mean     2015.4664     82371.2482       0.6321        99.5798         97.8620   \n",
       "std         4.3808    233598.4621       0.4822         2.1223          9.4402   \n",
       "min      2006.0000         0.0000       0.0000        33.0000          0.0000   \n",
       "25%      2012.0000      1001.0000       0.0000       100.0000        100.0000   \n",
       "50%      2016.0000     76000.0000       1.0000       100.0000        100.0000   \n",
       "75%      2020.0000    123000.0000       1.0000       100.0000        100.0000   \n",
       "99%      2021.0000    293000.0000       1.0000       100.0000        100.0000   \n",
       "max      2021.0000 111111111.0000       1.0000       100.0000        100.0000   \n",
       "\n",
       "        score_v1_a  total_score_a  score_marca_c  score_modelo_c   score_v1_c  \\\n",
       "count 3104091.0000   3104091.0000   3104091.0000    3104091.0000 3104091.0000   \n",
       "mean       85.6904        83.7786        99.5761         96.3556      88.2227   \n",
       "std        16.7034        18.5939         2.0697         11.7684      18.6693   \n",
       "min         0.0000         0.0000        50.0000          0.0000       0.0000   \n",
       "25%        77.0000        74.0000       100.0000        100.0000      81.0000   \n",
       "50%        90.0000        89.0000       100.0000        100.0000     100.0000   \n",
       "75%       100.0000       100.0000       100.0000        100.0000     100.0000   \n",
       "99%       100.0000       100.0000       100.0000        100.0000     100.0000   \n",
       "max       100.0000       100.0000       100.0000        100.0000     100.0000   \n",
       "\n",
       "       total_score_c  price_meli_ok  \n",
       "count   3104091.0000   3104549.0000  \n",
       "mean         84.9532   3052807.2639  \n",
       "std          21.0620   3866550.6336  \n",
       "min           0.0000     25245.0000  \n",
       "25%          78.0000   1400000.0000  \n",
       "50%          92.0000   2188700.0000  \n",
       "75%         100.0000   3700000.0000  \n",
       "99%         100.0000  13165500.0000  \n",
       "max         100.0000 290820000.0000  "
      ]
     },
     "execution_count": 24,
     "metadata": {},
     "output_type": "execute_result"
    }
   ],
   "source": [
    "# Observamos algunos estadisticos de las variables\n",
    "df_meli_ok.describe(percentiles=[0.25,0.75,0.99])"
   ]
  },
  {
   "cell_type": "markdown",
   "id": "e5b11c25",
   "metadata": {},
   "source": [
    "**Capeamos para evitar sesgos en el EDA: \"df_meli_ok_cap\"**<a id='section_capeo'></a>"
   ]
  },
  {
   "cell_type": "code",
   "execution_count": 25,
   "id": "50859fad",
   "metadata": {},
   "outputs": [
    {
     "data": {
      "text/plain": [
       "30902"
      ]
     },
     "execution_count": 25,
     "metadata": {},
     "output_type": "execute_result"
    }
   ],
   "source": [
    "# Analisis: Excluir outliers de \"price_meli_ok\"\n",
    "q_99 = np.quantile(df_meli_ok['price_meli_ok'],.99)\n",
    "len(df_meli_ok[df_meli_ok.price_meli_ok > q_99])"
   ]
  },
  {
   "cell_type": "code",
   "execution_count": 26,
   "id": "c175fa9a",
   "metadata": {},
   "outputs": [
    {
     "data": {
      "text/plain": [
       "30918"
      ]
     },
     "execution_count": 26,
     "metadata": {},
     "output_type": "execute_result"
    }
   ],
   "source": [
    "# Usando el q_99 como pto de corte, vamos a excluir outliers en base \"car_kms\"\n",
    "q_99 = np.quantile(df_meli_ok['car_kms'],.99)\n",
    "len(df_meli_ok[df_meli_ok.car_kms > q_99])"
   ]
  },
  {
   "cell_type": "code",
   "execution_count": 27,
   "id": "ab56db6a",
   "metadata": {},
   "outputs": [],
   "source": [
    "# Analisis: Excluir outliers de \"price_meli_ok\"\n",
    "q_99_p = np.quantile(df_meli_ok['price_meli_ok'],.99)\n",
    "q_99_km = np.quantile(df_meli_ok['car_kms'],.99)\n",
    "df_meli_ok_cap = df_meli_ok[(df_meli_ok.price_meli_ok <= q_99_p) & (df_meli_ok.car_kms <= q_99_km)]"
   ]
  },
  {
   "cell_type": "code",
   "execution_count": 28,
   "id": "3dfb4836",
   "metadata": {},
   "outputs": [
    {
     "data": {
      "text/html": [
       "<div>\n",
       "<style scoped>\n",
       "    .dataframe tbody tr th:only-of-type {\n",
       "        vertical-align: middle;\n",
       "    }\n",
       "\n",
       "    .dataframe tbody tr th {\n",
       "        vertical-align: top;\n",
       "    }\n",
       "\n",
       "    .dataframe thead th {\n",
       "        text-align: right;\n",
       "    }\n",
       "</style>\n",
       "<table border=\"1\" class=\"dataframe\">\n",
       "  <thead>\n",
       "    <tr style=\"text-align: right;\">\n",
       "      <th></th>\n",
       "      <th>car_year</th>\n",
       "      <th>car_kms</th>\n",
       "      <th>dealer</th>\n",
       "      <th>score_marca_a</th>\n",
       "      <th>score_modelo_a</th>\n",
       "      <th>score_v1_a</th>\n",
       "      <th>total_score_a</th>\n",
       "      <th>score_marca_c</th>\n",
       "      <th>score_modelo_c</th>\n",
       "      <th>score_v1_c</th>\n",
       "      <th>total_score_c</th>\n",
       "      <th>price_meli_ok</th>\n",
       "    </tr>\n",
       "  </thead>\n",
       "  <tbody>\n",
       "    <tr>\n",
       "      <th>count</th>\n",
       "      <td>3042844.0000</td>\n",
       "      <td>3042844.0000</td>\n",
       "      <td>3042844.0000</td>\n",
       "      <td>3042403.0000</td>\n",
       "      <td>3042403.0000</td>\n",
       "      <td>3042403.0000</td>\n",
       "      <td>3042403.0000</td>\n",
       "      <td>3042403.0000</td>\n",
       "      <td>3042403.0000</td>\n",
       "      <td>3042403.0000</td>\n",
       "      <td>3042403.0000</td>\n",
       "      <td>3042844.0000</td>\n",
       "    </tr>\n",
       "    <tr>\n",
       "      <th>mean</th>\n",
       "      <td>2015.4863</td>\n",
       "      <td>77321.3981</td>\n",
       "      <td>0.6342</td>\n",
       "      <td>99.5748</td>\n",
       "      <td>97.9716</td>\n",
       "      <td>85.8318</td>\n",
       "      <td>83.9789</td>\n",
       "      <td>99.5707</td>\n",
       "      <td>96.3894</td>\n",
       "      <td>88.3462</td>\n",
       "      <td>85.0964</td>\n",
       "      <td>2848255.3573</td>\n",
       "    </tr>\n",
       "    <tr>\n",
       "      <th>std</th>\n",
       "      <td>4.3608</td>\n",
       "      <td>65661.3865</td>\n",
       "      <td>0.4816</td>\n",
       "      <td>2.1324</td>\n",
       "      <td>9.1413</td>\n",
       "      <td>16.6010</td>\n",
       "      <td>18.3873</td>\n",
       "      <td>2.0819</td>\n",
       "      <td>11.7216</td>\n",
       "      <td>18.5682</td>\n",
       "      <td>20.9577</td>\n",
       "      <td>2095100.8304</td>\n",
       "    </tr>\n",
       "    <tr>\n",
       "      <th>min</th>\n",
       "      <td>2006.0000</td>\n",
       "      <td>0.0000</td>\n",
       "      <td>0.0000</td>\n",
       "      <td>33.0000</td>\n",
       "      <td>0.0000</td>\n",
       "      <td>0.0000</td>\n",
       "      <td>0.0000</td>\n",
       "      <td>50.0000</td>\n",
       "      <td>0.0000</td>\n",
       "      <td>0.0000</td>\n",
       "      <td>0.0000</td>\n",
       "      <td>25245.0000</td>\n",
       "    </tr>\n",
       "    <tr>\n",
       "      <th>25%</th>\n",
       "      <td>2012.0000</td>\n",
       "      <td>1000.0000</td>\n",
       "      <td>0.0000</td>\n",
       "      <td>100.0000</td>\n",
       "      <td>100.0000</td>\n",
       "      <td>77.0000</td>\n",
       "      <td>74.5200</td>\n",
       "      <td>100.0000</td>\n",
       "      <td>100.0000</td>\n",
       "      <td>82.0000</td>\n",
       "      <td>78.0000</td>\n",
       "      <td>1399000.0000</td>\n",
       "    </tr>\n",
       "    <tr>\n",
       "      <th>50%</th>\n",
       "      <td>2016.0000</td>\n",
       "      <td>76000.0000</td>\n",
       "      <td>1.0000</td>\n",
       "      <td>100.0000</td>\n",
       "      <td>100.0000</td>\n",
       "      <td>90.0000</td>\n",
       "      <td>89.0000</td>\n",
       "      <td>100.0000</td>\n",
       "      <td>100.0000</td>\n",
       "      <td>100.0000</td>\n",
       "      <td>92.0000</td>\n",
       "      <td>2161500.0000</td>\n",
       "    </tr>\n",
       "    <tr>\n",
       "      <th>75%</th>\n",
       "      <td>2020.0000</td>\n",
       "      <td>122000.0000</td>\n",
       "      <td>1.0000</td>\n",
       "      <td>100.0000</td>\n",
       "      <td>100.0000</td>\n",
       "      <td>100.0000</td>\n",
       "      <td>100.0000</td>\n",
       "      <td>100.0000</td>\n",
       "      <td>100.0000</td>\n",
       "      <td>100.0000</td>\n",
       "      <td>100.0000</td>\n",
       "      <td>3635446.5000</td>\n",
       "    </tr>\n",
       "    <tr>\n",
       "      <th>99%</th>\n",
       "      <td>2021.0000</td>\n",
       "      <td>250000.0000</td>\n",
       "      <td>1.0000</td>\n",
       "      <td>100.0000</td>\n",
       "      <td>100.0000</td>\n",
       "      <td>100.0000</td>\n",
       "      <td>100.0000</td>\n",
       "      <td>100.0000</td>\n",
       "      <td>100.0000</td>\n",
       "      <td>100.0000</td>\n",
       "      <td>100.0000</td>\n",
       "      <td>9999999.0000</td>\n",
       "    </tr>\n",
       "    <tr>\n",
       "      <th>max</th>\n",
       "      <td>2021.0000</td>\n",
       "      <td>293000.0000</td>\n",
       "      <td>1.0000</td>\n",
       "      <td>100.0000</td>\n",
       "      <td>100.0000</td>\n",
       "      <td>100.0000</td>\n",
       "      <td>100.0000</td>\n",
       "      <td>100.0000</td>\n",
       "      <td>100.0000</td>\n",
       "      <td>100.0000</td>\n",
       "      <td>100.0000</td>\n",
       "      <td>13165500.0000</td>\n",
       "    </tr>\n",
       "  </tbody>\n",
       "</table>\n",
       "</div>"
      ],
      "text/plain": [
       "          car_year      car_kms       dealer  score_marca_a  score_modelo_a  \\\n",
       "count 3042844.0000 3042844.0000 3042844.0000   3042403.0000    3042403.0000   \n",
       "mean     2015.4863   77321.3981       0.6342        99.5748         97.9716   \n",
       "std         4.3608   65661.3865       0.4816         2.1324          9.1413   \n",
       "min      2006.0000       0.0000       0.0000        33.0000          0.0000   \n",
       "25%      2012.0000    1000.0000       0.0000       100.0000        100.0000   \n",
       "50%      2016.0000   76000.0000       1.0000       100.0000        100.0000   \n",
       "75%      2020.0000  122000.0000       1.0000       100.0000        100.0000   \n",
       "99%      2021.0000  250000.0000       1.0000       100.0000        100.0000   \n",
       "max      2021.0000  293000.0000       1.0000       100.0000        100.0000   \n",
       "\n",
       "        score_v1_a  total_score_a  score_marca_c  score_modelo_c   score_v1_c  \\\n",
       "count 3042403.0000   3042403.0000   3042403.0000    3042403.0000 3042403.0000   \n",
       "mean       85.8318        83.9789        99.5707         96.3894      88.3462   \n",
       "std        16.6010        18.3873         2.0819         11.7216      18.5682   \n",
       "min         0.0000         0.0000        50.0000          0.0000       0.0000   \n",
       "25%        77.0000        74.5200       100.0000        100.0000      82.0000   \n",
       "50%        90.0000        89.0000       100.0000        100.0000     100.0000   \n",
       "75%       100.0000       100.0000       100.0000        100.0000     100.0000   \n",
       "99%       100.0000       100.0000       100.0000        100.0000     100.0000   \n",
       "max       100.0000       100.0000       100.0000        100.0000     100.0000   \n",
       "\n",
       "       total_score_c  price_meli_ok  \n",
       "count   3042403.0000   3042844.0000  \n",
       "mean         85.0964   2848255.3573  \n",
       "std          20.9577   2095100.8304  \n",
       "min           0.0000     25245.0000  \n",
       "25%          78.0000   1399000.0000  \n",
       "50%          92.0000   2161500.0000  \n",
       "75%         100.0000   3635446.5000  \n",
       "99%         100.0000   9999999.0000  \n",
       "max         100.0000  13165500.0000  "
      ]
     },
     "execution_count": 28,
     "metadata": {},
     "output_type": "execute_result"
    }
   ],
   "source": [
    "# Observamos algunos estadisticos de las variables (ahora sin los outliers de \"price_meli_ok\" y \"car_kms\")\n",
    "df_meli_ok_cap.describe(percentiles=[0.25,0.75,0.99])"
   ]
  },
  {
   "cell_type": "code",
   "execution_count": 29,
   "id": "40a4ba6b",
   "metadata": {},
   "outputs": [
    {
     "data": {
      "text/plain": [
       "(3042844, 31)"
      ]
     },
     "execution_count": 29,
     "metadata": {},
     "output_type": "execute_result"
    }
   ],
   "source": [
    "df_meli_ok_cap.shape"
   ]
  },
  {
   "cell_type": "markdown",
   "id": "1a70b014",
   "metadata": {},
   "source": [
    "**Tratamiento de duplicados:**<a id='section_duplicados'></a>"
   ]
  },
  {
   "cell_type": "markdown",
   "id": "c43c12d6",
   "metadata": {},
   "source": [
    "Logicamente como hacemos scrapeo diario y los datos se van acumulando, vamos a tener los autos duplicados porque se observan con días de diferencia. <br>\n",
    "Por lo tanto, la solución es claramente eliminar duplicados quedandonós con la fecha más actual."
   ]
  },
  {
   "cell_type": "markdown",
   "id": "6c2abaab",
   "metadata": {},
   "source": [
    "Existen tambien los **duplicados no sanos**, que son los que un ID esta repetido mientras que cambia por ejemplo la marca del auto. Son ediciones de las publicaciones, por lo tanto son casos en los que no podemos confiar mucho. En caso de que no representen una gran proporcion los vamos a eliminar y a su vez hacer una analisis puntual de esos casos para ver si encontramos algun insight"
   ]
  },
  {
   "cell_type": "markdown",
   "id": "14f51432",
   "metadata": {},
   "source": [
    "*Casos raros:* Tenemos duplicados donde el registro es completamente igual hasta en \"date\". Otros en los que es igual hasta en \"date\" pero tiene distinto precio. (investigar)"
   ]
  },
  {
   "cell_type": "code",
   "execution_count": 30,
   "id": "35ef0e6b",
   "metadata": {},
   "outputs": [
    {
     "name": "stdout",
     "output_type": "stream",
     "text": [
      "3042844\n",
      "146526\n",
      "IDs duplicados: 2896318\n"
     ]
    }
   ],
   "source": [
    "# Chequeo duplicados (todos: sanos y no sanos)\n",
    "print(len(df_meli_ok_cap))\n",
    "print(df_meli_ok_cap.car_id.nunique())\n",
    "print(f'IDs duplicados: {len(df_meli_ok_cap)-df_meli_ok_cap.car_id.nunique()}')"
   ]
  },
  {
   "cell_type": "code",
   "execution_count": 31,
   "id": "93d641f8",
   "metadata": {},
   "outputs": [],
   "source": [
    "# Caso de Fabio: calcular cuantos casos tienen esa falla\n",
    "# PENDIENTE"
   ]
  },
  {
   "cell_type": "code",
   "execution_count": 32,
   "id": "0a867af5",
   "metadata": {},
   "outputs": [],
   "source": [
    "# Identificamos IDs duplicados\n",
    "df_IDs = pd.DataFrame(index=df_meli_ok_cap.car_id.value_counts().index.values)\n",
    "df_IDs['repe'] = df_meli_ok_cap.car_id.value_counts().values\n",
    "df_IDs= df_IDs[df_IDs['repe']>1]\n",
    "ids_duplic = df_IDs.index.values"
   ]
  },
  {
   "cell_type": "code",
   "execution_count": 33,
   "id": "a40b15ee",
   "metadata": {
    "collapsed": true,
    "jupyter": {
     "outputs_hidden": true
    }
   },
   "outputs": [
    {
     "data": {
      "text/html": [
       "<div>\n",
       "<style scoped>\n",
       "    .dataframe tbody tr th:only-of-type {\n",
       "        vertical-align: middle;\n",
       "    }\n",
       "\n",
       "    .dataframe tbody tr th {\n",
       "        vertical-align: top;\n",
       "    }\n",
       "\n",
       "    .dataframe thead th {\n",
       "        text-align: right;\n",
       "    }\n",
       "</style>\n",
       "<table border=\"1\" class=\"dataframe\">\n",
       "  <thead>\n",
       "    <tr style=\"text-align: right;\">\n",
       "      <th></th>\n",
       "      <th>runtime</th>\n",
       "      <th>car_year</th>\n",
       "      <th>car_kms</th>\n",
       "      <th>car_location_1</th>\n",
       "      <th>car_location_0</th>\n",
       "      <th>car_id</th>\n",
       "      <th>brand</th>\n",
       "      <th>model</th>\n",
       "      <th>version</th>\n",
       "      <th>dealer</th>\n",
       "    </tr>\n",
       "  </thead>\n",
       "  <tbody>\n",
       "    <tr>\n",
       "      <th>132569</th>\n",
       "      <td>2021-11-22 13:00:36</td>\n",
       "      <td>2006</td>\n",
       "      <td>150000.0000</td>\n",
       "      <td>Bs.As. G.B.A. Oeste</td>\n",
       "      <td>La Matanza</td>\n",
       "      <td>1109887549</td>\n",
       "      <td>Subaru</td>\n",
       "      <td>Impreza</td>\n",
       "      <td>Wrx 2.5</td>\n",
       "      <td>0</td>\n",
       "    </tr>\n",
       "    <tr>\n",
       "      <th>1064036</th>\n",
       "      <td>2021-11-23 05:00:22</td>\n",
       "      <td>2006</td>\n",
       "      <td>150000.0000</td>\n",
       "      <td>Bs.As. G.B.A. Oeste</td>\n",
       "      <td>La Matanza</td>\n",
       "      <td>1109887549</td>\n",
       "      <td>Subaru</td>\n",
       "      <td>Impreza</td>\n",
       "      <td>Wrx 2.5</td>\n",
       "      <td>0</td>\n",
       "    </tr>\n",
       "    <tr>\n",
       "      <th>1995310</th>\n",
       "      <td>2021-11-23 21:00:44</td>\n",
       "      <td>2006</td>\n",
       "      <td>150000.0000</td>\n",
       "      <td>Bs.As. G.B.A. Oeste</td>\n",
       "      <td>La Matanza</td>\n",
       "      <td>1109887549</td>\n",
       "      <td>Subaru</td>\n",
       "      <td>Impreza</td>\n",
       "      <td>Wrx 2.5</td>\n",
       "      <td>0</td>\n",
       "    </tr>\n",
       "    <tr>\n",
       "      <th>1374377</th>\n",
       "      <td>2021-11-24 14:00:41</td>\n",
       "      <td>2006</td>\n",
       "      <td>150000.0000</td>\n",
       "      <td>Bs.As. G.B.A. Oeste</td>\n",
       "      <td>La Matanza</td>\n",
       "      <td>1109887549</td>\n",
       "      <td>Subaru</td>\n",
       "      <td>Impreza</td>\n",
       "      <td>Wrx 2.5</td>\n",
       "      <td>0</td>\n",
       "    </tr>\n",
       "    <tr>\n",
       "      <th>443442</th>\n",
       "      <td>2021-11-25 06:03:19</td>\n",
       "      <td>2006</td>\n",
       "      <td>150000.0000</td>\n",
       "      <td>Bs.As. G.B.A. Oeste</td>\n",
       "      <td>La Matanza</td>\n",
       "      <td>1109887549</td>\n",
       "      <td>Subaru</td>\n",
       "      <td>Impreza</td>\n",
       "      <td>Wrx 2.5</td>\n",
       "      <td>0</td>\n",
       "    </tr>\n",
       "    <tr>\n",
       "      <th>1064035</th>\n",
       "      <td>2021-11-25 23:00:30</td>\n",
       "      <td>2006</td>\n",
       "      <td>150000.0000</td>\n",
       "      <td>Bs.As. G.B.A. Oeste</td>\n",
       "      <td>La Matanza</td>\n",
       "      <td>1109887549</td>\n",
       "      <td>Subaru</td>\n",
       "      <td>Impreza</td>\n",
       "      <td>Wrx 2.5</td>\n",
       "      <td>0</td>\n",
       "    </tr>\n",
       "    <tr>\n",
       "      <th>1059496</th>\n",
       "      <td>2021-11-26 15:00:24</td>\n",
       "      <td>2006</td>\n",
       "      <td>150000.0000</td>\n",
       "      <td>Bs.As. G.B.A. Oeste</td>\n",
       "      <td>La Matanza</td>\n",
       "      <td>1109887549</td>\n",
       "      <td>Subaru</td>\n",
       "      <td>Impreza</td>\n",
       "      <td>Wrx 2.5</td>\n",
       "      <td>0</td>\n",
       "    </tr>\n",
       "    <tr>\n",
       "      <th>1064037</th>\n",
       "      <td>2021-11-27 07:00:18</td>\n",
       "      <td>2006</td>\n",
       "      <td>150000.0000</td>\n",
       "      <td>Bs.As. G.B.A. Oeste</td>\n",
       "      <td>La Matanza</td>\n",
       "      <td>1109887549</td>\n",
       "      <td>Subaru</td>\n",
       "      <td>Impreza</td>\n",
       "      <td>Wrx 2.5</td>\n",
       "      <td>0</td>\n",
       "    </tr>\n",
       "    <tr>\n",
       "      <th>128065</th>\n",
       "      <td>2021-11-28 00:00:34</td>\n",
       "      <td>2006</td>\n",
       "      <td>150000.0000</td>\n",
       "      <td>Bs.As. G.B.A. Oeste</td>\n",
       "      <td>La Matanza</td>\n",
       "      <td>1109887549</td>\n",
       "      <td>Subaru</td>\n",
       "      <td>Impreza</td>\n",
       "      <td>Wrx 2.5</td>\n",
       "      <td>0</td>\n",
       "    </tr>\n",
       "    <tr>\n",
       "      <th>1369749</th>\n",
       "      <td>2021-11-28 17:00:19</td>\n",
       "      <td>2006</td>\n",
       "      <td>150000.0000</td>\n",
       "      <td>Bs.As. G.B.A. Oeste</td>\n",
       "      <td>La Matanza</td>\n",
       "      <td>1109887549</td>\n",
       "      <td>Subaru</td>\n",
       "      <td>Impreza</td>\n",
       "      <td>Wrx 2.5</td>\n",
       "      <td>0</td>\n",
       "    </tr>\n",
       "    <tr>\n",
       "      <th>982765</th>\n",
       "      <td>2021-11-29 09:00:31</td>\n",
       "      <td>2006</td>\n",
       "      <td>150000.0000</td>\n",
       "      <td>Bs.As. G.B.A. Oeste</td>\n",
       "      <td>La Matanza</td>\n",
       "      <td>1109887549</td>\n",
       "      <td>Subaru</td>\n",
       "      <td>Impreza</td>\n",
       "      <td>Wrx 2.5</td>\n",
       "      <td>0</td>\n",
       "    </tr>\n",
       "    <tr>\n",
       "      <th>613059</th>\n",
       "      <td>2021-11-30 01:00:26</td>\n",
       "      <td>2006</td>\n",
       "      <td>150000.0000</td>\n",
       "      <td>Bs.As. G.B.A. Oeste</td>\n",
       "      <td>La Matanza</td>\n",
       "      <td>1109887549</td>\n",
       "      <td>Subaru</td>\n",
       "      <td>Impreza</td>\n",
       "      <td>Wrx 2.5</td>\n",
       "      <td>0</td>\n",
       "    </tr>\n",
       "    <tr>\n",
       "      <th>529305</th>\n",
       "      <td>2021-11-30 01:00:26</td>\n",
       "      <td>2006</td>\n",
       "      <td>150000.0000</td>\n",
       "      <td>Bs.As. G.B.A. Oeste</td>\n",
       "      <td>La Matanza</td>\n",
       "      <td>1109887549</td>\n",
       "      <td>Subaru</td>\n",
       "      <td>Impreza</td>\n",
       "      <td>Wrx 2.5</td>\n",
       "      <td>0</td>\n",
       "    </tr>\n",
       "    <tr>\n",
       "      <th>923062</th>\n",
       "      <td>2021-11-30 18:03:20</td>\n",
       "      <td>2006</td>\n",
       "      <td>150000.0000</td>\n",
       "      <td>Bs.As. G.B.A. Oeste</td>\n",
       "      <td>La Matanza</td>\n",
       "      <td>1109887549</td>\n",
       "      <td>Subaru</td>\n",
       "      <td>Impreza</td>\n",
       "      <td>Wrx 2.5</td>\n",
       "      <td>0</td>\n",
       "    </tr>\n",
       "    <tr>\n",
       "      <th>2701787</th>\n",
       "      <td>2021-11-30 18:03:20</td>\n",
       "      <td>2006</td>\n",
       "      <td>150000.0000</td>\n",
       "      <td>Bs.As. G.B.A. Oeste</td>\n",
       "      <td>La Matanza</td>\n",
       "      <td>1109887549</td>\n",
       "      <td>Subaru</td>\n",
       "      <td>Impreza</td>\n",
       "      <td>Wrx 2.5</td>\n",
       "      <td>0</td>\n",
       "    </tr>\n",
       "    <tr>\n",
       "      <th>1537657</th>\n",
       "      <td>2021-12-01 11:00:24</td>\n",
       "      <td>2006</td>\n",
       "      <td>150000.0000</td>\n",
       "      <td>Bs.As. G.B.A. Oeste</td>\n",
       "      <td>La Matanza</td>\n",
       "      <td>1109887549</td>\n",
       "      <td>Subaru</td>\n",
       "      <td>Impreza</td>\n",
       "      <td>Wrx 2.5</td>\n",
       "      <td>0</td>\n",
       "    </tr>\n",
       "    <tr>\n",
       "      <th>2998801</th>\n",
       "      <td>2021-12-02 05:00:25</td>\n",
       "      <td>2006</td>\n",
       "      <td>150000.0000</td>\n",
       "      <td>Bs.As. G.B.A. Oeste</td>\n",
       "      <td>La Matanza</td>\n",
       "      <td>1109887549</td>\n",
       "      <td>Subaru</td>\n",
       "      <td>Impreza</td>\n",
       "      <td>Wrx 2.5</td>\n",
       "      <td>0</td>\n",
       "    </tr>\n",
       "    <tr>\n",
       "      <th>2377311</th>\n",
       "      <td>2021-12-02 22:00:19</td>\n",
       "      <td>2006</td>\n",
       "      <td>150000.0000</td>\n",
       "      <td>Bs.As. G.B.A. Oeste</td>\n",
       "      <td>La Matanza</td>\n",
       "      <td>1109887549</td>\n",
       "      <td>Subaru</td>\n",
       "      <td>Impreza</td>\n",
       "      <td>Wrx 2.5</td>\n",
       "      <td>0</td>\n",
       "    </tr>\n",
       "    <tr>\n",
       "      <th>3031514</th>\n",
       "      <td>2021-12-03 15:00:37</td>\n",
       "      <td>2006</td>\n",
       "      <td>150000.0000</td>\n",
       "      <td>Bs.As. G.B.A. Oeste</td>\n",
       "      <td>La Matanza</td>\n",
       "      <td>1109887549</td>\n",
       "      <td>Subaru</td>\n",
       "      <td>Impreza</td>\n",
       "      <td>Wrx 2.5</td>\n",
       "      <td>0</td>\n",
       "    </tr>\n",
       "    <tr>\n",
       "      <th>1493283</th>\n",
       "      <td>2021-12-04 07:00:20</td>\n",
       "      <td>2006</td>\n",
       "      <td>150000.0000</td>\n",
       "      <td>Bs.As. G.B.A. Oeste</td>\n",
       "      <td>La Matanza</td>\n",
       "      <td>1109887549</td>\n",
       "      <td>Subaru</td>\n",
       "      <td>Impreza</td>\n",
       "      <td>Wrx 2.5</td>\n",
       "      <td>0</td>\n",
       "    </tr>\n",
       "    <tr>\n",
       "      <th>2206380</th>\n",
       "      <td>2021-12-04 07:00:20</td>\n",
       "      <td>2006</td>\n",
       "      <td>150000.0000</td>\n",
       "      <td>Bs.As. G.B.A. Oeste</td>\n",
       "      <td>La Matanza</td>\n",
       "      <td>1109887549</td>\n",
       "      <td>Subaru</td>\n",
       "      <td>Impreza</td>\n",
       "      <td>Wrx 2.5</td>\n",
       "      <td>0</td>\n",
       "    </tr>\n",
       "    <tr>\n",
       "      <th>298608</th>\n",
       "      <td>2021-12-04 07:00:20</td>\n",
       "      <td>2006</td>\n",
       "      <td>150000.0000</td>\n",
       "      <td>Bs.As. G.B.A. Oeste</td>\n",
       "      <td>La Matanza</td>\n",
       "      <td>1109887549</td>\n",
       "      <td>Subaru</td>\n",
       "      <td>Impreza</td>\n",
       "      <td>Wrx 2.5</td>\n",
       "      <td>0</td>\n",
       "    </tr>\n",
       "    <tr>\n",
       "      <th>2160852</th>\n",
       "      <td>2021-12-04 23:00:17</td>\n",
       "      <td>2006</td>\n",
       "      <td>150000.0000</td>\n",
       "      <td>Bs.As. G.B.A. Oeste</td>\n",
       "      <td>La Matanza</td>\n",
       "      <td>1109887549</td>\n",
       "      <td>Subaru</td>\n",
       "      <td>Impreza</td>\n",
       "      <td>Wrx 2.5</td>\n",
       "      <td>0</td>\n",
       "    </tr>\n",
       "    <tr>\n",
       "      <th>965493</th>\n",
       "      <td>2021-12-04 23:00:17</td>\n",
       "      <td>2006</td>\n",
       "      <td>150000.0000</td>\n",
       "      <td>Bs.As. G.B.A. Oeste</td>\n",
       "      <td>La Matanza</td>\n",
       "      <td>1109887549</td>\n",
       "      <td>Subaru</td>\n",
       "      <td>Impreza</td>\n",
       "      <td>Wrx 2.5</td>\n",
       "      <td>0</td>\n",
       "    </tr>\n",
       "    <tr>\n",
       "      <th>2424365</th>\n",
       "      <td>2021-12-04 23:00:17</td>\n",
       "      <td>2006</td>\n",
       "      <td>150000.0000</td>\n",
       "      <td>Bs.As. G.B.A. Oeste</td>\n",
       "      <td>La Matanza</td>\n",
       "      <td>1109887549</td>\n",
       "      <td>Subaru</td>\n",
       "      <td>Impreza</td>\n",
       "      <td>Wrx 2.5</td>\n",
       "      <td>0</td>\n",
       "    </tr>\n",
       "    <tr>\n",
       "      <th>977771</th>\n",
       "      <td>2021-12-05 15:00:33</td>\n",
       "      <td>2006</td>\n",
       "      <td>150000.0000</td>\n",
       "      <td>Bs.As. G.B.A. Oeste</td>\n",
       "      <td>La Matanza</td>\n",
       "      <td>1109887549</td>\n",
       "      <td>Subaru</td>\n",
       "      <td>Impreza</td>\n",
       "      <td>Wrx 2.5</td>\n",
       "      <td>0</td>\n",
       "    </tr>\n",
       "    <tr>\n",
       "      <th>262546</th>\n",
       "      <td>2021-12-06 08:00:32</td>\n",
       "      <td>2006</td>\n",
       "      <td>150000.0000</td>\n",
       "      <td>Bs.As. G.B.A. Oeste</td>\n",
       "      <td>La Matanza</td>\n",
       "      <td>1109887549</td>\n",
       "      <td>Subaru</td>\n",
       "      <td>Impreza</td>\n",
       "      <td>Wrx 2.5</td>\n",
       "      <td>0</td>\n",
       "    </tr>\n",
       "    <tr>\n",
       "      <th>2725335</th>\n",
       "      <td>2021-12-07 01:00:33</td>\n",
       "      <td>2006</td>\n",
       "      <td>150000.0000</td>\n",
       "      <td>Bs.As. G.B.A. Oeste</td>\n",
       "      <td>La Matanza</td>\n",
       "      <td>1109887549</td>\n",
       "      <td>Subaru</td>\n",
       "      <td>Impreza</td>\n",
       "      <td>Wrx 2.5</td>\n",
       "      <td>0</td>\n",
       "    </tr>\n",
       "    <tr>\n",
       "      <th>242096</th>\n",
       "      <td>2021-12-07 17:00:36</td>\n",
       "      <td>2006</td>\n",
       "      <td>150000.0000</td>\n",
       "      <td>Bs.As. G.B.A. Oeste</td>\n",
       "      <td>La Matanza</td>\n",
       "      <td>1109887549</td>\n",
       "      <td>Subaru</td>\n",
       "      <td>Impreza</td>\n",
       "      <td>Wrx 2.5</td>\n",
       "      <td>0</td>\n",
       "    </tr>\n",
       "    <tr>\n",
       "      <th>1005026</th>\n",
       "      <td>2021-12-08 09:00:23</td>\n",
       "      <td>2006</td>\n",
       "      <td>150000.0000</td>\n",
       "      <td>Bs.As. G.B.A. Oeste</td>\n",
       "      <td>La Matanza</td>\n",
       "      <td>1109887549</td>\n",
       "      <td>Subaru</td>\n",
       "      <td>Impreza</td>\n",
       "      <td>Wrx 2.5</td>\n",
       "      <td>0</td>\n",
       "    </tr>\n",
       "    <tr>\n",
       "      <th>2495429</th>\n",
       "      <td>2021-12-09 01:00:20</td>\n",
       "      <td>2006</td>\n",
       "      <td>150000.0000</td>\n",
       "      <td>Bs.As. G.B.A. Oeste</td>\n",
       "      <td>La Matanza</td>\n",
       "      <td>1109887549</td>\n",
       "      <td>Subaru</td>\n",
       "      <td>Impreza</td>\n",
       "      <td>Wrx 2.5</td>\n",
       "      <td>0</td>\n",
       "    </tr>\n",
       "    <tr>\n",
       "      <th>1564883</th>\n",
       "      <td>2021-12-09 18:00:18</td>\n",
       "      <td>2006</td>\n",
       "      <td>150000.0000</td>\n",
       "      <td>Bs.As. G.B.A. Oeste</td>\n",
       "      <td>La Matanza</td>\n",
       "      <td>1109887549</td>\n",
       "      <td>Subaru</td>\n",
       "      <td>Impreza</td>\n",
       "      <td>Wrx 2.5</td>\n",
       "      <td>0</td>\n",
       "    </tr>\n",
       "    <tr>\n",
       "      <th>14418</th>\n",
       "      <td>2021-12-10 12:03:16</td>\n",
       "      <td>2006</td>\n",
       "      <td>150000.0000</td>\n",
       "      <td>Bs.As. G.B.A. Oeste</td>\n",
       "      <td>La Matanza</td>\n",
       "      <td>1109887549</td>\n",
       "      <td>Subaru</td>\n",
       "      <td>Impreza</td>\n",
       "      <td>Wrx 2.5</td>\n",
       "      <td>0</td>\n",
       "    </tr>\n",
       "    <tr>\n",
       "      <th>2831089</th>\n",
       "      <td>2021-12-11 05:00:19</td>\n",
       "      <td>2006</td>\n",
       "      <td>150000.0000</td>\n",
       "      <td>Bs.As. G.B.A. Oeste</td>\n",
       "      <td>La Matanza</td>\n",
       "      <td>1109887549</td>\n",
       "      <td>Subaru</td>\n",
       "      <td>Impreza</td>\n",
       "      <td>Wrx 2.5</td>\n",
       "      <td>0</td>\n",
       "    </tr>\n",
       "    <tr>\n",
       "      <th>2520059</th>\n",
       "      <td>2021-12-11 22:00:21</td>\n",
       "      <td>2006</td>\n",
       "      <td>150000.0000</td>\n",
       "      <td>Bs.As. G.B.A. Oeste</td>\n",
       "      <td>La Matanza</td>\n",
       "      <td>1109887549</td>\n",
       "      <td>Subaru</td>\n",
       "      <td>Impreza</td>\n",
       "      <td>Wrx 2.5</td>\n",
       "      <td>0</td>\n",
       "    </tr>\n",
       "    <tr>\n",
       "      <th>941183</th>\n",
       "      <td>2021-12-12 15:01:00</td>\n",
       "      <td>2006</td>\n",
       "      <td>150000.0000</td>\n",
       "      <td>Bs.As. G.B.A. Oeste</td>\n",
       "      <td>La Matanza</td>\n",
       "      <td>1109887549</td>\n",
       "      <td>Subaru</td>\n",
       "      <td>Impreza</td>\n",
       "      <td>Wrx 2.5</td>\n",
       "      <td>0</td>\n",
       "    </tr>\n",
       "    <tr>\n",
       "      <th>2190567</th>\n",
       "      <td>2021-12-13 09:00:21</td>\n",
       "      <td>2006</td>\n",
       "      <td>150000.0000</td>\n",
       "      <td>Bs.As. G.B.A. Oeste</td>\n",
       "      <td>La Matanza</td>\n",
       "      <td>1109887549</td>\n",
       "      <td>Subaru</td>\n",
       "      <td>Impreza</td>\n",
       "      <td>Wrx 2.5</td>\n",
       "      <td>0</td>\n",
       "    </tr>\n",
       "    <tr>\n",
       "      <th>681392</th>\n",
       "      <td>2021-12-14 02:00:20</td>\n",
       "      <td>2006</td>\n",
       "      <td>150000.0000</td>\n",
       "      <td>Bs.As. G.B.A. Oeste</td>\n",
       "      <td>La Matanza</td>\n",
       "      <td>1109887549</td>\n",
       "      <td>Subaru</td>\n",
       "      <td>Impreza</td>\n",
       "      <td>Wrx 2.5</td>\n",
       "      <td>0</td>\n",
       "    </tr>\n",
       "    <tr>\n",
       "      <th>992148</th>\n",
       "      <td>2021-12-14 19:00:31</td>\n",
       "      <td>2006</td>\n",
       "      <td>150000.0000</td>\n",
       "      <td>Bs.As. G.B.A. Oeste</td>\n",
       "      <td>La Matanza</td>\n",
       "      <td>1109887549</td>\n",
       "      <td>Subaru</td>\n",
       "      <td>Impreza</td>\n",
       "      <td>Wrx 2.5</td>\n",
       "      <td>0</td>\n",
       "    </tr>\n",
       "    <tr>\n",
       "      <th>365924</th>\n",
       "      <td>2021-12-15 11:00:19</td>\n",
       "      <td>2006</td>\n",
       "      <td>150000.0000</td>\n",
       "      <td>Bs.As. G.B.A. Oeste</td>\n",
       "      <td>La Matanza</td>\n",
       "      <td>1109887549</td>\n",
       "      <td>Subaru</td>\n",
       "      <td>Impreza</td>\n",
       "      <td>Wrx 2.5</td>\n",
       "      <td>0</td>\n",
       "    </tr>\n",
       "    <tr>\n",
       "      <th>1905046</th>\n",
       "      <td>2021-12-16 04:00:19</td>\n",
       "      <td>2006</td>\n",
       "      <td>150000.0000</td>\n",
       "      <td>Bs.As. G.B.A. Oeste</td>\n",
       "      <td>La Matanza</td>\n",
       "      <td>1109887549</td>\n",
       "      <td>Subaru</td>\n",
       "      <td>Impreza</td>\n",
       "      <td>Wrx 2.5</td>\n",
       "      <td>0</td>\n",
       "    </tr>\n",
       "    <tr>\n",
       "      <th>1283795</th>\n",
       "      <td>2021-12-16 21:00:22</td>\n",
       "      <td>2006</td>\n",
       "      <td>150000.0000</td>\n",
       "      <td>Bs.As. G.B.A. Oeste</td>\n",
       "      <td>La Matanza</td>\n",
       "      <td>1109887549</td>\n",
       "      <td>Subaru</td>\n",
       "      <td>Impreza</td>\n",
       "      <td>Wrx 2.5</td>\n",
       "      <td>0</td>\n",
       "    </tr>\n",
       "    <tr>\n",
       "      <th>594799</th>\n",
       "      <td>2021-12-17 23:00:20</td>\n",
       "      <td>2006</td>\n",
       "      <td>150000.0000</td>\n",
       "      <td>Bs.As. G.B.A. Oeste</td>\n",
       "      <td>La Matanza</td>\n",
       "      <td>1109887549</td>\n",
       "      <td>Subaru</td>\n",
       "      <td>Impreza</td>\n",
       "      <td>Wrx 2.5</td>\n",
       "      <td>0</td>\n",
       "    </tr>\n",
       "    <tr>\n",
       "      <th>2816344</th>\n",
       "      <td>2021-12-18 15:00:20</td>\n",
       "      <td>2006</td>\n",
       "      <td>150000.0000</td>\n",
       "      <td>Bs.As. G.B.A. Oeste</td>\n",
       "      <td>La Matanza</td>\n",
       "      <td>1109887549</td>\n",
       "      <td>Subaru</td>\n",
       "      <td>Impreza</td>\n",
       "      <td>Wrx 2.5</td>\n",
       "      <td>0</td>\n",
       "    </tr>\n",
       "    <tr>\n",
       "      <th>2488570</th>\n",
       "      <td>2021-12-19 08:00:23</td>\n",
       "      <td>2006</td>\n",
       "      <td>150000.0000</td>\n",
       "      <td>Bs.As. G.B.A. Oeste</td>\n",
       "      <td>La Matanza</td>\n",
       "      <td>1109887549</td>\n",
       "      <td>Subaru</td>\n",
       "      <td>Impreza</td>\n",
       "      <td>Wrx 2.5</td>\n",
       "      <td>0</td>\n",
       "    </tr>\n",
       "  </tbody>\n",
       "</table>\n",
       "</div>"
      ],
      "text/plain": [
       "                    runtime  car_year     car_kms       car_location_1  \\\n",
       "132569  2021-11-22 13:00:36      2006 150000.0000  Bs.As. G.B.A. Oeste   \n",
       "1064036 2021-11-23 05:00:22      2006 150000.0000  Bs.As. G.B.A. Oeste   \n",
       "1995310 2021-11-23 21:00:44      2006 150000.0000  Bs.As. G.B.A. Oeste   \n",
       "1374377 2021-11-24 14:00:41      2006 150000.0000  Bs.As. G.B.A. Oeste   \n",
       "443442  2021-11-25 06:03:19      2006 150000.0000  Bs.As. G.B.A. Oeste   \n",
       "1064035 2021-11-25 23:00:30      2006 150000.0000  Bs.As. G.B.A. Oeste   \n",
       "1059496 2021-11-26 15:00:24      2006 150000.0000  Bs.As. G.B.A. Oeste   \n",
       "1064037 2021-11-27 07:00:18      2006 150000.0000  Bs.As. G.B.A. Oeste   \n",
       "128065  2021-11-28 00:00:34      2006 150000.0000  Bs.As. G.B.A. Oeste   \n",
       "1369749 2021-11-28 17:00:19      2006 150000.0000  Bs.As. G.B.A. Oeste   \n",
       "982765  2021-11-29 09:00:31      2006 150000.0000  Bs.As. G.B.A. Oeste   \n",
       "613059  2021-11-30 01:00:26      2006 150000.0000  Bs.As. G.B.A. Oeste   \n",
       "529305  2021-11-30 01:00:26      2006 150000.0000  Bs.As. G.B.A. Oeste   \n",
       "923062  2021-11-30 18:03:20      2006 150000.0000  Bs.As. G.B.A. Oeste   \n",
       "2701787 2021-11-30 18:03:20      2006 150000.0000  Bs.As. G.B.A. Oeste   \n",
       "1537657 2021-12-01 11:00:24      2006 150000.0000  Bs.As. G.B.A. Oeste   \n",
       "2998801 2021-12-02 05:00:25      2006 150000.0000  Bs.As. G.B.A. Oeste   \n",
       "2377311 2021-12-02 22:00:19      2006 150000.0000  Bs.As. G.B.A. Oeste   \n",
       "3031514 2021-12-03 15:00:37      2006 150000.0000  Bs.As. G.B.A. Oeste   \n",
       "1493283 2021-12-04 07:00:20      2006 150000.0000  Bs.As. G.B.A. Oeste   \n",
       "2206380 2021-12-04 07:00:20      2006 150000.0000  Bs.As. G.B.A. Oeste   \n",
       "298608  2021-12-04 07:00:20      2006 150000.0000  Bs.As. G.B.A. Oeste   \n",
       "2160852 2021-12-04 23:00:17      2006 150000.0000  Bs.As. G.B.A. Oeste   \n",
       "965493  2021-12-04 23:00:17      2006 150000.0000  Bs.As. G.B.A. Oeste   \n",
       "2424365 2021-12-04 23:00:17      2006 150000.0000  Bs.As. G.B.A. Oeste   \n",
       "977771  2021-12-05 15:00:33      2006 150000.0000  Bs.As. G.B.A. Oeste   \n",
       "262546  2021-12-06 08:00:32      2006 150000.0000  Bs.As. G.B.A. Oeste   \n",
       "2725335 2021-12-07 01:00:33      2006 150000.0000  Bs.As. G.B.A. Oeste   \n",
       "242096  2021-12-07 17:00:36      2006 150000.0000  Bs.As. G.B.A. Oeste   \n",
       "1005026 2021-12-08 09:00:23      2006 150000.0000  Bs.As. G.B.A. Oeste   \n",
       "2495429 2021-12-09 01:00:20      2006 150000.0000  Bs.As. G.B.A. Oeste   \n",
       "1564883 2021-12-09 18:00:18      2006 150000.0000  Bs.As. G.B.A. Oeste   \n",
       "14418   2021-12-10 12:03:16      2006 150000.0000  Bs.As. G.B.A. Oeste   \n",
       "2831089 2021-12-11 05:00:19      2006 150000.0000  Bs.As. G.B.A. Oeste   \n",
       "2520059 2021-12-11 22:00:21      2006 150000.0000  Bs.As. G.B.A. Oeste   \n",
       "941183  2021-12-12 15:01:00      2006 150000.0000  Bs.As. G.B.A. Oeste   \n",
       "2190567 2021-12-13 09:00:21      2006 150000.0000  Bs.As. G.B.A. Oeste   \n",
       "681392  2021-12-14 02:00:20      2006 150000.0000  Bs.As. G.B.A. Oeste   \n",
       "992148  2021-12-14 19:00:31      2006 150000.0000  Bs.As. G.B.A. Oeste   \n",
       "365924  2021-12-15 11:00:19      2006 150000.0000  Bs.As. G.B.A. Oeste   \n",
       "1905046 2021-12-16 04:00:19      2006 150000.0000  Bs.As. G.B.A. Oeste   \n",
       "1283795 2021-12-16 21:00:22      2006 150000.0000  Bs.As. G.B.A. Oeste   \n",
       "594799  2021-12-17 23:00:20      2006 150000.0000  Bs.As. G.B.A. Oeste   \n",
       "2816344 2021-12-18 15:00:20      2006 150000.0000  Bs.As. G.B.A. Oeste   \n",
       "2488570 2021-12-19 08:00:23      2006 150000.0000  Bs.As. G.B.A. Oeste   \n",
       "\n",
       "        car_location_0      car_id   brand    model  version  dealer  \n",
       "132569      La Matanza  1109887549  Subaru  Impreza  Wrx 2.5       0  \n",
       "1064036     La Matanza  1109887549  Subaru  Impreza  Wrx 2.5       0  \n",
       "1995310     La Matanza  1109887549  Subaru  Impreza  Wrx 2.5       0  \n",
       "1374377     La Matanza  1109887549  Subaru  Impreza  Wrx 2.5       0  \n",
       "443442      La Matanza  1109887549  Subaru  Impreza  Wrx 2.5       0  \n",
       "1064035     La Matanza  1109887549  Subaru  Impreza  Wrx 2.5       0  \n",
       "1059496     La Matanza  1109887549  Subaru  Impreza  Wrx 2.5       0  \n",
       "1064037     La Matanza  1109887549  Subaru  Impreza  Wrx 2.5       0  \n",
       "128065      La Matanza  1109887549  Subaru  Impreza  Wrx 2.5       0  \n",
       "1369749     La Matanza  1109887549  Subaru  Impreza  Wrx 2.5       0  \n",
       "982765      La Matanza  1109887549  Subaru  Impreza  Wrx 2.5       0  \n",
       "613059      La Matanza  1109887549  Subaru  Impreza  Wrx 2.5       0  \n",
       "529305      La Matanza  1109887549  Subaru  Impreza  Wrx 2.5       0  \n",
       "923062      La Matanza  1109887549  Subaru  Impreza  Wrx 2.5       0  \n",
       "2701787     La Matanza  1109887549  Subaru  Impreza  Wrx 2.5       0  \n",
       "1537657     La Matanza  1109887549  Subaru  Impreza  Wrx 2.5       0  \n",
       "2998801     La Matanza  1109887549  Subaru  Impreza  Wrx 2.5       0  \n",
       "2377311     La Matanza  1109887549  Subaru  Impreza  Wrx 2.5       0  \n",
       "3031514     La Matanza  1109887549  Subaru  Impreza  Wrx 2.5       0  \n",
       "1493283     La Matanza  1109887549  Subaru  Impreza  Wrx 2.5       0  \n",
       "2206380     La Matanza  1109887549  Subaru  Impreza  Wrx 2.5       0  \n",
       "298608      La Matanza  1109887549  Subaru  Impreza  Wrx 2.5       0  \n",
       "2160852     La Matanza  1109887549  Subaru  Impreza  Wrx 2.5       0  \n",
       "965493      La Matanza  1109887549  Subaru  Impreza  Wrx 2.5       0  \n",
       "2424365     La Matanza  1109887549  Subaru  Impreza  Wrx 2.5       0  \n",
       "977771      La Matanza  1109887549  Subaru  Impreza  Wrx 2.5       0  \n",
       "262546      La Matanza  1109887549  Subaru  Impreza  Wrx 2.5       0  \n",
       "2725335     La Matanza  1109887549  Subaru  Impreza  Wrx 2.5       0  \n",
       "242096      La Matanza  1109887549  Subaru  Impreza  Wrx 2.5       0  \n",
       "1005026     La Matanza  1109887549  Subaru  Impreza  Wrx 2.5       0  \n",
       "2495429     La Matanza  1109887549  Subaru  Impreza  Wrx 2.5       0  \n",
       "1564883     La Matanza  1109887549  Subaru  Impreza  Wrx 2.5       0  \n",
       "14418       La Matanza  1109887549  Subaru  Impreza  Wrx 2.5       0  \n",
       "2831089     La Matanza  1109887549  Subaru  Impreza  Wrx 2.5       0  \n",
       "2520059     La Matanza  1109887549  Subaru  Impreza  Wrx 2.5       0  \n",
       "941183      La Matanza  1109887549  Subaru  Impreza  Wrx 2.5       0  \n",
       "2190567     La Matanza  1109887549  Subaru  Impreza  Wrx 2.5       0  \n",
       "681392      La Matanza  1109887549  Subaru  Impreza  Wrx 2.5       0  \n",
       "992148      La Matanza  1109887549  Subaru  Impreza  Wrx 2.5       0  \n",
       "365924      La Matanza  1109887549  Subaru  Impreza  Wrx 2.5       0  \n",
       "1905046     La Matanza  1109887549  Subaru  Impreza  Wrx 2.5       0  \n",
       "1283795     La Matanza  1109887549  Subaru  Impreza  Wrx 2.5       0  \n",
       "594799      La Matanza  1109887549  Subaru  Impreza  Wrx 2.5       0  \n",
       "2816344     La Matanza  1109887549  Subaru  Impreza  Wrx 2.5       0  \n",
       "2488570     La Matanza  1109887549  Subaru  Impreza  Wrx 2.5       0  "
      ]
     },
     "execution_count": 33,
     "metadata": {},
     "output_type": "execute_result"
    }
   ],
   "source": [
    "# Observamos un caso de un id duplicado\n",
    "# Podemos ver que está duplicado porque fue observado en diferentes meses, y lo único que varía es el precio\n",
    "# Nuestra estrategia para tratar los duplicados será quedarnos únicamente con el registro más reciente (precio más actualizado)\n",
    "df_meli_ok_cap[df_meli_ok_cap['car_id']==ids_duplic[0]].sort_values(by=['runtime'])[['runtime','car_year','car_kms','car_location_1','car_location_0','car_id','brand','model','version','dealer']]"
   ]
  },
  {
   "cell_type": "markdown",
   "id": "0d0f872c",
   "metadata": {},
   "source": [
    "*Casos raros:* Tenemos duplicados donde el registro es completamente igual hasta en \"date\". Otros en los que es igual hasta en \"date\" pero tiene distinto precio. (investigar)"
   ]
  },
  {
   "cell_type": "code",
   "execution_count": 34,
   "id": "4d7f07d3",
   "metadata": {},
   "outputs": [],
   "source": [
    "# Antes de eliminar duplicados con el metodo \"last\" para quedarnos con el ultimo registro,\n",
    "# vamos a ordernar el df en base a \"date\" y el indice, para que de esta manera, asegurarnos de que el registros con el cual\n",
    "# nos vamos a quedar, sea realmente el más reciente.\n",
    "df_meli_ok_cap = df_meli_ok_cap.sort_values(['runtime'])"
   ]
  },
  {
   "cell_type": "code",
   "execution_count": 35,
   "id": "709d141b",
   "metadata": {},
   "outputs": [],
   "source": [
    "# Ahora si, teniendo el df ordenado, eliminamos los duplicados, quedandonos con el registro más reciente (la última ocurrencia)\n",
    "df_meli_ok_cap.drop_duplicates(subset=['car_id'], keep='last', inplace=True)"
   ]
  },
  {
   "cell_type": "code",
   "execution_count": 36,
   "id": "8d975a47",
   "metadata": {},
   "outputs": [
    {
     "name": "stdout",
     "output_type": "stream",
     "text": [
      "146526\n",
      "146526\n",
      "IDs duplicados: 0\n"
     ]
    }
   ],
   "source": [
    "# Chequeamos como quedó el dataset luego de eliminar duplicados\n",
    "print(len(df_meli_ok_cap))\n",
    "print(df_meli_ok_cap.car_id.nunique())\n",
    "print(f'IDs duplicados: {len(df_meli_ok_cap)-df_meli_ok_cap.car_id.nunique()}')"
   ]
  },
  {
   "cell_type": "markdown",
   "id": "daff2884",
   "metadata": {},
   "source": [
    "Si bien la variable \"runtime\" (fecha y hora del scrapeo) no la vamos a usar para entrenar el modelo ni tampoco para analizarla buscando algún insight, nos sirvió para eliminar duplicados de la forma más accurate... quedarnos con el dato más actualizado al descartar sus duplicados. <br/>\n",
    "No la vamos a usar para ningún otro fin, por lo tanto en la sección de Feature Engineering la vamos a eliminar"
   ]
  },
  {
   "cell_type": "markdown",
   "id": "b05b8289",
   "metadata": {},
   "source": [
    "***Fin: Tratamiento duplicados***"
   ]
  },
  {
   "cell_type": "code",
   "execution_count": 37,
   "id": "ea40c17c",
   "metadata": {},
   "outputs": [
    {
     "data": {
      "text/plain": [
       "Capital Federal           35582\n",
       "Bs.As. G.B.A. Norte       23057\n",
       "Bs.As. G.B.A. Sur         22609\n",
       "Bs.As. G.B.A. Oeste       16552\n",
       "Córdoba                   12370\n",
       "Buenos Aires Interior     10134\n",
       "Santa Fe                   4977\n",
       "Bs.As. Costa Atlántica     3841\n",
       "Mendoza                    3039\n",
       "Entre Ríos                 2446\n",
       "Neuquén                    1329\n",
       "Corrientes                 1207\n",
       "Tucumán                    1191\n",
       "Río Negro                  1019\n",
       "Chaco                       973\n",
       "San Luis                    890\n",
       "Misiones                    872\n",
       "Salta                       709\n",
       "Chubut                      642\n",
       "La Pampa                    537\n",
       "San Juan                    420\n",
       "Santiago del Estero         384\n",
       "Catamarca                   302\n",
       "Formosa                     297\n",
       "Jujuy                       289\n",
       "La Rioja                    286\n",
       "Santa Cruz                  256\n",
       "Tierra del Fuego            138\n",
       "Brasil                        1\n",
       "Name: car_location_1, dtype: int64"
      ]
     },
     "execution_count": 37,
     "metadata": {},
     "output_type": "execute_result"
    }
   ],
   "source": [
    "# Observamos que tenemos registros que corresponden a Brasil\n",
    "df_meli_ok_cap.car_location_1.value_counts()"
   ]
  },
  {
   "cell_type": "code",
   "execution_count": 38,
   "id": "26d82d10",
   "metadata": {},
   "outputs": [],
   "source": [
    "# Eliminamos el registro que corresponden a Brasil\n",
    "mask_not_brazil = df_meli_ok_cap.car_location_1 != 'Brasil'\n",
    "df_meli_ok_cap = df_meli_ok_cap[mask_not_brazil]"
   ]
  },
  {
   "cell_type": "code",
   "execution_count": 39,
   "id": "09e70e4b",
   "metadata": {},
   "outputs": [
    {
     "data": {
      "text/plain": [
       "Volkswagen       27938\n",
       "Fiat             16868\n",
       "Chevrolet        15630\n",
       "Renault          15532\n",
       "Peugeot          14663\n",
       "Ford             13716\n",
       "Toyota            9190\n",
       "Citroën           7305\n",
       "Audi              4484\n",
       "Jeep              3202\n",
       "Mercedes-Benz     3120\n",
       "Honda             2696\n",
       "BMW               2668\n",
       "Nissan            2607\n",
       "Hyundai           1021\n",
       "Chery              988\n",
       "Kia                897\n",
       "Mini               496\n",
       "Dodge              469\n",
       "RAM                451\n",
       "Suzuki             416\n",
       "DS                 336\n",
       "Alfa Romeo         249\n",
       "Volvo              183\n",
       "Mitsubishi         162\n",
       "Chrysler           153\n",
       "Smart              136\n",
       "Land Rover         124\n",
       "Subaru             117\n",
       "Baic                89\n",
       "Lifan               85\n",
       "SEAT                80\n",
       "Geely               75\n",
       "Haval               68\n",
       "DFSK                62\n",
       "Shineray            52\n",
       "Porsche             51\n",
       "JAC                 47\n",
       "Iveco               18\n",
       "KyC                 17\n",
       "Changan             14\n",
       "Foton               12\n",
       "Isuzu               10\n",
       "Jetour               9\n",
       "Jaguar               6\n",
       "Lexus                5\n",
       "Zanella              3\n",
       "Great Wall           2\n",
       "Rover                1\n",
       "Ssangyong            1\n",
       "Mini Cooper          1\n",
       "Name: brand, dtype: int64"
      ]
     },
     "execution_count": 39,
     "metadata": {},
     "output_type": "execute_result"
    }
   ],
   "source": [
    "df_meli_ok_cap.brand.value_counts()"
   ]
  },
  {
   "cell_type": "code",
   "execution_count": 40,
   "id": "1d6b42ba",
   "metadata": {},
   "outputs": [
    {
     "data": {
      "text/plain": [
       "(146525, 31)"
      ]
     },
     "execution_count": 40,
     "metadata": {},
     "output_type": "execute_result"
    }
   ],
   "source": [
    "df_meli_ok_cap.shape"
   ]
  },
  {
   "cell_type": "code",
   "execution_count": 41,
   "id": "c9fc4dee",
   "metadata": {},
   "outputs": [],
   "source": [
    "# Excluímos los registros con muy pocas ocurrencias respecto a la feautre \"brand\"\n",
    "cat_to_exclude = ['Foton','Isuzu','Jetour','Jaguar','Lexus','Zanella','Great Wall','Ssangyong','Mini Cooper','Rover']\n",
    "for i in cat_to_exclude:\n",
    "    df_meli_ok_cap = df_meli_ok_cap[df_meli_ok_cap['brand'] != i]"
   ]
  },
  {
   "cell_type": "code",
   "execution_count": 95,
   "id": "e79f9894",
   "metadata": {},
   "outputs": [
    {
     "data": {
      "text/plain": [
       "['Alfa Romeo',\n",
       " 'Audi',\n",
       " 'BMW',\n",
       " 'Chery',\n",
       " 'Chevrolet',\n",
       " 'Chrysler',\n",
       " 'Citroën',\n",
       " 'DS',\n",
       " 'Dodge',\n",
       " 'Fiat',\n",
       " 'Ford',\n",
       " 'Geely',\n",
       " 'Haval',\n",
       " 'Honda',\n",
       " 'Hyundai',\n",
       " 'JAC',\n",
       " 'Jeep',\n",
       " 'Kia',\n",
       " 'Land Rover',\n",
       " 'Lifan',\n",
       " 'Mercedes-Benz',\n",
       " 'Mini',\n",
       " 'Mitsubishi',\n",
       " 'Nissan',\n",
       " 'Peugeot',\n",
       " 'Porsche',\n",
       " 'RAM',\n",
       " 'Renault',\n",
       " 'SEAT',\n",
       " 'Shineray',\n",
       " 'Smart',\n",
       " 'Subaru',\n",
       " 'Suzuki',\n",
       " 'Toyota',\n",
       " 'Volkswagen',\n",
       " 'Volvo']"
      ]
     },
     "execution_count": 95,
     "metadata": {},
     "output_type": "execute_result"
    }
   ],
   "source": [
    "cats_brand_ok = sorted(df_meli_ok_cap.brand.unique().tolist())\n",
    "cats_brand_ok"
   ]
  },
  {
   "cell_type": "code",
   "execution_count": 42,
   "id": "f0b6db43",
   "metadata": {},
   "outputs": [
    {
     "data": {
      "text/plain": [
       "(146475, 31)"
      ]
     },
     "execution_count": 42,
     "metadata": {},
     "output_type": "execute_result"
    }
   ],
   "source": [
    "df_meli_ok_cap.shape"
   ]
  },
  {
   "cell_type": "markdown",
   "id": "12770a10",
   "metadata": {},
   "source": [
    "# 3) EDA / Data cleaning <a id='section_eda'></a>"
   ]
  },
  {
   "cell_type": "code",
   "execution_count": 43,
   "id": "39eb0385",
   "metadata": {},
   "outputs": [],
   "source": [
    "# Creamos listas de las variables que vamos a analizar esta primera tanda (las variables que no necesitan mucho pre procesamiento)\n",
    "categ = ['car_location_1','brand','dealer']\n",
    "numeric = ['car_kms']\n",
    "temp = ['car_year']\n",
    "target = ['price_meli_ok']\n",
    "not_yet = ['car_location_0','version','model']\n",
    "ids_features = ['date','car_id']\n",
    "matcheo_features = [col for col in df_meli_ok_cap if col not in categ+numeric+target+not_yet+ids_features]"
   ]
  },
  {
   "cell_type": "code",
   "execution_count": 44,
   "id": "f4385763",
   "metadata": {},
   "outputs": [
    {
     "name": "stdout",
     "output_type": "stream",
     "text": [
      "['Bs.As. Costa Atlántica', 'Bs.As. G.B.A. Norte', 'Bs.As. G.B.A. Oeste', 'Bs.As. G.B.A. Sur', 'Buenos Aires Interior', 'Capital Federal', 'Catamarca', 'Chaco', 'Chubut', 'Corrientes', 'Córdoba', 'Entre Ríos', 'Formosa', 'Jujuy', 'La Pampa', 'La Rioja', 'Mendoza', 'Misiones', 'Neuquén', 'Río Negro', 'Salta', 'San Juan', 'San Luis', 'Santa Cruz', 'Santa Fe', 'Santiago del Estero', 'Tierra del Fuego', 'Tucumán'] \n",
      " \n",
      " 177 \n",
      " \n",
      "\n",
      "['Alfa Romeo', 'Audi', 'BMW', 'Baic', 'Changan', 'Chery', 'Chevrolet', 'Chrysler', 'Citroën', 'DFSK', 'DS', 'Dodge', 'Fiat', 'Ford', 'Geely', 'Haval', 'Honda', 'Hyundai', 'Iveco', 'JAC', 'Jeep', 'Kia', 'KyC', 'Land Rover', 'Lifan', 'Mercedes-Benz', 'Mini', 'Mitsubishi', 'Nissan', 'Peugeot', 'Porsche', 'RAM', 'Renault', 'SEAT', 'Shineray', 'Smart', 'Subaru', 'Suzuki', 'Toyota', 'Volkswagen', 'Volvo'] \n",
      " \n",
      " 0 \n",
      " \n",
      "\n",
      "[0, 1] \n",
      " \n",
      " 0 \n",
      " \n",
      "\n",
      "[2006, 2007, 2009, 2010, 2011, 2012, 2013, 2014, 2015, 2016, 2017, 2018, 2019, 2020, 2021] \n",
      " \n",
      " 0 \n",
      " \n",
      "\n"
     ]
    }
   ],
   "source": [
    "# Deep dive en las variables de la lista \"categ\"\n",
    "for col in categ+temp:\n",
    "    print(sorted(df_meli_ok_cap[~df_meli_ok_cap[col].isnull()][col].unique().tolist())\n",
    "          ,'\\n','\\n'\n",
    "          , df_meli_ok_cap[col].isnull().sum()\n",
    "          ,'\\n','\\n')"
   ]
  },
  {
   "cell_type": "code",
   "execution_count": 45,
   "id": "dce664bb",
   "metadata": {},
   "outputs": [
    {
     "data": {
      "text/plain": [
       "(146475, 31)"
      ]
     },
     "execution_count": 45,
     "metadata": {},
     "output_type": "execute_result"
    }
   ],
   "source": [
    "df_meli_ok_cap.shape"
   ]
  },
  {
   "cell_type": "code",
   "execution_count": 46,
   "id": "61b1aa02",
   "metadata": {},
   "outputs": [],
   "source": [
    "# Eliminamos los registros con nulos en \"car_location_1\"\n",
    "df_meli_ok_cap = df_meli_ok_cap[~df_meli_ok_cap.car_location_1.isnull()]"
   ]
  },
  {
   "cell_type": "code",
   "execution_count": 47,
   "id": "a38ba725",
   "metadata": {},
   "outputs": [
    {
     "data": {
      "text/plain": [
       "(146298, 31)"
      ]
     },
     "execution_count": 47,
     "metadata": {},
     "output_type": "execute_result"
    }
   ],
   "source": [
    "df_meli_ok_cap.shape"
   ]
  },
  {
   "cell_type": "markdown",
   "id": "c0753f40",
   "metadata": {},
   "source": [
    "### Analisis: variables temporales <a id='section_vars_temp'></a>\n",
    "Buscamos encontrar una relación con la variable target"
   ]
  },
  {
   "cell_type": "code",
   "execution_count": 48,
   "id": "37b11d7d",
   "metadata": {},
   "outputs": [
    {
     "data": {
      "text/plain": [
       "<AxesSubplot:xlabel='car_year', ylabel='Count'>"
      ]
     },
     "execution_count": 48,
     "metadata": {},
     "output_type": "execute_result"
    },
    {
     "data": {
      "image/png": "[encoded data removed]",
      "text/plain": [
       "<Figure size 432x288 with 1 Axes>"
      ]
     },
     "metadata": {
      "needs_background": "light"
     },
     "output_type": "display_data"
    }
   ],
   "source": [
    "# Observamos cantidad de observaciones para cada año\n",
    "# Logicamente, para años más recientes, en lineas generales tenemos mayor cantidad de casos\n",
    "sns.histplot(df_meli_ok_cap['car_year'])"
   ]
  },
  {
   "cell_type": "code",
   "execution_count": 49,
   "id": "2ff77eb5",
   "metadata": {},
   "outputs": [
    {
     "data": {
      "text/plain": [
       "<AxesSubplot:xlabel='car_year', ylabel='Count'>"
      ]
     },
     "execution_count": 49,
     "metadata": {},
     "output_type": "execute_result"
    },
    {
     "data": {
      "image/png": "[encoded data removed]",
      "text/plain": [
       "<Figure size 432x288 with 1 Axes>"
      ]
     },
     "metadata": {
      "needs_background": "light"
     },
     "output_type": "display_data"
    }
   ],
   "source": [
    "sns.histplot(data= df_meli_ok_cap, x='car_year',hue='dealer')"
   ]
  },
  {
   "cell_type": "code",
   "execution_count": 50,
   "id": "e2eaaf03",
   "metadata": {},
   "outputs": [
    {
     "data": {
      "text/plain": [
       "<AxesSubplot:xlabel='car_year', ylabel='Count'>"
      ]
     },
     "execution_count": 50,
     "metadata": {},
     "output_type": "execute_result"
    },
    {
     "data": {
      "image/png": "[encoded data removed]",
      "text/plain": [
       "<Figure size 432x288 with 1 Axes>"
      ]
     },
     "metadata": {
      "needs_background": "light"
     },
     "output_type": "display_data"
    }
   ],
   "source": [
    "sns.histplot(data= df_meli_ok_cap[df_meli_ok_cap['dealer']==0], x='car_year')"
   ]
  },
  {
   "cell_type": "code",
   "execution_count": 51,
   "id": "96c901ba",
   "metadata": {},
   "outputs": [
    {
     "data": {
      "text/plain": [
       "1   0.6148\n",
       "0   0.3852\n",
       "Name: dealer, dtype: float64"
      ]
     },
     "execution_count": 51,
     "metadata": {},
     "output_type": "execute_result"
    }
   ],
   "source": [
    "df_meli_ok_cap.dealer.value_counts(1)"
   ]
  },
  {
   "cell_type": "markdown",
   "id": "f47b3273",
   "metadata": {},
   "source": [
    "PROFUNDIZAR! <br>\n",
    "Insight: la variable \"car_year\" sin contar los dealer=1, tiene una distribucion normal. Esto nos podría llevar a pensar en hacer modelos distintos para dealer=0 y dealer=1"
   ]
  },
  {
   "cell_type": "code",
   "execution_count": 52,
   "id": "63e1fa15",
   "metadata": {},
   "outputs": [
    {
     "data": {
      "text/plain": [
       "<AxesSubplot:xlabel='car_year'>"
      ]
     },
     "execution_count": 52,
     "metadata": {},
     "output_type": "execute_result"
    },
    {
     "data": {
      "image/png": "[encoded data removed]",
      "text/plain": [
       "<Figure size 432x288 with 1 Axes>"
      ]
     },
     "metadata": {
      "needs_background": "light"
     },
     "output_type": "display_data"
    }
   ],
   "source": [
    "# Observamos la relacion año de fabricacion vs precio\n",
    "df_meli_ok_cap.groupby('car_year')['price_meli_ok'].median().plot.bar()"
   ]
  },
  {
   "cell_type": "code",
   "execution_count": 53,
   "id": "da50786a",
   "metadata": {},
   "outputs": [
    {
     "data": {
      "text/plain": [
       "<AxesSubplot:xlabel='car_year'>"
      ]
     },
     "execution_count": 53,
     "metadata": {},
     "output_type": "execute_result"
    },
    {
     "data": {
      "image/png": "[encoded data removed]",
      "text/plain": [
       "<Figure size 432x288 with 1 Axes>"
      ]
     },
     "metadata": {
      "needs_background": "light"
     },
     "output_type": "display_data"
    }
   ],
   "source": [
    "# Observamos la relacion año de fabricacion vs precio (filtrando los casos dealer=0)\n",
    "df_meli_ok_cap[df_meli_ok_cap['dealer']==0].groupby('car_year')['price_meli_ok'].median().plot.bar()"
   ]
  },
  {
   "cell_type": "markdown",
   "id": "69777228",
   "metadata": {},
   "source": [
    "Relacion perfectamente monotonica cuando sacamos los dealer=1. Esto va de la mano con el insight anterior"
   ]
  },
  {
   "cell_type": "markdown",
   "id": "f1eb9f5f",
   "metadata": {},
   "source": [
    "### Analisis: variables discretas <a id='section_vars_disc'></a>\n",
    "Buscamos encontrar una relación con la variable target"
   ]
  },
  {
   "cell_type": "code",
   "execution_count": 54,
   "id": "4a4a9eed",
   "metadata": {},
   "outputs": [
    {
     "data": {
      "text/plain": [
       "car_location_1    28\n",
       "brand             41\n",
       "dealer             2\n",
       "dtype: int64"
      ]
     },
     "execution_count": 54,
     "metadata": {},
     "output_type": "execute_result"
    }
   ],
   "source": [
    "df_meli_ok_cap[categ].nunique()"
   ]
  },
  {
   "cell_type": "code",
   "execution_count": 55,
   "id": "b4562c03",
   "metadata": {},
   "outputs": [
    {
     "data": {
      "image/png": "[encoded data removed]",
      "text/plain": [
       "<Figure size 720x360 with 1 Axes>"
      ]
     },
     "metadata": {
      "needs_background": "light"
     },
     "output_type": "display_data"
    },
    {
     "data": {
      "image/png": "[encoded data removed]",
      "text/plain": [
       "<Figure size 720x360 with 1 Axes>"
      ]
     },
     "metadata": {
      "needs_background": "light"
     },
     "output_type": "display_data"
    },
    {
     "data": {
      "image/png": "[encoded data removed]",
      "text/plain": [
       "<Figure size 720x360 with 1 Axes>"
      ]
     },
     "metadata": {
      "needs_background": "light"
     },
     "output_type": "display_data"
    }
   ],
   "source": [
    "for feature in categ:\n",
    "    data=df_meli_ok_cap.copy()\n",
    "    plt.figure(figsize=(10,5))\n",
    "    data.groupby(feature)['price_meli_ok'].median().sort_values().plot.bar()\n",
    "    plt.xlabel(feature)\n",
    "    plt.ylabel('meli price')\n",
    "    plt.title(feature)\n",
    "    plt.show()"
   ]
  },
  {
   "cell_type": "markdown",
   "id": "7ca4cca8",
   "metadata": {},
   "source": [
    "### Analisis: variables continuas <a id='section_vars_conti'></a>\n",
    "Buscamos encontrar una relación con la variable target"
   ]
  },
  {
   "cell_type": "code",
   "execution_count": 56,
   "id": "9c02c807",
   "metadata": {},
   "outputs": [
    {
     "data": {
      "image/png": "[encoded data removed]",
      "text/plain": [
       "<Figure size 432x288 with 1 Axes>"
      ]
     },
     "metadata": {
      "needs_background": "light"
     },
     "output_type": "display_data"
    }
   ],
   "source": [
    "df_meli_ok_cap['car_kms'].hist(bins=25)\n",
    "plt.xlabel('car_kms')\n",
    "plt.ylabel(\"Count\")\n",
    "plt.title('car_kms')\n",
    "plt.show()"
   ]
  },
  {
   "cell_type": "code",
   "execution_count": 57,
   "id": "43dd904a",
   "metadata": {},
   "outputs": [
    {
     "data": {
      "image/png": "[encoded data removed]",
      "text/plain": [
       "<Figure size 432x288 with 1 Axes>"
      ]
     },
     "metadata": {
      "needs_background": "light"
     },
     "output_type": "display_data"
    }
   ],
   "source": [
    "# Sin los 0km\n",
    "df_meli_ok_cap[df_meli_ok_cap['car_kms']>0]['car_kms'].hist(bins=25)\n",
    "plt.xlabel('car_kms')\n",
    "plt.ylabel(\"Count\")\n",
    "plt.title('car_kms')\n",
    "plt.show()"
   ]
  },
  {
   "cell_type": "markdown",
   "id": "bc9e9553",
   "metadata": {},
   "source": [
    "PROFUNDIZAR <br>\n",
    "Insight: Hacer modelo separado para 0km (lo cual puede coincidir con dealer = 1) y otro modelo para los NO 0km"
   ]
  },
  {
   "cell_type": "code",
   "execution_count": 58,
   "id": "e0a80583",
   "metadata": {},
   "outputs": [
    {
     "data": {
      "image/png": "[encoded data removed]",
      "text/plain": [
       "<Figure size 432x288 with 1 Axes>"
      ]
     },
     "metadata": {
      "needs_background": "light"
     },
     "output_type": "display_data"
    }
   ],
   "source": [
    "# Distribucion del target\n",
    "df_meli_ok_cap['price_meli_ok'].hist(bins=25)\n",
    "plt.xlabel('price_meli_ok')\n",
    "plt.ylabel(\"Count\")\n",
    "plt.title('price_meli_ok')\n",
    "plt.show()"
   ]
  },
  {
   "cell_type": "markdown",
   "id": "1848fb32",
   "metadata": {},
   "source": [
    "Observamos que nuestras variables numericas tiene distribuciones asimetricas...<br>\n",
    "Uno de los supuestos de la regresion lineal es que las variables input deben tener distribuciones gausseanas, es por eso que les vamos a aplicar logarithmic transformation a las variables continuas con el fin de llevarlas a una distribución normal.\n",
    "Recordemos que la transformación se hará en la sección de feature engineering, ahora solo lo hacemos a modo de exploración"
   ]
  },
  {
   "cell_type": "code",
   "execution_count": 59,
   "id": "03d9d0a7",
   "metadata": {},
   "outputs": [
    {
     "data": {
      "image/png": "[encoded data removed]",
      "text/plain": [
       "<Figure size 432x288 with 1 Axes>"
      ]
     },
     "metadata": {
      "needs_background": "light"
     },
     "output_type": "display_data"
    },
    {
     "data": {
      "image/png": "[encoded data removed]",
      "text/plain": [
       "<Figure size 432x288 with 1 Axes>"
      ]
     },
     "metadata": {
      "needs_background": "light"
     },
     "output_type": "display_data"
    }
   ],
   "source": [
    "# Observamos como quedan las distribuciones de las variables input luego de la transformación\n",
    "for feature in numeric+target:\n",
    "    data=df_meli_ok_cap.copy()\n",
    "    if data[feature].min() == 0:\n",
    "        data[feature]=np.log(1+data[feature])\n",
    "        data[feature].hist(bins=25)\n",
    "        plt.xlabel(feature)\n",
    "        plt.ylabel('price_meli_ok')\n",
    "        plt.title(feature)\n",
    "        plt.show()\n",
    "    else:\n",
    "        data[feature]=np.log(data[feature])\n",
    "        data[feature].hist(bins=25)\n",
    "        plt.xlabel(feature)\n",
    "        plt.ylabel('price_meli_ok')\n",
    "        plt.title(feature)\n",
    "        plt.show()"
   ]
  },
  {
   "cell_type": "code",
   "execution_count": 60,
   "id": "18507296",
   "metadata": {},
   "outputs": [
    {
     "data": {
      "image/png": "[encoded data removed]",
      "text/plain": [
       "<Figure size 432x288 with 1 Axes>"
      ]
     },
     "metadata": {
      "needs_background": "light"
     },
     "output_type": "display_data"
    },
    {
     "data": {
      "image/png": "[encoded data removed]",
      "text/plain": [
       "<Figure size 432x288 with 1 Axes>"
      ]
     },
     "metadata": {
      "needs_background": "light"
     },
     "output_type": "display_data"
    }
   ],
   "source": [
    "# Observamos como quedan las distribuciones de las variables input luego de la transformación\n",
    "for feature in numeric+target:\n",
    "    data=df_meli_ok_cap[df_meli_ok_cap['car_kms']>0].copy()\n",
    "    if data[feature].min() == 0:\n",
    "        data[feature]=np.log(1+data[feature])\n",
    "        data[feature].hist(bins=25)\n",
    "        plt.xlabel(feature)\n",
    "        plt.ylabel('price_meli_ok')\n",
    "        plt.title(feature)\n",
    "        plt.show()\n",
    "    else:\n",
    "        data[feature]=np.log(data[feature])\n",
    "        data[feature].hist(bins=25)\n",
    "        plt.xlabel(feature)\n",
    "        plt.ylabel('price_meli_ok')\n",
    "        plt.title(feature)\n",
    "        plt.show()"
   ]
  },
  {
   "cell_type": "code",
   "execution_count": 61,
   "id": "9ba3b7fa",
   "metadata": {},
   "outputs": [
    {
     "data": {
      "image/png": "[encoded data removed]",
      "text/plain": [
       "<Figure size 720x360 with 1 Axes>"
      ]
     },
     "metadata": {
      "needs_background": "light"
     },
     "output_type": "display_data"
    },
    {
     "data": {
      "image/png": "[encoded data removed]",
      "text/plain": [
       "<Figure size 720x360 with 1 Axes>"
      ]
     },
     "metadata": {
      "needs_background": "light"
     },
     "output_type": "display_data"
    }
   ],
   "source": [
    "# Observamos como quedan las relaciones de las variables input con la variable target luego de la transformación\n",
    "for feature in numeric+target:\n",
    "    data=df_meli_ok_cap.copy()\n",
    "    if data[feature].min() == 0:\n",
    "        data[feature]=np.log(1+data[feature])\n",
    "        data['price_meli_ok']=np.log(data['price_meli_ok'])\n",
    "        plt.figure(figsize=(10,5))\n",
    "        plt.scatter(data[feature],data['price_meli_ok'])\n",
    "        plt.xlabel(feature)\n",
    "        plt.ylabel('price_meli_ok')\n",
    "        plt.title(feature)\n",
    "        plt.show()\n",
    "    else:\n",
    "        data[feature]=np.log(data[feature])\n",
    "        data['price_meli_ok']=np.log(data['price_meli_ok'])\n",
    "        plt.figure(figsize=(10,5))\n",
    "        plt.scatter(data[feature],data['price_meli_ok'])\n",
    "        plt.xlabel(feature)\n",
    "        plt.ylabel('price_meli_ok')\n",
    "        plt.title(feature)\n",
    "        plt.show()"
   ]
  },
  {
   "cell_type": "code",
   "execution_count": 62,
   "id": "8327f458",
   "metadata": {},
   "outputs": [
    {
     "data": {
      "image/png": "[encoded data removed]",
      "text/plain": [
       "<Figure size 720x360 with 1 Axes>"
      ]
     },
     "metadata": {
      "needs_background": "light"
     },
     "output_type": "display_data"
    },
    {
     "data": {
      "image/png": "[encoded data removed]",
      "text/plain": [
       "<Figure size 720x360 with 1 Axes>"
      ]
     },
     "metadata": {
      "needs_background": "light"
     },
     "output_type": "display_data"
    }
   ],
   "source": [
    "# Observamos como quedan las relaciones de las variables input con la variable target luego de la transformación\n",
    "for feature in numeric+target:\n",
    "    mask = df_meli_ok_cap['car_kms']>20000\n",
    "    data=df_meli_ok_cap[mask].copy()\n",
    "    if data[feature].min() == 0:\n",
    "        data[feature]=np.log(1+data[feature])\n",
    "        data['price_meli_ok']=np.log(data['price_meli_ok'])\n",
    "        plt.figure(figsize=(10,10))\n",
    "        plt.scatter(data[feature],data['price_meli_ok'])\n",
    "        plt.xlabel(feature)\n",
    "        plt.ylabel('price_meli_ok')\n",
    "        plt.title(feature)\n",
    "        plt.show()\n",
    "    else:\n",
    "        data[feature]=np.log(data[feature])\n",
    "        data['price_meli_ok']=np.log(data['price_meli_ok'])\n",
    "        plt.figure(figsize=(10,5))\n",
    "        plt.scatter(data[feature],data['price_meli_ok'])\n",
    "        plt.xlabel(feature)\n",
    "        plt.ylabel('price_meli_ok')\n",
    "        plt.title(feature)\n",
    "        plt.show()"
   ]
  },
  {
   "cell_type": "markdown",
   "id": "296459d5",
   "metadata": {},
   "source": [
    "Hacerlo solamente con autos con mucha muestra y tambien con un solo auto o solo un año, etc para ver de encontrar donde se ensucia. porque la relacion lineal debería poder verse"
   ]
  },
  {
   "cell_type": "markdown",
   "id": "1effeed4",
   "metadata": {},
   "source": [
    "**Correlacion contra el target**"
   ]
  },
  {
   "cell_type": "code",
   "execution_count": 63,
   "id": "6c812da5",
   "metadata": {},
   "outputs": [
    {
     "data": {
      "text/html": [
       "<div>\n",
       "<style scoped>\n",
       "    .dataframe tbody tr th:only-of-type {\n",
       "        vertical-align: middle;\n",
       "    }\n",
       "\n",
       "    .dataframe tbody tr th {\n",
       "        vertical-align: top;\n",
       "    }\n",
       "\n",
       "    .dataframe thead th {\n",
       "        text-align: right;\n",
       "    }\n",
       "</style>\n",
       "<table border=\"1\" class=\"dataframe\">\n",
       "  <thead>\n",
       "    <tr style=\"text-align: right;\">\n",
       "      <th></th>\n",
       "      <th>car_year</th>\n",
       "      <th>car_kms</th>\n",
       "      <th>price_meli_ok</th>\n",
       "    </tr>\n",
       "  </thead>\n",
       "  <tbody>\n",
       "    <tr>\n",
       "      <th>car_year</th>\n",
       "      <td>1.0000</td>\n",
       "      <td>-0.8271</td>\n",
       "      <td>0.5049</td>\n",
       "    </tr>\n",
       "    <tr>\n",
       "      <th>car_kms</th>\n",
       "      <td>-0.8271</td>\n",
       "      <td>1.0000</td>\n",
       "      <td>-0.4557</td>\n",
       "    </tr>\n",
       "    <tr>\n",
       "      <th>price_meli_ok</th>\n",
       "      <td>0.5049</td>\n",
       "      <td>-0.4557</td>\n",
       "      <td>1.0000</td>\n",
       "    </tr>\n",
       "  </tbody>\n",
       "</table>\n",
       "</div>"
      ],
      "text/plain": [
       "               car_year  car_kms  price_meli_ok\n",
       "car_year         1.0000  -0.8271         0.5049\n",
       "car_kms         -0.8271   1.0000        -0.4557\n",
       "price_meli_ok    0.5049  -0.4557         1.0000"
      ]
     },
     "execution_count": 63,
     "metadata": {},
     "output_type": "execute_result"
    }
   ],
   "source": [
    "# Primero observamos que importancia tienen las variables para contribuir a predecir el precio (target) con un modelo lineal\n",
    "corrmat = df_meli_ok_cap[[col for col in df_meli_ok_cap.drop('dealer',1) if 'score' not in col]].corr()\n",
    "#plt.figure(figsize=(14,18))\n",
    "#plt.title(\"Features corr vs target\")\n",
    "#abs(corrmat['price_meli_ok']).sort_values(ascending=False)[1:].plot.bar()\n",
    "#plt.show()\n",
    "corrmat"
   ]
  },
  {
   "cell_type": "markdown",
   "id": "9f25f9ae",
   "metadata": {},
   "source": [
    "Ojo que car_year y car_kms estan fuertemente correlacioandas entre sí (logicamente relacion inversa ya que si el año el mayor el auto es más nuevo y por lo tanto menos kms)"
   ]
  },
  {
   "cell_type": "markdown",
   "id": "022ddd06",
   "metadata": {},
   "source": [
    "## Continuamos armando el train "
   ]
  },
  {
   "cell_type": "markdown",
   "id": "27ca2037",
   "metadata": {},
   "source": [
    "* Scores > 50 - OK\n",
    "* Duplicado más reciente - OK\n",
    "* Excluir 0km y concesionaria - OK\n",
    "* Ultimos 15 dias - OK\n",
    "* Registros de Brazil - OK"
   ]
  },
  {
   "cell_type": "markdown",
   "id": "d7382727",
   "metadata": {},
   "source": [
    "**Nos quedamos unicamente con los ultimos 15 dias**"
   ]
  },
  {
   "cell_type": "code",
   "execution_count": 64,
   "id": "3b7982a7",
   "metadata": {},
   "outputs": [
    {
     "data": {
      "text/plain": [
       "1640282   2021-11-21 22:58:13\n",
       "2018055   2021-11-21 23:00:25\n",
       "2562531   2021-11-21 23:00:25\n",
       "1361521   2021-11-21 23:00:25\n",
       "2292449   2021-11-21 23:00:25\n",
       "Name: runtime, dtype: datetime64[ns]"
      ]
     },
     "execution_count": 64,
     "metadata": {},
     "output_type": "execute_result"
    }
   ],
   "source": [
    "df_meli_ok_cap.runtime.head()"
   ]
  },
  {
   "cell_type": "code",
   "execution_count": 65,
   "id": "c7da079d",
   "metadata": {},
   "outputs": [
    {
     "data": {
      "text/plain": [
       "Timestamp('2021-12-19 23:01:17')"
      ]
     },
     "execution_count": 65,
     "metadata": {},
     "output_type": "execute_result"
    }
   ],
   "source": [
    "df_meli_ok_cap.runtime.max()"
   ]
  },
  {
   "cell_type": "code",
   "execution_count": 66,
   "id": "ba4b2809",
   "metadata": {},
   "outputs": [
    {
     "data": {
      "text/plain": [
       "Timestamp('2021-12-09 23:01:17')"
      ]
     },
     "execution_count": 66,
     "metadata": {},
     "output_type": "execute_result"
    }
   ],
   "source": [
    "from datetime import date, datetime, timedelta\n",
    "df_meli_ok_cap.runtime.max() - timedelta(days=10) "
   ]
  },
  {
   "cell_type": "code",
   "execution_count": 67,
   "id": "b06d307d",
   "metadata": {},
   "outputs": [],
   "source": [
    "max_date = df_meli_ok_cap.runtime.max()\n",
    "mask_last15d = (df_meli_ok_cap.runtime <= max_date) & ((df_meli_ok_cap.runtime >= max_date - timedelta(days=15)))\n",
    "df_meli_ok_cap = df_meli_ok_cap[mask_last15d]"
   ]
  },
  {
   "cell_type": "code",
   "execution_count": 68,
   "id": "b4035c5d",
   "metadata": {},
   "outputs": [
    {
     "name": "stdout",
     "output_type": "stream",
     "text": [
      "2021-12-04 23:01:17\n",
      "2021-12-19 23:01:17\n"
     ]
    }
   ],
   "source": [
    "print(df_meli_ok_cap.runtime.min())\n",
    "print(df_meli_ok_cap.runtime.max())"
   ]
  },
  {
   "cell_type": "markdown",
   "id": "2a58adad",
   "metadata": {},
   "source": [
    "**Excluímos 0km y concesionaria**"
   ]
  },
  {
   "cell_type": "code",
   "execution_count": 69,
   "id": "ec2271c8",
   "metadata": {},
   "outputs": [],
   "source": [
    "mask_not_0km = df_meli_ok_cap.car_kms > 90\n",
    "mask_not_conces = df_meli_ok_cap.dealer == 0\n",
    "\n",
    "df_meli_ok_cap = df_meli_ok_cap[(mask_not_0km) & (mask_not_conces)]"
   ]
  },
  {
   "cell_type": "code",
   "execution_count": 70,
   "id": "12ec313a",
   "metadata": {},
   "outputs": [],
   "source": [
    "# Como nos quedamos con solamente un valor de la feature \"dealer\" la podemos eliminar7\n",
    "df_meli_ok_cap.drop('dealer',1,inplace=True)"
   ]
  },
  {
   "cell_type": "code",
   "execution_count": 71,
   "id": "90eebf5b",
   "metadata": {},
   "outputs": [
    {
     "data": {
      "text/plain": [
       "(43763, 30)"
      ]
     },
     "execution_count": 71,
     "metadata": {},
     "output_type": "execute_result"
    }
   ],
   "source": [
    "df_meli_ok_cap.shape"
   ]
  },
  {
   "cell_type": "markdown",
   "id": "3dc22f33",
   "metadata": {},
   "source": [
    "**Excluímos los registros con scores de matcheos menores a 50**"
   ]
  },
  {
   "cell_type": "code",
   "execution_count": 72,
   "id": "58b9cf2f",
   "metadata": {},
   "outputs": [
    {
     "data": {
      "text/plain": [
       "['score_marca_a',\n",
       " 'score_modelo_a',\n",
       " 'score_v1_a',\n",
       " 'score_marca_c',\n",
       " 'score_modelo_c',\n",
       " 'score_v1_c']"
      ]
     },
     "execution_count": 72,
     "metadata": {},
     "output_type": "execute_result"
    }
   ],
   "source": [
    "features_scores = [col for col in df_meli_ok_cap if ('score' in col) & ('total' not in col)]\n",
    "features_scores"
   ]
  },
  {
   "cell_type": "code",
   "execution_count": 73,
   "id": "94c1bab3",
   "metadata": {},
   "outputs": [],
   "source": [
    "lst = ['score_marca_a','score_modelo_a','score_v1_c']\n",
    "for col in lst:\n",
    "    df_meli_ok_cap = df_meli_ok_cap[df_meli_ok_cap[col]>=50]"
   ]
  },
  {
   "cell_type": "code",
   "execution_count": 74,
   "id": "284b4137",
   "metadata": {},
   "outputs": [
    {
     "data": {
      "text/plain": [
       "score_marca_a    92.0000\n",
       "score_modelo_a   50.0000\n",
       "score_v1_c       50.0000\n",
       "dtype: float64"
      ]
     },
     "execution_count": 74,
     "metadata": {},
     "output_type": "execute_result"
    }
   ],
   "source": [
    "# chequeo\n",
    "df_meli_ok_cap[lst].min()"
   ]
  },
  {
   "cell_type": "code",
   "execution_count": 75,
   "id": "a81152b9",
   "metadata": {},
   "outputs": [
    {
     "data": {
      "text/plain": [
       "(40671, 30)"
      ]
     },
     "execution_count": 75,
     "metadata": {},
     "output_type": "execute_result"
    }
   ],
   "source": [
    "df_meli_ok_cap.shape"
   ]
  },
  {
   "cell_type": "markdown",
   "id": "9b75e2a3",
   "metadata": {},
   "source": [
    "## Modelo baseline (borrador)"
   ]
  },
  {
   "cell_type": "markdown",
   "id": "f6fa5643",
   "metadata": {},
   "source": [
    "- sacamos los registros del interior\n",
    "- agregamos segmento y subsegmento"
   ]
  },
  {
   "cell_type": "code",
   "execution_count": 76,
   "id": "0cc09e45",
   "metadata": {},
   "outputs": [
    {
     "data": {
      "text/plain": [
       "Index(['runtime', 'car_year', 'car_kms', 'car_location_0', 'car_location_1',\n",
       "       'car_id', 'brand', 'model', 'version', 'match_marca_a', 'score_marca_a',\n",
       "       'match_modelo_a', 'score_modelo_a', 'match_v1_a', 'score_v1_a',\n",
       "       'total_score_a', 'Seg_a', 'Subseg_a', 'gama_a', 'match_marca_c',\n",
       "       'score_marca_c', 'match_modelo_c', 'score_modelo_c', 'match_v1_c',\n",
       "       'score_v1_c', 'total_score_c', 'Seg_c', 'Subseg_c', 'gama_c',\n",
       "       'price_meli_ok'],\n",
       "      dtype='object')"
      ]
     },
     "execution_count": 76,
     "metadata": {},
     "output_type": "execute_result"
    }
   ],
   "source": [
    "df_meli_ok_cap.columns"
   ]
  },
  {
   "cell_type": "code",
   "execution_count": 77,
   "id": "86de7a96",
   "metadata": {},
   "outputs": [
    {
     "data": {
      "text/plain": [
       "runtime            4002\n",
       "car_year             15\n",
       "car_kms            3175\n",
       "car_location_0      460\n",
       "car_location_1       28\n",
       "car_id            40671\n",
       "brand                36\n",
       "model               415\n",
       "version            5879\n",
       "match_marca_a        36\n",
       "score_marca_a         2\n",
       "match_modelo_a      338\n",
       "score_modelo_a       17\n",
       "match_v1_a         2350\n",
       "score_v1_a           91\n",
       "total_score_a       359\n",
       "Seg_a                 7\n",
       "Subseg_a             25\n",
       "gama_a                3\n",
       "match_marca_c        35\n",
       "score_marca_c         3\n",
       "match_modelo_c      303\n",
       "score_modelo_c       18\n",
       "match_v1_c         1785\n",
       "score_v1_c           50\n",
       "total_score_c       203\n",
       "Seg_c                 9\n",
       "Subseg_c             27\n",
       "gama_c                3\n",
       "price_meli_ok      2087\n",
       "dtype: int64"
      ]
     },
     "execution_count": 77,
     "metadata": {},
     "output_type": "execute_result"
    }
   ],
   "source": [
    "df_meli_ok_cap.nunique()"
   ]
  },
  {
   "cell_type": "code",
   "execution_count": 78,
   "id": "65a1494f",
   "metadata": {},
   "outputs": [
    {
     "data": {
      "text/plain": [
       "Capital Federal           6793\n",
       "Bs.As. G.B.A. Sur         6690\n",
       "Bs.As. G.B.A. Norte       6030\n",
       "Bs.As. G.B.A. Oeste       5112\n",
       "Córdoba                   3908\n",
       "Buenos Aires Interior     3044\n",
       "Santa Fe                  1748\n",
       "Bs.As. Costa Atlántica    1269\n",
       "Mendoza                    943\n",
       "Entre Ríos                 737\n",
       "Neuquén                    589\n",
       "Tucumán                    548\n",
       "Río Negro                  418\n",
       "Misiones                   369\n",
       "Corrientes                 336\n",
       "Chaco                      322\n",
       "San Luis                   318\n",
       "Salta                      249\n",
       "Chubut                     246\n",
       "La Pampa                   184\n",
       "San Juan                   142\n",
       "Santiago del Estero        123\n",
       "Catamarca                  116\n",
       "Santa Cruz                 101\n",
       "Formosa                    100\n",
       "Jujuy                       94\n",
       "Tierra del Fuego            73\n",
       "La Rioja                    69\n",
       "Name: car_location_1, dtype: int64"
      ]
     },
     "execution_count": 78,
     "metadata": {},
     "output_type": "execute_result"
    }
   ],
   "source": [
    "df_meli_ok_cap.car_location_1.value_counts()"
   ]
  },
  {
   "cell_type": "code",
   "execution_count": 79,
   "id": "fe4d83ef",
   "metadata": {},
   "outputs": [
    {
     "data": {
      "text/plain": [
       "(40671, 30)"
      ]
     },
     "execution_count": 79,
     "metadata": {},
     "output_type": "execute_result"
    }
   ],
   "source": [
    "df_meli_ok_cap.shape"
   ]
  },
  {
   "cell_type": "code",
   "execution_count": 80,
   "id": "aff369f6",
   "metadata": {},
   "outputs": [],
   "source": [
    "cats_ok = ['Capital Federal','Bs.As. G.B.A. Sur','Bs.As. G.B.A. Norte'\n",
    "           ,'Bs.As. G.B.A. Oeste','Buenos Aires Interior','Bs.As. Costa Atlántica']\n",
    "mask = df_meli_ok_cap.car_location_1.apply(lambda x: x in cats_ok)\n",
    "df_meli_final = df_meli_ok_cap[mask]"
   ]
  },
  {
   "cell_type": "code",
   "execution_count": 81,
   "id": "93f3b957",
   "metadata": {},
   "outputs": [
    {
     "data": {
      "text/plain": [
       "(28938, 30)"
      ]
     },
     "execution_count": 81,
     "metadata": {},
     "output_type": "execute_result"
    }
   ],
   "source": [
    "df_meli_final.shape"
   ]
  },
  {
   "cell_type": "code",
   "execution_count": 82,
   "id": "5dfe27a1",
   "metadata": {},
   "outputs": [],
   "source": [
    "final_features = ['car_year','car_kms','match_marca_a','match_modelo_a'\n",
    "                  ,'match_v1_c', 'Subseg_a', 'Seg_a'\n",
    "                  ,'price_meli_ok']\n",
    "df_meli_final = df_meli_final[final_features]"
   ]
  },
  {
   "cell_type": "code",
   "execution_count": 83,
   "id": "3f02aed9",
   "metadata": {},
   "outputs": [],
   "source": [
    "df_meli_final['car_year']=df_meli_final['car_year'].astype('float')"
   ]
  },
  {
   "cell_type": "code",
   "execution_count": 84,
   "id": "3e1e0695",
   "metadata": {},
   "outputs": [
    {
     "data": {
      "text/plain": [
       "car_year          float64\n",
       "car_kms           float64\n",
       "match_marca_a      object\n",
       "match_modelo_a     object\n",
       "match_v1_c         object\n",
       "Subseg_a           object\n",
       "Seg_a              object\n",
       "price_meli_ok     float64\n",
       "dtype: object"
      ]
     },
     "execution_count": 84,
     "metadata": {},
     "output_type": "execute_result"
    }
   ],
   "source": [
    "df_meli_final.dtypes"
   ]
  },
  {
   "cell_type": "code",
   "execution_count": 85,
   "id": "b34622cf",
   "metadata": {},
   "outputs": [
    {
     "data": {
      "text/html": [
       "<div>\n",
       "<style scoped>\n",
       "    .dataframe tbody tr th:only-of-type {\n",
       "        vertical-align: middle;\n",
       "    }\n",
       "\n",
       "    .dataframe tbody tr th {\n",
       "        vertical-align: top;\n",
       "    }\n",
       "\n",
       "    .dataframe thead th {\n",
       "        text-align: right;\n",
       "    }\n",
       "</style>\n",
       "<table border=\"1\" class=\"dataframe\">\n",
       "  <thead>\n",
       "    <tr style=\"text-align: right;\">\n",
       "      <th></th>\n",
       "      <th>car_year</th>\n",
       "      <th>car_kms</th>\n",
       "      <th>match_marca_a</th>\n",
       "      <th>match_modelo_a</th>\n",
       "      <th>match_v1_c</th>\n",
       "      <th>Subseg_a</th>\n",
       "      <th>Seg_a</th>\n",
       "      <th>price_meli_ok</th>\n",
       "    </tr>\n",
       "  </thead>\n",
       "  <tbody>\n",
       "    <tr>\n",
       "      <th>2956496</th>\n",
       "      <td>2007.0000</td>\n",
       "      <td>62000.0000</td>\n",
       "      <td>FORD</td>\n",
       "      <td>KA</td>\n",
       "      <td>TATTOO PLUS 1.6L</td>\n",
       "      <td>Gama Pequenos Hatchback</td>\n",
       "      <td>Gama Pequenos</td>\n",
       "      <td>722080.0000</td>\n",
       "    </tr>\n",
       "    <tr>\n",
       "      <th>2131107</th>\n",
       "      <td>2018.0000</td>\n",
       "      <td>58000.0000</td>\n",
       "      <td>NISSAN</td>\n",
       "      <td>Kicks</td>\n",
       "      <td>ADVANCE MT</td>\n",
       "      <td>Suv Compactas 4x2</td>\n",
       "      <td>SUV</td>\n",
       "      <td>3400000.0000</td>\n",
       "    </tr>\n",
       "    <tr>\n",
       "      <th>2218325</th>\n",
       "      <td>2017.0000</td>\n",
       "      <td>36000.0000</td>\n",
       "      <td>TOYOTA</td>\n",
       "      <td>Corolla</td>\n",
       "      <td>SE-G 1.8 CVT</td>\n",
       "      <td>Gama Pequenos Hatchback</td>\n",
       "      <td>Gama Pequenos</td>\n",
       "      <td>3350000.0000</td>\n",
       "    </tr>\n",
       "    <tr>\n",
       "      <th>2751519</th>\n",
       "      <td>2013.0000</td>\n",
       "      <td>181000.0000</td>\n",
       "      <td>HONDA</td>\n",
       "      <td>Civic</td>\n",
       "      <td>EXS</td>\n",
       "      <td>Gama Medianos Sedan</td>\n",
       "      <td>Gama Medianos</td>\n",
       "      <td>1650000.0000</td>\n",
       "    </tr>\n",
       "    <tr>\n",
       "      <th>45811</th>\n",
       "      <td>2017.0000</td>\n",
       "      <td>80000.0000</td>\n",
       "      <td>TOYOTA</td>\n",
       "      <td>Corolla</td>\n",
       "      <td>SE-G 1.8 CVT</td>\n",
       "      <td>Gama Pequenos Hatchback</td>\n",
       "      <td>Gama Pequenos</td>\n",
       "      <td>2947500.0000</td>\n",
       "    </tr>\n",
       "  </tbody>\n",
       "</table>\n",
       "</div>"
      ],
      "text/plain": [
       "         car_year     car_kms match_marca_a match_modelo_a        match_v1_c  \\\n",
       "2956496 2007.0000  62000.0000          FORD             KA  TATTOO PLUS 1.6L   \n",
       "2131107 2018.0000  58000.0000        NISSAN          Kicks        ADVANCE MT   \n",
       "2218325 2017.0000  36000.0000        TOYOTA        Corolla      SE-G 1.8 CVT   \n",
       "2751519 2013.0000 181000.0000         HONDA          Civic               EXS   \n",
       "45811   2017.0000  80000.0000        TOYOTA        Corolla      SE-G 1.8 CVT   \n",
       "\n",
       "                        Subseg_a          Seg_a  price_meli_ok  \n",
       "2956496  Gama Pequenos Hatchback  Gama Pequenos    722080.0000  \n",
       "2131107        Suv Compactas 4x2            SUV   3400000.0000  \n",
       "2218325  Gama Pequenos Hatchback  Gama Pequenos   3350000.0000  \n",
       "2751519      Gama Medianos Sedan  Gama Medianos   1650000.0000  \n",
       "45811    Gama Pequenos Hatchback  Gama Pequenos   2947500.0000  "
      ]
     },
     "execution_count": 85,
     "metadata": {},
     "output_type": "execute_result"
    }
   ],
   "source": [
    "df_meli_final.head()"
   ]
  },
  {
   "cell_type": "code",
   "execution_count": 99,
   "id": "470c0212",
   "metadata": {},
   "outputs": [
    {
     "data": {
      "text/plain": [
       "(28938, 8)"
      ]
     },
     "execution_count": 99,
     "metadata": {},
     "output_type": "execute_result"
    }
   ],
   "source": [
    "df_meli_final.shape"
   ]
  },
  {
   "cell_type": "code",
   "execution_count": 96,
   "id": "f5afe178",
   "metadata": {},
   "outputs": [],
   "source": [
    "categorical_features_indices = np.where(df_meli_final.dtypes != np.float)[0]"
   ]
  },
  {
   "cell_type": "code",
   "execution_count": 87,
   "id": "1a8f0b9b",
   "metadata": {},
   "outputs": [],
   "source": [
    "from catboost import CatBoostRegressor\n",
    "from sklearn.model_selection import train_test_split"
   ]
  },
  {
   "cell_type": "code",
   "execution_count": 88,
   "id": "971188f1",
   "metadata": {},
   "outputs": [
    {
     "name": "stdout",
     "output_type": "stream",
     "text": [
      "0:\tlearn: 1642312.3308506\ttest: 1634155.2755472\tbest: 1634155.2755472 (0)\ttotal: 162ms\tremaining: 7.94s\n",
      "1:\tlearn: 1552596.9245457\ttest: 1545522.6753360\tbest: 1545522.6753360 (1)\ttotal: 177ms\tremaining: 4.25s\n",
      "2:\tlearn: 1472786.8270504\ttest: 1468236.2128067\tbest: 1468236.2128067 (2)\ttotal: 198ms\tremaining: 3.1s\n",
      "3:\tlearn: 1402656.8481610\ttest: 1400015.0660412\tbest: 1400015.0660412 (3)\ttotal: 212ms\tremaining: 2.43s\n",
      "4:\tlearn: 1341439.6578956\ttest: 1337488.5910640\tbest: 1337488.5910640 (4)\ttotal: 226ms\tremaining: 2.03s\n",
      "5:\tlearn: 1285077.6353269\ttest: 1279582.3057183\tbest: 1279582.3057183 (5)\ttotal: 241ms\tremaining: 1.77s\n",
      "6:\tlearn: 1234359.3213002\ttest: 1227206.8447050\tbest: 1227206.8447050 (6)\ttotal: 251ms\tremaining: 1.54s\n",
      "7:\tlearn: 1190282.3750908\ttest: 1182292.1797333\tbest: 1182292.1797333 (7)\ttotal: 261ms\tremaining: 1.37s\n",
      "8:\tlearn: 1148742.0111674\ttest: 1139890.5308067\tbest: 1139890.5308067 (8)\ttotal: 270ms\tremaining: 1.23s\n",
      "9:\tlearn: 1115126.2371952\ttest: 1107041.5786894\tbest: 1107041.5786894 (9)\ttotal: 278ms\tremaining: 1.11s\n",
      "10:\tlearn: 1082911.7120409\ttest: 1073142.7035848\tbest: 1073142.7035848 (10)\ttotal: 288ms\tremaining: 1.02s\n",
      "11:\tlearn: 1056060.9606448\ttest: 1046176.7478601\tbest: 1046176.7478601 (11)\ttotal: 299ms\tremaining: 948ms\n",
      "12:\tlearn: 1030396.7849885\ttest: 1020745.9986874\tbest: 1020745.9986874 (12)\ttotal: 313ms\tremaining: 890ms\n",
      "13:\tlearn: 1008144.4573640\ttest: 997578.0685225\tbest: 997578.0685225 (13)\ttotal: 326ms\tremaining: 839ms\n",
      "14:\tlearn: 989718.4626620\ttest: 978466.6508112\tbest: 978466.6508112 (14)\ttotal: 340ms\tremaining: 793ms\n",
      "15:\tlearn: 970270.2792311\ttest: 958990.8503686\tbest: 958990.8503686 (15)\ttotal: 353ms\tremaining: 750ms\n",
      "16:\tlearn: 953336.2347983\ttest: 942472.4986242\tbest: 942472.4986242 (16)\ttotal: 367ms\tremaining: 712ms\n",
      "17:\tlearn: 939872.3204988\ttest: 928423.2607047\tbest: 928423.2607047 (17)\ttotal: 380ms\tremaining: 676ms\n",
      "18:\tlearn: 928178.8569705\ttest: 916253.6018759\tbest: 916253.6018759 (18)\ttotal: 394ms\tremaining: 643ms\n",
      "19:\tlearn: 914313.5291225\ttest: 902298.9915629\tbest: 902298.9915629 (19)\ttotal: 409ms\tremaining: 613ms\n",
      "20:\tlearn: 905764.6415794\ttest: 894070.5548148\tbest: 894070.5548148 (20)\ttotal: 423ms\tremaining: 585ms\n",
      "21:\tlearn: 895114.6453920\ttest: 884029.0735926\tbest: 884029.0735926 (21)\ttotal: 438ms\tremaining: 558ms\n",
      "22:\tlearn: 887839.7695730\ttest: 876110.3819427\tbest: 876110.3819427 (22)\ttotal: 453ms\tremaining: 532ms\n",
      "23:\tlearn: 880081.5839604\ttest: 868671.8847332\tbest: 868671.8847332 (23)\ttotal: 468ms\tremaining: 507ms\n",
      "24:\tlearn: 872662.4210814\ttest: 861659.3341368\tbest: 861659.3341368 (24)\ttotal: 483ms\tremaining: 483ms\n",
      "25:\tlearn: 866191.8578250\ttest: 854618.5677866\tbest: 854618.5677866 (25)\ttotal: 496ms\tremaining: 458ms\n",
      "26:\tlearn: 859356.7237827\ttest: 847737.6280628\tbest: 847737.6280628 (26)\ttotal: 507ms\tremaining: 432ms\n",
      "27:\tlearn: 854104.4065843\ttest: 841866.6159490\tbest: 841866.6159490 (27)\ttotal: 520ms\tremaining: 409ms\n",
      "28:\tlearn: 849197.6445599\ttest: 837112.1267810\tbest: 837112.1267810 (28)\ttotal: 534ms\tremaining: 387ms\n",
      "29:\tlearn: 843831.4195682\ttest: 832503.9618785\tbest: 832503.9618785 (29)\ttotal: 549ms\tremaining: 366ms\n",
      "30:\tlearn: 839406.9368339\ttest: 828642.3891400\tbest: 828642.3891400 (30)\ttotal: 563ms\tremaining: 345ms\n",
      "31:\tlearn: 836423.5420624\ttest: 825367.5347570\tbest: 825367.5347570 (31)\ttotal: 577ms\tremaining: 324ms\n",
      "32:\tlearn: 832875.5739900\ttest: 821877.7262309\tbest: 821877.7262309 (32)\ttotal: 590ms\tremaining: 304ms\n",
      "33:\tlearn: 829730.7652203\ttest: 818139.3199048\tbest: 818139.3199048 (33)\ttotal: 604ms\tremaining: 284ms\n",
      "34:\tlearn: 826906.6217908\ttest: 815037.4223785\tbest: 815037.4223785 (34)\ttotal: 619ms\tremaining: 265ms\n",
      "35:\tlearn: 824962.4694617\ttest: 812781.1159685\tbest: 812781.1159685 (35)\ttotal: 631ms\tremaining: 246ms\n",
      "36:\tlearn: 820037.4503409\ttest: 806769.6891060\tbest: 806769.6891060 (36)\ttotal: 647ms\tremaining: 227ms\n",
      "37:\tlearn: 817424.9950268\ttest: 804242.3004911\tbest: 804242.3004911 (37)\ttotal: 662ms\tremaining: 209ms\n",
      "38:\tlearn: 815371.5613226\ttest: 801865.3604932\tbest: 801865.3604932 (38)\ttotal: 676ms\tremaining: 191ms\n",
      "39:\tlearn: 812887.6852928\ttest: 798982.0985813\tbest: 798982.0985813 (39)\ttotal: 691ms\tremaining: 173ms\n",
      "40:\tlearn: 809506.8924508\ttest: 794730.1187365\tbest: 794730.1187365 (40)\ttotal: 705ms\tremaining: 155ms\n",
      "41:\tlearn: 807533.2016218\ttest: 792960.7109827\tbest: 792960.7109827 (41)\ttotal: 720ms\tremaining: 137ms\n",
      "42:\tlearn: 806173.0816482\ttest: 791491.4993965\tbest: 791491.4993965 (42)\ttotal: 734ms\tremaining: 120ms\n",
      "43:\tlearn: 803997.9030267\ttest: 789341.6139592\tbest: 789341.6139592 (43)\ttotal: 749ms\tremaining: 102ms\n",
      "44:\tlearn: 802575.7225127\ttest: 787733.8197775\tbest: 787733.8197775 (44)\ttotal: 762ms\tremaining: 84.7ms\n",
      "45:\tlearn: 800345.4587716\ttest: 785811.0654718\tbest: 785811.0654718 (45)\ttotal: 776ms\tremaining: 67.5ms\n",
      "46:\tlearn: 799161.6395247\ttest: 784353.9623435\tbest: 784353.9623435 (46)\ttotal: 790ms\tremaining: 50.4ms\n",
      "47:\tlearn: 797518.2101050\ttest: 782974.1352198\tbest: 782974.1352198 (47)\ttotal: 803ms\tremaining: 33.5ms\n",
      "48:\tlearn: 795792.5755894\ttest: 781157.1650712\tbest: 781157.1650712 (48)\ttotal: 817ms\tremaining: 16.7ms\n",
      "49:\tlearn: 794583.9625743\ttest: 779867.2343777\tbest: 779867.2343777 (49)\ttotal: 831ms\tremaining: 0us\n",
      "\n",
      "bestTest = 779867.2344\n",
      "bestIteration = 49\n",
      "\n",
      "\n",
      "Test  R2 : 0.798\n",
      "Train R2 : 0.798\n"
     ]
    }
   ],
   "source": [
    "X_train, X_test, y_train, y_test = train_test_split(df_meli_final.drop('price_meli_ok',1), df_meli_final.price_meli_ok, train_size=0.8, random_state=42)\n",
    "\n",
    "model=CatBoostRegressor(iterations=50, depth=3, learning_rate=0.1, loss_function='RMSE') #,logging_level=\"Silent\"\n",
    "model.fit(X_train, y_train, cat_features=categorical_features_indices, eval_set=(X_test, y_test))\n",
    "\n",
    "test_preds = model.predict(X_test)\n",
    "train_preds = model.predict(X_train)\n",
    "\n",
    "from catboost.utils import eval_metric\n",
    "\n",
    "print(\"\\nTest  R2 : %.3f\"%model.score(X_test, y_test))\n",
    "print(\"Train R2 : %.3f\"%model.score(X_train, y_train))"
   ]
  },
  {
   "cell_type": "code",
   "execution_count": 97,
   "id": "3a16a794",
   "metadata": {},
   "outputs": [
    {
     "name": "stdout",
     "output_type": "stream",
     "text": [
      "0:\tlearn: 1642312.3308506\ttotal: 32.3ms\tremaining: 1.58s\n",
      "1:\tlearn: 1552596.9245457\ttotal: 45.9ms\tremaining: 1.1s\n",
      "2:\tlearn: 1472786.8270504\ttotal: 56.6ms\tremaining: 886ms\n",
      "3:\tlearn: 1402656.8481610\ttotal: 65.7ms\tremaining: 756ms\n",
      "4:\tlearn: 1341439.6578956\ttotal: 76.3ms\tremaining: 686ms\n",
      "5:\tlearn: 1285077.6353269\ttotal: 87ms\tremaining: 638ms\n",
      "6:\tlearn: 1234359.3213002\ttotal: 98.1ms\tremaining: 603ms\n",
      "7:\tlearn: 1190282.3750908\ttotal: 107ms\tremaining: 564ms\n",
      "8:\tlearn: 1148742.0111674\ttotal: 117ms\tremaining: 532ms\n",
      "9:\tlearn: 1115126.2371952\ttotal: 127ms\tremaining: 507ms\n",
      "10:\tlearn: 1082911.7120409\ttotal: 136ms\tremaining: 483ms\n",
      "11:\tlearn: 1056060.9606448\ttotal: 145ms\tremaining: 460ms\n",
      "12:\tlearn: 1030396.7849885\ttotal: 154ms\tremaining: 439ms\n",
      "13:\tlearn: 1008144.4573640\ttotal: 163ms\tremaining: 420ms\n",
      "14:\tlearn: 989718.4626620\ttotal: 172ms\tremaining: 402ms\n",
      "15:\tlearn: 970270.2792311\ttotal: 183ms\tremaining: 389ms\n",
      "16:\tlearn: 953336.2347983\ttotal: 194ms\tremaining: 376ms\n",
      "17:\tlearn: 939872.3204988\ttotal: 203ms\tremaining: 361ms\n",
      "18:\tlearn: 928178.8569705\ttotal: 212ms\tremaining: 346ms\n",
      "19:\tlearn: 914313.5291225\ttotal: 227ms\tremaining: 340ms\n",
      "20:\tlearn: 905764.6415794\ttotal: 237ms\tremaining: 327ms\n",
      "21:\tlearn: 895114.6453920\ttotal: 247ms\tremaining: 315ms\n",
      "22:\tlearn: 887839.7695730\ttotal: 259ms\tremaining: 304ms\n",
      "23:\tlearn: 880081.5839604\ttotal: 269ms\tremaining: 292ms\n",
      "24:\tlearn: 872662.4210814\ttotal: 279ms\tremaining: 279ms\n",
      "25:\tlearn: 866191.8578250\ttotal: 288ms\tremaining: 266ms\n",
      "26:\tlearn: 859356.7237827\ttotal: 297ms\tremaining: 253ms\n",
      "27:\tlearn: 854104.4065843\ttotal: 306ms\tremaining: 241ms\n",
      "28:\tlearn: 849197.6445599\ttotal: 315ms\tremaining: 228ms\n",
      "29:\tlearn: 843831.4195682\ttotal: 326ms\tremaining: 217ms\n",
      "30:\tlearn: 839406.9368339\ttotal: 336ms\tremaining: 206ms\n",
      "31:\tlearn: 836423.5420624\ttotal: 345ms\tremaining: 194ms\n",
      "32:\tlearn: 832875.5739900\ttotal: 355ms\tremaining: 183ms\n",
      "33:\tlearn: 829730.7652203\ttotal: 364ms\tremaining: 171ms\n",
      "34:\tlearn: 826906.6217908\ttotal: 373ms\tremaining: 160ms\n",
      "35:\tlearn: 824962.4694617\ttotal: 382ms\tremaining: 149ms\n",
      "36:\tlearn: 820037.4503409\ttotal: 394ms\tremaining: 139ms\n",
      "37:\tlearn: 817424.9950268\ttotal: 406ms\tremaining: 128ms\n",
      "38:\tlearn: 815371.5613226\ttotal: 416ms\tremaining: 117ms\n",
      "39:\tlearn: 812887.6852928\ttotal: 426ms\tremaining: 107ms\n",
      "40:\tlearn: 809506.8924508\ttotal: 439ms\tremaining: 96.4ms\n",
      "41:\tlearn: 807533.2016218\ttotal: 452ms\tremaining: 86.2ms\n",
      "42:\tlearn: 806173.0816482\ttotal: 462ms\tremaining: 75.2ms\n",
      "43:\tlearn: 803997.9030267\ttotal: 472ms\tremaining: 64.4ms\n",
      "44:\tlearn: 802575.7225127\ttotal: 482ms\tremaining: 53.6ms\n",
      "45:\tlearn: 800345.4587716\ttotal: 491ms\tremaining: 42.7ms\n",
      "46:\tlearn: 799161.6395247\ttotal: 501ms\tremaining: 32ms\n",
      "47:\tlearn: 797518.2101050\ttotal: 510ms\tremaining: 21.3ms\n",
      "48:\tlearn: 795792.5755894\ttotal: 520ms\tremaining: 10.6ms\n",
      "49:\tlearn: 794583.9625743\ttotal: 529ms\tremaining: 0us\n",
      "\n",
      "Test  R2 : 0.798\n",
      "Train R2 : 0.798\n"
     ]
    }
   ],
   "source": [
    "########### prueba sin el eval_test parameter ##########\n",
    "X_train, X_test, y_train, y_test = train_test_split(df_meli_final.drop('price_meli_ok',1), df_meli_final.price_meli_ok, train_size=0.8, random_state=42)\n",
    "\n",
    "model=CatBoostRegressor(iterations=50, depth=3, learning_rate=0.1, loss_function='RMSE') #,logging_level=\"Silent\"\n",
    "model.fit(X_train, y_train, cat_features=categorical_features_indices)\n",
    "\n",
    "test_preds = model.predict(X_test)\n",
    "train_preds = model.predict(X_train)\n",
    "\n",
    "from catboost.utils import eval_metric\n",
    "\n",
    "print(\"\\nTest  R2 : %.3f\"%model.score(X_test, y_test))\n",
    "print(\"Train R2 : %.3f\"%model.score(X_train, y_train))"
   ]
  },
  {
   "cell_type": "code",
   "execution_count": 98,
   "id": "5609d626",
   "metadata": {},
   "outputs": [
    {
     "data": {
      "text/html": [
       "<div>\n",
       "<style scoped>\n",
       "    .dataframe tbody tr th:only-of-type {\n",
       "        vertical-align: middle;\n",
       "    }\n",
       "\n",
       "    .dataframe tbody tr th {\n",
       "        vertical-align: top;\n",
       "    }\n",
       "\n",
       "    .dataframe thead th {\n",
       "        text-align: right;\n",
       "    }\n",
       "</style>\n",
       "<table border=\"1\" class=\"dataframe\">\n",
       "  <thead>\n",
       "    <tr style=\"text-align: right;\">\n",
       "      <th></th>\n",
       "      <th>Feature Id</th>\n",
       "      <th>Importances</th>\n",
       "    </tr>\n",
       "  </thead>\n",
       "  <tbody>\n",
       "    <tr>\n",
       "      <th>0</th>\n",
       "      <td>Subseg_a</td>\n",
       "      <td>33.6918</td>\n",
       "    </tr>\n",
       "    <tr>\n",
       "      <th>1</th>\n",
       "      <td>car_year</td>\n",
       "      <td>21.6526</td>\n",
       "    </tr>\n",
       "    <tr>\n",
       "      <th>2</th>\n",
       "      <td>car_kms</td>\n",
       "      <td>13.5866</td>\n",
       "    </tr>\n",
       "    <tr>\n",
       "      <th>3</th>\n",
       "      <td>match_modelo_a</td>\n",
       "      <td>12.5520</td>\n",
       "    </tr>\n",
       "    <tr>\n",
       "      <th>4</th>\n",
       "      <td>match_marca_a</td>\n",
       "      <td>11.2937</td>\n",
       "    </tr>\n",
       "    <tr>\n",
       "      <th>5</th>\n",
       "      <td>Seg_a</td>\n",
       "      <td>6.3074</td>\n",
       "    </tr>\n",
       "    <tr>\n",
       "      <th>6</th>\n",
       "      <td>match_v1_c</td>\n",
       "      <td>0.9158</td>\n",
       "    </tr>\n",
       "  </tbody>\n",
       "</table>\n",
       "</div>"
      ],
      "text/plain": [
       "       Feature Id  Importances\n",
       "0        Subseg_a      33.6918\n",
       "1        car_year      21.6526\n",
       "2         car_kms      13.5866\n",
       "3  match_modelo_a      12.5520\n",
       "4   match_marca_a      11.2937\n",
       "5           Seg_a       6.3074\n",
       "6      match_v1_c       0.9158"
      ]
     },
     "execution_count": 98,
     "metadata": {},
     "output_type": "execute_result"
    }
   ],
   "source": [
    "model.get_feature_importance(prettified=True)"
   ]
  },
  {
   "cell_type": "code",
   "execution_count": 91,
   "id": "9e6b1841",
   "metadata": {},
   "outputs": [],
   "source": [
    "# Save del pipe\n",
    "\n",
    "import pickle\n",
    "with open('model_catboost.pickle', 'wb') as f:\n",
    "    pickle.dump(model, f)"
   ]
  }
 ],
 "metadata": {
  "kernelspec": {
   "display_name": "Python 3 (ipykernel)",
   "language": "python",
   "name": "python3"
  },
  "language_info": {
   "codemirror_mode": {
    "name": "ipython",
    "version": 3
   },
   "file_extension": ".py",
   "mimetype": "text/x-python",
   "name": "python",
   "nbconvert_exporter": "python",
   "pygments_lexer": "ipython3",
   "version": "3.8.12"
  }
 },
 "nbformat": 4,
 "nbformat_minor": 5
}
