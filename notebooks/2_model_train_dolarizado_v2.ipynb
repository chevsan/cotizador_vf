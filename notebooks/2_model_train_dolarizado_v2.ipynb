{
 "cells": [
  {
   "cell_type": "code",
   "execution_count": 1,
   "id": "80e0d26a-01fb-4072-a31e-2528c9e4928d",
   "metadata": {},
   "outputs": [],
   "source": [
    "#### Librerías y modulos ####\n",
    "import pandas as pd\n",
    "import numpy as np\n",
    "import seaborn as sns\n",
    "import os,json\n",
    "import matplotlib.pyplot as plt\n",
    "import sklearn\n",
    "from pandas.io import gbq\n",
    "import warnings\n",
    "from sklearn.model_selection import train_test_split\n",
    "from sklearn.model_selection import train_test_split\n",
    "from sklearn.model_selection import GridSearchCV\n",
    "from catboost import CatBoostRegressor\n",
    "import sys\n",
    "from datetime import date, datetime, timedelta\n",
    "sys.path.insert(0, os.path.join(os.path.dirname(os.getcwd()),'src/'))\n",
    "from funcs_cotizador import *\n",
    "from funcs_gral import *"
   ]
  },
  {
   "cell_type": "code",
   "execution_count": 2,
   "id": "ad9feaef-7dd0-4628-ab33-f7efd8815cac",
   "metadata": {},
   "outputs": [],
   "source": [
    "#### Configuraciones de la notebook ####\n",
    "pd.set_option('display.max_columns', 500)\n",
    "pd.set_option('display.max_rows', 500)\n",
    "#pd.set_option('display.width', 1000)\n",
    "pd.set_option('display.float_format', lambda x: '%.2f' % x)\n",
    "warnings.filterwarnings(\"ignore\")"
   ]
  },
  {
   "cell_type": "code",
   "execution_count": 3,
   "id": "ba28c9ff-0f67-4630-b70e-1b246b46a6df",
   "metadata": {},
   "outputs": [],
   "source": [
    "# Paths\n",
    "path_datos = '../datos/'\n",
    "path_reports = '../reports/'"
   ]
  },
  {
   "cell_type": "code",
   "execution_count": 4,
   "id": "8343799a-6f14-44d8-8268-891b6b501521",
   "metadata": {},
   "outputs": [],
   "source": [
    "#!pip install pandas-gbq"
   ]
  },
  {
   "cell_type": "code",
   "execution_count": 5,
   "id": "909d18f0-3b76-45c6-9556-61d95eeb0558",
   "metadata": {},
   "outputs": [],
   "source": [
    "# Importar tabla de Big Query\n",
    "filter_date = '2022-01-01'\n",
    "query = '''\n",
    "            select *\n",
    "            from `data-team-k.pricing_data.dolar_values` \n",
    "            where date >= '{}'\n",
    "            and source = 'Blue'\n",
    "            order by date\n",
    "            \n",
    "            '''.format(filter_date)\n",
    "df_dolar_values = gbq.read_gbq(query, project_id=\"data-team-k\")"
   ]
  },
  {
   "cell_type": "markdown",
   "id": "fa7d1d8e-ffa7-4ba6-910e-65e986b45eb3",
   "metadata": {},
   "source": [
    "Cuando llegue el momento de mergear esta tabla con nuestro dataset para traernos el dolar del dolar blue (el momento sera post filtro de duplicados). El merge sera en base a la col **date** del dataset"
   ]
  },
  {
   "cell_type": "markdown",
   "id": "90e7eda9-64f0-4594-8fda-f1072a008db2",
   "metadata": {},
   "source": [
    "# Load data"
   ]
  },
  {
   "cell_type": "code",
   "execution_count": 6,
   "id": "24f2613d-b526-45aa-a5bc-9504202141b3",
   "metadata": {
    "tags": []
   },
   "outputs": [],
   "source": [
    "# Importar tabla de Big Query\n",
    "#query = '''\n",
    "#SELECT car_id, runtime, date, price_symbol, price_amount, car_year,car_kms, year\n",
    "#,dealer, match_marca_a, score_marca_a, match_modelo_a,score_modelo_a, match_v1_a\n",
    "#, score_v1_a, total_score_a, Seg_a,Subseg_a, match_marca_c, score_marca_c,\n",
    "#match_modelo_c, score_modelo_c, match_v1_c, score_v1_c,total_score_c\n",
    "#, Seg_c, Subseg_c\n",
    "#FROM `data-team-k.pricing_data.match_meli_ok`\n",
    "#WHERE date between '2022-03-20' and '2022-03-31'\n",
    "#            '''.format(filter_date)\n",
    "#df_meli_mar_1 = gbq.read_gbq(query, project_id=\"data-team-k\")"
   ]
  },
  {
   "cell_type": "code",
   "execution_count": 7,
   "id": "ee4923a7-6413-4572-ba22-76904b3d2de1",
   "metadata": {},
   "outputs": [],
   "source": [
    "#df_meli_mar_1.shape"
   ]
  },
  {
   "cell_type": "code",
   "execution_count": 8,
   "id": "85d51165-11db-4372-8225-9dce6b337571",
   "metadata": {},
   "outputs": [],
   "source": [
    "#df_meli_mar_1.date.min()"
   ]
  },
  {
   "cell_type": "code",
   "execution_count": 9,
   "id": "d944e940-f20b-4de9-bfa1-bc83d09c4a91",
   "metadata": {},
   "outputs": [],
   "source": [
    "#df_meli_mar_1.date.max()"
   ]
  },
  {
   "cell_type": "code",
   "execution_count": 10,
   "id": "9c9345d6-d4bb-4283-99cf-eba4aad163a6",
   "metadata": {},
   "outputs": [],
   "source": [
    "# checkpoint download\n",
    "#df_meli_mar_1.to_pickle('{}df_meli_mar_1.pkl'.format(path_datos))"
   ]
  },
  {
   "cell_type": "code",
   "execution_count": 11,
   "id": "6ea7a0b4-e4be-4077-8ca9-9891ae606a4e",
   "metadata": {},
   "outputs": [],
   "source": [
    "# Importar tabla de Big Query\n",
    "#query = '''\n",
    "#SELECT car_id, runtime, date, price_symbol, price_amount, car_year,car_kms, year\n",
    "#,dealer, match_marca_a, score_marca_a, match_modelo_a,score_modelo_a, match_v1_a\n",
    "#, score_v1_a, total_score_a, Seg_a,Subseg_a, match_marca_c, score_marca_c,\n",
    "#match_modelo_c, score_modelo_c, match_v1_c, score_v1_c,total_score_c\n",
    "#, Seg_c, Subseg_c\n",
    "#FROM `data-team-k.pricing_data.match_meli_ok`\n",
    "#WHERE date between '2022-03-01' and '2022-03-19'\n",
    "#            '''.format(filter_date)\n",
    "#df_meli_mar_2 = gbq.read_gbq(query, project_id=\"data-team-k\")"
   ]
  },
  {
   "cell_type": "code",
   "execution_count": 12,
   "id": "d6b8ce48-8c6d-4d8e-a8df-9dd1e4d98402",
   "metadata": {},
   "outputs": [],
   "source": [
    "#df_meli_mar_2.shape"
   ]
  },
  {
   "cell_type": "code",
   "execution_count": 13,
   "id": "59998304-ac24-4c0d-9b02-faa48ece819a",
   "metadata": {},
   "outputs": [],
   "source": [
    "#df_meli_mar_2.date.min()"
   ]
  },
  {
   "cell_type": "code",
   "execution_count": 14,
   "id": "2177e590-b2e3-47d7-8a27-72e75e7141d6",
   "metadata": {},
   "outputs": [],
   "source": [
    "#df_meli_mar_2.date.max()"
   ]
  },
  {
   "cell_type": "code",
   "execution_count": 15,
   "id": "6ff6fb3d-3202-48f0-904e-00bf8bfc3358",
   "metadata": {},
   "outputs": [],
   "source": [
    "# checkpoint download\n",
    "#df_meli_mar_2.to_pickle('{}df_meli_mar_2.pkl'.format(path_datos))"
   ]
  },
  {
   "cell_type": "code",
   "execution_count": 16,
   "id": "b84491b5-2c9f-4cde-8d58-ca5dd1c7c674",
   "metadata": {},
   "outputs": [],
   "source": [
    "# Importar tabla de Big Query\n",
    "#query = '''SELECT *\n",
    "#           FROM `data-team-k.pricing_data.match_meli_ok`\n",
    "#           WHERE date between '2022-04-01' and '2022-04-14'\n",
    "#            '''.format(filter_date)\n",
    "#df_meli1 = gbq.read_gbq(query, project_id=\"data-team-k\")"
   ]
  },
  {
   "cell_type": "code",
   "execution_count": 17,
   "id": "68df079f-c751-4cc9-8d2a-02d3524b0974",
   "metadata": {},
   "outputs": [],
   "source": [
    "#df_meli1.shape"
   ]
  },
  {
   "cell_type": "code",
   "execution_count": 18,
   "id": "ab2ff089-2220-41c5-90ad-8478df52092c",
   "metadata": {},
   "outputs": [],
   "source": [
    "#df_meli1.date.min()"
   ]
  },
  {
   "cell_type": "code",
   "execution_count": 19,
   "id": "1740cdad-15db-4139-9121-cd812d250382",
   "metadata": {},
   "outputs": [],
   "source": [
    "#df_meli1.date.max()"
   ]
  },
  {
   "cell_type": "code",
   "execution_count": 20,
   "id": "af5c1955-789a-4d38-84a4-c3c4f7ffdb90",
   "metadata": {},
   "outputs": [],
   "source": [
    "#df_meli1 = df_meli1[['car_id','runtime', 'date', 'price_symbol', 'price_amount', 'car_year','car_kms', 'year','dealer'\n",
    "#, 'match_marca_a', 'score_marca_a', 'match_modelo_a','score_modelo_a', 'match_v1_a'\n",
    "#, 'score_v1_a', 'total_score_a', 'Seg_a','Subseg_a', 'match_marca_c', 'score_marca_c',\n",
    "#'match_modelo_c', 'score_modelo_c', 'match_v1_c', 'score_v1_c','total_score_c'\n",
    "#, 'Seg_c', 'Subseg_c']].copy()"
   ]
  },
  {
   "cell_type": "code",
   "execution_count": 21,
   "id": "a3a0687d-9d3a-4386-b862-2e73608ef048",
   "metadata": {},
   "outputs": [],
   "source": [
    "# checkpoint download\n",
    "#df_meli1.to_pickle('{}df_meli1.pkl'.format(path_datos))"
   ]
  },
  {
   "cell_type": "code",
   "execution_count": 22,
   "id": "69698c6e-f3ef-4dae-b040-16a87b74c46f",
   "metadata": {},
   "outputs": [],
   "source": [
    "# Importar tabla de Big Query\n",
    "#query = '''SELECT *\n",
    "#           FROM `data-team-k.pricing_data.match_meli_ok`\n",
    "#           WHERE date >= '2022-04-15'\n",
    "#            '''.format(filter_date)\n",
    "#df_meli2 = gbq.read_gbq(query, project_id=\"data-team-k\")"
   ]
  },
  {
   "cell_type": "code",
   "execution_count": 23,
   "id": "7072ba15-5d93-478c-93f0-7eb6d77c5343",
   "metadata": {},
   "outputs": [],
   "source": [
    "#df_meli2.columns"
   ]
  },
  {
   "cell_type": "code",
   "execution_count": 24,
   "id": "b20f5318-c153-4e9a-b49f-1fad6c4a0748",
   "metadata": {},
   "outputs": [],
   "source": [
    "#df_meli2.shape"
   ]
  },
  {
   "cell_type": "code",
   "execution_count": 25,
   "id": "6c3f886c-654c-4d9e-a0dd-6fe5b15f466a",
   "metadata": {},
   "outputs": [],
   "source": [
    "#df_meli2.date.max()"
   ]
  },
  {
   "cell_type": "code",
   "execution_count": 26,
   "id": "8a746b0a-ac7f-403c-a4be-a427a6e062ff",
   "metadata": {},
   "outputs": [],
   "source": [
    "#df_meli2.date.min()"
   ]
  },
  {
   "cell_type": "code",
   "execution_count": 27,
   "id": "e195385b-f139-41a1-9424-558890666204",
   "metadata": {},
   "outputs": [],
   "source": [
    "#df_meli2 = df_meli2[['car_id','runtime', 'date', 'price_symbol', 'price_amount', 'car_year','car_kms', 'year','dealer'\n",
    "#, 'match_marca_a', 'score_marca_a', 'match_modelo_a','score_modelo_a', 'match_v1_a'\n",
    "#, 'score_v1_a', 'total_score_a', 'Seg_a','Subseg_a', 'match_marca_c', 'score_marca_c',\n",
    "#'match_modelo_c', 'score_modelo_c', 'match_v1_c', 'score_v1_c','total_score_c'\n",
    "#, 'Seg_c', 'Subseg_c']].copy()"
   ]
  },
  {
   "cell_type": "code",
   "execution_count": 28,
   "id": "9d380d08-30d8-4514-9a1c-a702775e3da3",
   "metadata": {},
   "outputs": [],
   "source": [
    "# checkpoint download\n",
    "#df_meli2.to_pickle('{}df_meli2.pkl'.format(path_datos))"
   ]
  },
  {
   "cell_type": "code",
   "execution_count": 29,
   "id": "d0ec1df6-e405-4152-8f4e-91ae4d36d69c",
   "metadata": {},
   "outputs": [],
   "source": [
    "# checkpoint upload\n",
    "df = pd.read_pickle('{}df_meli2.pkl'.format(path_datos))"
   ]
  },
  {
   "cell_type": "code",
   "execution_count": 30,
   "id": "dc4f7d5e-47d3-430d-9ddc-7549991c3882",
   "metadata": {},
   "outputs": [],
   "source": [
    "#display(\n",
    "#df_meli_mar_1.shape, df_meli_mar_2.shape, df_meli1.shape, df_meli2.shape)"
   ]
  },
  {
   "cell_type": "code",
   "execution_count": 31,
   "id": "e720222a-4c29-4341-8619-209bdad6bb2a",
   "metadata": {},
   "outputs": [],
   "source": [
    "# Apendeamos los dos df\n",
    "#df = pd.concat([df_meli_mar_1, df_meli_mar_2,df_meli1,df_meli2],ignore_index=True)"
   ]
  },
  {
   "cell_type": "code",
   "execution_count": 32,
   "id": "858c2dae-6802-4aca-8f96-38c24742178f",
   "metadata": {},
   "outputs": [
    {
     "data": {
      "text/plain": [
       "(3872110, 27)"
      ]
     },
     "execution_count": 32,
     "metadata": {},
     "output_type": "execute_result"
    }
   ],
   "source": [
    "df.shape"
   ]
  },
  {
   "cell_type": "code",
   "execution_count": 33,
   "id": "6e0754c7-09d1-4716-98cf-76a66ce61740",
   "metadata": {},
   "outputs": [],
   "source": [
    "df = df[['car_id','runtime', 'date', 'price_symbol', 'price_amount', 'car_year','car_kms', 'year','dealer'\n",
    ", 'match_marca_a', 'score_marca_a', 'match_modelo_a','score_modelo_a', 'match_v1_a'\n",
    ", 'score_v1_a', 'total_score_a', 'Seg_a','Subseg_a', 'match_marca_c', 'score_marca_c',\n",
    "'match_modelo_c', 'score_modelo_c', 'match_v1_c', 'score_v1_c','total_score_c'\n",
    ", 'Seg_c', 'Subseg_c']].copy()"
   ]
  },
  {
   "cell_type": "code",
   "execution_count": 34,
   "id": "98456361-2b30-4a06-9d30-92efb48ae2c6",
   "metadata": {},
   "outputs": [
    {
     "data": {
      "text/plain": [
       "(3872110, 27)"
      ]
     },
     "execution_count": 34,
     "metadata": {},
     "output_type": "execute_result"
    }
   ],
   "source": [
    "df.shape"
   ]
  },
  {
   "cell_type": "code",
   "execution_count": 35,
   "id": "e77e271e-f1bf-46ed-9a68-92a017c93a79",
   "metadata": {},
   "outputs": [],
   "source": [
    "df['date'] = pd.to_datetime(df['date'])"
   ]
  },
  {
   "cell_type": "code",
   "execution_count": 36,
   "id": "af8e4da8-d628-459b-8d4c-c9af1c2f851b",
   "metadata": {
    "tags": []
   },
   "outputs": [],
   "source": [
    "#df.groupby('date').size()"
   ]
  },
  {
   "cell_type": "code",
   "execution_count": 37,
   "id": "50035b0e-6b2c-42b7-889d-8660b8330536",
   "metadata": {},
   "outputs": [
    {
     "data": {
      "text/plain": [
       "Timestamp('2022-05-24 00:00:00')"
      ]
     },
     "metadata": {},
     "output_type": "display_data"
    },
    {
     "data": {
      "text/plain": [
       "Timestamp('2022-04-15 00:00:00')"
      ]
     },
     "metadata": {},
     "output_type": "display_data"
    }
   ],
   "source": [
    "display(df.date.max(), df.date.min())"
   ]
  },
  {
   "cell_type": "code",
   "execution_count": 38,
   "id": "325ebf28-6042-4b9e-94af-7fc8329de3a2",
   "metadata": {},
   "outputs": [
    {
     "data": {
      "text/plain": [
       "Index(['car_id', 'runtime', 'date', 'price_symbol', 'price_amount', 'car_year',\n",
       "       'car_kms', 'year', 'dealer', 'match_marca_a', 'score_marca_a',\n",
       "       'match_modelo_a', 'score_modelo_a', 'match_v1_a', 'score_v1_a',\n",
       "       'total_score_a', 'Seg_a', 'Subseg_a', 'match_marca_c', 'score_marca_c',\n",
       "       'match_modelo_c', 'score_modelo_c', 'match_v1_c', 'score_v1_c',\n",
       "       'total_score_c', 'Seg_c', 'Subseg_c'],\n",
       "      dtype='object')"
      ]
     },
     "execution_count": 38,
     "metadata": {},
     "output_type": "execute_result"
    }
   ],
   "source": [
    "df.columns"
   ]
  },
  {
   "cell_type": "code",
   "execution_count": 39,
   "id": "73682440-383e-4103-b2a9-728670e7f36c",
   "metadata": {
    "tags": []
   },
   "outputs": [],
   "source": [
    "#df.dtypes"
   ]
  },
  {
   "cell_type": "markdown",
   "id": "51c6e9d9-1c96-43e3-ae8a-7fa91f578038",
   "metadata": {},
   "source": [
    "# Cleaning/Preprocessing *(before split)*"
   ]
  },
  {
   "cell_type": "markdown",
   "id": "5f4727a3-5112-4398-bb25-b88afe8c09b4",
   "metadata": {
    "tags": []
   },
   "source": [
    "### *Eliminar nulos*"
   ]
  },
  {
   "cell_type": "code",
   "execution_count": 40,
   "id": "3a091529-369c-4eed-a118-1ece9d8bf350",
   "metadata": {},
   "outputs": [
    {
     "name": "stdout",
     "output_type": "stream",
     "text": [
      "Every row with null values in the columns present in the subset will be removed\n",
      "Hey! 727 were removed due to null values\n"
     ]
    }
   ],
   "source": [
    "subset = ['car_year','car_kms','match_marca_a','match_modelo_a','match_v1_a','Subseg_a', 'Seg_a']\n",
    "df = null_clean(df=df, subset=subset)"
   ]
  },
  {
   "cell_type": "markdown",
   "id": "845b5d50-4b3e-4f48-8d71-9c4e9b1f4da6",
   "metadata": {
    "tags": []
   },
   "source": [
    "### *Eliminar duplicados*"
   ]
  },
  {
   "cell_type": "code",
   "execution_count": 41,
   "id": "1948ec96-9ff0-4ad9-9152-8349b2980d74",
   "metadata": {},
   "outputs": [
    {
     "name": "stdout",
     "output_type": "stream",
     "text": [
      "Hey! 3684484 were removed due to duplicate values\n"
     ]
    }
   ],
   "source": [
    "# Tratamiento de la feautre \"runtime\"\n",
    "old_shape = df.shape[0]\n",
    "df['runtime'] = pd.to_datetime(df.runtime.apply(lambda x: str(x)[:19]))\n",
    "df = df.sort_values(['runtime'])\n",
    "# Ahora si, teniendo el df ordenado, eliminamos los duplicados, quedandonos con el registro más reciente (la última ocurrencia)\n",
    "df.drop_duplicates(subset=['car_id'], keep='last', inplace=True)\n",
    "print(f'Hey! {old_shape - df.shape[0]} were removed due to duplicate values')"
   ]
  },
  {
   "cell_type": "code",
   "execution_count": 42,
   "id": "7b7b29ae-1ae1-4725-9221-8dbf7bb3d947",
   "metadata": {},
   "outputs": [
    {
     "data": {
      "text/plain": [
       "(186899, 27)"
      ]
     },
     "execution_count": 42,
     "metadata": {},
     "output_type": "execute_result"
    }
   ],
   "source": [
    "df.shape"
   ]
  },
  {
   "cell_type": "markdown",
   "id": "d2cd1999-efcb-48a0-838d-0257888c657f",
   "metadata": {
    "tags": []
   },
   "source": [
    "### *Eliminar 11111 & 999999*"
   ]
  },
  {
   "cell_type": "markdown",
   "id": "dd8ac75e-5e34-4435-be05-38b3edff65fb",
   "metadata": {},
   "source": [
    "**Dropeamos valores como 111111 o 999999 (ya sean outliers o no)**<br> \n",
    "* Pueden existir casos donde estos valores extraños no sean outliers, por lo tanto no los vamos a conseguir limpiar cuando dropiemos outliers. Es por eso que desarrollamos el siguiente metodo\n",
    "* Es clave hacerlo en este momento sobre \"price_amount\" y no sobre \"price_meli_ok\" ya que hay casos en los que el price simbol es USD y luego cuando lo multiplicamos por el TC para pasar a \"price_meli_ok\" dejan de cumplir estas condiciones de ser 111111 o 999999 y les perdemos el rastro"
   ]
  },
  {
   "cell_type": "code",
   "execution_count": 43,
   "id": "ede5933b-0843-4474-8143-a635b445f672",
   "metadata": {},
   "outputs": [],
   "source": [
    "df['price_amount'] = df.price_amount.astype('int')"
   ]
  },
  {
   "cell_type": "code",
   "execution_count": 44,
   "id": "b440890f-d8b1-4ba8-9ea1-d4c31f80ad84",
   "metadata": {},
   "outputs": [
    {
     "data": {
      "text/plain": [
       "78"
      ]
     },
     "execution_count": 44,
     "metadata": {},
     "output_type": "execute_result"
    }
   ],
   "source": [
    "m1 = df.price_amount == 1111\n",
    "m2 = df.price_amount == 11111\n",
    "m3 = df.price_amount == 111111\n",
    "m4 = df.price_amount == 1111111\n",
    "m5 = df.price_amount == 11111111\n",
    "m6 = df.price_amount == 111111111\n",
    "\n",
    "len(df[m1 | m2 | m3 | m4 | m5 | m6])"
   ]
  },
  {
   "cell_type": "code",
   "execution_count": 45,
   "id": "03fb4662-3666-423e-90a6-54b6c22d9c06",
   "metadata": {},
   "outputs": [
    {
     "data": {
      "text/html": [
       "<div>\n",
       "<style scoped>\n",
       "    .dataframe tbody tr th:only-of-type {\n",
       "        vertical-align: middle;\n",
       "    }\n",
       "\n",
       "    .dataframe tbody tr th {\n",
       "        vertical-align: top;\n",
       "    }\n",
       "\n",
       "    .dataframe thead th {\n",
       "        text-align: right;\n",
       "    }\n",
       "</style>\n",
       "<table border=\"1\" class=\"dataframe\">\n",
       "  <thead>\n",
       "    <tr style=\"text-align: right;\">\n",
       "      <th></th>\n",
       "      <th>price_amount</th>\n",
       "    </tr>\n",
       "  </thead>\n",
       "  <tbody>\n",
       "    <tr>\n",
       "      <th>1368081</th>\n",
       "      <td>11111111</td>\n",
       "    </tr>\n",
       "    <tr>\n",
       "      <th>205308</th>\n",
       "      <td>1111111</td>\n",
       "    </tr>\n",
       "    <tr>\n",
       "      <th>3251007</th>\n",
       "      <td>111111</td>\n",
       "    </tr>\n",
       "    <tr>\n",
       "      <th>154658</th>\n",
       "      <td>11111111</td>\n",
       "    </tr>\n",
       "    <tr>\n",
       "      <th>3346602</th>\n",
       "      <td>1111111</td>\n",
       "    </tr>\n",
       "  </tbody>\n",
       "</table>\n",
       "</div>"
      ],
      "text/plain": [
       "         price_amount\n",
       "1368081      11111111\n",
       "205308        1111111\n",
       "3251007        111111\n",
       "154658       11111111\n",
       "3346602       1111111"
      ]
     },
     "execution_count": 45,
     "metadata": {},
     "output_type": "execute_result"
    }
   ],
   "source": [
    "# observamos\n",
    "df[m1 | m2 | m3 | m4 | m5 | m6][['price_amount']].head()"
   ]
  },
  {
   "cell_type": "code",
   "execution_count": 46,
   "id": "d6a5acf3-a0c9-4093-9f3e-056d00895bd5",
   "metadata": {},
   "outputs": [
    {
     "data": {
      "text/plain": [
       "(186899, 27)"
      ]
     },
     "execution_count": 46,
     "metadata": {},
     "output_type": "execute_result"
    }
   ],
   "source": [
    "df.shape"
   ]
  },
  {
   "cell_type": "code",
   "execution_count": 47,
   "id": "999f2227-2b79-40f9-8226-393ca87a8e1c",
   "metadata": {},
   "outputs": [],
   "source": [
    "# dropeamos\n",
    "df = df[~(m1 | m2 | m3 | m4 | m5 | m6)]"
   ]
  },
  {
   "cell_type": "code",
   "execution_count": 48,
   "id": "b52873c2-378e-4e98-826c-acae48d6d14e",
   "metadata": {},
   "outputs": [
    {
     "data": {
      "text/plain": [
       "(186821, 27)"
      ]
     },
     "execution_count": 48,
     "metadata": {},
     "output_type": "execute_result"
    }
   ],
   "source": [
    "df.shape"
   ]
  },
  {
   "cell_type": "markdown",
   "id": "972014b0-9618-44a7-9b6c-dc6007f65078",
   "metadata": {},
   "source": [
    "*Ahora lo mismo pero para los casos 999999*"
   ]
  },
  {
   "cell_type": "code",
   "execution_count": 49,
   "id": "d158d67e-6912-4da8-8e27-9584fa063733",
   "metadata": {},
   "outputs": [
    {
     "data": {
      "text/plain": [
       "107"
      ]
     },
     "execution_count": 49,
     "metadata": {},
     "output_type": "execute_result"
    }
   ],
   "source": [
    "m1 = df.price_amount == 9999\n",
    "m2 = df.price_amount == 99999\n",
    "m3 = df.price_amount == 999999\n",
    "m4 = df.price_amount == 9999999\n",
    "m5 = df.price_amount == 99999999\n",
    "\n",
    "len(df[m1 | m2 | m3 | m4 | m5])"
   ]
  },
  {
   "cell_type": "code",
   "execution_count": 50,
   "id": "3cd34f9d-ac65-47d0-8d1d-32bef832d093",
   "metadata": {},
   "outputs": [
    {
     "data": {
      "text/html": [
       "<div>\n",
       "<style scoped>\n",
       "    .dataframe tbody tr th:only-of-type {\n",
       "        vertical-align: middle;\n",
       "    }\n",
       "\n",
       "    .dataframe tbody tr th {\n",
       "        vertical-align: top;\n",
       "    }\n",
       "\n",
       "    .dataframe thead th {\n",
       "        text-align: right;\n",
       "    }\n",
       "</style>\n",
       "<table border=\"1\" class=\"dataframe\">\n",
       "  <thead>\n",
       "    <tr style=\"text-align: right;\">\n",
       "      <th></th>\n",
       "      <th>price_amount</th>\n",
       "    </tr>\n",
       "  </thead>\n",
       "  <tbody>\n",
       "    <tr>\n",
       "      <th>736655</th>\n",
       "      <td>999999</td>\n",
       "    </tr>\n",
       "    <tr>\n",
       "      <th>2918326</th>\n",
       "      <td>9999999</td>\n",
       "    </tr>\n",
       "    <tr>\n",
       "      <th>342016</th>\n",
       "      <td>9999</td>\n",
       "    </tr>\n",
       "    <tr>\n",
       "      <th>1314632</th>\n",
       "      <td>999999</td>\n",
       "    </tr>\n",
       "    <tr>\n",
       "      <th>3188324</th>\n",
       "      <td>99999999</td>\n",
       "    </tr>\n",
       "  </tbody>\n",
       "</table>\n",
       "</div>"
      ],
      "text/plain": [
       "         price_amount\n",
       "736655         999999\n",
       "2918326       9999999\n",
       "342016           9999\n",
       "1314632        999999\n",
       "3188324      99999999"
      ]
     },
     "execution_count": 50,
     "metadata": {},
     "output_type": "execute_result"
    }
   ],
   "source": [
    "# observamos\n",
    "df[m1 | m2 | m3 | m4 | m5 | m6][['price_amount']].head()"
   ]
  },
  {
   "cell_type": "code",
   "execution_count": 51,
   "id": "fcbcf9d9-f8b9-41ec-932d-29be43e480d4",
   "metadata": {},
   "outputs": [
    {
     "data": {
      "text/plain": [
       "(186821, 27)"
      ]
     },
     "execution_count": 51,
     "metadata": {},
     "output_type": "execute_result"
    }
   ],
   "source": [
    "df.shape"
   ]
  },
  {
   "cell_type": "code",
   "execution_count": 52,
   "id": "e41929dd-d6b4-4aa8-bdfe-bc34d81ff335",
   "metadata": {},
   "outputs": [],
   "source": [
    "# dropeamos\n",
    "df = df[~(m1 | m2 | m3 | m4 | m5)]"
   ]
  },
  {
   "cell_type": "code",
   "execution_count": 53,
   "id": "a64cf8dc-51b8-4835-9d3b-bd52d4c40e2b",
   "metadata": {},
   "outputs": [
    {
     "data": {
      "text/plain": [
       "(186714, 27)"
      ]
     },
     "execution_count": 53,
     "metadata": {},
     "output_type": "execute_result"
    }
   ],
   "source": [
    "df.shape"
   ]
  },
  {
   "cell_type": "markdown",
   "id": "5e4ba988-9bfe-4ae2-bf68-d9b2de41f3d2",
   "metadata": {},
   "source": [
    "*Ahora lo mismo para kms*"
   ]
  },
  {
   "cell_type": "code",
   "execution_count": 54,
   "id": "1f49c51a-1309-4313-8bec-62725ebc60ff",
   "metadata": {},
   "outputs": [],
   "source": [
    "df['car_kms'] = df.car_kms.astype('int')"
   ]
  },
  {
   "cell_type": "code",
   "execution_count": 55,
   "id": "36dfcf86-52cf-4d3c-9cca-66af0c62192d",
   "metadata": {},
   "outputs": [
    {
     "data": {
      "text/plain": [
       "1"
      ]
     },
     "execution_count": 55,
     "metadata": {},
     "output_type": "execute_result"
    }
   ],
   "source": [
    "df[df.car_kms > 0]['car_kms'].min()"
   ]
  },
  {
   "cell_type": "code",
   "execution_count": 56,
   "id": "8fbdb91e-c6fb-4264-afc6-fd6173426e35",
   "metadata": {},
   "outputs": [
    {
     "data": {
      "text/plain": [
       "1066"
      ]
     },
     "execution_count": 56,
     "metadata": {},
     "output_type": "execute_result"
    }
   ],
   "source": [
    "m1 = df.car_kms == 1\n",
    "m2 = df.car_kms == 11\n",
    "m3 = df.car_kms == 111\n",
    "m4 = df.car_kms == 1111\n",
    "m5 = df.car_kms == 11111\n",
    "m6 = df.car_kms == 111111\n",
    "m7 = df.car_kms == 1111111\n",
    "m8 = df.car_kms == 11111111\n",
    "\n",
    "len(df[ m1 | m2 | m3 | m4 | m5 | m6 | m7 | m8])"
   ]
  },
  {
   "cell_type": "code",
   "execution_count": 57,
   "id": "56c30745-c069-43aa-bc95-085c2f35fd70",
   "metadata": {},
   "outputs": [
    {
     "data": {
      "text/html": [
       "<div>\n",
       "<style scoped>\n",
       "    .dataframe tbody tr th:only-of-type {\n",
       "        vertical-align: middle;\n",
       "    }\n",
       "\n",
       "    .dataframe tbody tr th {\n",
       "        vertical-align: top;\n",
       "    }\n",
       "\n",
       "    .dataframe thead th {\n",
       "        text-align: right;\n",
       "    }\n",
       "</style>\n",
       "<table border=\"1\" class=\"dataframe\">\n",
       "  <thead>\n",
       "    <tr style=\"text-align: right;\">\n",
       "      <th></th>\n",
       "      <th>car_kms</th>\n",
       "    </tr>\n",
       "  </thead>\n",
       "  <tbody>\n",
       "    <tr>\n",
       "      <th>392825</th>\n",
       "      <td>111111</td>\n",
       "    </tr>\n",
       "    <tr>\n",
       "      <th>2675285</th>\n",
       "      <td>1111111</td>\n",
       "    </tr>\n",
       "    <tr>\n",
       "      <th>2675281</th>\n",
       "      <td>111111</td>\n",
       "    </tr>\n",
       "    <tr>\n",
       "      <th>1327042</th>\n",
       "      <td>1111</td>\n",
       "    </tr>\n",
       "    <tr>\n",
       "      <th>550985</th>\n",
       "      <td>11111</td>\n",
       "    </tr>\n",
       "  </tbody>\n",
       "</table>\n",
       "</div>"
      ],
      "text/plain": [
       "         car_kms\n",
       "392825    111111\n",
       "2675285  1111111\n",
       "2675281   111111\n",
       "1327042     1111\n",
       "550985     11111"
      ]
     },
     "execution_count": 57,
     "metadata": {},
     "output_type": "execute_result"
    }
   ],
   "source": [
    "# observamos\n",
    "df[m1 | m2 | m3 | m4 | m5 | m6 | m7 | m8][['car_kms']].head()"
   ]
  },
  {
   "cell_type": "code",
   "execution_count": 58,
   "id": "3ddc3846-dc96-4e4e-903d-ffe53f69cb80",
   "metadata": {},
   "outputs": [
    {
     "data": {
      "text/plain": [
       "(186714, 27)"
      ]
     },
     "execution_count": 58,
     "metadata": {},
     "output_type": "execute_result"
    }
   ],
   "source": [
    "df.shape"
   ]
  },
  {
   "cell_type": "code",
   "execution_count": 59,
   "id": "0948acdf-585e-4b7b-a9c8-99a69e38e5ec",
   "metadata": {},
   "outputs": [],
   "source": [
    "# dropeamos\n",
    "df = df[~(m1 | m2 | m3 | m4 | m5 | m6 | m7 | m8)]"
   ]
  },
  {
   "cell_type": "code",
   "execution_count": 60,
   "id": "0e38b6f2-3f85-47dd-98b0-63b9041b7d06",
   "metadata": {},
   "outputs": [
    {
     "data": {
      "text/plain": [
       "(185648, 27)"
      ]
     },
     "execution_count": 60,
     "metadata": {},
     "output_type": "execute_result"
    }
   ],
   "source": [
    "df.shape"
   ]
  },
  {
   "cell_type": "markdown",
   "id": "dafa32d9-5eda-4df6-925e-deed6887ec15",
   "metadata": {},
   "source": [
    "*Lo mismo pero para los valores 99999*"
   ]
  },
  {
   "cell_type": "code",
   "execution_count": 61,
   "id": "bd76128a-4ee8-46a8-b9de-963482ede1fd",
   "metadata": {},
   "outputs": [
    {
     "data": {
      "text/plain": [
       "103"
      ]
     },
     "execution_count": 61,
     "metadata": {},
     "output_type": "execute_result"
    }
   ],
   "source": [
    "m1 = df.car_kms == 999\n",
    "m2 = df.car_kms == 9999\n",
    "m3 = df.car_kms == 99999\n",
    "m4 = df.car_kms == 999999\n",
    "m5 = df.car_kms == 9999999\n",
    "\n",
    "len(df[m1 | m2 | m3 | m4 | m5])"
   ]
  },
  {
   "cell_type": "code",
   "execution_count": 62,
   "id": "0ddb8f23-2903-4670-8d2d-e056b63b09a4",
   "metadata": {},
   "outputs": [
    {
     "data": {
      "text/html": [
       "<div>\n",
       "<style scoped>\n",
       "    .dataframe tbody tr th:only-of-type {\n",
       "        vertical-align: middle;\n",
       "    }\n",
       "\n",
       "    .dataframe tbody tr th {\n",
       "        vertical-align: top;\n",
       "    }\n",
       "\n",
       "    .dataframe thead th {\n",
       "        text-align: right;\n",
       "    }\n",
       "</style>\n",
       "<table border=\"1\" class=\"dataframe\">\n",
       "  <thead>\n",
       "    <tr style=\"text-align: right;\">\n",
       "      <th></th>\n",
       "      <th>car_kms</th>\n",
       "    </tr>\n",
       "  </thead>\n",
       "  <tbody>\n",
       "    <tr>\n",
       "      <th>1888757</th>\n",
       "      <td>99999</td>\n",
       "    </tr>\n",
       "    <tr>\n",
       "      <th>1114164</th>\n",
       "      <td>999</td>\n",
       "    </tr>\n",
       "    <tr>\n",
       "      <th>2665774</th>\n",
       "      <td>999</td>\n",
       "    </tr>\n",
       "    <tr>\n",
       "      <th>731436</th>\n",
       "      <td>999999</td>\n",
       "    </tr>\n",
       "    <tr>\n",
       "      <th>1505048</th>\n",
       "      <td>999999</td>\n",
       "    </tr>\n",
       "  </tbody>\n",
       "</table>\n",
       "</div>"
      ],
      "text/plain": [
       "         car_kms\n",
       "1888757    99999\n",
       "1114164      999\n",
       "2665774      999\n",
       "731436    999999\n",
       "1505048   999999"
      ]
     },
     "execution_count": 62,
     "metadata": {},
     "output_type": "execute_result"
    }
   ],
   "source": [
    "# observamos\n",
    "df[m1 | m2 | m3 | m4 | m5][['car_kms']].head()"
   ]
  },
  {
   "cell_type": "code",
   "execution_count": 63,
   "id": "de8860f3-61ca-4f3c-86d6-aef71a3ae6c4",
   "metadata": {},
   "outputs": [
    {
     "data": {
      "text/plain": [
       "(185648, 27)"
      ]
     },
     "execution_count": 63,
     "metadata": {},
     "output_type": "execute_result"
    }
   ],
   "source": [
    "df.shape"
   ]
  },
  {
   "cell_type": "code",
   "execution_count": 64,
   "id": "8c9678cf-65f9-4c0e-834d-44fd87cfa70a",
   "metadata": {},
   "outputs": [],
   "source": [
    "# dropeamos\n",
    "df = df[~(m1 | m2 | m3 | m4 | m5)]"
   ]
  },
  {
   "cell_type": "code",
   "execution_count": 65,
   "id": "71cac496-4a3e-4856-b0a5-befa8c087c8b",
   "metadata": {},
   "outputs": [
    {
     "data": {
      "text/plain": [
       "(185545, 27)"
      ]
     },
     "execution_count": 65,
     "metadata": {},
     "output_type": "execute_result"
    }
   ],
   "source": [
    "df.shape"
   ]
  },
  {
   "cell_type": "code",
   "execution_count": 66,
   "id": "328a60d5-e79d-47e4-a8fa-e055b213d3fb",
   "metadata": {},
   "outputs": [],
   "source": [
    "# checkpoint download\n",
    "df.to_csv('{}df_checkpoint_1.pkl'.format(path_datos))"
   ]
  },
  {
   "cell_type": "code",
   "execution_count": 67,
   "id": "4b9a9ff3-5622-4d26-999e-26668067d5a3",
   "metadata": {},
   "outputs": [],
   "source": [
    "# checkpoint upload\n",
    "#df = pd.read_csv('{}df_checkpoint_1.pkl'.format(path_save))\n",
    "#df.shape"
   ]
  },
  {
   "cell_type": "markdown",
   "id": "18cd3e7c-afce-4a30-89c6-6da01f57fe51",
   "metadata": {
    "tags": []
   },
   "source": [
    "### *Dropeamos 0kms y concesionaria*"
   ]
  },
  {
   "cell_type": "code",
   "execution_count": 68,
   "id": "2d84675e-b92d-4869-9fb1-915de9f86be7",
   "metadata": {},
   "outputs": [],
   "source": [
    "mask_not_0km = df.car_kms > 90\n",
    "mask_not_conces = df.dealer == False\n",
    "\n",
    "df = df[(mask_not_0km) & (mask_not_conces)]"
   ]
  },
  {
   "cell_type": "code",
   "execution_count": 69,
   "id": "2b2cb3fd-f25c-406a-a0d1-7dab70ad667a",
   "metadata": {},
   "outputs": [
    {
     "data": {
      "text/plain": [
       "(88321, 27)"
      ]
     },
     "execution_count": 69,
     "metadata": {},
     "output_type": "execute_result"
    }
   ],
   "source": [
    "df.shape"
   ]
  },
  {
   "cell_type": "markdown",
   "id": "117bd85d-cc09-463d-b641-5f877f1deede",
   "metadata": {
    "tags": []
   },
   "source": [
    "### *Dropeamos match_score por debajo de 80%*"
   ]
  },
  {
   "cell_type": "code",
   "execution_count": 70,
   "id": "9d7389f9-b43d-4094-91b7-695140f9cb7e",
   "metadata": {},
   "outputs": [
    {
     "data": {
      "text/plain": [
       "score_marca_a     92\n",
       "score_modelo_a    86\n",
       "score_v1_c        80\n",
       "dtype: int64"
      ]
     },
     "execution_count": 70,
     "metadata": {},
     "output_type": "execute_result"
    }
   ],
   "source": [
    "lst = ['score_marca_a','score_modelo_a','score_v1_c']\n",
    "for col in lst:\n",
    "    df = df[df[col]>=80]\n",
    "    \n",
    "# chequeo\n",
    "df[lst].min()"
   ]
  },
  {
   "cell_type": "code",
   "execution_count": 71,
   "id": "8ab072a7-34bc-4211-a4ad-260e46b79e91",
   "metadata": {},
   "outputs": [
    {
     "data": {
      "text/plain": [
       "(59335, 27)"
      ]
     },
     "execution_count": 71,
     "metadata": {},
     "output_type": "execute_result"
    }
   ],
   "source": [
    "df.shape"
   ]
  },
  {
   "cell_type": "markdown",
   "id": "5f44ee1e-afcd-4386-a45e-eae5cb7dd73c",
   "metadata": {
    "tags": []
   },
   "source": [
    "### *Dropeamos registros que no sean de los ultimos 60 / 90 / 10 días*"
   ]
  },
  {
   "cell_type": "code",
   "execution_count": 72,
   "id": "3afa616a-f0da-434e-af3d-f3e3313ab9c5",
   "metadata": {},
   "outputs": [],
   "source": [
    "# DEFINIMOS LA VENTANA\n",
    "ventana = 5"
   ]
  },
  {
   "cell_type": "code",
   "execution_count": 73,
   "id": "290ac302-85ce-4d71-8517-2b6819e75b66",
   "metadata": {},
   "outputs": [
    {
     "data": {
      "text/plain": [
       "Timestamp('2022-05-24 23:01:15')"
      ]
     },
     "execution_count": 73,
     "metadata": {},
     "output_type": "execute_result"
    }
   ],
   "source": [
    "df.runtime.max()"
   ]
  },
  {
   "cell_type": "code",
   "execution_count": 74,
   "id": "80b15209-0c22-4221-8033-7ad482e32975",
   "metadata": {},
   "outputs": [],
   "source": [
    "from datetime import date, datetime, timedelta"
   ]
  },
  {
   "cell_type": "code",
   "execution_count": 75,
   "id": "2d50a1d2-2857-489a-942f-ce5d8f07adec",
   "metadata": {},
   "outputs": [],
   "source": [
    "df['runtime'] = df['runtime'].apply(pd.to_datetime)"
   ]
  },
  {
   "cell_type": "code",
   "execution_count": 76,
   "id": "7756eadc-849b-4d30-b6c4-8691a8d2777a",
   "metadata": {},
   "outputs": [
    {
     "name": "stdout",
     "output_type": "stream",
     "text": [
      "<class 'pandas.core.frame.DataFrame'>\n",
      "Int64Index: 59335 entries, 3278774 to 3243998\n",
      "Data columns (total 1 columns):\n",
      " #   Column   Non-Null Count  Dtype         \n",
      "---  ------   --------------  -----         \n",
      " 0   runtime  59335 non-null  datetime64[ns]\n",
      "dtypes: datetime64[ns](1)\n",
      "memory usage: 927.1 KB\n"
     ]
    }
   ],
   "source": [
    "df[['runtime']].info()"
   ]
  },
  {
   "cell_type": "code",
   "execution_count": 77,
   "id": "0b9db6ca-ad17-4ef4-8686-bbb90eb6d3ab",
   "metadata": {},
   "outputs": [],
   "source": [
    "max_date = df.runtime.max()\n",
    "mask_last15d = (df.runtime <= max_date) & ((df.runtime >= max_date - timedelta(days=ventana)))\n",
    "df = df[mask_last15d]"
   ]
  },
  {
   "cell_type": "code",
   "execution_count": 78,
   "id": "cc9ed2dd-7348-4bdf-ae27-a791a1b968b1",
   "metadata": {},
   "outputs": [
    {
     "data": {
      "text/plain": [
       "Timestamp('2022-05-24 23:01:15')"
      ]
     },
     "execution_count": 78,
     "metadata": {},
     "output_type": "execute_result"
    }
   ],
   "source": [
    "df.runtime.max()"
   ]
  },
  {
   "cell_type": "code",
   "execution_count": 79,
   "id": "1e6b20e4-1a1d-4f21-b463-f6e05acb5058",
   "metadata": {},
   "outputs": [
    {
     "name": "stdout",
     "output_type": "stream",
     "text": [
      "2022-05-20 00:00:25\n",
      "2022-05-24 23:01:15\n"
     ]
    }
   ],
   "source": [
    "print(df.runtime.min())\n",
    "print(df.runtime.max())"
   ]
  },
  {
   "cell_type": "code",
   "execution_count": 80,
   "id": "4cd106a4-ad13-4b7a-bfa2-e6dfbf7e107b",
   "metadata": {},
   "outputs": [
    {
     "data": {
      "text/plain": [
       "(32224, 27)"
      ]
     },
     "execution_count": 80,
     "metadata": {},
     "output_type": "execute_result"
    }
   ],
   "source": [
    "df.shape"
   ]
  },
  {
   "cell_type": "markdown",
   "id": "e75aed4a-2654-4ff6-8ce3-836d7f141be2",
   "metadata": {
    "tags": []
   },
   "source": [
    "### *Dropeamos categorías que no nos sirven*"
   ]
  },
  {
   "cell_type": "markdown",
   "id": "e2a4e02d-63f7-4e6e-afd0-04c38921774b",
   "metadata": {},
   "source": [
    "*Las categorías que dejamos afuera, son las que no nos interesa cotizar porque irán a reglas o al equipo de pricing*"
   ]
  },
  {
   "cell_type": "markdown",
   "id": "85a10ea2-40d4-4440-97e9-207ce6045df3",
   "metadata": {},
   "source": [
    "Los grupos de los escenarios los vamos a re-definir aca. Debido a que cuando lo hicimos en la nb \"Tres escenarios\" como un primer apporach estaba bien y aparte el objetivo era validar la hipotesis de outliers vs presencia. Pero ocurre que aca el procesamiento es más profundo, y por lo tanto un auto que capas estaba en el grupo 4 en la nb \"Tres Escenarios\" aca debido a las limpiezas extra respesto a esa nb, pierden muchisimo volumen y quedaría en grupos muchísimos más bajos que no entrarían para el algoritmo. El caso perfecto es la F-150 de FORD: en ese caso en la nb \"Tres Esce\" quedaba en el grupo 4, y aca desp de todo el procesamiento nos queda 1 solo caso el cual se nos fue a test despues de split y en train no estaba, por lo tanto tira error la funcion de data_processing_1()."
   ]
  },
  {
   "cell_type": "markdown",
   "id": "9381acdc-3834-4575-90e3-505101cfa181",
   "metadata": {},
   "source": [
    "**El procesamiento para armar los grupos es en base al nivel de agregacion marca-modelo-version!!**"
   ]
  },
  {
   "cell_type": "code",
   "execution_count": 81,
   "id": "dd458668-91c1-4612-91ec-0436553aa2c5",
   "metadata": {},
   "outputs": [],
   "source": [
    "df_grouped = df.groupby(['match_marca_a','match_modelo_a','match_v1_a'],as_index=False).size()\n",
    "df_grouped.columns = ['marca','modelo','version','cant']\n",
    "df_grouped.sort_values(by='cant',ascending=False,inplace=True)"
   ]
  },
  {
   "cell_type": "code",
   "execution_count": 82,
   "id": "be5e2ae7-c61d-4099-ae60-cce3ca45c868",
   "metadata": {},
   "outputs": [
    {
     "data": {
      "text/html": [
       "<div>\n",
       "<style scoped>\n",
       "    .dataframe tbody tr th:only-of-type {\n",
       "        vertical-align: middle;\n",
       "    }\n",
       "\n",
       "    .dataframe tbody tr th {\n",
       "        vertical-align: top;\n",
       "    }\n",
       "\n",
       "    .dataframe thead th {\n",
       "        text-align: right;\n",
       "    }\n",
       "</style>\n",
       "<table border=\"1\" class=\"dataframe\">\n",
       "  <thead>\n",
       "    <tr style=\"text-align: right;\">\n",
       "      <th></th>\n",
       "      <th>marca</th>\n",
       "      <th>modelo</th>\n",
       "      <th>version</th>\n",
       "      <th>cant</th>\n",
       "    </tr>\n",
       "  </thead>\n",
       "  <tbody>\n",
       "    <tr>\n",
       "      <th>1632</th>\n",
       "      <td>VOLKSWAGEN</td>\n",
       "      <td>Gol Trend</td>\n",
       "      <td>1.6 MSI 5Ptas. Trendline (101cv) (L17)</td>\n",
       "      <td>386</td>\n",
       "    </tr>\n",
       "    <tr>\n",
       "      <th>1140</th>\n",
       "      <td>PEUGEOT</td>\n",
       "      <td>308</td>\n",
       "      <td>Allure 1.6 HDI NAV (115cv) 5Ptas. (L16)</td>\n",
       "      <td>341</td>\n",
       "    </tr>\n",
       "    <tr>\n",
       "      <th>1488</th>\n",
       "      <td>TOYOTA</td>\n",
       "      <td>Etios</td>\n",
       "      <td>1.5 XLS AT (105cv) (L18) 4Ptas.</td>\n",
       "      <td>338</td>\n",
       "    </tr>\n",
       "    <tr>\n",
       "      <th>1622</th>\n",
       "      <td>VOLKSWAGEN</td>\n",
       "      <td>Gol Trend</td>\n",
       "      <td>1.6 3Ptas. Trendline / Pack I (101cv)</td>\n",
       "      <td>276</td>\n",
       "    </tr>\n",
       "    <tr>\n",
       "      <th>1469</th>\n",
       "      <td>TOYOTA</td>\n",
       "      <td>Corolla</td>\n",
       "      <td>XEI 1.8 CVT (140cv) (L18)</td>\n",
       "      <td>267</td>\n",
       "    </tr>\n",
       "  </tbody>\n",
       "</table>\n",
       "</div>"
      ],
      "text/plain": [
       "           marca     modelo                                  version  cant\n",
       "1632  VOLKSWAGEN  Gol Trend   1.6 MSI 5Ptas. Trendline (101cv) (L17)   386\n",
       "1140     PEUGEOT        308  Allure 1.6 HDI NAV (115cv) 5Ptas. (L16)   341\n",
       "1488      TOYOTA      Etios          1.5 XLS AT (105cv) (L18) 4Ptas.   338\n",
       "1622  VOLKSWAGEN  Gol Trend   1.6 3Ptas. Trendline / Pack I (101cv)    276\n",
       "1469      TOYOTA    Corolla                XEI 1.8 CVT (140cv) (L18)   267"
      ]
     },
     "execution_count": 82,
     "metadata": {},
     "output_type": "execute_result"
    }
   ],
   "source": [
    "df_grouped.head()"
   ]
  },
  {
   "cell_type": "code",
   "execution_count": 83,
   "id": "00c35d00-992d-4daf-924c-7e370e05c880",
   "metadata": {
    "tags": []
   },
   "outputs": [
    {
     "data": {
      "text/html": [
       "<div>\n",
       "<style scoped>\n",
       "    .dataframe tbody tr th:only-of-type {\n",
       "        vertical-align: middle;\n",
       "    }\n",
       "\n",
       "    .dataframe tbody tr th {\n",
       "        vertical-align: top;\n",
       "    }\n",
       "\n",
       "    .dataframe thead th {\n",
       "        text-align: right;\n",
       "    }\n",
       "</style>\n",
       "<table border=\"1\" class=\"dataframe\">\n",
       "  <thead>\n",
       "    <tr style=\"text-align: right;\">\n",
       "      <th></th>\n",
       "      <th>marca</th>\n",
       "      <th>modelo</th>\n",
       "      <th>version</th>\n",
       "      <th>cant</th>\n",
       "    </tr>\n",
       "  </thead>\n",
       "  <tbody>\n",
       "    <tr>\n",
       "      <th>1541</th>\n",
       "      <td>VOLKSWAGEN</td>\n",
       "      <td>Amarok</td>\n",
       "      <td>2.0 TDI (140cv) 4x2 C/Simple Trendline (L17)</td>\n",
       "      <td>9</td>\n",
       "    </tr>\n",
       "    <tr>\n",
       "      <th>1539</th>\n",
       "      <td>VOLKSWAGEN</td>\n",
       "      <td>Amarok</td>\n",
       "      <td>2.0 TDI (122cv) 4x4 C/Doble Startline</td>\n",
       "      <td>9</td>\n",
       "    </tr>\n",
       "    <tr>\n",
       "      <th>1556</th>\n",
       "      <td>VOLKSWAGEN</td>\n",
       "      <td>Amarok</td>\n",
       "      <td>2.0 TDI (180cv) 4x2 C/Doble Ultimate AT</td>\n",
       "      <td>9</td>\n",
       "    </tr>\n",
       "    <tr>\n",
       "      <th>1565</th>\n",
       "      <td>VOLKSWAGEN</td>\n",
       "      <td>Amarok</td>\n",
       "      <td>2.0 TDI (180cv) 4x4 C/Doble Ultimate AT</td>\n",
       "      <td>11</td>\n",
       "    </tr>\n",
       "    <tr>\n",
       "      <th>1538</th>\n",
       "      <td>VOLKSWAGEN</td>\n",
       "      <td>Amarok</td>\n",
       "      <td>2.0 TDI (122cv) 4x2 C/Doble Startline</td>\n",
       "      <td>15</td>\n",
       "    </tr>\n",
       "    <tr>\n",
       "      <th>1563</th>\n",
       "      <td>VOLKSWAGEN</td>\n",
       "      <td>Amarok</td>\n",
       "      <td>2.0 TDI (180cv) 4x4 C/Doble Trendline AT</td>\n",
       "      <td>67</td>\n",
       "    </tr>\n",
       "    <tr>\n",
       "      <th>1548</th>\n",
       "      <td>VOLKSWAGEN</td>\n",
       "      <td>Amarok</td>\n",
       "      <td>2.0 TDI (163cv) 4x4 C/Doble Startline</td>\n",
       "      <td>15</td>\n",
       "    </tr>\n",
       "    <tr>\n",
       "      <th>1558</th>\n",
       "      <td>VOLKSWAGEN</td>\n",
       "      <td>Amarok</td>\n",
       "      <td>2.0 TDI (180cv) 4x4 C/Doble Dark Label AT</td>\n",
       "      <td>15</td>\n",
       "    </tr>\n",
       "    <tr>\n",
       "      <th>1551</th>\n",
       "      <td>VOLKSWAGEN</td>\n",
       "      <td>Amarok</td>\n",
       "      <td>2.0 TDI (180cv) 4x2 C/Doble Dark Label AT</td>\n",
       "      <td>15</td>\n",
       "    </tr>\n",
       "    <tr>\n",
       "      <th>1560</th>\n",
       "      <td>VOLKSWAGEN</td>\n",
       "      <td>Amarok</td>\n",
       "      <td>2.0 TDI (180cv) 4x4 C/Doble Highline AT (L17)</td>\n",
       "      <td>15</td>\n",
       "    </tr>\n",
       "    <tr>\n",
       "      <th>1554</th>\n",
       "      <td>VOLKSWAGEN</td>\n",
       "      <td>Amarok</td>\n",
       "      <td>2.0 TDI (180cv) 4x2 C/Doble Startline</td>\n",
       "      <td>18</td>\n",
       "    </tr>\n",
       "    <tr>\n",
       "      <th>1549</th>\n",
       "      <td>VOLKSWAGEN</td>\n",
       "      <td>Amarok</td>\n",
       "      <td>2.0 TDI (163cv) 4x4 C/Doble Trendline</td>\n",
       "      <td>18</td>\n",
       "    </tr>\n",
       "    <tr>\n",
       "      <th>1552</th>\n",
       "      <td>VOLKSWAGEN</td>\n",
       "      <td>Amarok</td>\n",
       "      <td>2.0 TDI (180cv) 4x2 C/Doble Highline</td>\n",
       "      <td>50</td>\n",
       "    </tr>\n",
       "    <tr>\n",
       "      <th>1544</th>\n",
       "      <td>VOLKSWAGEN</td>\n",
       "      <td>Amarok</td>\n",
       "      <td>2.0 TDI (163cv) 4x2 C/Doble Highline</td>\n",
       "      <td>20</td>\n",
       "    </tr>\n",
       "    <tr>\n",
       "      <th>1546</th>\n",
       "      <td>VOLKSWAGEN</td>\n",
       "      <td>Amarok</td>\n",
       "      <td>2.0 TDI (163cv) 4x2 C/Doble Trendline</td>\n",
       "      <td>23</td>\n",
       "    </tr>\n",
       "    <tr>\n",
       "      <th>1543</th>\n",
       "      <td>VOLKSWAGEN</td>\n",
       "      <td>Amarok</td>\n",
       "      <td>2.0 TDI (140cv) 4x4 C/Simple Startline</td>\n",
       "      <td>24</td>\n",
       "    </tr>\n",
       "    <tr>\n",
       "      <th>1547</th>\n",
       "      <td>VOLKSWAGEN</td>\n",
       "      <td>Amarok</td>\n",
       "      <td>2.0 TDI (163cv) 4x4 C/Doble Highline Pack</td>\n",
       "      <td>39</td>\n",
       "    </tr>\n",
       "    <tr>\n",
       "      <th>1567</th>\n",
       "      <td>VOLKSWAGEN</td>\n",
       "      <td>Amarok</td>\n",
       "      <td>3.0 TDI V6 (258cv) 4x4 C/Doble Black Style AT ...</td>\n",
       "      <td>7</td>\n",
       "    </tr>\n",
       "    <tr>\n",
       "      <th>1559</th>\n",
       "      <td>VOLKSWAGEN</td>\n",
       "      <td>Amarok</td>\n",
       "      <td>2.0 TDI (180cv) 4x4 C/Doble Highline</td>\n",
       "      <td>46</td>\n",
       "    </tr>\n",
       "    <tr>\n",
       "      <th>1545</th>\n",
       "      <td>VOLKSWAGEN</td>\n",
       "      <td>Amarok</td>\n",
       "      <td>2.0 TDI (163cv) 4x2 C/Doble Startline 2ABG</td>\n",
       "      <td>4</td>\n",
       "    </tr>\n",
       "    <tr>\n",
       "      <th>1550</th>\n",
       "      <td>VOLKSWAGEN</td>\n",
       "      <td>Amarok</td>\n",
       "      <td>2.0 TDI (180cv) 4x2 C/Doble Comfortline (L17)</td>\n",
       "      <td>1</td>\n",
       "    </tr>\n",
       "    <tr>\n",
       "      <th>1566</th>\n",
       "      <td>VOLKSWAGEN</td>\n",
       "      <td>Amarok</td>\n",
       "      <td>3.0 TDI V6 (224cv) 4x4 C/Doble Extreme AT (L17)</td>\n",
       "      <td>185</td>\n",
       "    </tr>\n",
       "    <tr>\n",
       "      <th>1562</th>\n",
       "      <td>VOLKSWAGEN</td>\n",
       "      <td>Amarok</td>\n",
       "      <td>2.0 TDI (180cv) 4x4 C/Doble Startline</td>\n",
       "      <td>2</td>\n",
       "    </tr>\n",
       "    <tr>\n",
       "      <th>1542</th>\n",
       "      <td>VOLKSWAGEN</td>\n",
       "      <td>Amarok</td>\n",
       "      <td>2.0 TDI (140cv) 4x4 C/Doble Trendline LL16'' C...</td>\n",
       "      <td>2</td>\n",
       "    </tr>\n",
       "    <tr>\n",
       "      <th>1561</th>\n",
       "      <td>VOLKSWAGEN</td>\n",
       "      <td>Amarok</td>\n",
       "      <td>2.0 TDI (180cv) 4x4 C/Doble Highline Pack AT</td>\n",
       "      <td>149</td>\n",
       "    </tr>\n",
       "    <tr>\n",
       "      <th>1553</th>\n",
       "      <td>VOLKSWAGEN</td>\n",
       "      <td>Amarok</td>\n",
       "      <td>2.0 TDI (180cv) 4x2 C/Doble Highline Pack AT</td>\n",
       "      <td>142</td>\n",
       "    </tr>\n",
       "    <tr>\n",
       "      <th>1557</th>\n",
       "      <td>VOLKSWAGEN</td>\n",
       "      <td>Amarok</td>\n",
       "      <td>2.0 TDI (180cv) 4x4 C/Doble Black Edition AT</td>\n",
       "      <td>3</td>\n",
       "    </tr>\n",
       "    <tr>\n",
       "      <th>1540</th>\n",
       "      <td>VOLKSWAGEN</td>\n",
       "      <td>Amarok</td>\n",
       "      <td>2.0 TDI (140cv) 4x2 C/Simple Startline</td>\n",
       "      <td>127</td>\n",
       "    </tr>\n",
       "    <tr>\n",
       "      <th>1564</th>\n",
       "      <td>VOLKSWAGEN</td>\n",
       "      <td>Amarok</td>\n",
       "      <td>2.0 TDI (180cv) 4x4 C/Doble Ultimate</td>\n",
       "      <td>3</td>\n",
       "    </tr>\n",
       "    <tr>\n",
       "      <th>1555</th>\n",
       "      <td>VOLKSWAGEN</td>\n",
       "      <td>Amarok</td>\n",
       "      <td>2.0 TDI (180cv) 4x2 C/Doble Trendline AT</td>\n",
       "      <td>133</td>\n",
       "    </tr>\n",
       "    <tr>\n",
       "      <th>1571</th>\n",
       "      <td>VOLKSWAGEN</td>\n",
       "      <td>Bora</td>\n",
       "      <td>1.9 TDI Trendline</td>\n",
       "      <td>58</td>\n",
       "    </tr>\n",
       "    <tr>\n",
       "      <th>1573</th>\n",
       "      <td>VOLKSWAGEN</td>\n",
       "      <td>Bora</td>\n",
       "      <td>2.0 Trendline Tiptronic</td>\n",
       "      <td>82</td>\n",
       "    </tr>\n",
       "    <tr>\n",
       "      <th>1570</th>\n",
       "      <td>VOLKSWAGEN</td>\n",
       "      <td>Bora</td>\n",
       "      <td>1.8T Highline Tiptronic</td>\n",
       "      <td>8</td>\n",
       "    </tr>\n",
       "    <tr>\n",
       "      <th>1569</th>\n",
       "      <td>VOLKSWAGEN</td>\n",
       "      <td>Bora</td>\n",
       "      <td>1.8T Highline MT Cuero</td>\n",
       "      <td>97</td>\n",
       "    </tr>\n",
       "    <tr>\n",
       "      <th>1572</th>\n",
       "      <td>VOLKSWAGEN</td>\n",
       "      <td>Bora</td>\n",
       "      <td>2.0 Trendline MT</td>\n",
       "      <td>222</td>\n",
       "    </tr>\n",
       "    <tr>\n",
       "      <th>1568</th>\n",
       "      <td>VOLKSWAGEN</td>\n",
       "      <td>Bora</td>\n",
       "      <td>1.8T Highline MT</td>\n",
       "      <td>84</td>\n",
       "    </tr>\n",
       "    <tr>\n",
       "      <th>1580</th>\n",
       "      <td>VOLKSWAGEN</td>\n",
       "      <td>CC</td>\n",
       "      <td>3.6 V6 DSG 4Motion Highline (300cv)</td>\n",
       "      <td>10</td>\n",
       "    </tr>\n",
       "    <tr>\n",
       "      <th>1576</th>\n",
       "      <td>VOLKSWAGEN</td>\n",
       "      <td>CC</td>\n",
       "      <td>2.0 TSI DSG Luxury (211cv)</td>\n",
       "      <td>5</td>\n",
       "    </tr>\n",
       "    <tr>\n",
       "      <th>1575</th>\n",
       "      <td>VOLKSWAGEN</td>\n",
       "      <td>CC</td>\n",
       "      <td>2.0 TSI DSG Exclusive (211cv)</td>\n",
       "      <td>10</td>\n",
       "    </tr>\n",
       "    <tr>\n",
       "      <th>1574</th>\n",
       "      <td>VOLKSWAGEN</td>\n",
       "      <td>CC</td>\n",
       "      <td>2.0 TSI DSG Advance (211cv)</td>\n",
       "      <td>3</td>\n",
       "    </tr>\n",
       "    <tr>\n",
       "      <th>1577</th>\n",
       "      <td>VOLKSWAGEN</td>\n",
       "      <td>CC</td>\n",
       "      <td>2.0 TSI MT Advance (211cv)</td>\n",
       "      <td>4</td>\n",
       "    </tr>\n",
       "    <tr>\n",
       "      <th>1579</th>\n",
       "      <td>VOLKSWAGEN</td>\n",
       "      <td>CC</td>\n",
       "      <td>2.0 TSI MT Luxury (211cv)</td>\n",
       "      <td>2</td>\n",
       "    </tr>\n",
       "    <tr>\n",
       "      <th>1578</th>\n",
       "      <td>VOLKSWAGEN</td>\n",
       "      <td>CC</td>\n",
       "      <td>2.0 TSI MT Exclusive (211cv)</td>\n",
       "      <td>7</td>\n",
       "    </tr>\n",
       "    <tr>\n",
       "      <th>1582</th>\n",
       "      <td>VOLKSWAGEN</td>\n",
       "      <td>Caddy</td>\n",
       "      <td>1.9 SD Vidriada AA</td>\n",
       "      <td>3</td>\n",
       "    </tr>\n",
       "    <tr>\n",
       "      <th>1581</th>\n",
       "      <td>VOLKSWAGEN</td>\n",
       "      <td>Caddy</td>\n",
       "      <td>1.6 MI</td>\n",
       "      <td>1</td>\n",
       "    </tr>\n",
       "    <tr>\n",
       "      <th>1585</th>\n",
       "      <td>VOLKSWAGEN</td>\n",
       "      <td>CrossFox</td>\n",
       "      <td>1.6 Highline Cuero 5Ptas. (MY14 ABG ABS)</td>\n",
       "      <td>3</td>\n",
       "    </tr>\n",
       "    <tr>\n",
       "      <th>1583</th>\n",
       "      <td>VOLKSWAGEN</td>\n",
       "      <td>CrossFox</td>\n",
       "      <td>1.6 Comfortline 5Ptas. (MY14 ABG ABS)</td>\n",
       "      <td>19</td>\n",
       "    </tr>\n",
       "    <tr>\n",
       "      <th>1586</th>\n",
       "      <td>VOLKSWAGEN</td>\n",
       "      <td>CrossFox</td>\n",
       "      <td>1.6 Trendline 5Ptas. (MY14 ABG ABS)</td>\n",
       "      <td>36</td>\n",
       "    </tr>\n",
       "    <tr>\n",
       "      <th>1587</th>\n",
       "      <td>VOLKSWAGEN</td>\n",
       "      <td>CrossFox</td>\n",
       "      <td>1.6 Trendline Cuero 5Ptas.</td>\n",
       "      <td>5</td>\n",
       "    </tr>\n",
       "    <tr>\n",
       "      <th>1584</th>\n",
       "      <td>VOLKSWAGEN</td>\n",
       "      <td>CrossFox</td>\n",
       "      <td>1.6 Highline 5Ptas. (ABG ABS)</td>\n",
       "      <td>23</td>\n",
       "    </tr>\n",
       "    <tr>\n",
       "      <th>1590</th>\n",
       "      <td>VOLKSWAGEN</td>\n",
       "      <td>Fox</td>\n",
       "      <td>1.6 Highline 5Ptas. (MY14 ABG ABS)</td>\n",
       "      <td>79</td>\n",
       "    </tr>\n",
       "    <tr>\n",
       "      <th>1594</th>\n",
       "      <td>VOLKSWAGEN</td>\n",
       "      <td>Fox</td>\n",
       "      <td>1.6 MSI Pepper 5Ptas. (101cv) (L15)</td>\n",
       "      <td>5</td>\n",
       "    </tr>\n",
       "    <tr>\n",
       "      <th>1591</th>\n",
       "      <td>VOLKSWAGEN</td>\n",
       "      <td>Fox</td>\n",
       "      <td>1.6 MSI 16V Highline 5Ptas. (110cv) (L15)</td>\n",
       "      <td>2</td>\n",
       "    </tr>\n",
       "    <tr>\n",
       "      <th>1593</th>\n",
       "      <td>VOLKSWAGEN</td>\n",
       "      <td>Fox</td>\n",
       "      <td>1.6 MSI Connect 5Ptas. (101cv) (L15)</td>\n",
       "      <td>11</td>\n",
       "    </tr>\n",
       "    <tr>\n",
       "      <th>1596</th>\n",
       "      <td>VOLKSWAGEN</td>\n",
       "      <td>Fox</td>\n",
       "      <td>1.6 Route 3Ptas.</td>\n",
       "      <td>6</td>\n",
       "    </tr>\n",
       "    <tr>\n",
       "      <th>1598</th>\n",
       "      <td>VOLKSWAGEN</td>\n",
       "      <td>Fox</td>\n",
       "      <td>1.6 Sportline 3Ptas.</td>\n",
       "      <td>29</td>\n",
       "    </tr>\n",
       "    <tr>\n",
       "      <th>1597</th>\n",
       "      <td>VOLKSWAGEN</td>\n",
       "      <td>Fox</td>\n",
       "      <td>1.6 Route 5Ptas.</td>\n",
       "      <td>4</td>\n",
       "    </tr>\n",
       "    <tr>\n",
       "      <th>1599</th>\n",
       "      <td>VOLKSWAGEN</td>\n",
       "      <td>Fox</td>\n",
       "      <td>1.6 Trendline 5Ptas. (MY14 ABG ABS)</td>\n",
       "      <td>104</td>\n",
       "    </tr>\n",
       "    <tr>\n",
       "      <th>1589</th>\n",
       "      <td>VOLKSWAGEN</td>\n",
       "      <td>Fox</td>\n",
       "      <td>1.6 Comfortline Pack 3Ptas. (MY14 ABG ABS)</td>\n",
       "      <td>96</td>\n",
       "    </tr>\n",
       "    <tr>\n",
       "      <th>1600</th>\n",
       "      <td>VOLKSWAGEN</td>\n",
       "      <td>Fox</td>\n",
       "      <td>1.6 Trendline I-Motion 5Ptas.</td>\n",
       "      <td>2</td>\n",
       "    </tr>\n",
       "    <tr>\n",
       "      <th>1595</th>\n",
       "      <td>VOLKSWAGEN</td>\n",
       "      <td>Fox</td>\n",
       "      <td>1.6 MSI Track 5Ptas. (101cv) (L15)</td>\n",
       "      <td>7</td>\n",
       "    </tr>\n",
       "    <tr>\n",
       "      <th>1601</th>\n",
       "      <td>VOLKSWAGEN</td>\n",
       "      <td>Fox</td>\n",
       "      <td>1.9 SDI Trendline 5Ptas. (Faros / PM / Spoiler)</td>\n",
       "      <td>1</td>\n",
       "    </tr>\n",
       "    <tr>\n",
       "      <th>1588</th>\n",
       "      <td>VOLKSWAGEN</td>\n",
       "      <td>Fox</td>\n",
       "      <td>1.6 Comfortline 5Ptas. (MY14 ABG ABS)</td>\n",
       "      <td>142</td>\n",
       "    </tr>\n",
       "    <tr>\n",
       "      <th>1592</th>\n",
       "      <td>VOLKSWAGEN</td>\n",
       "      <td>Fox</td>\n",
       "      <td>1.6 MSI 16V Highline I-Motion 5Ptas. (110cv) (...</td>\n",
       "      <td>10</td>\n",
       "    </tr>\n",
       "    <tr>\n",
       "      <th>1608</th>\n",
       "      <td>VOLKSWAGEN</td>\n",
       "      <td>Gol</td>\n",
       "      <td>1.6 5Ptas. Trendline</td>\n",
       "      <td>14</td>\n",
       "    </tr>\n",
       "    <tr>\n",
       "      <th>1602</th>\n",
       "      <td>VOLKSWAGEN</td>\n",
       "      <td>Gol</td>\n",
       "      <td>1.4 3Ptas. Power AA DA (83cv)</td>\n",
       "      <td>2</td>\n",
       "    </tr>\n",
       "    <tr>\n",
       "      <th>1615</th>\n",
       "      <td>VOLKSWAGEN</td>\n",
       "      <td>Gol</td>\n",
       "      <td>Country 1.6 Trendline Plus 2ABG</td>\n",
       "      <td>2</td>\n",
       "    </tr>\n",
       "    <tr>\n",
       "      <th>1604</th>\n",
       "      <td>VOLKSWAGEN</td>\n",
       "      <td>Gol</td>\n",
       "      <td>1.6 3Ptas. LOOk</td>\n",
       "      <td>15</td>\n",
       "    </tr>\n",
       "    <tr>\n",
       "      <th>1612</th>\n",
       "      <td>VOLKSWAGEN</td>\n",
       "      <td>Gol</td>\n",
       "      <td>1.9 SD</td>\n",
       "      <td>3</td>\n",
       "    </tr>\n",
       "    <tr>\n",
       "      <th>1619</th>\n",
       "      <td>VOLKSWAGEN</td>\n",
       "      <td>Gol</td>\n",
       "      <td>Country 1.9 SD Trendline</td>\n",
       "      <td>19</td>\n",
       "    </tr>\n",
       "    <tr>\n",
       "      <th>1609</th>\n",
       "      <td>VOLKSWAGEN</td>\n",
       "      <td>Gol</td>\n",
       "      <td>1.6 MSI Cabina Doble Power (101cv) (L16)</td>\n",
       "      <td>2</td>\n",
       "    </tr>\n",
       "    <tr>\n",
       "      <th>1616</th>\n",
       "      <td>VOLKSWAGEN</td>\n",
       "      <td>Gol</td>\n",
       "      <td>Country 1.9 SD Comfortline Plus 2ABG</td>\n",
       "      <td>12</td>\n",
       "    </tr>\n",
       "    <tr>\n",
       "      <th>1617</th>\n",
       "      <td>VOLKSWAGEN</td>\n",
       "      <td>Gol</td>\n",
       "      <td>Country 1.9 SD Format</td>\n",
       "      <td>1</td>\n",
       "    </tr>\n",
       "    <tr>\n",
       "      <th>1603</th>\n",
       "      <td>VOLKSWAGEN</td>\n",
       "      <td>Gol</td>\n",
       "      <td>1.4 TSI Design MT (L17)</td>\n",
       "      <td>1</td>\n",
       "    </tr>\n",
       "    <tr>\n",
       "      <th>1606</th>\n",
       "      <td>VOLKSWAGEN</td>\n",
       "      <td>Gol</td>\n",
       "      <td>1.6 3Ptas. Trendline Plus</td>\n",
       "      <td>1</td>\n",
       "    </tr>\n",
       "    <tr>\n",
       "      <th>1614</th>\n",
       "      <td>VOLKSWAGEN</td>\n",
       "      <td>Gol</td>\n",
       "      <td>1.9 SD 5Ptas. Power AA DA</td>\n",
       "      <td>9</td>\n",
       "    </tr>\n",
       "    <tr>\n",
       "      <th>1611</th>\n",
       "      <td>VOLKSWAGEN</td>\n",
       "      <td>Gol</td>\n",
       "      <td>1.6 MSI Trendline (L15)</td>\n",
       "      <td>1</td>\n",
       "    </tr>\n",
       "    <tr>\n",
       "      <th>1618</th>\n",
       "      <td>VOLKSWAGEN</td>\n",
       "      <td>Gol</td>\n",
       "      <td>Country 1.9 SD Power (Int.Plus AA DA)</td>\n",
       "      <td>7</td>\n",
       "    </tr>\n",
       "    <tr>\n",
       "      <th>1613</th>\n",
       "      <td>VOLKSWAGEN</td>\n",
       "      <td>Gol</td>\n",
       "      <td>1.9 SD 5Ptas. Power / Plus</td>\n",
       "      <td>1</td>\n",
       "    </tr>\n",
       "    <tr>\n",
       "      <th>1610</th>\n",
       "      <td>VOLKSWAGEN</td>\n",
       "      <td>Gol</td>\n",
       "      <td>1.6 MSI Comfortline (L18)</td>\n",
       "      <td>10</td>\n",
       "    </tr>\n",
       "    <tr>\n",
       "      <th>1605</th>\n",
       "      <td>VOLKSWAGEN</td>\n",
       "      <td>Gol</td>\n",
       "      <td>1.6 3Ptas. Power</td>\n",
       "      <td>29</td>\n",
       "    </tr>\n",
       "    <tr>\n",
       "      <th>1607</th>\n",
       "      <td>VOLKSWAGEN</td>\n",
       "      <td>Gol</td>\n",
       "      <td>1.6 5Ptas. Comfortline</td>\n",
       "      <td>27</td>\n",
       "    </tr>\n",
       "    <tr>\n",
       "      <th>1628</th>\n",
       "      <td>VOLKSWAGEN</td>\n",
       "      <td>Gol Trend</td>\n",
       "      <td>1.6 MSI 5Ptas. Connect (101cv) (L17)</td>\n",
       "      <td>3</td>\n",
       "    </tr>\n",
       "    <tr>\n",
       "      <th>1621</th>\n",
       "      <td>VOLKSWAGEN</td>\n",
       "      <td>Gol Trend</td>\n",
       "      <td>1.6 3Ptas. Pack II (101cv) (MY14 ABG ABS)</td>\n",
       "      <td>13</td>\n",
       "    </tr>\n",
       "    <tr>\n",
       "      <th>1629</th>\n",
       "      <td>VOLKSWAGEN</td>\n",
       "      <td>Gol Trend</td>\n",
       "      <td>1.6 MSI 5Ptas. Highline (101cv) (L17)</td>\n",
       "      <td>78</td>\n",
       "    </tr>\n",
       "    <tr>\n",
       "      <th>1620</th>\n",
       "      <td>VOLKSWAGEN</td>\n",
       "      <td>Gol Trend</td>\n",
       "      <td>1.6 3Ptas. Highline / Pack III (101cv)</td>\n",
       "      <td>73</td>\n",
       "    </tr>\n",
       "    <tr>\n",
       "      <th>1624</th>\n",
       "      <td>VOLKSWAGEN</td>\n",
       "      <td>Gol Trend</td>\n",
       "      <td>1.6 5Ptas. Highline I-Motion / Pack III (101cv)</td>\n",
       "      <td>15</td>\n",
       "    </tr>\n",
       "    <tr>\n",
       "      <th>1626</th>\n",
       "      <td>VOLKSWAGEN</td>\n",
       "      <td>Gol Trend</td>\n",
       "      <td>1.6 5Ptas. Pack II (101cv)</td>\n",
       "      <td>84</td>\n",
       "    </tr>\n",
       "    <tr>\n",
       "      <th>1632</th>\n",
       "      <td>VOLKSWAGEN</td>\n",
       "      <td>Gol Trend</td>\n",
       "      <td>1.6 MSI 5Ptas. Trendline (101cv) (L17)</td>\n",
       "      <td>386</td>\n",
       "    </tr>\n",
       "    <tr>\n",
       "      <th>1631</th>\n",
       "      <td>VOLKSWAGEN</td>\n",
       "      <td>Gol Trend</td>\n",
       "      <td>1.6 MSI 5Ptas. Sportline (101cv) (L17)</td>\n",
       "      <td>9</td>\n",
       "    </tr>\n",
       "    <tr>\n",
       "      <th>1625</th>\n",
       "      <td>VOLKSWAGEN</td>\n",
       "      <td>Gol Trend</td>\n",
       "      <td>1.6 5Ptas. Pack I Plus I-Motion (101cv)</td>\n",
       "      <td>35</td>\n",
       "    </tr>\n",
       "    <tr>\n",
       "      <th>1623</th>\n",
       "      <td>VOLKSWAGEN</td>\n",
       "      <td>Gol Trend</td>\n",
       "      <td>1.6 5Ptas. Cup (101cv)</td>\n",
       "      <td>2</td>\n",
       "    </tr>\n",
       "    <tr>\n",
       "      <th>1627</th>\n",
       "      <td>VOLKSWAGEN</td>\n",
       "      <td>Gol Trend</td>\n",
       "      <td>1.6 5Ptas. Trendline / Pack I (101cv)</td>\n",
       "      <td>1</td>\n",
       "    </tr>\n",
       "    <tr>\n",
       "      <th>1622</th>\n",
       "      <td>VOLKSWAGEN</td>\n",
       "      <td>Gol Trend</td>\n",
       "      <td>1.6 3Ptas. Trendline / Pack I (101cv)</td>\n",
       "      <td>276</td>\n",
       "    </tr>\n",
       "    <tr>\n",
       "      <th>1630</th>\n",
       "      <td>VOLKSWAGEN</td>\n",
       "      <td>Gol Trend</td>\n",
       "      <td>1.6 MSI 5Ptas. Serie (101cv) (L17)</td>\n",
       "      <td>36</td>\n",
       "    </tr>\n",
       "    <tr>\n",
       "      <th>1647</th>\n",
       "      <td>VOLKSWAGEN</td>\n",
       "      <td>Golf</td>\n",
       "      <td>GTI 2.0T DSG NAV (211cv) 5Ptas.</td>\n",
       "      <td>10</td>\n",
       "    </tr>\n",
       "    <tr>\n",
       "      <th>1642</th>\n",
       "      <td>VOLKSWAGEN</td>\n",
       "      <td>Golf</td>\n",
       "      <td>2.0 Advance (116cv)</td>\n",
       "      <td>1</td>\n",
       "    </tr>\n",
       "    <tr>\n",
       "      <th>1639</th>\n",
       "      <td>VOLKSWAGEN</td>\n",
       "      <td>Golf</td>\n",
       "      <td>1.6 MSI 5Ptas. Trendline AT (101cv) (L19)</td>\n",
       "      <td>1</td>\n",
       "    </tr>\n",
       "    <tr>\n",
       "      <th>1649</th>\n",
       "      <td>VOLKSWAGEN</td>\n",
       "      <td>Golf</td>\n",
       "      <td>GTI 2.0T MT NAV (211cv) 5Ptas.</td>\n",
       "      <td>1</td>\n",
       "    </tr>\n",
       "    <tr>\n",
       "      <th>1633</th>\n",
       "      <td>VOLKSWAGEN</td>\n",
       "      <td>Golf</td>\n",
       "      <td>1.4 TSI DSG Comfortline (150cv)</td>\n",
       "      <td>12</td>\n",
       "    </tr>\n",
       "    <tr>\n",
       "      <th>1648</th>\n",
       "      <td>VOLKSWAGEN</td>\n",
       "      <td>Golf</td>\n",
       "      <td>GTI 2.0T MT (211cv) 5Ptas.</td>\n",
       "      <td>7</td>\n",
       "    </tr>\n",
       "    <tr>\n",
       "      <th>1638</th>\n",
       "      <td>VOLKSWAGEN</td>\n",
       "      <td>Golf</td>\n",
       "      <td>1.6 Format (100cv) (L07)</td>\n",
       "      <td>4</td>\n",
       "    </tr>\n",
       "    <tr>\n",
       "      <th>1643</th>\n",
       "      <td>VOLKSWAGEN</td>\n",
       "      <td>Golf</td>\n",
       "      <td>2.0 GTI DSG (220cv) (L15)</td>\n",
       "      <td>1</td>\n",
       "    </tr>\n",
       "    <tr>\n",
       "      <th>1651</th>\n",
       "      <td>VOLKSWAGEN</td>\n",
       "      <td>Golf</td>\n",
       "      <td>Variant 1.4 TSI Highline DSG (150cv) (L15)</td>\n",
       "      <td>82</td>\n",
       "    </tr>\n",
       "    <tr>\n",
       "      <th>1645</th>\n",
       "      <td>VOLKSWAGEN</td>\n",
       "      <td>Golf</td>\n",
       "      <td>2.0 Highline AT</td>\n",
       "      <td>1</td>\n",
       "    </tr>\n",
       "    <tr>\n",
       "      <th>1640</th>\n",
       "      <td>VOLKSWAGEN</td>\n",
       "      <td>Golf</td>\n",
       "      <td>1.6 MSI Trendline (L15)</td>\n",
       "      <td>4</td>\n",
       "    </tr>\n",
       "    <tr>\n",
       "      <th>1652</th>\n",
       "      <td>VOLKSWAGEN</td>\n",
       "      <td>Golf</td>\n",
       "      <td>Variant 1.6 MT Trendline (110cv) (L15)</td>\n",
       "      <td>58</td>\n",
       "    </tr>\n",
       "    <tr>\n",
       "      <th>1650</th>\n",
       "      <td>VOLKSWAGEN</td>\n",
       "      <td>Golf</td>\n",
       "      <td>Variant 1.4 TSI Comfortline DSG(150cv) (L15)</td>\n",
       "      <td>168</td>\n",
       "    </tr>\n",
       "    <tr>\n",
       "      <th>1644</th>\n",
       "      <td>VOLKSWAGEN</td>\n",
       "      <td>Golf</td>\n",
       "      <td>2.0 GTI DSG App Connect Cuero (220cv) (L15)</td>\n",
       "      <td>53</td>\n",
       "    </tr>\n",
       "    <tr>\n",
       "      <th>1635</th>\n",
       "      <td>VOLKSWAGEN</td>\n",
       "      <td>Golf</td>\n",
       "      <td>1.4 TSI MT Comfortline (150cv)</td>\n",
       "      <td>3</td>\n",
       "    </tr>\n",
       "    <tr>\n",
       "      <th>1646</th>\n",
       "      <td>VOLKSWAGEN</td>\n",
       "      <td>Golf</td>\n",
       "      <td>GTI 2.0 TSI DSG Cuero (230cv)</td>\n",
       "      <td>4</td>\n",
       "    </tr>\n",
       "    <tr>\n",
       "      <th>1634</th>\n",
       "      <td>VOLKSWAGEN</td>\n",
       "      <td>Golf</td>\n",
       "      <td>1.4 TSI DSG Highline (150cv)</td>\n",
       "      <td>2</td>\n",
       "    </tr>\n",
       "    <tr>\n",
       "      <th>1641</th>\n",
       "      <td>VOLKSWAGEN</td>\n",
       "      <td>Golf</td>\n",
       "      <td>1.9 TDI Conceptline / Comfortline (90cv)</td>\n",
       "      <td>2</td>\n",
       "    </tr>\n",
       "    <tr>\n",
       "      <th>1637</th>\n",
       "      <td>VOLKSWAGEN</td>\n",
       "      <td>Golf</td>\n",
       "      <td>1.6 Conceptline / Comfortline (100cv) (L07)</td>\n",
       "      <td>21</td>\n",
       "    </tr>\n",
       "    <tr>\n",
       "      <th>1636</th>\n",
       "      <td>VOLKSWAGEN</td>\n",
       "      <td>Golf</td>\n",
       "      <td>1.6 Advance (100cv) (L07)</td>\n",
       "      <td>21</td>\n",
       "    </tr>\n",
       "    <tr>\n",
       "      <th>1653</th>\n",
       "      <td>VOLKSWAGEN</td>\n",
       "      <td>New Beetle</td>\n",
       "      <td>2.0 MT Advance</td>\n",
       "      <td>11</td>\n",
       "    </tr>\n",
       "    <tr>\n",
       "      <th>1655</th>\n",
       "      <td>VOLKSWAGEN</td>\n",
       "      <td>New Beetle</td>\n",
       "      <td>2.5 Sport</td>\n",
       "      <td>10</td>\n",
       "    </tr>\n",
       "    <tr>\n",
       "      <th>1654</th>\n",
       "      <td>VOLKSWAGEN</td>\n",
       "      <td>New Beetle</td>\n",
       "      <td>2.0 Tiptronic Luxury</td>\n",
       "      <td>3</td>\n",
       "    </tr>\n",
       "    <tr>\n",
       "      <th>1656</th>\n",
       "      <td>VOLKSWAGEN</td>\n",
       "      <td>Nivus</td>\n",
       "      <td>Comfortline 200 1.0 TSI Tiptronic (116cv)</td>\n",
       "      <td>3</td>\n",
       "    </tr>\n",
       "    <tr>\n",
       "      <th>1657</th>\n",
       "      <td>VOLKSWAGEN</td>\n",
       "      <td>Nivus</td>\n",
       "      <td>Highline 200 1.0 TSI Tiptronic (116cv)</td>\n",
       "      <td>2</td>\n",
       "    </tr>\n",
       "    <tr>\n",
       "      <th>1674</th>\n",
       "      <td>VOLKSWAGEN</td>\n",
       "      <td>Passat</td>\n",
       "      <td>2.0 TSI R-Line DSG (220cv) (L17)</td>\n",
       "      <td>1</td>\n",
       "    </tr>\n",
       "    <tr>\n",
       "      <th>1678</th>\n",
       "      <td>VOLKSWAGEN</td>\n",
       "      <td>Passat</td>\n",
       "      <td>Variant 2.0 FSI Elegance Tiptronic (150cv)</td>\n",
       "      <td>1</td>\n",
       "    </tr>\n",
       "    <tr>\n",
       "      <th>1681</th>\n",
       "      <td>VOLKSWAGEN</td>\n",
       "      <td>Passat</td>\n",
       "      <td>Variant 2.0 TSi Luxury MT Techo(211cv) (L11)</td>\n",
       "      <td>8</td>\n",
       "    </tr>\n",
       "    <tr>\n",
       "      <th>1679</th>\n",
       "      <td>VOLKSWAGEN</td>\n",
       "      <td>Passat</td>\n",
       "      <td>Variant 2.0 TDI Advance DSG (170cv) (L11)</td>\n",
       "      <td>1</td>\n",
       "    </tr>\n",
       "    <tr>\n",
       "      <th>1670</th>\n",
       "      <td>VOLKSWAGEN</td>\n",
       "      <td>Passat</td>\n",
       "      <td>2.0 TSI Exclusive DSG (200cv)</td>\n",
       "      <td>5</td>\n",
       "    </tr>\n",
       "    <tr>\n",
       "      <th>1658</th>\n",
       "      <td>VOLKSWAGEN</td>\n",
       "      <td>Passat</td>\n",
       "      <td>1.8 TSi Comfort DSG (160cv) (L11)</td>\n",
       "      <td>5</td>\n",
       "    </tr>\n",
       "    <tr>\n",
       "      <th>1675</th>\n",
       "      <td>VOLKSWAGEN</td>\n",
       "      <td>Passat</td>\n",
       "      <td>2.0 TSi Advance DSG (211cv) (L11)</td>\n",
       "      <td>5</td>\n",
       "    </tr>\n",
       "    <tr>\n",
       "      <th>1663</th>\n",
       "      <td>VOLKSWAGEN</td>\n",
       "      <td>Passat</td>\n",
       "      <td>2.0 MT Luxury</td>\n",
       "      <td>1</td>\n",
       "    </tr>\n",
       "    <tr>\n",
       "      <th>1669</th>\n",
       "      <td>VOLKSWAGEN</td>\n",
       "      <td>Passat</td>\n",
       "      <td>2.0 TSI DSG Elegance (211cv)</td>\n",
       "      <td>1</td>\n",
       "    </tr>\n",
       "    <tr>\n",
       "      <th>1676</th>\n",
       "      <td>VOLKSWAGEN</td>\n",
       "      <td>Passat</td>\n",
       "      <td>2.0 TSi Advance MT (211cv) (L11)</td>\n",
       "      <td>4</td>\n",
       "    </tr>\n",
       "    <tr>\n",
       "      <th>1671</th>\n",
       "      <td>VOLKSWAGEN</td>\n",
       "      <td>Passat</td>\n",
       "      <td>2.0 TSI Exclusive MT (200cv)</td>\n",
       "      <td>1</td>\n",
       "    </tr>\n",
       "    <tr>\n",
       "      <th>1673</th>\n",
       "      <td>VOLKSWAGEN</td>\n",
       "      <td>Passat</td>\n",
       "      <td>2.0 TSI Luxury MT (200cv)</td>\n",
       "      <td>1</td>\n",
       "    </tr>\n",
       "    <tr>\n",
       "      <th>1665</th>\n",
       "      <td>VOLKSWAGEN</td>\n",
       "      <td>Passat</td>\n",
       "      <td>2.0 TDI 4Motion Luxury (140cv)</td>\n",
       "      <td>4</td>\n",
       "    </tr>\n",
       "    <tr>\n",
       "      <th>1668</th>\n",
       "      <td>VOLKSWAGEN</td>\n",
       "      <td>Passat</td>\n",
       "      <td>2.0 TDI Luxury DSG (140cv)</td>\n",
       "      <td>4</td>\n",
       "    </tr>\n",
       "    <tr>\n",
       "      <th>1664</th>\n",
       "      <td>VOLKSWAGEN</td>\n",
       "      <td>Passat</td>\n",
       "      <td>2.0 TDI 4Motion Exclusive (140cv)</td>\n",
       "      <td>2</td>\n",
       "    </tr>\n",
       "    <tr>\n",
       "      <th>1660</th>\n",
       "      <td>VOLKSWAGEN</td>\n",
       "      <td>Passat</td>\n",
       "      <td>2.0 FSI Advance Tiptronic (150cv)</td>\n",
       "      <td>7</td>\n",
       "    </tr>\n",
       "    <tr>\n",
       "      <th>1672</th>\n",
       "      <td>VOLKSWAGEN</td>\n",
       "      <td>Passat</td>\n",
       "      <td>2.0 TSI Highline DSG (220cv) (L17)</td>\n",
       "      <td>3</td>\n",
       "    </tr>\n",
       "    <tr>\n",
       "      <th>1667</th>\n",
       "      <td>VOLKSWAGEN</td>\n",
       "      <td>Passat</td>\n",
       "      <td>2.0 TDI Exclusive DSG (140cv)</td>\n",
       "      <td>5</td>\n",
       "    </tr>\n",
       "    <tr>\n",
       "      <th>1680</th>\n",
       "      <td>VOLKSWAGEN</td>\n",
       "      <td>Passat</td>\n",
       "      <td>Variant 2.0 TSi Luxury DSG Techo (211cv) (L11)</td>\n",
       "      <td>15</td>\n",
       "    </tr>\n",
       "    <tr>\n",
       "      <th>1659</th>\n",
       "      <td>VOLKSWAGEN</td>\n",
       "      <td>Passat</td>\n",
       "      <td>1.8 TSi Comfort MT (160cv) (L11)</td>\n",
       "      <td>9</td>\n",
       "    </tr>\n",
       "    <tr>\n",
       "      <th>1661</th>\n",
       "      <td>VOLKSWAGEN</td>\n",
       "      <td>Passat</td>\n",
       "      <td>2.0 FSI Exclusive Tiptronic (150cv)</td>\n",
       "      <td>13</td>\n",
       "    </tr>\n",
       "    <tr>\n",
       "      <th>1677</th>\n",
       "      <td>VOLKSWAGEN</td>\n",
       "      <td>Passat</td>\n",
       "      <td>3.2 FSI V6 DSG Highline / Highline Wood</td>\n",
       "      <td>19</td>\n",
       "    </tr>\n",
       "    <tr>\n",
       "      <th>1666</th>\n",
       "      <td>VOLKSWAGEN</td>\n",
       "      <td>Passat</td>\n",
       "      <td>2.0 TDI Advance DSG (140cv)</td>\n",
       "      <td>12</td>\n",
       "    </tr>\n",
       "    <tr>\n",
       "      <th>1662</th>\n",
       "      <td>VOLKSWAGEN</td>\n",
       "      <td>Passat</td>\n",
       "      <td>2.0 FSI Luxury Tiptronic (150cv)</td>\n",
       "      <td>10</td>\n",
       "    </tr>\n",
       "    <tr>\n",
       "      <th>1684</th>\n",
       "      <td>VOLKSWAGEN</td>\n",
       "      <td>Polo</td>\n",
       "      <td>1.6 Comfortline Tiptronic (105cv) (L15) 4Ptas.</td>\n",
       "      <td>61</td>\n",
       "    </tr>\n",
       "    <tr>\n",
       "      <th>1692</th>\n",
       "      <td>VOLKSWAGEN</td>\n",
       "      <td>Polo</td>\n",
       "      <td>Country 1.9 SD Trendline</td>\n",
       "      <td>3</td>\n",
       "    </tr>\n",
       "    <tr>\n",
       "      <th>1691</th>\n",
       "      <td>VOLKSWAGEN</td>\n",
       "      <td>Polo</td>\n",
       "      <td>Country 1.9 SD Comfortline Plus 2ABG</td>\n",
       "      <td>3</td>\n",
       "    </tr>\n",
       "    <tr>\n",
       "      <th>1687</th>\n",
       "      <td>VOLKSWAGEN</td>\n",
       "      <td>Polo</td>\n",
       "      <td>1.6 MSi Trendline Tiptronic (110cv) (L18) 5Ptas.</td>\n",
       "      <td>73</td>\n",
       "    </tr>\n",
       "    <tr>\n",
       "      <th>1689</th>\n",
       "      <td>VOLKSWAGEN</td>\n",
       "      <td>Polo</td>\n",
       "      <td>1.9 TDI Highline</td>\n",
       "      <td>1</td>\n",
       "    </tr>\n",
       "    <tr>\n",
       "      <th>1688</th>\n",
       "      <td>VOLKSWAGEN</td>\n",
       "      <td>Polo</td>\n",
       "      <td>1.9 SD</td>\n",
       "      <td>1</td>\n",
       "    </tr>\n",
       "    <tr>\n",
       "      <th>1683</th>\n",
       "      <td>VOLKSWAGEN</td>\n",
       "      <td>Polo</td>\n",
       "      <td>1.6 3Ptas. Trendline / Pack I (101cv)</td>\n",
       "      <td>1</td>\n",
       "    </tr>\n",
       "    <tr>\n",
       "      <th>1686</th>\n",
       "      <td>VOLKSWAGEN</td>\n",
       "      <td>Polo</td>\n",
       "      <td>1.6 MSi Highline MT (110cv) (L18) 5Ptas.</td>\n",
       "      <td>49</td>\n",
       "    </tr>\n",
       "    <tr>\n",
       "      <th>1682</th>\n",
       "      <td>VOLKSWAGEN</td>\n",
       "      <td>Polo</td>\n",
       "      <td>1.4 TSi GTS Tiptronic (150cv)</td>\n",
       "      <td>8</td>\n",
       "    </tr>\n",
       "    <tr>\n",
       "      <th>1685</th>\n",
       "      <td>VOLKSWAGEN</td>\n",
       "      <td>Polo</td>\n",
       "      <td>1.6 MSi Comfortline Plus Tiptronic (110cv) (L1...</td>\n",
       "      <td>44</td>\n",
       "    </tr>\n",
       "    <tr>\n",
       "      <th>1690</th>\n",
       "      <td>VOLKSWAGEN</td>\n",
       "      <td>Polo</td>\n",
       "      <td>Classic 1.9 TDI Highline ABS AB TC</td>\n",
       "      <td>1</td>\n",
       "    </tr>\n",
       "    <tr>\n",
       "      <th>1699</th>\n",
       "      <td>VOLKSWAGEN</td>\n",
       "      <td>Saveiro</td>\n",
       "      <td>Cabina Extendida 1.6 N Pack High / Pack Elec. ...</td>\n",
       "      <td>9</td>\n",
       "    </tr>\n",
       "    <tr>\n",
       "      <th>1698</th>\n",
       "      <td>VOLKSWAGEN</td>\n",
       "      <td>Saveiro</td>\n",
       "      <td>Cabina Doble 1.6 Pack High (101cv) (L13)</td>\n",
       "      <td>46</td>\n",
       "    </tr>\n",
       "    <tr>\n",
       "      <th>1700</th>\n",
       "      <td>VOLKSWAGEN</td>\n",
       "      <td>Saveiro</td>\n",
       "      <td>Cabina Extendida 1.6 Safety Pack Elec.(101cv) ...</td>\n",
       "      <td>30</td>\n",
       "    </tr>\n",
       "    <tr>\n",
       "      <th>1695</th>\n",
       "      <td>VOLKSWAGEN</td>\n",
       "      <td>Saveiro</td>\n",
       "      <td>1.6 Mi AA</td>\n",
       "      <td>4</td>\n",
       "    </tr>\n",
       "    <tr>\n",
       "      <th>1697</th>\n",
       "      <td>VOLKSWAGEN</td>\n",
       "      <td>Saveiro</td>\n",
       "      <td>1.9 SD Limited</td>\n",
       "      <td>2</td>\n",
       "    </tr>\n",
       "    <tr>\n",
       "      <th>1696</th>\n",
       "      <td>VOLKSWAGEN</td>\n",
       "      <td>Saveiro</td>\n",
       "      <td>1.9 SD DH</td>\n",
       "      <td>1</td>\n",
       "    </tr>\n",
       "    <tr>\n",
       "      <th>1693</th>\n",
       "      <td>VOLKSWAGEN</td>\n",
       "      <td>Saveiro</td>\n",
       "      <td>1.6 MSI Cabina Doble Power (101cv) (L16)</td>\n",
       "      <td>13</td>\n",
       "    </tr>\n",
       "    <tr>\n",
       "      <th>1694</th>\n",
       "      <td>VOLKSWAGEN</td>\n",
       "      <td>Saveiro</td>\n",
       "      <td>1.6 Mi</td>\n",
       "      <td>2</td>\n",
       "    </tr>\n",
       "    <tr>\n",
       "      <th>1701</th>\n",
       "      <td>VOLKSWAGEN</td>\n",
       "      <td>Scirocco</td>\n",
       "      <td>1.4 TSI DSG (160cv)</td>\n",
       "      <td>25</td>\n",
       "    </tr>\n",
       "    <tr>\n",
       "      <th>1703</th>\n",
       "      <td>VOLKSWAGEN</td>\n",
       "      <td>Scirocco</td>\n",
       "      <td>2.0 TSI DSG GTS (211cv)</td>\n",
       "      <td>32</td>\n",
       "    </tr>\n",
       "    <tr>\n",
       "      <th>1704</th>\n",
       "      <td>VOLKSWAGEN</td>\n",
       "      <td>Scirocco</td>\n",
       "      <td>2.0 TSI MT (211cv)</td>\n",
       "      <td>5</td>\n",
       "    </tr>\n",
       "    <tr>\n",
       "      <th>1702</th>\n",
       "      <td>VOLKSWAGEN</td>\n",
       "      <td>Scirocco</td>\n",
       "      <td>1.4 TSI MT (160cv)</td>\n",
       "      <td>12</td>\n",
       "    </tr>\n",
       "    <tr>\n",
       "      <th>1709</th>\n",
       "      <td>VOLKSWAGEN</td>\n",
       "      <td>Sharan</td>\n",
       "      <td>2.0 TSi DSG Highline (200cv)</td>\n",
       "      <td>2</td>\n",
       "    </tr>\n",
       "    <tr>\n",
       "      <th>1706</th>\n",
       "      <td>VOLKSWAGEN</td>\n",
       "      <td>Sharan</td>\n",
       "      <td>1.8 T Trendline</td>\n",
       "      <td>14</td>\n",
       "    </tr>\n",
       "    <tr>\n",
       "      <th>1705</th>\n",
       "      <td>VOLKSWAGEN</td>\n",
       "      <td>Sharan</td>\n",
       "      <td>1.4 TSi 6MT Bluemotion Comfortline (150cv)</td>\n",
       "      <td>12</td>\n",
       "    </tr>\n",
       "    <tr>\n",
       "      <th>1707</th>\n",
       "      <td>VOLKSWAGEN</td>\n",
       "      <td>Sharan</td>\n",
       "      <td>1.9 TDI Highline</td>\n",
       "      <td>4</td>\n",
       "    </tr>\n",
       "    <tr>\n",
       "      <th>1708</th>\n",
       "      <td>VOLKSWAGEN</td>\n",
       "      <td>Sharan</td>\n",
       "      <td>1.9 TDI Highline Tiptronic Cuero 2Climat.</td>\n",
       "      <td>3</td>\n",
       "    </tr>\n",
       "    <tr>\n",
       "      <th>1727</th>\n",
       "      <td>VOLKSWAGEN</td>\n",
       "      <td>Suran</td>\n",
       "      <td>1.9 SDI Trendline</td>\n",
       "      <td>15</td>\n",
       "    </tr>\n",
       "    <tr>\n",
       "      <th>1724</th>\n",
       "      <td>VOLKSWAGEN</td>\n",
       "      <td>Suran</td>\n",
       "      <td>1.9 SDI Comfortline</td>\n",
       "      <td>124</td>\n",
       "    </tr>\n",
       "    <tr>\n",
       "      <th>1719</th>\n",
       "      <td>VOLKSWAGEN</td>\n",
       "      <td>Suran</td>\n",
       "      <td>1.6 MSI Highline I-Motion Navi Techo Cuero (L18)</td>\n",
       "      <td>6</td>\n",
       "    </tr>\n",
       "    <tr>\n",
       "      <th>1717</th>\n",
       "      <td>VOLKSWAGEN</td>\n",
       "      <td>Suran</td>\n",
       "      <td>1.6 MSI Highline (L18)</td>\n",
       "      <td>73</td>\n",
       "    </tr>\n",
       "    <tr>\n",
       "      <th>1720</th>\n",
       "      <td>VOLKSWAGEN</td>\n",
       "      <td>Suran</td>\n",
       "      <td>1.6 MSI Highline I-Motion Techo (L18)</td>\n",
       "      <td>48</td>\n",
       "    </tr>\n",
       "    <tr>\n",
       "      <th>1723</th>\n",
       "      <td>VOLKSWAGEN</td>\n",
       "      <td>Suran</td>\n",
       "      <td>1.6 Trendline I-Motion</td>\n",
       "      <td>26</td>\n",
       "    </tr>\n",
       "    <tr>\n",
       "      <th>1711</th>\n",
       "      <td>VOLKSWAGEN</td>\n",
       "      <td>Suran</td>\n",
       "      <td>1.6 Highline I-Motion Cuero</td>\n",
       "      <td>58</td>\n",
       "    </tr>\n",
       "    <tr>\n",
       "      <th>1718</th>\n",
       "      <td>VOLKSWAGEN</td>\n",
       "      <td>Suran</td>\n",
       "      <td>1.6 MSI Highline Cuero (L18)</td>\n",
       "      <td>15</td>\n",
       "    </tr>\n",
       "    <tr>\n",
       "      <th>1714</th>\n",
       "      <td>VOLKSWAGEN</td>\n",
       "      <td>Suran</td>\n",
       "      <td>1.6 MSI 5Ptas. Highline (101cv) (L17)</td>\n",
       "      <td>17</td>\n",
       "    </tr>\n",
       "    <tr>\n",
       "      <th>1716</th>\n",
       "      <td>VOLKSWAGEN</td>\n",
       "      <td>Suran</td>\n",
       "      <td>1.6 MSI Comfortline (L18)</td>\n",
       "      <td>167</td>\n",
       "    </tr>\n",
       "    <tr>\n",
       "      <th>1721</th>\n",
       "      <td>VOLKSWAGEN</td>\n",
       "      <td>Suran</td>\n",
       "      <td>1.6 MSI Trendline (L15)</td>\n",
       "      <td>121</td>\n",
       "    </tr>\n",
       "    <tr>\n",
       "      <th>1710</th>\n",
       "      <td>VOLKSWAGEN</td>\n",
       "      <td>Suran</td>\n",
       "      <td>1.6 Comfortline / Style (MY14 ABG ABS)</td>\n",
       "      <td>1</td>\n",
       "    </tr>\n",
       "    <tr>\n",
       "      <th>1722</th>\n",
       "      <td>VOLKSWAGEN</td>\n",
       "      <td>Suran</td>\n",
       "      <td>1.6 Trendline (MY14 ABG ABS)</td>\n",
       "      <td>1</td>\n",
       "    </tr>\n",
       "    <tr>\n",
       "      <th>1715</th>\n",
       "      <td>VOLKSWAGEN</td>\n",
       "      <td>Suran</td>\n",
       "      <td>1.6 MSI Cabina Doble Power (101cv) (L16)</td>\n",
       "      <td>1</td>\n",
       "    </tr>\n",
       "    <tr>\n",
       "      <th>1728</th>\n",
       "      <td>VOLKSWAGEN</td>\n",
       "      <td>Suran</td>\n",
       "      <td>Cross 1.6 Highline s/cuero (101cv) (MY14 ABG ABS)</td>\n",
       "      <td>94</td>\n",
       "    </tr>\n",
       "    <tr>\n",
       "      <th>1712</th>\n",
       "      <td>VOLKSWAGEN</td>\n",
       "      <td>Suran</td>\n",
       "      <td>1.6 Limited</td>\n",
       "      <td>7</td>\n",
       "    </tr>\n",
       "    <tr>\n",
       "      <th>1725</th>\n",
       "      <td>VOLKSWAGEN</td>\n",
       "      <td>Suran</td>\n",
       "      <td>1.9 SDI Highline</td>\n",
       "      <td>4</td>\n",
       "    </tr>\n",
       "    <tr>\n",
       "      <th>1713</th>\n",
       "      <td>VOLKSWAGEN</td>\n",
       "      <td>Suran</td>\n",
       "      <td>1.6 MSI 16V Highline 5Ptas. (110cv) (L15)</td>\n",
       "      <td>21</td>\n",
       "    </tr>\n",
       "    <tr>\n",
       "      <th>1726</th>\n",
       "      <td>VOLKSWAGEN</td>\n",
       "      <td>Suran</td>\n",
       "      <td>1.9 SDI Highline Cuero</td>\n",
       "      <td>2</td>\n",
       "    </tr>\n",
       "    <tr>\n",
       "      <th>1729</th>\n",
       "      <td>VOLKSWAGEN</td>\n",
       "      <td>Suran</td>\n",
       "      <td>Track 1.6 MSI (L18)</td>\n",
       "      <td>18</td>\n",
       "    </tr>\n",
       "    <tr>\n",
       "      <th>1731</th>\n",
       "      <td>VOLKSWAGEN</td>\n",
       "      <td>T-Cross</td>\n",
       "      <td>1.6 MSI Style Edition Tiptronic</td>\n",
       "      <td>1</td>\n",
       "    </tr>\n",
       "    <tr>\n",
       "      <th>1732</th>\n",
       "      <td>VOLKSWAGEN</td>\n",
       "      <td>T-Cross</td>\n",
       "      <td>200 TSI Highline Tiptronic</td>\n",
       "      <td>2</td>\n",
       "    </tr>\n",
       "    <tr>\n",
       "      <th>1730</th>\n",
       "      <td>VOLKSWAGEN</td>\n",
       "      <td>T-Cross</td>\n",
       "      <td>1.6 MSI Comfortline Tiptronic DISCONTINUO</td>\n",
       "      <td>26</td>\n",
       "    </tr>\n",
       "    <tr>\n",
       "      <th>1734</th>\n",
       "      <td>VOLKSWAGEN</td>\n",
       "      <td>Taos</td>\n",
       "      <td>Hero 250TSI Tiptronic (150cv)</td>\n",
       "      <td>1</td>\n",
       "    </tr>\n",
       "    <tr>\n",
       "      <th>1735</th>\n",
       "      <td>VOLKSWAGEN</td>\n",
       "      <td>Taos</td>\n",
       "      <td>Highline 250TSI Tiptronic (150cv)</td>\n",
       "      <td>2</td>\n",
       "    </tr>\n",
       "    <tr>\n",
       "      <th>1733</th>\n",
       "      <td>VOLKSWAGEN</td>\n",
       "      <td>Taos</td>\n",
       "      <td>Comfortline 250TSI Tiptronic (150cv)</td>\n",
       "      <td>6</td>\n",
       "    </tr>\n",
       "    <tr>\n",
       "      <th>1739</th>\n",
       "      <td>VOLKSWAGEN</td>\n",
       "      <td>The Beetle</td>\n",
       "      <td>2.0 TSI DSG GTS (211cv)</td>\n",
       "      <td>3</td>\n",
       "    </tr>\n",
       "    <tr>\n",
       "      <th>1738</th>\n",
       "      <td>VOLKSWAGEN</td>\n",
       "      <td>The Beetle</td>\n",
       "      <td>1.4 TSI Design MT (L17)</td>\n",
       "      <td>36</td>\n",
       "    </tr>\n",
       "    <tr>\n",
       "      <th>1736</th>\n",
       "      <td>VOLKSWAGEN</td>\n",
       "      <td>The Beetle</td>\n",
       "      <td>1.4 TSI DSG Comfortline (150cv)</td>\n",
       "      <td>3</td>\n",
       "    </tr>\n",
       "    <tr>\n",
       "      <th>1737</th>\n",
       "      <td>VOLKSWAGEN</td>\n",
       "      <td>The Beetle</td>\n",
       "      <td>1.4 TSI Design DSG (L17)</td>\n",
       "      <td>21</td>\n",
       "    </tr>\n",
       "    <tr>\n",
       "      <th>1740</th>\n",
       "      <td>VOLKSWAGEN</td>\n",
       "      <td>The Beetle</td>\n",
       "      <td>2.0 TSI Sport DSG (L17)</td>\n",
       "      <td>13</td>\n",
       "    </tr>\n",
       "    <tr>\n",
       "      <th>1746</th>\n",
       "      <td>VOLKSWAGEN</td>\n",
       "      <td>Tiguan</td>\n",
       "      <td>2.0 TSI Premium Tiptronic (L16)</td>\n",
       "      <td>21</td>\n",
       "    </tr>\n",
       "    <tr>\n",
       "      <th>1744</th>\n",
       "      <td>VOLKSWAGEN</td>\n",
       "      <td>Tiguan</td>\n",
       "      <td>2.0 TSI Exclusive MT (L11)</td>\n",
       "      <td>2</td>\n",
       "    </tr>\n",
       "    <tr>\n",
       "      <th>1742</th>\n",
       "      <td>VOLKSWAGEN</td>\n",
       "      <td>Tiguan</td>\n",
       "      <td>2.0 TDI Sport &amp; Style Tiptronic (L11)</td>\n",
       "      <td>1</td>\n",
       "    </tr>\n",
       "    <tr>\n",
       "      <th>1748</th>\n",
       "      <td>VOLKSWAGEN</td>\n",
       "      <td>Tiguan</td>\n",
       "      <td>2.0 TSI Sport &amp; Style Tiptronic (L16)</td>\n",
       "      <td>34</td>\n",
       "    </tr>\n",
       "    <tr>\n",
       "      <th>1741</th>\n",
       "      <td>VOLKSWAGEN</td>\n",
       "      <td>Tiguan</td>\n",
       "      <td>2.0 TDI Premium Tiptronic (L11)</td>\n",
       "      <td>1</td>\n",
       "    </tr>\n",
       "    <tr>\n",
       "      <th>1747</th>\n",
       "      <td>VOLKSWAGEN</td>\n",
       "      <td>Tiguan</td>\n",
       "      <td>2.0 TSI Sport &amp; Style MT (L11)</td>\n",
       "      <td>4</td>\n",
       "    </tr>\n",
       "    <tr>\n",
       "      <th>1743</th>\n",
       "      <td>VOLKSWAGEN</td>\n",
       "      <td>Tiguan</td>\n",
       "      <td>2.0 TSI Elegance (L11)</td>\n",
       "      <td>1</td>\n",
       "    </tr>\n",
       "    <tr>\n",
       "      <th>1745</th>\n",
       "      <td>VOLKSWAGEN</td>\n",
       "      <td>Tiguan</td>\n",
       "      <td>2.0 TSI Exclusive Tiptronic (L11)</td>\n",
       "      <td>14</td>\n",
       "    </tr>\n",
       "    <tr>\n",
       "      <th>1751</th>\n",
       "      <td>VOLKSWAGEN</td>\n",
       "      <td>Tiguan Allspace</td>\n",
       "      <td>2.0 TSi Highline DSG 4Motion (220cv)</td>\n",
       "      <td>7</td>\n",
       "    </tr>\n",
       "    <tr>\n",
       "      <th>1749</th>\n",
       "      <td>VOLKSWAGEN</td>\n",
       "      <td>Tiguan Allspace</td>\n",
       "      <td>1.4 TSi Trendline DSG (150cv)</td>\n",
       "      <td>54</td>\n",
       "    </tr>\n",
       "    <tr>\n",
       "      <th>1750</th>\n",
       "      <td>VOLKSWAGEN</td>\n",
       "      <td>Tiguan Allspace</td>\n",
       "      <td>2.0 TSi Comfortline DSG 4Motion Techo Panor. (...</td>\n",
       "      <td>7</td>\n",
       "    </tr>\n",
       "    <tr>\n",
       "      <th>1752</th>\n",
       "      <td>VOLKSWAGEN</td>\n",
       "      <td>Touareg</td>\n",
       "      <td>3.0 TDI V6 Elegance (204cv) (L11)</td>\n",
       "      <td>1</td>\n",
       "    </tr>\n",
       "    <tr>\n",
       "      <th>1757</th>\n",
       "      <td>VOLKSWAGEN</td>\n",
       "      <td>Touareg</td>\n",
       "      <td>3.6 V6 Premium (280cv)</td>\n",
       "      <td>3</td>\n",
       "    </tr>\n",
       "    <tr>\n",
       "      <th>1755</th>\n",
       "      <td>VOLKSWAGEN</td>\n",
       "      <td>Touareg</td>\n",
       "      <td>3.6 FSI V6 Elegance (280cv) (L11)</td>\n",
       "      <td>3</td>\n",
       "    </tr>\n",
       "    <tr>\n",
       "      <th>1753</th>\n",
       "      <td>VOLKSWAGEN</td>\n",
       "      <td>Touareg</td>\n",
       "      <td>3.0 TDI V6 Premium Tiptronic (245cv) (L16)</td>\n",
       "      <td>2</td>\n",
       "    </tr>\n",
       "    <tr>\n",
       "      <th>1754</th>\n",
       "      <td>VOLKSWAGEN</td>\n",
       "      <td>Touareg</td>\n",
       "      <td>3.2 V6</td>\n",
       "      <td>4</td>\n",
       "    </tr>\n",
       "    <tr>\n",
       "      <th>1756</th>\n",
       "      <td>VOLKSWAGEN</td>\n",
       "      <td>Touareg</td>\n",
       "      <td>3.6 FSI V6 Style (280cv) (L11)</td>\n",
       "      <td>2</td>\n",
       "    </tr>\n",
       "    <tr>\n",
       "      <th>1758</th>\n",
       "      <td>VOLKSWAGEN</td>\n",
       "      <td>Touareg</td>\n",
       "      <td>4.2 FSI V8 Premium Tiptronic (360cv) (L16)</td>\n",
       "      <td>10</td>\n",
       "    </tr>\n",
       "    <tr>\n",
       "      <th>1759</th>\n",
       "      <td>VOLKSWAGEN</td>\n",
       "      <td>Transporter</td>\n",
       "      <td>1.9 TDI (105cv)</td>\n",
       "      <td>1</td>\n",
       "    </tr>\n",
       "    <tr>\n",
       "      <th>1764</th>\n",
       "      <td>VOLKSWAGEN</td>\n",
       "      <td>Up</td>\n",
       "      <td>1.0 Take Up! AA (75cv) 3Ptas.</td>\n",
       "      <td>9</td>\n",
       "    </tr>\n",
       "    <tr>\n",
       "      <th>1762</th>\n",
       "      <td>VOLKSWAGEN</td>\n",
       "      <td>Up</td>\n",
       "      <td>1.0 Move Up! (75cv) 3Ptas.</td>\n",
       "      <td>25</td>\n",
       "    </tr>\n",
       "    <tr>\n",
       "      <th>1760</th>\n",
       "      <td>VOLKSWAGEN</td>\n",
       "      <td>Up</td>\n",
       "      <td>1.0 High Up! (75cv) 3Ptas.</td>\n",
       "      <td>32</td>\n",
       "    </tr>\n",
       "    <tr>\n",
       "      <th>1765</th>\n",
       "      <td>VOLKSWAGEN</td>\n",
       "      <td>Up</td>\n",
       "      <td>1.0 White Up! (75cv) 5Ptas.</td>\n",
       "      <td>9</td>\n",
       "    </tr>\n",
       "    <tr>\n",
       "      <th>1766</th>\n",
       "      <td>VOLKSWAGEN</td>\n",
       "      <td>Up</td>\n",
       "      <td>CROSS 1.0 (75cv) 5Ptas.</td>\n",
       "      <td>12</td>\n",
       "    </tr>\n",
       "    <tr>\n",
       "      <th>1763</th>\n",
       "      <td>VOLKSWAGEN</td>\n",
       "      <td>Up</td>\n",
       "      <td>1.0 Move Up! I-Motion (75cv) 5Ptas.</td>\n",
       "      <td>1</td>\n",
       "    </tr>\n",
       "    <tr>\n",
       "      <th>1761</th>\n",
       "      <td>VOLKSWAGEN</td>\n",
       "      <td>Up</td>\n",
       "      <td>1.0 High Up! I-Motion (75cv) 5Ptas.</td>\n",
       "      <td>5</td>\n",
       "    </tr>\n",
       "    <tr>\n",
       "      <th>1767</th>\n",
       "      <td>VOLKSWAGEN</td>\n",
       "      <td>Vento</td>\n",
       "      <td>1.4 TSI AT Comfortline (150cv) (L19)</td>\n",
       "      <td>32</td>\n",
       "    </tr>\n",
       "    <tr>\n",
       "      <th>1784</th>\n",
       "      <td>VOLKSWAGEN</td>\n",
       "      <td>Vento</td>\n",
       "      <td>2.0 TSi GLI MT NAV (211cv) (L16)</td>\n",
       "      <td>35</td>\n",
       "    </tr>\n",
       "    <tr>\n",
       "      <th>1777</th>\n",
       "      <td>VOLKSWAGEN</td>\n",
       "      <td>Vento</td>\n",
       "      <td>2.0 TDI Elegance DSG (140cv)</td>\n",
       "      <td>28</td>\n",
       "    </tr>\n",
       "    <tr>\n",
       "      <th>1779</th>\n",
       "      <td>VOLKSWAGEN</td>\n",
       "      <td>Vento</td>\n",
       "      <td>2.0 TDI Luxury DSG (140cv) (L11)</td>\n",
       "      <td>1</td>\n",
       "    </tr>\n",
       "    <tr>\n",
       "      <th>1769</th>\n",
       "      <td>VOLKSWAGEN</td>\n",
       "      <td>Vento</td>\n",
       "      <td>1.4 TSI DSG Highline (150cv)</td>\n",
       "      <td>1</td>\n",
       "    </tr>\n",
       "    <tr>\n",
       "      <th>1776</th>\n",
       "      <td>VOLKSWAGEN</td>\n",
       "      <td>Vento</td>\n",
       "      <td>2.0 TDI Advance MT (110cv) (L11)</td>\n",
       "      <td>32</td>\n",
       "    </tr>\n",
       "    <tr>\n",
       "      <th>1789</th>\n",
       "      <td>VOLKSWAGEN</td>\n",
       "      <td>Vento</td>\n",
       "      <td>2.5 R5 Luxury MT (170cv) (L11)</td>\n",
       "      <td>165</td>\n",
       "    </tr>\n",
       "    <tr>\n",
       "      <th>1785</th>\n",
       "      <td>VOLKSWAGEN</td>\n",
       "      <td>Vento</td>\n",
       "      <td>2.0 TSi Sportline DSG (211cv) (L11)</td>\n",
       "      <td>1</td>\n",
       "    </tr>\n",
       "    <tr>\n",
       "      <th>1771</th>\n",
       "      <td>VOLKSWAGEN</td>\n",
       "      <td>Vento</td>\n",
       "      <td>1.4 TSI MT Highline (150cv)</td>\n",
       "      <td>8</td>\n",
       "    </tr>\n",
       "    <tr>\n",
       "      <th>1780</th>\n",
       "      <td>VOLKSWAGEN</td>\n",
       "      <td>Vento</td>\n",
       "      <td>2.0 TDI Sportline DSG (140cv)</td>\n",
       "      <td>9</td>\n",
       "    </tr>\n",
       "    <tr>\n",
       "      <th>1786</th>\n",
       "      <td>VOLKSWAGEN</td>\n",
       "      <td>Vento</td>\n",
       "      <td>2.0 TSi Sportline MT (211cv) (L11)</td>\n",
       "      <td>8</td>\n",
       "    </tr>\n",
       "    <tr>\n",
       "      <th>1781</th>\n",
       "      <td>VOLKSWAGEN</td>\n",
       "      <td>Vento</td>\n",
       "      <td>2.0 TFSI Sportline DSG (200cv)</td>\n",
       "      <td>77</td>\n",
       "    </tr>\n",
       "    <tr>\n",
       "      <th>1787</th>\n",
       "      <td>VOLKSWAGEN</td>\n",
       "      <td>Vento</td>\n",
       "      <td>2.5 R5 Advance Plus MT (170cv)</td>\n",
       "      <td>93</td>\n",
       "    </tr>\n",
       "    <tr>\n",
       "      <th>1792</th>\n",
       "      <td>VOLKSWAGEN</td>\n",
       "      <td>Vento</td>\n",
       "      <td>2.5 R5 Luxury Wood Tiptronic (170cv)</td>\n",
       "      <td>10</td>\n",
       "    </tr>\n",
       "    <tr>\n",
       "      <th>1774</th>\n",
       "      <td>VOLKSWAGEN</td>\n",
       "      <td>Vento</td>\n",
       "      <td>2.0 Advance MT 8v. (115cv) (L11)</td>\n",
       "      <td>13</td>\n",
       "    </tr>\n",
       "    <tr>\n",
       "      <th>1791</th>\n",
       "      <td>VOLKSWAGEN</td>\n",
       "      <td>Vento</td>\n",
       "      <td>2.5 R5 Luxury Wood Tiptronic (150cv)</td>\n",
       "      <td>13</td>\n",
       "    </tr>\n",
       "    <tr>\n",
       "      <th>1773</th>\n",
       "      <td>VOLKSWAGEN</td>\n",
       "      <td>Vento</td>\n",
       "      <td>1.9 TDI Luxury Wood DSG / Tiptronic (105cv)</td>\n",
       "      <td>25</td>\n",
       "    </tr>\n",
       "    <tr>\n",
       "      <th>1768</th>\n",
       "      <td>VOLKSWAGEN</td>\n",
       "      <td>Vento</td>\n",
       "      <td>1.4 TSI AT Highline (150cv) (L19)</td>\n",
       "      <td>62</td>\n",
       "    </tr>\n",
       "    <tr>\n",
       "      <th>1790</th>\n",
       "      <td>VOLKSWAGEN</td>\n",
       "      <td>Vento</td>\n",
       "      <td>2.5 R5 Luxury Wood MT (170cv)</td>\n",
       "      <td>4</td>\n",
       "    </tr>\n",
       "    <tr>\n",
       "      <th>1770</th>\n",
       "      <td>VOLKSWAGEN</td>\n",
       "      <td>Vento</td>\n",
       "      <td>1.4 TSI MT Comfortline (150cv)</td>\n",
       "      <td>18</td>\n",
       "    </tr>\n",
       "    <tr>\n",
       "      <th>1793</th>\n",
       "      <td>VOLKSWAGEN</td>\n",
       "      <td>Vento</td>\n",
       "      <td>Variant 2.0 TDI Confort MT (110cv) (L11)</td>\n",
       "      <td>1</td>\n",
       "    </tr>\n",
       "    <tr>\n",
       "      <th>1775</th>\n",
       "      <td>VOLKSWAGEN</td>\n",
       "      <td>Vento</td>\n",
       "      <td>2.0 Advance MT Summer Pack (115cv) (L11)</td>\n",
       "      <td>20</td>\n",
       "    </tr>\n",
       "    <tr>\n",
       "      <th>1772</th>\n",
       "      <td>VOLKSWAGEN</td>\n",
       "      <td>Vento</td>\n",
       "      <td>1.9 TDI Advance DSG / Tiptronic (105cv)</td>\n",
       "      <td>23</td>\n",
       "    </tr>\n",
       "    <tr>\n",
       "      <th>1783</th>\n",
       "      <td>VOLKSWAGEN</td>\n",
       "      <td>Vento</td>\n",
       "      <td>2.0 TSi GLI MT (211cv) (L16)</td>\n",
       "      <td>2</td>\n",
       "    </tr>\n",
       "    <tr>\n",
       "      <th>1782</th>\n",
       "      <td>VOLKSWAGEN</td>\n",
       "      <td>Vento</td>\n",
       "      <td>2.0 TSi GLI DSG (211cv) (L16)</td>\n",
       "      <td>2</td>\n",
       "    </tr>\n",
       "    <tr>\n",
       "      <th>1778</th>\n",
       "      <td>VOLKSWAGEN</td>\n",
       "      <td>Vento</td>\n",
       "      <td>2.0 TDI Elegance MT (140cv)</td>\n",
       "      <td>2</td>\n",
       "    </tr>\n",
       "    <tr>\n",
       "      <th>1788</th>\n",
       "      <td>VOLKSWAGEN</td>\n",
       "      <td>Vento</td>\n",
       "      <td>2.5 R5 Advance Plus Tiptronic (170cv)</td>\n",
       "      <td>49</td>\n",
       "    </tr>\n",
       "    <tr>\n",
       "      <th>1796</th>\n",
       "      <td>VOLKSWAGEN</td>\n",
       "      <td>Virtus</td>\n",
       "      <td>1.6 Highline Tiptronic (110cv)</td>\n",
       "      <td>18</td>\n",
       "    </tr>\n",
       "    <tr>\n",
       "      <th>1794</th>\n",
       "      <td>VOLKSWAGEN</td>\n",
       "      <td>Virtus</td>\n",
       "      <td>1.4 TSi GTS Tiptronic (150cv)</td>\n",
       "      <td>4</td>\n",
       "    </tr>\n",
       "    <tr>\n",
       "      <th>1797</th>\n",
       "      <td>VOLKSWAGEN</td>\n",
       "      <td>Virtus</td>\n",
       "      <td>1.6 Trendline MT (110cv)</td>\n",
       "      <td>43</td>\n",
       "    </tr>\n",
       "    <tr>\n",
       "      <th>1795</th>\n",
       "      <td>VOLKSWAGEN</td>\n",
       "      <td>Virtus</td>\n",
       "      <td>1.6 Comfortline Tiptronic (110cv)</td>\n",
       "      <td>21</td>\n",
       "    </tr>\n",
       "    <tr>\n",
       "      <th>1804</th>\n",
       "      <td>VOLKSWAGEN</td>\n",
       "      <td>Voyage</td>\n",
       "      <td>1.6 MSI Trendline (101cv) (L20) DISCONTINUO</td>\n",
       "      <td>15</td>\n",
       "    </tr>\n",
       "    <tr>\n",
       "      <th>1802</th>\n",
       "      <td>VOLKSWAGEN</td>\n",
       "      <td>Voyage</td>\n",
       "      <td>1.6 Highline (101cv) (MY14 ABG ABS)</td>\n",
       "      <td>47</td>\n",
       "    </tr>\n",
       "    <tr>\n",
       "      <th>1798</th>\n",
       "      <td>VOLKSWAGEN</td>\n",
       "      <td>Voyage</td>\n",
       "      <td>1.6 Advance (101cv) (L08)</td>\n",
       "      <td>5</td>\n",
       "    </tr>\n",
       "    <tr>\n",
       "      <th>1800</th>\n",
       "      <td>VOLKSWAGEN</td>\n",
       "      <td>Voyage</td>\n",
       "      <td>1.6 Comfortline Plus I-Motion ABG ABS LL (101cv)</td>\n",
       "      <td>5</td>\n",
       "    </tr>\n",
       "    <tr>\n",
       "      <th>1803</th>\n",
       "      <td>VOLKSWAGEN</td>\n",
       "      <td>Voyage</td>\n",
       "      <td>1.6 Highline I-Motion (101cv)</td>\n",
       "      <td>4</td>\n",
       "    </tr>\n",
       "    <tr>\n",
       "      <th>1805</th>\n",
       "      <td>VOLKSWAGEN</td>\n",
       "      <td>Voyage</td>\n",
       "      <td>1.6 Trendline / Comfortline (101cv) (MY14 ABG ...</td>\n",
       "      <td>97</td>\n",
       "    </tr>\n",
       "    <tr>\n",
       "      <th>1801</th>\n",
       "      <td>VOLKSWAGEN</td>\n",
       "      <td>Voyage</td>\n",
       "      <td>1.6 Conceptline (101cv) (L08)</td>\n",
       "      <td>2</td>\n",
       "    </tr>\n",
       "    <tr>\n",
       "      <th>1799</th>\n",
       "      <td>VOLKSWAGEN</td>\n",
       "      <td>Voyage</td>\n",
       "      <td>1.6 Comfortline Plus (101cv)</td>\n",
       "      <td>45</td>\n",
       "    </tr>\n",
       "  </tbody>\n",
       "</table>\n",
       "</div>"
      ],
      "text/plain": [
       "           marca           modelo  \\\n",
       "1541  VOLKSWAGEN           Amarok   \n",
       "1539  VOLKSWAGEN           Amarok   \n",
       "1556  VOLKSWAGEN           Amarok   \n",
       "1565  VOLKSWAGEN           Amarok   \n",
       "1538  VOLKSWAGEN           Amarok   \n",
       "1563  VOLKSWAGEN           Amarok   \n",
       "1548  VOLKSWAGEN           Amarok   \n",
       "1558  VOLKSWAGEN           Amarok   \n",
       "1551  VOLKSWAGEN           Amarok   \n",
       "1560  VOLKSWAGEN           Amarok   \n",
       "1554  VOLKSWAGEN           Amarok   \n",
       "1549  VOLKSWAGEN           Amarok   \n",
       "1552  VOLKSWAGEN           Amarok   \n",
       "1544  VOLKSWAGEN           Amarok   \n",
       "1546  VOLKSWAGEN           Amarok   \n",
       "1543  VOLKSWAGEN           Amarok   \n",
       "1547  VOLKSWAGEN           Amarok   \n",
       "1567  VOLKSWAGEN           Amarok   \n",
       "1559  VOLKSWAGEN           Amarok   \n",
       "1545  VOLKSWAGEN           Amarok   \n",
       "1550  VOLKSWAGEN           Amarok   \n",
       "1566  VOLKSWAGEN           Amarok   \n",
       "1562  VOLKSWAGEN           Amarok   \n",
       "1542  VOLKSWAGEN           Amarok   \n",
       "1561  VOLKSWAGEN           Amarok   \n",
       "1553  VOLKSWAGEN           Amarok   \n",
       "1557  VOLKSWAGEN           Amarok   \n",
       "1540  VOLKSWAGEN           Amarok   \n",
       "1564  VOLKSWAGEN           Amarok   \n",
       "1555  VOLKSWAGEN           Amarok   \n",
       "1571  VOLKSWAGEN             Bora   \n",
       "1573  VOLKSWAGEN             Bora   \n",
       "1570  VOLKSWAGEN             Bora   \n",
       "1569  VOLKSWAGEN             Bora   \n",
       "1572  VOLKSWAGEN             Bora   \n",
       "1568  VOLKSWAGEN             Bora   \n",
       "1580  VOLKSWAGEN               CC   \n",
       "1576  VOLKSWAGEN               CC   \n",
       "1575  VOLKSWAGEN               CC   \n",
       "1574  VOLKSWAGEN               CC   \n",
       "1577  VOLKSWAGEN               CC   \n",
       "1579  VOLKSWAGEN               CC   \n",
       "1578  VOLKSWAGEN               CC   \n",
       "1582  VOLKSWAGEN            Caddy   \n",
       "1581  VOLKSWAGEN            Caddy   \n",
       "1585  VOLKSWAGEN         CrossFox   \n",
       "1583  VOLKSWAGEN         CrossFox   \n",
       "1586  VOLKSWAGEN         CrossFox   \n",
       "1587  VOLKSWAGEN         CrossFox   \n",
       "1584  VOLKSWAGEN         CrossFox   \n",
       "1590  VOLKSWAGEN              Fox   \n",
       "1594  VOLKSWAGEN              Fox   \n",
       "1591  VOLKSWAGEN              Fox   \n",
       "1593  VOLKSWAGEN              Fox   \n",
       "1596  VOLKSWAGEN              Fox   \n",
       "1598  VOLKSWAGEN              Fox   \n",
       "1597  VOLKSWAGEN              Fox   \n",
       "1599  VOLKSWAGEN              Fox   \n",
       "1589  VOLKSWAGEN              Fox   \n",
       "1600  VOLKSWAGEN              Fox   \n",
       "1595  VOLKSWAGEN              Fox   \n",
       "1601  VOLKSWAGEN              Fox   \n",
       "1588  VOLKSWAGEN              Fox   \n",
       "1592  VOLKSWAGEN              Fox   \n",
       "1608  VOLKSWAGEN              Gol   \n",
       "1602  VOLKSWAGEN              Gol   \n",
       "1615  VOLKSWAGEN              Gol   \n",
       "1604  VOLKSWAGEN              Gol   \n",
       "1612  VOLKSWAGEN              Gol   \n",
       "1619  VOLKSWAGEN              Gol   \n",
       "1609  VOLKSWAGEN              Gol   \n",
       "1616  VOLKSWAGEN              Gol   \n",
       "1617  VOLKSWAGEN              Gol   \n",
       "1603  VOLKSWAGEN              Gol   \n",
       "1606  VOLKSWAGEN              Gol   \n",
       "1614  VOLKSWAGEN              Gol   \n",
       "1611  VOLKSWAGEN              Gol   \n",
       "1618  VOLKSWAGEN              Gol   \n",
       "1613  VOLKSWAGEN              Gol   \n",
       "1610  VOLKSWAGEN              Gol   \n",
       "1605  VOLKSWAGEN              Gol   \n",
       "1607  VOLKSWAGEN              Gol   \n",
       "1628  VOLKSWAGEN        Gol Trend   \n",
       "1621  VOLKSWAGEN        Gol Trend   \n",
       "1629  VOLKSWAGEN        Gol Trend   \n",
       "1620  VOLKSWAGEN        Gol Trend   \n",
       "1624  VOLKSWAGEN        Gol Trend   \n",
       "1626  VOLKSWAGEN        Gol Trend   \n",
       "1632  VOLKSWAGEN        Gol Trend   \n",
       "1631  VOLKSWAGEN        Gol Trend   \n",
       "1625  VOLKSWAGEN        Gol Trend   \n",
       "1623  VOLKSWAGEN        Gol Trend   \n",
       "1627  VOLKSWAGEN        Gol Trend   \n",
       "1622  VOLKSWAGEN        Gol Trend   \n",
       "1630  VOLKSWAGEN        Gol Trend   \n",
       "1647  VOLKSWAGEN             Golf   \n",
       "1642  VOLKSWAGEN             Golf   \n",
       "1639  VOLKSWAGEN             Golf   \n",
       "1649  VOLKSWAGEN             Golf   \n",
       "1633  VOLKSWAGEN             Golf   \n",
       "1648  VOLKSWAGEN             Golf   \n",
       "1638  VOLKSWAGEN             Golf   \n",
       "1643  VOLKSWAGEN             Golf   \n",
       "1651  VOLKSWAGEN             Golf   \n",
       "1645  VOLKSWAGEN             Golf   \n",
       "1640  VOLKSWAGEN             Golf   \n",
       "1652  VOLKSWAGEN             Golf   \n",
       "1650  VOLKSWAGEN             Golf   \n",
       "1644  VOLKSWAGEN             Golf   \n",
       "1635  VOLKSWAGEN             Golf   \n",
       "1646  VOLKSWAGEN             Golf   \n",
       "1634  VOLKSWAGEN             Golf   \n",
       "1641  VOLKSWAGEN             Golf   \n",
       "1637  VOLKSWAGEN             Golf   \n",
       "1636  VOLKSWAGEN             Golf   \n",
       "1653  VOLKSWAGEN       New Beetle   \n",
       "1655  VOLKSWAGEN       New Beetle   \n",
       "1654  VOLKSWAGEN       New Beetle   \n",
       "1656  VOLKSWAGEN            Nivus   \n",
       "1657  VOLKSWAGEN            Nivus   \n",
       "1674  VOLKSWAGEN           Passat   \n",
       "1678  VOLKSWAGEN           Passat   \n",
       "1681  VOLKSWAGEN           Passat   \n",
       "1679  VOLKSWAGEN           Passat   \n",
       "1670  VOLKSWAGEN           Passat   \n",
       "1658  VOLKSWAGEN           Passat   \n",
       "1675  VOLKSWAGEN           Passat   \n",
       "1663  VOLKSWAGEN           Passat   \n",
       "1669  VOLKSWAGEN           Passat   \n",
       "1676  VOLKSWAGEN           Passat   \n",
       "1671  VOLKSWAGEN           Passat   \n",
       "1673  VOLKSWAGEN           Passat   \n",
       "1665  VOLKSWAGEN           Passat   \n",
       "1668  VOLKSWAGEN           Passat   \n",
       "1664  VOLKSWAGEN           Passat   \n",
       "1660  VOLKSWAGEN           Passat   \n",
       "1672  VOLKSWAGEN           Passat   \n",
       "1667  VOLKSWAGEN           Passat   \n",
       "1680  VOLKSWAGEN           Passat   \n",
       "1659  VOLKSWAGEN           Passat   \n",
       "1661  VOLKSWAGEN           Passat   \n",
       "1677  VOLKSWAGEN           Passat   \n",
       "1666  VOLKSWAGEN           Passat   \n",
       "1662  VOLKSWAGEN           Passat   \n",
       "1684  VOLKSWAGEN             Polo   \n",
       "1692  VOLKSWAGEN             Polo   \n",
       "1691  VOLKSWAGEN             Polo   \n",
       "1687  VOLKSWAGEN             Polo   \n",
       "1689  VOLKSWAGEN             Polo   \n",
       "1688  VOLKSWAGEN             Polo   \n",
       "1683  VOLKSWAGEN             Polo   \n",
       "1686  VOLKSWAGEN             Polo   \n",
       "1682  VOLKSWAGEN             Polo   \n",
       "1685  VOLKSWAGEN             Polo   \n",
       "1690  VOLKSWAGEN             Polo   \n",
       "1699  VOLKSWAGEN          Saveiro   \n",
       "1698  VOLKSWAGEN          Saveiro   \n",
       "1700  VOLKSWAGEN          Saveiro   \n",
       "1695  VOLKSWAGEN          Saveiro   \n",
       "1697  VOLKSWAGEN          Saveiro   \n",
       "1696  VOLKSWAGEN          Saveiro   \n",
       "1693  VOLKSWAGEN          Saveiro   \n",
       "1694  VOLKSWAGEN          Saveiro   \n",
       "1701  VOLKSWAGEN         Scirocco   \n",
       "1703  VOLKSWAGEN         Scirocco   \n",
       "1704  VOLKSWAGEN         Scirocco   \n",
       "1702  VOLKSWAGEN         Scirocco   \n",
       "1709  VOLKSWAGEN           Sharan   \n",
       "1706  VOLKSWAGEN           Sharan   \n",
       "1705  VOLKSWAGEN           Sharan   \n",
       "1707  VOLKSWAGEN           Sharan   \n",
       "1708  VOLKSWAGEN           Sharan   \n",
       "1727  VOLKSWAGEN            Suran   \n",
       "1724  VOLKSWAGEN            Suran   \n",
       "1719  VOLKSWAGEN            Suran   \n",
       "1717  VOLKSWAGEN            Suran   \n",
       "1720  VOLKSWAGEN            Suran   \n",
       "1723  VOLKSWAGEN            Suran   \n",
       "1711  VOLKSWAGEN            Suran   \n",
       "1718  VOLKSWAGEN            Suran   \n",
       "1714  VOLKSWAGEN            Suran   \n",
       "1716  VOLKSWAGEN            Suran   \n",
       "1721  VOLKSWAGEN            Suran   \n",
       "1710  VOLKSWAGEN            Suran   \n",
       "1722  VOLKSWAGEN            Suran   \n",
       "1715  VOLKSWAGEN            Suran   \n",
       "1728  VOLKSWAGEN            Suran   \n",
       "1712  VOLKSWAGEN            Suran   \n",
       "1725  VOLKSWAGEN            Suran   \n",
       "1713  VOLKSWAGEN            Suran   \n",
       "1726  VOLKSWAGEN            Suran   \n",
       "1729  VOLKSWAGEN            Suran   \n",
       "1731  VOLKSWAGEN          T-Cross   \n",
       "1732  VOLKSWAGEN          T-Cross   \n",
       "1730  VOLKSWAGEN          T-Cross   \n",
       "1734  VOLKSWAGEN             Taos   \n",
       "1735  VOLKSWAGEN             Taos   \n",
       "1733  VOLKSWAGEN             Taos   \n",
       "1739  VOLKSWAGEN       The Beetle   \n",
       "1738  VOLKSWAGEN       The Beetle   \n",
       "1736  VOLKSWAGEN       The Beetle   \n",
       "1737  VOLKSWAGEN       The Beetle   \n",
       "1740  VOLKSWAGEN       The Beetle   \n",
       "1746  VOLKSWAGEN           Tiguan   \n",
       "1744  VOLKSWAGEN           Tiguan   \n",
       "1742  VOLKSWAGEN           Tiguan   \n",
       "1748  VOLKSWAGEN           Tiguan   \n",
       "1741  VOLKSWAGEN           Tiguan   \n",
       "1747  VOLKSWAGEN           Tiguan   \n",
       "1743  VOLKSWAGEN           Tiguan   \n",
       "1745  VOLKSWAGEN           Tiguan   \n",
       "1751  VOLKSWAGEN  Tiguan Allspace   \n",
       "1749  VOLKSWAGEN  Tiguan Allspace   \n",
       "1750  VOLKSWAGEN  Tiguan Allspace   \n",
       "1752  VOLKSWAGEN          Touareg   \n",
       "1757  VOLKSWAGEN          Touareg   \n",
       "1755  VOLKSWAGEN          Touareg   \n",
       "1753  VOLKSWAGEN          Touareg   \n",
       "1754  VOLKSWAGEN          Touareg   \n",
       "1756  VOLKSWAGEN          Touareg   \n",
       "1758  VOLKSWAGEN          Touareg   \n",
       "1759  VOLKSWAGEN      Transporter   \n",
       "1764  VOLKSWAGEN               Up   \n",
       "1762  VOLKSWAGEN               Up   \n",
       "1760  VOLKSWAGEN               Up   \n",
       "1765  VOLKSWAGEN               Up   \n",
       "1766  VOLKSWAGEN               Up   \n",
       "1763  VOLKSWAGEN               Up   \n",
       "1761  VOLKSWAGEN               Up   \n",
       "1767  VOLKSWAGEN            Vento   \n",
       "1784  VOLKSWAGEN            Vento   \n",
       "1777  VOLKSWAGEN            Vento   \n",
       "1779  VOLKSWAGEN            Vento   \n",
       "1769  VOLKSWAGEN            Vento   \n",
       "1776  VOLKSWAGEN            Vento   \n",
       "1789  VOLKSWAGEN            Vento   \n",
       "1785  VOLKSWAGEN            Vento   \n",
       "1771  VOLKSWAGEN            Vento   \n",
       "1780  VOLKSWAGEN            Vento   \n",
       "1786  VOLKSWAGEN            Vento   \n",
       "1781  VOLKSWAGEN            Vento   \n",
       "1787  VOLKSWAGEN            Vento   \n",
       "1792  VOLKSWAGEN            Vento   \n",
       "1774  VOLKSWAGEN            Vento   \n",
       "1791  VOLKSWAGEN            Vento   \n",
       "1773  VOLKSWAGEN            Vento   \n",
       "1768  VOLKSWAGEN            Vento   \n",
       "1790  VOLKSWAGEN            Vento   \n",
       "1770  VOLKSWAGEN            Vento   \n",
       "1793  VOLKSWAGEN            Vento   \n",
       "1775  VOLKSWAGEN            Vento   \n",
       "1772  VOLKSWAGEN            Vento   \n",
       "1783  VOLKSWAGEN            Vento   \n",
       "1782  VOLKSWAGEN            Vento   \n",
       "1778  VOLKSWAGEN            Vento   \n",
       "1788  VOLKSWAGEN            Vento   \n",
       "1796  VOLKSWAGEN           Virtus   \n",
       "1794  VOLKSWAGEN           Virtus   \n",
       "1797  VOLKSWAGEN           Virtus   \n",
       "1795  VOLKSWAGEN           Virtus   \n",
       "1804  VOLKSWAGEN           Voyage   \n",
       "1802  VOLKSWAGEN           Voyage   \n",
       "1798  VOLKSWAGEN           Voyage   \n",
       "1800  VOLKSWAGEN           Voyage   \n",
       "1803  VOLKSWAGEN           Voyage   \n",
       "1805  VOLKSWAGEN           Voyage   \n",
       "1801  VOLKSWAGEN           Voyage   \n",
       "1799  VOLKSWAGEN           Voyage   \n",
       "\n",
       "                                                version  cant  \n",
       "1541       2.0 TDI (140cv) 4x2 C/Simple Trendline (L17)     9  \n",
       "1539              2.0 TDI (122cv) 4x4 C/Doble Startline     9  \n",
       "1556            2.0 TDI (180cv) 4x2 C/Doble Ultimate AT     9  \n",
       "1565            2.0 TDI (180cv) 4x4 C/Doble Ultimate AT    11  \n",
       "1538              2.0 TDI (122cv) 4x2 C/Doble Startline    15  \n",
       "1563          2.0 TDI (180cv) 4x4 C/Doble Trendline AT     67  \n",
       "1548              2.0 TDI (163cv) 4x4 C/Doble Startline    15  \n",
       "1558          2.0 TDI (180cv) 4x4 C/Doble Dark Label AT    15  \n",
       "1551          2.0 TDI (180cv) 4x2 C/Doble Dark Label AT    15  \n",
       "1560      2.0 TDI (180cv) 4x4 C/Doble Highline AT (L17)    15  \n",
       "1554              2.0 TDI (180cv) 4x2 C/Doble Startline    18  \n",
       "1549              2.0 TDI (163cv) 4x4 C/Doble Trendline    18  \n",
       "1552               2.0 TDI (180cv) 4x2 C/Doble Highline    50  \n",
       "1544               2.0 TDI (163cv) 4x2 C/Doble Highline    20  \n",
       "1546              2.0 TDI (163cv) 4x2 C/Doble Trendline    23  \n",
       "1543             2.0 TDI (140cv) 4x4 C/Simple Startline    24  \n",
       "1547          2.0 TDI (163cv) 4x4 C/Doble Highline Pack    39  \n",
       "1567  3.0 TDI V6 (258cv) 4x4 C/Doble Black Style AT ...     7  \n",
       "1559               2.0 TDI (180cv) 4x4 C/Doble Highline    46  \n",
       "1545         2.0 TDI (163cv) 4x2 C/Doble Startline 2ABG     4  \n",
       "1550      2.0 TDI (180cv) 4x2 C/Doble Comfortline (L17)     1  \n",
       "1566    3.0 TDI V6 (224cv) 4x4 C/Doble Extreme AT (L17)   185  \n",
       "1562              2.0 TDI (180cv) 4x4 C/Doble Startline     2  \n",
       "1542  2.0 TDI (140cv) 4x4 C/Doble Trendline LL16'' C...     2  \n",
       "1561       2.0 TDI (180cv) 4x4 C/Doble Highline Pack AT   149  \n",
       "1553       2.0 TDI (180cv) 4x2 C/Doble Highline Pack AT   142  \n",
       "1557       2.0 TDI (180cv) 4x4 C/Doble Black Edition AT     3  \n",
       "1540             2.0 TDI (140cv) 4x2 C/Simple Startline   127  \n",
       "1564               2.0 TDI (180cv) 4x4 C/Doble Ultimate     3  \n",
       "1555           2.0 TDI (180cv) 4x2 C/Doble Trendline AT   133  \n",
       "1571                                  1.9 TDI Trendline    58  \n",
       "1573                            2.0 Trendline Tiptronic    82  \n",
       "1570                            1.8T Highline Tiptronic     8  \n",
       "1569                             1.8T Highline MT Cuero    97  \n",
       "1572                                   2.0 Trendline MT   222  \n",
       "1568                                   1.8T Highline MT    84  \n",
       "1580                3.6 V6 DSG 4Motion Highline (300cv)    10  \n",
       "1576                         2.0 TSI DSG Luxury (211cv)     5  \n",
       "1575                      2.0 TSI DSG Exclusive (211cv)    10  \n",
       "1574                        2.0 TSI DSG Advance (211cv)     3  \n",
       "1577                         2.0 TSI MT Advance (211cv)     4  \n",
       "1579                          2.0 TSI MT Luxury (211cv)     2  \n",
       "1578                       2.0 TSI MT Exclusive (211cv)     7  \n",
       "1582                                 1.9 SD Vidriada AA     3  \n",
       "1581                                             1.6 MI     1  \n",
       "1585           1.6 Highline Cuero 5Ptas. (MY14 ABG ABS)     3  \n",
       "1583              1.6 Comfortline 5Ptas. (MY14 ABG ABS)    19  \n",
       "1586                1.6 Trendline 5Ptas. (MY14 ABG ABS)    36  \n",
       "1587                         1.6 Trendline Cuero 5Ptas.     5  \n",
       "1584                      1.6 Highline 5Ptas. (ABG ABS)    23  \n",
       "1590                 1.6 Highline 5Ptas. (MY14 ABG ABS)    79  \n",
       "1594                1.6 MSI Pepper 5Ptas. (101cv) (L15)     5  \n",
       "1591          1.6 MSI 16V Highline 5Ptas. (110cv) (L15)     2  \n",
       "1593               1.6 MSI Connect 5Ptas. (101cv) (L15)    11  \n",
       "1596                                   1.6 Route 3Ptas.     6  \n",
       "1598                               1.6 Sportline 3Ptas.    29  \n",
       "1597                                   1.6 Route 5Ptas.     4  \n",
       "1599                1.6 Trendline 5Ptas. (MY14 ABG ABS)   104  \n",
       "1589         1.6 Comfortline Pack 3Ptas. (MY14 ABG ABS)    96  \n",
       "1600                      1.6 Trendline I-Motion 5Ptas.     2  \n",
       "1595                 1.6 MSI Track 5Ptas. (101cv) (L15)     7  \n",
       "1601    1.9 SDI Trendline 5Ptas. (Faros / PM / Spoiler)     1  \n",
       "1588              1.6 Comfortline 5Ptas. (MY14 ABG ABS)   142  \n",
       "1592  1.6 MSI 16V Highline I-Motion 5Ptas. (110cv) (...    10  \n",
       "1608                               1.6 5Ptas. Trendline    14  \n",
       "1602                      1.4 3Ptas. Power AA DA (83cv)     2  \n",
       "1615                    Country 1.6 Trendline Plus 2ABG     2  \n",
       "1604                                    1.6 3Ptas. LOOk    15  \n",
       "1612                                             1.9 SD     3  \n",
       "1619                           Country 1.9 SD Trendline    19  \n",
       "1609           1.6 MSI Cabina Doble Power (101cv) (L16)     2  \n",
       "1616               Country 1.9 SD Comfortline Plus 2ABG    12  \n",
       "1617                              Country 1.9 SD Format     1  \n",
       "1603                            1.4 TSI Design MT (L17)     1  \n",
       "1606                          1.6 3Ptas. Trendline Plus     1  \n",
       "1614                          1.9 SD 5Ptas. Power AA DA     9  \n",
       "1611                            1.6 MSI Trendline (L15)     1  \n",
       "1618              Country 1.9 SD Power (Int.Plus AA DA)     7  \n",
       "1613                         1.9 SD 5Ptas. Power / Plus     1  \n",
       "1610                          1.6 MSI Comfortline (L18)    10  \n",
       "1605                                   1.6 3Ptas. Power    29  \n",
       "1607                             1.6 5Ptas. Comfortline    27  \n",
       "1628               1.6 MSI 5Ptas. Connect (101cv) (L17)     3  \n",
       "1621          1.6 3Ptas. Pack II (101cv) (MY14 ABG ABS)    13  \n",
       "1629              1.6 MSI 5Ptas. Highline (101cv) (L17)    78  \n",
       "1620            1.6 3Ptas. Highline / Pack III (101cv)     73  \n",
       "1624   1.6 5Ptas. Highline I-Motion / Pack III (101cv)     15  \n",
       "1626                         1.6 5Ptas. Pack II (101cv)    84  \n",
       "1632             1.6 MSI 5Ptas. Trendline (101cv) (L17)   386  \n",
       "1631             1.6 MSI 5Ptas. Sportline (101cv) (L17)     9  \n",
       "1625            1.6 5Ptas. Pack I Plus I-Motion (101cv)    35  \n",
       "1623                             1.6 5Ptas. Cup (101cv)     2  \n",
       "1627             1.6 5Ptas. Trendline / Pack I (101cv)      1  \n",
       "1622             1.6 3Ptas. Trendline / Pack I (101cv)    276  \n",
       "1630                1.6 MSI 5Ptas. Serie (101cv) (L17)     36  \n",
       "1647                    GTI 2.0T DSG NAV (211cv) 5Ptas.    10  \n",
       "1642                                2.0 Advance (116cv)     1  \n",
       "1639          1.6 MSI 5Ptas. Trendline AT (101cv) (L19)     1  \n",
       "1649                     GTI 2.0T MT NAV (211cv) 5Ptas.     1  \n",
       "1633                    1.4 TSI DSG Comfortline (150cv)    12  \n",
       "1648                         GTI 2.0T MT (211cv) 5Ptas.     7  \n",
       "1638                           1.6 Format (100cv) (L07)     4  \n",
       "1643                          2.0 GTI DSG (220cv) (L15)     1  \n",
       "1651         Variant 1.4 TSI Highline DSG (150cv) (L15)    82  \n",
       "1645                                    2.0 Highline AT     1  \n",
       "1640                            1.6 MSI Trendline (L15)     4  \n",
       "1652             Variant 1.6 MT Trendline (110cv) (L15)    58  \n",
       "1650       Variant 1.4 TSI Comfortline DSG(150cv) (L15)   168  \n",
       "1644        2.0 GTI DSG App Connect Cuero (220cv) (L15)    53  \n",
       "1635                     1.4 TSI MT Comfortline (150cv)     3  \n",
       "1646                      GTI 2.0 TSI DSG Cuero (230cv)     4  \n",
       "1634                       1.4 TSI DSG Highline (150cv)     2  \n",
       "1641           1.9 TDI Conceptline / Comfortline (90cv)     2  \n",
       "1637        1.6 Conceptline / Comfortline (100cv) (L07)    21  \n",
       "1636                          1.6 Advance (100cv) (L07)    21  \n",
       "1653                                     2.0 MT Advance    11  \n",
       "1655                                          2.5 Sport    10  \n",
       "1654                               2.0 Tiptronic Luxury     3  \n",
       "1656          Comfortline 200 1.0 TSI Tiptronic (116cv)     3  \n",
       "1657             Highline 200 1.0 TSI Tiptronic (116cv)     2  \n",
       "1674                   2.0 TSI R-Line DSG (220cv) (L17)     1  \n",
       "1678         Variant 2.0 FSI Elegance Tiptronic (150cv)     1  \n",
       "1681       Variant 2.0 TSi Luxury MT Techo(211cv) (L11)     8  \n",
       "1679          Variant 2.0 TDI Advance DSG (170cv) (L11)     1  \n",
       "1670                      2.0 TSI Exclusive DSG (200cv)     5  \n",
       "1658                  1.8 TSi Comfort DSG (160cv) (L11)     5  \n",
       "1675                  2.0 TSi Advance DSG (211cv) (L11)     5  \n",
       "1663                                      2.0 MT Luxury     1  \n",
       "1669                       2.0 TSI DSG Elegance (211cv)     1  \n",
       "1676                   2.0 TSi Advance MT (211cv) (L11)     4  \n",
       "1671                       2.0 TSI Exclusive MT (200cv)     1  \n",
       "1673                          2.0 TSI Luxury MT (200cv)     1  \n",
       "1665                     2.0 TDI 4Motion Luxury (140cv)     4  \n",
       "1668                         2.0 TDI Luxury DSG (140cv)     4  \n",
       "1664                  2.0 TDI 4Motion Exclusive (140cv)     2  \n",
       "1660                  2.0 FSI Advance Tiptronic (150cv)     7  \n",
       "1672                 2.0 TSI Highline DSG (220cv) (L17)     3  \n",
       "1667                      2.0 TDI Exclusive DSG (140cv)     5  \n",
       "1680     Variant 2.0 TSi Luxury DSG Techo (211cv) (L11)    15  \n",
       "1659                   1.8 TSi Comfort MT (160cv) (L11)     9  \n",
       "1661                2.0 FSI Exclusive Tiptronic (150cv)    13  \n",
       "1677            3.2 FSI V6 DSG Highline / Highline Wood    19  \n",
       "1666                        2.0 TDI Advance DSG (140cv)    12  \n",
       "1662                   2.0 FSI Luxury Tiptronic (150cv)    10  \n",
       "1684     1.6 Comfortline Tiptronic (105cv) (L15) 4Ptas.    61  \n",
       "1692                           Country 1.9 SD Trendline     3  \n",
       "1691               Country 1.9 SD Comfortline Plus 2ABG     3  \n",
       "1687   1.6 MSi Trendline Tiptronic (110cv) (L18) 5Ptas.    73  \n",
       "1689                                   1.9 TDI Highline     1  \n",
       "1688                                             1.9 SD     1  \n",
       "1683             1.6 3Ptas. Trendline / Pack I (101cv)      1  \n",
       "1686           1.6 MSi Highline MT (110cv) (L18) 5Ptas.    49  \n",
       "1682                      1.4 TSi GTS Tiptronic (150cv)     8  \n",
       "1685  1.6 MSi Comfortline Plus Tiptronic (110cv) (L1...    44  \n",
       "1690                 Classic 1.9 TDI Highline ABS AB TC     1  \n",
       "1699  Cabina Extendida 1.6 N Pack High / Pack Elec. ...     9  \n",
       "1698          Cabina Doble 1.6 Pack High (101cv) (L13)     46  \n",
       "1700  Cabina Extendida 1.6 Safety Pack Elec.(101cv) ...    30  \n",
       "1695                                          1.6 Mi AA     4  \n",
       "1697                                     1.9 SD Limited     2  \n",
       "1696                                          1.9 SD DH     1  \n",
       "1693           1.6 MSI Cabina Doble Power (101cv) (L16)    13  \n",
       "1694                                             1.6 Mi     2  \n",
       "1701                                1.4 TSI DSG (160cv)    25  \n",
       "1703                            2.0 TSI DSG GTS (211cv)    32  \n",
       "1704                                 2.0 TSI MT (211cv)     5  \n",
       "1702                                 1.4 TSI MT (160cv)    12  \n",
       "1709                       2.0 TSi DSG Highline (200cv)     2  \n",
       "1706                                    1.8 T Trendline    14  \n",
       "1705         1.4 TSi 6MT Bluemotion Comfortline (150cv)    12  \n",
       "1707                                   1.9 TDI Highline     4  \n",
       "1708          1.9 TDI Highline Tiptronic Cuero 2Climat.     3  \n",
       "1727                                  1.9 SDI Trendline    15  \n",
       "1724                                1.9 SDI Comfortline   124  \n",
       "1719   1.6 MSI Highline I-Motion Navi Techo Cuero (L18)     6  \n",
       "1717                             1.6 MSI Highline (L18)    73  \n",
       "1720              1.6 MSI Highline I-Motion Techo (L18)    48  \n",
       "1723                             1.6 Trendline I-Motion    26  \n",
       "1711                       1.6 Highline I-Motion Cuero     58  \n",
       "1718                       1.6 MSI Highline Cuero (L18)    15  \n",
       "1714              1.6 MSI 5Ptas. Highline (101cv) (L17)    17  \n",
       "1716                          1.6 MSI Comfortline (L18)   167  \n",
       "1721                            1.6 MSI Trendline (L15)   121  \n",
       "1710             1.6 Comfortline / Style (MY14 ABG ABS)     1  \n",
       "1722                       1.6 Trendline (MY14 ABG ABS)     1  \n",
       "1715           1.6 MSI Cabina Doble Power (101cv) (L16)     1  \n",
       "1728  Cross 1.6 Highline s/cuero (101cv) (MY14 ABG ABS)    94  \n",
       "1712                                        1.6 Limited     7  \n",
       "1725                                   1.9 SDI Highline     4  \n",
       "1713          1.6 MSI 16V Highline 5Ptas. (110cv) (L15)    21  \n",
       "1726                             1.9 SDI Highline Cuero     2  \n",
       "1729                                Track 1.6 MSI (L18)    18  \n",
       "1731                    1.6 MSI Style Edition Tiptronic     1  \n",
       "1732                         200 TSI Highline Tiptronic     2  \n",
       "1730          1.6 MSI Comfortline Tiptronic DISCONTINUO    26  \n",
       "1734                      Hero 250TSI Tiptronic (150cv)     1  \n",
       "1735                  Highline 250TSI Tiptronic (150cv)     2  \n",
       "1733               Comfortline 250TSI Tiptronic (150cv)     6  \n",
       "1739                            2.0 TSI DSG GTS (211cv)     3  \n",
       "1738                            1.4 TSI Design MT (L17)    36  \n",
       "1736                    1.4 TSI DSG Comfortline (150cv)     3  \n",
       "1737                           1.4 TSI Design DSG (L17)    21  \n",
       "1740                            2.0 TSI Sport DSG (L17)    13  \n",
       "1746                    2.0 TSI Premium Tiptronic (L16)    21  \n",
       "1744                         2.0 TSI Exclusive MT (L11)     2  \n",
       "1742              2.0 TDI Sport & Style Tiptronic (L11)     1  \n",
       "1748              2.0 TSI Sport & Style Tiptronic (L16)    34  \n",
       "1741                    2.0 TDI Premium Tiptronic (L11)     1  \n",
       "1747                     2.0 TSI Sport & Style MT (L11)     4  \n",
       "1743                             2.0 TSI Elegance (L11)     1  \n",
       "1745                  2.0 TSI Exclusive Tiptronic (L11)    14  \n",
       "1751               2.0 TSi Highline DSG 4Motion (220cv)     7  \n",
       "1749                      1.4 TSi Trendline DSG (150cv)    54  \n",
       "1750  2.0 TSi Comfortline DSG 4Motion Techo Panor. (...     7  \n",
       "1752                  3.0 TDI V6 Elegance (204cv) (L11)     1  \n",
       "1757                             3.6 V6 Premium (280cv)     3  \n",
       "1755                  3.6 FSI V6 Elegance (280cv) (L11)     3  \n",
       "1753         3.0 TDI V6 Premium Tiptronic (245cv) (L16)     2  \n",
       "1754                                             3.2 V6     4  \n",
       "1756                     3.6 FSI V6 Style (280cv) (L11)     2  \n",
       "1758         4.2 FSI V8 Premium Tiptronic (360cv) (L16)    10  \n",
       "1759                                    1.9 TDI (105cv)     1  \n",
       "1764                      1.0 Take Up! AA (75cv) 3Ptas.     9  \n",
       "1762                         1.0 Move Up! (75cv) 3Ptas.    25  \n",
       "1760                         1.0 High Up! (75cv) 3Ptas.    32  \n",
       "1765                        1.0 White Up! (75cv) 5Ptas.     9  \n",
       "1766                            CROSS 1.0 (75cv) 5Ptas.    12  \n",
       "1763                1.0 Move Up! I-Motion (75cv) 5Ptas.     1  \n",
       "1761                1.0 High Up! I-Motion (75cv) 5Ptas.     5  \n",
       "1767               1.4 TSI AT Comfortline (150cv) (L19)    32  \n",
       "1784                  2.0 TSi GLI MT NAV (211cv) (L16)     35  \n",
       "1777                       2.0 TDI Elegance DSG (140cv)    28  \n",
       "1779                   2.0 TDI Luxury DSG (140cv) (L11)     1  \n",
       "1769                       1.4 TSI DSG Highline (150cv)     1  \n",
       "1776                  2.0 TDI Advance MT (110cv) (L11)     32  \n",
       "1789                     2.5 R5 Luxury MT (170cv) (L11)   165  \n",
       "1785                2.0 TSi Sportline DSG (211cv) (L11)     1  \n",
       "1771                        1.4 TSI MT Highline (150cv)     8  \n",
       "1780                      2.0 TDI Sportline DSG (140cv)     9  \n",
       "1786                 2.0 TSi Sportline MT (211cv) (L11)     8  \n",
       "1781                     2.0 TFSI Sportline DSG (200cv)    77  \n",
       "1787                     2.5 R5 Advance Plus MT (170cv)    93  \n",
       "1792               2.5 R5 Luxury Wood Tiptronic (170cv)    10  \n",
       "1774                   2.0 Advance MT 8v. (115cv) (L11)    13  \n",
       "1791               2.5 R5 Luxury Wood Tiptronic (150cv)    13  \n",
       "1773        1.9 TDI Luxury Wood DSG / Tiptronic (105cv)    25  \n",
       "1768                  1.4 TSI AT Highline (150cv) (L19)    62  \n",
       "1790                      2.5 R5 Luxury Wood MT (170cv)     4  \n",
       "1770                     1.4 TSI MT Comfortline (150cv)    18  \n",
       "1793           Variant 2.0 TDI Confort MT (110cv) (L11)     1  \n",
       "1775          2.0 Advance MT Summer Pack (115cv) (L11)     20  \n",
       "1772            1.9 TDI Advance DSG / Tiptronic (105cv)    23  \n",
       "1783                      2.0 TSi GLI MT (211cv) (L16)      2  \n",
       "1782                     2.0 TSi GLI DSG (211cv) (L16)      2  \n",
       "1778                        2.0 TDI Elegance MT (140cv)     2  \n",
       "1788              2.5 R5 Advance Plus Tiptronic (170cv)    49  \n",
       "1796                     1.6 Highline Tiptronic (110cv)    18  \n",
       "1794                      1.4 TSi GTS Tiptronic (150cv)     4  \n",
       "1797                           1.6 Trendline MT (110cv)    43  \n",
       "1795                  1.6 Comfortline Tiptronic (110cv)    21  \n",
       "1804        1.6 MSI Trendline (101cv) (L20) DISCONTINUO    15  \n",
       "1802               1.6 Highline (101cv) (MY14 ABG ABS)     47  \n",
       "1798                          1.6 Advance (101cv) (L08)     5  \n",
       "1800   1.6 Comfortline Plus I-Motion ABG ABS LL (101cv)     5  \n",
       "1803                      1.6 Highline I-Motion (101cv)     4  \n",
       "1805  1.6 Trendline / Comfortline (101cv) (MY14 ABG ...    97  \n",
       "1801                      1.6 Conceptline (101cv) (L08)     2  \n",
       "1799                       1.6 Comfortline Plus (101cv)    45  "
      ]
     },
     "execution_count": 83,
     "metadata": {},
     "output_type": "execute_result"
    }
   ],
   "source": [
    "# Caso ejemplo\n",
    "mask = df_grouped['marca'] == 'VOLKSWAGEN'\n",
    "df_grouped[mask].sort_values(by='modelo')"
   ]
  },
  {
   "cell_type": "code",
   "execution_count": 84,
   "id": "0cfe2d99-f8dd-4524-8119-4cf7affbd806",
   "metadata": {},
   "outputs": [],
   "source": [
    "# agrupacion\n",
    "df_grouped = df.groupby(['match_marca_a','match_modelo_a','match_v1_a'],as_index=False).size()\n",
    "df_grouped.columns = ['marca','modelo','version','cant']\n",
    "df_grouped.sort_values(by='cant',ascending=False,inplace=True)\n",
    "\n",
    "# deciles\n",
    "df_output = df_grouped.copy()\n",
    "\n",
    "data = df_grouped.copy()\n",
    "data.sort_values(by='cant',ascending=False,inplace=True)\n",
    "\n",
    "data['cuantiles' + str('_'+'cant')] =pd.qcut(data['cant'], 10, duplicates='drop')\n",
    "\n",
    "placeholder= 'marca'\n",
    "tmp = data.groupby('cuantiles' + str('_'+'cant')).agg({placeholder:'count'}).rename(columns={placeholder:'placeholder'})\n",
    "leni = len(tmp)\n",
    "tmp['cuantil' + str('_'+'cant')] = list(reversed(list(np.arange(1,leni+1,1))))\n",
    "tmp['bin' + str('_'+'cant')] = tmp.index\n",
    "tmp.reset_index(drop=True,inplace=True)\n",
    "tmp.drop('placeholder',1,inplace=True)\n",
    "\n",
    "data = data.merge(tmp, how='inner',left_on=['cuantiles' + str('_'+'cant')], right_on='bin' + str('_'+'cant'))\n",
    "\n",
    "#data.drop(cols_to_drop,1,inplace=True)\n",
    "\n",
    "#df_output = df_output.merge(data, on=['marca','modelo','version'])\n",
    "\n",
    "# seleccion y orden final de las columnas del output\n",
    "#df_output_ok = df_output[['marca','modelo','version','cant','cuantil_cant','bin_cant']]\n",
    "#df_output_ok.sort_values(by='cant',ascending=False,inplace=True)\n",
    "#df_output_ok.head()"
   ]
  },
  {
   "cell_type": "code",
   "execution_count": 85,
   "id": "8b2e6dad-68bd-4a9d-ad38-feda5b2e5ed4",
   "metadata": {},
   "outputs": [],
   "source": [
    "data.drop('cuantiles_cant',1,inplace=True)"
   ]
  },
  {
   "cell_type": "code",
   "execution_count": 86,
   "id": "455e58e7-0ebb-4856-9878-e2bd8c655a6b",
   "metadata": {},
   "outputs": [
    {
     "data": {
      "text/plain": [
       "1722"
      ]
     },
     "execution_count": 86,
     "metadata": {},
     "output_type": "execute_result"
    }
   ],
   "source": [
    "data.version.nunique()"
   ]
  },
  {
   "cell_type": "code",
   "execution_count": 87,
   "id": "1ceb1a6d-fb4b-45b6-a097-b9ab8f73894d",
   "metadata": {},
   "outputs": [
    {
     "data": {
      "text/plain": [
       "cuantil_cant\n",
       "1   54.29\n",
       "2   18.33\n",
       "3   10.32\n",
       "4    5.44\n",
       "5    3.84\n",
       "6    2.69\n",
       "7    2.77\n",
       "8    2.32\n",
       "Name: cant, dtype: float64"
      ]
     },
     "execution_count": 87,
     "metadata": {},
     "output_type": "execute_result"
    }
   ],
   "source": [
    "asd = (data.groupby('cuantil_cant')['cant'].sum()/sum(data.cant))*100\n",
    "asd"
   ]
  },
  {
   "cell_type": "code",
   "execution_count": 88,
   "id": "204bf988-cabe-45a1-a17d-8a04793f8c2f",
   "metadata": {},
   "outputs": [
    {
     "data": {
      "text/html": [
       "<div>\n",
       "<style scoped>\n",
       "    .dataframe tbody tr th:only-of-type {\n",
       "        vertical-align: middle;\n",
       "    }\n",
       "\n",
       "    .dataframe tbody tr th {\n",
       "        vertical-align: top;\n",
       "    }\n",
       "\n",
       "    .dataframe thead th {\n",
       "        text-align: right;\n",
       "    }\n",
       "</style>\n",
       "<table border=\"1\" class=\"dataframe\">\n",
       "  <thead>\n",
       "    <tr style=\"text-align: right;\">\n",
       "      <th></th>\n",
       "      <th>cuantil_cant</th>\n",
       "      <th>bin_cant</th>\n",
       "    </tr>\n",
       "  </thead>\n",
       "  <tbody>\n",
       "    <tr>\n",
       "      <th>0</th>\n",
       "      <td>8</td>\n",
       "      <td>(0.999, 2.0]</td>\n",
       "    </tr>\n",
       "    <tr>\n",
       "      <th>1</th>\n",
       "      <td>7</td>\n",
       "      <td>(2.0, 4.0]</td>\n",
       "    </tr>\n",
       "    <tr>\n",
       "      <th>2</th>\n",
       "      <td>6</td>\n",
       "      <td>(4.0, 6.0]</td>\n",
       "    </tr>\n",
       "    <tr>\n",
       "      <th>3</th>\n",
       "      <td>5</td>\n",
       "      <td>(6.0, 9.0]</td>\n",
       "    </tr>\n",
       "    <tr>\n",
       "      <th>4</th>\n",
       "      <td>4</td>\n",
       "      <td>(9.0, 13.0]</td>\n",
       "    </tr>\n",
       "    <tr>\n",
       "      <th>5</th>\n",
       "      <td>3</td>\n",
       "      <td>(13.0, 23.0]</td>\n",
       "    </tr>\n",
       "    <tr>\n",
       "      <th>6</th>\n",
       "      <td>2</td>\n",
       "      <td>(23.0, 47.0]</td>\n",
       "    </tr>\n",
       "    <tr>\n",
       "      <th>7</th>\n",
       "      <td>1</td>\n",
       "      <td>(47.0, 386.0]</td>\n",
       "    </tr>\n",
       "  </tbody>\n",
       "</table>\n",
       "</div>"
      ],
      "text/plain": [
       "   cuantil_cant       bin_cant\n",
       "0             8   (0.999, 2.0]\n",
       "1             7     (2.0, 4.0]\n",
       "2             6     (4.0, 6.0]\n",
       "3             5     (6.0, 9.0]\n",
       "4             4    (9.0, 13.0]\n",
       "5             3   (13.0, 23.0]\n",
       "6             2   (23.0, 47.0]\n",
       "7             1  (47.0, 386.0]"
      ]
     },
     "execution_count": 88,
     "metadata": {},
     "output_type": "execute_result"
    }
   ],
   "source": [
    "tmp"
   ]
  },
  {
   "cell_type": "code",
   "execution_count": 89,
   "id": "4e94442c-4da1-4136-a4d6-fd8331a712cf",
   "metadata": {},
   "outputs": [
    {
     "name": "stdout",
     "output_type": "stream",
     "text": [
      "Algoritmo: 88.38133068520357\n",
      "Reglas: 9.303624627606753\n",
      "Equipo Pricing: 2.315044687189672\n"
     ]
    }
   ],
   "source": [
    "# Escenario de cotizacion: Algoritmo\n",
    "print(f'Algoritmo: {asd.iloc[0:4].sum()}')\n",
    "print(f'Reglas: {asd.iloc[4:7].sum()}')\n",
    "print(f'Equipo Pricing: {asd.iloc[7:].sum()}')"
   ]
  },
  {
   "cell_type": "code",
   "execution_count": 90,
   "id": "a7add06c-7107-4e09-8036-3bcb515f8ab3",
   "metadata": {},
   "outputs": [
    {
     "data": {
      "text/html": [
       "<div>\n",
       "<style scoped>\n",
       "    .dataframe tbody tr th:only-of-type {\n",
       "        vertical-align: middle;\n",
       "    }\n",
       "\n",
       "    .dataframe tbody tr th {\n",
       "        vertical-align: top;\n",
       "    }\n",
       "\n",
       "    .dataframe thead th {\n",
       "        text-align: right;\n",
       "    }\n",
       "</style>\n",
       "<table border=\"1\" class=\"dataframe\">\n",
       "  <thead>\n",
       "    <tr style=\"text-align: right;\">\n",
       "      <th></th>\n",
       "      <th>marca</th>\n",
       "      <th>modelo</th>\n",
       "      <th>version</th>\n",
       "      <th>cant</th>\n",
       "      <th>cuantil_cant</th>\n",
       "      <th>bin_cant</th>\n",
       "      <th>marca_modelo_version</th>\n",
       "    </tr>\n",
       "  </thead>\n",
       "  <tbody>\n",
       "    <tr>\n",
       "      <th>0</th>\n",
       "      <td>VOLKSWAGEN</td>\n",
       "      <td>Gol Trend</td>\n",
       "      <td>1.6 MSI 5Ptas. Trendline (101cv) (L17)</td>\n",
       "      <td>386</td>\n",
       "      <td>1</td>\n",
       "      <td>(47.0, 386.0]</td>\n",
       "      <td>VOLKSWAGEN - Gol Trend - 1.6 MSI 5Ptas. Trendl...</td>\n",
       "    </tr>\n",
       "    <tr>\n",
       "      <th>1</th>\n",
       "      <td>PEUGEOT</td>\n",
       "      <td>308</td>\n",
       "      <td>Allure 1.6 HDI NAV (115cv) 5Ptas. (L16)</td>\n",
       "      <td>341</td>\n",
       "      <td>1</td>\n",
       "      <td>(47.0, 386.0]</td>\n",
       "      <td>PEUGEOT - 308 - Allure 1.6 HDI NAV (115cv) 5Pt...</td>\n",
       "    </tr>\n",
       "    <tr>\n",
       "      <th>2</th>\n",
       "      <td>TOYOTA</td>\n",
       "      <td>Etios</td>\n",
       "      <td>1.5 XLS AT (105cv) (L18) 4Ptas.</td>\n",
       "      <td>338</td>\n",
       "      <td>1</td>\n",
       "      <td>(47.0, 386.0]</td>\n",
       "      <td>TOYOTA - Etios - 1.5 XLS AT (105cv) (L18) 4Ptas.</td>\n",
       "    </tr>\n",
       "    <tr>\n",
       "      <th>3</th>\n",
       "      <td>VOLKSWAGEN</td>\n",
       "      <td>Gol Trend</td>\n",
       "      <td>1.6 3Ptas. Trendline / Pack I (101cv)</td>\n",
       "      <td>276</td>\n",
       "      <td>1</td>\n",
       "      <td>(47.0, 386.0]</td>\n",
       "      <td>VOLKSWAGEN - Gol Trend - 1.6 3Ptas. Trendline ...</td>\n",
       "    </tr>\n",
       "    <tr>\n",
       "      <th>4</th>\n",
       "      <td>TOYOTA</td>\n",
       "      <td>Corolla</td>\n",
       "      <td>XEI 1.8 CVT (140cv) (L18)</td>\n",
       "      <td>267</td>\n",
       "      <td>1</td>\n",
       "      <td>(47.0, 386.0]</td>\n",
       "      <td>TOYOTA - Corolla - XEI 1.8 CVT (140cv) (L18)</td>\n",
       "    </tr>\n",
       "  </tbody>\n",
       "</table>\n",
       "</div>"
      ],
      "text/plain": [
       "        marca     modelo                                  version  cant  \\\n",
       "0  VOLKSWAGEN  Gol Trend   1.6 MSI 5Ptas. Trendline (101cv) (L17)   386   \n",
       "1     PEUGEOT        308  Allure 1.6 HDI NAV (115cv) 5Ptas. (L16)   341   \n",
       "2      TOYOTA      Etios          1.5 XLS AT (105cv) (L18) 4Ptas.   338   \n",
       "3  VOLKSWAGEN  Gol Trend   1.6 3Ptas. Trendline / Pack I (101cv)    276   \n",
       "4      TOYOTA    Corolla                XEI 1.8 CVT (140cv) (L18)   267   \n",
       "\n",
       "   cuantil_cant       bin_cant  \\\n",
       "0             1  (47.0, 386.0]   \n",
       "1             1  (47.0, 386.0]   \n",
       "2             1  (47.0, 386.0]   \n",
       "3             1  (47.0, 386.0]   \n",
       "4             1  (47.0, 386.0]   \n",
       "\n",
       "                                marca_modelo_version  \n",
       "0  VOLKSWAGEN - Gol Trend - 1.6 MSI 5Ptas. Trendl...  \n",
       "1  PEUGEOT - 308 - Allure 1.6 HDI NAV (115cv) 5Pt...  \n",
       "2   TOYOTA - Etios - 1.5 XLS AT (105cv) (L18) 4Ptas.  \n",
       "3  VOLKSWAGEN - Gol Trend - 1.6 3Ptas. Trendline ...  \n",
       "4       TOYOTA - Corolla - XEI 1.8 CVT (140cv) (L18)  "
      ]
     },
     "execution_count": 90,
     "metadata": {},
     "output_type": "execute_result"
    }
   ],
   "source": [
    "# Marcas-modelos en cada grupo\n",
    "data['marca_modelo_version'] = data['marca'] + str(' - ') +data['modelo'] + str(' - ') + data['version']\n",
    "data.head()"
   ]
  },
  {
   "cell_type": "code",
   "execution_count": 91,
   "id": "6a1978f3-28ca-4069-8d7b-72b8f8634d7c",
   "metadata": {},
   "outputs": [
    {
     "data": {
      "text/html": [
       "<div>\n",
       "<style scoped>\n",
       "    .dataframe tbody tr th:only-of-type {\n",
       "        vertical-align: middle;\n",
       "    }\n",
       "\n",
       "    .dataframe tbody tr th {\n",
       "        vertical-align: top;\n",
       "    }\n",
       "\n",
       "    .dataframe thead th {\n",
       "        text-align: right;\n",
       "    }\n",
       "</style>\n",
       "<table border=\"1\" class=\"dataframe\">\n",
       "  <thead>\n",
       "    <tr style=\"text-align: right;\">\n",
       "      <th></th>\n",
       "      <th>marca</th>\n",
       "      <th>modelo</th>\n",
       "      <th>version</th>\n",
       "      <th>cant</th>\n",
       "      <th>cuantil_cant</th>\n",
       "      <th>bin_cant</th>\n",
       "      <th>marca_modelo_version</th>\n",
       "    </tr>\n",
       "  </thead>\n",
       "  <tbody>\n",
       "    <tr>\n",
       "      <th>473</th>\n",
       "      <td>CHERY</td>\n",
       "      <td>Tiggo</td>\n",
       "      <td>2.0 16v 4x4 Luxury (138cv)</td>\n",
       "      <td>16</td>\n",
       "      <td>3</td>\n",
       "      <td>(13.0, 23.0]</td>\n",
       "      <td>CHERY - Tiggo - 2.0 16v 4x4 Luxury (138cv)</td>\n",
       "    </tr>\n",
       "    <tr>\n",
       "      <th>1230</th>\n",
       "      <td>CHERY</td>\n",
       "      <td>Tiggo</td>\n",
       "      <td>2.0 16v 4x2 Luxury AT (138cv)</td>\n",
       "      <td>3</td>\n",
       "      <td>7</td>\n",
       "      <td>(2.0, 4.0]</td>\n",
       "      <td>CHERY - Tiggo - 2.0 16v 4x2 Luxury AT (138cv)</td>\n",
       "    </tr>\n",
       "  </tbody>\n",
       "</table>\n",
       "</div>"
      ],
      "text/plain": [
       "      marca modelo                        version  cant  cuantil_cant  \\\n",
       "473   CHERY  Tiggo     2.0 16v 4x4 Luxury (138cv)    16             3   \n",
       "1230  CHERY  Tiggo  2.0 16v 4x2 Luxury AT (138cv)     3             7   \n",
       "\n",
       "          bin_cant                           marca_modelo_version  \n",
       "473   (13.0, 23.0]     CHERY - Tiggo - 2.0 16v 4x4 Luxury (138cv)  \n",
       "1230    (2.0, 4.0]  CHERY - Tiggo - 2.0 16v 4x2 Luxury AT (138cv)  "
      ]
     },
     "execution_count": 91,
     "metadata": {},
     "output_type": "execute_result"
    }
   ],
   "source": [
    "# Caso ejemplo\n",
    "data[data.modelo == 'Tiggo']"
   ]
  },
  {
   "cell_type": "code",
   "execution_count": 92,
   "id": "86b12652-dd65-462a-aa1f-917cb30668b1",
   "metadata": {},
   "outputs": [
    {
     "data": {
      "text/plain": [
       "True"
      ]
     },
     "execution_count": 92,
     "metadata": {},
     "output_type": "execute_result"
    }
   ],
   "source": [
    "len(data) == data.marca_modelo_version.nunique()"
   ]
  },
  {
   "cell_type": "code",
   "execution_count": 93,
   "id": "7652246e-f574-4829-b96e-19c6707c1e4c",
   "metadata": {
    "tags": []
   },
   "outputs": [
    {
     "data": {
      "text/plain": [
       "['AUDI - A1 - 1.4 TFSi S-Tronic Ambition (122cv)',\n",
       " 'CHEVROLET - Agile - 1.4 LS / LS Spirit 5Ptas.',\n",
       " 'CHEVROLET - Agile - 1.4 LT / LT Spirit 5Ptas.',\n",
       " 'CHEVROLET - Astra II - GL 2.0 8v',\n",
       " 'CHEVROLET - Astra II - GLS 2.0 16v',\n",
       " 'CHEVROLET - Aveo - LT 1.6 AT 4Ptas. (103cv)',\n",
       " 'CHEVROLET - Celta - 1.4 N 8v LS AA DA (92cv) 3Ptas. (L13)',\n",
       " 'CHEVROLET - Classic - 4Ptas. 1.4 N LS ABS ABC',\n",
       " 'CHEVROLET - Classic - 4Ptas. 1.4 N LT Spirit Pack',\n",
       " 'CHEVROLET - Classic - 4Ptas. 1.4 N Spirit / LS AA DA',\n",
       " 'CHEVROLET - Corsa II - GSI 2.4 16v 5Ptas.',\n",
       " 'CHEVROLET - Cruze - 1.8 LT MT (141cv) 4Ptas. ',\n",
       " 'CHEVROLET - Cruze - 1.8 LTZ AT (141cv) 4Ptas. ',\n",
       " 'CHEVROLET - Cruze - 1.8 LTZ MT (141cv) 4Ptas. ',\n",
       " 'CHEVROLET - Meriva - 1.8 N 8v GL Plus',\n",
       " 'CHEVROLET - Onix - 1.4 8v Joy LS MT (Plan) (98cv)',\n",
       " 'CHEVROLET - Onix - 1.4 8v LT MT (98cv)',\n",
       " 'CHEVROLET - Onix - 1.4 8v LTZ MT (98cv)',\n",
       " 'CHEVROLET - Prisma - 1.4 8v LT MT (98cv)',\n",
       " 'CHEVROLET - Prisma - 1.4 Joy LS+ MT (98cv) (Plan)',\n",
       " 'CHEVROLET - Spin - 1.8 8v LT MT 5as. (105cv) (L18)',\n",
       " 'CHEVROLET - Spin - 1.8 8v LTZ MT 5as. (105cv) (L18)',\n",
       " 'CHEVROLET - Tracker - 1.8 LTZ+ AT 4x4 (140cv)',\n",
       " 'CITROEN - C3 - 1.4 HDi SX',\n",
       " 'CITROEN - C3 - 1.5i 90 Tendance Pack Secure (L12) ',\n",
       " 'CITROEN - C3 - 1.6 VTi 115 Exclusive (L12)',\n",
       " 'CITROEN - C4 - 4Ptas.- 2.0 Hdi SX (110cv)',\n",
       " 'CITROEN - C4 - 5Ptas.- 1.6 16v X Pack Look (110cv)',\n",
       " 'CITROEN - C4 Aircross - 2.0 Tendance 4x2 CVT (150cv)',\n",
       " 'CITROEN - C4 Lounge - 1.6 HDI 6MT Feel Pack (115cv) (L16)',\n",
       " 'FIAT - 500 - 1.4 8v Cult MT (85cv)',\n",
       " 'FIAT - 500 - 1.4 MultiAir Sport MT (105cv)',\n",
       " 'FIAT - Argo - 1.3 Drive MT (99cv)',\n",
       " 'FIAT - Cronos - 1.3 GSE MT Drive Pack Conectividad (99cv)',\n",
       " 'FIAT - Fiorino - 1.3 Fire Confort AA DA',\n",
       " 'FIAT - Mobi - 1.0 Easy Pack Top (75cv)',\n",
       " 'FIAT - Palio - Attractive 1.4 5Ptas. (85cv) (L12)',\n",
       " 'FIAT - Palio - Essence 1.6 MT 5Ptas. (115cv) (L12)',\n",
       " 'FIAT - Palio - Fire 1.4 Pack Confort 5Ptas.',\n",
       " 'FIAT - Punto - 1.4 Attractive / ELX Pack Top 5Ptas. (87cv)',\n",
       " 'FIAT - Punto - 1.4 Attractive Pack Top 5Ptas. (87cv) (L13)',\n",
       " 'FIAT - Siena - 1.4 ELX Fire AA DA (L06)',\n",
       " 'FIAT - Siena - EL 1.4 Pack Attractive Seguridad / Emotion (L10)',\n",
       " 'FIAT - Strada - Adventure C/Doble 3Ptas. 1.6 Pack Top / Serie',\n",
       " 'FIAT - Strada - Working C/Simple 1.4 AA Seguridad (L14)',\n",
       " 'FIAT - Toro - 2.0 Freedom 4x2 6MT Cab/Doble',\n",
       " 'FIAT - Toro - 2.0 Freedom 4x4 9AT Cab/Doble Pack Technology',\n",
       " 'FIAT - Toro - 2.0 Volcano 4x4 9AT Cab/Doble Pack Premium',\n",
       " 'FIAT - Uno - Fire 1.3 Pack 2 / Pack B / Confort AA s/DA (68cv) 5Ptas.',\n",
       " 'FIAT - Uno - Fire 1.3 Pack C / Way (68cv) 5Ptas.',\n",
       " 'FORD - EcoSport - 1.6 XL Plus \\\\ MP3',\n",
       " 'FORD - EcoSport - 1.6 XLS \\\\ MP3',\n",
       " 'FORD - Fiesta - Max 4Ptas. 1.6 N Ambiente Plus MP3 (98cv) (L11)',\n",
       " 'FORD - Focus - 5Ptas. Ambiente 1.6 MP3',\n",
       " 'FORD - Focus III - Trend 2.0 N',\n",
       " 'FORD - KA - 1.0 Fly Viral (L/08)',\n",
       " 'FORD - KA - 1.5 S (105cv) 4Ptas.',\n",
       " 'FORD - KA - 1.5 SE (105cv) 5Ptas.',\n",
       " 'FORD - KA - 1.5 SEL (105cv) 4Ptas.',\n",
       " 'FORD - KA - 1.6 Fly Viral (L/08)',\n",
       " 'FORD - Kuga - 2.5T AT Titanium 4x4',\n",
       " 'FORD - Ranger - 2.2 TDCi C/Doble 4x2 XL 6MT (125cv) (L20)',\n",
       " 'FORD - Ranger - 2.2 TDCi C/Doble 6MT 4x2 XL Safety (L12)',\n",
       " 'FORD - Ranger - 3.0 TDI C/S 4x2 XL Plus (L05)',\n",
       " 'FORD - Ranger - 3.2 TDCi C/Doble 4x2 XLS 6MT (200cv) (L20)',\n",
       " 'FORD - Ranger - 3.2 TDCi C/Doble 4x2 XLT 6MT (200cv) (L20)',\n",
       " 'FORD - Ranger - 3.2 TDCi C/Doble 4x4 Limited 6AT (200cv) (L20)',\n",
       " 'FORD - Ranger - 3.2 TDCi C/Doble 4x4 XLT 6MT (200cv) (L20)',\n",
       " 'HONDA - Fit - 1.4 LX MT',\n",
       " 'HONDA - Fit - 1.5 EX CVT IVTEC (120cv) (L18)',\n",
       " 'HONDA - HR-V - 1.8 i-VTEC EX-L CVT 2WD (140cv)',\n",
       " 'HONDA - HR-V - 1.8 i-VTEC LX CVT 2WD (140cv) (L20)',\n",
       " 'JEEP - Compass - Sport 2.4 Nafta MT',\n",
       " 'JEEP - Renegade - 1.8 AT Longitude (128cv) (L19)',\n",
       " 'JEEP - Renegade - 1.8 AT Sport (128cv) (L19)',\n",
       " 'JEEP - Renegade - 1.8 AT Sport Plus (128cv)',\n",
       " 'JEEP - Renegade - 1.8 MT Sport Plus (128cv)',\n",
       " 'NISSAN - Kicks - 1.6 Advance Ed.Limitada UEFA CVT (120cv) DISCONTINUO',\n",
       " 'NISSAN - Tiida - 5Ptas. Visia 1.8 (126cv)',\n",
       " 'PEUGEOT - 2008 - 1.6 16v. Allure MT (115cv)',\n",
       " 'PEUGEOT - 2008 - 1.6 16v. Feline Tiptronic (115cv) (L20)',\n",
       " 'PEUGEOT - 2008 - 1.6 THP Sport Tiptronic (165cv) (L20)',\n",
       " 'PEUGEOT - 206 - 5Ptas. 1.4 Active / EdG Géneration',\n",
       " 'PEUGEOT - 206 - SW XS Premium 1.6',\n",
       " 'PEUGEOT - 207 - Compact 3Ptas. 1.4 N Active / XR (75cv)',\n",
       " 'PEUGEOT - 207 - Compact 5Ptas. 1.4 HDI Allure / XS (70cv) ',\n",
       " 'PEUGEOT - 207 - Compact 5Ptas. 1.4 N Allure / XS (75cv) ',\n",
       " 'PEUGEOT - 207 - Compact 5Ptas. 1.6 N Griffe / XT Premium (110cv)',\n",
       " 'PEUGEOT - 208 - 1.5 N 8v Active (90cv) ',\n",
       " 'PEUGEOT - 208 - 1.6 Active (L20)',\n",
       " 'PEUGEOT - 208 - 1.6 Allure (L20)',\n",
       " 'PEUGEOT - 208 - 1.6 N 16v Allure Tiptronic (115cv) (L18)',\n",
       " 'PEUGEOT - 208 - 1.6 N 16v Feline Pack Cuir (115cv) ',\n",
       " 'PEUGEOT - 208 - 1.6 N 16v Feline Tiptronic (115cv) (L18)',\n",
       " 'PEUGEOT - 208 - 1.6 THP GT (165cv) (L18)',\n",
       " 'PEUGEOT - 307 - 5Ptas. 1.6 N XS (110cv)',\n",
       " 'PEUGEOT - 307 - 5Ptas. 2.0 Hdi XS Premium (110cv) (L06)',\n",
       " 'PEUGEOT - 308 - Active 1.6 16v (115cv) 5Ptas. (L12)',\n",
       " 'PEUGEOT - 308 - Allure 1.6 HDI NAV (115cv) 5Ptas. (L16)',\n",
       " 'PEUGEOT - 308 - Feline 1.6 HDI (115cv) 5Ptas. (L12)',\n",
       " 'PEUGEOT - 308 - Feline 2.0 16v MT (143cv) 5Ptas. (L12)',\n",
       " 'PEUGEOT - 308 - Sport 1.6 THP AT (163cv) 5Ptas. (L12)',\n",
       " 'PEUGEOT - 408 - Allure 2.0 MT (143cv) 4Ptas.',\n",
       " 'PEUGEOT - 408 - Allure 2.0 MT NAV (143cv) 4Ptas.',\n",
       " 'PEUGEOT - 408 - Allure+ 1.6 HDi MT (115cv) 4Ptas.',\n",
       " 'PEUGEOT - 408 - Sport 1.6 THP Turbo Tiptronic (163cv) 4Ptas.',\n",
       " 'PEUGEOT - Partner - Patagónica 1.6 Hdi VTC Plus (90cv) (L10)',\n",
       " 'RAM - 1500 - Laramie 5.7 V8 AT 4x4',\n",
       " 'RENAULT - Captur - 2.0 16v 6MT Intens Bitono Nav. Evo. (143cv)',\n",
       " 'RENAULT - Clio Mío - 1.6 Confort',\n",
       " 'RENAULT - Clio Mío - Fase 2 - 4Ptas. 1.6 Pack Plus (L07) / Authentique Pack',\n",
       " 'RENAULT - Duster - 1.6 4x2 Confort ABS (110cv)',\n",
       " 'RENAULT - Duster - Fase II 1.6 4x2 Dynamique (110cv) DISCONTINUO',\n",
       " 'RENAULT - Duster - Fase II 1.6 4x2 Expression (110cv) DISCONTINUO',\n",
       " 'RENAULT - Duster - Fase II 1.6 4x2 Privilege (110cv) DISCONTINUO',\n",
       " 'RENAULT - Duster - Fase II 2.0 4x2 6MT Privilege (143cv) DISCONTINUO',\n",
       " 'RENAULT - Fluence - 2.0 Luxe Pack CVT (143cv)',\n",
       " 'RENAULT - Kangoo - 1.6 Expression / Confort AA LV2 TRF 2ABG RACK TECH 2PLC',\n",
       " 'RENAULT - Kangoo - 1.9D Expression / Confort AA 2ABG RACK TECH 2PLC',\n",
       " 'RENAULT - Kangoo - PH3 1.6 Authentique 1PLC',\n",
       " 'RENAULT - Kwid - 1.0 Zen (66cv)',\n",
       " 'RENAULT - Logan - II - 1.6 8v. Authentique Plus (85cv) (L14)',\n",
       " 'RENAULT - Master - 2.5 dCi Furgón Corto L1H1 Pack 2 Confort (115cv)',\n",
       " 'RENAULT - Sandero - Fase II 1.6 16v Privilege NAV (105cv)',\n",
       " 'RENAULT - Sandero - Fase II 1.6 8v Expression ABS (90cv)',\n",
       " 'RENAULT - Sandero - II - 2.0 16v RS (145cv)',\n",
       " 'RENAULT - Sandero Stepway - Fase II 1.6 16v Expression / Confort ABCP ABS (105cv)',\n",
       " 'RENAULT - Sandero Stepway - Fase II 1.6 16v Privilege Plus NAV (105cv)',\n",
       " 'TOYOTA - Corolla - XEI 1.8 CVT (140cv) (L18)',\n",
       " 'TOYOTA - Corolla - XEI 1.8 MT (136cv) (L12)',\n",
       " 'TOYOTA - Corolla - XEI 1.8 MT (140cv) (L18)',\n",
       " 'TOYOTA - Corolla - XEI 1.8 MT Cuero (140cv) (L18)',\n",
       " 'TOYOTA - Etios - 1.5 XLS AT (105cv) (L18) 4Ptas.',\n",
       " 'TOYOTA - Etios - 1.5 XS 6MT (105cv) (L16) 5Ptas.',\n",
       " 'TOYOTA - Hilux - 2.5 TDI C/D 4x2 DX Pack 2ABG ABS (120cv)',\n",
       " 'TOYOTA - Hilux - 2.5 TDI C/D 4x4 DX Pack 2ABG ABS (120cv)',\n",
       " 'TOYOTA - Hilux - 3.0 TDI C/D 4x2 SRV (171cv)',\n",
       " 'VOLKSWAGEN - Amarok - 2.0 TDI (140cv) 4x2 C/Simple Startline',\n",
       " 'VOLKSWAGEN - Amarok - 2.0 TDI (180cv) 4x2 C/Doble Highline',\n",
       " 'VOLKSWAGEN - Amarok - 2.0 TDI (180cv) 4x2 C/Doble Highline Pack AT',\n",
       " 'VOLKSWAGEN - Amarok - 2.0 TDI (180cv) 4x2 C/Doble Trendline AT',\n",
       " 'VOLKSWAGEN - Amarok - 2.0 TDI (180cv) 4x4 C/Doble Highline Pack AT',\n",
       " 'VOLKSWAGEN - Amarok - 2.0 TDI (180cv) 4x4 C/Doble Trendline AT ',\n",
       " 'VOLKSWAGEN - Amarok - 3.0 TDI V6 (224cv) 4x4 C/Doble Extreme AT (L17)',\n",
       " 'VOLKSWAGEN - Bora - 1.8T Highline MT',\n",
       " 'VOLKSWAGEN - Bora - 1.8T Highline MT Cuero',\n",
       " 'VOLKSWAGEN - Bora - 1.9 TDI Trendline',\n",
       " 'VOLKSWAGEN - Bora - 2.0 Trendline MT',\n",
       " 'VOLKSWAGEN - Bora - 2.0 Trendline Tiptronic',\n",
       " 'VOLKSWAGEN - Fox - 1.6 Comfortline 5Ptas. (MY14 ABG ABS)',\n",
       " 'VOLKSWAGEN - Fox - 1.6 Comfortline Pack 3Ptas. (MY14 ABG ABS)',\n",
       " 'VOLKSWAGEN - Fox - 1.6 Highline 5Ptas. (MY14 ABG ABS)',\n",
       " 'VOLKSWAGEN - Fox - 1.6 Trendline 5Ptas. (MY14 ABG ABS)',\n",
       " 'VOLKSWAGEN - Gol Trend - 1.6 3Ptas. Highline / Pack III (101cv) ',\n",
       " 'VOLKSWAGEN - Gol Trend - 1.6 3Ptas. Trendline / Pack I (101cv) ',\n",
       " 'VOLKSWAGEN - Gol Trend - 1.6 5Ptas. Pack II (101cv)',\n",
       " 'VOLKSWAGEN - Gol Trend - 1.6 MSI 5Ptas. Highline (101cv) (L17)',\n",
       " 'VOLKSWAGEN - Gol Trend - 1.6 MSI 5Ptas. Trendline (101cv) (L17)',\n",
       " 'VOLKSWAGEN - Golf - 2.0 GTI DSG App Connect Cuero (220cv) (L15)',\n",
       " 'VOLKSWAGEN - Golf - Variant 1.4 TSI Comfortline DSG(150cv) (L15)',\n",
       " 'VOLKSWAGEN - Golf - Variant 1.4 TSI Highline DSG (150cv) (L15)',\n",
       " 'VOLKSWAGEN - Golf - Variant 1.6 MT Trendline (110cv) (L15)',\n",
       " 'VOLKSWAGEN - Polo - 1.6 Comfortline Tiptronic (105cv) (L15) 4Ptas.',\n",
       " 'VOLKSWAGEN - Polo - 1.6 MSi Highline MT (110cv) (L18) 5Ptas.',\n",
       " 'VOLKSWAGEN - Polo - 1.6 MSi Trendline Tiptronic (110cv) (L18) 5Ptas.',\n",
       " 'VOLKSWAGEN - Suran - 1.6 Highline I-Motion Cuero ',\n",
       " 'VOLKSWAGEN - Suran - 1.6 MSI Comfortline (L18)',\n",
       " 'VOLKSWAGEN - Suran - 1.6 MSI Highline (L18)',\n",
       " 'VOLKSWAGEN - Suran - 1.6 MSI Highline I-Motion Techo (L18)',\n",
       " 'VOLKSWAGEN - Suran - 1.6 MSI Trendline (L15)',\n",
       " 'VOLKSWAGEN - Suran - 1.9 SDI Comfortline',\n",
       " 'VOLKSWAGEN - Suran - Cross 1.6 Highline s/cuero (101cv) (MY14 ABG ABS)',\n",
       " 'VOLKSWAGEN - Tiguan Allspace - 1.4 TSi Trendline DSG (150cv)',\n",
       " 'VOLKSWAGEN - Vento - 1.4 TSI AT Highline (150cv) (L19)',\n",
       " 'VOLKSWAGEN - Vento - 2.0 TFSI Sportline DSG (200cv)',\n",
       " 'VOLKSWAGEN - Vento - 2.5 R5 Advance Plus MT (170cv)',\n",
       " 'VOLKSWAGEN - Vento - 2.5 R5 Advance Plus Tiptronic (170cv)',\n",
       " 'VOLKSWAGEN - Vento - 2.5 R5 Luxury MT (170cv) (L11)',\n",
       " 'VOLKSWAGEN - Voyage - 1.6 Trendline / Comfortline (101cv) (MY14 ABG ABS) ']"
      ]
     },
     "execution_count": 93,
     "metadata": {},
     "output_type": "execute_result"
    }
   ],
   "source": [
    "# Marcas-modelo-versiones en cada grupo\n",
    "sorted(list(data[data['cuantil_cant']==1]['marca_modelo_version'].unique()))"
   ]
  },
  {
   "cell_type": "code",
   "execution_count": 94,
   "id": "2f545542-25e2-4f0d-a579-eeb50d6ec1b6",
   "metadata": {},
   "outputs": [
    {
     "data": {
      "text/plain": [
       "array([1, 2, 3])"
      ]
     },
     "execution_count": 94,
     "metadata": {},
     "output_type": "execute_result"
    }
   ],
   "source": [
    "grupos_df = data.copy()\n",
    "# nos quedamos únicamente con los grupos que entran al modelo\n",
    "grupos_df_algor = grupos_df[grupos_df['cuantil_cant'].apply(lambda x: x in [1,2,3])] # == 1\n",
    "# check\n",
    "grupos_df_algor.cuantil_cant.unique()"
   ]
  },
  {
   "cell_type": "code",
   "execution_count": 95,
   "id": "9bb8ab1b-da2d-42ff-9c01-9ffc904d4bb3",
   "metadata": {},
   "outputs": [],
   "source": [
    "grupos_df_algor.rename(columns={'cuantil_cant':'grupos'},inplace=True)"
   ]
  },
  {
   "cell_type": "code",
   "execution_count": 96,
   "id": "b23b2153-1c77-49e4-a04e-8b30fb20c305",
   "metadata": {},
   "outputs": [
    {
     "data": {
      "text/html": [
       "<div>\n",
       "<style scoped>\n",
       "    .dataframe tbody tr th:only-of-type {\n",
       "        vertical-align: middle;\n",
       "    }\n",
       "\n",
       "    .dataframe tbody tr th {\n",
       "        vertical-align: top;\n",
       "    }\n",
       "\n",
       "    .dataframe thead th {\n",
       "        text-align: right;\n",
       "    }\n",
       "</style>\n",
       "<table border=\"1\" class=\"dataframe\">\n",
       "  <thead>\n",
       "    <tr style=\"text-align: right;\">\n",
       "      <th></th>\n",
       "      <th>marca</th>\n",
       "      <th>modelo</th>\n",
       "      <th>version</th>\n",
       "      <th>cant</th>\n",
       "      <th>grupos</th>\n",
       "      <th>bin_cant</th>\n",
       "      <th>marca_modelo_version</th>\n",
       "    </tr>\n",
       "  </thead>\n",
       "  <tbody>\n",
       "    <tr>\n",
       "      <th>0</th>\n",
       "      <td>VOLKSWAGEN</td>\n",
       "      <td>Gol Trend</td>\n",
       "      <td>1.6 MSI 5Ptas. Trendline (101cv) (L17)</td>\n",
       "      <td>386</td>\n",
       "      <td>1</td>\n",
       "      <td>(47.0, 386.0]</td>\n",
       "      <td>VOLKSWAGEN - Gol Trend - 1.6 MSI 5Ptas. Trendl...</td>\n",
       "    </tr>\n",
       "    <tr>\n",
       "      <th>1</th>\n",
       "      <td>PEUGEOT</td>\n",
       "      <td>308</td>\n",
       "      <td>Allure 1.6 HDI NAV (115cv) 5Ptas. (L16)</td>\n",
       "      <td>341</td>\n",
       "      <td>1</td>\n",
       "      <td>(47.0, 386.0]</td>\n",
       "      <td>PEUGEOT - 308 - Allure 1.6 HDI NAV (115cv) 5Pt...</td>\n",
       "    </tr>\n",
       "    <tr>\n",
       "      <th>2</th>\n",
       "      <td>TOYOTA</td>\n",
       "      <td>Etios</td>\n",
       "      <td>1.5 XLS AT (105cv) (L18) 4Ptas.</td>\n",
       "      <td>338</td>\n",
       "      <td>1</td>\n",
       "      <td>(47.0, 386.0]</td>\n",
       "      <td>TOYOTA - Etios - 1.5 XLS AT (105cv) (L18) 4Ptas.</td>\n",
       "    </tr>\n",
       "    <tr>\n",
       "      <th>3</th>\n",
       "      <td>VOLKSWAGEN</td>\n",
       "      <td>Gol Trend</td>\n",
       "      <td>1.6 3Ptas. Trendline / Pack I (101cv)</td>\n",
       "      <td>276</td>\n",
       "      <td>1</td>\n",
       "      <td>(47.0, 386.0]</td>\n",
       "      <td>VOLKSWAGEN - Gol Trend - 1.6 3Ptas. Trendline ...</td>\n",
       "    </tr>\n",
       "    <tr>\n",
       "      <th>4</th>\n",
       "      <td>TOYOTA</td>\n",
       "      <td>Corolla</td>\n",
       "      <td>XEI 1.8 CVT (140cv) (L18)</td>\n",
       "      <td>267</td>\n",
       "      <td>1</td>\n",
       "      <td>(47.0, 386.0]</td>\n",
       "      <td>TOYOTA - Corolla - XEI 1.8 CVT (140cv) (L18)</td>\n",
       "    </tr>\n",
       "  </tbody>\n",
       "</table>\n",
       "</div>"
      ],
      "text/plain": [
       "        marca     modelo                                  version  cant  \\\n",
       "0  VOLKSWAGEN  Gol Trend   1.6 MSI 5Ptas. Trendline (101cv) (L17)   386   \n",
       "1     PEUGEOT        308  Allure 1.6 HDI NAV (115cv) 5Ptas. (L16)   341   \n",
       "2      TOYOTA      Etios          1.5 XLS AT (105cv) (L18) 4Ptas.   338   \n",
       "3  VOLKSWAGEN  Gol Trend   1.6 3Ptas. Trendline / Pack I (101cv)    276   \n",
       "4      TOYOTA    Corolla                XEI 1.8 CVT (140cv) (L18)   267   \n",
       "\n",
       "   grupos       bin_cant                               marca_modelo_version  \n",
       "0       1  (47.0, 386.0]  VOLKSWAGEN - Gol Trend - 1.6 MSI 5Ptas. Trendl...  \n",
       "1       1  (47.0, 386.0]  PEUGEOT - 308 - Allure 1.6 HDI NAV (115cv) 5Pt...  \n",
       "2       1  (47.0, 386.0]   TOYOTA - Etios - 1.5 XLS AT (105cv) (L18) 4Ptas.  \n",
       "3       1  (47.0, 386.0]  VOLKSWAGEN - Gol Trend - 1.6 3Ptas. Trendline ...  \n",
       "4       1  (47.0, 386.0]       TOYOTA - Corolla - XEI 1.8 CVT (140cv) (L18)  "
      ]
     },
     "execution_count": 96,
     "metadata": {},
     "output_type": "execute_result"
    }
   ],
   "source": [
    "grupos_df_algor.head()"
   ]
  },
  {
   "cell_type": "code",
   "execution_count": 97,
   "id": "2996e120-df54-4848-b24d-24dca53baf45",
   "metadata": {},
   "outputs": [],
   "source": [
    "df_grupos = grupos_df_algor[['marca','modelo','version','marca_modelo_version', 'grupos']]"
   ]
  },
  {
   "cell_type": "code",
   "execution_count": 98,
   "id": "a4cb1834-0d4c-4e2c-8937-ce484a92beb6",
   "metadata": {
    "tags": []
   },
   "outputs": [
    {
     "data": {
      "text/html": [
       "<div>\n",
       "<style scoped>\n",
       "    .dataframe tbody tr th:only-of-type {\n",
       "        vertical-align: middle;\n",
       "    }\n",
       "\n",
       "    .dataframe tbody tr th {\n",
       "        vertical-align: top;\n",
       "    }\n",
       "\n",
       "    .dataframe thead th {\n",
       "        text-align: right;\n",
       "    }\n",
       "</style>\n",
       "<table border=\"1\" class=\"dataframe\">\n",
       "  <thead>\n",
       "    <tr style=\"text-align: right;\">\n",
       "      <th></th>\n",
       "      <th>marca</th>\n",
       "      <th>modelo</th>\n",
       "      <th>version</th>\n",
       "      <th>marca_modelo_version</th>\n",
       "      <th>grupos</th>\n",
       "    </tr>\n",
       "  </thead>\n",
       "  <tbody>\n",
       "    <tr>\n",
       "      <th>0</th>\n",
       "      <td>VOLKSWAGEN</td>\n",
       "      <td>Gol Trend</td>\n",
       "      <td>1.6 MSI 5Ptas. Trendline (101cv) (L17)</td>\n",
       "      <td>VOLKSWAGEN - Gol Trend - 1.6 MSI 5Ptas. Trendl...</td>\n",
       "      <td>1</td>\n",
       "    </tr>\n",
       "    <tr>\n",
       "      <th>1</th>\n",
       "      <td>PEUGEOT</td>\n",
       "      <td>308</td>\n",
       "      <td>Allure 1.6 HDI NAV (115cv) 5Ptas. (L16)</td>\n",
       "      <td>PEUGEOT - 308 - Allure 1.6 HDI NAV (115cv) 5Pt...</td>\n",
       "      <td>1</td>\n",
       "    </tr>\n",
       "    <tr>\n",
       "      <th>2</th>\n",
       "      <td>TOYOTA</td>\n",
       "      <td>Etios</td>\n",
       "      <td>1.5 XLS AT (105cv) (L18) 4Ptas.</td>\n",
       "      <td>TOYOTA - Etios - 1.5 XLS AT (105cv) (L18) 4Ptas.</td>\n",
       "      <td>1</td>\n",
       "    </tr>\n",
       "    <tr>\n",
       "      <th>3</th>\n",
       "      <td>VOLKSWAGEN</td>\n",
       "      <td>Gol Trend</td>\n",
       "      <td>1.6 3Ptas. Trendline / Pack I (101cv)</td>\n",
       "      <td>VOLKSWAGEN - Gol Trend - 1.6 3Ptas. Trendline ...</td>\n",
       "      <td>1</td>\n",
       "    </tr>\n",
       "    <tr>\n",
       "      <th>4</th>\n",
       "      <td>TOYOTA</td>\n",
       "      <td>Corolla</td>\n",
       "      <td>XEI 1.8 CVT (140cv) (L18)</td>\n",
       "      <td>TOYOTA - Corolla - XEI 1.8 CVT (140cv) (L18)</td>\n",
       "      <td>1</td>\n",
       "    </tr>\n",
       "    <tr>\n",
       "      <th>...</th>\n",
       "      <td>...</td>\n",
       "      <td>...</td>\n",
       "      <td>...</td>\n",
       "      <td>...</td>\n",
       "      <td>...</td>\n",
       "    </tr>\n",
       "    <tr>\n",
       "      <th>534</th>\n",
       "      <td>TOYOTA</td>\n",
       "      <td>Rav 4</td>\n",
       "      <td>2.0 4x2 VX AT CVT Full (146cv) (L13)</td>\n",
       "      <td>TOYOTA - Rav 4 - 2.0 4x2 VX AT CVT Full (146cv...</td>\n",
       "      <td>3</td>\n",
       "    </tr>\n",
       "    <tr>\n",
       "      <th>535</th>\n",
       "      <td>VOLKSWAGEN</td>\n",
       "      <td>Sharan</td>\n",
       "      <td>1.8 T Trendline</td>\n",
       "      <td>VOLKSWAGEN - Sharan - 1.8 T Trendline</td>\n",
       "      <td>3</td>\n",
       "    </tr>\n",
       "    <tr>\n",
       "      <th>536</th>\n",
       "      <td>CITROEN</td>\n",
       "      <td>C3 Picasso</td>\n",
       "      <td>1.6 VTi 115 Tendance (L13)</td>\n",
       "      <td>CITROEN - C3 Picasso - 1.6 VTi 115 Tendance (L...</td>\n",
       "      <td>3</td>\n",
       "    </tr>\n",
       "    <tr>\n",
       "      <th>537</th>\n",
       "      <td>NISSAN</td>\n",
       "      <td>Versa</td>\n",
       "      <td>1.6 Advance AT (107cv) 4Ptas.</td>\n",
       "      <td>NISSAN - Versa - 1.6 Advance AT (107cv) 4Ptas.</td>\n",
       "      <td>3</td>\n",
       "    </tr>\n",
       "    <tr>\n",
       "      <th>538</th>\n",
       "      <td>CITROEN</td>\n",
       "      <td>C3</td>\n",
       "      <td>1.6 VTi 115 Shine (L16)</td>\n",
       "      <td>CITROEN - C3 - 1.6 VTi 115 Shine (L16)</td>\n",
       "      <td>3</td>\n",
       "    </tr>\n",
       "  </tbody>\n",
       "</table>\n",
       "<p>539 rows × 5 columns</p>\n",
       "</div>"
      ],
      "text/plain": [
       "          marca      modelo                                  version  \\\n",
       "0    VOLKSWAGEN   Gol Trend   1.6 MSI 5Ptas. Trendline (101cv) (L17)   \n",
       "1       PEUGEOT         308  Allure 1.6 HDI NAV (115cv) 5Ptas. (L16)   \n",
       "2        TOYOTA       Etios          1.5 XLS AT (105cv) (L18) 4Ptas.   \n",
       "3    VOLKSWAGEN   Gol Trend   1.6 3Ptas. Trendline / Pack I (101cv)    \n",
       "4        TOYOTA     Corolla                XEI 1.8 CVT (140cv) (L18)   \n",
       "..          ...         ...                                      ...   \n",
       "534      TOYOTA       Rav 4     2.0 4x2 VX AT CVT Full (146cv) (L13)   \n",
       "535  VOLKSWAGEN      Sharan                          1.8 T Trendline   \n",
       "536     CITROEN  C3 Picasso              1.6 VTi 115 Tendance (L13)    \n",
       "537      NISSAN       Versa            1.6 Advance AT (107cv) 4Ptas.   \n",
       "538     CITROEN          C3                  1.6 VTi 115 Shine (L16)   \n",
       "\n",
       "                                  marca_modelo_version  grupos  \n",
       "0    VOLKSWAGEN - Gol Trend - 1.6 MSI 5Ptas. Trendl...       1  \n",
       "1    PEUGEOT - 308 - Allure 1.6 HDI NAV (115cv) 5Pt...       1  \n",
       "2     TOYOTA - Etios - 1.5 XLS AT (105cv) (L18) 4Ptas.       1  \n",
       "3    VOLKSWAGEN - Gol Trend - 1.6 3Ptas. Trendline ...       1  \n",
       "4         TOYOTA - Corolla - XEI 1.8 CVT (140cv) (L18)       1  \n",
       "..                                                 ...     ...  \n",
       "534  TOYOTA - Rav 4 - 2.0 4x2 VX AT CVT Full (146cv...       3  \n",
       "535              VOLKSWAGEN - Sharan - 1.8 T Trendline       3  \n",
       "536  CITROEN - C3 Picasso - 1.6 VTi 115 Tendance (L...       3  \n",
       "537     NISSAN - Versa - 1.6 Advance AT (107cv) 4Ptas.       3  \n",
       "538             CITROEN - C3 - 1.6 VTi 115 Shine (L16)       3  \n",
       "\n",
       "[539 rows x 5 columns]"
      ]
     },
     "execution_count": 98,
     "metadata": {},
     "output_type": "execute_result"
    }
   ],
   "source": [
    "df_grupos"
   ]
  },
  {
   "cell_type": "code",
   "execution_count": 99,
   "id": "63716ecc-00a0-455d-8ec9-e63e2ea89561",
   "metadata": {},
   "outputs": [],
   "source": [
    "df_grupos.to_csv('{}df_grupos.csv'.format(path_datos))"
   ]
  },
  {
   "cell_type": "code",
   "execution_count": 100,
   "id": "1a36a422-a768-4199-9fcb-ecf0d1dcb8c5",
   "metadata": {},
   "outputs": [
    {
     "data": {
      "text/plain": [
       "539"
      ]
     },
     "execution_count": 100,
     "metadata": {},
     "output_type": "execute_result"
    }
   ],
   "source": [
    "marc_mod_vers_OK = list(df_grupos.marca_modelo_version.unique())\n",
    "len(marc_mod_vers_OK)"
   ]
  },
  {
   "cell_type": "code",
   "execution_count": 101,
   "id": "7195a9e2-f015-4b1b-a624-0f83b366a2c9",
   "metadata": {},
   "outputs": [],
   "source": [
    "pd.Series(marc_mod_vers_OK).to_csv('{}marc_mod_vers_OK.csv'.format(path_datos))"
   ]
  },
  {
   "cell_type": "code",
   "execution_count": 102,
   "id": "18dc3d39-aab0-45c5-825b-507517576268",
   "metadata": {},
   "outputs": [
    {
     "name": "stdout",
     "output_type": "stream",
     "text": [
      "(32224, 27)\n"
     ]
    },
    {
     "data": {
      "text/plain": [
       "(26727, 28)"
      ]
     },
     "execution_count": 102,
     "metadata": {},
     "output_type": "execute_result"
    }
   ],
   "source": [
    "# Nos quedamos unicamente con los marca-modelo-version dentro de los grupos 1, 2, 3 y 4\n",
    "\n",
    "old_shape = df.shape\n",
    "print(old_shape)\n",
    "df['marca_modelo_version'] = df['match_marca_a'] + str(' - ') +df['match_modelo_a'] + str(' - ') + df['match_v1_a']\n",
    "mask = df.marca_modelo_version.apply(lambda x: x in marc_mod_vers_OK)\n",
    "df = df[mask]\n",
    "\n",
    "df.shape"
   ]
  },
  {
   "cell_type": "code",
   "execution_count": 103,
   "id": "75d4554e-54be-4f89-af30-17b96176aa1a",
   "metadata": {
    "tags": []
   },
   "outputs": [
    {
     "data": {
      "text/plain": [
       "['ALFA ROMEO',\n",
       " 'AUDI',\n",
       " 'BMW',\n",
       " 'CHERY',\n",
       " 'CHEVROLET',\n",
       " 'CITROEN',\n",
       " 'DS',\n",
       " 'FIAT',\n",
       " 'FORD',\n",
       " 'HONDA',\n",
       " 'HYUNDAI',\n",
       " 'JEEP',\n",
       " 'KIA',\n",
       " 'MERCEDES BENZ',\n",
       " 'MINI',\n",
       " 'NISSAN',\n",
       " 'PEUGEOT',\n",
       " 'RAM',\n",
       " 'RENAULT',\n",
       " 'SUZUKI',\n",
       " 'TOYOTA',\n",
       " 'VOLKSWAGEN']"
      ]
     },
     "execution_count": 103,
     "metadata": {},
     "output_type": "execute_result"
    }
   ],
   "source": [
    "sorted(list(df.match_marca_a.unique()))"
   ]
  },
  {
   "cell_type": "code",
   "execution_count": 104,
   "id": "52cded3d-8a3c-4937-ba88-e8210caffa7c",
   "metadata": {},
   "outputs": [
    {
     "data": {
      "text/plain": [
       "(26727, 28)"
      ]
     },
     "execution_count": 104,
     "metadata": {},
     "output_type": "execute_result"
    }
   ],
   "source": [
    "df.shape"
   ]
  },
  {
   "cell_type": "markdown",
   "id": "28ddcdcf-21df-4d79-9164-ca583a5d5854",
   "metadata": {},
   "source": [
    "### Convertimos los precios en pesos a dolar"
   ]
  },
  {
   "cell_type": "code",
   "execution_count": 105,
   "id": "25c3e63d-4653-493b-9eab-32fa70d8dd59",
   "metadata": {},
   "outputs": [
    {
     "data": {
      "text/plain": [
       "(26727, 28)"
      ]
     },
     "execution_count": 105,
     "metadata": {},
     "output_type": "execute_result"
    }
   ],
   "source": [
    "df.shape"
   ]
  },
  {
   "cell_type": "code",
   "execution_count": 106,
   "id": "2f6a38a8-fedd-4828-b213-28c3e86c7580",
   "metadata": {},
   "outputs": [
    {
     "data": {
      "text/html": [
       "<div>\n",
       "<style scoped>\n",
       "    .dataframe tbody tr th:only-of-type {\n",
       "        vertical-align: middle;\n",
       "    }\n",
       "\n",
       "    .dataframe tbody tr th {\n",
       "        vertical-align: top;\n",
       "    }\n",
       "\n",
       "    .dataframe thead th {\n",
       "        text-align: right;\n",
       "    }\n",
       "</style>\n",
       "<table border=\"1\" class=\"dataframe\">\n",
       "  <thead>\n",
       "    <tr style=\"text-align: right;\">\n",
       "      <th></th>\n",
       "      <th>DATE</th>\n",
       "      <th>SOURCE</th>\n",
       "      <th>VENTA</th>\n",
       "      <th>COMPRA</th>\n",
       "    </tr>\n",
       "  </thead>\n",
       "  <tbody>\n",
       "    <tr>\n",
       "      <th>0</th>\n",
       "      <td>2022-01-03</td>\n",
       "      <td>Blue</td>\n",
       "      <td>206.00</td>\n",
       "      <td>202.00</td>\n",
       "    </tr>\n",
       "    <tr>\n",
       "      <th>1</th>\n",
       "      <td>2022-01-04</td>\n",
       "      <td>Blue</td>\n",
       "      <td>206.50</td>\n",
       "      <td>202.50</td>\n",
       "    </tr>\n",
       "    <tr>\n",
       "      <th>2</th>\n",
       "      <td>2022-01-05</td>\n",
       "      <td>Blue</td>\n",
       "      <td>207.00</td>\n",
       "      <td>203.00</td>\n",
       "    </tr>\n",
       "    <tr>\n",
       "      <th>3</th>\n",
       "      <td>2022-01-06</td>\n",
       "      <td>Blue</td>\n",
       "      <td>208.50</td>\n",
       "      <td>204.50</td>\n",
       "    </tr>\n",
       "    <tr>\n",
       "      <th>4</th>\n",
       "      <td>2022-01-07</td>\n",
       "      <td>Blue</td>\n",
       "      <td>208.00</td>\n",
       "      <td>204.00</td>\n",
       "    </tr>\n",
       "  </tbody>\n",
       "</table>\n",
       "</div>"
      ],
      "text/plain": [
       "        DATE SOURCE  VENTA  COMPRA\n",
       "0 2022-01-03   Blue 206.00  202.00\n",
       "1 2022-01-04   Blue 206.50  202.50\n",
       "2 2022-01-05   Blue 207.00  203.00\n",
       "3 2022-01-06   Blue 208.50  204.50\n",
       "4 2022-01-07   Blue 208.00  204.00"
      ]
     },
     "execution_count": 106,
     "metadata": {},
     "output_type": "execute_result"
    }
   ],
   "source": [
    "df_dolar_values.head()"
   ]
  },
  {
   "cell_type": "code",
   "execution_count": 107,
   "id": "0f7cef7e-6a5e-4eda-ba33-87af215a3e9b",
   "metadata": {},
   "outputs": [
    {
     "data": {
      "text/html": [
       "<div>\n",
       "<style scoped>\n",
       "    .dataframe tbody tr th:only-of-type {\n",
       "        vertical-align: middle;\n",
       "    }\n",
       "\n",
       "    .dataframe tbody tr th {\n",
       "        vertical-align: top;\n",
       "    }\n",
       "\n",
       "    .dataframe thead th {\n",
       "        text-align: right;\n",
       "    }\n",
       "</style>\n",
       "<table border=\"1\" class=\"dataframe\">\n",
       "  <thead>\n",
       "    <tr style=\"text-align: right;\">\n",
       "      <th></th>\n",
       "      <th>date</th>\n",
       "      <th>price_amount</th>\n",
       "    </tr>\n",
       "  </thead>\n",
       "  <tbody>\n",
       "    <tr>\n",
       "      <th>3150565</th>\n",
       "      <td>2022-05-20</td>\n",
       "      <td>1850000</td>\n",
       "    </tr>\n",
       "    <tr>\n",
       "      <th>440043</th>\n",
       "      <td>2022-05-20</td>\n",
       "      <td>1730000</td>\n",
       "    </tr>\n",
       "    <tr>\n",
       "      <th>2766217</th>\n",
       "      <td>2022-05-20</td>\n",
       "      <td>1500000</td>\n",
       "    </tr>\n",
       "    <tr>\n",
       "      <th>3537655</th>\n",
       "      <td>2022-05-20</td>\n",
       "      <td>1950000</td>\n",
       "    </tr>\n",
       "    <tr>\n",
       "      <th>1602327</th>\n",
       "      <td>2022-05-20</td>\n",
       "      <td>1850000</td>\n",
       "    </tr>\n",
       "    <tr>\n",
       "      <th>...</th>\n",
       "      <td>...</td>\n",
       "      <td>...</td>\n",
       "    </tr>\n",
       "    <tr>\n",
       "      <th>531678</th>\n",
       "      <td>2022-05-24</td>\n",
       "      <td>3330000</td>\n",
       "    </tr>\n",
       "    <tr>\n",
       "      <th>2855782</th>\n",
       "      <td>2022-05-24</td>\n",
       "      <td>3500000</td>\n",
       "    </tr>\n",
       "    <tr>\n",
       "      <th>531677</th>\n",
       "      <td>2022-05-24</td>\n",
       "      <td>3500000</td>\n",
       "    </tr>\n",
       "    <tr>\n",
       "      <th>531675</th>\n",
       "      <td>2022-05-24</td>\n",
       "      <td>3300000</td>\n",
       "    </tr>\n",
       "    <tr>\n",
       "      <th>145285</th>\n",
       "      <td>2022-05-24</td>\n",
       "      <td>1500000</td>\n",
       "    </tr>\n",
       "  </tbody>\n",
       "</table>\n",
       "<p>26727 rows × 2 columns</p>\n",
       "</div>"
      ],
      "text/plain": [
       "              date  price_amount\n",
       "3150565 2022-05-20       1850000\n",
       "440043  2022-05-20       1730000\n",
       "2766217 2022-05-20       1500000\n",
       "3537655 2022-05-20       1950000\n",
       "1602327 2022-05-20       1850000\n",
       "...            ...           ...\n",
       "531678  2022-05-24       3330000\n",
       "2855782 2022-05-24       3500000\n",
       "531677  2022-05-24       3500000\n",
       "531675  2022-05-24       3300000\n",
       "145285  2022-05-24       1500000\n",
       "\n",
       "[26727 rows x 2 columns]"
      ]
     },
     "execution_count": 107,
     "metadata": {},
     "output_type": "execute_result"
    }
   ],
   "source": [
    "df[['date','price_amount']]"
   ]
  },
  {
   "cell_type": "code",
   "execution_count": 108,
   "id": "4e6f130d-60c7-44c8-ab5b-75bff001f012",
   "metadata": {},
   "outputs": [
    {
     "data": {
      "text/plain": [
       "array(['Friday', 'Saturday', 'Sunday', 'Monday', 'Tuesday'], dtype=object)"
      ]
     },
     "execution_count": 108,
     "metadata": {},
     "output_type": "execute_result"
    }
   ],
   "source": [
    "# Columna que nos indique dia de semana para ver cuando es finde\n",
    "df['dia_sem'] = df.date.dt.day_of_week\n",
    "dic = {0:'Monday', 1:'Tuesday', 2:'Wednesday', 3:'Thursday', 4:'Friday', 5:'Saturday', 6:'Sunday'}\n",
    "df['dia_sem'] = df.dia_sem.map(dic)\n",
    "df.dia_sem.unique()"
   ]
  },
  {
   "cell_type": "code",
   "execution_count": 109,
   "id": "ae3e3862-e46c-4c4d-b4a4-acc6e6f8bf22",
   "metadata": {},
   "outputs": [],
   "source": [
    "# Ahora crearemos una que le ponga la fecha del viernes anterior a todos los dias que sean findesemana\n",
    "df['date_ok'] = np.where(df['dia_sem'].apply(lambda x: x in ('Saturday','Sunday'))\n",
    "                             ,np.where(df['dia_sem']=='Saturday'\n",
    "                                 ,df['date'] - timedelta(1)\n",
    "                                 ,df['date'] - timedelta(2))\n",
    "                             ,df['date'])"
   ]
  },
  {
   "cell_type": "code",
   "execution_count": 110,
   "id": "7be3affa-f3d6-4ccc-a2b0-99b2c81ea07c",
   "metadata": {},
   "outputs": [
    {
     "data": {
      "text/html": [
       "<div>\n",
       "<style scoped>\n",
       "    .dataframe tbody tr th:only-of-type {\n",
       "        vertical-align: middle;\n",
       "    }\n",
       "\n",
       "    .dataframe tbody tr th {\n",
       "        vertical-align: top;\n",
       "    }\n",
       "\n",
       "    .dataframe thead th {\n",
       "        text-align: right;\n",
       "    }\n",
       "</style>\n",
       "<table border=\"1\" class=\"dataframe\">\n",
       "  <thead>\n",
       "    <tr style=\"text-align: right;\">\n",
       "      <th></th>\n",
       "      <th>date</th>\n",
       "      <th>dia_sem</th>\n",
       "      <th>date_ok</th>\n",
       "    </tr>\n",
       "  </thead>\n",
       "  <tbody>\n",
       "    <tr>\n",
       "      <th>759074</th>\n",
       "      <td>2022-05-21</td>\n",
       "      <td>Saturday</td>\n",
       "      <td>2022-05-20</td>\n",
       "    </tr>\n",
       "    <tr>\n",
       "      <th>802256</th>\n",
       "      <td>2022-05-21</td>\n",
       "      <td>Saturday</td>\n",
       "      <td>2022-05-20</td>\n",
       "    </tr>\n",
       "    <tr>\n",
       "      <th>2695637</th>\n",
       "      <td>2022-05-21</td>\n",
       "      <td>Saturday</td>\n",
       "      <td>2022-05-20</td>\n",
       "    </tr>\n",
       "    <tr>\n",
       "      <th>3634239</th>\n",
       "      <td>2022-05-21</td>\n",
       "      <td>Saturday</td>\n",
       "      <td>2022-05-20</td>\n",
       "    </tr>\n",
       "    <tr>\n",
       "      <th>3634667</th>\n",
       "      <td>2022-05-21</td>\n",
       "      <td>Saturday</td>\n",
       "      <td>2022-05-20</td>\n",
       "    </tr>\n",
       "    <tr>\n",
       "      <th>...</th>\n",
       "      <td>...</td>\n",
       "      <td>...</td>\n",
       "      <td>...</td>\n",
       "    </tr>\n",
       "    <tr>\n",
       "      <th>1735481</th>\n",
       "      <td>2022-05-22</td>\n",
       "      <td>Sunday</td>\n",
       "      <td>2022-05-20</td>\n",
       "    </tr>\n",
       "    <tr>\n",
       "      <th>961102</th>\n",
       "      <td>2022-05-22</td>\n",
       "      <td>Sunday</td>\n",
       "      <td>2022-05-20</td>\n",
       "    </tr>\n",
       "    <tr>\n",
       "      <th>3670990</th>\n",
       "      <td>2022-05-22</td>\n",
       "      <td>Sunday</td>\n",
       "      <td>2022-05-20</td>\n",
       "    </tr>\n",
       "    <tr>\n",
       "      <th>3670977</th>\n",
       "      <td>2022-05-22</td>\n",
       "      <td>Sunday</td>\n",
       "      <td>2022-05-20</td>\n",
       "    </tr>\n",
       "    <tr>\n",
       "      <th>3670993</th>\n",
       "      <td>2022-05-22</td>\n",
       "      <td>Sunday</td>\n",
       "      <td>2022-05-20</td>\n",
       "    </tr>\n",
       "  </tbody>\n",
       "</table>\n",
       "<p>1440 rows × 3 columns</p>\n",
       "</div>"
      ],
      "text/plain": [
       "              date   dia_sem    date_ok\n",
       "759074  2022-05-21  Saturday 2022-05-20\n",
       "802256  2022-05-21  Saturday 2022-05-20\n",
       "2695637 2022-05-21  Saturday 2022-05-20\n",
       "3634239 2022-05-21  Saturday 2022-05-20\n",
       "3634667 2022-05-21  Saturday 2022-05-20\n",
       "...            ...       ...        ...\n",
       "1735481 2022-05-22    Sunday 2022-05-20\n",
       "961102  2022-05-22    Sunday 2022-05-20\n",
       "3670990 2022-05-22    Sunday 2022-05-20\n",
       "3670977 2022-05-22    Sunday 2022-05-20\n",
       "3670993 2022-05-22    Sunday 2022-05-20\n",
       "\n",
       "[1440 rows x 3 columns]"
      ]
     },
     "execution_count": 110,
     "metadata": {},
     "output_type": "execute_result"
    }
   ],
   "source": [
    "# check\n",
    "mask = df.dia_sem.apply(lambda x: x in ['Saturday','Sunday']) \n",
    "df[mask][['date','dia_sem','date_ok']]"
   ]
  },
  {
   "cell_type": "code",
   "execution_count": 111,
   "id": "087a862a-09c3-438c-9b01-7aff22857e83",
   "metadata": {},
   "outputs": [
    {
     "data": {
      "text/html": [
       "<div>\n",
       "<style scoped>\n",
       "    .dataframe tbody tr th:only-of-type {\n",
       "        vertical-align: middle;\n",
       "    }\n",
       "\n",
       "    .dataframe tbody tr th {\n",
       "        vertical-align: top;\n",
       "    }\n",
       "\n",
       "    .dataframe thead th {\n",
       "        text-align: right;\n",
       "    }\n",
       "</style>\n",
       "<table border=\"1\" class=\"dataframe\">\n",
       "  <thead>\n",
       "    <tr style=\"text-align: right;\">\n",
       "      <th></th>\n",
       "      <th>DATE</th>\n",
       "      <th>SOURCE</th>\n",
       "      <th>VENTA</th>\n",
       "      <th>COMPRA</th>\n",
       "    </tr>\n",
       "  </thead>\n",
       "  <tbody>\n",
       "    <tr>\n",
       "      <th>0</th>\n",
       "      <td>2022-01-03</td>\n",
       "      <td>Blue</td>\n",
       "      <td>206.00</td>\n",
       "      <td>202.00</td>\n",
       "    </tr>\n",
       "    <tr>\n",
       "      <th>1</th>\n",
       "      <td>2022-01-04</td>\n",
       "      <td>Blue</td>\n",
       "      <td>206.50</td>\n",
       "      <td>202.50</td>\n",
       "    </tr>\n",
       "    <tr>\n",
       "      <th>2</th>\n",
       "      <td>2022-01-05</td>\n",
       "      <td>Blue</td>\n",
       "      <td>207.00</td>\n",
       "      <td>203.00</td>\n",
       "    </tr>\n",
       "    <tr>\n",
       "      <th>3</th>\n",
       "      <td>2022-01-06</td>\n",
       "      <td>Blue</td>\n",
       "      <td>208.50</td>\n",
       "      <td>204.50</td>\n",
       "    </tr>\n",
       "    <tr>\n",
       "      <th>4</th>\n",
       "      <td>2022-01-07</td>\n",
       "      <td>Blue</td>\n",
       "      <td>208.00</td>\n",
       "      <td>204.00</td>\n",
       "    </tr>\n",
       "  </tbody>\n",
       "</table>\n",
       "</div>"
      ],
      "text/plain": [
       "        DATE SOURCE  VENTA  COMPRA\n",
       "0 2022-01-03   Blue 206.00  202.00\n",
       "1 2022-01-04   Blue 206.50  202.50\n",
       "2 2022-01-05   Blue 207.00  203.00\n",
       "3 2022-01-06   Blue 208.50  204.50\n",
       "4 2022-01-07   Blue 208.00  204.00"
      ]
     },
     "execution_count": 111,
     "metadata": {},
     "output_type": "execute_result"
    }
   ],
   "source": [
    "df_dolar_values.head()"
   ]
  },
  {
   "cell_type": "code",
   "execution_count": 112,
   "id": "30095220-536b-4fc8-b7d8-06d76b3ff103",
   "metadata": {},
   "outputs": [],
   "source": [
    "df_dolar_values.columns = [col.lower() for col in df_dolar_values]"
   ]
  },
  {
   "cell_type": "code",
   "execution_count": 113,
   "id": "817589ac-ae97-4301-80c1-37f1d8336d6d",
   "metadata": {},
   "outputs": [],
   "source": [
    "# Ahora si procedemos a hacer el join con el df_dolar_values\n",
    "df = df.merge(df_dolar_values, how='inner', left_on='date_ok', right_on='date')\n",
    "df.drop(['date_y','source','compra'],1,inplace=True)\n",
    "df.rename(columns={'venta':'blue_venta'},inplace=True)"
   ]
  },
  {
   "cell_type": "code",
   "execution_count": 114,
   "id": "c9ca6681-6686-4aca-929b-0b0c98cf02fd",
   "metadata": {},
   "outputs": [
    {
     "data": {
      "text/html": [
       "<div>\n",
       "<style scoped>\n",
       "    .dataframe tbody tr th:only-of-type {\n",
       "        vertical-align: middle;\n",
       "    }\n",
       "\n",
       "    .dataframe tbody tr th {\n",
       "        vertical-align: top;\n",
       "    }\n",
       "\n",
       "    .dataframe thead th {\n",
       "        text-align: right;\n",
       "    }\n",
       "</style>\n",
       "<table border=\"1\" class=\"dataframe\">\n",
       "  <thead>\n",
       "    <tr style=\"text-align: right;\">\n",
       "      <th></th>\n",
       "      <th>dia_sem</th>\n",
       "      <th>date_ok</th>\n",
       "      <th>blue_venta</th>\n",
       "    </tr>\n",
       "  </thead>\n",
       "  <tbody>\n",
       "    <tr>\n",
       "      <th>1110</th>\n",
       "      <td>Sunday</td>\n",
       "      <td>2022-05-20</td>\n",
       "      <td>204.00</td>\n",
       "    </tr>\n",
       "    <tr>\n",
       "      <th>1111</th>\n",
       "      <td>Sunday</td>\n",
       "      <td>2022-05-20</td>\n",
       "      <td>204.00</td>\n",
       "    </tr>\n",
       "    <tr>\n",
       "      <th>1112</th>\n",
       "      <td>Sunday</td>\n",
       "      <td>2022-05-20</td>\n",
       "      <td>204.00</td>\n",
       "    </tr>\n",
       "    <tr>\n",
       "      <th>1113</th>\n",
       "      <td>Sunday</td>\n",
       "      <td>2022-05-20</td>\n",
       "      <td>204.00</td>\n",
       "    </tr>\n",
       "    <tr>\n",
       "      <th>1114</th>\n",
       "      <td>Sunday</td>\n",
       "      <td>2022-05-20</td>\n",
       "      <td>204.00</td>\n",
       "    </tr>\n",
       "  </tbody>\n",
       "</table>\n",
       "</div>"
      ],
      "text/plain": [
       "     dia_sem    date_ok  blue_venta\n",
       "1110  Sunday 2022-05-20      204.00\n",
       "1111  Sunday 2022-05-20      204.00\n",
       "1112  Sunday 2022-05-20      204.00\n",
       "1113  Sunday 2022-05-20      204.00\n",
       "1114  Sunday 2022-05-20      204.00"
      ]
     },
     "execution_count": 114,
     "metadata": {},
     "output_type": "execute_result"
    }
   ],
   "source": [
    "df[df.dia_sem=='Sunday'].iloc[:5, -3:]"
   ]
  },
  {
   "cell_type": "code",
   "execution_count": 115,
   "id": "9199dd55-69b7-40db-b1a3-cf10e094fdd3",
   "metadata": {},
   "outputs": [
    {
     "data": {
      "text/plain": [
       "$      24547\n",
       "U$S     2180\n",
       "Name: price_symbol, dtype: int64"
      ]
     },
     "execution_count": 115,
     "metadata": {},
     "output_type": "execute_result"
    }
   ],
   "source": [
    "df.price_symbol.value_counts()"
   ]
  },
  {
   "cell_type": "code",
   "execution_count": 116,
   "id": "8e682e5e-c5df-461c-ae5a-24dade55ca00",
   "metadata": {},
   "outputs": [],
   "source": [
    "# Finalmente, creamos la columna de precio final en dolares\n",
    "## Los precios en dolares se mantienen como estan y los precios en pesos se pasan a dolar mediante el blue\n",
    "df['price_meli_ok'] = np.where(df.price_symbol == '$', df.price_amount / df.blue_venta, df.price_amount)"
   ]
  },
  {
   "cell_type": "code",
   "execution_count": 117,
   "id": "5807249b-838b-4781-9a13-f9de9ebd86d4",
   "metadata": {},
   "outputs": [
    {
     "data": {
      "text/html": [
       "<div>\n",
       "<style scoped>\n",
       "    .dataframe tbody tr th:only-of-type {\n",
       "        vertical-align: middle;\n",
       "    }\n",
       "\n",
       "    .dataframe tbody tr th {\n",
       "        vertical-align: top;\n",
       "    }\n",
       "\n",
       "    .dataframe thead th {\n",
       "        text-align: right;\n",
       "    }\n",
       "</style>\n",
       "<table border=\"1\" class=\"dataframe\">\n",
       "  <thead>\n",
       "    <tr style=\"text-align: right;\">\n",
       "      <th></th>\n",
       "      <th>price_symbol</th>\n",
       "      <th>price_amount</th>\n",
       "      <th>date_ok</th>\n",
       "      <th>blue_venta</th>\n",
       "      <th>price_meli_ok</th>\n",
       "    </tr>\n",
       "  </thead>\n",
       "  <tbody>\n",
       "    <tr>\n",
       "      <th>0</th>\n",
       "      <td>$</td>\n",
       "      <td>1850000</td>\n",
       "      <td>2022-05-20</td>\n",
       "      <td>204.00</td>\n",
       "      <td>9068.63</td>\n",
       "    </tr>\n",
       "    <tr>\n",
       "      <th>1</th>\n",
       "      <td>$</td>\n",
       "      <td>1730000</td>\n",
       "      <td>2022-05-20</td>\n",
       "      <td>204.00</td>\n",
       "      <td>8480.39</td>\n",
       "    </tr>\n",
       "    <tr>\n",
       "      <th>2</th>\n",
       "      <td>$</td>\n",
       "      <td>1500000</td>\n",
       "      <td>2022-05-20</td>\n",
       "      <td>204.00</td>\n",
       "      <td>7352.94</td>\n",
       "    </tr>\n",
       "    <tr>\n",
       "      <th>3</th>\n",
       "      <td>$</td>\n",
       "      <td>1950000</td>\n",
       "      <td>2022-05-20</td>\n",
       "      <td>204.00</td>\n",
       "      <td>9558.82</td>\n",
       "    </tr>\n",
       "    <tr>\n",
       "      <th>4</th>\n",
       "      <td>$</td>\n",
       "      <td>1850000</td>\n",
       "      <td>2022-05-20</td>\n",
       "      <td>204.00</td>\n",
       "      <td>9068.63</td>\n",
       "    </tr>\n",
       "  </tbody>\n",
       "</table>\n",
       "</div>"
      ],
      "text/plain": [
       "  price_symbol  price_amount    date_ok  blue_venta  price_meli_ok\n",
       "0            $       1850000 2022-05-20      204.00        9068.63\n",
       "1            $       1730000 2022-05-20      204.00        8480.39\n",
       "2            $       1500000 2022-05-20      204.00        7352.94\n",
       "3            $       1950000 2022-05-20      204.00        9558.82\n",
       "4            $       1850000 2022-05-20      204.00        9068.63"
      ]
     },
     "execution_count": 117,
     "metadata": {},
     "output_type": "execute_result"
    }
   ],
   "source": [
    "df[['price_symbol','price_amount','date_ok','blue_venta','price_meli_ok']].head()"
   ]
  },
  {
   "cell_type": "markdown",
   "id": "e47e7ee9-3749-4199-9d31-1e9b556ce774",
   "metadata": {},
   "source": [
    "Listo! Ya tenemos nuestro target en dolares habiendo usado la cotizacion dolar blue de el dia en que se scrapeo el registro (ultimo dia que estuvo activa la public por el tratamiento de duplicados) para convertir los precios en pesos a dolares"
   ]
  },
  {
   "cell_type": "code",
   "execution_count": 118,
   "id": "c5fcc1f0-4495-4f54-9fc1-9b2fc95bf008",
   "metadata": {},
   "outputs": [
    {
     "data": {
      "text/plain": [
       "(26727, 32)"
      ]
     },
     "execution_count": 118,
     "metadata": {},
     "output_type": "execute_result"
    }
   ],
   "source": [
    "df.shape"
   ]
  },
  {
   "cell_type": "markdown",
   "id": "f8a4f0fd-0a38-4a32-939b-aa7a4bf2804f",
   "metadata": {
    "tags": []
   },
   "source": [
    "### Salvamos el dataset listo para el split"
   ]
  },
  {
   "cell_type": "code",
   "execution_count": 119,
   "id": "7593f7be-fd5b-4e1d-93ac-d58152b8d3c5",
   "metadata": {},
   "outputs": [],
   "source": [
    "# checkpoint download\n",
    "df.to_csv('{}df_checkpoint_2.pkl'.format(path_datos))"
   ]
  },
  {
   "cell_type": "code",
   "execution_count": 120,
   "id": "8e66900d-e3b1-48e5-847e-326a55fc2607",
   "metadata": {},
   "outputs": [],
   "source": [
    "# checkpoint upload\n",
    "#df = pd.read_csv('{}df_checkpoint_2.pkl'.format(path_save))"
   ]
  },
  {
   "cell_type": "code",
   "execution_count": 121,
   "id": "d2ed41e3-45d3-4916-aba4-638837057fc4",
   "metadata": {},
   "outputs": [
    {
     "data": {
      "text/plain": [
       "(26727, 32)"
      ]
     },
     "execution_count": 121,
     "metadata": {},
     "output_type": "execute_result"
    }
   ],
   "source": [
    "df.shape"
   ]
  },
  {
   "cell_type": "markdown",
   "id": "09fb13ff-2734-4060-a328-97f203a9e029",
   "metadata": {},
   "source": [
    "# Split"
   ]
  },
  {
   "cell_type": "code",
   "execution_count": 122,
   "id": "e1d6560e-eb34-4a1c-99d4-c5b9c341bbfd",
   "metadata": {},
   "outputs": [],
   "source": [
    "model_features = ['car_year','car_kms','match_marca_a','match_modelo_a','match_v1_a','match_v1_c', 'Subseg_a', 'Seg_a']\n",
    "target = ['price_meli_ok']\n",
    "id_feature = ['car_id']"
   ]
  },
  {
   "cell_type": "code",
   "execution_count": 123,
   "id": "9bed9e6c-458a-4330-9e16-f0b04df9e4eb",
   "metadata": {},
   "outputs": [
    {
     "data": {
      "text/plain": [
       "<AxesSubplot:xlabel='price_meli_ok', ylabel='Density'>"
      ]
     },
     "execution_count": 123,
     "metadata": {},
     "output_type": "execute_result"
    },
    {
     "data": {
      "image/png": "[encoded data removed]",
      "text/plain": [
       "<Figure size 432x288 with 1 Axes>"
      ]
     },
     "metadata": {
      "needs_background": "light"
     },
     "output_type": "display_data"
    }
   ],
   "source": [
    "sns.distplot(df.price_meli_ok)"
   ]
  },
  {
   "cell_type": "code",
   "execution_count": 124,
   "id": "67d916aa-7d2c-45c5-b156-7a54b883cc11",
   "metadata": {},
   "outputs": [
    {
     "data": {
      "text/plain": [
       "count     26727.00\n",
       "mean      13098.35\n",
       "std       16401.68\n",
       "min         480.77\n",
       "10%        5528.85\n",
       "25%        7211.54\n",
       "50%       10500.00\n",
       "75%       15625.00\n",
       "90%       22518.16\n",
       "99%       45900.00\n",
       "99.9%     74927.40\n",
       "max     1200000.00\n",
       "Name: price_meli_ok, dtype: float64"
      ]
     },
     "execution_count": 124,
     "metadata": {},
     "output_type": "execute_result"
    }
   ],
   "source": [
    "df.price_meli_ok.describe(percentiles=[0.1,0.25,0.5,0.75,0.9,0.99, 0.999])"
   ]
  },
  {
   "cell_type": "code",
   "execution_count": 125,
   "id": "cd663423-7691-4d0a-889f-0cac73ca28e9",
   "metadata": {},
   "outputs": [
    {
     "name": "stdout",
     "output_type": "stream",
     "text": [
      "(21381, 9) (5346, 9)\n"
     ]
    }
   ],
   "source": [
    "###### Split #######\n",
    "\n",
    "X = df[model_features + id_feature]\n",
    "y = df.price_meli_ok\n",
    "\n",
    "# 200 bines para discretizar la variable continua\n",
    "bins = np.linspace(0, len(y), 20)\n",
    "# Save your Y values in a new ndarray,\n",
    "# broken down by the bins created above.\n",
    "y_binned = np.digitize(y, bins)\n",
    "\n",
    "X_train, X_test, y_train, y_test = train_test_split(X,y, test_size=0.20,  stratify=y_binned,random_state=42)\n",
    "print(X_train.shape, X_test.shape)"
   ]
  },
  {
   "cell_type": "code",
   "execution_count": 126,
   "id": "26a52a1b-2448-4e4b-9a3c-4d2cc44db705",
   "metadata": {},
   "outputs": [
    {
     "data": {
      "text/html": [
       "<div>\n",
       "<style scoped>\n",
       "    .dataframe tbody tr th:only-of-type {\n",
       "        vertical-align: middle;\n",
       "    }\n",
       "\n",
       "    .dataframe tbody tr th {\n",
       "        vertical-align: top;\n",
       "    }\n",
       "\n",
       "    .dataframe thead th {\n",
       "        text-align: right;\n",
       "    }\n",
       "</style>\n",
       "<table border=\"1\" class=\"dataframe\">\n",
       "  <thead>\n",
       "    <tr style=\"text-align: right;\">\n",
       "      <th></th>\n",
       "      <th>price_train</th>\n",
       "      <th>price_test</th>\n",
       "    </tr>\n",
       "  </thead>\n",
       "  <tbody>\n",
       "    <tr>\n",
       "      <th>count</th>\n",
       "      <td>21381.00</td>\n",
       "      <td>5346.00</td>\n",
       "    </tr>\n",
       "    <tr>\n",
       "      <th>mean</th>\n",
       "      <td>13091.58</td>\n",
       "      <td>13125.39</td>\n",
       "    </tr>\n",
       "    <tr>\n",
       "      <th>std</th>\n",
       "      <td>15691.35</td>\n",
       "      <td>18980.30</td>\n",
       "    </tr>\n",
       "    <tr>\n",
       "      <th>min</th>\n",
       "      <td>581.11</td>\n",
       "      <td>480.77</td>\n",
       "    </tr>\n",
       "    <tr>\n",
       "      <th>0.1%</th>\n",
       "      <td>2228.01</td>\n",
       "      <td>2246.39</td>\n",
       "    </tr>\n",
       "    <tr>\n",
       "      <th>1%</th>\n",
       "      <td>3605.77</td>\n",
       "      <td>3605.77</td>\n",
       "    </tr>\n",
       "    <tr>\n",
       "      <th>10%</th>\n",
       "      <td>5528.85</td>\n",
       "      <td>5528.85</td>\n",
       "    </tr>\n",
       "    <tr>\n",
       "      <th>25%</th>\n",
       "      <td>7211.54</td>\n",
       "      <td>7211.54</td>\n",
       "    </tr>\n",
       "    <tr>\n",
       "      <th>50%</th>\n",
       "      <td>10500.00</td>\n",
       "      <td>10500.00</td>\n",
       "    </tr>\n",
       "    <tr>\n",
       "      <th>75%</th>\n",
       "      <td>15625.00</td>\n",
       "      <td>15689.12</td>\n",
       "    </tr>\n",
       "    <tr>\n",
       "      <th>90%</th>\n",
       "      <td>22518.16</td>\n",
       "      <td>22518.16</td>\n",
       "    </tr>\n",
       "    <tr>\n",
       "      <th>99%</th>\n",
       "      <td>45673.08</td>\n",
       "      <td>46412.60</td>\n",
       "    </tr>\n",
       "    <tr>\n",
       "      <th>max</th>\n",
       "      <td>1200000.00</td>\n",
       "      <td>1200000.00</td>\n",
       "    </tr>\n",
       "  </tbody>\n",
       "</table>\n",
       "</div>"
      ],
      "text/plain": [
       "       price_train  price_test\n",
       "count     21381.00     5346.00\n",
       "mean      13091.58    13125.39\n",
       "std       15691.35    18980.30\n",
       "min         581.11      480.77\n",
       "0.1%       2228.01     2246.39\n",
       "1%         3605.77     3605.77\n",
       "10%        5528.85     5528.85\n",
       "25%        7211.54     7211.54\n",
       "50%       10500.00    10500.00\n",
       "75%       15625.00    15689.12\n",
       "90%       22518.16    22518.16\n",
       "99%       45673.08    46412.60\n",
       "max     1200000.00  1200000.00"
      ]
     },
     "execution_count": 126,
     "metadata": {},
     "output_type": "execute_result"
    }
   ],
   "source": [
    "# chequeamos distribuciones del target en ambos dfs\n",
    "a = pd.concat([y_train.describe(percentiles=[0.001,0.01,0.1,0.25,0.5,0.75,0.9,0.99])\n",
    "              ,y_test.describe(percentiles=[0.001,0.01,0.1,0.25,0.5,0.75,0.9,0.99])],axis=1)\n",
    "a.columns = ['price_train','price_test']\n",
    "a"
   ]
  },
  {
   "cell_type": "code",
   "execution_count": 127,
   "id": "68c39a8f-885d-4d75-af88-db3ada1c368e",
   "metadata": {},
   "outputs": [
    {
     "data": {
      "text/plain": [
       "<AxesSubplot:xlabel='price_meli_ok', ylabel='Density'>"
      ]
     },
     "execution_count": 127,
     "metadata": {},
     "output_type": "execute_result"
    },
    {
     "data": {
      "image/png": "[encoded data removed]",
      "text/plain": [
       "<Figure size 432x288 with 1 Axes>"
      ]
     },
     "metadata": {
      "needs_background": "light"
     },
     "output_type": "display_data"
    }
   ],
   "source": [
    "sns.distplot(y_train)"
   ]
  },
  {
   "cell_type": "code",
   "execution_count": 128,
   "id": "a4978372-9d93-47a3-a56e-8b243f235a8d",
   "metadata": {},
   "outputs": [
    {
     "data": {
      "text/plain": [
       "<AxesSubplot:xlabel='price_meli_ok', ylabel='Density'>"
      ]
     },
     "execution_count": 128,
     "metadata": {},
     "output_type": "execute_result"
    },
    {
     "data": {
      "image/png": "[encoded data removed]",
      "text/plain": [
       "<Figure size 432x288 with 1 Axes>"
      ]
     },
     "metadata": {
      "needs_background": "light"
     },
     "output_type": "display_data"
    }
   ],
   "source": [
    "sns.distplot(y_test)"
   ]
  },
  {
   "cell_type": "code",
   "execution_count": 129,
   "id": "7fd85197-1e47-4a35-91d7-5832c206e404",
   "metadata": {},
   "outputs": [
    {
     "data": {
      "text/html": [
       "<div>\n",
       "<style scoped>\n",
       "    .dataframe tbody tr th:only-of-type {\n",
       "        vertical-align: middle;\n",
       "    }\n",
       "\n",
       "    .dataframe tbody tr th {\n",
       "        vertical-align: top;\n",
       "    }\n",
       "\n",
       "    .dataframe thead th {\n",
       "        text-align: right;\n",
       "    }\n",
       "</style>\n",
       "<table border=\"1\" class=\"dataframe\">\n",
       "  <thead>\n",
       "    <tr style=\"text-align: right;\">\n",
       "      <th></th>\n",
       "      <th>kms_train</th>\n",
       "      <th>kms_test</th>\n",
       "    </tr>\n",
       "  </thead>\n",
       "  <tbody>\n",
       "    <tr>\n",
       "      <th>count</th>\n",
       "      <td>21381.00</td>\n",
       "      <td>5346.00</td>\n",
       "    </tr>\n",
       "    <tr>\n",
       "      <th>mean</th>\n",
       "      <td>106597.41</td>\n",
       "      <td>105147.31</td>\n",
       "    </tr>\n",
       "    <tr>\n",
       "      <th>std</th>\n",
       "      <td>70848.05</td>\n",
       "      <td>68335.61</td>\n",
       "    </tr>\n",
       "    <tr>\n",
       "      <th>min</th>\n",
       "      <td>100.00</td>\n",
       "      <td>500.00</td>\n",
       "    </tr>\n",
       "    <tr>\n",
       "      <th>0.5%</th>\n",
       "      <td>1800.00</td>\n",
       "      <td>2316.68</td>\n",
       "    </tr>\n",
       "    <tr>\n",
       "      <th>1%</th>\n",
       "      <td>4820.80</td>\n",
       "      <td>5000.00</td>\n",
       "    </tr>\n",
       "    <tr>\n",
       "      <th>10%</th>\n",
       "      <td>30000.00</td>\n",
       "      <td>29850.00</td>\n",
       "    </tr>\n",
       "    <tr>\n",
       "      <th>25%</th>\n",
       "      <td>60000.00</td>\n",
       "      <td>59800.00</td>\n",
       "    </tr>\n",
       "    <tr>\n",
       "      <th>50%</th>\n",
       "      <td>99000.00</td>\n",
       "      <td>97000.00</td>\n",
       "    </tr>\n",
       "    <tr>\n",
       "      <th>75%</th>\n",
       "      <td>142000.00</td>\n",
       "      <td>140000.00</td>\n",
       "    </tr>\n",
       "    <tr>\n",
       "      <th>90%</th>\n",
       "      <td>185000.00</td>\n",
       "      <td>184000.00</td>\n",
       "    </tr>\n",
       "    <tr>\n",
       "      <th>99%</th>\n",
       "      <td>300000.00</td>\n",
       "      <td>299494.65</td>\n",
       "    </tr>\n",
       "    <tr>\n",
       "      <th>max</th>\n",
       "      <td>2000000.00</td>\n",
       "      <td>1200000.00</td>\n",
       "    </tr>\n",
       "  </tbody>\n",
       "</table>\n",
       "</div>"
      ],
      "text/plain": [
       "       kms_train   kms_test\n",
       "count   21381.00    5346.00\n",
       "mean   106597.41  105147.31\n",
       "std     70848.05   68335.61\n",
       "min       100.00     500.00\n",
       "0.5%     1800.00    2316.68\n",
       "1%       4820.80    5000.00\n",
       "10%     30000.00   29850.00\n",
       "25%     60000.00   59800.00\n",
       "50%     99000.00   97000.00\n",
       "75%    142000.00  140000.00\n",
       "90%    185000.00  184000.00\n",
       "99%    300000.00  299494.65\n",
       "max   2000000.00 1200000.00"
      ]
     },
     "execution_count": 129,
     "metadata": {},
     "output_type": "execute_result"
    }
   ],
   "source": [
    "# chequeamos distribuciones de kms en ambos dfs\n",
    "a = pd.concat([X_train.car_kms.describe(percentiles=[0.005,0.01,0.1,0.25,0.5,0.75,0.9,0.99])\n",
    "              ,X_test.car_kms.describe(percentiles=[0.005, 0.01,0.1,0.25,0.5,0.75,0.9,0.99])],axis=1)\n",
    "a.columns = ['kms_train','kms_test']\n",
    "a"
   ]
  },
  {
   "cell_type": "code",
   "execution_count": 130,
   "id": "cf482973-48d0-47c9-9d83-501d0e5dad35",
   "metadata": {},
   "outputs": [],
   "source": [
    "df_train = pd.concat([X_train,y_train],1)\n",
    "df_test = pd.concat([X_test,y_test],1)"
   ]
  },
  {
   "cell_type": "markdown",
   "id": "2e22bcf0-720f-4201-a581-37bfcd381a11",
   "metadata": {},
   "source": [
    "De ahora en más trabajamos solo sobre df_train para evitar data leakage."
   ]
  },
  {
   "cell_type": "code",
   "execution_count": 131,
   "id": "0e6daec4-8c2e-43f6-bb22-8730d4fb6c7a",
   "metadata": {},
   "outputs": [],
   "source": [
    "del df"
   ]
  },
  {
   "cell_type": "markdown",
   "id": "cb73f8f8-566b-41aa-a9c1-32101230fb46",
   "metadata": {},
   "source": [
    "### Salvamos los df de train y test"
   ]
  },
  {
   "cell_type": "code",
   "execution_count": 132,
   "id": "1c0a3293-5410-4a26-97fb-ae3905a65d5c",
   "metadata": {},
   "outputs": [],
   "source": [
    "df_train.to_csv('{}df_train_checkpoint_3.pkl'.format(path_datos))\n",
    "df_test.to_csv('{}df_test_checkpoint_3.pkl'.format(path_datos))"
   ]
  },
  {
   "cell_type": "markdown",
   "id": "c23915de-5d9a-44b0-a168-4248e64b0d6e",
   "metadata": {
    "tags": []
   },
   "source": [
    "# *Tratamiento de outliers nº1*"
   ]
  },
  {
   "cell_type": "code",
   "execution_count": 133,
   "id": "64402e2b-94fa-4746-add7-214e04824c52",
   "metadata": {},
   "outputs": [],
   "source": [
    "model_features = ['car_year','car_kms','match_marca_a','match_modelo_a','match_v1_a','match_v1_c', 'Subseg_a', 'Seg_a']\n",
    "target = ['price_meli_ok']\n",
    "id_features = ['runtime','car_id']"
   ]
  },
  {
   "cell_type": "code",
   "execution_count": 134,
   "id": "92e27a73-d0f7-4307-8b49-54189a5efe99",
   "metadata": {},
   "outputs": [
    {
     "data": {
      "text/plain": [
       "count     21381.00\n",
       "mean      13091.58\n",
       "std       15691.35\n",
       "min         581.11\n",
       "0.5%       3221.15\n",
       "1%         3605.77\n",
       "25%        7211.54\n",
       "50%       10500.00\n",
       "75%       15625.00\n",
       "99%       45673.08\n",
       "99.5%     54326.92\n",
       "99.8%     62254.62\n",
       "99.9%     73860.00\n",
       "max     1200000.00\n",
       "Name: price_meli_ok, dtype: float64"
      ]
     },
     "execution_count": 134,
     "metadata": {},
     "output_type": "execute_result"
    }
   ],
   "source": [
    "df_train.price_meli_ok.describe(percentiles=[0.005, 0.01,0.25,0.75,0.99,0.995,0.998,0.999])"
   ]
  },
  {
   "cell_type": "code",
   "execution_count": 135,
   "id": "309369ac-57cd-4b5e-a20d-3eb99685cfea",
   "metadata": {},
   "outputs": [
    {
     "data": {
      "text/plain": [
       "(21381, 10)"
      ]
     },
     "execution_count": 135,
     "metadata": {},
     "output_type": "execute_result"
    }
   ],
   "source": [
    "df_train.shape"
   ]
  },
  {
   "cell_type": "code",
   "execution_count": 136,
   "id": "ed0ba492-c308-4d29-a4b7-71531a227c4f",
   "metadata": {},
   "outputs": [
    {
     "data": {
      "text/plain": [
       "<AxesSubplot:xlabel='price_meli_ok'>"
      ]
     },
     "execution_count": 136,
     "metadata": {},
     "output_type": "execute_result"
    },
    {
     "data": {
      "image/png": "[encoded data removed]",
      "text/plain": [
       "<Figure size 432x288 with 1 Axes>"
      ]
     },
     "metadata": {
      "needs_background": "light"
     },
     "output_type": "display_data"
    }
   ],
   "source": [
    "sns.boxplot(df_train.price_meli_ok)"
   ]
  },
  {
   "cell_type": "code",
   "execution_count": 137,
   "id": "86abc305-08d6-4e88-b87a-6c2a35274075",
   "metadata": {},
   "outputs": [],
   "source": [
    "# creamos diccionarios para guardar la info de capeo de outliers\n",
    "thresh_outliers_1 = {}"
   ]
  },
  {
   "cell_type": "code",
   "execution_count": 138,
   "id": "01161d00-c2a0-4621-9cca-4049d2e6fa2d",
   "metadata": {},
   "outputs": [],
   "source": [
    "# dropmeamos outliers globales de price\n",
    "p_995 = df_train.price_meli_ok.quantile(0.995)\n",
    "# guardamos la info de train para luego aplicarla en test\n",
    "thresh_outliers_1['price_p995'] = p_995\n",
    "mask = df_train.price_meli_ok <= p_995\n",
    "df_train = df_train[mask]"
   ]
  },
  {
   "cell_type": "code",
   "execution_count": 139,
   "id": "42894cda-6319-4f03-97b8-fc42b098632c",
   "metadata": {},
   "outputs": [
    {
     "data": {
      "text/plain": [
       "<AxesSubplot:xlabel='price_meli_ok'>"
      ]
     },
     "execution_count": 139,
     "metadata": {},
     "output_type": "execute_result"
    },
    {
     "data": {
      "image/png": "[encoded data removed]",
      "text/plain": [
       "<Figure size 432x288 with 1 Axes>"
      ]
     },
     "metadata": {
      "needs_background": "light"
     },
     "output_type": "display_data"
    }
   ],
   "source": [
    "sns.boxplot(df_train.price_meli_ok)"
   ]
  },
  {
   "cell_type": "code",
   "execution_count": 140,
   "id": "cf54ab26-9655-4763-8223-1ae1916f5e16",
   "metadata": {},
   "outputs": [
    {
     "data": {
      "text/plain": [
       "count   21275.00\n",
       "mean    12581.50\n",
       "std      7833.06\n",
       "min       581.11\n",
       "0.1%     2214.39\n",
       "1%       3605.77\n",
       "5%       4567.31\n",
       "10%      5528.85\n",
       "25%      7211.54\n",
       "50%     10411.62\n",
       "75%     15496.37\n",
       "99%     42000.00\n",
       "max     54326.92\n",
       "Name: price_meli_ok, dtype: float64"
      ]
     },
     "execution_count": 140,
     "metadata": {},
     "output_type": "execute_result"
    }
   ],
   "source": [
    "df_train.price_meli_ok.describe(percentiles=[0.001,0.01,0.05,0.1,0.25,0.75,0.99])"
   ]
  },
  {
   "cell_type": "code",
   "execution_count": 141,
   "id": "89a175c5-d059-4580-8b8b-038c86fb6f7b",
   "metadata": {},
   "outputs": [
    {
     "data": {
      "text/plain": [
       "<AxesSubplot:xlabel='price_meli_ok', ylabel='Density'>"
      ]
     },
     "execution_count": 141,
     "metadata": {},
     "output_type": "execute_result"
    },
    {
     "data": {
      "image/png": "[encoded data removed]",
      "text/plain": [
       "<Figure size 432x288 with 1 Axes>"
      ]
     },
     "metadata": {
      "needs_background": "light"
     },
     "output_type": "display_data"
    }
   ],
   "source": [
    "sns.distplot(df_train.price_meli_ok)"
   ]
  },
  {
   "cell_type": "code",
   "execution_count": 142,
   "id": "dc6dd15e-45c0-48fc-b541-77d340fab640",
   "metadata": {},
   "outputs": [
    {
     "data": {
      "text/plain": [
       "(21275, 10)"
      ]
     },
     "execution_count": 142,
     "metadata": {},
     "output_type": "execute_result"
    }
   ],
   "source": [
    "df_train.shape"
   ]
  },
  {
   "cell_type": "markdown",
   "id": "312aeaa4-ffdf-4dd4-b1fd-69e10eaa5e21",
   "metadata": {},
   "source": [
    "**Ahora lo mismo pero para kms**"
   ]
  },
  {
   "cell_type": "code",
   "execution_count": 143,
   "id": "32d28b92-ca02-4d49-abda-9e301edf9b34",
   "metadata": {},
   "outputs": [
    {
     "data": {
      "text/plain": [
       "count     21275.00\n",
       "mean     106929.30\n",
       "std       70761.15\n",
       "min         100.00\n",
       "0.5%       2000.00\n",
       "1%         5000.00\n",
       "25%       60000.00\n",
       "50%       99500.00\n",
       "75%      142250.00\n",
       "99%      300000.00\n",
       "99.5%    346630.00\n",
       "99.8%    424520.00\n",
       "99.9%    541342.00\n",
       "max     2000000.00\n",
       "Name: car_kms, dtype: float64"
      ]
     },
     "execution_count": 143,
     "metadata": {},
     "output_type": "execute_result"
    }
   ],
   "source": [
    "df_train.car_kms.describe(percentiles=[0.005, 0.01,0.25,0.75,0.99,0.995,0.998,0.999])"
   ]
  },
  {
   "cell_type": "code",
   "execution_count": 144,
   "id": "bbfbfafc-9cc0-45cb-a16d-c9474000e6f0",
   "metadata": {},
   "outputs": [
    {
     "data": {
      "text/plain": [
       "<AxesSubplot:xlabel='car_kms'>"
      ]
     },
     "execution_count": 144,
     "metadata": {},
     "output_type": "execute_result"
    },
    {
     "data": {
      "image/png": "[encoded data removed]",
      "text/plain": [
       "<Figure size 432x288 with 1 Axes>"
      ]
     },
     "metadata": {
      "needs_background": "light"
     },
     "output_type": "display_data"
    }
   ],
   "source": [
    "sns.boxplot(df_train.car_kms)"
   ]
  },
  {
   "cell_type": "code",
   "execution_count": 145,
   "id": "30d3d89d-aadf-42bd-8895-e605cf7a5d69",
   "metadata": {},
   "outputs": [
    {
     "data": {
      "text/plain": [
       "107"
      ]
     },
     "execution_count": 145,
     "metadata": {},
     "output_type": "execute_result"
    }
   ],
   "source": [
    "p_995 = df_train.car_kms.quantile(0.995)\n",
    "# guardamos la info de train para luego aplicarla en test\n",
    "thresh_outliers_1['kms_p995'] = p_995\n",
    "mask = df_train.car_kms > p_995\n",
    "len(df_train[mask])"
   ]
  },
  {
   "cell_type": "code",
   "execution_count": 146,
   "id": "33f77f53-2a60-4844-9c7b-2d12b689a6af",
   "metadata": {},
   "outputs": [],
   "source": [
    "# dropeamos outliers globales de car_kms\n",
    "df_train = df_train[~mask]"
   ]
  },
  {
   "cell_type": "code",
   "execution_count": 147,
   "id": "a87695f1-fd82-4f85-8c63-017c4e3f7828",
   "metadata": {},
   "outputs": [],
   "source": [
    "# We are now able to save the dict with the information learned in the train set regarding the thresholds to cap outliers\n",
    "import json\n",
    "with open(f'{path_datos}thresh_outliers_1.json', 'w') as fp:\n",
    "    json.dump(thresh_outliers_1, fp)"
   ]
  },
  {
   "cell_type": "code",
   "execution_count": 148,
   "id": "4421b468-eca6-4bb7-9e8e-34d76095f015",
   "metadata": {},
   "outputs": [
    {
     "data": {
      "text/plain": [
       "<AxesSubplot:xlabel='car_kms'>"
      ]
     },
     "execution_count": 148,
     "metadata": {},
     "output_type": "execute_result"
    },
    {
     "data": {
      "image/png": "[encoded data removed]",
      "text/plain": [
       "<Figure size 432x288 with 1 Axes>"
      ]
     },
     "metadata": {
      "needs_background": "light"
     },
     "output_type": "display_data"
    }
   ],
   "source": [
    "sns.boxplot(df_train.car_kms)"
   ]
  },
  {
   "cell_type": "markdown",
   "id": "5d895374-7bdc-422b-84b0-c8fceb81efc5",
   "metadata": {},
   "source": [
    "*Revision valores extremos o raros en car_year*"
   ]
  },
  {
   "cell_type": "code",
   "execution_count": 149,
   "id": "a5300712-39b7-4825-9f38-72663ddce66b",
   "metadata": {},
   "outputs": [
    {
     "data": {
      "text/plain": [
       "count   21168.00\n",
       "mean     2013.94\n",
       "std         3.63\n",
       "min      2006.00\n",
       "0.5%     2006.00\n",
       "1%       2006.00\n",
       "25%      2011.00\n",
       "50%      2014.00\n",
       "75%      2017.00\n",
       "99%      2021.00\n",
       "99.8%    2021.00\n",
       "99.9%    2021.00\n",
       "max      2021.00\n",
       "Name: car_year, dtype: float64"
      ]
     },
     "execution_count": 149,
     "metadata": {},
     "output_type": "execute_result"
    }
   ],
   "source": [
    "df_train.car_year.describe(percentiles=[0.005, 0.01,0.25,0.75,0.99,0.998,0.999])"
   ]
  },
  {
   "cell_type": "markdown",
   "id": "b5b0fbb3-cd7d-4262-b4c8-0126dd7efadb",
   "metadata": {},
   "source": [
    "Vemos que no hay outliers ni casos raros en la variable de año"
   ]
  },
  {
   "cell_type": "code",
   "execution_count": 150,
   "id": "3736118d-2777-4b28-afd1-44cf161c4ca2",
   "metadata": {},
   "outputs": [
    {
     "data": {
      "text/plain": [
       "[2006,\n",
       " 2007,\n",
       " 2008,\n",
       " 2009,\n",
       " 2010,\n",
       " 2011,\n",
       " 2012,\n",
       " 2013,\n",
       " 2014,\n",
       " 2015,\n",
       " 2016,\n",
       " 2017,\n",
       " 2018,\n",
       " 2019,\n",
       " 2020,\n",
       " 2021]"
      ]
     },
     "execution_count": 150,
     "metadata": {},
     "output_type": "execute_result"
    }
   ],
   "source": [
    "sorted(list(df_train.car_year.unique()))"
   ]
  },
  {
   "cell_type": "code",
   "execution_count": 151,
   "id": "b0b7aa81-ed12-4061-8d87-f4ed1230be47",
   "metadata": {},
   "outputs": [
    {
     "data": {
      "image/png": "[encoded data removed]",
      "text/plain": [
       "<Figure size 720x360 with 1 Axes>"
      ]
     },
     "metadata": {
      "needs_background": "light"
     },
     "output_type": "display_data"
    }
   ],
   "source": [
    "# plot distribution\n",
    "fig = plt.figure(figsize = (10, 5))\n",
    "sns.countplot(df_train.car_year)\n",
    "plt.xlabel(\"Year count\")\n",
    "plt.show()"
   ]
  },
  {
   "cell_type": "code",
   "execution_count": 152,
   "id": "f4189bf7-55c6-46cf-a18b-58c6b1ae51c8",
   "metadata": {},
   "outputs": [],
   "source": [
    "df_train['car_year'] = df_train['car_year'].astype('int')"
   ]
  },
  {
   "cell_type": "markdown",
   "id": "06f272c7-1cd9-4f86-9a76-e2b2a1fb9582",
   "metadata": {},
   "source": [
    "***Fin del tratamiento de outliers nº1***"
   ]
  },
  {
   "cell_type": "markdown",
   "id": "a5fe3dcd-9daa-4c1f-be78-facb7603bcbf",
   "metadata": {},
   "source": [
    "### *Tratamiento de outliers nº2*\n",
    "* Es un tratamiento profundo donde buscamos **outliers por contexto** (outliers a nivel de agg marca-modelo-año)\n",
    "* Notar que se hace despues del Split sobre el train, para evitar data leakage! Es decir: fit_transform sobre train y transform sobre test\n",
    "* Luego lo aplicaremos sobre test pero con los thresholds de outliers aprendidos en train."
   ]
  },
  {
   "cell_type": "code",
   "execution_count": 153,
   "id": "854d7895-6294-487e-b480-871e43d03bb3",
   "metadata": {},
   "outputs": [
    {
     "data": {
      "text/plain": [
       "dtype('int64')"
      ]
     },
     "execution_count": 153,
     "metadata": {},
     "output_type": "execute_result"
    }
   ],
   "source": [
    "df_train['car_year'].dtype"
   ]
  },
  {
   "cell_type": "code",
   "execution_count": 154,
   "id": "60c3eda7-8363-4923-8b08-8672c638b1ae",
   "metadata": {},
   "outputs": [
    {
     "name": "stdout",
     "output_type": "stream",
     "text": [
      "Hey! 240 were removed from df_train due to outliers under context\n"
     ]
    }
   ],
   "source": [
    "# Dropeamos todos los outliers por contexo: \"Tratamiento de outliers nº2\"\n",
    "\n",
    "modelos = sorted(list(df_train.match_modelo_a.unique()))\n",
    "años = sorted(list(df_train.car_year.unique()))\n",
    "kms_thresh_outliers = {}\n",
    "price_thresh_outliers = {}\n",
    "old_shape = df_train.shape[0]\n",
    "for m in modelos:\n",
    "    for a in años:\n",
    "        # print(f'{m} of {a}') --> solo para chequear que el loop este iterando correctamente (esta OK :)\n",
    "        \n",
    "        modelo_año = m + '_' + str(a)\n",
    "        \n",
    "        \n",
    "        # kms\n",
    "        mask1 = df_train.match_modelo_a == m\n",
    "        mask2 = df_train.car_year == a\n",
    "        data = df_train[mask1 & mask2].copy()\n",
    "        \n",
    "        q1 = data.car_kms.quantile(0.25)\n",
    "        q3 = data.car_kms.quantile(0.75)\n",
    "        IQR = q3 - q1\n",
    "        outl_thresh_superior = q3+3*IQR\n",
    "        outl_thresh_inferior = q1-3*IQR\n",
    "        kms_thresh_outliers[modelo_año] = (outl_thresh_inferior,outl_thresh_superior)\n",
    "        filt_mask_sup = data.car_kms>kms_thresh_outliers[modelo_año][1]\n",
    "        filt_mask_inf = data.car_kms<kms_thresh_outliers[modelo_año][0]\n",
    "        data = data[~(filt_mask_sup | filt_mask_inf)]\n",
    "        df_train = df_train.loc[~(mask1 & mask2),:]\n",
    "        df_train = pd.concat([df_train,data],0)\n",
    "        \n",
    "        # price\n",
    "        mask1 = df_train.match_modelo_a == m\n",
    "        mask2 = df_train.car_year == a\n",
    "        data = df_train[mask1 & mask2].copy()\n",
    "        \n",
    "        q1 = data.price_meli_ok.quantile(0.25)\n",
    "        q3 = data.price_meli_ok.quantile(0.75)\n",
    "        IQR = q3 - q1\n",
    "        outl_thresh_superior = q3+3*IQR\n",
    "        outl_thresh_inferior = q1-3*IQR\n",
    "        price_thresh_outliers[modelo_año] = (outl_thresh_inferior,outl_thresh_superior)\n",
    "        filt_mask_sup = data.price_meli_ok>price_thresh_outliers[modelo_año][1]\n",
    "        filt_mask_inf = data.price_meli_ok<price_thresh_outliers[modelo_año][0]\n",
    "        data = data[~(filt_mask_sup | filt_mask_inf)]\n",
    "        df_train = df_train.loc[~(mask1 & mask2),:]\n",
    "        df_train = pd.concat([df_train,data],0)\n",
    "\n",
    "print(f'Hey! {old_shape - df_train.shape[0]} were removed from df_train due to outliers under context')        "
   ]
  },
  {
   "cell_type": "code",
   "execution_count": 155,
   "id": "2c4e1a84-3f05-4363-bfef-de61297ffb52",
   "metadata": {},
   "outputs": [
    {
     "data": {
      "text/plain": [
       "{'1500_2006': (nan, nan),\n",
       " '1500_2007': (nan, nan),\n",
       " '1500_2008': (nan, nan),\n",
       " '1500_2009': (nan, nan),\n",
       " '1500_2010': (nan, nan),\n",
       " '1500_2011': (nan, nan),\n",
       " '1500_2012': (nan, nan),\n",
       " '1500_2013': (nan, nan),\n",
       " '1500_2014': (-18605.0, 214390.0),\n",
       " '1500_2015': (-2000.0, 194000.0),\n",
       " '1500_2016': (-9715.0, 140470.0),\n",
       " '1500_2017': (-13500.0, 184250.0),\n",
       " '1500_2018': (-31500.0, 147875.0),\n",
       " '1500_2019': (-59500.0, 140000.0),\n",
       " '1500_2020': (-27500.0, 77500.0)}"
      ]
     },
     "execution_count": 155,
     "metadata": {},
     "output_type": "execute_result"
    }
   ],
   "source": [
    "import itertools\n",
    "dict(itertools.islice(kms_thresh_outliers.items(), 15))"
   ]
  },
  {
   "cell_type": "code",
   "execution_count": 156,
   "id": "052b1282-f8b7-4257-8d12-b49ab89bf06b",
   "metadata": {
    "tags": []
   },
   "outputs": [
    {
     "data": {
      "text/plain": [
       "{'1500_2006': (nan, nan),\n",
       " '1500_2007': (nan, nan),\n",
       " '1500_2008': (nan, nan),\n",
       " '1500_2009': (nan, nan),\n",
       " '1500_2010': (nan, nan),\n",
       " '1500_2011': (nan, nan),\n",
       " '1500_2012': (nan, nan),\n",
       " '1500_2013': (nan, nan),\n",
       " '1500_2014': (21495.19230769232, 47173.07692307691),\n",
       " '1500_2015': (24461.53846153847, 48153.84615384615),\n",
       " '1500_2016': (31875.0, 48500.0),\n",
       " '1500_2017': (34384.615384615376, 47711.53846153847),\n",
       " '1500_2018': (30829.3269230769, 61134.615384615405),\n",
       " '1500_2019': (40865.38461538461, 57692.3076923077),\n",
       " '1500_2020': (41855.76923076925, 61139.42307692306)}"
      ]
     },
     "execution_count": 156,
     "metadata": {},
     "output_type": "execute_result"
    }
   ],
   "source": [
    "dict(itertools.islice(price_thresh_outliers.items(),15))"
   ]
  },
  {
   "cell_type": "code",
   "execution_count": 157,
   "id": "855540f8-f02d-4eee-8a2f-ee7a62bd86c7",
   "metadata": {},
   "outputs": [],
   "source": [
    "# Guardamos los diccionarios con la info de outiers thresholds en formato json\n",
    "with open('{}kms_thresh_outliers.json'.format(path_datos), 'w') as outfile:\n",
    "    json.dump(kms_thresh_outliers, outfile)\n",
    "\n",
    "with open('{}price_thresh_outliers.json'.format(path_datos), 'w') as outfile:\n",
    "    json.dump(price_thresh_outliers, outfile)"
   ]
  },
  {
   "cell_type": "markdown",
   "id": "b8b09763-2622-4d0c-a9e2-9366fa371646",
   "metadata": {},
   "source": [
    "Notesé que en muchos casos nos quedan \"nan\", eso es porque aveces no tenemos ningun registro de un marca-modelo para un cierto año en particular (ej: talvez no se fabrico ese modelo durante ese año o cosas así). Por lo único que tendremos que tener cuidado es cuando apliquemos este cleaning sobre test, vamos a tener que poner un \"if\" que haga un \"continue\" en caso de que los thresh sean \"nan\""
   ]
  },
  {
   "cell_type": "code",
   "execution_count": 158,
   "id": "bcd13b95-54a6-4f62-8e43-7a4833cfe945",
   "metadata": {},
   "outputs": [],
   "source": [
    "df_train.to_csv('{}df_train_checkpoint_4.pkl'.format(path_datos)) # este es el df_train final!\n",
    "# el test sigue igual"
   ]
  },
  {
   "cell_type": "markdown",
   "id": "9cf382fe-fcc9-4237-82af-0974b7c6c350",
   "metadata": {},
   "source": [
    "# Applying data cleaning in the test set"
   ]
  },
  {
   "cell_type": "code",
   "execution_count": 159,
   "id": "b67df5bf-4e9c-4688-9388-c8bc6c22b560",
   "metadata": {},
   "outputs": [],
   "source": [
    "df_train_ok = pd.read_csv('{}df_train_checkpoint_4.pkl'.format(path_datos))"
   ]
  },
  {
   "cell_type": "code",
   "execution_count": 160,
   "id": "05d5ea50-ddb8-439a-b8e1-18d8d10714d2",
   "metadata": {},
   "outputs": [],
   "source": [
    "df_test = pd.read_csv('{}df_test_checkpoint_3.pkl'.format(path_datos))"
   ]
  },
  {
   "cell_type": "code",
   "execution_count": 161,
   "id": "a7e4a3c3-0732-4abd-b42c-e54e5c4047a6",
   "metadata": {},
   "outputs": [
    {
     "name": "stdout",
     "output_type": "stream",
     "text": [
      "(20928, 11)\n",
      "(5346, 11)\n"
     ]
    }
   ],
   "source": [
    "print(df_train_ok.shape)\n",
    "print(df_test.shape)"
   ]
  },
  {
   "cell_type": "code",
   "execution_count": 162,
   "id": "7b071c22-b9c4-487e-b3f1-bb6be1f041ed",
   "metadata": {},
   "outputs": [
    {
     "name": "stdout",
     "output_type": "stream",
     "text": [
      "Hey! 62 were removed due to outliers globales\n",
      "Hey! 187 were removed from df due to outliers under context\n"
     ]
    }
   ],
   "source": [
    "# Aplicamos el data cleaning aprendido en train sobre el set de test para usarlo en la evaluacion\n",
    "df_test_ok = cleaning_after_split(df_test,path_datos)"
   ]
  },
  {
   "cell_type": "code",
   "execution_count": 163,
   "id": "19906956-801f-45f9-96b2-98efd6530818",
   "metadata": {},
   "outputs": [
    {
     "data": {
      "text/plain": [
       "(5097, 11)"
      ]
     },
     "execution_count": 163,
     "metadata": {},
     "output_type": "execute_result"
    }
   ],
   "source": [
    "df_test_ok.shape"
   ]
  },
  {
   "cell_type": "code",
   "execution_count": 164,
   "id": "3014a769-cc0e-4a83-bd07-eda348185103",
   "metadata": {},
   "outputs": [],
   "source": [
    "# checkpoint download\n",
    "df_test_ok.to_csv('{}df_test_checkpoint_4.pkl'.format(path_datos)) # este es el df_test final!"
   ]
  },
  {
   "cell_type": "code",
   "execution_count": 165,
   "id": "b946ac3c-54e2-4e5b-b6e7-000f46f3d5fa",
   "metadata": {},
   "outputs": [],
   "source": [
    "# checkpoint upload\n",
    "#df_test_ok = pd.read_csv('{}df_test_checkpoint_4.pkl'.format(path_save))\n",
    "#df_test_ok.shape"
   ]
  },
  {
   "cell_type": "markdown",
   "id": "0ec24d64-229b-4759-a986-655c6c23bb1e",
   "metadata": {},
   "source": [
    "### Save the IDs that we've used in train\n",
    "This is for the validation oot with ids that werent used in train-test"
   ]
  },
  {
   "cell_type": "code",
   "execution_count": 166,
   "id": "3c39eded-224d-4798-9950-b6828afa3c8f",
   "metadata": {},
   "outputs": [
    {
     "data": {
      "text/plain": [
       "20928"
      ]
     },
     "metadata": {},
     "output_type": "display_data"
    },
    {
     "data": {
      "text/plain": [
       "5097"
      ]
     },
     "metadata": {},
     "output_type": "display_data"
    }
   ],
   "source": [
    "# We can see that they are completely different\n",
    "## No se repiten IDs (es decir que no hay ningun ID en train que tambien este en test y viceversa)\n",
    "display(len(list(set(df_train_ok.car_id.unique()).difference(set(df_test_ok.car_id.unique()))))\n",
    "        ,len(list(set(df_test_ok.car_id.unique()).difference(set(df_train_ok.car_id.unique()))))\n",
    "       )"
   ]
  },
  {
   "cell_type": "code",
   "execution_count": 167,
   "id": "ea16bb91-7994-4c71-941c-ffee1fe7be53",
   "metadata": {},
   "outputs": [
    {
     "data": {
      "text/plain": [
       "26025"
      ]
     },
     "execution_count": 167,
     "metadata": {},
     "output_type": "execute_result"
    }
   ],
   "source": [
    "ids_dev = list(df_train_ok.car_id.unique()) + list(df_test_ok.car_id.unique())\n",
    "len(ids_dev)"
   ]
  },
  {
   "cell_type": "code",
   "execution_count": 168,
   "id": "f95c4e46-e97c-4894-b1de-2e085b16cb0d",
   "metadata": {},
   "outputs": [],
   "source": [
    "df_ids_dev = pd.DataFrame(ids_dev, columns=['car_id_dev'])\n",
    "df_ids_dev.to_csv('{}df_ids_dev.pkl'.format(path_datos))"
   ]
  },
  {
   "cell_type": "markdown",
   "id": "1ad837a5-3e20-45a6-bd8b-91933fb98711",
   "metadata": {},
   "source": [
    "# Modelling"
   ]
  },
  {
   "cell_type": "code",
   "execution_count": 169,
   "id": "89a0074c-c1f9-4f6a-8bba-f36f870e7bdb",
   "metadata": {},
   "outputs": [],
   "source": [
    "model_features = ['car_year','car_kms','match_marca_a','match_modelo_a','match_v1_a','Subseg_a', 'Seg_a']"
   ]
  },
  {
   "cell_type": "code",
   "execution_count": 170,
   "id": "365b487d-548d-4f31-b718-7713e9c68047",
   "metadata": {},
   "outputs": [],
   "source": [
    "# Volvemos a separar en X e y\n",
    "X_train = df_train_ok[model_features]\n",
    "y_train = df_train_ok.price_meli_ok\n",
    "\n",
    "X_test = df_test_ok[model_features]\n",
    "y_test = df_test_ok.price_meli_ok"
   ]
  },
  {
   "cell_type": "markdown",
   "id": "ae4a9ed4-c25b-472f-a466-723276e851dd",
   "metadata": {},
   "source": [
    "## Modelo Baseline"
   ]
  },
  {
   "cell_type": "code",
   "execution_count": 171,
   "id": "613ed08b-b79e-45cf-8d30-25a2ba623983",
   "metadata": {},
   "outputs": [
    {
     "data": {
      "text/plain": [
       "Index(['car_year', 'car_kms', 'match_marca_a', 'match_modelo_a', 'match_v1_a',\n",
       "       'Subseg_a', 'Seg_a'],\n",
       "      dtype='object')"
      ]
     },
     "execution_count": 171,
     "metadata": {},
     "output_type": "execute_result"
    }
   ],
   "source": [
    "X_train.columns"
   ]
  },
  {
   "cell_type": "code",
   "execution_count": 172,
   "id": "47fd1581-efb2-4e4c-bec2-df103fba9a16",
   "metadata": {},
   "outputs": [],
   "source": [
    "# Recordar agregar esto en la funcion de procesamiento para la simulacion\n",
    "\n",
    "# Cuando hice el tratamiento de 1111 y 99999 había pasado la feature de kms a int. Volvemos a pasar a float por el catboost\n",
    "X_train['car_kms'] = X_train['car_kms'].astype('float')\n",
    "X_test['car_kms'] = X_test['car_kms'].astype('float')\n",
    "\n",
    "# probamos tanto usando year como int y como float y la perfo del modelo dio apenas mejor con year en float\n",
    "X_train['car_year'] = X_train['car_year'].astype('float')\n",
    "X_test['car_year'] = X_test['car_year'].astype('float')"
   ]
  },
  {
   "cell_type": "code",
   "execution_count": 173,
   "id": "44f7497c-4228-4c7e-bfb2-614fa348122d",
   "metadata": {},
   "outputs": [
    {
     "data": {
      "text/plain": [
       "car_year          float64\n",
       "car_kms           float64\n",
       "match_marca_a      object\n",
       "match_modelo_a     object\n",
       "match_v1_a         object\n",
       "Subseg_a           object\n",
       "Seg_a              object\n",
       "dtype: object"
      ]
     },
     "execution_count": 173,
     "metadata": {},
     "output_type": "execute_result"
    }
   ],
   "source": [
    "X_train.dtypes"
   ]
  },
  {
   "cell_type": "code",
   "execution_count": 174,
   "id": "a1e98870-23e0-41bd-a369-7d69c0a124d5",
   "metadata": {},
   "outputs": [
    {
     "data": {
      "text/plain": [
       "array([2, 3, 4, 5, 6])"
      ]
     },
     "execution_count": 174,
     "metadata": {},
     "output_type": "execute_result"
    }
   ],
   "source": [
    "np.where(X_train[model_features].dtypes != np.float)[0]"
   ]
  },
  {
   "cell_type": "code",
   "execution_count": 175,
   "id": "1c69f842-7f30-4d7a-8740-3e621bd4d630",
   "metadata": {},
   "outputs": [],
   "source": [
    "# ventana 60\n",
    "#model=CatBoostRegressor(loss_function='RMSE',logging_level=\"Silent\")\n",
    "#categorical_features_indices = np.where(X_train[model_features].dtypes != np.float)[0]\n",
    "#model.fit(X_train, y_train, cat_features=categorical_features_indices)#, eval_set=(X_test, y_test))\n",
    "#\n",
    "#train_pred = model.predict(X_train)\n",
    "#test_pred = model.predict(X_test)\n",
    "#\n",
    "#print('Train set evaluation:\\n_____________________________________')\n",
    "#print_evaluate(y_train, train_pred)\n",
    "#print('Test set evaluation:\\n_____________________________________')\n",
    "#print_evaluate(y_test, test_pred)"
   ]
  },
  {
   "cell_type": "markdown",
   "id": "c16b871e-0748-47d1-9656-a4e099763571",
   "metadata": {},
   "source": [
    "MAPE Test: 8.8"
   ]
  },
  {
   "cell_type": "code",
   "execution_count": 176,
   "id": "774d8ad3-948e-48d2-82ad-2e3ee4a5d547",
   "metadata": {},
   "outputs": [],
   "source": [
    "# ventana 90\n",
    "#model=CatBoostRegressor(loss_function='RMSE',logging_level=\"Silent\")\n",
    "#categorical_features_indices = np.where(X_train[model_features].dtypes != np.float)[0]\n",
    "#model.fit(X_train, y_train, cat_features=categorical_features_indices)#, eval_set=(X_test, y_test))\n",
    "#\n",
    "#train_pred = model.predict(X_train)\n",
    "#test_pred = model.predict(X_test)\n",
    "#\n",
    "#print('Train set evaluation:\\n_____________________________________')\n",
    "#print_evaluate(y_train, train_pred)\n",
    "#print('Test set evaluation:\\n_____________________________________')\n",
    "#print_evaluate(y_test, test_pred)"
   ]
  },
  {
   "cell_type": "markdown",
   "id": "e9b0540d-9c1c-4355-af69-7b80c399804f",
   "metadata": {},
   "source": [
    "MAPE Test: 9"
   ]
  },
  {
   "cell_type": "code",
   "execution_count": 179,
   "id": "33806458-e24d-4181-859e-3b070460cdb3",
   "metadata": {},
   "outputs": [
    {
     "name": "stdout",
     "output_type": "stream",
     "text": [
      "Train set evaluation:\n",
      "_____________________________________\n",
      "MAE: 921.0450458419743\n",
      "MAPE: 8.253311256604084\n",
      "MEDAPE: 6.05868033002432\n",
      "MSE: 1892341.9599158696\n",
      "RMSE: 1375.6242073749174\n",
      "R2 Square 0.9675026339483129\n",
      "__________________________________\n",
      "Test set evaluation:\n",
      "_____________________________________\n",
      "MAE: 933.4337678666798\n",
      "MAPE: 8.257241079302444\n",
      "MEDAPE: 6.295213950756219\n",
      "MSE: 1884416.7527586098\n",
      "RMSE: 1372.7405992242707\n",
      "R2 Square 0.965883221731492\n",
      "__________________________________\n"
     ]
    }
   ],
   "source": [
    "# ventana 10\n",
    "model=CatBoostRegressor(loss_function='RMSE',logging_level=\"Silent\")\n",
    "categorical_features_indices = np.where(X_train[model_features].dtypes != np.float)[0]\n",
    "model.fit(X_train, y_train, cat_features=categorical_features_indices)#, eval_set=(X_test, y_test))\n",
    "\n",
    "train_pred = model.predict(X_train)\n",
    "test_pred = model.predict(X_test)\n",
    "\n",
    "print('Train set evaluation:\\n_____________________________________')\n",
    "print_evaluate(y_train, train_pred)\n",
    "print('Test set evaluation:\\n_____________________________________')\n",
    "print_evaluate(y_test, test_pred)"
   ]
  },
  {
   "cell_type": "code",
   "execution_count": 177,
   "id": "fd5aaabb-d882-4f17-8900-d022875ed96e",
   "metadata": {},
   "outputs": [
    {
     "name": "stdout",
     "output_type": "stream",
     "text": [
      "Train set evaluation:\n",
      "_____________________________________\n",
      "MAE: 938.114098174449\n",
      "MAPE: 8.233160013927375\n",
      "MEDAPE: 6.118406790772348\n",
      "MSE: 1980460.9871504686\n",
      "RMSE: 1407.288523065\n",
      "R2 Square 0.9672744587744715\n",
      "__________________________________\n",
      "Test set evaluation:\n",
      "_____________________________________\n",
      "MAE: 978.7294972774024\n",
      "MAPE: 8.689038388393492\n",
      "MEDAPE: 6.437841464631025\n",
      "MSE: 2190625.158737158\n",
      "RMSE: 1480.0760651862315\n",
      "R2 Square 0.9621914210172988\n",
      "__________________________________\n"
     ]
    }
   ],
   "source": [
    "# ventana 5\n",
    "model=CatBoostRegressor(loss_function='RMSE',logging_level=\"Silent\")\n",
    "categorical_features_indices = np.where(X_train[model_features].dtypes != np.float)[0]\n",
    "model.fit(X_train, y_train, cat_features=categorical_features_indices)#, eval_set=(X_test, y_test))\n",
    "\n",
    "train_pred = model.predict(X_train)\n",
    "test_pred = model.predict(X_test)\n",
    "\n",
    "print('Train set evaluation:\\n_____________________________________')\n",
    "print_evaluate(y_train, train_pred)\n",
    "print('Test set evaluation:\\n_____________________________________')\n",
    "print_evaluate(y_test, test_pred)"
   ]
  },
  {
   "cell_type": "markdown",
   "id": "b1db3f6e-2bd6-45f9-ade1-26be55d09444",
   "metadata": {},
   "source": [
    "Nos quedamos con la ventana de 10 dias"
   ]
  },
  {
   "cell_type": "code",
   "execution_count": null,
   "id": "a942b0a8-4b56-4380-ab84-a3d48dc1d702",
   "metadata": {},
   "outputs": [
    {
     "data": {
      "text/html": [
       "<div>\n",
       "<style scoped>\n",
       "    .dataframe tbody tr th:only-of-type {\n",
       "        vertical-align: middle;\n",
       "    }\n",
       "\n",
       "    .dataframe tbody tr th {\n",
       "        vertical-align: top;\n",
       "    }\n",
       "\n",
       "    .dataframe thead th {\n",
       "        text-align: right;\n",
       "    }\n",
       "</style>\n",
       "<table border=\"1\" class=\"dataframe\">\n",
       "  <thead>\n",
       "    <tr style=\"text-align: right;\">\n",
       "      <th></th>\n",
       "      <th>Feature Id</th>\n",
       "      <th>Importances</th>\n",
       "    </tr>\n",
       "  </thead>\n",
       "  <tbody>\n",
       "    <tr>\n",
       "      <th>0</th>\n",
       "      <td>car_year</td>\n",
       "      <td>29.45</td>\n",
       "    </tr>\n",
       "    <tr>\n",
       "      <th>1</th>\n",
       "      <td>Subseg_a</td>\n",
       "      <td>18.72</td>\n",
       "    </tr>\n",
       "    <tr>\n",
       "      <th>2</th>\n",
       "      <td>match_marca_a</td>\n",
       "      <td>16.06</td>\n",
       "    </tr>\n",
       "    <tr>\n",
       "      <th>3</th>\n",
       "      <td>match_modelo_a</td>\n",
       "      <td>11.43</td>\n",
       "    </tr>\n",
       "    <tr>\n",
       "      <th>4</th>\n",
       "      <td>Seg_a</td>\n",
       "      <td>9.45</td>\n",
       "    </tr>\n",
       "    <tr>\n",
       "      <th>5</th>\n",
       "      <td>match_v1_a</td>\n",
       "      <td>7.46</td>\n",
       "    </tr>\n",
       "    <tr>\n",
       "      <th>6</th>\n",
       "      <td>car_kms</td>\n",
       "      <td>7.44</td>\n",
       "    </tr>\n",
       "  </tbody>\n",
       "</table>\n",
       "</div>"
      ],
      "text/plain": [
       "       Feature Id  Importances\n",
       "0        car_year        29.45\n",
       "1        Subseg_a        18.72\n",
       "2   match_marca_a        16.06\n",
       "3  match_modelo_a        11.43\n",
       "4           Seg_a         9.45\n",
       "5      match_v1_a         7.46\n",
       "6         car_kms         7.44"
      ]
     },
     "execution_count": 499,
     "metadata": {},
     "output_type": "execute_result"
    }
   ],
   "source": [
    "model.get_feature_importance(prettified=True)"
   ]
  },
  {
   "cell_type": "code",
   "execution_count": 500,
   "id": "68cb26cf-b725-49fc-a599-bc8484583985",
   "metadata": {},
   "outputs": [],
   "source": [
    "# Save del modelo fiteado\n",
    "\n",
    "path_model_save = '../model/'\n",
    "\n",
    "import pickle\n",
    "with open('{}model_dolar_v4.pickle'.format(path_model_save), 'wb') as f:\n",
    "    pickle.dump(model, f)"
   ]
  },
  {
   "cell_type": "markdown",
   "id": "df201602-6862-45e5-b806-3220a0a2c789",
   "metadata": {},
   "source": [
    "#### Model assesment (on test set)"
   ]
  },
  {
   "cell_type": "code",
   "execution_count": 501,
   "id": "7734c918-fe68-4ae1-aff1-b3d6565e4a4d",
   "metadata": {},
   "outputs": [],
   "source": [
    "test_pred = pd.Series(test_pred,name='test_pred')\n",
    "X_test = X_test.reset_index(drop=True)\n",
    "y_test = y_test.reset_index(drop=True)\n",
    "d = pd.concat([X_test, y_test, test_pred],1)"
   ]
  },
  {
   "cell_type": "code",
   "execution_count": 502,
   "id": "8658d7b1-f922-4f90-a025-501263e7b8dd",
   "metadata": {},
   "outputs": [
    {
     "data": {
      "text/html": [
       "<div>\n",
       "<style scoped>\n",
       "    .dataframe tbody tr th:only-of-type {\n",
       "        vertical-align: middle;\n",
       "    }\n",
       "\n",
       "    .dataframe tbody tr th {\n",
       "        vertical-align: top;\n",
       "    }\n",
       "\n",
       "    .dataframe thead th {\n",
       "        text-align: right;\n",
       "    }\n",
       "</style>\n",
       "<table border=\"1\" class=\"dataframe\">\n",
       "  <thead>\n",
       "    <tr style=\"text-align: right;\">\n",
       "      <th></th>\n",
       "      <th>car_year</th>\n",
       "      <th>car_kms</th>\n",
       "      <th>match_marca_a</th>\n",
       "      <th>match_modelo_a</th>\n",
       "      <th>match_v1_a</th>\n",
       "      <th>Subseg_a</th>\n",
       "      <th>Seg_a</th>\n",
       "      <th>price_meli_ok</th>\n",
       "      <th>test_pred</th>\n",
       "    </tr>\n",
       "  </thead>\n",
       "  <tbody>\n",
       "    <tr>\n",
       "      <th>0</th>\n",
       "      <td>2016.00</td>\n",
       "      <td>74000.00</td>\n",
       "      <td>HYUNDAI</td>\n",
       "      <td>H1</td>\n",
       "      <td>Minibus 12 Pas. 2.5 CRDI AT Full Premium VGT (...</td>\n",
       "      <td>SUV 4X2</td>\n",
       "      <td>SUV</td>\n",
       "      <td>30000.00</td>\n",
       "      <td>28893.02</td>\n",
       "    </tr>\n",
       "    <tr>\n",
       "      <th>1</th>\n",
       "      <td>2015.00</td>\n",
       "      <td>74000.00</td>\n",
       "      <td>TOYOTA</td>\n",
       "      <td>86</td>\n",
       "      <td>FT 6MT (200cv)</td>\n",
       "      <td>Gama Medianos Premium</td>\n",
       "      <td>Gama Medianos</td>\n",
       "      <td>25000.00</td>\n",
       "      <td>24063.45</td>\n",
       "    </tr>\n",
       "    <tr>\n",
       "      <th>2</th>\n",
       "      <td>2017.00</td>\n",
       "      <td>42000.00</td>\n",
       "      <td>CHEVROLET</td>\n",
       "      <td>Classic</td>\n",
       "      <td>4Ptas. 1.4 N LS Pack</td>\n",
       "      <td>Gama Pequenos Hatchback</td>\n",
       "      <td>Gama Pequenos</td>\n",
       "      <td>7389.16</td>\n",
       "      <td>9390.93</td>\n",
       "    </tr>\n",
       "    <tr>\n",
       "      <th>3</th>\n",
       "      <td>2020.00</td>\n",
       "      <td>1000.00</td>\n",
       "      <td>HONDA</td>\n",
       "      <td>Fit</td>\n",
       "      <td>1.5 EX CVT IVTEC (120cv) (L18)</td>\n",
       "      <td>Monovolumen Compacto</td>\n",
       "      <td>Monovolumen</td>\n",
       "      <td>25000.00</td>\n",
       "      <td>20456.11</td>\n",
       "    </tr>\n",
       "    <tr>\n",
       "      <th>4</th>\n",
       "      <td>2008.00</td>\n",
       "      <td>240000.00</td>\n",
       "      <td>VOLKSWAGEN</td>\n",
       "      <td>The Beetle</td>\n",
       "      <td>2.0 TSI Sport DSG (L17)</td>\n",
       "      <td>Gama Medianos Hatchback</td>\n",
       "      <td>Gama Medianos</td>\n",
       "      <td>6666.67</td>\n",
       "      <td>9182.34</td>\n",
       "    </tr>\n",
       "  </tbody>\n",
       "</table>\n",
       "</div>"
      ],
      "text/plain": [
       "   car_year   car_kms match_marca_a match_modelo_a  \\\n",
       "0   2016.00  74000.00       HYUNDAI             H1   \n",
       "1   2015.00  74000.00        TOYOTA             86   \n",
       "2   2017.00  42000.00     CHEVROLET        Classic   \n",
       "3   2020.00   1000.00         HONDA            Fit   \n",
       "4   2008.00 240000.00    VOLKSWAGEN     The Beetle   \n",
       "\n",
       "                                          match_v1_a                 Subseg_a  \\\n",
       "0  Minibus 12 Pas. 2.5 CRDI AT Full Premium VGT (...                  SUV 4X2   \n",
       "1                                     FT 6MT (200cv)    Gama Medianos Premium   \n",
       "2                               4Ptas. 1.4 N LS Pack  Gama Pequenos Hatchback   \n",
       "3                     1.5 EX CVT IVTEC (120cv) (L18)     Monovolumen Compacto   \n",
       "4                            2.0 TSI Sport DSG (L17)  Gama Medianos Hatchback   \n",
       "\n",
       "           Seg_a  price_meli_ok  test_pred  \n",
       "0            SUV       30000.00   28893.02  \n",
       "1  Gama Medianos       25000.00   24063.45  \n",
       "2  Gama Pequenos        7389.16    9390.93  \n",
       "3    Monovolumen       25000.00   20456.11  \n",
       "4  Gama Medianos        6666.67    9182.34  "
      ]
     },
     "execution_count": 502,
     "metadata": {},
     "output_type": "execute_result"
    }
   ],
   "source": [
    "d.head()"
   ]
  },
  {
   "cell_type": "code",
   "execution_count": 503,
   "id": "235db7d3-5fba-4403-a8ff-9e30e6d4420f",
   "metadata": {},
   "outputs": [],
   "source": [
    "y_test = d['price_meli_ok']\n",
    "deciles_y_true = y_test.quantile([0.1,0.2,0.3,0.4,0.5,0.6,0.7,0.8,0.9,1])\n",
    "\n",
    "dic = {}\n",
    "for i in range(1,10+1):\n",
    "    dic['d{}'.format(i)] = deciles_y_true.values[i-1]"
   ]
  },
  {
   "cell_type": "code",
   "execution_count": 504,
   "id": "f933795c-3aea-4aef-86f1-d1a31079ed65",
   "metadata": {},
   "outputs": [
    {
     "data": {
      "text/plain": [
       "{'d1': 4888.997555012225,\n",
       " 'd2': 6295.399515738499,\n",
       " 'd3': 7500.0,\n",
       " 'd4': 8737.864077669903,\n",
       " 'd5': 9985.393462469734,\n",
       " 'd6': 11623.984303247893,\n",
       " 'd7': 13725.490196078432,\n",
       " 'd8': 16949.15254237288,\n",
       " 'd9': 22277.22772277228,\n",
       " 'd10': 53000.0}"
      ]
     },
     "execution_count": 504,
     "metadata": {},
     "output_type": "execute_result"
    }
   ],
   "source": [
    "dic"
   ]
  },
  {
   "cell_type": "code",
   "execution_count": 505,
   "id": "92fca370-d6b5-4a08-bbf8-7f31174ef181",
   "metadata": {},
   "outputs": [],
   "source": [
    "# We discretize the vector of true labels to see it in deciles\n",
    "d['y_true_disc'] = np.where(y_test <= dic['d1'], 'd01',\n",
    "                       np.where((y_test > dic['d1']) & (y_test <= dic['d2']), 'd02',\n",
    "                               np.where((y_test > dic['d2']) & (y_test <= dic['d3']), 'd03',\n",
    "                                       np.where((y_test > dic['d3']) & (y_test <= dic['d4']), 'd04',\n",
    "                                               np.where((y_test > dic['d4']) & (y_test <= dic['d5']), 'd05',\n",
    "                                                       np.where((y_test > dic['d5']) & (y_test <= dic['d6']), 'd06',\n",
    "                                                               np.where((y_test > dic['d6']) & (y_test <= dic['d7']), 'd07',\n",
    "                                                                       np.where((y_test > dic['d7']) & (y_test <= dic['d8']), 'd08',\n",
    "                                                                               np.where((y_test > dic['d8']) & (y_test <= dic['d9']), 'd09',\n",
    "                                                                                       np.where((y_test > dic['d9']) & (y_test <= dic['d10']), 'd10','out_of_bounds'))))))))))"
   ]
  },
  {
   "cell_type": "code",
   "execution_count": 506,
   "id": "a9aee8d8-d758-42f2-b69e-21e35233ac21",
   "metadata": {},
   "outputs": [
    {
     "data": {
      "text/html": [
       "<div>\n",
       "<style scoped>\n",
       "    .dataframe tbody tr th:only-of-type {\n",
       "        vertical-align: middle;\n",
       "    }\n",
       "\n",
       "    .dataframe tbody tr th {\n",
       "        vertical-align: top;\n",
       "    }\n",
       "\n",
       "    .dataframe thead th {\n",
       "        text-align: right;\n",
       "    }\n",
       "</style>\n",
       "<table border=\"1\" class=\"dataframe\">\n",
       "  <thead>\n",
       "    <tr style=\"text-align: right;\">\n",
       "      <th></th>\n",
       "      <th>car_year</th>\n",
       "      <th>car_kms</th>\n",
       "      <th>match_marca_a</th>\n",
       "      <th>match_modelo_a</th>\n",
       "      <th>match_v1_a</th>\n",
       "      <th>Subseg_a</th>\n",
       "      <th>Seg_a</th>\n",
       "      <th>price_meli_ok</th>\n",
       "      <th>test_pred</th>\n",
       "      <th>y_true_disc</th>\n",
       "    </tr>\n",
       "  </thead>\n",
       "  <tbody>\n",
       "    <tr>\n",
       "      <th>0</th>\n",
       "      <td>2016.00</td>\n",
       "      <td>74000.00</td>\n",
       "      <td>HYUNDAI</td>\n",
       "      <td>H1</td>\n",
       "      <td>Minibus 12 Pas. 2.5 CRDI AT Full Premium VGT (...</td>\n",
       "      <td>SUV 4X2</td>\n",
       "      <td>SUV</td>\n",
       "      <td>30000.00</td>\n",
       "      <td>28893.02</td>\n",
       "      <td>d10</td>\n",
       "    </tr>\n",
       "    <tr>\n",
       "      <th>1</th>\n",
       "      <td>2015.00</td>\n",
       "      <td>74000.00</td>\n",
       "      <td>TOYOTA</td>\n",
       "      <td>86</td>\n",
       "      <td>FT 6MT (200cv)</td>\n",
       "      <td>Gama Medianos Premium</td>\n",
       "      <td>Gama Medianos</td>\n",
       "      <td>25000.00</td>\n",
       "      <td>24063.45</td>\n",
       "      <td>d10</td>\n",
       "    </tr>\n",
       "    <tr>\n",
       "      <th>2</th>\n",
       "      <td>2017.00</td>\n",
       "      <td>42000.00</td>\n",
       "      <td>CHEVROLET</td>\n",
       "      <td>Classic</td>\n",
       "      <td>4Ptas. 1.4 N LS Pack</td>\n",
       "      <td>Gama Pequenos Hatchback</td>\n",
       "      <td>Gama Pequenos</td>\n",
       "      <td>7389.16</td>\n",
       "      <td>9390.93</td>\n",
       "      <td>d03</td>\n",
       "    </tr>\n",
       "    <tr>\n",
       "      <th>3</th>\n",
       "      <td>2020.00</td>\n",
       "      <td>1000.00</td>\n",
       "      <td>HONDA</td>\n",
       "      <td>Fit</td>\n",
       "      <td>1.5 EX CVT IVTEC (120cv) (L18)</td>\n",
       "      <td>Monovolumen Compacto</td>\n",
       "      <td>Monovolumen</td>\n",
       "      <td>25000.00</td>\n",
       "      <td>20456.11</td>\n",
       "      <td>d10</td>\n",
       "    </tr>\n",
       "    <tr>\n",
       "      <th>4</th>\n",
       "      <td>2008.00</td>\n",
       "      <td>240000.00</td>\n",
       "      <td>VOLKSWAGEN</td>\n",
       "      <td>The Beetle</td>\n",
       "      <td>2.0 TSI Sport DSG (L17)</td>\n",
       "      <td>Gama Medianos Hatchback</td>\n",
       "      <td>Gama Medianos</td>\n",
       "      <td>6666.67</td>\n",
       "      <td>9182.34</td>\n",
       "      <td>d03</td>\n",
       "    </tr>\n",
       "    <tr>\n",
       "      <th>5</th>\n",
       "      <td>2010.00</td>\n",
       "      <td>147000.00</td>\n",
       "      <td>HONDA</td>\n",
       "      <td>Accord</td>\n",
       "      <td>2.4 EXL AT (182cv) (L 03)</td>\n",
       "      <td>Gama Grandes Sedan</td>\n",
       "      <td>Gama Grandes</td>\n",
       "      <td>10891.09</td>\n",
       "      <td>11179.06</td>\n",
       "      <td>d06</td>\n",
       "    </tr>\n",
       "    <tr>\n",
       "      <th>6</th>\n",
       "      <td>2013.00</td>\n",
       "      <td>130000.00</td>\n",
       "      <td>PEUGEOT</td>\n",
       "      <td>2008</td>\n",
       "      <td>1.6 16v. Feline Tiptronic (115cv) (L20)</td>\n",
       "      <td>Suv Compactas 4x2</td>\n",
       "      <td>SUV</td>\n",
       "      <td>6403.94</td>\n",
       "      <td>9474.29</td>\n",
       "      <td>d03</td>\n",
       "    </tr>\n",
       "    <tr>\n",
       "      <th>7</th>\n",
       "      <td>2018.00</td>\n",
       "      <td>44000.00</td>\n",
       "      <td>HONDA</td>\n",
       "      <td>CRV</td>\n",
       "      <td>2.4 EX AT</td>\n",
       "      <td>SUV 4X4</td>\n",
       "      <td>SUV</td>\n",
       "      <td>50000.00</td>\n",
       "      <td>31640.55</td>\n",
       "      <td>d10</td>\n",
       "    </tr>\n",
       "    <tr>\n",
       "      <th>8</th>\n",
       "      <td>2015.00</td>\n",
       "      <td>36000.00</td>\n",
       "      <td>TOYOTA</td>\n",
       "      <td>86</td>\n",
       "      <td>FT 6MT (200cv)</td>\n",
       "      <td>Gama Medianos Premium</td>\n",
       "      <td>Gama Medianos</td>\n",
       "      <td>41900.00</td>\n",
       "      <td>26399.20</td>\n",
       "      <td>d10</td>\n",
       "    </tr>\n",
       "    <tr>\n",
       "      <th>9</th>\n",
       "      <td>2006.00</td>\n",
       "      <td>200000.00</td>\n",
       "      <td>CHRYSLER</td>\n",
       "      <td>PT Cruiser</td>\n",
       "      <td>2.0 Classic MT</td>\n",
       "      <td>Gama Medianos Hatchback</td>\n",
       "      <td>Gama Medianos</td>\n",
       "      <td>4081.63</td>\n",
       "      <td>4965.36</td>\n",
       "      <td>d01</td>\n",
       "    </tr>\n",
       "  </tbody>\n",
       "</table>\n",
       "</div>"
      ],
      "text/plain": [
       "   car_year   car_kms match_marca_a match_modelo_a  \\\n",
       "0   2016.00  74000.00       HYUNDAI             H1   \n",
       "1   2015.00  74000.00        TOYOTA             86   \n",
       "2   2017.00  42000.00     CHEVROLET        Classic   \n",
       "3   2020.00   1000.00         HONDA            Fit   \n",
       "4   2008.00 240000.00    VOLKSWAGEN     The Beetle   \n",
       "5   2010.00 147000.00         HONDA         Accord   \n",
       "6   2013.00 130000.00       PEUGEOT           2008   \n",
       "7   2018.00  44000.00         HONDA            CRV   \n",
       "8   2015.00  36000.00        TOYOTA             86   \n",
       "9   2006.00 200000.00      CHRYSLER     PT Cruiser   \n",
       "\n",
       "                                          match_v1_a                 Subseg_a  \\\n",
       "0  Minibus 12 Pas. 2.5 CRDI AT Full Premium VGT (...                  SUV 4X2   \n",
       "1                                     FT 6MT (200cv)    Gama Medianos Premium   \n",
       "2                               4Ptas. 1.4 N LS Pack  Gama Pequenos Hatchback   \n",
       "3                     1.5 EX CVT IVTEC (120cv) (L18)     Monovolumen Compacto   \n",
       "4                            2.0 TSI Sport DSG (L17)  Gama Medianos Hatchback   \n",
       "5                          2.4 EXL AT (182cv) (L 03)       Gama Grandes Sedan   \n",
       "6            1.6 16v. Feline Tiptronic (115cv) (L20)        Suv Compactas 4x2   \n",
       "7                                          2.4 EX AT                  SUV 4X4   \n",
       "8                                     FT 6MT (200cv)    Gama Medianos Premium   \n",
       "9                                     2.0 Classic MT  Gama Medianos Hatchback   \n",
       "\n",
       "           Seg_a  price_meli_ok  test_pred y_true_disc  \n",
       "0            SUV       30000.00   28893.02         d10  \n",
       "1  Gama Medianos       25000.00   24063.45         d10  \n",
       "2  Gama Pequenos        7389.16    9390.93         d03  \n",
       "3    Monovolumen       25000.00   20456.11         d10  \n",
       "4  Gama Medianos        6666.67    9182.34         d03  \n",
       "5   Gama Grandes       10891.09   11179.06         d06  \n",
       "6            SUV        6403.94    9474.29         d03  \n",
       "7            SUV       50000.00   31640.55         d10  \n",
       "8  Gama Medianos       41900.00   26399.20         d10  \n",
       "9  Gama Medianos        4081.63    4965.36         d01  "
      ]
     },
     "execution_count": 506,
     "metadata": {},
     "output_type": "execute_result"
    }
   ],
   "source": [
    "d.head(10)"
   ]
  },
  {
   "cell_type": "code",
   "execution_count": 507,
   "id": "4305aceb-9e24-49f0-b9af-80ad797bf9bf",
   "metadata": {},
   "outputs": [],
   "source": [
    "# Accuracy\n",
    "d['menos20perc'] = d.test_pred * 0.9\n",
    "d['mas20perc'] = d.test_pred * 1.1\n",
    "d['menos20perc'] = d['menos20perc'].astype('int')\n",
    "d['mas20perc'] = d['mas20perc'].astype('int')\n",
    "d['falls_in_range'] = np.where(\n",
    "    (d['price_meli_ok']>=d['menos20perc']) & (d['price_meli_ok']<=d['mas20perc']),1,0)"
   ]
  },
  {
   "cell_type": "code",
   "execution_count": 508,
   "id": "4c42741a-b585-42cd-b7e0-c824e5438e63",
   "metadata": {},
   "outputs": [
    {
     "data": {
      "text/html": [
       "<div>\n",
       "<style scoped>\n",
       "    .dataframe tbody tr th:only-of-type {\n",
       "        vertical-align: middle;\n",
       "    }\n",
       "\n",
       "    .dataframe tbody tr th {\n",
       "        vertical-align: top;\n",
       "    }\n",
       "\n",
       "    .dataframe thead th {\n",
       "        text-align: right;\n",
       "    }\n",
       "</style>\n",
       "<table border=\"1\" class=\"dataframe\">\n",
       "  <thead>\n",
       "    <tr style=\"text-align: right;\">\n",
       "      <th></th>\n",
       "      <th>car_year</th>\n",
       "      <th>car_kms</th>\n",
       "      <th>match_marca_a</th>\n",
       "      <th>match_modelo_a</th>\n",
       "      <th>match_v1_a</th>\n",
       "      <th>Subseg_a</th>\n",
       "      <th>Seg_a</th>\n",
       "      <th>price_meli_ok</th>\n",
       "      <th>test_pred</th>\n",
       "      <th>y_true_disc</th>\n",
       "      <th>menos20perc</th>\n",
       "      <th>mas20perc</th>\n",
       "      <th>falls_in_range</th>\n",
       "    </tr>\n",
       "  </thead>\n",
       "  <tbody>\n",
       "    <tr>\n",
       "      <th>0</th>\n",
       "      <td>2016.00</td>\n",
       "      <td>74000.00</td>\n",
       "      <td>HYUNDAI</td>\n",
       "      <td>H1</td>\n",
       "      <td>Minibus 12 Pas. 2.5 CRDI AT Full Premium VGT (...</td>\n",
       "      <td>SUV 4X2</td>\n",
       "      <td>SUV</td>\n",
       "      <td>30000.00</td>\n",
       "      <td>28893.02</td>\n",
       "      <td>d10</td>\n",
       "      <td>26003</td>\n",
       "      <td>31782</td>\n",
       "      <td>1</td>\n",
       "    </tr>\n",
       "    <tr>\n",
       "      <th>1</th>\n",
       "      <td>2015.00</td>\n",
       "      <td>74000.00</td>\n",
       "      <td>TOYOTA</td>\n",
       "      <td>86</td>\n",
       "      <td>FT 6MT (200cv)</td>\n",
       "      <td>Gama Medianos Premium</td>\n",
       "      <td>Gama Medianos</td>\n",
       "      <td>25000.00</td>\n",
       "      <td>24063.45</td>\n",
       "      <td>d10</td>\n",
       "      <td>21657</td>\n",
       "      <td>26469</td>\n",
       "      <td>1</td>\n",
       "    </tr>\n",
       "    <tr>\n",
       "      <th>2</th>\n",
       "      <td>2017.00</td>\n",
       "      <td>42000.00</td>\n",
       "      <td>CHEVROLET</td>\n",
       "      <td>Classic</td>\n",
       "      <td>4Ptas. 1.4 N LS Pack</td>\n",
       "      <td>Gama Pequenos Hatchback</td>\n",
       "      <td>Gama Pequenos</td>\n",
       "      <td>7389.16</td>\n",
       "      <td>9390.93</td>\n",
       "      <td>d03</td>\n",
       "      <td>8451</td>\n",
       "      <td>10330</td>\n",
       "      <td>0</td>\n",
       "    </tr>\n",
       "    <tr>\n",
       "      <th>3</th>\n",
       "      <td>2020.00</td>\n",
       "      <td>1000.00</td>\n",
       "      <td>HONDA</td>\n",
       "      <td>Fit</td>\n",
       "      <td>1.5 EX CVT IVTEC (120cv) (L18)</td>\n",
       "      <td>Monovolumen Compacto</td>\n",
       "      <td>Monovolumen</td>\n",
       "      <td>25000.00</td>\n",
       "      <td>20456.11</td>\n",
       "      <td>d10</td>\n",
       "      <td>18410</td>\n",
       "      <td>22501</td>\n",
       "      <td>0</td>\n",
       "    </tr>\n",
       "    <tr>\n",
       "      <th>4</th>\n",
       "      <td>2008.00</td>\n",
       "      <td>240000.00</td>\n",
       "      <td>VOLKSWAGEN</td>\n",
       "      <td>The Beetle</td>\n",
       "      <td>2.0 TSI Sport DSG (L17)</td>\n",
       "      <td>Gama Medianos Hatchback</td>\n",
       "      <td>Gama Medianos</td>\n",
       "      <td>6666.67</td>\n",
       "      <td>9182.34</td>\n",
       "      <td>d03</td>\n",
       "      <td>8264</td>\n",
       "      <td>10100</td>\n",
       "      <td>0</td>\n",
       "    </tr>\n",
       "  </tbody>\n",
       "</table>\n",
       "</div>"
      ],
      "text/plain": [
       "   car_year   car_kms match_marca_a match_modelo_a  \\\n",
       "0   2016.00  74000.00       HYUNDAI             H1   \n",
       "1   2015.00  74000.00        TOYOTA             86   \n",
       "2   2017.00  42000.00     CHEVROLET        Classic   \n",
       "3   2020.00   1000.00         HONDA            Fit   \n",
       "4   2008.00 240000.00    VOLKSWAGEN     The Beetle   \n",
       "\n",
       "                                          match_v1_a                 Subseg_a  \\\n",
       "0  Minibus 12 Pas. 2.5 CRDI AT Full Premium VGT (...                  SUV 4X2   \n",
       "1                                     FT 6MT (200cv)    Gama Medianos Premium   \n",
       "2                               4Ptas. 1.4 N LS Pack  Gama Pequenos Hatchback   \n",
       "3                     1.5 EX CVT IVTEC (120cv) (L18)     Monovolumen Compacto   \n",
       "4                            2.0 TSI Sport DSG (L17)  Gama Medianos Hatchback   \n",
       "\n",
       "           Seg_a  price_meli_ok  test_pred y_true_disc  menos20perc  \\\n",
       "0            SUV       30000.00   28893.02         d10        26003   \n",
       "1  Gama Medianos       25000.00   24063.45         d10        21657   \n",
       "2  Gama Pequenos        7389.16    9390.93         d03         8451   \n",
       "3    Monovolumen       25000.00   20456.11         d10        18410   \n",
       "4  Gama Medianos        6666.67    9182.34         d03         8264   \n",
       "\n",
       "   mas20perc  falls_in_range  \n",
       "0      31782               1  \n",
       "1      26469               1  \n",
       "2      10330               0  \n",
       "3      22501               0  \n",
       "4      10100               0  "
      ]
     },
     "execution_count": 508,
     "metadata": {},
     "output_type": "execute_result"
    }
   ],
   "source": [
    "d.head()"
   ]
  },
  {
   "cell_type": "code",
   "execution_count": 509,
   "id": "cd2018b2-c50c-4516-9c7a-6b558170eed7",
   "metadata": {},
   "outputs": [
    {
     "data": {
      "text/plain": [
       "0.6560464819307879"
      ]
     },
     "execution_count": 509,
     "metadata": {},
     "output_type": "execute_result"
    }
   ],
   "source": [
    "# Overall Accuracy\n",
    "d.falls_in_range.mean()"
   ]
  },
  {
   "cell_type": "code",
   "execution_count": 510,
   "id": "f1ebd0c8-3c8a-4152-9aea-3a1ab131238b",
   "metadata": {},
   "outputs": [
    {
     "data": {
      "text/html": [
       "<div>\n",
       "<style scoped>\n",
       "    .dataframe tbody tr th:only-of-type {\n",
       "        vertical-align: middle;\n",
       "    }\n",
       "\n",
       "    .dataframe tbody tr th {\n",
       "        vertical-align: top;\n",
       "    }\n",
       "\n",
       "    .dataframe thead th {\n",
       "        text-align: right;\n",
       "    }\n",
       "</style>\n",
       "<table border=\"1\" class=\"dataframe\">\n",
       "  <thead>\n",
       "    <tr style=\"text-align: right;\">\n",
       "      <th></th>\n",
       "      <th>y_true_disc</th>\n",
       "      <th>falls_in_range</th>\n",
       "    </tr>\n",
       "  </thead>\n",
       "  <tbody>\n",
       "    <tr>\n",
       "      <th>0</th>\n",
       "      <td>d01</td>\n",
       "      <td>0.46</td>\n",
       "    </tr>\n",
       "    <tr>\n",
       "      <th>1</th>\n",
       "      <td>d02</td>\n",
       "      <td>0.56</td>\n",
       "    </tr>\n",
       "    <tr>\n",
       "      <th>2</th>\n",
       "      <td>d03</td>\n",
       "      <td>0.63</td>\n",
       "    </tr>\n",
       "    <tr>\n",
       "      <th>3</th>\n",
       "      <td>d04</td>\n",
       "      <td>0.66</td>\n",
       "    </tr>\n",
       "    <tr>\n",
       "      <th>4</th>\n",
       "      <td>d05</td>\n",
       "      <td>0.70</td>\n",
       "    </tr>\n",
       "    <tr>\n",
       "      <th>5</th>\n",
       "      <td>d06</td>\n",
       "      <td>0.71</td>\n",
       "    </tr>\n",
       "    <tr>\n",
       "      <th>6</th>\n",
       "      <td>d07</td>\n",
       "      <td>0.71</td>\n",
       "    </tr>\n",
       "    <tr>\n",
       "      <th>7</th>\n",
       "      <td>d08</td>\n",
       "      <td>0.72</td>\n",
       "    </tr>\n",
       "    <tr>\n",
       "      <th>8</th>\n",
       "      <td>d09</td>\n",
       "      <td>0.72</td>\n",
       "    </tr>\n",
       "    <tr>\n",
       "      <th>9</th>\n",
       "      <td>d10</td>\n",
       "      <td>0.69</td>\n",
       "    </tr>\n",
       "  </tbody>\n",
       "</table>\n",
       "</div>"
      ],
      "text/plain": [
       "  y_true_disc  falls_in_range\n",
       "0         d01            0.46\n",
       "1         d02            0.56\n",
       "2         d03            0.63\n",
       "3         d04            0.66\n",
       "4         d05            0.70\n",
       "5         d06            0.71\n",
       "6         d07            0.71\n",
       "7         d08            0.72\n",
       "8         d09            0.72\n",
       "9         d10            0.69"
      ]
     },
     "execution_count": 510,
     "metadata": {},
     "output_type": "execute_result"
    }
   ],
   "source": [
    "# Accuracy by decile\n",
    "acc_by_dec = d.groupby('y_true_disc')['falls_in_range'].mean().reset_index()\n",
    "acc_by_dec"
   ]
  },
  {
   "cell_type": "code",
   "execution_count": 511,
   "id": "62e3ce13-ff8a-4ac1-a649-dc9423192c78",
   "metadata": {},
   "outputs": [
    {
     "data": {
      "image/png": "[encoded data removed]",
      "text/plain": [
       "<Figure size 720x360 with 1 Axes>"
      ]
     },
     "metadata": {
      "needs_background": "light"
     },
     "output_type": "display_data"
    }
   ],
   "source": [
    "# plot distribution\n",
    "fig = plt.figure(figsize = (10, 5))\n",
    "plt.plot(acc_by_dec['y_true_disc'], acc_by_dec['falls_in_range'])\n",
    "plt.xlabel(\"Accuracy by decile\")\n",
    "plt.show()"
   ]
  },
  {
   "cell_type": "code",
   "execution_count": null,
   "id": "0c706203-61e8-4a6e-893b-c34f0d3b9b1e",
   "metadata": {},
   "outputs": [],
   "source": []
  },
  {
   "cell_type": "markdown",
   "id": "651bdf0e-c686-4f62-968e-7ed2c82c832e",
   "metadata": {
    "jp-MarkdownHeadingCollapsed": true,
    "tags": []
   },
   "source": [
    "## Validacion OOT"
   ]
  },
  {
   "cell_type": "markdown",
   "id": "45bd7edb-8838-42fd-b25f-2d3f6ac33274",
   "metadata": {},
   "source": [
    "actualizar los datasets para que sean OOT contra la muestra actual de train que agarra hasta el 25 de mayo"
   ]
  },
  {
   "cell_type": "code",
   "execution_count": null,
   "id": "075faccf-60cb-43dc-92d9-c1dc44e713c6",
   "metadata": {},
   "outputs": [],
   "source": []
  },
  {
   "cell_type": "code",
   "execution_count": 512,
   "id": "b22209a3-1c9a-4dc2-94da-5578fb523dbb",
   "metadata": {
    "tags": []
   },
   "outputs": [],
   "source": [
    "# Importar tabla de Big Query\n",
    "#query = '''SELECT *\n",
    "#           FROM `data-team-k.pricing_data.match_meli_ok`\n",
    "#           WHERE date between \"2022-04-22\" and \"2022-04-26\"\n",
    "#            '''\n",
    "#df_scoreo_oot = gbq.read_gbq(query, project_id=\"data-team-k\")"
   ]
  },
  {
   "cell_type": "code",
   "execution_count": 513,
   "id": "d50d64dd-27c8-4521-8056-da187931684f",
   "metadata": {},
   "outputs": [],
   "source": [
    "# checkpoint download\n",
    "#df_scoreo_oot.to_csv('{}df_score_oot_mayor_2204.csv'.format(path_save))"
   ]
  },
  {
   "cell_type": "code",
   "execution_count": 514,
   "id": "90ac0404-ace2-488f-a3b2-10d6acd7031a",
   "metadata": {},
   "outputs": [],
   "source": [
    "# checkpoint upload\n",
    "df_scoreo_oot = pd.read_csv('{}df_score_oot_mayor_2204.csv'.format(path_datos))"
   ]
  },
  {
   "cell_type": "code",
   "execution_count": 38,
   "id": "c1547bc6-7734-4136-af26-8677a0f7ecf7",
   "metadata": {},
   "outputs": [
    {
     "data": {
      "text/plain": [
       "(557511, 43)"
      ]
     },
     "execution_count": 38,
     "metadata": {},
     "output_type": "execute_result"
    }
   ],
   "source": [
    "df_scoreo_oot.shape"
   ]
  },
  {
   "cell_type": "code",
   "execution_count": 39,
   "id": "4c505cd9-2b3f-46da-83a9-ed01701f114a",
   "metadata": {},
   "outputs": [
    {
     "name": "stdout",
     "output_type": "stream",
     "text": [
      "557511\n",
      "2022-04-22 2022-04-26\n"
     ]
    }
   ],
   "source": [
    "# chequeo\n",
    "print(len(df_scoreo_oot))\n",
    "print(df_scoreo_oot.date.min(), df_scoreo_oot.date.max())"
   ]
  },
  {
   "cell_type": "code",
   "execution_count": 40,
   "id": "df18a0e9-5d4e-479b-b9b6-2de4454fd7ca",
   "metadata": {},
   "outputs": [],
   "source": [
    "# Creamos la feature marca_modelo_version ya que necesitamos tenerla en el df para las funciones de limpieza\n",
    "df_scoreo_oot['marca_modelo_version'] = df_scoreo_oot['match_marca_a'] + str(' - ') +df_scoreo_oot['match_modelo_a'] + str(' - ') + df_scoreo_oot['match_v1_a']"
   ]
  },
  {
   "cell_type": "code",
   "execution_count": 41,
   "id": "3bfbc72e-e951-4b84-abb1-96da66209e68",
   "metadata": {},
   "outputs": [
    {
     "name": "stdout",
     "output_type": "stream",
     "text": [
      "Hey! 242 were removed due to null values\n",
      "Hey! 443424 were removed due to duplicate values\n",
      "Hey! 863 were removed due those 11111 or 9999 strange values\n",
      "Hey! 63313 were removed due to 0km or concesioarias\n",
      "Hey! 10703 were removed due to match scores under 80%\n",
      "Hey! 0 were removed due to last 15d filter\n",
      "Hey! 6463 were removed due to categories in which we are not interested in score\n"
     ]
    }
   ],
   "source": [
    "# aplicamos la limpieza pre split\n",
    "df_scoreo_oot = cleaning_before_split(df_scoreo_oot,ventana=15)"
   ]
  },
  {
   "cell_type": "code",
   "execution_count": 42,
   "id": "464e8734-ebb0-4ae6-9e78-2684650e0a24",
   "metadata": {},
   "outputs": [
    {
     "data": {
      "text/plain": [
       "(32503, 48)"
      ]
     },
     "execution_count": 42,
     "metadata": {},
     "output_type": "execute_result"
    }
   ],
   "source": [
    "df_scoreo_oot.shape"
   ]
  },
  {
   "cell_type": "code",
   "execution_count": 45,
   "id": "0f404875-1108-4b53-a2e7-014d6ac758cc",
   "metadata": {},
   "outputs": [
    {
     "name": "stdout",
     "output_type": "stream",
     "text": [
      "Hey! 337 were removed due to outliers globales\n",
      "Hey! 723 were removed from df due to outliers under context\n"
     ]
    }
   ],
   "source": [
    "# aplicamos la limpieza post split\n",
    "df_scoreo_oot = cleaning_after_split(df_scoreo_oot,path_datos)"
   ]
  },
  {
   "cell_type": "code",
   "execution_count": 48,
   "id": "3f555eb9-b8c6-4724-8591-5850f270b7f6",
   "metadata": {},
   "outputs": [
    {
     "data": {
      "text/plain": [
       "(31443, 48)"
      ]
     },
     "execution_count": 48,
     "metadata": {},
     "output_type": "execute_result"
    }
   ],
   "source": [
    "df_scoreo_oot.shape"
   ]
  },
  {
   "cell_type": "code",
   "execution_count": 49,
   "id": "8b92b221-d713-4e63-943d-181b03748cab",
   "metadata": {},
   "outputs": [],
   "source": [
    "model_features = ['car_year','car_kms','match_marca_a','match_modelo_a','match_v1_a','Subseg_a', 'Seg_a']"
   ]
  },
  {
   "cell_type": "code",
   "execution_count": 50,
   "id": "04fb13ad-5d81-448d-8f76-691361e02a31",
   "metadata": {},
   "outputs": [],
   "source": [
    "import pickle\n",
    "path_model = '../model/'\n",
    "with open('{}model_dolar_v4.pickle'.format(path_model), 'rb') as f:\n",
    "    model = pickle.load(f)"
   ]
  },
  {
   "cell_type": "code",
   "execution_count": 51,
   "id": "18168b79-777a-493b-a24a-cfe1b0ac6aef",
   "metadata": {},
   "outputs": [],
   "source": [
    "X_oot = df_scoreo_oot[model_features].copy()\n",
    "y_oot = df_scoreo_oot.price_meli_ok.copy()"
   ]
  },
  {
   "cell_type": "code",
   "execution_count": 52,
   "id": "777490c7-b271-4838-88ef-8bacd8e72a3e",
   "metadata": {},
   "outputs": [
    {
     "name": "stdout",
     "output_type": "stream",
     "text": [
      "OOT set evaluation:\n",
      "_____________________________________\n",
      "MAE: 1186.0599043281586\n",
      "MAPE: 10.603378696773367\n",
      "MEDAPE: 8.311162881151073\n",
      "MSE: 2838097.369760595\n",
      "RMSE: 1684.6653583903822\n",
      "R2 Square 0.9569591157843419\n",
      "__________________________________\n"
     ]
    }
   ],
   "source": [
    "# Assesment\n",
    "oot_pred = model.predict(X_oot)\n",
    "\n",
    "print('OOT set evaluation:\\n_____________________________________')\n",
    "print_evaluate(y_oot, oot_pred)"
   ]
  },
  {
   "cell_type": "markdown",
   "id": "8ee40a1c-3b71-4de1-9511-b4153f67f4e8",
   "metadata": {},
   "source": [
    "### Model assesment (on validation/oot set)"
   ]
  },
  {
   "cell_type": "code",
   "execution_count": 53,
   "id": "9da74bb7-eac4-4bc5-b920-3935e2eb4ba4",
   "metadata": {},
   "outputs": [],
   "source": [
    "oot_pred = pd.Series(oot_pred,name='oot_pred')\n",
    "d = pd.concat([X_oot.reset_index(drop=True), y_oot.reset_index(drop=True), oot_pred],1)"
   ]
  },
  {
   "cell_type": "code",
   "execution_count": 54,
   "id": "fccd2dd4-615f-4de8-a0c8-4bb00a0eab52",
   "metadata": {},
   "outputs": [
    {
     "data": {
      "text/html": [
       "<div>\n",
       "<style scoped>\n",
       "    .dataframe tbody tr th:only-of-type {\n",
       "        vertical-align: middle;\n",
       "    }\n",
       "\n",
       "    .dataframe tbody tr th {\n",
       "        vertical-align: top;\n",
       "    }\n",
       "\n",
       "    .dataframe thead th {\n",
       "        text-align: right;\n",
       "    }\n",
       "</style>\n",
       "<table border=\"1\" class=\"dataframe\">\n",
       "  <thead>\n",
       "    <tr style=\"text-align: right;\">\n",
       "      <th></th>\n",
       "      <th>car_year</th>\n",
       "      <th>car_kms</th>\n",
       "      <th>match_marca_a</th>\n",
       "      <th>match_modelo_a</th>\n",
       "      <th>match_v1_a</th>\n",
       "      <th>Subseg_a</th>\n",
       "      <th>Seg_a</th>\n",
       "      <th>price_meli_ok</th>\n",
       "      <th>oot_pred</th>\n",
       "    </tr>\n",
       "  </thead>\n",
       "  <tbody>\n",
       "    <tr>\n",
       "      <th>0</th>\n",
       "      <td>2015.00</td>\n",
       "      <td>74000</td>\n",
       "      <td>CHEVROLET</td>\n",
       "      <td>Montana</td>\n",
       "      <td>1.8 8v. LS AA DA (105cv) DISCONTINUO</td>\n",
       "      <td>Baja PU - Furgones</td>\n",
       "      <td>Livianos</td>\n",
       "      <td>8867.00</td>\n",
       "      <td>9071.45</td>\n",
       "    </tr>\n",
       "    <tr>\n",
       "      <th>1</th>\n",
       "      <td>2020.00</td>\n",
       "      <td>1000</td>\n",
       "      <td>HONDA</td>\n",
       "      <td>Fit</td>\n",
       "      <td>1.5 EX CVT IVTEC (120cv) (L18)</td>\n",
       "      <td>Monovolumen Compacto</td>\n",
       "      <td>Monovolumen</td>\n",
       "      <td>25000.00</td>\n",
       "      <td>25048.10</td>\n",
       "    </tr>\n",
       "    <tr>\n",
       "      <th>2</th>\n",
       "      <td>2015.00</td>\n",
       "      <td>41000</td>\n",
       "      <td>CHEVROLET</td>\n",
       "      <td>Cobalt</td>\n",
       "      <td>1.8 8v. LT MT (105cv)</td>\n",
       "      <td>Gama Pequenos Sedan</td>\n",
       "      <td>Gama Pequenos</td>\n",
       "      <td>8128.08</td>\n",
       "      <td>9457.16</td>\n",
       "    </tr>\n",
       "    <tr>\n",
       "      <th>3</th>\n",
       "      <td>2018.00</td>\n",
       "      <td>94000</td>\n",
       "      <td>CHEVROLET</td>\n",
       "      <td>Montana</td>\n",
       "      <td>1.8 8v. LS AA DA (105cv) DISCONTINUO</td>\n",
       "      <td>Baja PU - Furgones</td>\n",
       "      <td>Livianos</td>\n",
       "      <td>9882.35</td>\n",
       "      <td>10721.50</td>\n",
       "    </tr>\n",
       "    <tr>\n",
       "      <th>4</th>\n",
       "      <td>2018.00</td>\n",
       "      <td>15561</td>\n",
       "      <td>FIAT</td>\n",
       "      <td>Uno</td>\n",
       "      <td>Fire 1.3 Pack C / Way (68cv) 5Ptas.</td>\n",
       "      <td>Gama Pequenos Hatchback</td>\n",
       "      <td>Gama Pequenos</td>\n",
       "      <td>9882.35</td>\n",
       "      <td>12139.74</td>\n",
       "    </tr>\n",
       "  </tbody>\n",
       "</table>\n",
       "</div>"
      ],
      "text/plain": [
       "   car_year  car_kms match_marca_a match_modelo_a  \\\n",
       "0   2015.00    74000     CHEVROLET        Montana   \n",
       "1   2020.00     1000         HONDA            Fit   \n",
       "2   2015.00    41000     CHEVROLET         Cobalt   \n",
       "3   2018.00    94000     CHEVROLET        Montana   \n",
       "4   2018.00    15561          FIAT            Uno   \n",
       "\n",
       "                             match_v1_a                 Subseg_a  \\\n",
       "0  1.8 8v. LS AA DA (105cv) DISCONTINUO       Baja PU - Furgones   \n",
       "1        1.5 EX CVT IVTEC (120cv) (L18)     Monovolumen Compacto   \n",
       "2                 1.8 8v. LT MT (105cv)      Gama Pequenos Sedan   \n",
       "3  1.8 8v. LS AA DA (105cv) DISCONTINUO       Baja PU - Furgones   \n",
       "4   Fire 1.3 Pack C / Way (68cv) 5Ptas.  Gama Pequenos Hatchback   \n",
       "\n",
       "           Seg_a  price_meli_ok  oot_pred  \n",
       "0       Livianos        8867.00   9071.45  \n",
       "1    Monovolumen       25000.00  25048.10  \n",
       "2  Gama Pequenos        8128.08   9457.16  \n",
       "3       Livianos        9882.35  10721.50  \n",
       "4  Gama Pequenos        9882.35  12139.74  "
      ]
     },
     "execution_count": 54,
     "metadata": {},
     "output_type": "execute_result"
    }
   ],
   "source": [
    "d.head()"
   ]
  },
  {
   "cell_type": "code",
   "execution_count": 55,
   "id": "9fbbfc37-fa58-4c22-8e3f-d21c97526b20",
   "metadata": {},
   "outputs": [],
   "source": [
    "y_val = d['price_meli_ok']\n",
    "deciles_y_true = y_val.quantile([0.1,0.2,0.3,0.4,0.5,0.6,0.7,0.8,0.9,1])\n",
    "\n",
    "dic = {}\n",
    "for i in range(1,10+1):\n",
    "    dic['d{}'.format(i)] = deciles_y_true.values[i-1]"
   ]
  },
  {
   "cell_type": "code",
   "execution_count": 56,
   "id": "9d5da128-d286-49de-ad97-200987f61a01",
   "metadata": {},
   "outputs": [
    {
     "data": {
      "text/plain": [
       "{'d1': 5176.470588235294,\n",
       " 'd2': 6365.152941176472,\n",
       " 'd3': 7635.467980295566,\n",
       " 'd4': 8941.176470588236,\n",
       " 'd5': 10352.941176470587,\n",
       " 'd6': 11764.70588235294,\n",
       " 'd7': 14070.588235294117,\n",
       " 'd8': 17176.470588235294,\n",
       " 'd9': 23000.0,\n",
       " 'd10': 53176.470588235294}"
      ]
     },
     "execution_count": 56,
     "metadata": {},
     "output_type": "execute_result"
    }
   ],
   "source": [
    "dic"
   ]
  },
  {
   "cell_type": "code",
   "execution_count": 57,
   "id": "68b361ac-0731-49d8-aa8a-6894e950af9b",
   "metadata": {},
   "outputs": [],
   "source": [
    "# We discretize the vector of true labels to see it in deciles\n",
    "d['y_true_disc'] = np.where(y_val <= dic['d1'], 'd01',\n",
    "                       np.where((y_val > dic['d1']) & (y_val <= dic['d2']), 'd02',\n",
    "                               np.where((y_val > dic['d2']) & (y_val <= dic['d3']), 'd03',\n",
    "                                       np.where((y_val > dic['d3']) & (y_val <= dic['d4']), 'd04',\n",
    "                                               np.where((y_val > dic['d4']) & (y_val <= dic['d5']), 'd05',\n",
    "                                                       np.where((y_val > dic['d5']) & (y_val <= dic['d6']), 'd06',\n",
    "                                                               np.where((y_val > dic['d6']) & (y_val <= dic['d7']), 'd07',\n",
    "                                                                       np.where((y_val > dic['d7']) & (y_val <= dic['d8']), 'd08',\n",
    "                                                                               np.where((y_val > dic['d8']) & (y_val <= dic['d9']), 'd09',\n",
    "                                                                                       np.where((y_val > dic['d9']) & (y_val <= dic['d10']), 'd10','out_of_bounds'))))))))))"
   ]
  },
  {
   "cell_type": "code",
   "execution_count": 58,
   "id": "e327796e-ee78-47c3-ab24-ab8e37bf2e6e",
   "metadata": {},
   "outputs": [
    {
     "data": {
      "text/html": [
       "<div>\n",
       "<style scoped>\n",
       "    .dataframe tbody tr th:only-of-type {\n",
       "        vertical-align: middle;\n",
       "    }\n",
       "\n",
       "    .dataframe tbody tr th {\n",
       "        vertical-align: top;\n",
       "    }\n",
       "\n",
       "    .dataframe thead th {\n",
       "        text-align: right;\n",
       "    }\n",
       "</style>\n",
       "<table border=\"1\" class=\"dataframe\">\n",
       "  <thead>\n",
       "    <tr style=\"text-align: right;\">\n",
       "      <th></th>\n",
       "      <th>car_year</th>\n",
       "      <th>car_kms</th>\n",
       "      <th>match_marca_a</th>\n",
       "      <th>match_modelo_a</th>\n",
       "      <th>match_v1_a</th>\n",
       "      <th>Subseg_a</th>\n",
       "      <th>Seg_a</th>\n",
       "      <th>price_meli_ok</th>\n",
       "      <th>oot_pred</th>\n",
       "      <th>y_true_disc</th>\n",
       "    </tr>\n",
       "  </thead>\n",
       "  <tbody>\n",
       "    <tr>\n",
       "      <th>0</th>\n",
       "      <td>2015.00</td>\n",
       "      <td>74000</td>\n",
       "      <td>CHEVROLET</td>\n",
       "      <td>Montana</td>\n",
       "      <td>1.8 8v. LS AA DA (105cv) DISCONTINUO</td>\n",
       "      <td>Baja PU - Furgones</td>\n",
       "      <td>Livianos</td>\n",
       "      <td>8867.00</td>\n",
       "      <td>9071.45</td>\n",
       "      <td>d04</td>\n",
       "    </tr>\n",
       "    <tr>\n",
       "      <th>1</th>\n",
       "      <td>2020.00</td>\n",
       "      <td>1000</td>\n",
       "      <td>HONDA</td>\n",
       "      <td>Fit</td>\n",
       "      <td>1.5 EX CVT IVTEC (120cv) (L18)</td>\n",
       "      <td>Monovolumen Compacto</td>\n",
       "      <td>Monovolumen</td>\n",
       "      <td>25000.00</td>\n",
       "      <td>25048.10</td>\n",
       "      <td>d10</td>\n",
       "    </tr>\n",
       "    <tr>\n",
       "      <th>2</th>\n",
       "      <td>2015.00</td>\n",
       "      <td>41000</td>\n",
       "      <td>CHEVROLET</td>\n",
       "      <td>Cobalt</td>\n",
       "      <td>1.8 8v. LT MT (105cv)</td>\n",
       "      <td>Gama Pequenos Sedan</td>\n",
       "      <td>Gama Pequenos</td>\n",
       "      <td>8128.08</td>\n",
       "      <td>9457.16</td>\n",
       "      <td>d04</td>\n",
       "    </tr>\n",
       "    <tr>\n",
       "      <th>3</th>\n",
       "      <td>2018.00</td>\n",
       "      <td>94000</td>\n",
       "      <td>CHEVROLET</td>\n",
       "      <td>Montana</td>\n",
       "      <td>1.8 8v. LS AA DA (105cv) DISCONTINUO</td>\n",
       "      <td>Baja PU - Furgones</td>\n",
       "      <td>Livianos</td>\n",
       "      <td>9882.35</td>\n",
       "      <td>10721.50</td>\n",
       "      <td>d05</td>\n",
       "    </tr>\n",
       "    <tr>\n",
       "      <th>4</th>\n",
       "      <td>2018.00</td>\n",
       "      <td>15561</td>\n",
       "      <td>FIAT</td>\n",
       "      <td>Uno</td>\n",
       "      <td>Fire 1.3 Pack C / Way (68cv) 5Ptas.</td>\n",
       "      <td>Gama Pequenos Hatchback</td>\n",
       "      <td>Gama Pequenos</td>\n",
       "      <td>9882.35</td>\n",
       "      <td>12139.74</td>\n",
       "      <td>d05</td>\n",
       "    </tr>\n",
       "    <tr>\n",
       "      <th>5</th>\n",
       "      <td>2021.00</td>\n",
       "      <td>4900</td>\n",
       "      <td>CITROEN</td>\n",
       "      <td>C4 Lounge</td>\n",
       "      <td>1.6 THP 6MT Feel Pack (165cv) (L16)</td>\n",
       "      <td>Gama Medianos Sedan</td>\n",
       "      <td>Gama Medianos</td>\n",
       "      <td>18305.88</td>\n",
       "      <td>23075.12</td>\n",
       "      <td>d09</td>\n",
       "    </tr>\n",
       "    <tr>\n",
       "      <th>6</th>\n",
       "      <td>2021.00</td>\n",
       "      <td>18500</td>\n",
       "      <td>CITROEN</td>\n",
       "      <td>C4 Lounge</td>\n",
       "      <td>1.6 HDI 6MT Feel Pack (115cv) (L16)</td>\n",
       "      <td>Gama Medianos Sedan</td>\n",
       "      <td>Gama Medianos</td>\n",
       "      <td>16894.12</td>\n",
       "      <td>21555.08</td>\n",
       "      <td>d08</td>\n",
       "    </tr>\n",
       "    <tr>\n",
       "      <th>7</th>\n",
       "      <td>2021.00</td>\n",
       "      <td>7200</td>\n",
       "      <td>CITROEN</td>\n",
       "      <td>C4 Lounge</td>\n",
       "      <td>1.6 THP 6AT Shine (165cv) (L16)</td>\n",
       "      <td>Gama Medianos Sedan</td>\n",
       "      <td>Gama Medianos</td>\n",
       "      <td>18588.24</td>\n",
       "      <td>23321.37</td>\n",
       "      <td>d09</td>\n",
       "    </tr>\n",
       "    <tr>\n",
       "      <th>8</th>\n",
       "      <td>2020.00</td>\n",
       "      <td>204000</td>\n",
       "      <td>RENAULT</td>\n",
       "      <td>Sandero Stepway</td>\n",
       "      <td>Fase II 1.6 16v Expression / Confort ABCP ABS ...</td>\n",
       "      <td>Gama Pequenos Hatchback</td>\n",
       "      <td>Gama Pequenos</td>\n",
       "      <td>5647.06</td>\n",
       "      <td>12186.81</td>\n",
       "      <td>d02</td>\n",
       "    </tr>\n",
       "    <tr>\n",
       "      <th>9</th>\n",
       "      <td>2019.00</td>\n",
       "      <td>6900</td>\n",
       "      <td>CITROEN</td>\n",
       "      <td>C4</td>\n",
       "      <td>5Ptas.- 1.6 Hdi SX</td>\n",
       "      <td>Gama Medianos Sedan</td>\n",
       "      <td>Gama Medianos</td>\n",
       "      <td>18588.24</td>\n",
       "      <td>15887.18</td>\n",
       "      <td>d09</td>\n",
       "    </tr>\n",
       "  </tbody>\n",
       "</table>\n",
       "</div>"
      ],
      "text/plain": [
       "   car_year  car_kms match_marca_a   match_modelo_a  \\\n",
       "0   2015.00    74000     CHEVROLET          Montana   \n",
       "1   2020.00     1000         HONDA              Fit   \n",
       "2   2015.00    41000     CHEVROLET           Cobalt   \n",
       "3   2018.00    94000     CHEVROLET          Montana   \n",
       "4   2018.00    15561          FIAT              Uno   \n",
       "5   2021.00     4900       CITROEN        C4 Lounge   \n",
       "6   2021.00    18500       CITROEN        C4 Lounge   \n",
       "7   2021.00     7200       CITROEN        C4 Lounge   \n",
       "8   2020.00   204000       RENAULT  Sandero Stepway   \n",
       "9   2019.00     6900       CITROEN               C4   \n",
       "\n",
       "                                          match_v1_a                 Subseg_a  \\\n",
       "0               1.8 8v. LS AA DA (105cv) DISCONTINUO       Baja PU - Furgones   \n",
       "1                     1.5 EX CVT IVTEC (120cv) (L18)     Monovolumen Compacto   \n",
       "2                              1.8 8v. LT MT (105cv)      Gama Pequenos Sedan   \n",
       "3               1.8 8v. LS AA DA (105cv) DISCONTINUO       Baja PU - Furgones   \n",
       "4                Fire 1.3 Pack C / Way (68cv) 5Ptas.  Gama Pequenos Hatchback   \n",
       "5                1.6 THP 6MT Feel Pack (165cv) (L16)      Gama Medianos Sedan   \n",
       "6                1.6 HDI 6MT Feel Pack (115cv) (L16)      Gama Medianos Sedan   \n",
       "7                    1.6 THP 6AT Shine (165cv) (L16)      Gama Medianos Sedan   \n",
       "8  Fase II 1.6 16v Expression / Confort ABCP ABS ...  Gama Pequenos Hatchback   \n",
       "9                                 5Ptas.- 1.6 Hdi SX      Gama Medianos Sedan   \n",
       "\n",
       "           Seg_a  price_meli_ok  oot_pred y_true_disc  \n",
       "0       Livianos        8867.00   9071.45         d04  \n",
       "1    Monovolumen       25000.00  25048.10         d10  \n",
       "2  Gama Pequenos        8128.08   9457.16         d04  \n",
       "3       Livianos        9882.35  10721.50         d05  \n",
       "4  Gama Pequenos        9882.35  12139.74         d05  \n",
       "5  Gama Medianos       18305.88  23075.12         d09  \n",
       "6  Gama Medianos       16894.12  21555.08         d08  \n",
       "7  Gama Medianos       18588.24  23321.37         d09  \n",
       "8  Gama Pequenos        5647.06  12186.81         d02  \n",
       "9  Gama Medianos       18588.24  15887.18         d09  "
      ]
     },
     "execution_count": 58,
     "metadata": {},
     "output_type": "execute_result"
    }
   ],
   "source": [
    "d.head(10)"
   ]
  },
  {
   "cell_type": "code",
   "execution_count": 59,
   "id": "477b251e-02da-42e0-b97c-716a29d4e7d3",
   "metadata": {},
   "outputs": [],
   "source": [
    "# Accuracy\n",
    "d['menos10perc'] = d.oot_pred * 0.9\n",
    "d['mas10perc'] = d.oot_pred * 1.1\n",
    "d['menos10perc'] = d['menos10perc'].astype('int')\n",
    "d['mas10perc'] = d['mas10perc'].astype('int')\n",
    "d['falls_in_range'] = np.where(\n",
    "    (d['price_meli_ok']>=d['menos10perc']) & (d['price_meli_ok']<=d['mas10perc']),1,0)"
   ]
  },
  {
   "cell_type": "code",
   "execution_count": 60,
   "id": "2d216f4d-9aaa-4007-a1a9-9b649d98225f",
   "metadata": {},
   "outputs": [
    {
     "data": {
      "text/html": [
       "<div>\n",
       "<style scoped>\n",
       "    .dataframe tbody tr th:only-of-type {\n",
       "        vertical-align: middle;\n",
       "    }\n",
       "\n",
       "    .dataframe tbody tr th {\n",
       "        vertical-align: top;\n",
       "    }\n",
       "\n",
       "    .dataframe thead th {\n",
       "        text-align: right;\n",
       "    }\n",
       "</style>\n",
       "<table border=\"1\" class=\"dataframe\">\n",
       "  <thead>\n",
       "    <tr style=\"text-align: right;\">\n",
       "      <th></th>\n",
       "      <th>car_year</th>\n",
       "      <th>car_kms</th>\n",
       "      <th>match_marca_a</th>\n",
       "      <th>match_modelo_a</th>\n",
       "      <th>match_v1_a</th>\n",
       "      <th>Subseg_a</th>\n",
       "      <th>Seg_a</th>\n",
       "      <th>price_meli_ok</th>\n",
       "      <th>oot_pred</th>\n",
       "      <th>y_true_disc</th>\n",
       "      <th>menos10perc</th>\n",
       "      <th>mas10perc</th>\n",
       "      <th>falls_in_range</th>\n",
       "    </tr>\n",
       "  </thead>\n",
       "  <tbody>\n",
       "    <tr>\n",
       "      <th>0</th>\n",
       "      <td>2015.00</td>\n",
       "      <td>74000</td>\n",
       "      <td>CHEVROLET</td>\n",
       "      <td>Montana</td>\n",
       "      <td>1.8 8v. LS AA DA (105cv) DISCONTINUO</td>\n",
       "      <td>Baja PU - Furgones</td>\n",
       "      <td>Livianos</td>\n",
       "      <td>8867.00</td>\n",
       "      <td>9071.45</td>\n",
       "      <td>d04</td>\n",
       "      <td>8164</td>\n",
       "      <td>9978</td>\n",
       "      <td>1</td>\n",
       "    </tr>\n",
       "    <tr>\n",
       "      <th>1</th>\n",
       "      <td>2020.00</td>\n",
       "      <td>1000</td>\n",
       "      <td>HONDA</td>\n",
       "      <td>Fit</td>\n",
       "      <td>1.5 EX CVT IVTEC (120cv) (L18)</td>\n",
       "      <td>Monovolumen Compacto</td>\n",
       "      <td>Monovolumen</td>\n",
       "      <td>25000.00</td>\n",
       "      <td>25048.10</td>\n",
       "      <td>d10</td>\n",
       "      <td>22543</td>\n",
       "      <td>27552</td>\n",
       "      <td>1</td>\n",
       "    </tr>\n",
       "    <tr>\n",
       "      <th>2</th>\n",
       "      <td>2015.00</td>\n",
       "      <td>41000</td>\n",
       "      <td>CHEVROLET</td>\n",
       "      <td>Cobalt</td>\n",
       "      <td>1.8 8v. LT MT (105cv)</td>\n",
       "      <td>Gama Pequenos Sedan</td>\n",
       "      <td>Gama Pequenos</td>\n",
       "      <td>8128.08</td>\n",
       "      <td>9457.16</td>\n",
       "      <td>d04</td>\n",
       "      <td>8511</td>\n",
       "      <td>10402</td>\n",
       "      <td>0</td>\n",
       "    </tr>\n",
       "    <tr>\n",
       "      <th>3</th>\n",
       "      <td>2018.00</td>\n",
       "      <td>94000</td>\n",
       "      <td>CHEVROLET</td>\n",
       "      <td>Montana</td>\n",
       "      <td>1.8 8v. LS AA DA (105cv) DISCONTINUO</td>\n",
       "      <td>Baja PU - Furgones</td>\n",
       "      <td>Livianos</td>\n",
       "      <td>9882.35</td>\n",
       "      <td>10721.50</td>\n",
       "      <td>d05</td>\n",
       "      <td>9649</td>\n",
       "      <td>11793</td>\n",
       "      <td>1</td>\n",
       "    </tr>\n",
       "    <tr>\n",
       "      <th>4</th>\n",
       "      <td>2018.00</td>\n",
       "      <td>15561</td>\n",
       "      <td>FIAT</td>\n",
       "      <td>Uno</td>\n",
       "      <td>Fire 1.3 Pack C / Way (68cv) 5Ptas.</td>\n",
       "      <td>Gama Pequenos Hatchback</td>\n",
       "      <td>Gama Pequenos</td>\n",
       "      <td>9882.35</td>\n",
       "      <td>12139.74</td>\n",
       "      <td>d05</td>\n",
       "      <td>10925</td>\n",
       "      <td>13353</td>\n",
       "      <td>0</td>\n",
       "    </tr>\n",
       "  </tbody>\n",
       "</table>\n",
       "</div>"
      ],
      "text/plain": [
       "   car_year  car_kms match_marca_a match_modelo_a  \\\n",
       "0   2015.00    74000     CHEVROLET        Montana   \n",
       "1   2020.00     1000         HONDA            Fit   \n",
       "2   2015.00    41000     CHEVROLET         Cobalt   \n",
       "3   2018.00    94000     CHEVROLET        Montana   \n",
       "4   2018.00    15561          FIAT            Uno   \n",
       "\n",
       "                             match_v1_a                 Subseg_a  \\\n",
       "0  1.8 8v. LS AA DA (105cv) DISCONTINUO       Baja PU - Furgones   \n",
       "1        1.5 EX CVT IVTEC (120cv) (L18)     Monovolumen Compacto   \n",
       "2                 1.8 8v. LT MT (105cv)      Gama Pequenos Sedan   \n",
       "3  1.8 8v. LS AA DA (105cv) DISCONTINUO       Baja PU - Furgones   \n",
       "4   Fire 1.3 Pack C / Way (68cv) 5Ptas.  Gama Pequenos Hatchback   \n",
       "\n",
       "           Seg_a  price_meli_ok  oot_pred y_true_disc  menos10perc  mas10perc  \\\n",
       "0       Livianos        8867.00   9071.45         d04         8164       9978   \n",
       "1    Monovolumen       25000.00  25048.10         d10        22543      27552   \n",
       "2  Gama Pequenos        8128.08   9457.16         d04         8511      10402   \n",
       "3       Livianos        9882.35  10721.50         d05         9649      11793   \n",
       "4  Gama Pequenos        9882.35  12139.74         d05        10925      13353   \n",
       "\n",
       "   falls_in_range  \n",
       "0               1  \n",
       "1               1  \n",
       "2               0  \n",
       "3               1  \n",
       "4               0  "
      ]
     },
     "execution_count": 60,
     "metadata": {},
     "output_type": "execute_result"
    }
   ],
   "source": [
    "d.head()"
   ]
  },
  {
   "cell_type": "code",
   "execution_count": 61,
   "id": "880884b2-f654-4421-b479-6298eabad766",
   "metadata": {},
   "outputs": [
    {
     "data": {
      "text/plain": [
       "0.6127914003116751"
      ]
     },
     "execution_count": 61,
     "metadata": {},
     "output_type": "execute_result"
    }
   ],
   "source": [
    "# Overall Accuracy\n",
    "d.falls_in_range.mean()"
   ]
  },
  {
   "cell_type": "code",
   "execution_count": 62,
   "id": "4f1fdfe2-8913-441f-b95c-e7eeee7c5786",
   "metadata": {},
   "outputs": [
    {
     "data": {
      "text/html": [
       "<div>\n",
       "<style scoped>\n",
       "    .dataframe tbody tr th:only-of-type {\n",
       "        vertical-align: middle;\n",
       "    }\n",
       "\n",
       "    .dataframe tbody tr th {\n",
       "        vertical-align: top;\n",
       "    }\n",
       "\n",
       "    .dataframe thead th {\n",
       "        text-align: right;\n",
       "    }\n",
       "</style>\n",
       "<table border=\"1\" class=\"dataframe\">\n",
       "  <thead>\n",
       "    <tr style=\"text-align: right;\">\n",
       "      <th></th>\n",
       "      <th>y_true_disc</th>\n",
       "      <th>falls_in_range</th>\n",
       "    </tr>\n",
       "  </thead>\n",
       "  <tbody>\n",
       "    <tr>\n",
       "      <th>0</th>\n",
       "      <td>d01</td>\n",
       "      <td>0.39</td>\n",
       "    </tr>\n",
       "    <tr>\n",
       "      <th>1</th>\n",
       "      <td>d02</td>\n",
       "      <td>0.57</td>\n",
       "    </tr>\n",
       "    <tr>\n",
       "      <th>2</th>\n",
       "      <td>d03</td>\n",
       "      <td>0.63</td>\n",
       "    </tr>\n",
       "    <tr>\n",
       "      <th>3</th>\n",
       "      <td>d04</td>\n",
       "      <td>0.57</td>\n",
       "    </tr>\n",
       "    <tr>\n",
       "      <th>4</th>\n",
       "      <td>d05</td>\n",
       "      <td>0.62</td>\n",
       "    </tr>\n",
       "    <tr>\n",
       "      <th>5</th>\n",
       "      <td>d06</td>\n",
       "      <td>0.68</td>\n",
       "    </tr>\n",
       "    <tr>\n",
       "      <th>6</th>\n",
       "      <td>d07</td>\n",
       "      <td>0.68</td>\n",
       "    </tr>\n",
       "    <tr>\n",
       "      <th>7</th>\n",
       "      <td>d08</td>\n",
       "      <td>0.66</td>\n",
       "    </tr>\n",
       "    <tr>\n",
       "      <th>8</th>\n",
       "      <td>d09</td>\n",
       "      <td>0.66</td>\n",
       "    </tr>\n",
       "    <tr>\n",
       "      <th>9</th>\n",
       "      <td>d10</td>\n",
       "      <td>0.71</td>\n",
       "    </tr>\n",
       "  </tbody>\n",
       "</table>\n",
       "</div>"
      ],
      "text/plain": [
       "  y_true_disc  falls_in_range\n",
       "0         d01            0.39\n",
       "1         d02            0.57\n",
       "2         d03            0.63\n",
       "3         d04            0.57\n",
       "4         d05            0.62\n",
       "5         d06            0.68\n",
       "6         d07            0.68\n",
       "7         d08            0.66\n",
       "8         d09            0.66\n",
       "9         d10            0.71"
      ]
     },
     "execution_count": 62,
     "metadata": {},
     "output_type": "execute_result"
    }
   ],
   "source": [
    "# Accuracy by decile\n",
    "acc_by_dec = d.groupby('y_true_disc')['falls_in_range'].mean().reset_index()\n",
    "acc_by_dec"
   ]
  },
  {
   "cell_type": "code",
   "execution_count": 63,
   "id": "9e628ddb-5064-444b-9eee-52149f86bc90",
   "metadata": {},
   "outputs": [
    {
     "data": {
      "image/png": "[encoded data removed]",
      "text/plain": [
       "<Figure size 720x360 with 1 Axes>"
      ]
     },
     "metadata": {
      "needs_background": "light"
     },
     "output_type": "display_data"
    }
   ],
   "source": [
    "# plot distribution\n",
    "fig = plt.figure(figsize = (10, 5))\n",
    "plt.plot(acc_by_dec['y_true_disc'], acc_by_dec['falls_in_range'])\n",
    "plt.xlabel(\"DECILES\")\n",
    "plt.ylabel(\"ACCURACY BY DECILES\")\n",
    "plt.show()"
   ]
  },
  {
   "cell_type": "markdown",
   "id": "45881bd8-ccf8-469a-990f-81e8cb0664c6",
   "metadata": {},
   "source": [
    "### Validacion OOT (IDs nuevos!)\n",
    "fecha de la corrida: 4 de mayo"
   ]
  },
  {
   "cell_type": "code",
   "execution_count": 64,
   "id": "4a4d7c21-2f9e-437e-a8a7-5e0f621720eb",
   "metadata": {
    "tags": []
   },
   "outputs": [],
   "source": [
    "# Importar tabla de Big Query\n",
    "#query = '''SELECT *\n",
    "#           FROM `data-team-k.pricing_data.match_meli_ok`\n",
    "#           WHERE date > \"2022-04-26\"\n",
    "#            '''\n",
    "#df_scoreo_oot = gbq.read_gbq(query, project_id=\"data-team-k\")"
   ]
  },
  {
   "cell_type": "code",
   "execution_count": 65,
   "id": "549e08cf-b049-414d-baab-d385ccad2952",
   "metadata": {},
   "outputs": [],
   "source": [
    "#df_scoreo_oot.shape"
   ]
  },
  {
   "cell_type": "code",
   "execution_count": 66,
   "id": "a7e974ba-a212-486d-942e-9612ee3ff206",
   "metadata": {},
   "outputs": [],
   "source": [
    "# checkpoint upload\n",
    "#df_scoreo_oot.to_csv('{}df_score_oot_IDsnuevos_mayor_2604.csv'.format(path_save))"
   ]
  },
  {
   "cell_type": "code",
   "execution_count": 68,
   "id": "5f95439d-869b-4aee-9857-2a5d6179b201",
   "metadata": {},
   "outputs": [],
   "source": [
    "# checkpoint upload\n",
    "df_scoreo_oot = pd.read_csv('{}df_score_oot_IDsnuevos_mayor_2604.csv'.format(path_datos))"
   ]
  },
  {
   "cell_type": "code",
   "execution_count": 69,
   "id": "6efafd61-a4b8-4927-b0ba-2d7aebcbe41d",
   "metadata": {},
   "outputs": [
    {
     "data": {
      "text/plain": [
       "(861914, 43)"
      ]
     },
     "execution_count": 69,
     "metadata": {},
     "output_type": "execute_result"
    }
   ],
   "source": [
    "df_scoreo_oot.shape"
   ]
  },
  {
   "cell_type": "code",
   "execution_count": 70,
   "id": "6ade9d9d-6cbf-4c53-b852-8d1fd70ca681",
   "metadata": {},
   "outputs": [
    {
     "name": "stdout",
     "output_type": "stream",
     "text": [
      "861914\n",
      "2022-04-26 2022-05-03\n"
     ]
    }
   ],
   "source": [
    "# chequeo\n",
    "print(len(df_scoreo_oot))\n",
    "print(df_scoreo_oot.date.min(), df_scoreo_oot.date.max())"
   ]
  },
  {
   "cell_type": "code",
   "execution_count": 71,
   "id": "91740023-a4aa-4d07-9a12-57c782287997",
   "metadata": {},
   "outputs": [],
   "source": [
    "# Creamos la feature marca_modelo_version ya que necesitamos tenerla en el df para las funciones de limpieza\n",
    "df_scoreo_oot['marca_modelo_version'] = df_scoreo_oot['match_marca_a'] + str(' - ') +df_scoreo_oot['match_modelo_a'] + str(' - ') + df_scoreo_oot['match_v1_a']"
   ]
  },
  {
   "cell_type": "code",
   "execution_count": 73,
   "id": "b371c493-9cd5-434f-986c-0a79f7e58391",
   "metadata": {},
   "outputs": [
    {
     "name": "stdout",
     "output_type": "stream",
     "text": [
      "Hey! 38 were removed due to null values\n",
      "Hey! 741463 were removed due to duplicate values\n",
      "Hey! 913 were removed due those 11111 or 9999 strange values\n",
      "Hey! 66555 were removed due to 0km or concesioarias\n",
      "Hey! 17550 were removed due to match scores under 80%\n",
      "Hey! 0 were removed due to last 15d filter\n",
      "Hey! 7414 were removed due to categories in which we are not interested in score\n"
     ]
    }
   ],
   "source": [
    "# aplicamos la limpieza pre split\n",
    "df_scoreo_oot = cleaning_before_split(df_scoreo_oot,ventana=15)"
   ]
  },
  {
   "cell_type": "code",
   "execution_count": 74,
   "id": "37f298b1-3830-4980-92fe-306d8f6ea768",
   "metadata": {},
   "outputs": [
    {
     "data": {
      "text/plain": [
       "(27981, 48)"
      ]
     },
     "execution_count": 74,
     "metadata": {},
     "output_type": "execute_result"
    }
   ],
   "source": [
    "df_scoreo_oot.shape"
   ]
  },
  {
   "cell_type": "code",
   "execution_count": 76,
   "id": "05c0ed8c-c98e-4820-8d94-3046012b695e",
   "metadata": {},
   "outputs": [
    {
     "name": "stdout",
     "output_type": "stream",
     "text": [
      "Hey! 287 were removed due to outliers globales\n",
      "Hey! 633 were removed from df due to outliers under context\n"
     ]
    }
   ],
   "source": [
    "# aplicamos la limpieza post split\n",
    "df_scoreo_oot = cleaning_after_split(df_scoreo_oot,path_datos)"
   ]
  },
  {
   "cell_type": "code",
   "execution_count": 77,
   "id": "37c9cc7e-1fab-4206-a7c5-80efbb4e3b50",
   "metadata": {},
   "outputs": [
    {
     "data": {
      "text/plain": [
       "(27061, 48)"
      ]
     },
     "execution_count": 77,
     "metadata": {},
     "output_type": "execute_result"
    }
   ],
   "source": [
    "df_scoreo_oot.shape"
   ]
  },
  {
   "cell_type": "code",
   "execution_count": 78,
   "id": "95c8a04f-0d1c-43dd-887a-babf4f99dd9b",
   "metadata": {},
   "outputs": [
    {
     "data": {
      "text/plain": [
       "(8751, 48)"
      ]
     },
     "execution_count": 78,
     "metadata": {},
     "output_type": "execute_result"
    }
   ],
   "source": [
    "# Eliminamos los car_id que ya hayamos usado para entrenar\n",
    "ids_dev = list(df_ids_dev.car_id_dev.unique())\n",
    "mask = df_scoreo_oot.car_id.apply(lambda x: x not in ids_dev)\n",
    "df_scoreo_oot[mask].shape"
   ]
  },
  {
   "cell_type": "code",
   "execution_count": 79,
   "id": "7ab07fa7-6a83-4f03-b2b1-8c92d876ba9c",
   "metadata": {},
   "outputs": [],
   "source": [
    "model_features = ['car_year','car_kms','match_marca_a','match_modelo_a','match_v1_a','Subseg_a', 'Seg_a']"
   ]
  },
  {
   "cell_type": "code",
   "execution_count": 80,
   "id": "fb7820e7-4ac6-4441-98ac-0b3184e8a145",
   "metadata": {},
   "outputs": [],
   "source": [
    "import pickle\n",
    "path_model = '../model/'\n",
    "with open('{}model_dolar_v4.pickle'.format(path_model), 'rb') as f:\n",
    "    model = pickle.load(f)"
   ]
  },
  {
   "cell_type": "code",
   "execution_count": 81,
   "id": "7ba4c4dc-6409-407e-93b1-c8128c2f0d03",
   "metadata": {},
   "outputs": [],
   "source": [
    "X_oot = df_scoreo_oot[model_features].copy()\n",
    "y_oot = df_scoreo_oot.price_meli_ok.copy()"
   ]
  },
  {
   "cell_type": "code",
   "execution_count": 82,
   "id": "0c8a990e-01ff-49d2-853b-1d492bd857b5",
   "metadata": {},
   "outputs": [
    {
     "name": "stdout",
     "output_type": "stream",
     "text": [
      "OOT set evaluation:\n",
      "_____________________________________\n",
      "MAE: 1005.9435308043462\n",
      "MAPE: 8.919921458188638\n",
      "MEDAPE: 6.694725392375961\n",
      "MSE: 2211469.235945819\n",
      "RMSE: 1487.100950152954\n",
      "R2 Square 0.9640020751112323\n",
      "__________________________________\n"
     ]
    }
   ],
   "source": [
    "# Assesment\n",
    "oot_pred = model.predict(X_oot)\n",
    "\n",
    "print('OOT set evaluation:\\n_____________________________________')\n",
    "print_evaluate(y_oot, oot_pred)"
   ]
  },
  {
   "cell_type": "markdown",
   "id": "1990e676-e931-4415-930f-bb5564cfcd12",
   "metadata": {},
   "source": [
    "**Next steps**: con todo lo anterior terminado ya queda lista esta notebook. El proximo paso seria duplicar esta nb y correr todo lo mismo pero expandiendo la ventana de tiempo con el fin de expandir la muestra (es decir no quedarnos con los ult 15 dias sino con los ultimos 2 meses por ejemplo todo la inflacion ya no nos afecta), y esto va a generar que el armado de los grupos de presencialidad cambie ya que vamos a tener bastante mas muestra."
   ]
  },
  {
   "cell_type": "markdown",
   "id": "48d459e6-f41b-49a9-8118-cc5ec5f1f1cb",
   "metadata": {},
   "source": [
    "Por otro lado, probar de correr esta nb exacamente igual (duplicandola) y modificar en la parte de los grupos lo siguiente: incluir grupos 1,2 y3 en lugar de solamente incluir el 1 como quedo en esta."
   ]
  }
 ],
 "metadata": {
  "kernelspec": {
   "display_name": "Python 3 (ipykernel)",
   "language": "python",
   "name": "python3"
  },
  "language_info": {
   "codemirror_mode": {
    "name": "ipython",
    "version": 3
   },
   "file_extension": ".py",
   "mimetype": "text/x-python",
   "name": "python",
   "nbconvert_exporter": "python",
   "pygments_lexer": "ipython3",
   "version": "3.9.7"
  }
 },
 "nbformat": 4,
 "nbformat_minor": 5
}
