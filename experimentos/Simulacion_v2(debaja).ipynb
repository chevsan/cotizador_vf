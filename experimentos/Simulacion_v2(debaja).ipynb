{
 "cells": [
  {
   "cell_type": "markdown",
   "id": "47699ebe",
   "metadata": {},
   "source": [
    "# SCOREO / SIMULACION"
   ]
  },
  {
   "cell_type": "markdown",
   "id": "70c4fff9",
   "metadata": {},
   "source": [
    "## *Librerías y configuraciones de la notebook*foco_muestra"
   ]
  },
  {
   "cell_type": "code",
   "execution_count": 1,
   "id": "e5f09f34",
   "metadata": {},
   "outputs": [
    {
     "name": "stdout",
     "output_type": "stream",
     "text": [
      "hola me llamo Santi. chau\n"
     ]
    }
   ],
   "source": [
    "a = 'hola'\n",
    "b= 'chau'\n",
    "print('{} me llamo Santi. {}'.format(a,b))"
   ]
  },
  {
   "cell_type": "code",
   "execution_count": 2,
   "id": "7678ac36",
   "metadata": {},
   "outputs": [
    {
     "data": {
      "text/plain": [
       "True"
      ]
     },
     "execution_count": 2,
     "metadata": {},
     "output_type": "execute_result"
    }
   ],
   "source": [
    "2 <= 2"
   ]
  },
  {
   "cell_type": "code",
   "execution_count": 6,
   "id": "a3ac44b7",
   "metadata": {},
   "outputs": [],
   "source": [
    "def multiply(a, b, bound):\n",
    "    # write your code here\n",
    "    result = a * b\n",
    "    if result > bound:\n",
    "        raise ValueError('multiplication of {} and {} with bound {} not possible'.format(a,b,bound))\n",
    "    else:\n",
    "        return result"
   ]
  },
  {
   "cell_type": "code",
   "execution_count": 12,
   "id": "b2c6d3fe",
   "metadata": {},
   "outputs": [
    {
     "ename": "ValueError",
     "evalue": "multiplication of 2 and 6 with bound 8 not possible",
     "output_type": "error",
     "traceback": [
      "\u001b[0;31m---------------------------------------------------------------------------\u001b[0m",
      "\u001b[0;31mValueError\u001b[0m                                Traceback (most recent call last)",
      "\u001b[0;32m/var/folders/nz/6cdnft892ljb64k0v67yhs6c0000gq/T/ipykernel_51134/2809761068.py\u001b[0m in \u001b[0;36m<module>\u001b[0;34m\u001b[0m\n\u001b[0;32m----> 1\u001b[0;31m \u001b[0mmultiply\u001b[0m\u001b[0;34m(\u001b[0m\u001b[0;36m2\u001b[0m\u001b[0;34m,\u001b[0m\u001b[0;36m6\u001b[0m\u001b[0;34m,\u001b[0m\u001b[0;36m8\u001b[0m\u001b[0;34m)\u001b[0m\u001b[0;34m\u001b[0m\u001b[0;34m\u001b[0m\u001b[0m\n\u001b[0m",
      "\u001b[0;32m/var/folders/nz/6cdnft892ljb64k0v67yhs6c0000gq/T/ipykernel_51134/3771207363.py\u001b[0m in \u001b[0;36mmultiply\u001b[0;34m(a, b, bound)\u001b[0m\n\u001b[1;32m      3\u001b[0m     \u001b[0mresult\u001b[0m \u001b[0;34m=\u001b[0m \u001b[0ma\u001b[0m \u001b[0;34m*\u001b[0m \u001b[0mb\u001b[0m\u001b[0;34m\u001b[0m\u001b[0;34m\u001b[0m\u001b[0m\n\u001b[1;32m      4\u001b[0m     \u001b[0;32mif\u001b[0m \u001b[0mresult\u001b[0m \u001b[0;34m>\u001b[0m \u001b[0mbound\u001b[0m\u001b[0;34m:\u001b[0m\u001b[0;34m\u001b[0m\u001b[0;34m\u001b[0m\u001b[0m\n\u001b[0;32m----> 5\u001b[0;31m         \u001b[0;32mraise\u001b[0m \u001b[0mValueError\u001b[0m\u001b[0;34m(\u001b[0m\u001b[0;34m'multiplication of {} and {} with bound {} not possible'\u001b[0m\u001b[0;34m.\u001b[0m\u001b[0mformat\u001b[0m\u001b[0;34m(\u001b[0m\u001b[0ma\u001b[0m\u001b[0;34m,\u001b[0m\u001b[0mb\u001b[0m\u001b[0;34m,\u001b[0m\u001b[0mbound\u001b[0m\u001b[0;34m)\u001b[0m\u001b[0;34m)\u001b[0m\u001b[0;34m\u001b[0m\u001b[0;34m\u001b[0m\u001b[0m\n\u001b[0m\u001b[1;32m      6\u001b[0m     \u001b[0;32melse\u001b[0m\u001b[0;34m:\u001b[0m\u001b[0;34m\u001b[0m\u001b[0;34m\u001b[0m\u001b[0m\n\u001b[1;32m      7\u001b[0m         \u001b[0;32mreturn\u001b[0m \u001b[0mresult\u001b[0m\u001b[0;34m\u001b[0m\u001b[0;34m\u001b[0m\u001b[0m\n",
      "\u001b[0;31mValueError\u001b[0m: multiplication of 2 and 6 with bound 8 not possible"
     ]
    }
   ],
   "source": [
    "multiply(2,6,8)"
   ]
  },
  {
   "cell_type": "code",
   "execution_count": 27,
   "id": "51061f46",
   "metadata": {
    "jupyter": {
     "source_hidden": true
    }
   },
   "outputs": [],
   "source": [
    "##### Librerías y modulos #######\n",
    "import pandas as pd\n",
    "import numpy as np\n",
    "import seaborn as sns\n",
    "import matplotlib.pyplot as plt\n",
    "import sklearn\n",
    "from pandas.io import gbq\n",
    "from datetime import datetime\n",
    "import warnings\n",
    "import openpyxl\n",
    "import random\n",
    "import os,json"
   ]
  },
  {
   "cell_type": "code",
   "execution_count": 2,
   "id": "62f5b9c5",
   "metadata": {},
   "outputs": [],
   "source": [
    "####### Configuraciones de la notebook (a gusto del usuario) ##########\n",
    "#pd.set_option('display.max_columns', 500)\n",
    "#pd.set_option('display.width', 1000)\n",
    "pd.set_option('display.float_format', lambda x: '%.4f' % x)\n",
    "# warnings\n",
    "warnings.filterwarnings(\"ignore\")"
   ]
  },
  {
   "cell_type": "code",
   "execution_count": 54,
   "id": "b4596934",
   "metadata": {},
   "outputs": [],
   "source": [
    "#### Parametros de la notebook ####\n",
    "path_save = '../datos/'\n",
    "path_model = '../model/'"
   ]
  },
  {
   "cell_type": "code",
   "execution_count": 3,
   "id": "e3017bb4",
   "metadata": {},
   "outputs": [],
   "source": [
    "####### requierments ###########\n",
    "#!pip install pandas-gbq"
   ]
  },
  {
   "cell_type": "code",
   "execution_count": 4,
   "id": "f6612f28",
   "metadata": {},
   "outputs": [],
   "source": [
    "# Importar tabla OOT de Big Query\n",
    "df_scoreo_oot = gbq.read_gbq(\"SELECT * FROM `data-team-k.pricing_data.match_meli_ok` WHERE date > '2022-02-15' \", project_id=\"data-team-k\")"
   ]
  },
  {
   "cell_type": "code",
   "execution_count": 5,
   "id": "6da1db6e",
   "metadata": {},
   "outputs": [
    {
     "name": "stdout",
     "output_type": "stream",
     "text": [
      "640030\n",
      "2022-02-16 00:00:00 2022-02-22 00:00:00\n"
     ]
    }
   ],
   "source": [
    "# chequeo\n",
    "print(len(df_scoreo_oot))\n",
    "print(df_scoreo_oot.date.min(), df_scoreo_oot.date.max())"
   ]
  },
  {
   "cell_type": "markdown",
   "id": "fa78761b",
   "metadata": {},
   "source": [
    "## *Seteo de parametros de la notebook*"
   ]
  },
  {
   "cell_type": "code",
   "execution_count": 7,
   "id": "c8d9ce41",
   "metadata": {},
   "outputs": [
    {
     "name": "stdout",
     "output_type": "stream",
     "text": [
      "Parametros de la simulación: seed:495, foco_muestra: alta_presencia\n"
     ]
    }
   ],
   "source": [
    "# Semilla para el .sample()\n",
    "seed = random.randint(10,500)\n",
    "foco_muestra = \"alta_presencia\"  # \"alta_presencia\" , \"baja_presencia\" o \"sin_foco\"\n",
    "if foco_muestra not in [\"alta_presencia\" , \"baja_presencia\", \"sin_foco\"]:\n",
    "    raise ValueError('Revisar el valor que le pasamos al parametro \"foco_muestra\", las opciones disponibles son: \"alta_presencia\", \"baja_presencia\" o \"sin_foco\"')\n",
    "print(f'Parametros de la simulación: seed:{seed}, foco_muestra: {foco_muestra}')"
   ]
  },
  {
   "cell_type": "markdown",
   "id": "aca07254",
   "metadata": {},
   "source": [
    "## 1) Pre procesing"
   ]
  },
  {
   "cell_type": "markdown",
   "id": "0ac30d9c",
   "metadata": {},
   "source": [
    "**Removing duplicates**"
   ]
  },
  {
   "cell_type": "code",
   "execution_count": 8,
   "id": "5cc5f9bb",
   "metadata": {},
   "outputs": [],
   "source": [
    "# Tratamiento de la feautre \"runtime\"\n",
    "df_scoreo_oot['runtime'] = pd.to_datetime(df_scoreo_oot.runtime.apply(lambda x: str(x)[:19]))\n",
    "df_scoreo_oot = df_scoreo_oot.sort_values(['runtime'])\n",
    "# Ahora si, teniendo el df ordenado, eliminamos los duplicados, quedandonos con el registro más reciente (la última ocurrencia)\n",
    "df_scoreo_oot.drop_duplicates(subset=['car_id'], keep='last', inplace=True)"
   ]
  },
  {
   "cell_type": "code",
   "execution_count": 9,
   "id": "e27d4740",
   "metadata": {},
   "outputs": [
    {
     "data": {
      "text/plain": [
       "(103074, 42)"
      ]
     },
     "execution_count": 9,
     "metadata": {},
     "output_type": "execute_result"
    }
   ],
   "source": [
    "df_scoreo_oot.shape"
   ]
  },
  {
   "cell_type": "markdown",
   "id": "95bbdf4a",
   "metadata": {},
   "source": [
    "**Dropeo de casos extraños como 11111 o 999999**"
   ]
  },
  {
   "cell_type": "code",
   "execution_count": 1,
   "id": "66df0305",
   "metadata": {},
   "outputs": [],
   "source": [
    "# traerlo de la notebook de train"
   ]
  },
  {
   "cell_type": "code",
   "execution_count": null,
   "id": "e6d82bf5",
   "metadata": {},
   "outputs": [],
   "source": []
  },
  {
   "cell_type": "code",
   "execution_count": null,
   "id": "0501cf36",
   "metadata": {},
   "outputs": [],
   "source": []
  },
  {
   "cell_type": "code",
   "execution_count": null,
   "id": "f9fabad4",
   "metadata": {},
   "outputs": [],
   "source": []
  },
  {
   "cell_type": "code",
   "execution_count": null,
   "id": "33aec4dd",
   "metadata": {},
   "outputs": [],
   "source": []
  },
  {
   "cell_type": "markdown",
   "id": "248df55a",
   "metadata": {},
   "source": [
    "**Final Price (target)** <br>"
   ]
  },
  {
   "cell_type": "code",
   "execution_count": 10,
   "id": "631c7da8",
   "metadata": {},
   "outputs": [],
   "source": [
    "# Construcción del precio final\n",
    "blue= 215\n",
    "oficial= 112.97\n",
    "col1 = 'price_symbol'\n",
    "col2 = 'car_kms'\n",
    "conditions = [df_scoreo_oot[col1]!='U$S', (df_scoreo_oot[col1]=='U$S') & (df_scoreo_oot[col2]==0), (df_scoreo_oot[col1]=='U$S') & (df_scoreo_oot[col2]!=0)]\n",
    "choices = [df_scoreo_oot.price_amount, df_scoreo_oot['price_amount']*oficial, df_scoreo_oot['price_amount']*blue]\n",
    "\n",
    "df_scoreo_oot['price_meli_ok'] = np.select(conditions, choices, default=np.nan)"
   ]
  },
  {
   "cell_type": "markdown",
   "id": "a3c7eff9",
   "metadata": {},
   "source": [
    "**Removing 0kms y concesionarias** <br>"
   ]
  },
  {
   "cell_type": "code",
   "execution_count": 11,
   "id": "a1aebfe8",
   "metadata": {},
   "outputs": [],
   "source": [
    "df_scoreo_oot['dealer'] = np.where(df_scoreo_oot['dealer']==True,1,0)\n",
    "mask_not_0km = df_scoreo_oot.car_kms > 90\n",
    "mask_not_conces = df_scoreo_oot.dealer == 0\n",
    "\n",
    "df_scoreo_oot = df_scoreo_oot[(mask_not_0km) & (mask_not_conces)]"
   ]
  },
  {
   "cell_type": "code",
   "execution_count": 12,
   "id": "3e6b2c36",
   "metadata": {},
   "outputs": [
    {
     "data": {
      "text/plain": [
       "(40551, 43)"
      ]
     },
     "execution_count": 12,
     "metadata": {},
     "output_type": "execute_result"
    }
   ],
   "source": [
    "df_scoreo_oot.shape"
   ]
  },
  {
   "cell_type": "markdown",
   "id": "29767504",
   "metadata": {},
   "source": [
    "**Removing low matching scores** <br>"
   ]
  },
  {
   "cell_type": "code",
   "execution_count": 13,
   "id": "84d2a7df",
   "metadata": {},
   "outputs": [
    {
     "data": {
      "text/plain": [
       "score_marca_a    92.0000\n",
       "score_modelo_a   50.0000\n",
       "score_v1_c       50.0000\n",
       "dtype: float64"
      ]
     },
     "execution_count": 13,
     "metadata": {},
     "output_type": "execute_result"
    }
   ],
   "source": [
    "lst = ['score_marca_a','score_modelo_a','score_v1_c']\n",
    "for col in lst:\n",
    "    df_scoreo_oot = df_scoreo_oot[df_scoreo_oot[col]>=50]\n",
    "    \n",
    "# chequeo\n",
    "df_scoreo_oot[lst].min()"
   ]
  },
  {
   "cell_type": "code",
   "execution_count": 14,
   "id": "587f33a1",
   "metadata": {},
   "outputs": [
    {
     "data": {
      "text/plain": [
       "(37745, 43)"
      ]
     },
     "execution_count": 14,
     "metadata": {},
     "output_type": "execute_result"
    }
   ],
   "source": [
    "df_scoreo_oot.shape"
   ]
  },
  {
   "cell_type": "markdown",
   "id": "d5fd12a0",
   "metadata": {},
   "source": [
    "**Removing categories** <br>"
   ]
  },
  {
   "cell_type": "code",
   "execution_count": 17,
   "id": "81ac69e5",
   "metadata": {},
   "outputs": [],
   "source": [
    "cats_loc1_ok = ['Capital Federal','Bs.As. G.B.A. Sur','Bs.As. G.B.A. Norte'\n",
    "           ,'Bs.As. G.B.A. Oeste','Buenos Aires Interior','Bs.As. Costa Atlántica']\n",
    "mask1 = df_scoreo_oot.car_location_1.apply(lambda x: x in cats_loc1_ok)\n",
    "cats_brand_ok =['Alfa Romeo','Audi','BMW','Chery','Chevrolet','Citroën','DS','Fiat','Ford','Geely','Haval','Honda',\n",
    " 'Hyundai','JAC','Jeep','Kia','Land Rover','Lifan','Mercedes-Benz','Mini','Mitsubishi','Nissan','Peugeot','Porsche','RAM',\n",
    " 'Renault','SEAT','Shineray','Smart','Subaru','Suzuki','Toyota','Volkswagen','Volvo'] # Exclusion x pedido Edgar: Dodge, Chrysler\n",
    "mask2 = df_scoreo_oot.brand.apply(lambda x: x in cats_brand_ok)\n",
    "sub_mask = df_scoreo_oot.brand == 'Jeep'\n",
    "lst_not_renegade = [i for i in df_scoreo_oot[sub_mask]['match_modelo_a'].unique() if i != 'Renegade']\n",
    "mask3 = df_scoreo_oot.match_modelo_a.apply(lambda x: x not in lst_not_renegade)\n",
    "df_scoreo_oot = df_scoreo_oot[(mask1 & mask2 & mask3)]"
   ]
  },
  {
   "cell_type": "code",
   "execution_count": 18,
   "id": "fc8acaaa",
   "metadata": {},
   "outputs": [
    {
     "data": {
      "text/plain": [
       "(25981, 43)"
      ]
     },
     "execution_count": 18,
     "metadata": {},
     "output_type": "execute_result"
    }
   ],
   "source": [
    "df_scoreo_oot.shape"
   ]
  },
  {
   "cell_type": "markdown",
   "id": "bb981ac2",
   "metadata": {},
   "source": [
    "**Make sure we are only taking into consideration last 15 days** <br>"
   ]
  },
  {
   "cell_type": "code",
   "execution_count": 19,
   "id": "3c7d9c36",
   "metadata": {},
   "outputs": [
    {
     "data": {
      "text/plain": [
       "Timestamp('2022-02-22 23:01:32')"
      ]
     },
     "execution_count": 19,
     "metadata": {},
     "output_type": "execute_result"
    }
   ],
   "source": [
    "df_scoreo_oot.runtime.max()"
   ]
  },
  {
   "cell_type": "code",
   "execution_count": 20,
   "id": "5151afa8",
   "metadata": {},
   "outputs": [],
   "source": [
    "from datetime import date, datetime, timedelta\n",
    "# df.runtime.max() - timedelta(days=15) "
   ]
  },
  {
   "cell_type": "code",
   "execution_count": 21,
   "id": "a6bb269b",
   "metadata": {},
   "outputs": [],
   "source": [
    "max_date = df_scoreo_oot.runtime.max()\n",
    "mask_last15d = (df_scoreo_oot.runtime <= max_date) & ((df_scoreo_oot.runtime >= max_date - timedelta(days=15)))\n",
    "df_scoreo_oot = df_scoreo_oot[mask_last15d]"
   ]
  },
  {
   "cell_type": "code",
   "execution_count": 22,
   "id": "96a24952",
   "metadata": {},
   "outputs": [
    {
     "name": "stdout",
     "output_type": "stream",
     "text": [
      "2022-02-16 00:00:21\n",
      "2022-02-22 23:01:32\n"
     ]
    }
   ],
   "source": [
    "print(df_scoreo_oot.runtime.min())\n",
    "print(df_scoreo_oot.runtime.max())"
   ]
  },
  {
   "cell_type": "code",
   "execution_count": 24,
   "id": "b3d9f982",
   "metadata": {},
   "outputs": [
    {
     "data": {
      "text/plain": [
       "(25981, 43)"
      ]
     },
     "execution_count": 24,
     "metadata": {},
     "output_type": "execute_result"
    }
   ],
   "source": [
    "df_scoreo_oot.shape"
   ]
  },
  {
   "cell_type": "markdown",
   "id": "88fc61b1",
   "metadata": {},
   "source": [
    "**Rmeoving outliers** <br>"
   ]
  },
  {
   "cell_type": "code",
   "execution_count": 33,
   "id": "d7e3209f",
   "metadata": {},
   "outputs": [
    {
     "name": "stdout",
     "output_type": "stream",
     "text": [
      "{'q_99_p': 11394836.6, 'q_005_p': 540000.0, 'q_99_km': 310000.0, 'q_005_km': 1000.0}\n"
     ]
    }
   ],
   "source": [
    "# Levantamos los valores para el capeo de outliers aprendidos del dataset de train\n",
    "with open('{}thres_outl.txt'.format(path_save)) as f:\n",
    "    dic_outl_thres = json.load(f)\n",
    "    print(dic_outl_thres)"
   ]
  },
  {
   "cell_type": "code",
   "execution_count": 34,
   "id": "d941be57",
   "metadata": {},
   "outputs": [
    {
     "name": "stdout",
     "output_type": "stream",
     "text": [
      "(25476, 43)\n"
     ]
    }
   ],
   "source": [
    "df_scoreo_oot = df_scoreo_oot[(df_scoreo_oot.price_meli_ok <= dic_outl_thres['q_99_p']) & (df_scoreo_oot.car_kms <= dic_outl_thres['q_99_km'])]\n",
    "print(df_scoreo_oot.shape)"
   ]
  },
  {
   "cell_type": "code",
   "execution_count": 35,
   "id": "e08b6a93",
   "metadata": {},
   "outputs": [
    {
     "data": {
      "text/plain": [
       "count      25476.0000\n",
       "mean     2466302.0098\n",
       "std      1743292.5750\n",
       "min       115000.0000\n",
       "0.1%      464750.0000\n",
       "1%        628750.0000\n",
       "10%       900000.0000\n",
       "25%      1300000.0000\n",
       "50%      1930000.0000\n",
       "75%      3010000.0000\n",
       "90%      4730000.0000\n",
       "99%      9212700.0000\n",
       "max     11394785.0000\n",
       "Name: price_meli_ok, dtype: float64"
      ]
     },
     "execution_count": 35,
     "metadata": {},
     "output_type": "execute_result"
    }
   ],
   "source": [
    "# chequeamos distribucion del target\n",
    "df_scoreo_oot.price_meli_ok.describe(percentiles=[0.001,0.01,0.1,0.25,0.5,0.75,0.9,0.99])"
   ]
  },
  {
   "cell_type": "code",
   "execution_count": 36,
   "id": "4558708d",
   "metadata": {},
   "outputs": [
    {
     "data": {
      "text/plain": [
       "<AxesSubplot:xlabel='price_meli_ok', ylabel='Density'>"
      ]
     },
     "execution_count": 36,
     "metadata": {},
     "output_type": "execute_result"
    },
    {
     "data": {
      "image/png": "[encoded data removed]",
      "text/plain": [
       "<Figure size 432x288 with 1 Axes>"
      ]
     },
     "metadata": {
      "needs_background": "light"
     },
     "output_type": "display_data"
    }
   ],
   "source": [
    "# chequeamos distribucion del target\n",
    "sns.distplot(df_scoreo_oot.price_meli_ok)"
   ]
  },
  {
   "cell_type": "markdown",
   "id": "0f6da3cb",
   "metadata": {},
   "source": [
    "## 2) Final Dataset to score"
   ]
  },
  {
   "cell_type": "code",
   "execution_count": 44,
   "id": "22149988",
   "metadata": {},
   "outputs": [],
   "source": [
    "id_features = ['runtime','car_id']\n",
    "model_features = ['car_year','car_kms','match_marca_a','match_modelo_a','match_v1_c', 'Subseg_a', 'Seg_a']\n",
    "others = ['car_location_1', 'match_v1_a']\n",
    "target = ['price_meli_ok']"
   ]
  },
  {
   "cell_type": "code",
   "execution_count": 45,
   "id": "fd5db81a",
   "metadata": {},
   "outputs": [],
   "source": [
    "# Dataset final\n",
    "df_oot_final = df_scoreo_oot[id_features + model_features + others + target].copy()"
   ]
  },
  {
   "cell_type": "code",
   "execution_count": 46,
   "id": "f5f4a48d",
   "metadata": {},
   "outputs": [
    {
     "data": {
      "text/plain": [
       "runtime           0\n",
       "car_id            0\n",
       "car_year          0\n",
       "car_kms           0\n",
       "match_marca_a     0\n",
       "match_modelo_a    0\n",
       "match_v1_c        0\n",
       "Subseg_a          0\n",
       "Seg_a             0\n",
       "car_location_1    0\n",
       "match_v1_a        0\n",
       "price_meli_ok     0\n",
       "dtype: int64"
      ]
     },
     "execution_count": 46,
     "metadata": {},
     "output_type": "execute_result"
    }
   ],
   "source": [
    "# nulls\n",
    "df_oot_final.isnull().sum()"
   ]
  },
  {
   "cell_type": "code",
   "execution_count": 47,
   "id": "1fe3208e",
   "metadata": {},
   "outputs": [],
   "source": [
    "# Eliminamos los registros con nulos\n",
    "# for col in final_features:\n",
    "#     df_scoreo_oot_final = df_scoreo_oot_final[~df_scoreo_oot_final[col].isnull()]"
   ]
  },
  {
   "cell_type": "code",
   "execution_count": 48,
   "id": "f209ae17",
   "metadata": {},
   "outputs": [
    {
     "data": {
      "text/plain": [
       "(25476, 12)"
      ]
     },
     "execution_count": 48,
     "metadata": {},
     "output_type": "execute_result"
    }
   ],
   "source": [
    "df_oot_final.shape"
   ]
  },
  {
   "cell_type": "markdown",
   "id": "758576ad",
   "metadata": {},
   "source": [
    "**Foco de la muestra**"
   ]
  },
  {
   "cell_type": "markdown",
   "id": "443921f0",
   "metadata": {},
   "source": [
    "En este step lo que sucede es que filtramos la muestra para quedarnos con un grupo selecto en base a la presencia en MELI. Ejemplo: si seteamos foco_muestra = 'alta_presencia', nuestro dataset va a quedar compuesto únicamente de los modelos con más presencia en la plataforma."
   ]
  },
  {
   "cell_type": "code",
   "execution_count": 49,
   "id": "182653fd",
   "metadata": {},
   "outputs": [],
   "source": [
    "if foco_muestra == 'alta_presencia':\n",
    "    df_grouped = df_oot_final.groupby(['match_marca_a','match_modelo_a'], as_index=False).size()\n",
    "    df_grouped= df_grouped.sort_values(by='size', ascending=False).iloc[:15,:]  # los primeros 15 registros\n",
    "    marca_cats = list(df_grouped.match_marca_a.unique())\n",
    "    modelo_cats = list(df_grouped.match_modelo_a.unique())\n",
    "    mask1 = df_oot_final.match_marca_a.apply(lambda x: x in marca_cats)\n",
    "    mask2 = df_oot_final.match_modelo_a.apply(lambda x: x in modelo_cats)\n",
    "    df_oot_final = df_oot_final[(mask1 & mask2)]\n",
    "elif foco_muestra == 'baja_presencia':\n",
    "    df_grouped = df_oot_final.groupby(['match_marca_a'], as_index=False).size()\n",
    "    df_grouped= df_grouped.sort_values(by='size', ascending=False).iloc[-15:,:]  # los ultimos 15 registros\n",
    "    marca_cats = list(df_grouped.match_marca_a.unique())\n",
    "    mask = df_oot_final.match_marca_a.apply(lambda x: x in marca_cats)\n",
    "    df_oot_final = df_oot_final[mask]\n",
    "elif foco_muestra == 'sin_foco':\n",
    "    pass\n",
    "else:\n",
    "    raise ValueError('Revisar el valor que le pasamos al parametro \"foco_muestra\", las opciones disponibles son \"alta_presencia\", \"baja_presencia\" o \"sin_foco\"')"
   ]
  },
  {
   "cell_type": "code",
   "execution_count": 51,
   "id": "69a54431",
   "metadata": {},
   "outputs": [
    {
     "data": {
      "text/plain": [
       "(8860, 12)"
      ]
     },
     "execution_count": 51,
     "metadata": {},
     "output_type": "execute_result"
    }
   ],
   "source": [
    "df_oot_final.shape"
   ]
  },
  {
   "cell_type": "markdown",
   "id": "36dfb007",
   "metadata": {},
   "source": [
    "## 3) Seleccion muestra final (50 casos)"
   ]
  },
  {
   "cell_type": "code",
   "execution_count": 52,
   "id": "ecb170a9",
   "metadata": {
    "collapsed": true,
    "jupyter": {
     "outputs_hidden": true
    }
   },
   "outputs": [
    {
     "data": {
      "text/html": [
       "<div>\n",
       "<style scoped>\n",
       "    .dataframe tbody tr th:only-of-type {\n",
       "        vertical-align: middle;\n",
       "    }\n",
       "\n",
       "    .dataframe tbody tr th {\n",
       "        vertical-align: top;\n",
       "    }\n",
       "\n",
       "    .dataframe thead th {\n",
       "        text-align: right;\n",
       "    }\n",
       "</style>\n",
       "<table border=\"1\" class=\"dataframe\">\n",
       "  <thead>\n",
       "    <tr style=\"text-align: right;\">\n",
       "      <th></th>\n",
       "      <th>runtime</th>\n",
       "      <th>car_id</th>\n",
       "      <th>car_year</th>\n",
       "      <th>car_kms</th>\n",
       "      <th>match_marca_a</th>\n",
       "      <th>match_modelo_a</th>\n",
       "      <th>match_v1_c</th>\n",
       "      <th>Subseg_a</th>\n",
       "      <th>Seg_a</th>\n",
       "      <th>car_location_1</th>\n",
       "      <th>match_v1_a</th>\n",
       "      <th>price_meli_ok</th>\n",
       "    </tr>\n",
       "  </thead>\n",
       "  <tbody>\n",
       "    <tr>\n",
       "      <th>419607</th>\n",
       "      <td>2022-02-21 23:00:27</td>\n",
       "      <td>1117117560</td>\n",
       "      <td>2010</td>\n",
       "      <td>176000.0000</td>\n",
       "      <td>VOLKSWAGEN</td>\n",
       "      <td>Gol Trend</td>\n",
       "      <td>1.6</td>\n",
       "      <td>Gama Pequenos Hatchback</td>\n",
       "      <td>Gama Pequenos</td>\n",
       "      <td>Bs.As. G.B.A. Sur</td>\n",
       "      <td>1.6 3Ptas. Trendline / Pack I (101cv)</td>\n",
       "      <td>1150000.0000</td>\n",
       "    </tr>\n",
       "    <tr>\n",
       "      <th>246236</th>\n",
       "      <td>2022-02-22 04:01:10</td>\n",
       "      <td>1117466525</td>\n",
       "      <td>2017</td>\n",
       "      <td>30000.0000</td>\n",
       "      <td>FORD</td>\n",
       "      <td>Fiesta</td>\n",
       "      <td>1.6L TITANIUM POWERSHIFT</td>\n",
       "      <td>Gama Pequenos Hatchback</td>\n",
       "      <td>Gama Pequenos</td>\n",
       "      <td>Bs.As. G.B.A. Sur</td>\n",
       "      <td>Max 4Ptas. 1.6 N Ambiente Plus</td>\n",
       "      <td>2902500.0000</td>\n",
       "    </tr>\n",
       "    <tr>\n",
       "      <th>236290</th>\n",
       "      <td>2022-02-22 15:00:52</td>\n",
       "      <td>1118013858</td>\n",
       "      <td>2011</td>\n",
       "      <td>93000.0000</td>\n",
       "      <td>VOLKSWAGEN</td>\n",
       "      <td>Vento</td>\n",
       "      <td>2.0</td>\n",
       "      <td>Gama Medianos Sedan</td>\n",
       "      <td>Gama Medianos</td>\n",
       "      <td>Bs.As. G.B.A. Oeste</td>\n",
       "      <td>2.0 TFSI Sportline MT (200cv)</td>\n",
       "      <td>2902500.0000</td>\n",
       "    </tr>\n",
       "    <tr>\n",
       "      <th>206896</th>\n",
       "      <td>2022-02-22 03:00:29</td>\n",
       "      <td>1122454986</td>\n",
       "      <td>2019</td>\n",
       "      <td>26000.0000</td>\n",
       "      <td>PEUGEOT</td>\n",
       "      <td>308</td>\n",
       "      <td>1.6</td>\n",
       "      <td>Gama Pequenos Hatchback</td>\n",
       "      <td>Gama Pequenos</td>\n",
       "      <td>Buenos Aires Interior</td>\n",
       "      <td>S 1.6 THP 8AT GT (225cv) 5Ptas.</td>\n",
       "      <td>6450000.0000</td>\n",
       "    </tr>\n",
       "    <tr>\n",
       "      <th>39334</th>\n",
       "      <td>2022-02-19 10:01:31</td>\n",
       "      <td>1124023248</td>\n",
       "      <td>2016</td>\n",
       "      <td>72000.0000</td>\n",
       "      <td>VOLKSWAGEN</td>\n",
       "      <td>Suran</td>\n",
       "      <td>1.6L 5D I-MOTION 1250/21C</td>\n",
       "      <td>Monovolumen Compacto</td>\n",
       "      <td>Monovolumen</td>\n",
       "      <td>Bs.As. G.B.A. Norte</td>\n",
       "      <td>1.6 MSI Comfortline (L18)</td>\n",
       "      <td>1780000.0000</td>\n",
       "    </tr>\n",
       "    <tr>\n",
       "      <th>247308</th>\n",
       "      <td>2022-02-22 08:00:26</td>\n",
       "      <td>1123024549</td>\n",
       "      <td>2015</td>\n",
       "      <td>174000.0000</td>\n",
       "      <td>RENAULT</td>\n",
       "      <td>Kangoo</td>\n",
       "      <td>CONFORT 1.6</td>\n",
       "      <td>Baja PU - Furgones</td>\n",
       "      <td>Livianos</td>\n",
       "      <td>Capital Federal</td>\n",
       "      <td>PH3 1.6 Authentique 1PLC</td>\n",
       "      <td>1550000.0000</td>\n",
       "    </tr>\n",
       "    <tr>\n",
       "      <th>157052</th>\n",
       "      <td>2022-02-18 04:00:25</td>\n",
       "      <td>1123115635</td>\n",
       "      <td>2015</td>\n",
       "      <td>48000.0000</td>\n",
       "      <td>PEUGEOT</td>\n",
       "      <td>208</td>\n",
       "      <td>ACTIVE 1.5 N</td>\n",
       "      <td>Gama Pequenos Hatchback</td>\n",
       "      <td>Gama Pequenos</td>\n",
       "      <td>Bs.As. G.B.A. Sur</td>\n",
       "      <td>1.5 N 8v Active (90cv)</td>\n",
       "      <td>1750000.0000</td>\n",
       "    </tr>\n",
       "    <tr>\n",
       "      <th>241771</th>\n",
       "      <td>2022-02-22 15:00:33</td>\n",
       "      <td>1117990881</td>\n",
       "      <td>2017</td>\n",
       "      <td>138000.0000</td>\n",
       "      <td>VOLKSWAGEN</td>\n",
       "      <td>Amarok</td>\n",
       "      <td>DC 2.0L TDI 180CV HIGHLINE 4X2 AUT EU5</td>\n",
       "      <td>Pickups Medianas-Grandes</td>\n",
       "      <td>Livianos</td>\n",
       "      <td>Buenos Aires Interior</td>\n",
       "      <td>2.0 TDI (180cv) 4x2 C/Doble Highline Pack AT</td>\n",
       "      <td>5600000.0000</td>\n",
       "    </tr>\n",
       "    <tr>\n",
       "      <th>230371</th>\n",
       "      <td>2022-02-22 14:00:34</td>\n",
       "      <td>1120185155</td>\n",
       "      <td>2016</td>\n",
       "      <td>217400.0000</td>\n",
       "      <td>TOYOTA</td>\n",
       "      <td>Hilux</td>\n",
       "      <td>4X4</td>\n",
       "      <td>Pickups Medianas-Grandes</td>\n",
       "      <td>Livianos</td>\n",
       "      <td>Buenos Aires Interior</td>\n",
       "      <td>4x4 CD SRX 2.8 TDI 6MT (177cv) (L16)</td>\n",
       "      <td>5900000.0000</td>\n",
       "    </tr>\n",
       "    <tr>\n",
       "      <th>453297</th>\n",
       "      <td>2022-02-22 19:01:17</td>\n",
       "      <td>1124384908</td>\n",
       "      <td>2015</td>\n",
       "      <td>120000.0000</td>\n",
       "      <td>VOLKSWAGEN</td>\n",
       "      <td>Gol Trend</td>\n",
       "      <td>1.6</td>\n",
       "      <td>Gama Pequenos Hatchback</td>\n",
       "      <td>Gama Pequenos</td>\n",
       "      <td>Bs.As. G.B.A. Norte</td>\n",
       "      <td>1.6 MSI 5Ptas. Highline (101cv) (L17)</td>\n",
       "      <td>1450000.0000</td>\n",
       "    </tr>\n",
       "    <tr>\n",
       "      <th>427948</th>\n",
       "      <td>2022-02-22 13:00:37</td>\n",
       "      <td>1121431996</td>\n",
       "      <td>2007</td>\n",
       "      <td>193000.0000</td>\n",
       "      <td>FORD</td>\n",
       "      <td>Ranger</td>\n",
       "      <td>XL</td>\n",
       "      <td>Pickups Medianas-Grandes</td>\n",
       "      <td>Livianos</td>\n",
       "      <td>Bs.As. G.B.A. Oeste</td>\n",
       "      <td>3.0 TDI C/S 4x2 XL Plus (L05)</td>\n",
       "      <td>3547500.0000</td>\n",
       "    </tr>\n",
       "    <tr>\n",
       "      <th>452559</th>\n",
       "      <td>2022-02-22 11:00:27</td>\n",
       "      <td>1120694757</td>\n",
       "      <td>2012</td>\n",
       "      <td>33000.0000</td>\n",
       "      <td>VOLKSWAGEN</td>\n",
       "      <td>Gol Trend</td>\n",
       "      <td>1.6</td>\n",
       "      <td>Gama Pequenos Hatchback</td>\n",
       "      <td>Gama Pequenos</td>\n",
       "      <td>Bs.As. Costa Atlántica</td>\n",
       "      <td>1.6 5Ptas. Pack II (101cv)</td>\n",
       "      <td>1650000.0000</td>\n",
       "    </tr>\n",
       "    <tr>\n",
       "      <th>235646</th>\n",
       "      <td>2022-02-22 05:00:26</td>\n",
       "      <td>1120031091</td>\n",
       "      <td>2013</td>\n",
       "      <td>190000.0000</td>\n",
       "      <td>VOLKSWAGEN</td>\n",
       "      <td>Vento</td>\n",
       "      <td>2.5</td>\n",
       "      <td>Gama Medianos Sedan</td>\n",
       "      <td>Gama Medianos</td>\n",
       "      <td>Bs.As. G.B.A. Norte</td>\n",
       "      <td>2.5 R5 Luxury MT (170cv) (L11)</td>\n",
       "      <td>2150000.0000</td>\n",
       "    </tr>\n",
       "    <tr>\n",
       "      <th>211394</th>\n",
       "      <td>2022-02-22 10:00:26</td>\n",
       "      <td>1122317430</td>\n",
       "      <td>2009</td>\n",
       "      <td>150000.0000</td>\n",
       "      <td>VOLKSWAGEN</td>\n",
       "      <td>Gol</td>\n",
       "      <td>1.6</td>\n",
       "      <td>Gama Pequenos Hatchback</td>\n",
       "      <td>Gama Pequenos</td>\n",
       "      <td>Bs.As. G.B.A. Sur</td>\n",
       "      <td>1.6 3Ptas. Power</td>\n",
       "      <td>850000.0000</td>\n",
       "    </tr>\n",
       "    <tr>\n",
       "      <th>234842</th>\n",
       "      <td>2022-02-22 09:01:00</td>\n",
       "      <td>1120188347</td>\n",
       "      <td>2014</td>\n",
       "      <td>160000.0000</td>\n",
       "      <td>VOLKSWAGEN</td>\n",
       "      <td>Suran</td>\n",
       "      <td>1.6L 5D I-MOTION 1250/21C</td>\n",
       "      <td>Monovolumen Compacto</td>\n",
       "      <td>Monovolumen</td>\n",
       "      <td>Bs.As. G.B.A. Sur</td>\n",
       "      <td>1.9 SDI Comfortline</td>\n",
       "      <td>1800000.0000</td>\n",
       "    </tr>\n",
       "    <tr>\n",
       "      <th>211530</th>\n",
       "      <td>2022-02-22 05:00:25</td>\n",
       "      <td>1123035527</td>\n",
       "      <td>2013</td>\n",
       "      <td>57983.0000</td>\n",
       "      <td>VOLKSWAGEN</td>\n",
       "      <td>Gol</td>\n",
       "      <td>1.4 L</td>\n",
       "      <td>Gama Pequenos Hatchback</td>\n",
       "      <td>Gama Pequenos</td>\n",
       "      <td>Bs.As. G.B.A. Sur</td>\n",
       "      <td>1.4 3Ptas. Power (83cv)</td>\n",
       "      <td>980000.0000</td>\n",
       "    </tr>\n",
       "    <tr>\n",
       "      <th>211592</th>\n",
       "      <td>2022-02-22 20:00:30</td>\n",
       "      <td>1118478035</td>\n",
       "      <td>2006</td>\n",
       "      <td>189000.0000</td>\n",
       "      <td>VOLKSWAGEN</td>\n",
       "      <td>Gol</td>\n",
       "      <td>1.6</td>\n",
       "      <td>Gama Pequenos Hatchback</td>\n",
       "      <td>Gama Pequenos</td>\n",
       "      <td>Bs.As. G.B.A. Sur</td>\n",
       "      <td>1.6 3Ptas. Power</td>\n",
       "      <td>660000.0000</td>\n",
       "    </tr>\n",
       "    <tr>\n",
       "      <th>420324</th>\n",
       "      <td>2022-02-21 02:00:25</td>\n",
       "      <td>1118974899</td>\n",
       "      <td>2021</td>\n",
       "      <td>12000.0000</td>\n",
       "      <td>VOLKSWAGEN</td>\n",
       "      <td>Gol Trend</td>\n",
       "      <td>1.6</td>\n",
       "      <td>Gama Pequenos Hatchback</td>\n",
       "      <td>Gama Pequenos</td>\n",
       "      <td>Bs.As. G.B.A. Sur</td>\n",
       "      <td>1.6 MSI 5Ptas. Trendline (101cv) (L17)</td>\n",
       "      <td>2600000.0000</td>\n",
       "    </tr>\n",
       "    <tr>\n",
       "      <th>205104</th>\n",
       "      <td>2022-02-22 20:00:25</td>\n",
       "      <td>1121265245</td>\n",
       "      <td>2013</td>\n",
       "      <td>103000.0000</td>\n",
       "      <td>PEUGEOT</td>\n",
       "      <td>207</td>\n",
       "      <td>COMPACT FELINE 1.6 N 5P TIPTRONIC</td>\n",
       "      <td>Gama Pequenos Hatchback</td>\n",
       "      <td>Gama Pequenos</td>\n",
       "      <td>Bs.As. G.B.A. Oeste</td>\n",
       "      <td>Compact 5Ptas. 1.6 N Feline / XT Tiptronic (11...</td>\n",
       "      <td>1397500.0000</td>\n",
       "    </tr>\n",
       "    <tr>\n",
       "      <th>239292</th>\n",
       "      <td>2022-02-22 05:00:41</td>\n",
       "      <td>1122208634</td>\n",
       "      <td>2013</td>\n",
       "      <td>154000.0000</td>\n",
       "      <td>VOLKSWAGEN</td>\n",
       "      <td>Amarok</td>\n",
       "      <td>2.0L TDI 140CV 4X2 082</td>\n",
       "      <td>Pickups Medianas-Grandes</td>\n",
       "      <td>Livianos</td>\n",
       "      <td>Bs.As. G.B.A. Norte</td>\n",
       "      <td>2.0 TDI (140cv) 4x2 C/Simple Startline</td>\n",
       "      <td>2990000.0000</td>\n",
       "    </tr>\n",
       "    <tr>\n",
       "      <th>235704</th>\n",
       "      <td>2022-02-22 09:00:41</td>\n",
       "      <td>1122383234</td>\n",
       "      <td>2014</td>\n",
       "      <td>125000.0000</td>\n",
       "      <td>VOLKSWAGEN</td>\n",
       "      <td>Vento</td>\n",
       "      <td>2.5</td>\n",
       "      <td>Gama Medianos Sedan</td>\n",
       "      <td>Gama Medianos</td>\n",
       "      <td>Buenos Aires Interior</td>\n",
       "      <td>2.5 R5 Luxury MT (170cv) (L11)</td>\n",
       "      <td>2400000.0000</td>\n",
       "    </tr>\n",
       "    <tr>\n",
       "      <th>205652</th>\n",
       "      <td>2022-02-22 20:00:30</td>\n",
       "      <td>1122514666</td>\n",
       "      <td>2013</td>\n",
       "      <td>50000.0000</td>\n",
       "      <td>PEUGEOT</td>\n",
       "      <td>208</td>\n",
       "      <td>ALLURE 1.5 N TOUCHSCREEN</td>\n",
       "      <td>Gama Pequenos Hatchback</td>\n",
       "      <td>Gama Pequenos</td>\n",
       "      <td>Capital Federal</td>\n",
       "      <td>1.5 N 8v Allure Touch (90cv)</td>\n",
       "      <td>1670000.0000</td>\n",
       "    </tr>\n",
       "    <tr>\n",
       "      <th>306645</th>\n",
       "      <td>2022-02-20 23:01:30</td>\n",
       "      <td>1122551938</td>\n",
       "      <td>2021</td>\n",
       "      <td>13000.0000</td>\n",
       "      <td>PEUGEOT</td>\n",
       "      <td>208</td>\n",
       "      <td>ACTIVE 1.6 115</td>\n",
       "      <td>Gama Pequenos Hatchback</td>\n",
       "      <td>Gama Pequenos</td>\n",
       "      <td>Bs.As. G.B.A. Oeste</td>\n",
       "      <td>1.6 Active (L20)</td>\n",
       "      <td>3350000.0000</td>\n",
       "    </tr>\n",
       "    <tr>\n",
       "      <th>447120</th>\n",
       "      <td>2022-02-22 08:00:33</td>\n",
       "      <td>1120387653</td>\n",
       "      <td>2011</td>\n",
       "      <td>140000.0000</td>\n",
       "      <td>FORD</td>\n",
       "      <td>Focus III</td>\n",
       "      <td>GHIA 2.0</td>\n",
       "      <td>Gama Medianos Sedan</td>\n",
       "      <td>Gama Medianos</td>\n",
       "      <td>Bs.As. G.B.A. Sur</td>\n",
       "      <td>II EXE 4Ptas. 2.0 N Ghia AT (L08)</td>\n",
       "      <td>1550000.0000</td>\n",
       "    </tr>\n",
       "    <tr>\n",
       "      <th>247388</th>\n",
       "      <td>2022-02-22 06:00:27</td>\n",
       "      <td>1121782167</td>\n",
       "      <td>2014</td>\n",
       "      <td>131722.0000</td>\n",
       "      <td>RENAULT</td>\n",
       "      <td>Kangoo</td>\n",
       "      <td>CONFORT 1.6</td>\n",
       "      <td>Baja PU - Furgones</td>\n",
       "      <td>Livianos</td>\n",
       "      <td>Bs.As. G.B.A. Sur</td>\n",
       "      <td>PH3 1.6 Authentique 1PLC</td>\n",
       "      <td>1500000.0000</td>\n",
       "    </tr>\n",
       "    <tr>\n",
       "      <th>451701</th>\n",
       "      <td>2022-02-22 04:01:22</td>\n",
       "      <td>1122405689</td>\n",
       "      <td>2017</td>\n",
       "      <td>34200.0000</td>\n",
       "      <td>FORD</td>\n",
       "      <td>Focus III</td>\n",
       "      <td>SE</td>\n",
       "      <td>Gama Medianos Sedan</td>\n",
       "      <td>Gama Medianos</td>\n",
       "      <td>Bs.As. G.B.A. Sur</td>\n",
       "      <td>2.0 SE Plus MT (170cv) 5Ptas. (L15)</td>\n",
       "      <td>3300000.0000</td>\n",
       "    </tr>\n",
       "    <tr>\n",
       "      <th>189689</th>\n",
       "      <td>2022-02-18 14:01:00</td>\n",
       "      <td>1121282957</td>\n",
       "      <td>2017</td>\n",
       "      <td>30800.0000</td>\n",
       "      <td>VOLKSWAGEN</td>\n",
       "      <td>Suran</td>\n",
       "      <td>1.6L 5D I-MOTION 11D</td>\n",
       "      <td>Monovolumen Compacto</td>\n",
       "      <td>Monovolumen</td>\n",
       "      <td>Bs.As. G.B.A. Oeste</td>\n",
       "      <td>1.6 Highline I-Motion Cuero</td>\n",
       "      <td>2600000.0000</td>\n",
       "    </tr>\n",
       "    <tr>\n",
       "      <th>58481</th>\n",
       "      <td>2022-02-21 18:00:30</td>\n",
       "      <td>1118575074</td>\n",
       "      <td>2015</td>\n",
       "      <td>86000.0000</td>\n",
       "      <td>PEUGEOT</td>\n",
       "      <td>208</td>\n",
       "      <td>FELINE 1.6 N PACK CUIR</td>\n",
       "      <td>Gama Pequenos Hatchback</td>\n",
       "      <td>Gama Pequenos</td>\n",
       "      <td>Capital Federal</td>\n",
       "      <td>1.6 N 16v Feline Pack Cuir (115cv)</td>\n",
       "      <td>2050000.0000</td>\n",
       "    </tr>\n",
       "    <tr>\n",
       "      <th>446275</th>\n",
       "      <td>2022-02-22 19:00:31</td>\n",
       "      <td>1123341615</td>\n",
       "      <td>2013</td>\n",
       "      <td>106000.0000</td>\n",
       "      <td>FORD</td>\n",
       "      <td>EcoSport</td>\n",
       "      <td>2.0 L 4X2 XLT</td>\n",
       "      <td>Suv Compactas 4x2</td>\n",
       "      <td>SUV</td>\n",
       "      <td>Bs.As. G.B.A. Oeste</td>\n",
       "      <td>2.0 XLT</td>\n",
       "      <td>1950000.0000</td>\n",
       "    </tr>\n",
       "    <tr>\n",
       "      <th>452158</th>\n",
       "      <td>2022-02-22 05:00:30</td>\n",
       "      <td>1123705990</td>\n",
       "      <td>2013</td>\n",
       "      <td>88000.0000</td>\n",
       "      <td>VOLKSWAGEN</td>\n",
       "      <td>Gol Trend</td>\n",
       "      <td>1.6</td>\n",
       "      <td>Gama Pequenos Hatchback</td>\n",
       "      <td>Gama Pequenos</td>\n",
       "      <td>Bs.As. G.B.A. Norte</td>\n",
       "      <td>1.6 MSI 5Ptas. Trendline (101cv) (L17)</td>\n",
       "      <td>1500000.0000</td>\n",
       "    </tr>\n",
       "    <tr>\n",
       "      <th>435760</th>\n",
       "      <td>2022-02-22 16:00:46</td>\n",
       "      <td>1121337217</td>\n",
       "      <td>2021</td>\n",
       "      <td>15479.0000</td>\n",
       "      <td>TOYOTA</td>\n",
       "      <td>Corolla</td>\n",
       "      <td>SE-G</td>\n",
       "      <td>Gama Pequenos Hatchback</td>\n",
       "      <td>Gama Pequenos</td>\n",
       "      <td>Capital Federal</td>\n",
       "      <td>2.0 SEG CVT (170cv) (L20)</td>\n",
       "      <td>5800000.0000</td>\n",
       "    </tr>\n",
       "    <tr>\n",
       "      <th>234150</th>\n",
       "      <td>2022-02-22 09:01:00</td>\n",
       "      <td>1118775673</td>\n",
       "      <td>2014</td>\n",
       "      <td>132000.0000</td>\n",
       "      <td>VOLKSWAGEN</td>\n",
       "      <td>Suran</td>\n",
       "      <td>1.6L 5D I-MOTION 1250/21C</td>\n",
       "      <td>Monovolumen Compacto</td>\n",
       "      <td>Monovolumen</td>\n",
       "      <td>Bs.As. G.B.A. Sur</td>\n",
       "      <td>Cross 1.6 Highline s/cuero (101cv) (MY14 ABG ABS)</td>\n",
       "      <td>1620000.0000</td>\n",
       "    </tr>\n",
       "    <tr>\n",
       "      <th>428252</th>\n",
       "      <td>2022-02-22 06:00:25</td>\n",
       "      <td>1120357190</td>\n",
       "      <td>2018</td>\n",
       "      <td>5000.0000</td>\n",
       "      <td>FORD</td>\n",
       "      <td>Ranger</td>\n",
       "      <td>XL</td>\n",
       "      <td>Pickups Medianas-Grandes</td>\n",
       "      <td>Livianos</td>\n",
       "      <td>Buenos Aires Interior</td>\n",
       "      <td>2.2 TDCi C/Doble 4x4 XL 6MT (125cv) (L20)</td>\n",
       "      <td>4400000.0000</td>\n",
       "    </tr>\n",
       "    <tr>\n",
       "      <th>452906</th>\n",
       "      <td>2022-02-22 23:00:23</td>\n",
       "      <td>1122754268</td>\n",
       "      <td>2020</td>\n",
       "      <td>7800.0000</td>\n",
       "      <td>VOLKSWAGEN</td>\n",
       "      <td>Gol Trend</td>\n",
       "      <td>1.6</td>\n",
       "      <td>Gama Pequenos Hatchback</td>\n",
       "      <td>Gama Pequenos</td>\n",
       "      <td>Bs.As. G.B.A. Norte</td>\n",
       "      <td>1.6 MSI 5Ptas. Trendline (101cv) (L17)</td>\n",
       "      <td>2430000.0000</td>\n",
       "    </tr>\n",
       "    <tr>\n",
       "      <th>205130</th>\n",
       "      <td>2022-02-22 20:00:25</td>\n",
       "      <td>1123596844</td>\n",
       "      <td>2013</td>\n",
       "      <td>62000.0000</td>\n",
       "      <td>PEUGEOT</td>\n",
       "      <td>207</td>\n",
       "      <td>COMPACT FELINE 1.6 N 5P TIPTRONIC</td>\n",
       "      <td>Gama Pequenos Hatchback</td>\n",
       "      <td>Gama Pequenos</td>\n",
       "      <td>Bs.As. G.B.A. Sur</td>\n",
       "      <td>Compact 5Ptas. 1.6 N Feline / XT Tiptronic (11...</td>\n",
       "      <td>1548000.0000</td>\n",
       "    </tr>\n",
       "    <tr>\n",
       "      <th>238086</th>\n",
       "      <td>2022-02-22 15:00:33</td>\n",
       "      <td>1117980196</td>\n",
       "      <td>2017</td>\n",
       "      <td>69000.0000</td>\n",
       "      <td>VOLKSWAGEN</td>\n",
       "      <td>Amarok</td>\n",
       "      <td>DC V6 EXTREME 3.0L TDI 4X4 A</td>\n",
       "      <td>Pickups Medianas-Grandes</td>\n",
       "      <td>Livianos</td>\n",
       "      <td>Bs.As. G.B.A. Sur</td>\n",
       "      <td>3.0 TDI V6 (224cv) 4x4 C/Doble Extreme AT (L17)</td>\n",
       "      <td>8277500.0000</td>\n",
       "    </tr>\n",
       "    <tr>\n",
       "      <th>236586</th>\n",
       "      <td>2022-02-22 15:00:52</td>\n",
       "      <td>1121105298</td>\n",
       "      <td>2011</td>\n",
       "      <td>140000.0000</td>\n",
       "      <td>VOLKSWAGEN</td>\n",
       "      <td>Vento</td>\n",
       "      <td>2.5</td>\n",
       "      <td>Gama Medianos Sedan</td>\n",
       "      <td>Gama Medianos</td>\n",
       "      <td>Bs.As. G.B.A. Sur</td>\n",
       "      <td>2.5 R5 Luxury Tiptronic (170cv) (L11)</td>\n",
       "      <td>1917000.0000</td>\n",
       "    </tr>\n",
       "    <tr>\n",
       "      <th>452739</th>\n",
       "      <td>2022-02-22 14:01:33</td>\n",
       "      <td>1121344085</td>\n",
       "      <td>2016</td>\n",
       "      <td>165000.0000</td>\n",
       "      <td>VOLKSWAGEN</td>\n",
       "      <td>Gol Trend</td>\n",
       "      <td>1.6</td>\n",
       "      <td>Gama Pequenos Hatchback</td>\n",
       "      <td>Gama Pequenos</td>\n",
       "      <td>Bs.As. G.B.A. Norte</td>\n",
       "      <td>1.6 MSI 5Ptas. Serie (101cv) (L17)</td>\n",
       "      <td>1550000.0000</td>\n",
       "    </tr>\n",
       "    <tr>\n",
       "      <th>401547</th>\n",
       "      <td>2022-02-21 20:01:01</td>\n",
       "      <td>1123585225</td>\n",
       "      <td>2015</td>\n",
       "      <td>54700.0000</td>\n",
       "      <td>TOYOTA</td>\n",
       "      <td>Corolla</td>\n",
       "      <td>XLI</td>\n",
       "      <td>Gama Pequenos Hatchback</td>\n",
       "      <td>Gama Pequenos</td>\n",
       "      <td>Bs.As. G.B.A. Sur</td>\n",
       "      <td>XLI 1.8 MT (140cv) (L18)</td>\n",
       "      <td>2850000.0000</td>\n",
       "    </tr>\n",
       "    <tr>\n",
       "      <th>435248</th>\n",
       "      <td>2022-02-22 07:00:25</td>\n",
       "      <td>1118292401</td>\n",
       "      <td>2012</td>\n",
       "      <td>105000.0000</td>\n",
       "      <td>TOYOTA</td>\n",
       "      <td>Corolla</td>\n",
       "      <td>XLI</td>\n",
       "      <td>Gama Pequenos Hatchback</td>\n",
       "      <td>Gama Pequenos</td>\n",
       "      <td>Bs.As. G.B.A. Sur</td>\n",
       "      <td>XLI 1.8 MT (136cv) (L12)</td>\n",
       "      <td>1630000.0000</td>\n",
       "    </tr>\n",
       "    <tr>\n",
       "      <th>58030</th>\n",
       "      <td>2022-02-21 20:00:35</td>\n",
       "      <td>1121278037</td>\n",
       "      <td>2018</td>\n",
       "      <td>37650.0000</td>\n",
       "      <td>PEUGEOT</td>\n",
       "      <td>208</td>\n",
       "      <td>FELINE 1.6 N</td>\n",
       "      <td>Gama Pequenos Hatchback</td>\n",
       "      <td>Gama Pequenos</td>\n",
       "      <td>Capital Federal</td>\n",
       "      <td>1.6 N 16v Feline Tiptronic (115cv) (L18)</td>\n",
       "      <td>3225000.0000</td>\n",
       "    </tr>\n",
       "    <tr>\n",
       "      <th>256025</th>\n",
       "      <td>2022-02-17 23:00:35</td>\n",
       "      <td>1119743962</td>\n",
       "      <td>2009</td>\n",
       "      <td>135000.0000</td>\n",
       "      <td>PEUGEOT</td>\n",
       "      <td>207</td>\n",
       "      <td>COMPACT XT 1.6 5P TIPTRONIC</td>\n",
       "      <td>Gama Pequenos Hatchback</td>\n",
       "      <td>Gama Pequenos</td>\n",
       "      <td>Bs.As. G.B.A. Norte</td>\n",
       "      <td>Compact 5Ptas. 1.6 N Feline / XT Tiptronic (11...</td>\n",
       "      <td>700000.0000</td>\n",
       "    </tr>\n",
       "    <tr>\n",
       "      <th>349804</th>\n",
       "      <td>2022-02-19 23:00:23</td>\n",
       "      <td>1119135482</td>\n",
       "      <td>2013</td>\n",
       "      <td>199000.0000</td>\n",
       "      <td>FORD</td>\n",
       "      <td>Fiesta</td>\n",
       "      <td>1.1</td>\n",
       "      <td>Gama Pequenos Hatchback</td>\n",
       "      <td>Gama Pequenos</td>\n",
       "      <td>Buenos Aires Interior</td>\n",
       "      <td>Max 4Ptas. 1.6 N Ambiente</td>\n",
       "      <td>1350000.0000</td>\n",
       "    </tr>\n",
       "    <tr>\n",
       "      <th>88660</th>\n",
       "      <td>2022-02-21 23:00:27</td>\n",
       "      <td>1122688721</td>\n",
       "      <td>2018</td>\n",
       "      <td>63000.0000</td>\n",
       "      <td>VOLKSWAGEN</td>\n",
       "      <td>Suran</td>\n",
       "      <td>1.6L 5D I-MOTION 11D</td>\n",
       "      <td>Monovolumen Compacto</td>\n",
       "      <td>Monovolumen</td>\n",
       "      <td>Bs.As. G.B.A. Norte</td>\n",
       "      <td>1.6 Highline I-Motion Cuero</td>\n",
       "      <td>2700000.0000</td>\n",
       "    </tr>\n",
       "    <tr>\n",
       "      <th>247939</th>\n",
       "      <td>2022-02-22 06:00:27</td>\n",
       "      <td>1124396657</td>\n",
       "      <td>2014</td>\n",
       "      <td>98000.0000</td>\n",
       "      <td>RENAULT</td>\n",
       "      <td>Kangoo</td>\n",
       "      <td>AUTHENTIQUE 1.6</td>\n",
       "      <td>Baja PU - Furgones</td>\n",
       "      <td>Livianos</td>\n",
       "      <td>Bs.As. G.B.A. Sur</td>\n",
       "      <td>PH3 1.6 Authentique Plus 7as. 2PLC</td>\n",
       "      <td>2000000.0000</td>\n",
       "    </tr>\n",
       "    <tr>\n",
       "      <th>234541</th>\n",
       "      <td>2022-02-22 19:00:39</td>\n",
       "      <td>1123235812</td>\n",
       "      <td>2007</td>\n",
       "      <td>152000.0000</td>\n",
       "      <td>VOLKSWAGEN</td>\n",
       "      <td>Suran</td>\n",
       "      <td>60A</td>\n",
       "      <td>Monovolumen Compacto</td>\n",
       "      <td>Monovolumen</td>\n",
       "      <td>Bs.As. G.B.A. Sur</td>\n",
       "      <td>1.6 MSI Comfortline (L18)</td>\n",
       "      <td>930000.0000</td>\n",
       "    </tr>\n",
       "    <tr>\n",
       "      <th>235679</th>\n",
       "      <td>2022-02-22 05:00:26</td>\n",
       "      <td>1124393172</td>\n",
       "      <td>2013</td>\n",
       "      <td>54000.0000</td>\n",
       "      <td>VOLKSWAGEN</td>\n",
       "      <td>Vento</td>\n",
       "      <td>2.5</td>\n",
       "      <td>Gama Medianos Sedan</td>\n",
       "      <td>Gama Medianos</td>\n",
       "      <td>Bs.As. G.B.A. Sur</td>\n",
       "      <td>2.5 R5 Luxury MT (170cv) (L11)</td>\n",
       "      <td>2400000.0000</td>\n",
       "    </tr>\n",
       "    <tr>\n",
       "      <th>246445</th>\n",
       "      <td>2022-02-22 13:00:33</td>\n",
       "      <td>1124354284</td>\n",
       "      <td>2007</td>\n",
       "      <td>240000.0000</td>\n",
       "      <td>FORD</td>\n",
       "      <td>Fiesta</td>\n",
       "      <td>1.1</td>\n",
       "      <td>Gama Pequenos Hatchback</td>\n",
       "      <td>Gama Pequenos</td>\n",
       "      <td>Capital Federal</td>\n",
       "      <td>Max 4Ptas. 1.6 N Ambiente Plus</td>\n",
       "      <td>750000.0000</td>\n",
       "    </tr>\n",
       "    <tr>\n",
       "      <th>238063</th>\n",
       "      <td>2022-02-22 04:00:47</td>\n",
       "      <td>1118966886</td>\n",
       "      <td>2021</td>\n",
       "      <td>600.0000</td>\n",
       "      <td>VOLKSWAGEN</td>\n",
       "      <td>Amarok</td>\n",
       "      <td>DC V6 EXTREME 3.0L TDI 4X4 A</td>\n",
       "      <td>Pickups Medianas-Grandes</td>\n",
       "      <td>Livianos</td>\n",
       "      <td>Bs.As. G.B.A. Sur</td>\n",
       "      <td>3.0 TDI V6 (224cv) 4x4 C/Doble Extreme AT (L17)</td>\n",
       "      <td>11180000.0000</td>\n",
       "    </tr>\n",
       "    <tr>\n",
       "      <th>204701</th>\n",
       "      <td>2022-02-22 11:00:25</td>\n",
       "      <td>1121039692</td>\n",
       "      <td>2011</td>\n",
       "      <td>149000.0000</td>\n",
       "      <td>PEUGEOT</td>\n",
       "      <td>207</td>\n",
       "      <td>COMPACT XT\\nPREMIUM 1.6 5P</td>\n",
       "      <td>Gama Pequenos Hatchback</td>\n",
       "      <td>Gama Pequenos</td>\n",
       "      <td>Bs.As. G.B.A. Norte</td>\n",
       "      <td>Compact 5Ptas. 1.6 N Griffe / XT Premium (110cv)</td>\n",
       "      <td>1250000.0000</td>\n",
       "    </tr>\n",
       "  </tbody>\n",
       "</table>\n",
       "</div>"
      ],
      "text/plain": [
       "                   runtime      car_id  car_year     car_kms match_marca_a  \\\n",
       "419607 2022-02-21 23:00:27  1117117560      2010 176000.0000    VOLKSWAGEN   \n",
       "246236 2022-02-22 04:01:10  1117466525      2017  30000.0000          FORD   \n",
       "236290 2022-02-22 15:00:52  1118013858      2011  93000.0000    VOLKSWAGEN   \n",
       "206896 2022-02-22 03:00:29  1122454986      2019  26000.0000       PEUGEOT   \n",
       "39334  2022-02-19 10:01:31  1124023248      2016  72000.0000    VOLKSWAGEN   \n",
       "247308 2022-02-22 08:00:26  1123024549      2015 174000.0000       RENAULT   \n",
       "157052 2022-02-18 04:00:25  1123115635      2015  48000.0000       PEUGEOT   \n",
       "241771 2022-02-22 15:00:33  1117990881      2017 138000.0000    VOLKSWAGEN   \n",
       "230371 2022-02-22 14:00:34  1120185155      2016 217400.0000        TOYOTA   \n",
       "453297 2022-02-22 19:01:17  1124384908      2015 120000.0000    VOLKSWAGEN   \n",
       "427948 2022-02-22 13:00:37  1121431996      2007 193000.0000          FORD   \n",
       "452559 2022-02-22 11:00:27  1120694757      2012  33000.0000    VOLKSWAGEN   \n",
       "235646 2022-02-22 05:00:26  1120031091      2013 190000.0000    VOLKSWAGEN   \n",
       "211394 2022-02-22 10:00:26  1122317430      2009 150000.0000    VOLKSWAGEN   \n",
       "234842 2022-02-22 09:01:00  1120188347      2014 160000.0000    VOLKSWAGEN   \n",
       "211530 2022-02-22 05:00:25  1123035527      2013  57983.0000    VOLKSWAGEN   \n",
       "211592 2022-02-22 20:00:30  1118478035      2006 189000.0000    VOLKSWAGEN   \n",
       "420324 2022-02-21 02:00:25  1118974899      2021  12000.0000    VOLKSWAGEN   \n",
       "205104 2022-02-22 20:00:25  1121265245      2013 103000.0000       PEUGEOT   \n",
       "239292 2022-02-22 05:00:41  1122208634      2013 154000.0000    VOLKSWAGEN   \n",
       "235704 2022-02-22 09:00:41  1122383234      2014 125000.0000    VOLKSWAGEN   \n",
       "205652 2022-02-22 20:00:30  1122514666      2013  50000.0000       PEUGEOT   \n",
       "306645 2022-02-20 23:01:30  1122551938      2021  13000.0000       PEUGEOT   \n",
       "447120 2022-02-22 08:00:33  1120387653      2011 140000.0000          FORD   \n",
       "247388 2022-02-22 06:00:27  1121782167      2014 131722.0000       RENAULT   \n",
       "451701 2022-02-22 04:01:22  1122405689      2017  34200.0000          FORD   \n",
       "189689 2022-02-18 14:01:00  1121282957      2017  30800.0000    VOLKSWAGEN   \n",
       "58481  2022-02-21 18:00:30  1118575074      2015  86000.0000       PEUGEOT   \n",
       "446275 2022-02-22 19:00:31  1123341615      2013 106000.0000          FORD   \n",
       "452158 2022-02-22 05:00:30  1123705990      2013  88000.0000    VOLKSWAGEN   \n",
       "435760 2022-02-22 16:00:46  1121337217      2021  15479.0000        TOYOTA   \n",
       "234150 2022-02-22 09:01:00  1118775673      2014 132000.0000    VOLKSWAGEN   \n",
       "428252 2022-02-22 06:00:25  1120357190      2018   5000.0000          FORD   \n",
       "452906 2022-02-22 23:00:23  1122754268      2020   7800.0000    VOLKSWAGEN   \n",
       "205130 2022-02-22 20:00:25  1123596844      2013  62000.0000       PEUGEOT   \n",
       "238086 2022-02-22 15:00:33  1117980196      2017  69000.0000    VOLKSWAGEN   \n",
       "236586 2022-02-22 15:00:52  1121105298      2011 140000.0000    VOLKSWAGEN   \n",
       "452739 2022-02-22 14:01:33  1121344085      2016 165000.0000    VOLKSWAGEN   \n",
       "401547 2022-02-21 20:01:01  1123585225      2015  54700.0000        TOYOTA   \n",
       "435248 2022-02-22 07:00:25  1118292401      2012 105000.0000        TOYOTA   \n",
       "58030  2022-02-21 20:00:35  1121278037      2018  37650.0000       PEUGEOT   \n",
       "256025 2022-02-17 23:00:35  1119743962      2009 135000.0000       PEUGEOT   \n",
       "349804 2022-02-19 23:00:23  1119135482      2013 199000.0000          FORD   \n",
       "88660  2022-02-21 23:00:27  1122688721      2018  63000.0000    VOLKSWAGEN   \n",
       "247939 2022-02-22 06:00:27  1124396657      2014  98000.0000       RENAULT   \n",
       "234541 2022-02-22 19:00:39  1123235812      2007 152000.0000    VOLKSWAGEN   \n",
       "235679 2022-02-22 05:00:26  1124393172      2013  54000.0000    VOLKSWAGEN   \n",
       "246445 2022-02-22 13:00:33  1124354284      2007 240000.0000          FORD   \n",
       "238063 2022-02-22 04:00:47  1118966886      2021    600.0000    VOLKSWAGEN   \n",
       "204701 2022-02-22 11:00:25  1121039692      2011 149000.0000       PEUGEOT   \n",
       "\n",
       "       match_modelo_a                              match_v1_c  \\\n",
       "419607      Gol Trend                                     1.6   \n",
       "246236         Fiesta                1.6L TITANIUM POWERSHIFT   \n",
       "236290          Vento                                     2.0   \n",
       "206896            308                                     1.6   \n",
       "39334           Suran               1.6L 5D I-MOTION 1250/21C   \n",
       "247308         Kangoo                             CONFORT 1.6   \n",
       "157052            208                            ACTIVE 1.5 N   \n",
       "241771         Amarok  DC 2.0L TDI 180CV HIGHLINE 4X2 AUT EU5   \n",
       "230371          Hilux                                     4X4   \n",
       "453297      Gol Trend                                     1.6   \n",
       "427948         Ranger                                      XL   \n",
       "452559      Gol Trend                                     1.6   \n",
       "235646          Vento                                     2.5   \n",
       "211394            Gol                                     1.6   \n",
       "234842          Suran               1.6L 5D I-MOTION 1250/21C   \n",
       "211530            Gol                                   1.4 L   \n",
       "211592            Gol                                     1.6   \n",
       "420324      Gol Trend                                     1.6   \n",
       "205104            207       COMPACT FELINE 1.6 N 5P TIPTRONIC   \n",
       "239292         Amarok                  2.0L TDI 140CV 4X2 082   \n",
       "235704          Vento                                     2.5   \n",
       "205652            208                ALLURE 1.5 N TOUCHSCREEN   \n",
       "306645            208                          ACTIVE 1.6 115   \n",
       "447120      Focus III                                GHIA 2.0   \n",
       "247388         Kangoo                             CONFORT 1.6   \n",
       "451701      Focus III                                      SE   \n",
       "189689          Suran                    1.6L 5D I-MOTION 11D   \n",
       "58481             208                  FELINE 1.6 N PACK CUIR   \n",
       "446275       EcoSport                           2.0 L 4X2 XLT   \n",
       "452158      Gol Trend                                     1.6   \n",
       "435760        Corolla                                    SE-G   \n",
       "234150          Suran               1.6L 5D I-MOTION 1250/21C   \n",
       "428252         Ranger                                      XL   \n",
       "452906      Gol Trend                                     1.6   \n",
       "205130            207       COMPACT FELINE 1.6 N 5P TIPTRONIC   \n",
       "238086         Amarok            DC V6 EXTREME 3.0L TDI 4X4 A   \n",
       "236586          Vento                                     2.5   \n",
       "452739      Gol Trend                                     1.6   \n",
       "401547        Corolla                                     XLI   \n",
       "435248        Corolla                                     XLI   \n",
       "58030             208                            FELINE 1.6 N   \n",
       "256025            207             COMPACT XT 1.6 5P TIPTRONIC   \n",
       "349804         Fiesta                                     1.1   \n",
       "88660           Suran                    1.6L 5D I-MOTION 11D   \n",
       "247939         Kangoo                         AUTHENTIQUE 1.6   \n",
       "234541          Suran                                     60A   \n",
       "235679          Vento                                     2.5   \n",
       "246445         Fiesta                                     1.1   \n",
       "238063         Amarok            DC V6 EXTREME 3.0L TDI 4X4 A   \n",
       "204701            207              COMPACT XT\\nPREMIUM 1.6 5P   \n",
       "\n",
       "                        Subseg_a          Seg_a          car_location_1  \\\n",
       "419607   Gama Pequenos Hatchback  Gama Pequenos       Bs.As. G.B.A. Sur   \n",
       "246236   Gama Pequenos Hatchback  Gama Pequenos       Bs.As. G.B.A. Sur   \n",
       "236290       Gama Medianos Sedan  Gama Medianos     Bs.As. G.B.A. Oeste   \n",
       "206896   Gama Pequenos Hatchback  Gama Pequenos   Buenos Aires Interior   \n",
       "39334       Monovolumen Compacto    Monovolumen     Bs.As. G.B.A. Norte   \n",
       "247308        Baja PU - Furgones       Livianos         Capital Federal   \n",
       "157052   Gama Pequenos Hatchback  Gama Pequenos       Bs.As. G.B.A. Sur   \n",
       "241771  Pickups Medianas-Grandes       Livianos   Buenos Aires Interior   \n",
       "230371  Pickups Medianas-Grandes       Livianos   Buenos Aires Interior   \n",
       "453297   Gama Pequenos Hatchback  Gama Pequenos     Bs.As. G.B.A. Norte   \n",
       "427948  Pickups Medianas-Grandes       Livianos     Bs.As. G.B.A. Oeste   \n",
       "452559   Gama Pequenos Hatchback  Gama Pequenos  Bs.As. Costa Atlántica   \n",
       "235646       Gama Medianos Sedan  Gama Medianos     Bs.As. G.B.A. Norte   \n",
       "211394   Gama Pequenos Hatchback  Gama Pequenos       Bs.As. G.B.A. Sur   \n",
       "234842      Monovolumen Compacto    Monovolumen       Bs.As. G.B.A. Sur   \n",
       "211530   Gama Pequenos Hatchback  Gama Pequenos       Bs.As. G.B.A. Sur   \n",
       "211592   Gama Pequenos Hatchback  Gama Pequenos       Bs.As. G.B.A. Sur   \n",
       "420324   Gama Pequenos Hatchback  Gama Pequenos       Bs.As. G.B.A. Sur   \n",
       "205104   Gama Pequenos Hatchback  Gama Pequenos     Bs.As. G.B.A. Oeste   \n",
       "239292  Pickups Medianas-Grandes       Livianos     Bs.As. G.B.A. Norte   \n",
       "235704       Gama Medianos Sedan  Gama Medianos   Buenos Aires Interior   \n",
       "205652   Gama Pequenos Hatchback  Gama Pequenos         Capital Federal   \n",
       "306645   Gama Pequenos Hatchback  Gama Pequenos     Bs.As. G.B.A. Oeste   \n",
       "447120       Gama Medianos Sedan  Gama Medianos       Bs.As. G.B.A. Sur   \n",
       "247388        Baja PU - Furgones       Livianos       Bs.As. G.B.A. Sur   \n",
       "451701       Gama Medianos Sedan  Gama Medianos       Bs.As. G.B.A. Sur   \n",
       "189689      Monovolumen Compacto    Monovolumen     Bs.As. G.B.A. Oeste   \n",
       "58481    Gama Pequenos Hatchback  Gama Pequenos         Capital Federal   \n",
       "446275         Suv Compactas 4x2            SUV     Bs.As. G.B.A. Oeste   \n",
       "452158   Gama Pequenos Hatchback  Gama Pequenos     Bs.As. G.B.A. Norte   \n",
       "435760   Gama Pequenos Hatchback  Gama Pequenos         Capital Federal   \n",
       "234150      Monovolumen Compacto    Monovolumen       Bs.As. G.B.A. Sur   \n",
       "428252  Pickups Medianas-Grandes       Livianos   Buenos Aires Interior   \n",
       "452906   Gama Pequenos Hatchback  Gama Pequenos     Bs.As. G.B.A. Norte   \n",
       "205130   Gama Pequenos Hatchback  Gama Pequenos       Bs.As. G.B.A. Sur   \n",
       "238086  Pickups Medianas-Grandes       Livianos       Bs.As. G.B.A. Sur   \n",
       "236586       Gama Medianos Sedan  Gama Medianos       Bs.As. G.B.A. Sur   \n",
       "452739   Gama Pequenos Hatchback  Gama Pequenos     Bs.As. G.B.A. Norte   \n",
       "401547   Gama Pequenos Hatchback  Gama Pequenos       Bs.As. G.B.A. Sur   \n",
       "435248   Gama Pequenos Hatchback  Gama Pequenos       Bs.As. G.B.A. Sur   \n",
       "58030    Gama Pequenos Hatchback  Gama Pequenos         Capital Federal   \n",
       "256025   Gama Pequenos Hatchback  Gama Pequenos     Bs.As. G.B.A. Norte   \n",
       "349804   Gama Pequenos Hatchback  Gama Pequenos   Buenos Aires Interior   \n",
       "88660       Monovolumen Compacto    Monovolumen     Bs.As. G.B.A. Norte   \n",
       "247939        Baja PU - Furgones       Livianos       Bs.As. G.B.A. Sur   \n",
       "234541      Monovolumen Compacto    Monovolumen       Bs.As. G.B.A. Sur   \n",
       "235679       Gama Medianos Sedan  Gama Medianos       Bs.As. G.B.A. Sur   \n",
       "246445   Gama Pequenos Hatchback  Gama Pequenos         Capital Federal   \n",
       "238063  Pickups Medianas-Grandes       Livianos       Bs.As. G.B.A. Sur   \n",
       "204701   Gama Pequenos Hatchback  Gama Pequenos     Bs.As. G.B.A. Norte   \n",
       "\n",
       "                                               match_v1_a  price_meli_ok  \n",
       "419607             1.6 3Ptas. Trendline / Pack I (101cv)    1150000.0000  \n",
       "246236                     Max 4Ptas. 1.6 N Ambiente Plus   2902500.0000  \n",
       "236290                      2.0 TFSI Sportline MT (200cv)   2902500.0000  \n",
       "206896                    S 1.6 THP 8AT GT (225cv) 5Ptas.   6450000.0000  \n",
       "39334                           1.6 MSI Comfortline (L18)   1780000.0000  \n",
       "247308                           PH3 1.6 Authentique 1PLC   1550000.0000  \n",
       "157052                            1.5 N 8v Active (90cv)    1750000.0000  \n",
       "241771       2.0 TDI (180cv) 4x2 C/Doble Highline Pack AT   5600000.0000  \n",
       "230371               4x4 CD SRX 2.8 TDI 6MT (177cv) (L16)   5900000.0000  \n",
       "453297              1.6 MSI 5Ptas. Highline (101cv) (L17)   1450000.0000  \n",
       "427948                      3.0 TDI C/S 4x2 XL Plus (L05)   3547500.0000  \n",
       "452559                         1.6 5Ptas. Pack II (101cv)   1650000.0000  \n",
       "235646                     2.5 R5 Luxury MT (170cv) (L11)   2150000.0000  \n",
       "211394                                   1.6 3Ptas. Power    850000.0000  \n",
       "234842                                1.9 SDI Comfortline   1800000.0000  \n",
       "211530                            1.4 3Ptas. Power (83cv)    980000.0000  \n",
       "211592                                   1.6 3Ptas. Power    660000.0000  \n",
       "420324             1.6 MSI 5Ptas. Trendline (101cv) (L17)   2600000.0000  \n",
       "205104  Compact 5Ptas. 1.6 N Feline / XT Tiptronic (11...   1397500.0000  \n",
       "239292             2.0 TDI (140cv) 4x2 C/Simple Startline   2990000.0000  \n",
       "235704                     2.5 R5 Luxury MT (170cv) (L11)   2400000.0000  \n",
       "205652                      1.5 N 8v Allure Touch (90cv)    1670000.0000  \n",
       "306645                                   1.6 Active (L20)   3350000.0000  \n",
       "447120                  II EXE 4Ptas. 2.0 N Ghia AT (L08)   1550000.0000  \n",
       "247388                           PH3 1.6 Authentique 1PLC   1500000.0000  \n",
       "451701                2.0 SE Plus MT (170cv) 5Ptas. (L15)   3300000.0000  \n",
       "189689                       1.6 Highline I-Motion Cuero    2600000.0000  \n",
       "58481                 1.6 N 16v Feline Pack Cuir (115cv)    2050000.0000  \n",
       "446275                                            2.0 XLT   1950000.0000  \n",
       "452158             1.6 MSI 5Ptas. Trendline (101cv) (L17)   1500000.0000  \n",
       "435760                          2.0 SEG CVT (170cv) (L20)   5800000.0000  \n",
       "234150  Cross 1.6 Highline s/cuero (101cv) (MY14 ABG ABS)   1620000.0000  \n",
       "428252          2.2 TDCi C/Doble 4x4 XL 6MT (125cv) (L20)   4400000.0000  \n",
       "452906             1.6 MSI 5Ptas. Trendline (101cv) (L17)   2430000.0000  \n",
       "205130  Compact 5Ptas. 1.6 N Feline / XT Tiptronic (11...   1548000.0000  \n",
       "238086    3.0 TDI V6 (224cv) 4x4 C/Doble Extreme AT (L17)   8277500.0000  \n",
       "236586              2.5 R5 Luxury Tiptronic (170cv) (L11)   1917000.0000  \n",
       "452739                1.6 MSI 5Ptas. Serie (101cv) (L17)    1550000.0000  \n",
       "401547                           XLI 1.8 MT (140cv) (L18)   2850000.0000  \n",
       "435248                           XLI 1.8 MT (136cv) (L12)   1630000.0000  \n",
       "58030            1.6 N 16v Feline Tiptronic (115cv) (L18)   3225000.0000  \n",
       "256025  Compact 5Ptas. 1.6 N Feline / XT Tiptronic (11...    700000.0000  \n",
       "349804                          Max 4Ptas. 1.6 N Ambiente   1350000.0000  \n",
       "88660                        1.6 Highline I-Motion Cuero    2700000.0000  \n",
       "247939                 PH3 1.6 Authentique Plus 7as. 2PLC   2000000.0000  \n",
       "234541                          1.6 MSI Comfortline (L18)    930000.0000  \n",
       "235679                     2.5 R5 Luxury MT (170cv) (L11)   2400000.0000  \n",
       "246445                     Max 4Ptas. 1.6 N Ambiente Plus    750000.0000  \n",
       "238063    3.0 TDI V6 (224cv) 4x4 C/Doble Extreme AT (L17)  11180000.0000  \n",
       "204701   Compact 5Ptas. 1.6 N Griffe / XT Premium (110cv)   1250000.0000  "
      ]
     },
     "execution_count": 52,
     "metadata": {},
     "output_type": "execute_result"
    }
   ],
   "source": [
    "# Seleccion final de la muestra de 50 registros\n",
    "df_oot_final_sample = df_oot_final.sample(n=50, random_state=seed) \n",
    "df_oot_final_sample"
   ]
  },
  {
   "cell_type": "code",
   "execution_count": 53,
   "id": "57400368",
   "metadata": {},
   "outputs": [],
   "source": [
    "# nos quedamos solo con las features que usamos en el entrenamiento del modelo para hacer el predict del modelo\n",
    "X_oot = df_oot_final_sample[model_features].copy()"
   ]
  },
  {
   "cell_type": "markdown",
   "id": "ea24fe79",
   "metadata": {},
   "source": [
    "## 4) Scoreo de la muestra final"
   ]
  },
  {
   "cell_type": "code",
   "execution_count": 56,
   "id": "bbf75612",
   "metadata": {},
   "outputs": [],
   "source": [
    "# Paso 1: Levantamos el modelo ya entrenado en la notebook anterior\n",
    "import pickle\n",
    "with open('{}model_catboost_v2.pickle'.format(path_model), 'rb') as f:\n",
    "    model = pickle.load(f)"
   ]
  },
  {
   "cell_type": "code",
   "execution_count": 57,
   "id": "9e2b295e",
   "metadata": {},
   "outputs": [],
   "source": [
    "# Paso 2: predict sobre la data nueva\n",
    "pred = model.predict(X_oot)"
   ]
  },
  {
   "cell_type": "code",
   "execution_count": 58,
   "id": "078b0367",
   "metadata": {},
   "outputs": [
    {
     "data": {
      "text/plain": [
       "numpy.ndarray"
      ]
     },
     "execution_count": 58,
     "metadata": {},
     "output_type": "execute_result"
    }
   ],
   "source": [
    "type(pred)"
   ]
  },
  {
   "cell_type": "code",
   "execution_count": 59,
   "id": "c772ae72",
   "metadata": {},
   "outputs": [
    {
     "data": {
      "text/plain": [
       "50"
      ]
     },
     "execution_count": 59,
     "metadata": {},
     "output_type": "execute_result"
    }
   ],
   "source": [
    "len(pred)"
   ]
  },
  {
   "cell_type": "markdown",
   "id": "52e296d6",
   "metadata": {},
   "source": [
    "## 5) Armado del output final"
   ]
  },
  {
   "cell_type": "code",
   "execution_count": 60,
   "id": "1e13bf60",
   "metadata": {},
   "outputs": [],
   "source": [
    "# Precio promedio en MELI\n",
    "if foco_muestra in ['alta_presencia','sin_foco']:\n",
    "    grouped = df_oot_final.groupby(['match_marca_a','match_modelo_a','match_v1_a','car_year'], as_index=False)['price_meli_ok'].mean()\n",
    "    grouped.rename(columns={'price_meli_ok':'precio_prom_meli'},inplace=True)\n",
    "    df_oot_final_sample = df_oot_final_sample.merge(grouped, how='inner'\n",
    "                                                                  , on=['match_marca_a','match_modelo_a','match_v1_a','car_year'])\n",
    "elif foco_muestra == 'baja_presencia':  # si el foco es baja_presencia, la agrupación la hacemos de menos niveles\n",
    "    grouped = df_oot_final.groupby(['match_marca_a','match_modelo_a','car_year'], as_index=False)['price_meli_ok'].mean()\n",
    "    grouped.rename(columns={'price_meli_ok':'precio_prom_meli'},inplace=True)\n",
    "    df_oot_final_sample = df_oot_final_sample.merge(grouped, how='inner'\n",
    "                                                                  , on=['match_marca_a','match_modelo_a','car_year'])\n",
    "else:\n",
    "    raise ValueError('Revisar el valor que le pasamos al parametro \"foco_muestra\", las opciones disponibles son: \"alta_presencia\", \"baja_presencia\" o \"sin_foco\"')"
   ]
  },
  {
   "cell_type": "code",
   "execution_count": 61,
   "id": "9bb5578c",
   "metadata": {},
   "outputs": [],
   "source": [
    "df_oot_final_sample['precio_estimado'] = pred"
   ]
  },
  {
   "cell_type": "code",
   "execution_count": 62,
   "id": "1a92f279",
   "metadata": {},
   "outputs": [],
   "source": [
    "df_oot_final_sample['precio_estimado'] = df_oot_final_sample['precio_estimado'].astype('int64')"
   ]
  },
  {
   "cell_type": "code",
   "execution_count": 63,
   "id": "67828431",
   "metadata": {},
   "outputs": [],
   "source": [
    "from datetime import datetime\n",
    "df_oot_final_sample['fecha_simulacion'] = datetime.today().strftime('%Y-%m-%d')"
   ]
  },
  {
   "cell_type": "code",
   "execution_count": 64,
   "id": "1ae4df3d",
   "metadata": {},
   "outputs": [
    {
     "data": {
      "text/plain": [
       "Index(['runtime', 'car_id', 'car_year', 'car_kms', 'match_marca_a',\n",
       "       'match_modelo_a', 'match_v1_c', 'Subseg_a', 'Seg_a', 'car_location_1',\n",
       "       'match_v1_a', 'price_meli_ok', 'precio_prom_meli', 'precio_estimado',\n",
       "       'fecha_simulacion'],\n",
       "      dtype='object')"
      ]
     },
     "execution_count": 64,
     "metadata": {},
     "output_type": "execute_result"
    }
   ],
   "source": [
    "df_oot_final_sample.columns"
   ]
  },
  {
   "cell_type": "code",
   "execution_count": 65,
   "id": "13b062fe",
   "metadata": {},
   "outputs": [],
   "source": [
    "# Ordenamos las columnas de forma prolija\n",
    "df_oot_final_sample = df_oot_final_sample[['car_id','match_marca_a','match_modelo_a','match_v1_a','match_v1_c'\n",
    "                                                         ,'car_year','car_kms','Seg_a','Subseg_a','car_location_1'\n",
    "                                                         ,'precio_estimado','precio_prom_meli','fecha_simulacion']]"
   ]
  },
  {
   "cell_type": "code",
   "execution_count": 66,
   "id": "e8730a3d",
   "metadata": {},
   "outputs": [
    {
     "data": {
      "text/html": [
       "<div>\n",
       "<style scoped>\n",
       "    .dataframe tbody tr th:only-of-type {\n",
       "        vertical-align: middle;\n",
       "    }\n",
       "\n",
       "    .dataframe tbody tr th {\n",
       "        vertical-align: top;\n",
       "    }\n",
       "\n",
       "    .dataframe thead th {\n",
       "        text-align: right;\n",
       "    }\n",
       "</style>\n",
       "<table border=\"1\" class=\"dataframe\">\n",
       "  <thead>\n",
       "    <tr style=\"text-align: right;\">\n",
       "      <th></th>\n",
       "      <th>car_id</th>\n",
       "      <th>match_marca_a</th>\n",
       "      <th>match_modelo_a</th>\n",
       "      <th>match_v1_a</th>\n",
       "      <th>match_v1_c</th>\n",
       "      <th>car_year</th>\n",
       "      <th>car_kms</th>\n",
       "      <th>Seg_a</th>\n",
       "      <th>Subseg_a</th>\n",
       "      <th>car_location_1</th>\n",
       "      <th>precio_estimado</th>\n",
       "      <th>precio_prom_meli</th>\n",
       "      <th>fecha_simulacion</th>\n",
       "    </tr>\n",
       "  </thead>\n",
       "  <tbody>\n",
       "    <tr>\n",
       "      <th>0</th>\n",
       "      <td>1117117560</td>\n",
       "      <td>VOLKSWAGEN</td>\n",
       "      <td>Gol Trend</td>\n",
       "      <td>1.6 3Ptas. Trendline / Pack I (101cv)</td>\n",
       "      <td>1.6</td>\n",
       "      <td>2010</td>\n",
       "      <td>176000.0000</td>\n",
       "      <td>Gama Pequenos</td>\n",
       "      <td>Gama Pequenos Hatchback</td>\n",
       "      <td>Bs.As. G.B.A. Sur</td>\n",
       "      <td>987097</td>\n",
       "      <td>1101818.1818</td>\n",
       "      <td>2022-02-23</td>\n",
       "    </tr>\n",
       "    <tr>\n",
       "      <th>1</th>\n",
       "      <td>1117466525</td>\n",
       "      <td>FORD</td>\n",
       "      <td>Fiesta</td>\n",
       "      <td>Max 4Ptas. 1.6 N Ambiente Plus</td>\n",
       "      <td>1.6L TITANIUM POWERSHIFT</td>\n",
       "      <td>2017</td>\n",
       "      <td>30000.0000</td>\n",
       "      <td>Gama Pequenos</td>\n",
       "      <td>Gama Pequenos Hatchback</td>\n",
       "      <td>Bs.As. G.B.A. Sur</td>\n",
       "      <td>2378350</td>\n",
       "      <td>2902500.0000</td>\n",
       "      <td>2022-02-23</td>\n",
       "    </tr>\n",
       "    <tr>\n",
       "      <th>2</th>\n",
       "      <td>1118013858</td>\n",
       "      <td>VOLKSWAGEN</td>\n",
       "      <td>Vento</td>\n",
       "      <td>2.0 TFSI Sportline MT (200cv)</td>\n",
       "      <td>2.0</td>\n",
       "      <td>2011</td>\n",
       "      <td>93000.0000</td>\n",
       "      <td>Gama Medianos</td>\n",
       "      <td>Gama Medianos Sedan</td>\n",
       "      <td>Bs.As. G.B.A. Oeste</td>\n",
       "      <td>2793958</td>\n",
       "      <td>2862602.7778</td>\n",
       "      <td>2022-02-23</td>\n",
       "    </tr>\n",
       "    <tr>\n",
       "      <th>3</th>\n",
       "      <td>1122454986</td>\n",
       "      <td>PEUGEOT</td>\n",
       "      <td>308</td>\n",
       "      <td>S 1.6 THP 8AT GT (225cv) 5Ptas.</td>\n",
       "      <td>1.6</td>\n",
       "      <td>2019</td>\n",
       "      <td>26000.0000</td>\n",
       "      <td>Gama Pequenos</td>\n",
       "      <td>Gama Pequenos Hatchback</td>\n",
       "      <td>Buenos Aires Interior</td>\n",
       "      <td>4960452</td>\n",
       "      <td>6176750.0000</td>\n",
       "      <td>2022-02-23</td>\n",
       "    </tr>\n",
       "    <tr>\n",
       "      <th>4</th>\n",
       "      <td>1124023248</td>\n",
       "      <td>VOLKSWAGEN</td>\n",
       "      <td>Suran</td>\n",
       "      <td>1.6 MSI Comfortline (L18)</td>\n",
       "      <td>1.6L 5D I-MOTION 1250/21C</td>\n",
       "      <td>2016</td>\n",
       "      <td>72000.0000</td>\n",
       "      <td>Monovolumen</td>\n",
       "      <td>Monovolumen Compacto</td>\n",
       "      <td>Bs.As. G.B.A. Norte</td>\n",
       "      <td>2062947</td>\n",
       "      <td>2012192.3077</td>\n",
       "      <td>2022-02-23</td>\n",
       "    </tr>\n",
       "  </tbody>\n",
       "</table>\n",
       "</div>"
      ],
      "text/plain": [
       "       car_id match_marca_a match_modelo_a  \\\n",
       "0  1117117560    VOLKSWAGEN      Gol Trend   \n",
       "1  1117466525          FORD         Fiesta   \n",
       "2  1118013858    VOLKSWAGEN          Vento   \n",
       "3  1122454986       PEUGEOT            308   \n",
       "4  1124023248    VOLKSWAGEN          Suran   \n",
       "\n",
       "                               match_v1_a                 match_v1_c  \\\n",
       "0  1.6 3Ptas. Trendline / Pack I (101cv)                         1.6   \n",
       "1          Max 4Ptas. 1.6 N Ambiente Plus   1.6L TITANIUM POWERSHIFT   \n",
       "2           2.0 TFSI Sportline MT (200cv)                        2.0   \n",
       "3         S 1.6 THP 8AT GT (225cv) 5Ptas.                        1.6   \n",
       "4               1.6 MSI Comfortline (L18)  1.6L 5D I-MOTION 1250/21C   \n",
       "\n",
       "   car_year     car_kms          Seg_a                 Subseg_a  \\\n",
       "0      2010 176000.0000  Gama Pequenos  Gama Pequenos Hatchback   \n",
       "1      2017  30000.0000  Gama Pequenos  Gama Pequenos Hatchback   \n",
       "2      2011  93000.0000  Gama Medianos      Gama Medianos Sedan   \n",
       "3      2019  26000.0000  Gama Pequenos  Gama Pequenos Hatchback   \n",
       "4      2016  72000.0000    Monovolumen     Monovolumen Compacto   \n",
       "\n",
       "          car_location_1  precio_estimado  precio_prom_meli fecha_simulacion  \n",
       "0      Bs.As. G.B.A. Sur           987097      1101818.1818       2022-02-23  \n",
       "1      Bs.As. G.B.A. Sur          2378350      2902500.0000       2022-02-23  \n",
       "2    Bs.As. G.B.A. Oeste          2793958      2862602.7778       2022-02-23  \n",
       "3  Buenos Aires Interior          4960452      6176750.0000       2022-02-23  \n",
       "4    Bs.As. G.B.A. Norte          2062947      2012192.3077       2022-02-23  "
      ]
     },
     "execution_count": 66,
     "metadata": {},
     "output_type": "execute_result"
    }
   ],
   "source": [
    "# chequeo\n",
    "df_oot_final_sample.head()"
   ]
  },
  {
   "cell_type": "code",
   "execution_count": 67,
   "id": "47abe991",
   "metadata": {},
   "outputs": [],
   "source": [
    "df_oot_final_sample['precio_prom_meli'] = df_oot_final_sample['precio_prom_meli'].astype('int64')"
   ]
  },
  {
   "cell_type": "code",
   "execution_count": 68,
   "id": "69ac3372",
   "metadata": {},
   "outputs": [
    {
     "data": {
      "text/plain": [
       "count        50.0000\n",
       "mean    2409259.1000\n",
       "std     1569864.9482\n",
       "min      648942.0000\n",
       "25%     1460363.2500\n",
       "50%     1962082.5000\n",
       "75%     2734585.7500\n",
       "max     7695028.0000\n",
       "Name: precio_estimado, dtype: float64"
      ]
     },
     "execution_count": 68,
     "metadata": {},
     "output_type": "execute_result"
    }
   ],
   "source": [
    "# chequeo\n",
    "df_oot_final_sample.precio_estimado.describe()"
   ]
  },
  {
   "cell_type": "code",
   "execution_count": 69,
   "id": "81e11380",
   "metadata": {},
   "outputs": [
    {
     "data": {
      "image/png": "[encoded data removed]",
      "text/plain": [
       "<Figure size 432x288 with 1 Axes>"
      ]
     },
     "metadata": {
      "needs_background": "light"
     },
     "output_type": "display_data"
    }
   ],
   "source": [
    "# chequeo\n",
    "# Distribucion del target\n",
    "df_oot_final_sample['precio_estimado'].hist(bins=25)\n",
    "plt.xlabel('precio_estimado')\n",
    "plt.ylabel(\"Count\")\n",
    "plt.title('precio_estimado')\n",
    "plt.show()"
   ]
  },
  {
   "cell_type": "code",
   "execution_count": 71,
   "id": "4de4bc68",
   "metadata": {},
   "outputs": [
    {
     "data": {
      "text/plain": [
       "(50, 13)"
      ]
     },
     "execution_count": 71,
     "metadata": {},
     "output_type": "execute_result"
    }
   ],
   "source": [
    "df_oot_final_sample.shape"
   ]
  },
  {
   "cell_type": "code",
   "execution_count": 74,
   "id": "825d6732",
   "metadata": {},
   "outputs": [],
   "source": [
    "# Guardamos el rdo final\n",
    "current_date = datetime.today().strftime('%Y-%m-%d')\n",
    "df_scoreo_oot_final_sample.to_excel(f'resultados/simulaciones/simulacion_{foco_muestra}_{current_date}.xlsx')\n",
    "# en esta última linea, poner el path que querramos para guardar el output"
   ]
  }
 ],
 "metadata": {
  "kernelspec": {
   "display_name": "Python 3 (ipykernel)",
   "language": "python",
   "name": "python3"
  },
  "language_info": {
   "codemirror_mode": {
    "name": "ipython",
    "version": 3
   },
   "file_extension": ".py",
   "mimetype": "text/x-python",
   "name": "python",
   "nbconvert_exporter": "python",
   "pygments_lexer": "ipython3",
   "version": "3.8.12"
  }
 },
 "nbformat": 4,
 "nbformat_minor": 5
}
