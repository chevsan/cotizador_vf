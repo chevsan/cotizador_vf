{
 "cells": [
  {
   "cell_type": "markdown",
   "id": "9e91fb7e",
   "metadata": {},
   "source": [
    "# SCOREO / SIMULACION"
   ]
  },
  {
   "cell_type": "markdown",
   "id": "f5ea7566",
   "metadata": {},
   "source": [
    "A partir de esta versión de la notebook de simulacion (v3) el foco de la muestra es únicamente de \"alta presencia\". Se compone de los Grupos 1, 2, 3 y 4, los cuales son los grupos que contienen los marca-modelo con suficiente muestra como para cotizarlo mediante el modelo. Los autos que no entren en esta categoría los cotizaremos mediante reglas duras o pasandolos directamente al equipo de Pricing"
   ]
  },
  {
   "cell_type": "markdown",
   "id": "ce4c1783",
   "metadata": {},
   "source": [
    "## Librerías y configuraciones de la notebook"
   ]
  },
  {
   "cell_type": "code",
   "execution_count": 1,
   "id": "92205a1c",
   "metadata": {},
   "outputs": [
    {
     "name": "stderr",
     "output_type": "stream",
     "text": [
      "In /Users/santiago.lean/opt/anaconda3/lib/python3.9/site-packages/matplotlib/mpl-data/stylelib/_classic_test.mplstyle: \n",
      "The text.latex.preview rcparam was deprecated in Matplotlib 3.3 and will be removed two minor releases later.\n",
      "In /Users/santiago.lean/opt/anaconda3/lib/python3.9/site-packages/matplotlib/mpl-data/stylelib/_classic_test.mplstyle: \n",
      "The mathtext.fallback_to_cm rcparam was deprecated in Matplotlib 3.3 and will be removed two minor releases later.\n",
      "In /Users/santiago.lean/opt/anaconda3/lib/python3.9/site-packages/matplotlib/mpl-data/stylelib/_classic_test.mplstyle: Support for setting the 'mathtext.fallback_to_cm' rcParam is deprecated since 3.3 and will be removed two minor releases later; use 'mathtext.fallback : 'cm' instead.\n",
      "In /Users/santiago.lean/opt/anaconda3/lib/python3.9/site-packages/matplotlib/mpl-data/stylelib/_classic_test.mplstyle: \n",
      "The validate_bool_maybe_none function was deprecated in Matplotlib 3.3 and will be removed two minor releases later.\n",
      "In /Users/santiago.lean/opt/anaconda3/lib/python3.9/site-packages/matplotlib/mpl-data/stylelib/_classic_test.mplstyle: \n",
      "The savefig.jpeg_quality rcparam was deprecated in Matplotlib 3.3 and will be removed two minor releases later.\n",
      "In /Users/santiago.lean/opt/anaconda3/lib/python3.9/site-packages/matplotlib/mpl-data/stylelib/_classic_test.mplstyle: \n",
      "The keymap.all_axes rcparam was deprecated in Matplotlib 3.3 and will be removed two minor releases later.\n",
      "In /Users/santiago.lean/opt/anaconda3/lib/python3.9/site-packages/matplotlib/mpl-data/stylelib/_classic_test.mplstyle: \n",
      "The animation.avconv_path rcparam was deprecated in Matplotlib 3.3 and will be removed two minor releases later.\n",
      "In /Users/santiago.lean/opt/anaconda3/lib/python3.9/site-packages/matplotlib/mpl-data/stylelib/_classic_test.mplstyle: \n",
      "The animation.avconv_args rcparam was deprecated in Matplotlib 3.3 and will be removed two minor releases later.\n"
     ]
    }
   ],
   "source": [
    "##### Librerías y modulos #######\n",
    "import pandas as pd\n",
    "import numpy as np\n",
    "import seaborn as sns\n",
    "import matplotlib.pyplot as plt\n",
    "import sklearn\n",
    "from pandas.io import gbq\n",
    "from datetime import datetime\n",
    "import warnings\n",
    "import openpyxl\n",
    "import random\n",
    "import os,json\n",
    "import sys\n",
    "sys.path.insert(0, os.path.join(os.path.dirname(os.getcwd()),'src/'))\n",
    "from funcs_cotizador import *"
   ]
  },
  {
   "cell_type": "code",
   "execution_count": 2,
   "id": "8bd175b2",
   "metadata": {},
   "outputs": [],
   "source": [
    "####### Configuraciones de la notebook (a gusto del usuario) ##########\n",
    "#pd.set_option('display.max_columns', 500)\n",
    "#pd.set_option('display.width', 1000)\n",
    "pd.set_option('display.float_format', lambda x: '%.4f' % x)\n",
    "# warnings\n",
    "warnings.filterwarnings(\"ignore\")"
   ]
  },
  {
   "cell_type": "code",
   "execution_count": 3,
   "id": "a7e68672",
   "metadata": {},
   "outputs": [],
   "source": [
    "#### Parametros de la notebook ####\n",
    "path_save = '../datos/'\n",
    "path_model = '../model/'"
   ]
  },
  {
   "cell_type": "code",
   "execution_count": 4,
   "id": "2e6e02ef",
   "metadata": {},
   "outputs": [],
   "source": [
    "####### requierments ###########\n",
    "#!pip install pandas-gbq"
   ]
  },
  {
   "cell_type": "code",
   "execution_count": 5,
   "id": "f9d86b1f",
   "metadata": {},
   "outputs": [],
   "source": [
    "# Importar tabla OOT de Big Query\n",
    "#df_scoreo_oot = gbq.read_gbq(\"SELECT * FROM `data-team-k.pricing_data.match_meli_ok` WHERE date > '2022-04-19' \", project_id=\"data-team-k\")"
   ]
  },
  {
   "cell_type": "code",
   "execution_count": 6,
   "id": "b2e93c5e",
   "metadata": {},
   "outputs": [],
   "source": [
    "#df_scoreo_oot.head()"
   ]
  },
  {
   "cell_type": "code",
   "execution_count": 7,
   "id": "fe4d9ce9",
   "metadata": {},
   "outputs": [],
   "source": [
    "#df_scoreo_oot.shape"
   ]
  },
  {
   "cell_type": "code",
   "execution_count": 8,
   "id": "173e0c9b",
   "metadata": {},
   "outputs": [],
   "source": [
    "# checkpoint upload\n",
    "#df_scoreo_oot.to_csv('{}df_score_oot_checkpoint.csv'.format(path_save))"
   ]
  },
  {
   "cell_type": "code",
   "execution_count": 9,
   "id": "b2191947",
   "metadata": {},
   "outputs": [],
   "source": [
    "# checkpoint upload\n",
    "df_scoreo_oot = pd.read_csv('{}df_score_oot_checkpoint.csv'.format(path_save))"
   ]
  },
  {
   "cell_type": "code",
   "execution_count": 10,
   "id": "c1f487aa",
   "metadata": {},
   "outputs": [
    {
     "name": "stdout",
     "output_type": "stream",
     "text": [
      "105549\n",
      "2022-04-20 2022-04-20\n"
     ]
    }
   ],
   "source": [
    "# chequeo\n",
    "print(len(df_scoreo_oot))\n",
    "print(df_scoreo_oot.date.min(), df_scoreo_oot.date.max())"
   ]
  },
  {
   "cell_type": "code",
   "execution_count": 11,
   "id": "22e37a36-993f-41bf-9d1b-077ce2bb6ce0",
   "metadata": {},
   "outputs": [],
   "source": [
    "# Creamos la feature marca_modelo_version ya que necesitamos tenerla en el df para las funciones de limpieza\n",
    "df_scoreo_oot['marca_modelo_version'] = df_scoreo_oot['match_marca_a'] + str(' - ') +df_scoreo_oot['match_modelo_a'] + str(' - ') + df_scoreo_oot['match_v1_a']"
   ]
  },
  {
   "cell_type": "markdown",
   "id": "e09f9931",
   "metadata": {},
   "source": [
    "## *Seteo de parametros de la notebook*"
   ]
  },
  {
   "cell_type": "code",
   "execution_count": 12,
   "id": "420d41eb",
   "metadata": {},
   "outputs": [],
   "source": [
    "# Semilla para el .sample()\n",
    "seed = random.randint(10,500)"
   ]
  },
  {
   "cell_type": "markdown",
   "id": "14fec0ed",
   "metadata": {},
   "source": [
    "## 1) Pre procesing"
   ]
  },
  {
   "cell_type": "code",
   "execution_count": 14,
   "id": "88bb439c",
   "metadata": {},
   "outputs": [
    {
     "name": "stdout",
     "output_type": "stream",
     "text": [
      "Hey! 0 were removed due to null values\n",
      "Hey! 7393 were removed due to duplicate values\n",
      "Hey! 745 were removed due those 11111 or 9999 strange values\n",
      "Hey! 10611 were removed due prices in dollars\n",
      "Hey! 50833 were removed due to 0km or concesioarias\n",
      "Hey! 7152 were removed due to match scores under 80%\n",
      "Hey! 0 were removed due to last 15d filter\n",
      "Hey! 13083 were removed due to categories in which we are not interested in score\n"
     ]
    }
   ],
   "source": [
    "# primer tratamiento (incluye todo menos el tratamiento de outliers por contexto)\n",
    "df_scoreo_oot = cleaning_before_split(df_scoreo_oot)"
   ]
  },
  {
   "cell_type": "code",
   "execution_count": 15,
   "id": "7e28bca5",
   "metadata": {},
   "outputs": [
    {
     "data": {
      "text/plain": [
       "(15732, 13)"
      ]
     },
     "execution_count": 15,
     "metadata": {},
     "output_type": "execute_result"
    }
   ],
   "source": [
    "df_scoreo_oot.shape"
   ]
  },
  {
   "cell_type": "code",
   "execution_count": 16,
   "id": "66b769f2",
   "metadata": {},
   "outputs": [
    {
     "data": {
      "text/plain": [
       "runtime                 datetime64[ns]\n",
       "car_id                           int64\n",
       "car_year                         int64\n",
       "car_kms                          int64\n",
       "match_marca_a                   object\n",
       "match_modelo_a                  object\n",
       "match_v1_a                      object\n",
       "marca_modelo_version            object\n",
       "Subseg_a                        object\n",
       "Seg_a                           object\n",
       "price_meli_ok                    int64\n",
       "car_location_1                  object\n",
       "match_v1_c                      object\n",
       "dtype: object"
      ]
     },
     "execution_count": 16,
     "metadata": {},
     "output_type": "execute_result"
    }
   ],
   "source": [
    "df_scoreo_oot.dtypes"
   ]
  },
  {
   "cell_type": "code",
   "execution_count": 17,
   "id": "40dc921c",
   "metadata": {},
   "outputs": [
    {
     "name": "stdout",
     "output_type": "stream",
     "text": [
      "Hey! 168 were removed due to outliers globales\n",
      "Hey! 217 were removed from df due to outliers under context\n"
     ]
    }
   ],
   "source": [
    "# segundo tratamiento (incluye unicamente el tratamiento de outliers por contexto)\n",
    "df_scoreo_oot = cleaning_after_split(df_scoreo_oot,path_save)"
   ]
  },
  {
   "cell_type": "markdown",
   "id": "77da1e8b",
   "metadata": {},
   "source": [
    "## 2) Chequeo de nulls"
   ]
  },
  {
   "cell_type": "code",
   "execution_count": 18,
   "id": "78232c69",
   "metadata": {},
   "outputs": [],
   "source": [
    "model_features = ['car_year','car_kms','match_marca_a','match_modelo_a','match_v1_a','Subseg_a', 'Seg_a']"
   ]
  },
  {
   "cell_type": "code",
   "execution_count": 19,
   "id": "f4d525c2",
   "metadata": {},
   "outputs": [
    {
     "data": {
      "text/plain": [
       "runtime                 0\n",
       "car_id                  0\n",
       "car_year                0\n",
       "car_kms                 0\n",
       "match_marca_a           0\n",
       "match_modelo_a          0\n",
       "match_v1_a              0\n",
       "marca_modelo_version    0\n",
       "Subseg_a                0\n",
       "Seg_a                   0\n",
       "price_meli_ok           0\n",
       "car_location_1          1\n",
       "match_v1_c              0\n",
       "dtype: int64"
      ]
     },
     "execution_count": 19,
     "metadata": {},
     "output_type": "execute_result"
    }
   ],
   "source": [
    "# chequeamos que no haya nulls\n",
    "# debido a que no hay ninguna imputacion de nulos en las funciones de procesamiento, si aparecen nulos aca el predict va a romper\n",
    "# Es por eso que si aparecen, los dropeamos en la proxima celda\n",
    "df_scoreo_oot.isnull().sum()"
   ]
  },
  {
   "cell_type": "code",
   "execution_count": 20,
   "id": "25b8d028",
   "metadata": {},
   "outputs": [],
   "source": [
    "# Eliminamos los registros con nulos\n",
    "for col in model_features:\n",
    "    df_scoreo_oot_final = df_scoreo_oot[~df_scoreo_oot[col].isnull()]"
   ]
  },
  {
   "cell_type": "code",
   "execution_count": 21,
   "id": "61f4d888",
   "metadata": {},
   "outputs": [
    {
     "data": {
      "text/plain": [
       "(15347, 13)"
      ]
     },
     "execution_count": 21,
     "metadata": {},
     "output_type": "execute_result"
    }
   ],
   "source": [
    "df_scoreo_oot_final.shape"
   ]
  },
  {
   "cell_type": "markdown",
   "id": "4e970378",
   "metadata": {},
   "source": [
    "## 3) Seleccion muestra final (50 casos)"
   ]
  },
  {
   "cell_type": "code",
   "execution_count": 24,
   "id": "777f8c09",
   "metadata": {
    "tags": []
   },
   "outputs": [],
   "source": [
    "# Seleccion final de la muestra de 50 registros\n",
    "df_oot_final_sample = df_scoreo_oot_final.sample(n=15000)#, random_state=seed) \n",
    "#df_oot_final_sample"
   ]
  },
  {
   "cell_type": "code",
   "execution_count": 25,
   "id": "3d875077-47ec-4c88-9662-7688fea58e44",
   "metadata": {},
   "outputs": [
    {
     "data": {
      "text/html": [
       "<div>\n",
       "<style scoped>\n",
       "    .dataframe tbody tr th:only-of-type {\n",
       "        vertical-align: middle;\n",
       "    }\n",
       "\n",
       "    .dataframe tbody tr th {\n",
       "        vertical-align: top;\n",
       "    }\n",
       "\n",
       "    .dataframe thead th {\n",
       "        text-align: right;\n",
       "    }\n",
       "</style>\n",
       "<table border=\"1\" class=\"dataframe\">\n",
       "  <thead>\n",
       "    <tr style=\"text-align: right;\">\n",
       "      <th></th>\n",
       "      <th>runtime</th>\n",
       "      <th>car_id</th>\n",
       "      <th>car_year</th>\n",
       "      <th>car_kms</th>\n",
       "      <th>match_marca_a</th>\n",
       "      <th>match_modelo_a</th>\n",
       "      <th>match_v1_a</th>\n",
       "      <th>marca_modelo_version</th>\n",
       "      <th>Subseg_a</th>\n",
       "      <th>Seg_a</th>\n",
       "      <th>price_meli_ok</th>\n",
       "      <th>car_location_1</th>\n",
       "      <th>match_v1_c</th>\n",
       "    </tr>\n",
       "  </thead>\n",
       "  <tbody>\n",
       "    <tr>\n",
       "      <th>7023</th>\n",
       "      <td>2022-04-20 18:00:42</td>\n",
       "      <td>1132360532</td>\n",
       "      <td>2013.0000</td>\n",
       "      <td>85000</td>\n",
       "      <td>PEUGEOT</td>\n",
       "      <td>207</td>\n",
       "      <td>Compact 3Ptas. 1.4 N Active / XR (75cv)</td>\n",
       "      <td>PEUGEOT - 207 - Compact 3Ptas. 1.4 N Active / ...</td>\n",
       "      <td>Gama Pequenos Hatchback</td>\n",
       "      <td>Gama Pequenos</td>\n",
       "      <td>1400000</td>\n",
       "      <td>Bs.As. G.B.A. Norte</td>\n",
       "      <td>COMPACT ACTIVE 1.4 N</td>\n",
       "    </tr>\n",
       "    <tr>\n",
       "      <th>65737</th>\n",
       "      <td>2022-04-20 11:00:28</td>\n",
       "      <td>1132100419</td>\n",
       "      <td>2021.0000</td>\n",
       "      <td>12500</td>\n",
       "      <td>FORD</td>\n",
       "      <td>Ranger</td>\n",
       "      <td>2.2 TDCi C/Doble 4x2 XL 6MT (125cv) (L20)</td>\n",
       "      <td>FORD - Ranger - 2.2 TDCi C/Doble 4x2 XL 6MT (1...</td>\n",
       "      <td>Pickups Medianas-Grandes</td>\n",
       "      <td>Livianos</td>\n",
       "      <td>4770000</td>\n",
       "      <td>Bs.As. G.B.A. Oeste</td>\n",
       "      <td>XL</td>\n",
       "    </tr>\n",
       "    <tr>\n",
       "      <th>40666</th>\n",
       "      <td>2022-04-20 06:00:27</td>\n",
       "      <td>1127465740</td>\n",
       "      <td>2014.0000</td>\n",
       "      <td>218000</td>\n",
       "      <td>TOYOTA</td>\n",
       "      <td>Hilux</td>\n",
       "      <td>2.5 TDI C/D 4x4 DX Pack 2ABG ABS (120cv)</td>\n",
       "      <td>TOYOTA - Hilux - 2.5 TDI C/D 4x4 DX Pack 2ABG ...</td>\n",
       "      <td>Pickups Medianas-Grandes</td>\n",
       "      <td>Livianos</td>\n",
       "      <td>4000000</td>\n",
       "      <td>Bs.As. G.B.A. Norte</td>\n",
       "      <td>4X4</td>\n",
       "    </tr>\n",
       "    <tr>\n",
       "      <th>60093</th>\n",
       "      <td>2022-04-20 15:00:29</td>\n",
       "      <td>1131491726</td>\n",
       "      <td>2018.0000</td>\n",
       "      <td>47654</td>\n",
       "      <td>FORD</td>\n",
       "      <td>Fiesta</td>\n",
       "      <td>Max 4Ptas. 1.6 N Edge Plus</td>\n",
       "      <td>FORD - Fiesta - Max 4Ptas. 1.6 N Edge Plus</td>\n",
       "      <td>Gama Pequenos Hatchback</td>\n",
       "      <td>Gama Pequenos</td>\n",
       "      <td>2750000</td>\n",
       "      <td>Córdoba</td>\n",
       "      <td>1.6L S PLUS</td>\n",
       "    </tr>\n",
       "    <tr>\n",
       "      <th>50195</th>\n",
       "      <td>2022-04-20 10:00:50</td>\n",
       "      <td>1132862231</td>\n",
       "      <td>2018.0000</td>\n",
       "      <td>130000</td>\n",
       "      <td>VOLKSWAGEN</td>\n",
       "      <td>Amarok</td>\n",
       "      <td>3.0 TDI V6 (224cv) 4x4 C/Doble Extreme AT (L17)</td>\n",
       "      <td>VOLKSWAGEN - Amarok - 3.0 TDI V6 (224cv) 4x4 C...</td>\n",
       "      <td>Pickups Medianas-Grandes</td>\n",
       "      <td>Livianos</td>\n",
       "      <td>8800000</td>\n",
       "      <td>Catamarca</td>\n",
       "      <td>DC V6 EXTREME 3.0L TDI 4X4 A</td>\n",
       "    </tr>\n",
       "  </tbody>\n",
       "</table>\n",
       "</div>"
      ],
      "text/plain": [
       "                  runtime      car_id  car_year  car_kms match_marca_a  \\\n",
       "7023  2022-04-20 18:00:42  1132360532 2013.0000    85000       PEUGEOT   \n",
       "65737 2022-04-20 11:00:28  1132100419 2021.0000    12500          FORD   \n",
       "40666 2022-04-20 06:00:27  1127465740 2014.0000   218000        TOYOTA   \n",
       "60093 2022-04-20 15:00:29  1131491726 2018.0000    47654          FORD   \n",
       "50195 2022-04-20 10:00:50  1132862231 2018.0000   130000    VOLKSWAGEN   \n",
       "\n",
       "      match_modelo_a                                       match_v1_a  \\\n",
       "7023             207          Compact 3Ptas. 1.4 N Active / XR (75cv)   \n",
       "65737         Ranger        2.2 TDCi C/Doble 4x2 XL 6MT (125cv) (L20)   \n",
       "40666          Hilux         2.5 TDI C/D 4x4 DX Pack 2ABG ABS (120cv)   \n",
       "60093         Fiesta                       Max 4Ptas. 1.6 N Edge Plus   \n",
       "50195         Amarok  3.0 TDI V6 (224cv) 4x4 C/Doble Extreme AT (L17)   \n",
       "\n",
       "                                    marca_modelo_version  \\\n",
       "7023   PEUGEOT - 207 - Compact 3Ptas. 1.4 N Active / ...   \n",
       "65737  FORD - Ranger - 2.2 TDCi C/Doble 4x2 XL 6MT (1...   \n",
       "40666  TOYOTA - Hilux - 2.5 TDI C/D 4x4 DX Pack 2ABG ...   \n",
       "60093         FORD - Fiesta - Max 4Ptas. 1.6 N Edge Plus   \n",
       "50195  VOLKSWAGEN - Amarok - 3.0 TDI V6 (224cv) 4x4 C...   \n",
       "\n",
       "                       Subseg_a          Seg_a  price_meli_ok  \\\n",
       "7023    Gama Pequenos Hatchback  Gama Pequenos        1400000   \n",
       "65737  Pickups Medianas-Grandes       Livianos        4770000   \n",
       "40666  Pickups Medianas-Grandes       Livianos        4000000   \n",
       "60093   Gama Pequenos Hatchback  Gama Pequenos        2750000   \n",
       "50195  Pickups Medianas-Grandes       Livianos        8800000   \n",
       "\n",
       "            car_location_1                    match_v1_c  \n",
       "7023   Bs.As. G.B.A. Norte          COMPACT ACTIVE 1.4 N  \n",
       "65737  Bs.As. G.B.A. Oeste                            XL  \n",
       "40666  Bs.As. G.B.A. Norte                           4X4  \n",
       "60093              Córdoba                   1.6L S PLUS  \n",
       "50195            Catamarca  DC V6 EXTREME 3.0L TDI 4X4 A  "
      ]
     },
     "execution_count": 25,
     "metadata": {},
     "output_type": "execute_result"
    }
   ],
   "source": [
    "df_oot_final_sample.head()"
   ]
  },
  {
   "cell_type": "code",
   "execution_count": 26,
   "id": "5624e2c6-8ad3-450f-8809-6d306acdadd9",
   "metadata": {},
   "outputs": [
    {
     "name": "stdout",
     "output_type": "stream",
     "text": [
      "2022-04-20 00:00:26 2022-04-20 23:00:59\n"
     ]
    }
   ],
   "source": [
    "# observamos temporalidad de la muestra a scorear\n",
    "print(df_oot_final_sample.runtime.min(),\n",
    "df_oot_final_sample.runtime.max())"
   ]
  },
  {
   "cell_type": "code",
   "execution_count": 27,
   "id": "953134a0",
   "metadata": {},
   "outputs": [],
   "source": [
    "# nos quedamos solo columns las features que usamos en el entrenamiento del modelo para hacer el predict del modelo\n",
    "X_oot = df_oot_final_sample[model_features].copy()"
   ]
  },
  {
   "cell_type": "markdown",
   "id": "2c48a200",
   "metadata": {},
   "source": [
    "## 4) Scoreo de la muestra final"
   ]
  },
  {
   "cell_type": "code",
   "execution_count": 28,
   "id": "adeeb781",
   "metadata": {},
   "outputs": [],
   "source": [
    "# Paso 1: Levantamos el modelo ya entrenado en la notebook anterior\n",
    "import pickle\n",
    "with open('{}model_catboost_v4.pickle'.format(path_model), 'rb') as f:\n",
    "    model = pickle.load(f)"
   ]
  },
  {
   "cell_type": "code",
   "execution_count": 29,
   "id": "c2183347",
   "metadata": {},
   "outputs": [],
   "source": [
    "# Paso 2: predict sobre la data nueva\n",
    "pred = model.predict(X_oot)"
   ]
  },
  {
   "cell_type": "code",
   "execution_count": 30,
   "id": "8fcaafd0",
   "metadata": {},
   "outputs": [
    {
     "data": {
      "text/plain": [
       "numpy.ndarray"
      ]
     },
     "execution_count": 30,
     "metadata": {},
     "output_type": "execute_result"
    }
   ],
   "source": [
    "type(pred)"
   ]
  },
  {
   "cell_type": "code",
   "execution_count": 31,
   "id": "a91f5884",
   "metadata": {},
   "outputs": [
    {
     "data": {
      "text/plain": [
       "15000"
      ]
     },
     "execution_count": 31,
     "metadata": {},
     "output_type": "execute_result"
    }
   ],
   "source": [
    "len(pred)"
   ]
  },
  {
   "cell_type": "markdown",
   "id": "af3ba76a",
   "metadata": {},
   "source": [
    "## 5) Armado del output final"
   ]
  },
  {
   "cell_type": "code",
   "execution_count": 32,
   "id": "6ba35fc5",
   "metadata": {},
   "outputs": [],
   "source": [
    "# Precio promedio en MELI\n",
    "grouped = df_scoreo_oot_final.groupby(['match_marca_a','match_modelo_a','match_v1_a','car_year'], as_index=False)['price_meli_ok'].mean()\n",
    "grouped.rename(columns={'price_meli_ok':'precio_prom_meli'},inplace=True)\n",
    "df_oot_final_sample = df_oot_final_sample.merge(grouped, how='inner', on=['match_marca_a','match_modelo_a','match_v1_a','car_year'])"
   ]
  },
  {
   "cell_type": "code",
   "execution_count": 33,
   "id": "f3aa58e6",
   "metadata": {},
   "outputs": [],
   "source": [
    "df_oot_final_sample['precio_estimado'] = pred"
   ]
  },
  {
   "cell_type": "code",
   "execution_count": 34,
   "id": "05b64814",
   "metadata": {},
   "outputs": [],
   "source": [
    "df_oot_final_sample['precio_estimado'] = df_oot_final_sample['precio_estimado'].astype('int64')\n",
    "df_oot_final_sample['precio_prom_meli'] = df_oot_final_sample['precio_prom_meli'].astype('int64')"
   ]
  },
  {
   "cell_type": "code",
   "execution_count": 35,
   "id": "d6fa80dd",
   "metadata": {},
   "outputs": [],
   "source": [
    "from datetime import datetime\n",
    "df_oot_final_sample['fecha_simulacion'] = datetime.today().strftime('%Y-%m-%d')"
   ]
  },
  {
   "cell_type": "code",
   "execution_count": 36,
   "id": "e5de69f4",
   "metadata": {},
   "outputs": [
    {
     "data": {
      "text/plain": [
       "Index(['runtime', 'car_id', 'car_year', 'car_kms', 'match_marca_a',\n",
       "       'match_modelo_a', 'match_v1_a', 'marca_modelo_version', 'Subseg_a',\n",
       "       'Seg_a', 'price_meli_ok', 'car_location_1', 'match_v1_c',\n",
       "       'precio_prom_meli', 'precio_estimado', 'fecha_simulacion'],\n",
       "      dtype='object')"
      ]
     },
     "execution_count": 36,
     "metadata": {},
     "output_type": "execute_result"
    }
   ],
   "source": [
    "df_oot_final_sample.columns"
   ]
  },
  {
   "cell_type": "code",
   "execution_count": 37,
   "id": "b88e99d1",
   "metadata": {},
   "outputs": [],
   "source": [
    "# Ordenamos las columnas de forma prolija\n",
    "df_oot_final_sample = df_oot_final_sample[['car_id','match_marca_a','match_modelo_a','match_v1_a','marca_modelo_version','match_v1_c'\n",
    "                                                         ,'car_year','car_kms','Seg_a','Subseg_a','car_location_1'\n",
    "                                                         ,'precio_estimado','precio_prom_meli','price_meli_ok','fecha_simulacion']]\n",
    "df_oot_final_sample.rename(columns={'price_meli_ok':'precio_real'},inplace=True)\n",
    "df_oot_final_sample['precio_real'] = df_oot_final_sample['precio_real'].astype('int64')"
   ]
  },
  {
   "cell_type": "code",
   "execution_count": 38,
   "id": "2e45ab8e",
   "metadata": {},
   "outputs": [
    {
     "data": {
      "text/html": [
       "<div>\n",
       "<style scoped>\n",
       "    .dataframe tbody tr th:only-of-type {\n",
       "        vertical-align: middle;\n",
       "    }\n",
       "\n",
       "    .dataframe tbody tr th {\n",
       "        vertical-align: top;\n",
       "    }\n",
       "\n",
       "    .dataframe thead th {\n",
       "        text-align: right;\n",
       "    }\n",
       "</style>\n",
       "<table border=\"1\" class=\"dataframe\">\n",
       "  <thead>\n",
       "    <tr style=\"text-align: right;\">\n",
       "      <th></th>\n",
       "      <th>car_id</th>\n",
       "      <th>match_marca_a</th>\n",
       "      <th>match_modelo_a</th>\n",
       "      <th>match_v1_a</th>\n",
       "      <th>marca_modelo_version</th>\n",
       "      <th>match_v1_c</th>\n",
       "      <th>car_year</th>\n",
       "      <th>car_kms</th>\n",
       "      <th>Seg_a</th>\n",
       "      <th>Subseg_a</th>\n",
       "      <th>car_location_1</th>\n",
       "      <th>precio_estimado</th>\n",
       "      <th>precio_prom_meli</th>\n",
       "      <th>precio_real</th>\n",
       "      <th>fecha_simulacion</th>\n",
       "    </tr>\n",
       "  </thead>\n",
       "  <tbody>\n",
       "    <tr>\n",
       "      <th>0</th>\n",
       "      <td>1132360532</td>\n",
       "      <td>PEUGEOT</td>\n",
       "      <td>207</td>\n",
       "      <td>Compact 3Ptas. 1.4 N Active / XR (75cv)</td>\n",
       "      <td>PEUGEOT - 207 - Compact 3Ptas. 1.4 N Active / ...</td>\n",
       "      <td>COMPACT ACTIVE 1.4 N</td>\n",
       "      <td>2013.0000</td>\n",
       "      <td>85000</td>\n",
       "      <td>Gama Pequenos</td>\n",
       "      <td>Gama Pequenos Hatchback</td>\n",
       "      <td>Bs.As. G.B.A. Norte</td>\n",
       "      <td>1377888</td>\n",
       "      <td>1285535</td>\n",
       "      <td>1400000</td>\n",
       "      <td>2022-04-22</td>\n",
       "    </tr>\n",
       "    <tr>\n",
       "      <th>1</th>\n",
       "      <td>1131748987</td>\n",
       "      <td>PEUGEOT</td>\n",
       "      <td>207</td>\n",
       "      <td>Compact 3Ptas. 1.4 N Active / XR (75cv)</td>\n",
       "      <td>PEUGEOT - 207 - Compact 3Ptas. 1.4 N Active / ...</td>\n",
       "      <td>COMPACT ACTIVE 1.4 N</td>\n",
       "      <td>2013.0000</td>\n",
       "      <td>199000</td>\n",
       "      <td>Gama Pequenos</td>\n",
       "      <td>Gama Pequenos Hatchback</td>\n",
       "      <td>Bs.As. G.B.A. Sur</td>\n",
       "      <td>5729605</td>\n",
       "      <td>1285535</td>\n",
       "      <td>1300000</td>\n",
       "      <td>2022-04-22</td>\n",
       "    </tr>\n",
       "    <tr>\n",
       "      <th>2</th>\n",
       "      <td>1127746963</td>\n",
       "      <td>PEUGEOT</td>\n",
       "      <td>207</td>\n",
       "      <td>Compact 3Ptas. 1.4 N Active / XR (75cv)</td>\n",
       "      <td>PEUGEOT - 207 - Compact 3Ptas. 1.4 N Active / ...</td>\n",
       "      <td>COMPACT ACTIVE 1.4 N</td>\n",
       "      <td>2013.0000</td>\n",
       "      <td>78700</td>\n",
       "      <td>Gama Pequenos</td>\n",
       "      <td>Gama Pequenos Hatchback</td>\n",
       "      <td>Bs.As. G.B.A. Oeste</td>\n",
       "      <td>3941234</td>\n",
       "      <td>1285535</td>\n",
       "      <td>1450000</td>\n",
       "      <td>2022-04-22</td>\n",
       "    </tr>\n",
       "    <tr>\n",
       "      <th>3</th>\n",
       "      <td>1131742409</td>\n",
       "      <td>PEUGEOT</td>\n",
       "      <td>207</td>\n",
       "      <td>Compact 3Ptas. 1.4 N Active / XR (75cv)</td>\n",
       "      <td>PEUGEOT - 207 - Compact 3Ptas. 1.4 N Active / ...</td>\n",
       "      <td>COMPACT ACTIVE 1.4 N</td>\n",
       "      <td>2013.0000</td>\n",
       "      <td>98000</td>\n",
       "      <td>Gama Pequenos</td>\n",
       "      <td>Gama Pequenos Hatchback</td>\n",
       "      <td>Bs.As. G.B.A. Sur</td>\n",
       "      <td>2574177</td>\n",
       "      <td>1285535</td>\n",
       "      <td>1250000</td>\n",
       "      <td>2022-04-22</td>\n",
       "    </tr>\n",
       "    <tr>\n",
       "      <th>4</th>\n",
       "      <td>1124356925</td>\n",
       "      <td>PEUGEOT</td>\n",
       "      <td>207</td>\n",
       "      <td>Compact 3Ptas. 1.4 N Active / XR (75cv)</td>\n",
       "      <td>PEUGEOT - 207 - Compact 3Ptas. 1.4 N Active / ...</td>\n",
       "      <td>COMPACT ACTIVE 1.4 N</td>\n",
       "      <td>2013.0000</td>\n",
       "      <td>106000</td>\n",
       "      <td>Gama Pequenos</td>\n",
       "      <td>Gama Pequenos Hatchback</td>\n",
       "      <td>Capital Federal</td>\n",
       "      <td>8254300</td>\n",
       "      <td>1285535</td>\n",
       "      <td>1250000</td>\n",
       "      <td>2022-04-22</td>\n",
       "    </tr>\n",
       "  </tbody>\n",
       "</table>\n",
       "</div>"
      ],
      "text/plain": [
       "       car_id match_marca_a match_modelo_a  \\\n",
       "0  1132360532       PEUGEOT            207   \n",
       "1  1131748987       PEUGEOT            207   \n",
       "2  1127746963       PEUGEOT            207   \n",
       "3  1131742409       PEUGEOT            207   \n",
       "4  1124356925       PEUGEOT            207   \n",
       "\n",
       "                                match_v1_a  \\\n",
       "0  Compact 3Ptas. 1.4 N Active / XR (75cv)   \n",
       "1  Compact 3Ptas. 1.4 N Active / XR (75cv)   \n",
       "2  Compact 3Ptas. 1.4 N Active / XR (75cv)   \n",
       "3  Compact 3Ptas. 1.4 N Active / XR (75cv)   \n",
       "4  Compact 3Ptas. 1.4 N Active / XR (75cv)   \n",
       "\n",
       "                                marca_modelo_version            match_v1_c  \\\n",
       "0  PEUGEOT - 207 - Compact 3Ptas. 1.4 N Active / ...  COMPACT ACTIVE 1.4 N   \n",
       "1  PEUGEOT - 207 - Compact 3Ptas. 1.4 N Active / ...  COMPACT ACTIVE 1.4 N   \n",
       "2  PEUGEOT - 207 - Compact 3Ptas. 1.4 N Active / ...  COMPACT ACTIVE 1.4 N   \n",
       "3  PEUGEOT - 207 - Compact 3Ptas. 1.4 N Active / ...  COMPACT ACTIVE 1.4 N   \n",
       "4  PEUGEOT - 207 - Compact 3Ptas. 1.4 N Active / ...  COMPACT ACTIVE 1.4 N   \n",
       "\n",
       "   car_year  car_kms          Seg_a                 Subseg_a  \\\n",
       "0 2013.0000    85000  Gama Pequenos  Gama Pequenos Hatchback   \n",
       "1 2013.0000   199000  Gama Pequenos  Gama Pequenos Hatchback   \n",
       "2 2013.0000    78700  Gama Pequenos  Gama Pequenos Hatchback   \n",
       "3 2013.0000    98000  Gama Pequenos  Gama Pequenos Hatchback   \n",
       "4 2013.0000   106000  Gama Pequenos  Gama Pequenos Hatchback   \n",
       "\n",
       "        car_location_1  precio_estimado  precio_prom_meli  precio_real  \\\n",
       "0  Bs.As. G.B.A. Norte          1377888           1285535      1400000   \n",
       "1    Bs.As. G.B.A. Sur          5729605           1285535      1300000   \n",
       "2  Bs.As. G.B.A. Oeste          3941234           1285535      1450000   \n",
       "3    Bs.As. G.B.A. Sur          2574177           1285535      1250000   \n",
       "4      Capital Federal          8254300           1285535      1250000   \n",
       "\n",
       "  fecha_simulacion  \n",
       "0       2022-04-22  \n",
       "1       2022-04-22  \n",
       "2       2022-04-22  \n",
       "3       2022-04-22  \n",
       "4       2022-04-22  "
      ]
     },
     "execution_count": 38,
     "metadata": {},
     "output_type": "execute_result"
    }
   ],
   "source": [
    "# chequeo\n",
    "df_oot_final_sample.head()"
   ]
  },
  {
   "cell_type": "code",
   "execution_count": 39,
   "id": "457877a8",
   "metadata": {},
   "outputs": [
    {
     "data": {
      "text/plain": [
       "count     15000.0000\n",
       "mean    2379477.3857\n",
       "std     1387512.8858\n",
       "min      622080.0000\n",
       "25%     1399851.5000\n",
       "50%     2059989.0000\n",
       "75%     2870296.5000\n",
       "max     9655252.0000\n",
       "Name: precio_estimado, dtype: float64"
      ]
     },
     "execution_count": 39,
     "metadata": {},
     "output_type": "execute_result"
    }
   ],
   "source": [
    "# chequeo\n",
    "df_oot_final_sample.precio_estimado.describe()"
   ]
  },
  {
   "cell_type": "code",
   "execution_count": 40,
   "id": "7bf507c6",
   "metadata": {},
   "outputs": [
    {
     "data": {
      "image/png": "[encoded data removed]",
      "text/plain": [
       "<Figure size 432x288 with 1 Axes>"
      ]
     },
     "metadata": {
      "needs_background": "light"
     },
     "output_type": "display_data"
    }
   ],
   "source": [
    "# chequeo\n",
    "# Distribucion del target\n",
    "df_oot_final_sample['precio_estimado'].hist(bins=25)\n",
    "plt.xlabel('precio_estimado')\n",
    "plt.ylabel(\"Count\")\n",
    "plt.title('precio_estimado')\n",
    "plt.show()"
   ]
  },
  {
   "cell_type": "code",
   "execution_count": 41,
   "id": "09d196ef",
   "metadata": {},
   "outputs": [
    {
     "data": {
      "text/plain": [
       "(15000, 15)"
      ]
     },
     "execution_count": 41,
     "metadata": {},
     "output_type": "execute_result"
    }
   ],
   "source": [
    "df_oot_final_sample.shape"
   ]
  },
  {
   "cell_type": "markdown",
   "id": "db348c92",
   "metadata": {},
   "source": [
    "**Chequeamos R2 y RMSE para la simulacion**"
   ]
  },
  {
   "cell_type": "code",
   "execution_count": 42,
   "id": "c756436d",
   "metadata": {},
   "outputs": [
    {
     "name": "stdout",
     "output_type": "stream",
     "text": [
      "Test set evaluation:\n",
      "_____________________________________\n",
      "MAE: 1409139.3936666667\n",
      "MAPE: 70.36719107214925\n",
      "MEDAPE: 46.336389625447396\n",
      "MSE: 3882240769119.023\n",
      "RMSE: 1970340.2673444562\n",
      "R2 Square -0.9417891212126113\n",
      "__________________________________\n"
     ]
    }
   ],
   "source": [
    "print('Test set evaluation:\\n_____________________________________')\n",
    "print_evaluate(df_oot_final_sample.precio_real, df_oot_final_sample.precio_estimado)"
   ]
  },
  {
   "cell_type": "markdown",
   "id": "ae91eece-f5b6-47b1-8cab-f6dcfe57bc64",
   "metadata": {},
   "source": [
    "#### Accuracy"
   ]
  },
  {
   "cell_type": "code",
   "execution_count": 78,
   "id": "080fb93a-08d4-4916-b0f9-09e07ab63c8e",
   "metadata": {},
   "outputs": [],
   "source": [
    "df_oot_final_sample['menos20perc'] = df_oot_final_sample.precio_estimado * 0.85\n",
    "df_oot_final_sample['mas20perc'] = df_oot_final_sample.precio_estimado * 1.15\n",
    "df_oot_final_sample['menos20perc'] = df_oot_final_sample['menos20perc'].astype('int')\n",
    "df_oot_final_sample['mas20perc'] = df_oot_final_sample['mas20perc'].astype('int')\n",
    "df_oot_final_sample['falls_in_range'] = np.where(\n",
    "    (df_oot_final_sample['precio_real']>=df_oot_final_sample['menos20perc']) & (df_oot_final_sample['precio_real']<=df_oot_final_sample['mas20perc']),1,0)"
   ]
  },
  {
   "cell_type": "code",
   "execution_count": 79,
   "id": "a09fda22-b7b0-4306-bb06-a281b137f306",
   "metadata": {
    "collapsed": true,
    "jupyter": {
     "outputs_hidden": true
    },
    "tags": []
   },
   "outputs": [
    {
     "data": {
      "text/html": [
       "<div>\n",
       "<style scoped>\n",
       "    .dataframe tbody tr th:only-of-type {\n",
       "        vertical-align: middle;\n",
       "    }\n",
       "\n",
       "    .dataframe tbody tr th {\n",
       "        vertical-align: top;\n",
       "    }\n",
       "\n",
       "    .dataframe thead th {\n",
       "        text-align: right;\n",
       "    }\n",
       "</style>\n",
       "<table border=\"1\" class=\"dataframe\">\n",
       "  <thead>\n",
       "    <tr style=\"text-align: right;\">\n",
       "      <th></th>\n",
       "      <th>precio_real</th>\n",
       "      <th>menos20perc</th>\n",
       "      <th>mas20perc</th>\n",
       "      <th>falls_in_range</th>\n",
       "    </tr>\n",
       "  </thead>\n",
       "  <tbody>\n",
       "    <tr>\n",
       "      <th>0</th>\n",
       "      <td>970000</td>\n",
       "      <td>794070</td>\n",
       "      <td>1074331</td>\n",
       "      <td>1</td>\n",
       "    </tr>\n",
       "    <tr>\n",
       "      <th>1</th>\n",
       "      <td>850000</td>\n",
       "      <td>2176646</td>\n",
       "      <td>2944875</td>\n",
       "      <td>0</td>\n",
       "    </tr>\n",
       "    <tr>\n",
       "      <th>2</th>\n",
       "      <td>900000</td>\n",
       "      <td>1187990</td>\n",
       "      <td>1607281</td>\n",
       "      <td>0</td>\n",
       "    </tr>\n",
       "    <tr>\n",
       "      <th>3</th>\n",
       "      <td>900000</td>\n",
       "      <td>5184176</td>\n",
       "      <td>7013885</td>\n",
       "      <td>0</td>\n",
       "    </tr>\n",
       "    <tr>\n",
       "      <th>4</th>\n",
       "      <td>1150000</td>\n",
       "      <td>1637765</td>\n",
       "      <td>2215800</td>\n",
       "      <td>0</td>\n",
       "    </tr>\n",
       "    <tr>\n",
       "      <th>5</th>\n",
       "      <td>2600000</td>\n",
       "      <td>1287870</td>\n",
       "      <td>1742413</td>\n",
       "      <td>0</td>\n",
       "    </tr>\n",
       "    <tr>\n",
       "      <th>6</th>\n",
       "      <td>2800000</td>\n",
       "      <td>1454345</td>\n",
       "      <td>1967644</td>\n",
       "      <td>0</td>\n",
       "    </tr>\n",
       "    <tr>\n",
       "      <th>7</th>\n",
       "      <td>2400000</td>\n",
       "      <td>1853543</td>\n",
       "      <td>2507734</td>\n",
       "      <td>1</td>\n",
       "    </tr>\n",
       "    <tr>\n",
       "      <th>8</th>\n",
       "      <td>3100000</td>\n",
       "      <td>1796931</td>\n",
       "      <td>2431142</td>\n",
       "      <td>0</td>\n",
       "    </tr>\n",
       "    <tr>\n",
       "      <th>9</th>\n",
       "      <td>2725000</td>\n",
       "      <td>1614774</td>\n",
       "      <td>2184695</td>\n",
       "      <td>0</td>\n",
       "    </tr>\n",
       "    <tr>\n",
       "      <th>10</th>\n",
       "      <td>2650000</td>\n",
       "      <td>623794</td>\n",
       "      <td>843957</td>\n",
       "      <td>0</td>\n",
       "    </tr>\n",
       "    <tr>\n",
       "      <th>11</th>\n",
       "      <td>2700000</td>\n",
       "      <td>1101197</td>\n",
       "      <td>1489854</td>\n",
       "      <td>0</td>\n",
       "    </tr>\n",
       "    <tr>\n",
       "      <th>12</th>\n",
       "      <td>2500000</td>\n",
       "      <td>1696695</td>\n",
       "      <td>2295528</td>\n",
       "      <td>0</td>\n",
       "    </tr>\n",
       "    <tr>\n",
       "      <th>13</th>\n",
       "      <td>2690000</td>\n",
       "      <td>725747</td>\n",
       "      <td>981894</td>\n",
       "      <td>0</td>\n",
       "    </tr>\n",
       "    <tr>\n",
       "      <th>14</th>\n",
       "      <td>2650000</td>\n",
       "      <td>1575209</td>\n",
       "      <td>2131166</td>\n",
       "      <td>0</td>\n",
       "    </tr>\n",
       "    <tr>\n",
       "      <th>15</th>\n",
       "      <td>2400000</td>\n",
       "      <td>5034606</td>\n",
       "      <td>6811527</td>\n",
       "      <td>0</td>\n",
       "    </tr>\n",
       "    <tr>\n",
       "      <th>16</th>\n",
       "      <td>2750000</td>\n",
       "      <td>1645883</td>\n",
       "      <td>2226782</td>\n",
       "      <td>0</td>\n",
       "    </tr>\n",
       "    <tr>\n",
       "      <th>17</th>\n",
       "      <td>3000000</td>\n",
       "      <td>886147</td>\n",
       "      <td>1198904</td>\n",
       "      <td>0</td>\n",
       "    </tr>\n",
       "    <tr>\n",
       "      <th>18</th>\n",
       "      <td>2650000</td>\n",
       "      <td>2920442</td>\n",
       "      <td>3951187</td>\n",
       "      <td>0</td>\n",
       "    </tr>\n",
       "    <tr>\n",
       "      <th>19</th>\n",
       "      <td>2550000</td>\n",
       "      <td>1356599</td>\n",
       "      <td>1835398</td>\n",
       "      <td>0</td>\n",
       "    </tr>\n",
       "  </tbody>\n",
       "</table>\n",
       "</div>"
      ],
      "text/plain": [
       "    precio_real  menos20perc  mas20perc  falls_in_range\n",
       "0        970000       794070    1074331               1\n",
       "1        850000      2176646    2944875               0\n",
       "2        900000      1187990    1607281               0\n",
       "3        900000      5184176    7013885               0\n",
       "4       1150000      1637765    2215800               0\n",
       "5       2600000      1287870    1742413               0\n",
       "6       2800000      1454345    1967644               0\n",
       "7       2400000      1853543    2507734               1\n",
       "8       3100000      1796931    2431142               0\n",
       "9       2725000      1614774    2184695               0\n",
       "10      2650000       623794     843957               0\n",
       "11      2700000      1101197    1489854               0\n",
       "12      2500000      1696695    2295528               0\n",
       "13      2690000       725747     981894               0\n",
       "14      2650000      1575209    2131166               0\n",
       "15      2400000      5034606    6811527               0\n",
       "16      2750000      1645883    2226782               0\n",
       "17      3000000       886147    1198904               0\n",
       "18      2650000      2920442    3951187               0\n",
       "19      2550000      1356599    1835398               0"
      ]
     },
     "execution_count": 79,
     "metadata": {},
     "output_type": "execute_result"
    }
   ],
   "source": [
    "df_oot_final_sample[['precio_real','menos20perc','mas20perc','falls_in_range']].head(20)"
   ]
  },
  {
   "cell_type": "code",
   "execution_count": 80,
   "id": "d73a0b31-ed9b-4f36-a210-1b20100a6043",
   "metadata": {},
   "outputs": [
    {
     "data": {
      "text/plain": [
       "0.1611"
      ]
     },
     "execution_count": 80,
     "metadata": {},
     "output_type": "execute_result"
    }
   ],
   "source": [
    "accuracy = df_oot_final_sample.falls_in_range.mean()\n",
    "accuracy"
   ]
  },
  {
   "cell_type": "markdown",
   "id": "81fda0ce-5a5b-4f6f-a079-42488c2d0a04",
   "metadata": {
    "jp-MarkdownHeadingCollapsed": true,
    "tags": []
   },
   "source": [
    "#### Detectemos los casos que estan dando muy mal para ver si son versiones que efectivamente entran dentro de los grupos 1,2 y 3"
   ]
  },
  {
   "cell_type": "code",
   "execution_count": 255,
   "id": "648c6118-9f60-4745-a99b-2cfd239f3cdd",
   "metadata": {},
   "outputs": [
    {
     "data": {
      "text/plain": [
       "Index(['car_id', 'match_marca_a', 'match_modelo_a', 'match_v1_a',\n",
       "       'marca_modelo_version', 'match_v1_c', 'car_year', 'car_kms', 'Seg_a',\n",
       "       'Subseg_a', 'car_location_1', 'precio_estimado', 'precio_prom_meli',\n",
       "       'precio_real', 'fecha_simulacion', 'menos20perc', 'mas20perc',\n",
       "       'falls_in_range'],\n",
       "      dtype='object')"
      ]
     },
     "execution_count": 255,
     "metadata": {},
     "output_type": "execute_result"
    }
   ],
   "source": [
    "df_oot_final_sample.columns"
   ]
  },
  {
   "cell_type": "code",
   "execution_count": 222,
   "id": "a3cb27e3-848f-47e1-b407-e0b45b8077c3",
   "metadata": {},
   "outputs": [],
   "source": [
    "df_grupos = pd.read_csv('{}df_grupos.csv'.format(path_save), index_col=[0])"
   ]
  },
  {
   "cell_type": "code",
   "execution_count": 223,
   "id": "4000ca70-2243-43fe-a5ac-96df9332adb8",
   "metadata": {},
   "outputs": [
    {
     "data": {
      "text/html": [
       "<div>\n",
       "<style scoped>\n",
       "    .dataframe tbody tr th:only-of-type {\n",
       "        vertical-align: middle;\n",
       "    }\n",
       "\n",
       "    .dataframe tbody tr th {\n",
       "        vertical-align: top;\n",
       "    }\n",
       "\n",
       "    .dataframe thead th {\n",
       "        text-align: right;\n",
       "    }\n",
       "</style>\n",
       "<table border=\"1\" class=\"dataframe\">\n",
       "  <thead>\n",
       "    <tr style=\"text-align: right;\">\n",
       "      <th></th>\n",
       "      <th>marca</th>\n",
       "      <th>modelo</th>\n",
       "      <th>version</th>\n",
       "      <th>marca_modelo_version</th>\n",
       "      <th>grupos</th>\n",
       "    </tr>\n",
       "  </thead>\n",
       "  <tbody>\n",
       "    <tr>\n",
       "      <th>0</th>\n",
       "      <td>VOLKSWAGEN</td>\n",
       "      <td>Gol Trend</td>\n",
       "      <td>1.6 MSI 5Ptas. Trendline (101cv) (L17)</td>\n",
       "      <td>VOLKSWAGEN - Gol Trend - 1.6 MSI 5Ptas. Trendl...</td>\n",
       "      <td>1</td>\n",
       "    </tr>\n",
       "    <tr>\n",
       "      <th>1</th>\n",
       "      <td>PEUGEOT</td>\n",
       "      <td>308</td>\n",
       "      <td>Allure 1.6 HDI NAV (115cv) 5Ptas. (L16)</td>\n",
       "      <td>PEUGEOT - 308 - Allure 1.6 HDI NAV (115cv) 5Pt...</td>\n",
       "      <td>1</td>\n",
       "    </tr>\n",
       "    <tr>\n",
       "      <th>2</th>\n",
       "      <td>VOLKSWAGEN</td>\n",
       "      <td>Gol</td>\n",
       "      <td>1.6 3Ptas. Power</td>\n",
       "      <td>VOLKSWAGEN - Gol - 1.6 3Ptas. Power</td>\n",
       "      <td>1</td>\n",
       "    </tr>\n",
       "    <tr>\n",
       "      <th>3</th>\n",
       "      <td>RENAULT</td>\n",
       "      <td>Kangoo</td>\n",
       "      <td>1.6 Expression / Confort AA LV2 TRF 2ABG RACK ...</td>\n",
       "      <td>RENAULT - Kangoo - 1.6 Expression / Confort AA...</td>\n",
       "      <td>1</td>\n",
       "    </tr>\n",
       "    <tr>\n",
       "      <th>4</th>\n",
       "      <td>PEUGEOT</td>\n",
       "      <td>208</td>\n",
       "      <td>1.6 N 16v Feline Tiptronic (115cv) (L18)</td>\n",
       "      <td>PEUGEOT - 208 - 1.6 N 16v Feline Tiptronic (11...</td>\n",
       "      <td>1</td>\n",
       "    </tr>\n",
       "    <tr>\n",
       "      <th>...</th>\n",
       "      <td>...</td>\n",
       "      <td>...</td>\n",
       "      <td>...</td>\n",
       "      <td>...</td>\n",
       "      <td>...</td>\n",
       "    </tr>\n",
       "    <tr>\n",
       "      <th>218</th>\n",
       "      <td>FIAT</td>\n",
       "      <td>Punto</td>\n",
       "      <td>1.4 Attractive / ELX Pack Top 5Ptas. (87cv)</td>\n",
       "      <td>FIAT - Punto - 1.4 Attractive / ELX Pack Top 5...</td>\n",
       "      <td>1</td>\n",
       "    </tr>\n",
       "    <tr>\n",
       "      <th>219</th>\n",
       "      <td>FORD</td>\n",
       "      <td>Fiesta</td>\n",
       "      <td>5Ptas. 1.4 TD Edge</td>\n",
       "      <td>FORD - Fiesta - 5Ptas. 1.4 TD Edge</td>\n",
       "      <td>1</td>\n",
       "    </tr>\n",
       "    <tr>\n",
       "      <th>220</th>\n",
       "      <td>CHEVROLET</td>\n",
       "      <td>Zafira</td>\n",
       "      <td>GLS 2.0 16v</td>\n",
       "      <td>CHEVROLET - Zafira - GLS 2.0 16v</td>\n",
       "      <td>1</td>\n",
       "    </tr>\n",
       "    <tr>\n",
       "      <th>221</th>\n",
       "      <td>AUDI</td>\n",
       "      <td>Q5</td>\n",
       "      <td>2.0 TFSi S-Tronic Quattro (211cv)</td>\n",
       "      <td>AUDI - Q5 - 2.0 TFSi S-Tronic Quattro (211cv)</td>\n",
       "      <td>1</td>\n",
       "    </tr>\n",
       "    <tr>\n",
       "      <th>222</th>\n",
       "      <td>FIAT</td>\n",
       "      <td>Palio</td>\n",
       "      <td>Fire 1.4 Pack Top 5Ptas.</td>\n",
       "      <td>FIAT - Palio - Fire 1.4 Pack Top 5Ptas.</td>\n",
       "      <td>1</td>\n",
       "    </tr>\n",
       "  </tbody>\n",
       "</table>\n",
       "<p>223 rows × 5 columns</p>\n",
       "</div>"
      ],
      "text/plain": [
       "          marca     modelo                                            version  \\\n",
       "0    VOLKSWAGEN  Gol Trend             1.6 MSI 5Ptas. Trendline (101cv) (L17)   \n",
       "1       PEUGEOT        308            Allure 1.6 HDI NAV (115cv) 5Ptas. (L16)   \n",
       "2    VOLKSWAGEN        Gol                                   1.6 3Ptas. Power   \n",
       "3       RENAULT     Kangoo  1.6 Expression / Confort AA LV2 TRF 2ABG RACK ...   \n",
       "4       PEUGEOT        208           1.6 N 16v Feline Tiptronic (115cv) (L18)   \n",
       "..          ...        ...                                                ...   \n",
       "218        FIAT      Punto        1.4 Attractive / ELX Pack Top 5Ptas. (87cv)   \n",
       "219        FORD     Fiesta                                 5Ptas. 1.4 TD Edge   \n",
       "220   CHEVROLET     Zafira                                        GLS 2.0 16v   \n",
       "221        AUDI         Q5                  2.0 TFSi S-Tronic Quattro (211cv)   \n",
       "222        FIAT      Palio                           Fire 1.4 Pack Top 5Ptas.   \n",
       "\n",
       "                                  marca_modelo_version  grupos  \n",
       "0    VOLKSWAGEN - Gol Trend - 1.6 MSI 5Ptas. Trendl...       1  \n",
       "1    PEUGEOT - 308 - Allure 1.6 HDI NAV (115cv) 5Pt...       1  \n",
       "2                  VOLKSWAGEN - Gol - 1.6 3Ptas. Power       1  \n",
       "3    RENAULT - Kangoo - 1.6 Expression / Confort AA...       1  \n",
       "4    PEUGEOT - 208 - 1.6 N 16v Feline Tiptronic (11...       1  \n",
       "..                                                 ...     ...  \n",
       "218  FIAT - Punto - 1.4 Attractive / ELX Pack Top 5...       1  \n",
       "219                 FORD - Fiesta - 5Ptas. 1.4 TD Edge       1  \n",
       "220                   CHEVROLET - Zafira - GLS 2.0 16v       1  \n",
       "221      AUDI - Q5 - 2.0 TFSi S-Tronic Quattro (211cv)       1  \n",
       "222            FIAT - Palio - Fire 1.4 Pack Top 5Ptas.       1  \n",
       "\n",
       "[223 rows x 5 columns]"
      ]
     },
     "execution_count": 223,
     "metadata": {},
     "output_type": "execute_result"
    }
   ],
   "source": [
    "df_grupos"
   ]
  },
  {
   "cell_type": "code",
   "execution_count": 224,
   "id": "837ba7d9-f945-44d8-8ed5-8f90a54e3cf2",
   "metadata": {},
   "outputs": [],
   "source": [
    "df_oot_final_sample = df_oot_final_sample.merge(df_grupos[['marca_modelo_version','grupos']], how='left', left_on='marca_modelo_version'\n",
    "                                                ,right_on='marca_modelo_version')"
   ]
  },
  {
   "cell_type": "code",
   "execution_count": 225,
   "id": "ecbe6ea3-3dff-4b1c-8f7e-2f96f862139e",
   "metadata": {},
   "outputs": [
    {
     "data": {
      "text/plain": [
       "array([1])"
      ]
     },
     "execution_count": 225,
     "metadata": {},
     "output_type": "execute_result"
    }
   ],
   "source": [
    "# chequeamos si hay nulos porque si los hay significa que esa marca-modelo-version no estan en los grupos 1,2 o3\n",
    "df_oot_final_sample.grupos.unique()"
   ]
  },
  {
   "cell_type": "code",
   "execution_count": 226,
   "id": "f63f0ac5-fe4e-4e0a-930b-085e46b1b364",
   "metadata": {},
   "outputs": [
    {
     "data": {
      "text/plain": [
       "grupos\n",
       "1   0.2400\n",
       "Name: falls_in_range, dtype: float64"
      ]
     },
     "execution_count": 226,
     "metadata": {},
     "output_type": "execute_result"
    }
   ],
   "source": [
    "df_oot_final_sample.groupby('grupos')['falls_in_range'].mean()"
   ]
  },
  {
   "cell_type": "markdown",
   "id": "49810955-6755-4344-a668-bd1a5e03e55f",
   "metadata": {},
   "source": [
    "#### Usar la tecnica de los deciles (en base al precio y luego en base a la cantidad) y ver ahí las metricas por grupo. En principio verlo desde la nb de train. Previo a todo re-entrenar poniendo el split primero de todo."
   ]
  },
  {
   "cell_type": "code",
   "execution_count": 81,
   "id": "1f37b374-f722-44c9-b8bc-a5bed2130510",
   "metadata": {},
   "outputs": [],
   "source": [
    "y_true = df_oot_final_sample.precio_real\n",
    "deciles_y_true = y_true.quantile([0.1,0.2,0.3,0.4,0.5,0.6,0.7,0.8,0.9,1])"
   ]
  },
  {
   "cell_type": "code",
   "execution_count": 82,
   "id": "641afb3b-4ecd-493a-b2ae-89ef4104c74b",
   "metadata": {},
   "outputs": [
    {
     "data": {
      "text/plain": [
       "0.1000   1000000.0000\n",
       "0.2000   1300000.0000\n",
       "0.3000   1530000.0000\n",
       "0.4000   1800000.0000\n",
       "0.5000   2012500.0000\n",
       "0.6000   2300000.0000\n",
       "0.7000   2605450.0000\n",
       "0.8000   3200000.0000\n",
       "0.9000   4000000.0000\n",
       "1.0000   9450000.0000\n",
       "Name: precio_real, dtype: float64"
      ]
     },
     "execution_count": 82,
     "metadata": {},
     "output_type": "execute_result"
    }
   ],
   "source": [
    "deciles_y_true"
   ]
  },
  {
   "cell_type": "code",
   "execution_count": 83,
   "id": "978864e8-15bb-4b9d-a352-d4eac10fc36e",
   "metadata": {},
   "outputs": [],
   "source": [
    "d1 = deciles_y_true.values[0]\n",
    "d2 = deciles_y_true.values[1]\n",
    "d3 = deciles_y_true.values[2]\n",
    "d4 = deciles_y_true.values[3]\n",
    "d5 = deciles_y_true.values[4]\n",
    "d6 = deciles_y_true.values[5]\n",
    "d7 = deciles_y_true.values[6]\n",
    "d8 = deciles_y_true.values[7]\n",
    "d9 = deciles_y_true.values[8]\n",
    "d10 = deciles_y_true.values[9]"
   ]
  },
  {
   "cell_type": "code",
   "execution_count": 84,
   "id": "90c5d513-717c-428c-933f-65cff604cc9b",
   "metadata": {},
   "outputs": [],
   "source": [
    "# We discretize the vector of true labels to see it in deciles\n",
    "y_true_disc = np.where(y_true <= d1, 'd01',\n",
    "                       np.where((y_true > d1) & (y_true <= d2), 'd02',\n",
    "                               np.where((y_true > d2) & (y_true <= d3), 'd03',\n",
    "                                       np.where((y_true > d3) & (y_true <= d4), 'd04',\n",
    "                                               np.where((y_true > d4) & (y_true <= d5), 'd05',\n",
    "                                                       np.where((y_true > d5) & (y_true <= d6), 'd06',\n",
    "                                                               np.where((y_true > d6) & (y_true <= d7), 'd07',\n",
    "                                                                       np.where((y_true > d7) & (y_true <= d8), 'd08',\n",
    "                                                                               np.where((y_true > d8) & (y_true <= d9), 'd09',\n",
    "                                                                                       np.where((y_true > d9) & (y_true <= d10), 'd10','out_of_bounds'))))))))))"
   ]
  },
  {
   "cell_type": "code",
   "execution_count": 85,
   "id": "38cd1d4c-ed64-43ad-828c-5ccf81fe8a53",
   "metadata": {},
   "outputs": [
    {
     "data": {
      "text/plain": [
       "d04    1098\n",
       "d02    1082\n",
       "d08    1071\n",
       "d06    1047\n",
       "d01    1038\n",
       "d10     993\n",
       "d07     953\n",
       "d09     936\n",
       "d05     898\n",
       "d03     884\n",
       "dtype: int64"
      ]
     },
     "execution_count": 85,
     "metadata": {},
     "output_type": "execute_result"
    }
   ],
   "source": [
    "pd.Series(y_true_disc).value_counts()"
   ]
  },
  {
   "cell_type": "code",
   "execution_count": 86,
   "id": "4b3860f9-7ade-4227-975c-45766a8caabb",
   "metadata": {},
   "outputs": [],
   "source": [
    "pred = df_oot_final_sample.precio_estimado"
   ]
  },
  {
   "cell_type": "code",
   "execution_count": 87,
   "id": "7496f281-44f7-4ea7-9e82-aa95fb3990c6",
   "metadata": {},
   "outputs": [],
   "source": [
    "# We discretize the vector of predictions to see it in deciles, using the values learned in the vector of true labels \n",
    "y_pred_disc = np.where(pred <= d1, 'd01',\n",
    "                       np.where((pred > d1) & (pred <= d2), 'd02',\n",
    "                               np.where((pred > d2) & (pred <= d3), 'd03',\n",
    "                                       np.where((pred > d3) & (pred <= d4), 'd04',\n",
    "                                               np.where((pred > d4) & (pred <= d5), 'd05',\n",
    "                                                       np.where((pred > d5) & (pred <= d6), 'd06',\n",
    "                                                               np.where((pred > d6) & (pred <= d7), 'd07',\n",
    "                                                                       np.where((pred > d7) & (pred <= d8), 'd08',\n",
    "                                                                               np.where((pred > d8) & (pred <= d9), 'd09',\n",
    "                                                                                       np.where((pred > d9) & (pred <= d10), 'd10','out_of_bounds'))))))))))"
   ]
  },
  {
   "cell_type": "code",
   "execution_count": 88,
   "id": "ada01d81-0e58-48ad-9131-00234cdb1611",
   "metadata": {},
   "outputs": [
    {
     "data": {
      "text/plain": [
       "d02    1246\n",
       "d06    1225\n",
       "d08    1102\n",
       "d10    1036\n",
       "d03     963\n",
       "d07     916\n",
       "d05     903\n",
       "d04     886\n",
       "d09     880\n",
       "d01     843\n",
       "dtype: int64"
      ]
     },
     "execution_count": 88,
     "metadata": {},
     "output_type": "execute_result"
    }
   ],
   "source": [
    "pd.Series(y_pred_disc).value_counts()"
   ]
  },
  {
   "cell_type": "code",
   "execution_count": 89,
   "id": "da01180c-bd18-4a51-afd6-b959bdb3048b",
   "metadata": {},
   "outputs": [],
   "source": [
    "def plot_confusion_matrix(cm, classes,\n",
    "                          title='Confusion matrix',\n",
    "                          cmap=plt.cm.Blues):\n",
    "\n",
    "    plt.figure(figsize=(8,8))\n",
    "    plt.imshow(cm, interpolation='nearest', cmap=cmap)\n",
    "    plt.title(title)\n",
    "    tick_marks = np.arange(len(classes))\n",
    "    plt.xticks(tick_marks, classes)\n",
    "    plt.yticks(tick_marks, classes)\n",
    "\n",
    "    thresh = cm.max() / 2.\n",
    "    for i, j in it.product(range(cm.shape[0]), range(cm.shape[1])):\n",
    "        plt.text(j, i, round(cm[i, j],2),\n",
    "                 horizontalalignment=\"center\",\n",
    "                 color=\"white\" if cm[i, j] > thresh else \"black\")\n",
    "\n",
    "    plt.tight_layout()\n",
    "    plt.ylabel('True label discretized')\n",
    "    plt.xlabel('Predicted label discretized')\n",
    "    plt.show()"
   ]
  },
  {
   "cell_type": "code",
   "execution_count": 90,
   "id": "2c1f109b-4d78-444e-b9d7-6e26efea9c06",
   "metadata": {},
   "outputs": [
    {
     "data": {
      "image/png": "[encoded data removed]",
      "text/plain": [
       "<Figure size 576x576 with 1 Axes>"
      ]
     },
     "metadata": {
      "needs_background": "light"
     },
     "output_type": "display_data"
    }
   ],
   "source": [
    "# Confusion matrix grouped in deciles \n",
    "from sklearn.metrics import confusion_matrix\n",
    "cm = confusion_matrix(y_true=y_true_disc, y_pred=y_pred_disc, normalize='true')\n",
    "classes = ['d1','d2','d3','d4','d5','d6','d7','d8','d9','d10']\n",
    "plot_confusion_matrix(cm=cm, classes=classes)"
   ]
  },
  {
   "cell_type": "code",
   "execution_count": null,
   "id": "20338b35-1106-480f-bfb0-8b1a2d29516f",
   "metadata": {},
   "outputs": [],
   "source": []
  },
  {
   "cell_type": "markdown",
   "id": "f56bba2b",
   "metadata": {},
   "source": [
    "**Guardamos la simulacion**"
   ]
  },
  {
   "cell_type": "code",
   "execution_count": 43,
   "id": "08deb146",
   "metadata": {},
   "outputs": [],
   "source": [
    "# Guardamos el rdo final\n",
    "current_date = datetime.today().strftime('%Y-%m-%d')\n",
    "df_oot_final_sample.to_excel(f'simulacion_{current_date}.xlsx')\n",
    "# en esta última linea, poner el path que querramos para guardar el output"
   ]
  },
  {
   "cell_type": "markdown",
   "id": "f9d84d55",
   "metadata": {},
   "source": [
    "\n",
    "---\n",
    "Fin notebook"
   ]
  }
 ],
 "metadata": {
  "kernelspec": {
   "display_name": "Python 3 (ipykernel)",
   "language": "python",
   "name": "python3"
  },
  "language_info": {
   "codemirror_mode": {
    "name": "ipython",
    "version": 3
   },
   "file_extension": ".py",
   "mimetype": "text/x-python",
   "name": "python",
   "nbconvert_exporter": "python",
   "pygments_lexer": "ipython3",
   "version": "3.9.7"
  }
 },
 "nbformat": 4,
 "nbformat_minor": 5
}
