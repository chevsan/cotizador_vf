{
 "cells": [
  {
   "cell_type": "markdown",
   "id": "49349c49-80e9-45b2-807f-3047262c5623",
   "metadata": {},
   "source": [
    "Tocaría simplemente tomar la ultima parte de la nb de model_train y adaptarla para que quede una nb de simulacion que todos los días scoree los registros (en los cuales estamos interesados) actualmente activos en el día en cuestion (tener en cuenta el 1d de delay: ej si hoy es 22 la nb corre para el 21), luego evaluar la performance para ver si se mantiene respecto a test y a las anteriores simulaciones y por ultimo hacer una sample de 50 filas sobre las cuales volveremos a correr la func de performance y por ultimo sacar esas 50 filas a un excel. Como punto de mejora estaría bueno que a ese excel saquemos otra pestaña que diga la performance global de todos los registros y a su vez la cantidad de registros scoreados. "
   ]
  },
  {
   "cell_type": "code",
   "execution_count": null,
   "id": "4c43a4e2-4b98-4592-b5be-30c252c537d8",
   "metadata": {},
   "outputs": [],
   "source": []
  }
 ],
 "metadata": {
  "kernelspec": {
   "display_name": "Python 3 (ipykernel)",
   "language": "python",
   "name": "python3"
  },
  "language_info": {
   "codemirror_mode": {
    "name": "ipython",
    "version": 3
   },
   "file_extension": ".py",
   "mimetype": "text/x-python",
   "name": "python",
   "nbconvert_exporter": "python",
   "pygments_lexer": "ipython3",
   "version": "3.9.7"
  }
 },
 "nbformat": 4,
 "nbformat_minor": 5
}
